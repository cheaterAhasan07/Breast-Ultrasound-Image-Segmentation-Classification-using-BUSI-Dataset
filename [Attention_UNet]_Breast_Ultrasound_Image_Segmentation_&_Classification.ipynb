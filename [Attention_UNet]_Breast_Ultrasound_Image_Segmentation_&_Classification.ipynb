{
  "cells": [
    {
      "cell_type": "code",
      "execution_count": null,
      "metadata": {
        "id": "6zJtdeD6u-T5"
      },
      "outputs": [],
      "source": []
    },
    {
      "cell_type": "code",
      "execution_count": null,
      "metadata": {
        "colab": {
          "base_uri": "https://localhost:8080/"
        },
        "id": "5Psrcjaru-Qb",
        "outputId": "c5110658-3159-462e-a4c4-13c229c16ae0"
      },
      "outputs": [
        {
          "name": "stdout",
          "output_type": "stream",
          "text": [
            "Using device: cuda\n",
            "Drive already mounted at /content/drive; to attempt to forcibly remount, call drive.mount(\"/content/drive\", force_remount=True).\n",
            "\n",
            "Contents of /content/drive/MyDrive:\n",
            "['SEO.gdoc', 'Acess Control codes.gdoc', 'archive (14)', 'Colab Notebooks']\n",
            "\n",
            "Found dataset at: /content/drive/MyDrive/archive (14)/Dataset_BUSI_with_GT\n",
            "Contents of dataset folder: ['malignant', 'benign', 'normal']\n",
            "Found directory: /content/drive/MyDrive/archive (14)/Dataset_BUSI_with_GT/benign\n",
            "  Contains 437 images and 437 masks\n",
            "Found directory: /content/drive/MyDrive/archive (14)/Dataset_BUSI_with_GT/malignant\n",
            "  Contains 210 images and 210 masks\n",
            "Found directory: /content/drive/MyDrive/archive (14)/Dataset_BUSI_with_GT/normal\n",
            "  Contains 133 images and 133 masks\n",
            "Skipping sample with empty mask: /content/drive/MyDrive/archive (14)/Dataset_BUSI_with_GT/normal/normal (1)_mask.png\n",
            "Skipping sample with empty mask: /content/drive/MyDrive/archive (14)/Dataset_BUSI_with_GT/normal/normal (10)_mask.png\n",
            "Skipping sample with empty mask: /content/drive/MyDrive/archive (14)/Dataset_BUSI_with_GT/normal/normal (100)_mask.png\n",
            "Skipping sample with empty mask: /content/drive/MyDrive/archive (14)/Dataset_BUSI_with_GT/normal/normal (101)_mask.png\n",
            "Skipping sample with empty mask: /content/drive/MyDrive/archive (14)/Dataset_BUSI_with_GT/normal/normal (102)_mask.png\n",
            "Skipping sample with empty mask: /content/drive/MyDrive/archive (14)/Dataset_BUSI_with_GT/normal/normal (103)_mask.png\n",
            "Skipping sample with empty mask: /content/drive/MyDrive/archive (14)/Dataset_BUSI_with_GT/normal/normal (104)_mask.png\n",
            "Skipping sample with empty mask: /content/drive/MyDrive/archive (14)/Dataset_BUSI_with_GT/normal/normal (105)_mask.png\n",
            "Skipping sample with empty mask: /content/drive/MyDrive/archive (14)/Dataset_BUSI_with_GT/normal/normal (106)_mask.png\n",
            "Skipping sample with empty mask: /content/drive/MyDrive/archive (14)/Dataset_BUSI_with_GT/normal/normal (107)_mask.png\n",
            "Skipping sample with empty mask: /content/drive/MyDrive/archive (14)/Dataset_BUSI_with_GT/normal/normal (108)_mask.png\n",
            "Skipping sample with empty mask: /content/drive/MyDrive/archive (14)/Dataset_BUSI_with_GT/normal/normal (109)_mask.png\n",
            "Skipping sample with empty mask: /content/drive/MyDrive/archive (14)/Dataset_BUSI_with_GT/normal/normal (11)_mask.png\n",
            "Skipping sample with empty mask: /content/drive/MyDrive/archive (14)/Dataset_BUSI_with_GT/normal/normal (110)_mask.png\n",
            "Skipping sample with empty mask: /content/drive/MyDrive/archive (14)/Dataset_BUSI_with_GT/normal/normal (111)_mask.png\n",
            "Skipping sample with empty mask: /content/drive/MyDrive/archive (14)/Dataset_BUSI_with_GT/normal/normal (112)_mask.png\n",
            "Skipping sample with empty mask: /content/drive/MyDrive/archive (14)/Dataset_BUSI_with_GT/normal/normal (113)_mask.png\n",
            "Skipping sample with empty mask: /content/drive/MyDrive/archive (14)/Dataset_BUSI_with_GT/normal/normal (114)_mask.png\n",
            "Skipping sample with empty mask: /content/drive/MyDrive/archive (14)/Dataset_BUSI_with_GT/normal/normal (115)_mask.png\n",
            "Skipping sample with empty mask: /content/drive/MyDrive/archive (14)/Dataset_BUSI_with_GT/normal/normal (116)_mask.png\n",
            "Skipping sample with empty mask: /content/drive/MyDrive/archive (14)/Dataset_BUSI_with_GT/normal/normal (117)_mask.png\n",
            "Skipping sample with empty mask: /content/drive/MyDrive/archive (14)/Dataset_BUSI_with_GT/normal/normal (118)_mask.png\n",
            "Skipping sample with empty mask: /content/drive/MyDrive/archive (14)/Dataset_BUSI_with_GT/normal/normal (119)_mask.png\n",
            "Skipping sample with empty mask: /content/drive/MyDrive/archive (14)/Dataset_BUSI_with_GT/normal/normal (12)_mask.png\n",
            "Skipping sample with empty mask: /content/drive/MyDrive/archive (14)/Dataset_BUSI_with_GT/normal/normal (120)_mask.png\n",
            "Skipping sample with empty mask: /content/drive/MyDrive/archive (14)/Dataset_BUSI_with_GT/normal/normal (121)_mask.png\n",
            "Skipping sample with empty mask: /content/drive/MyDrive/archive (14)/Dataset_BUSI_with_GT/normal/normal (122)_mask.png\n",
            "Skipping sample with empty mask: /content/drive/MyDrive/archive (14)/Dataset_BUSI_with_GT/normal/normal (123)_mask.png\n",
            "Skipping sample with empty mask: /content/drive/MyDrive/archive (14)/Dataset_BUSI_with_GT/normal/normal (124)_mask.png\n",
            "Skipping sample with empty mask: /content/drive/MyDrive/archive (14)/Dataset_BUSI_with_GT/normal/normal (125)_mask.png\n",
            "Skipping sample with empty mask: /content/drive/MyDrive/archive (14)/Dataset_BUSI_with_GT/normal/normal (126)_mask.png\n",
            "Skipping sample with empty mask: /content/drive/MyDrive/archive (14)/Dataset_BUSI_with_GT/normal/normal (127)_mask.png\n",
            "Skipping sample with empty mask: /content/drive/MyDrive/archive (14)/Dataset_BUSI_with_GT/normal/normal (128)_mask.png\n",
            "Skipping sample with empty mask: /content/drive/MyDrive/archive (14)/Dataset_BUSI_with_GT/normal/normal (129)_mask.png\n",
            "Skipping sample with empty mask: /content/drive/MyDrive/archive (14)/Dataset_BUSI_with_GT/normal/normal (13)_mask.png\n",
            "Skipping sample with empty mask: /content/drive/MyDrive/archive (14)/Dataset_BUSI_with_GT/normal/normal (130)_mask.png\n",
            "Skipping sample with empty mask: /content/drive/MyDrive/archive (14)/Dataset_BUSI_with_GT/normal/normal (131)_mask.png\n",
            "Skipping sample with empty mask: /content/drive/MyDrive/archive (14)/Dataset_BUSI_with_GT/normal/normal (132)_mask.png\n",
            "Skipping sample with empty mask: /content/drive/MyDrive/archive (14)/Dataset_BUSI_with_GT/normal/normal (133)_mask.png\n",
            "Skipping sample with empty mask: /content/drive/MyDrive/archive (14)/Dataset_BUSI_with_GT/normal/normal (14)_mask.png\n",
            "Skipping sample with empty mask: /content/drive/MyDrive/archive (14)/Dataset_BUSI_with_GT/normal/normal (15)_mask.png\n",
            "Skipping sample with empty mask: /content/drive/MyDrive/archive (14)/Dataset_BUSI_with_GT/normal/normal (16)_mask.png\n",
            "Skipping sample with empty mask: /content/drive/MyDrive/archive (14)/Dataset_BUSI_with_GT/normal/normal (17)_mask.png\n",
            "Skipping sample with empty mask: /content/drive/MyDrive/archive (14)/Dataset_BUSI_with_GT/normal/normal (18)_mask.png\n",
            "Skipping sample with empty mask: /content/drive/MyDrive/archive (14)/Dataset_BUSI_with_GT/normal/normal (19)_mask.png\n",
            "Skipping sample with empty mask: /content/drive/MyDrive/archive (14)/Dataset_BUSI_with_GT/normal/normal (2)_mask.png\n",
            "Skipping sample with empty mask: /content/drive/MyDrive/archive (14)/Dataset_BUSI_with_GT/normal/normal (20)_mask.png\n",
            "Skipping sample with empty mask: /content/drive/MyDrive/archive (14)/Dataset_BUSI_with_GT/normal/normal (21)_mask.png\n",
            "Skipping sample with empty mask: /content/drive/MyDrive/archive (14)/Dataset_BUSI_with_GT/normal/normal (22)_mask.png\n",
            "Skipping sample with empty mask: /content/drive/MyDrive/archive (14)/Dataset_BUSI_with_GT/normal/normal (23)_mask.png\n",
            "Skipping sample with empty mask: /content/drive/MyDrive/archive (14)/Dataset_BUSI_with_GT/normal/normal (24)_mask.png\n",
            "Skipping sample with empty mask: /content/drive/MyDrive/archive (14)/Dataset_BUSI_with_GT/normal/normal (25)_mask.png\n",
            "Skipping sample with empty mask: /content/drive/MyDrive/archive (14)/Dataset_BUSI_with_GT/normal/normal (26)_mask.png\n",
            "Skipping sample with empty mask: /content/drive/MyDrive/archive (14)/Dataset_BUSI_with_GT/normal/normal (27)_mask.png\n",
            "Skipping sample with empty mask: /content/drive/MyDrive/archive (14)/Dataset_BUSI_with_GT/normal/normal (28)_mask.png\n",
            "Skipping sample with empty mask: /content/drive/MyDrive/archive (14)/Dataset_BUSI_with_GT/normal/normal (29)_mask.png\n",
            "Skipping sample with empty mask: /content/drive/MyDrive/archive (14)/Dataset_BUSI_with_GT/normal/normal (3)_mask.png\n",
            "Skipping sample with empty mask: /content/drive/MyDrive/archive (14)/Dataset_BUSI_with_GT/normal/normal (30)_mask.png\n",
            "Skipping sample with empty mask: /content/drive/MyDrive/archive (14)/Dataset_BUSI_with_GT/normal/normal (31)_mask.png\n",
            "Skipping sample with empty mask: /content/drive/MyDrive/archive (14)/Dataset_BUSI_with_GT/normal/normal (32)_mask.png\n",
            "Skipping sample with empty mask: /content/drive/MyDrive/archive (14)/Dataset_BUSI_with_GT/normal/normal (33)_mask.png\n",
            "Skipping sample with empty mask: /content/drive/MyDrive/archive (14)/Dataset_BUSI_with_GT/normal/normal (34)_mask.png\n",
            "Skipping sample with empty mask: /content/drive/MyDrive/archive (14)/Dataset_BUSI_with_GT/normal/normal (35)_mask.png\n",
            "Skipping sample with empty mask: /content/drive/MyDrive/archive (14)/Dataset_BUSI_with_GT/normal/normal (36)_mask.png\n",
            "Skipping sample with empty mask: /content/drive/MyDrive/archive (14)/Dataset_BUSI_with_GT/normal/normal (37)_mask.png\n",
            "Skipping sample with empty mask: /content/drive/MyDrive/archive (14)/Dataset_BUSI_with_GT/normal/normal (38)_mask.png\n",
            "Skipping sample with empty mask: /content/drive/MyDrive/archive (14)/Dataset_BUSI_with_GT/normal/normal (39)_mask.png\n",
            "Skipping sample with empty mask: /content/drive/MyDrive/archive (14)/Dataset_BUSI_with_GT/normal/normal (4)_mask.png\n",
            "Skipping sample with empty mask: /content/drive/MyDrive/archive (14)/Dataset_BUSI_with_GT/normal/normal (40)_mask.png\n",
            "Skipping sample with empty mask: /content/drive/MyDrive/archive (14)/Dataset_BUSI_with_GT/normal/normal (41)_mask.png\n",
            "Skipping sample with empty mask: /content/drive/MyDrive/archive (14)/Dataset_BUSI_with_GT/normal/normal (42)_mask.png\n",
            "Skipping sample with empty mask: /content/drive/MyDrive/archive (14)/Dataset_BUSI_with_GT/normal/normal (43)_mask.png\n",
            "Skipping sample with empty mask: /content/drive/MyDrive/archive (14)/Dataset_BUSI_with_GT/normal/normal (44)_mask.png\n",
            "Skipping sample with empty mask: /content/drive/MyDrive/archive (14)/Dataset_BUSI_with_GT/normal/normal (45)_mask.png\n",
            "Skipping sample with empty mask: /content/drive/MyDrive/archive (14)/Dataset_BUSI_with_GT/normal/normal (46)_mask.png\n",
            "Skipping sample with empty mask: /content/drive/MyDrive/archive (14)/Dataset_BUSI_with_GT/normal/normal (47)_mask.png\n",
            "Skipping sample with empty mask: /content/drive/MyDrive/archive (14)/Dataset_BUSI_with_GT/normal/normal (48)_mask.png\n",
            "Skipping sample with empty mask: /content/drive/MyDrive/archive (14)/Dataset_BUSI_with_GT/normal/normal (49)_mask.png\n",
            "Skipping sample with empty mask: /content/drive/MyDrive/archive (14)/Dataset_BUSI_with_GT/normal/normal (5)_mask.png\n",
            "Skipping sample with empty mask: /content/drive/MyDrive/archive (14)/Dataset_BUSI_with_GT/normal/normal (50)_mask.png\n",
            "Skipping sample with empty mask: /content/drive/MyDrive/archive (14)/Dataset_BUSI_with_GT/normal/normal (51)_mask.png\n",
            "Skipping sample with empty mask: /content/drive/MyDrive/archive (14)/Dataset_BUSI_with_GT/normal/normal (52)_mask.png\n",
            "Skipping sample with empty mask: /content/drive/MyDrive/archive (14)/Dataset_BUSI_with_GT/normal/normal (53)_mask.png\n",
            "Skipping sample with empty mask: /content/drive/MyDrive/archive (14)/Dataset_BUSI_with_GT/normal/normal (54)_mask.png\n",
            "Skipping sample with empty mask: /content/drive/MyDrive/archive (14)/Dataset_BUSI_with_GT/normal/normal (55)_mask.png\n",
            "Skipping sample with empty mask: /content/drive/MyDrive/archive (14)/Dataset_BUSI_with_GT/normal/normal (56)_mask.png\n",
            "Skipping sample with empty mask: /content/drive/MyDrive/archive (14)/Dataset_BUSI_with_GT/normal/normal (57)_mask.png\n",
            "Skipping sample with empty mask: /content/drive/MyDrive/archive (14)/Dataset_BUSI_with_GT/normal/normal (58)_mask.png\n",
            "Skipping sample with empty mask: /content/drive/MyDrive/archive (14)/Dataset_BUSI_with_GT/normal/normal (59)_mask.png\n",
            "Skipping sample with empty mask: /content/drive/MyDrive/archive (14)/Dataset_BUSI_with_GT/normal/normal (6)_mask.png\n",
            "Skipping sample with empty mask: /content/drive/MyDrive/archive (14)/Dataset_BUSI_with_GT/normal/normal (60)_mask.png\n",
            "Skipping sample with empty mask: /content/drive/MyDrive/archive (14)/Dataset_BUSI_with_GT/normal/normal (61)_mask.png\n",
            "Skipping sample with empty mask: /content/drive/MyDrive/archive (14)/Dataset_BUSI_with_GT/normal/normal (62)_mask.png\n",
            "Skipping sample with empty mask: /content/drive/MyDrive/archive (14)/Dataset_BUSI_with_GT/normal/normal (63)_mask.png\n",
            "Skipping sample with empty mask: /content/drive/MyDrive/archive (14)/Dataset_BUSI_with_GT/normal/normal (64)_mask.png\n",
            "Skipping sample with empty mask: /content/drive/MyDrive/archive (14)/Dataset_BUSI_with_GT/normal/normal (65)_mask.png\n",
            "Skipping sample with empty mask: /content/drive/MyDrive/archive (14)/Dataset_BUSI_with_GT/normal/normal (66)_mask.png\n",
            "Skipping sample with empty mask: /content/drive/MyDrive/archive (14)/Dataset_BUSI_with_GT/normal/normal (67)_mask.png\n",
            "Skipping sample with empty mask: /content/drive/MyDrive/archive (14)/Dataset_BUSI_with_GT/normal/normal (68)_mask.png\n",
            "Skipping sample with empty mask: /content/drive/MyDrive/archive (14)/Dataset_BUSI_with_GT/normal/normal (69)_mask.png\n",
            "Skipping sample with empty mask: /content/drive/MyDrive/archive (14)/Dataset_BUSI_with_GT/normal/normal (7)_mask.png\n",
            "Skipping sample with empty mask: /content/drive/MyDrive/archive (14)/Dataset_BUSI_with_GT/normal/normal (70)_mask.png\n",
            "Skipping sample with empty mask: /content/drive/MyDrive/archive (14)/Dataset_BUSI_with_GT/normal/normal (71)_mask.png\n",
            "Skipping sample with empty mask: /content/drive/MyDrive/archive (14)/Dataset_BUSI_with_GT/normal/normal (72)_mask.png\n",
            "Skipping sample with empty mask: /content/drive/MyDrive/archive (14)/Dataset_BUSI_with_GT/normal/normal (73)_mask.png\n",
            "Skipping sample with empty mask: /content/drive/MyDrive/archive (14)/Dataset_BUSI_with_GT/normal/normal (74)_mask.png\n",
            "Skipping sample with empty mask: /content/drive/MyDrive/archive (14)/Dataset_BUSI_with_GT/normal/normal (75)_mask.png\n",
            "Skipping sample with empty mask: /content/drive/MyDrive/archive (14)/Dataset_BUSI_with_GT/normal/normal (76)_mask.png\n",
            "Skipping sample with empty mask: /content/drive/MyDrive/archive (14)/Dataset_BUSI_with_GT/normal/normal (77)_mask.png\n",
            "Skipping sample with empty mask: /content/drive/MyDrive/archive (14)/Dataset_BUSI_with_GT/normal/normal (78)_mask.png\n",
            "Skipping sample with empty mask: /content/drive/MyDrive/archive (14)/Dataset_BUSI_with_GT/normal/normal (79)_mask.png\n",
            "Skipping sample with empty mask: /content/drive/MyDrive/archive (14)/Dataset_BUSI_with_GT/normal/normal (8)_mask.png\n",
            "Skipping sample with empty mask: /content/drive/MyDrive/archive (14)/Dataset_BUSI_with_GT/normal/normal (80)_mask.png\n",
            "Skipping sample with empty mask: /content/drive/MyDrive/archive (14)/Dataset_BUSI_with_GT/normal/normal (81)_mask.png\n",
            "Skipping sample with empty mask: /content/drive/MyDrive/archive (14)/Dataset_BUSI_with_GT/normal/normal (82)_mask.png\n",
            "Skipping sample with empty mask: /content/drive/MyDrive/archive (14)/Dataset_BUSI_with_GT/normal/normal (83)_mask.png\n",
            "Skipping sample with empty mask: /content/drive/MyDrive/archive (14)/Dataset_BUSI_with_GT/normal/normal (84)_mask.png\n",
            "Skipping sample with empty mask: /content/drive/MyDrive/archive (14)/Dataset_BUSI_with_GT/normal/normal (85)_mask.png\n",
            "Skipping sample with empty mask: /content/drive/MyDrive/archive (14)/Dataset_BUSI_with_GT/normal/normal (86)_mask.png\n",
            "Skipping sample with empty mask: /content/drive/MyDrive/archive (14)/Dataset_BUSI_with_GT/normal/normal (87)_mask.png\n",
            "Skipping sample with empty mask: /content/drive/MyDrive/archive (14)/Dataset_BUSI_with_GT/normal/normal (88)_mask.png\n",
            "Skipping sample with empty mask: /content/drive/MyDrive/archive (14)/Dataset_BUSI_with_GT/normal/normal (89)_mask.png\n",
            "Skipping sample with empty mask: /content/drive/MyDrive/archive (14)/Dataset_BUSI_with_GT/normal/normal (9)_mask.png\n",
            "Skipping sample with empty mask: /content/drive/MyDrive/archive (14)/Dataset_BUSI_with_GT/normal/normal (90)_mask.png\n",
            "Skipping sample with empty mask: /content/drive/MyDrive/archive (14)/Dataset_BUSI_with_GT/normal/normal (91)_mask.png\n",
            "Skipping sample with empty mask: /content/drive/MyDrive/archive (14)/Dataset_BUSI_with_GT/normal/normal (92)_mask.png\n",
            "Skipping sample with empty mask: /content/drive/MyDrive/archive (14)/Dataset_BUSI_with_GT/normal/normal (93)_mask.png\n",
            "Skipping sample with empty mask: /content/drive/MyDrive/archive (14)/Dataset_BUSI_with_GT/normal/normal (94)_mask.png\n",
            "Skipping sample with empty mask: /content/drive/MyDrive/archive (14)/Dataset_BUSI_with_GT/normal/normal (95)_mask.png\n",
            "Skipping sample with empty mask: /content/drive/MyDrive/archive (14)/Dataset_BUSI_with_GT/normal/normal (96)_mask.png\n",
            "Skipping sample with empty mask: /content/drive/MyDrive/archive (14)/Dataset_BUSI_with_GT/normal/normal (97)_mask.png\n",
            "Skipping sample with empty mask: /content/drive/MyDrive/archive (14)/Dataset_BUSI_with_GT/normal/normal (98)_mask.png\n",
            "Skipping sample with empty mask: /content/drive/MyDrive/archive (14)/Dataset_BUSI_with_GT/normal/normal (99)_mask.png\n",
            "\n",
            "Dataset successfully initialized with 647 valid samples (BUSI dataset with speckle noise)\n"
          ]
        },
        {
          "name": "stderr",
          "output_type": "stream",
          "text": [
            "\rEpoch 1/5:   0%|          | 0/130 [00:00<?, ?it/s]"
          ]
        },
        {
          "name": "stdout",
          "output_type": "stream",
          "text": [
            "Error loading /content/drive/MyDrive/archive (14)/Dataset_BUSI_with_GT/benign/benign (102).png: Unexpected type <class 'dict'>\n",
            "Error loading /content/drive/MyDrive/archive (14)/Dataset_BUSI_with_GT/benign/benign (330).png: img should be PIL Image. Got <class 'dict'>\n",
            "Error loading /content/drive/MyDrive/archive (14)/Dataset_BUSI_with_GT/malignant/malignant (148).png: img should be PIL Image. Got <class 'dict'>\n",
            "Error loading /content/drive/MyDrive/archive (14)/Dataset_BUSI_with_GT/benign/benign (337).png: Unexpected type <class 'dict'>\n"
          ]
        },
        {
          "name": "stderr",
          "output_type": "stream",
          "text": [
            "\rEpoch 1/5:   1%|          | 1/130 [00:00<01:02,  2.06it/s]"
          ]
        },
        {
          "name": "stdout",
          "output_type": "stream",
          "text": [
            "Error loading /content/drive/MyDrive/archive (14)/Dataset_BUSI_with_GT/benign/benign (210).png: Unexpected type <class 'dict'>\n",
            "Error loading /content/drive/MyDrive/archive (14)/Dataset_BUSI_with_GT/benign/benign (269).png: img should be PIL Image. Got <class 'dict'>\n",
            "Error loading /content/drive/MyDrive/archive (14)/Dataset_BUSI_with_GT/malignant/malignant (156).png: img should be PIL Image. Got <class 'dict'>\n",
            "Error loading /content/drive/MyDrive/archive (14)/Dataset_BUSI_with_GT/benign/benign (367).png: Unexpected type <class 'dict'>\n"
          ]
        },
        {
          "name": "stderr",
          "output_type": "stream",
          "text": [
            "\rEpoch 1/5:   2%|▏         | 2/130 [00:00<00:51,  2.47it/s]"
          ]
        },
        {
          "name": "stdout",
          "output_type": "stream",
          "text": [
            "Error loading /content/drive/MyDrive/archive (14)/Dataset_BUSI_with_GT/benign/benign (161).png: img should be PIL Image. Got <class 'dict'>\n",
            "Error loading /content/drive/MyDrive/archive (14)/Dataset_BUSI_with_GT/benign/benign (125).png: img should be PIL Image. Got <class 'dict'>\n",
            "Error loading /content/drive/MyDrive/archive (14)/Dataset_BUSI_with_GT/benign/benign (327).png: img should be PIL Image. Got <class 'dict'>\n",
            "Error loading /content/drive/MyDrive/archive (14)/Dataset_BUSI_with_GT/benign/benign (239).png: Unexpected type <class 'dict'>\n"
          ]
        },
        {
          "name": "stderr",
          "output_type": "stream",
          "text": [
            "\rEpoch 1/5:   2%|▏         | 3/130 [00:01<00:51,  2.47it/s]"
          ]
        },
        {
          "name": "stdout",
          "output_type": "stream",
          "text": [
            "Error loading /content/drive/MyDrive/archive (14)/Dataset_BUSI_with_GT/benign/benign (37).png: img should be PIL Image. Got <class 'dict'>\n",
            "Error loading /content/drive/MyDrive/archive (14)/Dataset_BUSI_with_GT/benign/benign (108).png: Unexpected type <class 'dict'>\n",
            "Error loading /content/drive/MyDrive/archive (14)/Dataset_BUSI_with_GT/benign/benign (220).png: img should be PIL Image. Got <class 'dict'>\n",
            "Error loading /content/drive/MyDrive/archive (14)/Dataset_BUSI_with_GT/malignant/malignant (167).png: Unexpected type <class 'dict'>\n"
          ]
        },
        {
          "name": "stderr",
          "output_type": "stream",
          "text": [
            "\rEpoch 1/5:   3%|▎         | 4/130 [00:01<00:49,  2.53it/s]"
          ]
        },
        {
          "name": "stdout",
          "output_type": "stream",
          "text": [
            "Error loading /content/drive/MyDrive/archive (14)/Dataset_BUSI_with_GT/malignant/malignant (149).png: Unexpected type <class 'dict'>\n",
            "Error loading /content/drive/MyDrive/archive (14)/Dataset_BUSI_with_GT/malignant/malignant (178).png: Unexpected type <class 'dict'>\n",
            "Error loading /content/drive/MyDrive/archive (14)/Dataset_BUSI_with_GT/benign/benign (391).png: Unexpected type <class 'dict'>\n",
            "Error loading /content/drive/MyDrive/archive (14)/Dataset_BUSI_with_GT/benign/benign (68).png: img should be PIL Image. Got <class 'dict'>\n"
          ]
        },
        {
          "name": "stderr",
          "output_type": "stream",
          "text": [
            "\rEpoch 1/5:   4%|▍         | 5/130 [00:02<00:50,  2.48it/s]"
          ]
        },
        {
          "name": "stdout",
          "output_type": "stream",
          "text": [
            "Error loading /content/drive/MyDrive/archive (14)/Dataset_BUSI_with_GT/benign/benign (88).png: img should be PIL Image. Got <class 'dict'>\n",
            "Error loading /content/drive/MyDrive/archive (14)/Dataset_BUSI_with_GT/benign/benign (222).png: Unexpected type <class 'dict'>\n",
            "Error loading /content/drive/MyDrive/archive (14)/Dataset_BUSI_with_GT/malignant/malignant (76).png: img should be PIL Image. Got <class 'dict'>\n",
            "Error loading /content/drive/MyDrive/archive (14)/Dataset_BUSI_with_GT/benign/benign (13).png: img should be PIL Image. Got <class 'dict'>\n"
          ]
        },
        {
          "name": "stderr",
          "output_type": "stream",
          "text": [
            "\rEpoch 1/5:   5%|▍         | 6/130 [00:02<00:51,  2.43it/s]"
          ]
        },
        {
          "name": "stdout",
          "output_type": "stream",
          "text": [
            "Error loading /content/drive/MyDrive/archive (14)/Dataset_BUSI_with_GT/malignant/malignant (202).png: img should be PIL Image. Got <class 'dict'>\n",
            "Error loading /content/drive/MyDrive/archive (14)/Dataset_BUSI_with_GT/benign/benign (321).png: img should be PIL Image. Got <class 'dict'>\n",
            "Error loading /content/drive/MyDrive/archive (14)/Dataset_BUSI_with_GT/malignant/malignant (25).png: img should be PIL Image. Got <class 'dict'>\n",
            "Error loading /content/drive/MyDrive/archive (14)/Dataset_BUSI_with_GT/benign/benign (358).png: Unexpected type <class 'dict'>\n"
          ]
        },
        {
          "name": "stderr",
          "output_type": "stream",
          "text": [
            "\rEpoch 1/5:   5%|▌         | 7/130 [00:02<00:50,  2.45it/s]"
          ]
        },
        {
          "name": "stdout",
          "output_type": "stream",
          "text": [
            "Error loading /content/drive/MyDrive/archive (14)/Dataset_BUSI_with_GT/benign/benign (93).png: img should be PIL Image. Got <class 'dict'>\n",
            "Error loading /content/drive/MyDrive/archive (14)/Dataset_BUSI_with_GT/benign/benign (135).png: img should be PIL Image. Got <class 'dict'>\n",
            "Error loading /content/drive/MyDrive/archive (14)/Dataset_BUSI_with_GT/malignant/malignant (40).png: img should be PIL Image. Got <class 'dict'>\n",
            "Error loading /content/drive/MyDrive/archive (14)/Dataset_BUSI_with_GT/benign/benign (359).png: Unexpected type <class 'dict'>\n"
          ]
        },
        {
          "name": "stderr",
          "output_type": "stream",
          "text": [
            "\rEpoch 1/5:   6%|▌         | 8/130 [00:03<00:49,  2.49it/s]"
          ]
        },
        {
          "name": "stdout",
          "output_type": "stream",
          "text": [
            "Error loading /content/drive/MyDrive/archive (14)/Dataset_BUSI_with_GT/malignant/malignant (92).png: Unexpected type <class 'dict'>\n",
            "Error loading /content/drive/MyDrive/archive (14)/Dataset_BUSI_with_GT/benign/benign (221).png: Unexpected type <class 'dict'>\n",
            "Error loading /content/drive/MyDrive/archive (14)/Dataset_BUSI_with_GT/benign/benign (81).png: img should be PIL Image. Got <class 'dict'>\n",
            "Error loading /content/drive/MyDrive/archive (14)/Dataset_BUSI_with_GT/benign/benign (31).png: img should be PIL Image. Got <class 'dict'>\n"
          ]
        },
        {
          "name": "stderr",
          "output_type": "stream",
          "text": [
            "\rEpoch 1/5:   7%|▋         | 9/130 [00:03<00:47,  2.54it/s]"
          ]
        },
        {
          "name": "stdout",
          "output_type": "stream",
          "text": [
            "Error loading /content/drive/MyDrive/archive (14)/Dataset_BUSI_with_GT/benign/benign (281).png: img should be PIL Image. Got <class 'dict'>\n",
            "Error loading /content/drive/MyDrive/archive (14)/Dataset_BUSI_with_GT/malignant/malignant (158).png: img should be PIL Image. Got <class 'dict'>\n",
            "Error loading /content/drive/MyDrive/archive (14)/Dataset_BUSI_with_GT/benign/benign (414).png: img should be PIL Image. Got <class 'dict'>\n",
            "Error loading /content/drive/MyDrive/archive (14)/Dataset_BUSI_with_GT/benign/benign (15).png: img should be PIL Image. Got <class 'dict'>\n"
          ]
        },
        {
          "name": "stderr",
          "output_type": "stream",
          "text": [
            "\rEpoch 1/5:   8%|▊         | 10/130 [00:04<00:47,  2.53it/s]"
          ]
        },
        {
          "name": "stdout",
          "output_type": "stream",
          "text": [
            "Error loading /content/drive/MyDrive/archive (14)/Dataset_BUSI_with_GT/benign/benign (156).png: img should be PIL Image. Got <class 'dict'>\n",
            "Error loading /content/drive/MyDrive/archive (14)/Dataset_BUSI_with_GT/benign/benign (19).png: Unexpected type <class 'dict'>\n",
            "Error loading /content/drive/MyDrive/archive (14)/Dataset_BUSI_with_GT/benign/benign (69).png: img should be PIL Image. Got <class 'dict'>\n"
          ]
        },
        {
          "name": "stderr",
          "output_type": "stream",
          "text": [
            "\rEpoch 1/5:   8%|▊         | 11/130 [00:04<00:49,  2.40it/s]"
          ]
        },
        {
          "name": "stdout",
          "output_type": "stream",
          "text": [
            "Error loading /content/drive/MyDrive/archive (14)/Dataset_BUSI_with_GT/benign/benign (189).png: Unexpected type <class 'dict'>\n",
            "Error loading /content/drive/MyDrive/archive (14)/Dataset_BUSI_with_GT/benign/benign (377).png: img should be PIL Image. Got <class 'dict'>\n",
            "Error loading /content/drive/MyDrive/archive (14)/Dataset_BUSI_with_GT/benign/benign (301).png: img should be PIL Image. Got <class 'dict'>\n",
            "Error loading /content/drive/MyDrive/archive (14)/Dataset_BUSI_with_GT/malignant/malignant (136).png: img should be PIL Image. Got <class 'dict'>\n",
            "Error loading /content/drive/MyDrive/archive (14)/Dataset_BUSI_with_GT/benign/benign (284).png: img should be PIL Image. Got <class 'dict'>\n"
          ]
        },
        {
          "name": "stderr",
          "output_type": "stream",
          "text": [
            "\rEpoch 1/5:   9%|▉         | 12/130 [00:04<00:46,  2.52it/s]"
          ]
        },
        {
          "name": "stdout",
          "output_type": "stream",
          "text": [
            "Error loading /content/drive/MyDrive/archive (14)/Dataset_BUSI_with_GT/malignant/malignant (36).png: Unexpected type <class 'dict'>\n",
            "Error loading /content/drive/MyDrive/archive (14)/Dataset_BUSI_with_GT/benign/benign (123).png: Unexpected type <class 'dict'>\n",
            "Error loading /content/drive/MyDrive/archive (14)/Dataset_BUSI_with_GT/malignant/malignant (37).png: img should be PIL Image. Got <class 'dict'>\n",
            "Error loading /content/drive/MyDrive/archive (14)/Dataset_BUSI_with_GT/malignant/malignant (64).png: img should be PIL Image. Got <class 'dict'>\n"
          ]
        },
        {
          "name": "stderr",
          "output_type": "stream",
          "text": [
            "\rEpoch 1/5:  10%|█         | 13/130 [00:05<00:46,  2.50it/s]"
          ]
        },
        {
          "name": "stdout",
          "output_type": "stream",
          "text": [
            "Error loading /content/drive/MyDrive/archive (14)/Dataset_BUSI_with_GT/benign/benign (253).png: Unexpected type <class 'dict'>\n",
            "Error loading /content/drive/MyDrive/archive (14)/Dataset_BUSI_with_GT/benign/benign (231).png: Unexpected type <class 'dict'>\n",
            "Error loading /content/drive/MyDrive/archive (14)/Dataset_BUSI_with_GT/benign/benign (429).png: Unexpected type <class 'dict'>\n",
            "Error loading /content/drive/MyDrive/archive (14)/Dataset_BUSI_with_GT/benign/benign (174).png: Unexpected type <class 'dict'>\n"
          ]
        },
        {
          "name": "stderr",
          "output_type": "stream",
          "text": [
            "\rEpoch 1/5:  11%|█         | 14/130 [00:05<00:44,  2.60it/s]"
          ]
        },
        {
          "name": "stdout",
          "output_type": "stream",
          "text": [
            "Error loading /content/drive/MyDrive/archive (14)/Dataset_BUSI_with_GT/benign/benign (306).png: img should be PIL Image. Got <class 'dict'>\n",
            "Error loading /content/drive/MyDrive/archive (14)/Dataset_BUSI_with_GT/malignant/malignant (94).png: img should be PIL Image. Got <class 'dict'>\n",
            "Error loading /content/drive/MyDrive/archive (14)/Dataset_BUSI_with_GT/benign/benign (379).png: img should be PIL Image. Got <class 'dict'>\n",
            "Error loading /content/drive/MyDrive/archive (14)/Dataset_BUSI_with_GT/malignant/malignant (155).png: img should be PIL Image. Got <class 'dict'>\n"
          ]
        },
        {
          "name": "stderr",
          "output_type": "stream",
          "text": [
            "\rEpoch 1/5:  12%|█▏        | 15/130 [00:05<00:44,  2.58it/s]"
          ]
        },
        {
          "name": "stdout",
          "output_type": "stream",
          "text": [
            "Error loading /content/drive/MyDrive/archive (14)/Dataset_BUSI_with_GT/benign/benign (138).png: Unexpected type <class 'dict'>\n",
            "Error loading /content/drive/MyDrive/archive (14)/Dataset_BUSI_with_GT/malignant/malignant (45).png: Unexpected type <class 'dict'>\n",
            "Error loading /content/drive/MyDrive/archive (14)/Dataset_BUSI_with_GT/benign/benign (400).png: Unexpected type <class 'dict'>\n"
          ]
        },
        {
          "name": "stderr",
          "output_type": "stream",
          "text": [
            "\rEpoch 1/5:  12%|█▏        | 16/130 [00:06<00:47,  2.39it/s]"
          ]
        },
        {
          "name": "stdout",
          "output_type": "stream",
          "text": [
            "Error loading /content/drive/MyDrive/archive (14)/Dataset_BUSI_with_GT/malignant/malignant (201).png: img should be PIL Image. Got <class 'dict'>\n",
            "Error loading /content/drive/MyDrive/archive (14)/Dataset_BUSI_with_GT/benign/benign (213).png: Unexpected type <class 'dict'>\n",
            "Error loading /content/drive/MyDrive/archive (14)/Dataset_BUSI_with_GT/benign/benign (423).png: Unexpected type <class 'dict'>\n",
            "Error loading /content/drive/MyDrive/archive (14)/Dataset_BUSI_with_GT/benign/benign (91).png: Unexpected type <class 'dict'>\n",
            "Error loading /content/drive/MyDrive/archive (14)/Dataset_BUSI_with_GT/benign/benign (190).png: Unexpected type <class 'dict'>\n"
          ]
        },
        {
          "name": "stderr",
          "output_type": "stream",
          "text": [
            "\rEpoch 1/5:  13%|█▎        | 17/130 [00:06<00:47,  2.40it/s]"
          ]
        },
        {
          "name": "stdout",
          "output_type": "stream",
          "text": [
            "Error loading /content/drive/MyDrive/archive (14)/Dataset_BUSI_with_GT/benign/benign (360).png: img should be PIL Image. Got <class 'dict'>\n",
            "Error loading /content/drive/MyDrive/archive (14)/Dataset_BUSI_with_GT/benign/benign (211).png: Unexpected type <class 'dict'>\n",
            "Error loading /content/drive/MyDrive/archive (14)/Dataset_BUSI_with_GT/benign/benign (86).png: Unexpected type <class 'dict'>\n",
            "Error loading /content/drive/MyDrive/archive (14)/Dataset_BUSI_with_GT/malignant/malignant (86).png: img should be PIL Image. Got <class 'dict'>\n"
          ]
        },
        {
          "name": "stderr",
          "output_type": "stream",
          "text": [
            "\rEpoch 1/5:  14%|█▍        | 18/130 [00:07<00:46,  2.39it/s]"
          ]
        },
        {
          "name": "stdout",
          "output_type": "stream",
          "text": [
            "Error loading /content/drive/MyDrive/archive (14)/Dataset_BUSI_with_GT/malignant/malignant (13).png: Unexpected type <class 'dict'>\n",
            "Error loading /content/drive/MyDrive/archive (14)/Dataset_BUSI_with_GT/benign/benign (244).png: img should be PIL Image. Got <class 'dict'>\n",
            "Error loading /content/drive/MyDrive/archive (14)/Dataset_BUSI_with_GT/benign/benign (65).png: img should be PIL Image. Got <class 'dict'>\n",
            "Error loading /content/drive/MyDrive/archive (14)/Dataset_BUSI_with_GT/benign/benign (199).png: Unexpected type <class 'dict'>\n"
          ]
        },
        {
          "name": "stderr",
          "output_type": "stream",
          "text": [
            "\rEpoch 1/5:  15%|█▍        | 19/130 [00:07<00:44,  2.50it/s]"
          ]
        },
        {
          "name": "stdout",
          "output_type": "stream",
          "text": [
            "Error loading /content/drive/MyDrive/archive (14)/Dataset_BUSI_with_GT/benign/benign (48).png: img should be PIL Image. Got <class 'dict'>\n",
            "Error loading /content/drive/MyDrive/archive (14)/Dataset_BUSI_with_GT/benign/benign (427).png: img should be PIL Image. Got <class 'dict'>\n",
            "Error loading /content/drive/MyDrive/archive (14)/Dataset_BUSI_with_GT/benign/benign (110).png: Unexpected type <class 'dict'>\n",
            "Error loading /content/drive/MyDrive/archive (14)/Dataset_BUSI_with_GT/benign/benign (78).png: img should be PIL Image. Got <class 'dict'>\n"
          ]
        },
        {
          "name": "stderr",
          "output_type": "stream",
          "text": [
            "\rEpoch 1/5:  15%|█▌        | 20/130 [00:08<00:44,  2.45it/s]"
          ]
        },
        {
          "name": "stdout",
          "output_type": "stream",
          "text": [
            "Error loading /content/drive/MyDrive/archive (14)/Dataset_BUSI_with_GT/benign/benign (370).png: Unexpected type <class 'dict'>\n",
            "Error loading /content/drive/MyDrive/archive (14)/Dataset_BUSI_with_GT/malignant/malignant (51).png: img should be PIL Image. Got <class 'dict'>\n",
            "Error loading /content/drive/MyDrive/archive (14)/Dataset_BUSI_with_GT/benign/benign (116).png: img should be PIL Image. Got <class 'dict'>\n",
            "Error loading /content/drive/MyDrive/archive (14)/Dataset_BUSI_with_GT/malignant/malignant (14).png: Unexpected type <class 'dict'>\n"
          ]
        },
        {
          "name": "stderr",
          "output_type": "stream",
          "text": [
            "\rEpoch 1/5:  16%|█▌        | 21/130 [00:08<00:43,  2.51it/s]"
          ]
        },
        {
          "name": "stdout",
          "output_type": "stream",
          "text": [
            "Error loading /content/drive/MyDrive/archive (14)/Dataset_BUSI_with_GT/benign/benign (182).png: Unexpected type <class 'dict'>\n",
            "Error loading /content/drive/MyDrive/archive (14)/Dataset_BUSI_with_GT/benign/benign (412).png: Unexpected type <class 'dict'>\n",
            "Error loading /content/drive/MyDrive/archive (14)/Dataset_BUSI_with_GT/malignant/malignant (63).png: Unexpected type <class 'dict'>\n",
            "Error loading /content/drive/MyDrive/archive (14)/Dataset_BUSI_with_GT/benign/benign (255).png: Unexpected type <class 'dict'>\n"
          ]
        },
        {
          "name": "stderr",
          "output_type": "stream",
          "text": [
            "\rEpoch 1/5:  17%|█▋        | 22/130 [00:08<00:43,  2.49it/s]"
          ]
        },
        {
          "name": "stdout",
          "output_type": "stream",
          "text": [
            "Error loading /content/drive/MyDrive/archive (14)/Dataset_BUSI_with_GT/benign/benign (52).png: img should be PIL Image. Got <class 'dict'>\n",
            "Error loading /content/drive/MyDrive/archive (14)/Dataset_BUSI_with_GT/benign/benign (328).png: img should be PIL Image. Got <class 'dict'>\n",
            "Error loading /content/drive/MyDrive/archive (14)/Dataset_BUSI_with_GT/benign/benign (336).png: Unexpected type <class 'dict'>\n",
            "Error loading /content/drive/MyDrive/archive (14)/Dataset_BUSI_with_GT/malignant/malignant (142).png: img should be PIL Image. Got <class 'dict'>\n"
          ]
        },
        {
          "name": "stderr",
          "output_type": "stream",
          "text": [
            "\rEpoch 1/5:  18%|█▊        | 23/130 [00:09<00:42,  2.51it/s]"
          ]
        },
        {
          "name": "stdout",
          "output_type": "stream",
          "text": [
            "Error loading /content/drive/MyDrive/archive (14)/Dataset_BUSI_with_GT/benign/benign (148).png: img should be PIL Image. Got <class 'dict'>\n",
            "Error loading /content/drive/MyDrive/archive (14)/Dataset_BUSI_with_GT/benign/benign (386).png: Unexpected type <class 'dict'>\n",
            "Error loading /content/drive/MyDrive/archive (14)/Dataset_BUSI_with_GT/malignant/malignant (183).png: Unexpected type <class 'dict'>\n",
            "Error loading /content/drive/MyDrive/archive (14)/Dataset_BUSI_with_GT/benign/benign (388).png: Unexpected type <class 'dict'>\n"
          ]
        },
        {
          "name": "stderr",
          "output_type": "stream",
          "text": [
            "\rEpoch 1/5:  18%|█▊        | 24/130 [00:09<00:43,  2.45it/s]"
          ]
        },
        {
          "name": "stdout",
          "output_type": "stream",
          "text": [
            "Error loading /content/drive/MyDrive/archive (14)/Dataset_BUSI_with_GT/malignant/malignant (189).png: img should be PIL Image. Got <class 'dict'>\n",
            "Error loading /content/drive/MyDrive/archive (14)/Dataset_BUSI_with_GT/benign/benign (178).png: img should be PIL Image. Got <class 'dict'>\n",
            "Error loading /content/drive/MyDrive/archive (14)/Dataset_BUSI_with_GT/malignant/malignant (115).png: Unexpected type <class 'dict'>\n",
            "Error loading /content/drive/MyDrive/archive (14)/Dataset_BUSI_with_GT/benign/benign (200).png: Unexpected type <class 'dict'>\n"
          ]
        },
        {
          "name": "stderr",
          "output_type": "stream",
          "text": [
            "\rEpoch 1/5:  19%|█▉        | 25/130 [00:10<00:42,  2.45it/s]"
          ]
        },
        {
          "name": "stdout",
          "output_type": "stream",
          "text": [
            "Error loading /content/drive/MyDrive/archive (14)/Dataset_BUSI_with_GT/benign/benign (242).png: Unexpected type <class 'dict'>\n",
            "Error loading /content/drive/MyDrive/archive (14)/Dataset_BUSI_with_GT/benign/benign (420).png: img should be PIL Image. Got <class 'dict'>\n",
            "Error loading /content/drive/MyDrive/archive (14)/Dataset_BUSI_with_GT/benign/benign (268).png: img should be PIL Image. Got <class 'dict'>\n"
          ]
        },
        {
          "name": "stderr",
          "output_type": "stream",
          "text": [
            "\rEpoch 1/5:  20%|██        | 26/130 [00:10<00:45,  2.29it/s]"
          ]
        },
        {
          "name": "stdout",
          "output_type": "stream",
          "text": [
            "Error loading /content/drive/MyDrive/archive (14)/Dataset_BUSI_with_GT/malignant/malignant (208).png: Unexpected type <class 'dict'>\n",
            "Error loading /content/drive/MyDrive/archive (14)/Dataset_BUSI_with_GT/benign/benign (143).png: img should be PIL Image. Got <class 'dict'>\n",
            "Error loading /content/drive/MyDrive/archive (14)/Dataset_BUSI_with_GT/benign/benign (318).png: Unexpected type <class 'dict'>\n",
            "Error loading /content/drive/MyDrive/archive (14)/Dataset_BUSI_with_GT/benign/benign (252).png: img should be PIL Image. Got <class 'dict'>\n",
            "Error loading /content/drive/MyDrive/archive (14)/Dataset_BUSI_with_GT/malignant/malignant (203).png: Unexpected type <class 'dict'>\n"
          ]
        },
        {
          "name": "stderr",
          "output_type": "stream",
          "text": [
            "\rEpoch 1/5:  21%|██        | 27/130 [00:11<00:44,  2.31it/s]"
          ]
        },
        {
          "name": "stdout",
          "output_type": "stream",
          "text": [
            "Error loading /content/drive/MyDrive/archive (14)/Dataset_BUSI_with_GT/benign/benign (183).png: img should be PIL Image. Got <class 'dict'>\n",
            "Error loading /content/drive/MyDrive/archive (14)/Dataset_BUSI_with_GT/benign/benign (374).png: img should be PIL Image. Got <class 'dict'>\n",
            "Error loading /content/drive/MyDrive/archive (14)/Dataset_BUSI_with_GT/malignant/malignant (117).png: img should be PIL Image. Got <class 'dict'>\n",
            "Error loading /content/drive/MyDrive/archive (14)/Dataset_BUSI_with_GT/benign/benign (387).png: img should be PIL Image. Got <class 'dict'>\n"
          ]
        },
        {
          "name": "stderr",
          "output_type": "stream",
          "text": [
            "\rEpoch 1/5:  22%|██▏       | 28/130 [00:11<00:46,  2.18it/s]"
          ]
        },
        {
          "name": "stdout",
          "output_type": "stream",
          "text": [
            "Error loading /content/drive/MyDrive/archive (14)/Dataset_BUSI_with_GT/malignant/malignant (65).png: Unexpected type <class 'dict'>\n",
            "Error loading /content/drive/MyDrive/archive (14)/Dataset_BUSI_with_GT/benign/benign (133).png: Unexpected type <class 'dict'>\n",
            "Error loading /content/drive/MyDrive/archive (14)/Dataset_BUSI_with_GT/malignant/malignant (200).png: img should be PIL Image. Got <class 'dict'>\n",
            "Error loading /content/drive/MyDrive/archive (14)/Dataset_BUSI_with_GT/benign/benign (385).png: Unexpected type <class 'dict'>\n"
          ]
        },
        {
          "name": "stderr",
          "output_type": "stream",
          "text": [
            "\rEpoch 1/5:  22%|██▏       | 29/130 [00:12<00:46,  2.19it/s]"
          ]
        },
        {
          "name": "stdout",
          "output_type": "stream",
          "text": [
            "Error loading /content/drive/MyDrive/archive (14)/Dataset_BUSI_with_GT/benign/benign (57).png: Unexpected type <class 'dict'>\n",
            "Error loading /content/drive/MyDrive/archive (14)/Dataset_BUSI_with_GT/benign/benign (46).png: Unexpected type <class 'dict'>\n",
            "Error loading /content/drive/MyDrive/archive (14)/Dataset_BUSI_with_GT/benign/benign (351).png: img should be PIL Image. Got <class 'dict'>\n"
          ]
        },
        {
          "name": "stderr",
          "output_type": "stream",
          "text": [
            "\rEpoch 1/5:  23%|██▎       | 30/130 [00:12<00:46,  2.16it/s]"
          ]
        },
        {
          "name": "stdout",
          "output_type": "stream",
          "text": [
            "Error loading /content/drive/MyDrive/archive (14)/Dataset_BUSI_with_GT/benign/benign (371).png: Unexpected type <class 'dict'>\n",
            "Error loading /content/drive/MyDrive/archive (14)/Dataset_BUSI_with_GT/malignant/malignant (66).png: Unexpected type <class 'dict'>\n",
            "Error loading /content/drive/MyDrive/archive (14)/Dataset_BUSI_with_GT/malignant/malignant (184).png: img should be PIL Image. Got <class 'dict'>\n",
            "Error loading /content/drive/MyDrive/archive (14)/Dataset_BUSI_with_GT/benign/benign (194).png: img should be PIL Image. Got <class 'dict'>\n"
          ]
        },
        {
          "name": "stderr",
          "output_type": "stream",
          "text": [
            "\rEpoch 1/5:  24%|██▍       | 31/130 [00:13<00:47,  2.10it/s]"
          ]
        },
        {
          "name": "stdout",
          "output_type": "stream",
          "text": [
            "Error loading /content/drive/MyDrive/archive (14)/Dataset_BUSI_with_GT/benign/benign (42).png: Unexpected type <class 'dict'>\n",
            "Error loading /content/drive/MyDrive/archive (14)/Dataset_BUSI_with_GT/benign/benign (165).png: Unexpected type <class 'dict'>\n",
            "Error loading /content/drive/MyDrive/archive (14)/Dataset_BUSI_with_GT/benign/benign (212).png: Unexpected type <class 'dict'>\n",
            "Error loading /content/drive/MyDrive/archive (14)/Dataset_BUSI_with_GT/benign/benign (122).png: Unexpected type <class 'dict'>\n"
          ]
        },
        {
          "name": "stderr",
          "output_type": "stream",
          "text": [
            "\rEpoch 1/5:  25%|██▍       | 32/130 [00:13<00:48,  2.04it/s]"
          ]
        },
        {
          "name": "stdout",
          "output_type": "stream",
          "text": [
            "Error loading /content/drive/MyDrive/archive (14)/Dataset_BUSI_with_GT/malignant/malignant (46).png: Unexpected type <class 'dict'>\n",
            "Error loading /content/drive/MyDrive/archive (14)/Dataset_BUSI_with_GT/malignant/malignant (44).png: Unexpected type <class 'dict'>\n",
            "Error loading /content/drive/MyDrive/archive (14)/Dataset_BUSI_with_GT/malignant/malignant (18).png: Unexpected type <class 'dict'>\n",
            "Error loading /content/drive/MyDrive/archive (14)/Dataset_BUSI_with_GT/malignant/malignant (209).png: img should be PIL Image. Got <class 'dict'>\n",
            "Error loading /content/drive/MyDrive/archive (14)/Dataset_BUSI_with_GT/benign/benign (401).png: img should be PIL Image. Got <class 'dict'>\n"
          ]
        },
        {
          "name": "stderr",
          "output_type": "stream",
          "text": [
            "\rEpoch 1/5:  25%|██▌       | 33/130 [00:13<00:45,  2.14it/s]"
          ]
        },
        {
          "name": "stdout",
          "output_type": "stream",
          "text": [
            "Error loading /content/drive/MyDrive/archive (14)/Dataset_BUSI_with_GT/benign/benign (191).png: Unexpected type <class 'dict'>\n",
            "Error loading /content/drive/MyDrive/archive (14)/Dataset_BUSI_with_GT/malignant/malignant (96).png: img should be PIL Image. Got <class 'dict'>\n",
            "Error loading /content/drive/MyDrive/archive (14)/Dataset_BUSI_with_GT/malignant/malignant (120).png: Unexpected type <class 'dict'>\n",
            "Error loading /content/drive/MyDrive/archive (14)/Dataset_BUSI_with_GT/malignant/malignant (168).png: img should be PIL Image. Got <class 'dict'>\n"
          ]
        },
        {
          "name": "stderr",
          "output_type": "stream",
          "text": [
            "\rEpoch 1/5:  26%|██▌       | 34/130 [00:14<00:41,  2.29it/s]"
          ]
        },
        {
          "name": "stdout",
          "output_type": "stream",
          "text": [
            "Error loading /content/drive/MyDrive/archive (14)/Dataset_BUSI_with_GT/malignant/malignant (55).png: Unexpected type <class 'dict'>\n",
            "Error loading /content/drive/MyDrive/archive (14)/Dataset_BUSI_with_GT/malignant/malignant (43).png: img should be PIL Image. Got <class 'dict'>\n",
            "Error loading /content/drive/MyDrive/archive (14)/Dataset_BUSI_with_GT/malignant/malignant (140).png: Unexpected type <class 'dict'>\n",
            "Error loading /content/drive/MyDrive/archive (14)/Dataset_BUSI_with_GT/malignant/malignant (198).png: img should be PIL Image. Got <class 'dict'>\n"
          ]
        },
        {
          "name": "stderr",
          "output_type": "stream",
          "text": [
            "\rEpoch 1/5:  27%|██▋       | 35/130 [00:14<00:40,  2.33it/s]"
          ]
        },
        {
          "name": "stdout",
          "output_type": "stream",
          "text": [
            "Error loading /content/drive/MyDrive/archive (14)/Dataset_BUSI_with_GT/benign/benign (62).png: img should be PIL Image. Got <class 'dict'>\n",
            "Error loading /content/drive/MyDrive/archive (14)/Dataset_BUSI_with_GT/benign/benign (323).png: Unexpected type <class 'dict'>\n",
            "Error loading /content/drive/MyDrive/archive (14)/Dataset_BUSI_with_GT/benign/benign (352).png: img should be PIL Image. Got <class 'dict'>\n",
            "Error loading /content/drive/MyDrive/archive (14)/Dataset_BUSI_with_GT/benign/benign (23).png: img should be PIL Image. Got <class 'dict'>\n"
          ]
        },
        {
          "name": "stderr",
          "output_type": "stream",
          "text": [
            "\rEpoch 1/5:  28%|██▊       | 36/130 [00:15<00:38,  2.41it/s]"
          ]
        },
        {
          "name": "stdout",
          "output_type": "stream",
          "text": [
            "Error loading /content/drive/MyDrive/archive (14)/Dataset_BUSI_with_GT/benign/benign (290).png: Unexpected type <class 'dict'>\n",
            "Error loading /content/drive/MyDrive/archive (14)/Dataset_BUSI_with_GT/benign/benign (10).png: img should be PIL Image. Got <class 'dict'>\n",
            "Error loading /content/drive/MyDrive/archive (14)/Dataset_BUSI_with_GT/malignant/malignant (133).png: Unexpected type <class 'dict'>\n",
            "Error loading /content/drive/MyDrive/archive (14)/Dataset_BUSI_with_GT/benign/benign (415).png: Unexpected type <class 'dict'>\n"
          ]
        },
        {
          "name": "stderr",
          "output_type": "stream",
          "text": [
            "\rEpoch 1/5:  28%|██▊       | 37/130 [00:15<00:37,  2.45it/s]"
          ]
        },
        {
          "name": "stdout",
          "output_type": "stream",
          "text": [
            "Error loading /content/drive/MyDrive/archive (14)/Dataset_BUSI_with_GT/benign/benign (232).png: img should be PIL Image. Got <class 'dict'>\n",
            "Error loading /content/drive/MyDrive/archive (14)/Dataset_BUSI_with_GT/benign/benign (115).png: img should be PIL Image. Got <class 'dict'>\n",
            "Error loading /content/drive/MyDrive/archive (14)/Dataset_BUSI_with_GT/malignant/malignant (195).png: Unexpected type <class 'dict'>\n",
            "Error loading /content/drive/MyDrive/archive (14)/Dataset_BUSI_with_GT/malignant/malignant (153).png: img should be PIL Image. Got <class 'dict'>\n"
          ]
        },
        {
          "name": "stderr",
          "output_type": "stream",
          "text": [
            "\rEpoch 1/5:  29%|██▉       | 38/130 [00:15<00:37,  2.48it/s]"
          ]
        },
        {
          "name": "stdout",
          "output_type": "stream",
          "text": [
            "Error loading /content/drive/MyDrive/archive (14)/Dataset_BUSI_with_GT/benign/benign (350).png: img should be PIL Image. Got <class 'dict'>\n",
            "Error loading /content/drive/MyDrive/archive (14)/Dataset_BUSI_with_GT/benign/benign (29).png: Unexpected type <class 'dict'>\n",
            "Error loading /content/drive/MyDrive/archive (14)/Dataset_BUSI_with_GT/malignant/malignant (138).png: Unexpected type <class 'dict'>\n",
            "Error loading /content/drive/MyDrive/archive (14)/Dataset_BUSI_with_GT/benign/benign (141).png: Unexpected type <class 'dict'>\n"
          ]
        },
        {
          "name": "stderr",
          "output_type": "stream",
          "text": [
            "\rEpoch 1/5:  30%|███       | 39/130 [00:16<00:36,  2.51it/s]"
          ]
        },
        {
          "name": "stdout",
          "output_type": "stream",
          "text": [
            "Error loading /content/drive/MyDrive/archive (14)/Dataset_BUSI_with_GT/benign/benign (433).png: Unexpected type <class 'dict'>\n",
            "Error loading /content/drive/MyDrive/archive (14)/Dataset_BUSI_with_GT/benign/benign (430).png: img should be PIL Image. Got <class 'dict'>\n",
            "Error loading /content/drive/MyDrive/archive (14)/Dataset_BUSI_with_GT/benign/benign (395).png: img should be PIL Image. Got <class 'dict'>\n",
            "Error loading /content/drive/MyDrive/archive (14)/Dataset_BUSI_with_GT/benign/benign (203).png: img should be PIL Image. Got <class 'dict'>\n"
          ]
        },
        {
          "name": "stderr",
          "output_type": "stream",
          "text": [
            "\rEpoch 1/5:  31%|███       | 40/130 [00:16<00:36,  2.50it/s]"
          ]
        },
        {
          "name": "stdout",
          "output_type": "stream",
          "text": [
            "Error loading /content/drive/MyDrive/archive (14)/Dataset_BUSI_with_GT/benign/benign (230).png: img should be PIL Image. Got <class 'dict'>\n",
            "Error loading /content/drive/MyDrive/archive (14)/Dataset_BUSI_with_GT/benign/benign (124).png: Unexpected type <class 'dict'>\n",
            "Error loading /content/drive/MyDrive/archive (14)/Dataset_BUSI_with_GT/benign/benign (413).png: img should be PIL Image. Got <class 'dict'>\n",
            "Error loading /content/drive/MyDrive/archive (14)/Dataset_BUSI_with_GT/benign/benign (184).png: Unexpected type <class 'dict'>\n"
          ]
        },
        {
          "name": "stderr",
          "output_type": "stream",
          "text": [
            "\rEpoch 1/5:  32%|███▏      | 41/130 [00:17<00:34,  2.57it/s]"
          ]
        },
        {
          "name": "stdout",
          "output_type": "stream",
          "text": [
            "Error loading /content/drive/MyDrive/archive (14)/Dataset_BUSI_with_GT/malignant/malignant (69).png: img should be PIL Image. Got <class 'dict'>\n",
            "Error loading /content/drive/MyDrive/archive (14)/Dataset_BUSI_with_GT/benign/benign (303).png: Unexpected type <class 'dict'>\n",
            "Error loading /content/drive/MyDrive/archive (14)/Dataset_BUSI_with_GT/benign/benign (20).png: Unexpected type <class 'dict'>\n",
            "Error loading /content/drive/MyDrive/archive (14)/Dataset_BUSI_with_GT/benign/benign (346).png: img should be PIL Image. Got <class 'dict'>\n"
          ]
        },
        {
          "name": "stderr",
          "output_type": "stream",
          "text": [
            "\rEpoch 1/5:  32%|███▏      | 42/130 [00:17<00:33,  2.64it/s]"
          ]
        },
        {
          "name": "stdout",
          "output_type": "stream",
          "text": [
            "Error loading /content/drive/MyDrive/archive (14)/Dataset_BUSI_with_GT/malignant/malignant (165).png: Unexpected type <class 'dict'>\n",
            "Error loading /content/drive/MyDrive/archive (14)/Dataset_BUSI_with_GT/benign/benign (229).png: img should be PIL Image. Got <class 'dict'>\n",
            "Error loading /content/drive/MyDrive/archive (14)/Dataset_BUSI_with_GT/benign/benign (325).png: img should be PIL Image. Got <class 'dict'>\n",
            "Error loading /content/drive/MyDrive/archive (14)/Dataset_BUSI_with_GT/benign/benign (206).png: Unexpected type <class 'dict'>\n"
          ]
        },
        {
          "name": "stderr",
          "output_type": "stream",
          "text": [
            "\rEpoch 1/5:  33%|███▎      | 43/130 [00:17<00:32,  2.66it/s]"
          ]
        },
        {
          "name": "stdout",
          "output_type": "stream",
          "text": [
            "Error loading /content/drive/MyDrive/archive (14)/Dataset_BUSI_with_GT/benign/benign (196).png: Unexpected type <class 'dict'>\n",
            "Error loading /content/drive/MyDrive/archive (14)/Dataset_BUSI_with_GT/benign/benign (217).png: img should be PIL Image. Got <class 'dict'>\n",
            "Error loading /content/drive/MyDrive/archive (14)/Dataset_BUSI_with_GT/benign/benign (144).png: Unexpected type <class 'dict'>\n",
            "Error loading /content/drive/MyDrive/archive (14)/Dataset_BUSI_with_GT/benign/benign (168).png: Unexpected type <class 'dict'>\n"
          ]
        },
        {
          "name": "stderr",
          "output_type": "stream",
          "text": [
            "\rEpoch 1/5:  34%|███▍      | 44/130 [00:18<00:33,  2.57it/s]"
          ]
        },
        {
          "name": "stdout",
          "output_type": "stream",
          "text": [
            "Error loading /content/drive/MyDrive/archive (14)/Dataset_BUSI_with_GT/benign/benign (277).png: img should be PIL Image. Got <class 'dict'>\n",
            "Error loading /content/drive/MyDrive/archive (14)/Dataset_BUSI_with_GT/malignant/malignant (19).png: img should be PIL Image. Got <class 'dict'>\n",
            "Error loading /content/drive/MyDrive/archive (14)/Dataset_BUSI_with_GT/malignant/malignant (56).png: Unexpected type <class 'dict'>\n",
            "Error loading /content/drive/MyDrive/archive (14)/Dataset_BUSI_with_GT/malignant/malignant (131).png: img should be PIL Image. Got <class 'dict'>\n"
          ]
        },
        {
          "name": "stderr",
          "output_type": "stream",
          "text": [
            "\rEpoch 1/5:  35%|███▍      | 45/130 [00:18<00:32,  2.58it/s]"
          ]
        },
        {
          "name": "stdout",
          "output_type": "stream",
          "text": [
            "Error loading /content/drive/MyDrive/archive (14)/Dataset_BUSI_with_GT/malignant/malignant (7).png: Unexpected type <class 'dict'>\n",
            "Error loading /content/drive/MyDrive/archive (14)/Dataset_BUSI_with_GT/malignant/malignant (163).png: Unexpected type <class 'dict'>\n",
            "Error loading /content/drive/MyDrive/archive (14)/Dataset_BUSI_with_GT/benign/benign (270).png: img should be PIL Image. Got <class 'dict'>\n",
            "Error loading /content/drive/MyDrive/archive (14)/Dataset_BUSI_with_GT/benign/benign (100).png: img should be PIL Image. Got <class 'dict'>\n"
          ]
        },
        {
          "name": "stderr",
          "output_type": "stream",
          "text": [
            "\rEpoch 1/5:  35%|███▌      | 46/130 [00:18<00:31,  2.68it/s]"
          ]
        },
        {
          "name": "stdout",
          "output_type": "stream",
          "text": [
            "Error loading /content/drive/MyDrive/archive (14)/Dataset_BUSI_with_GT/benign/benign (237).png: Unexpected type <class 'dict'>\n",
            "Error loading /content/drive/MyDrive/archive (14)/Dataset_BUSI_with_GT/benign/benign (107).png: Unexpected type <class 'dict'>\n",
            "Error loading /content/drive/MyDrive/archive (14)/Dataset_BUSI_with_GT/benign/benign (79).png: Unexpected type <class 'dict'>\n",
            "Error loading /content/drive/MyDrive/archive (14)/Dataset_BUSI_with_GT/benign/benign (316).png: img should be PIL Image. Got <class 'dict'>\n"
          ]
        },
        {
          "name": "stderr",
          "output_type": "stream",
          "text": [
            "\rEpoch 1/5:  36%|███▌      | 47/130 [00:19<00:31,  2.60it/s]"
          ]
        },
        {
          "name": "stdout",
          "output_type": "stream",
          "text": [
            "Error loading /content/drive/MyDrive/archive (14)/Dataset_BUSI_with_GT/benign/benign (308).png: Unexpected type <class 'dict'>\n",
            "Error loading /content/drive/MyDrive/archive (14)/Dataset_BUSI_with_GT/benign/benign (99).png: img should be PIL Image. Got <class 'dict'>\n",
            "Error loading /content/drive/MyDrive/archive (14)/Dataset_BUSI_with_GT/malignant/malignant (125).png: Unexpected type <class 'dict'>\n",
            "Error loading /content/drive/MyDrive/archive (14)/Dataset_BUSI_with_GT/benign/benign (146).png: Unexpected type <class 'dict'>\n"
          ]
        },
        {
          "name": "stderr",
          "output_type": "stream",
          "text": [
            "\rEpoch 1/5:  37%|███▋      | 48/130 [00:19<00:31,  2.64it/s]"
          ]
        },
        {
          "name": "stdout",
          "output_type": "stream",
          "text": [
            "Error loading /content/drive/MyDrive/archive (14)/Dataset_BUSI_with_GT/benign/benign (247).png: img should be PIL Image. Got <class 'dict'>\n",
            "Error loading /content/drive/MyDrive/archive (14)/Dataset_BUSI_with_GT/malignant/malignant (48).png: Unexpected type <class 'dict'>\n",
            "Error loading /content/drive/MyDrive/archive (14)/Dataset_BUSI_with_GT/malignant/malignant (71).png: Unexpected type <class 'dict'>\n",
            "Error loading /content/drive/MyDrive/archive (14)/Dataset_BUSI_with_GT/benign/benign (289).png: img should be PIL Image. Got <class 'dict'>\n"
          ]
        },
        {
          "name": "stderr",
          "output_type": "stream",
          "text": [
            "\rEpoch 1/5:  38%|███▊      | 49/130 [00:20<00:30,  2.67it/s]"
          ]
        },
        {
          "name": "stdout",
          "output_type": "stream",
          "text": [
            "Error loading /content/drive/MyDrive/archive (14)/Dataset_BUSI_with_GT/benign/benign (121).png: img should be PIL Image. Got <class 'dict'>\n",
            "Error loading /content/drive/MyDrive/archive (14)/Dataset_BUSI_with_GT/malignant/malignant (162).png: Unexpected type <class 'dict'>\n",
            "Error loading /content/drive/MyDrive/archive (14)/Dataset_BUSI_with_GT/benign/benign (104).png: img should be PIL Image. Got <class 'dict'>\n",
            "Error loading /content/drive/MyDrive/archive (14)/Dataset_BUSI_with_GT/benign/benign (340).png: Unexpected type <class 'dict'>\n"
          ]
        },
        {
          "name": "stderr",
          "output_type": "stream",
          "text": [
            "\rEpoch 1/5:  38%|███▊      | 50/130 [00:20<00:31,  2.55it/s]"
          ]
        },
        {
          "name": "stdout",
          "output_type": "stream",
          "text": [
            "Error loading /content/drive/MyDrive/archive (14)/Dataset_BUSI_with_GT/malignant/malignant (104).png: Unexpected type <class 'dict'>\n",
            "Error loading /content/drive/MyDrive/archive (14)/Dataset_BUSI_with_GT/malignant/malignant (151).png: Unexpected type <class 'dict'>\n",
            "Error loading /content/drive/MyDrive/archive (14)/Dataset_BUSI_with_GT/benign/benign (417).png: img should be PIL Image. Got <class 'dict'>\n",
            "Error loading /content/drive/MyDrive/archive (14)/Dataset_BUSI_with_GT/benign/benign (259).png: img should be PIL Image. Got <class 'dict'>\n"
          ]
        },
        {
          "name": "stderr",
          "output_type": "stream",
          "text": [
            "\rEpoch 1/5:  39%|███▉      | 51/130 [00:20<00:30,  2.60it/s]"
          ]
        },
        {
          "name": "stdout",
          "output_type": "stream",
          "text": [
            "Error loading /content/drive/MyDrive/archive (14)/Dataset_BUSI_with_GT/malignant/malignant (139).png: img should be PIL Image. Got <class 'dict'>\n",
            "Error loading /content/drive/MyDrive/archive (14)/Dataset_BUSI_with_GT/malignant/malignant (31).png: img should be PIL Image. Got <class 'dict'>\n",
            "Error loading /content/drive/MyDrive/archive (14)/Dataset_BUSI_with_GT/benign/benign (310).png: Unexpected type <class 'dict'>\n",
            "Error loading /content/drive/MyDrive/archive (14)/Dataset_BUSI_with_GT/malignant/malignant (12).png: Unexpected type <class 'dict'>\n"
          ]
        },
        {
          "name": "stderr",
          "output_type": "stream",
          "text": [
            "\rEpoch 1/5:  40%|████      | 52/130 [00:21<00:29,  2.63it/s]"
          ]
        },
        {
          "name": "stdout",
          "output_type": "stream",
          "text": [
            "Error loading /content/drive/MyDrive/archive (14)/Dataset_BUSI_with_GT/malignant/malignant (137).png: Unexpected type <class 'dict'>\n",
            "Error loading /content/drive/MyDrive/archive (14)/Dataset_BUSI_with_GT/malignant/malignant (95).png: Unexpected type <class 'dict'>\n",
            "Error loading /content/drive/MyDrive/archive (14)/Dataset_BUSI_with_GT/benign/benign (343).png: Unexpected type <class 'dict'>\n",
            "Error loading /content/drive/MyDrive/archive (14)/Dataset_BUSI_with_GT/benign/benign (320).png: Unexpected type <class 'dict'>\n"
          ]
        },
        {
          "name": "stderr",
          "output_type": "stream",
          "text": [
            "\rEpoch 1/5:  41%|████      | 53/130 [00:21<00:28,  2.68it/s]"
          ]
        },
        {
          "name": "stdout",
          "output_type": "stream",
          "text": [
            "Error loading /content/drive/MyDrive/archive (14)/Dataset_BUSI_with_GT/benign/benign (236).png: Unexpected type <class 'dict'>\n",
            "Error loading /content/drive/MyDrive/archive (14)/Dataset_BUSI_with_GT/benign/benign (188).png: img should be PIL Image. Got <class 'dict'>\n",
            "Error loading /content/drive/MyDrive/archive (14)/Dataset_BUSI_with_GT/benign/benign (354).png: img should be PIL Image. Got <class 'dict'>\n",
            "Error loading /content/drive/MyDrive/archive (14)/Dataset_BUSI_with_GT/benign/benign (192).png: img should be PIL Image. Got <class 'dict'>\n"
          ]
        },
        {
          "name": "stderr",
          "output_type": "stream",
          "text": [
            "\rEpoch 1/5:  42%|████▏     | 54/130 [00:21<00:28,  2.63it/s]"
          ]
        },
        {
          "name": "stdout",
          "output_type": "stream",
          "text": [
            "Error loading /content/drive/MyDrive/archive (14)/Dataset_BUSI_with_GT/benign/benign (17).png: img should be PIL Image. Got <class 'dict'>\n",
            "Error loading /content/drive/MyDrive/archive (14)/Dataset_BUSI_with_GT/malignant/malignant (132).png: img should be PIL Image. Got <class 'dict'>\n",
            "Error loading /content/drive/MyDrive/archive (14)/Dataset_BUSI_with_GT/benign/benign (225).png: Unexpected type <class 'dict'>\n",
            "Error loading /content/drive/MyDrive/archive (14)/Dataset_BUSI_with_GT/benign/benign (25).png: img should be PIL Image. Got <class 'dict'>\n"
          ]
        },
        {
          "name": "stderr",
          "output_type": "stream",
          "text": [
            "\rEpoch 1/5:  42%|████▏     | 55/130 [00:22<00:28,  2.61it/s]"
          ]
        },
        {
          "name": "stdout",
          "output_type": "stream",
          "text": [
            "Error loading /content/drive/MyDrive/archive (14)/Dataset_BUSI_with_GT/malignant/malignant (107).png: img should be PIL Image. Got <class 'dict'>\n",
            "Error loading /content/drive/MyDrive/archive (14)/Dataset_BUSI_with_GT/malignant/malignant (128).png: Unexpected type <class 'dict'>\n",
            "Error loading /content/drive/MyDrive/archive (14)/Dataset_BUSI_with_GT/malignant/malignant (61).png: Unexpected type <class 'dict'>\n",
            "Error loading /content/drive/MyDrive/archive (14)/Dataset_BUSI_with_GT/malignant/malignant (3).png: Unexpected type <class 'dict'>\n"
          ]
        },
        {
          "name": "stderr",
          "output_type": "stream",
          "text": [
            "\rEpoch 1/5:  43%|████▎     | 56/130 [00:22<00:27,  2.66it/s]"
          ]
        },
        {
          "name": "stdout",
          "output_type": "stream",
          "text": [
            "Error loading /content/drive/MyDrive/archive (14)/Dataset_BUSI_with_GT/benign/benign (155).png: Unexpected type <class 'dict'>\n",
            "Error loading /content/drive/MyDrive/archive (14)/Dataset_BUSI_with_GT/malignant/malignant (191).png: img should be PIL Image. Got <class 'dict'>\n",
            "Error loading /content/drive/MyDrive/archive (14)/Dataset_BUSI_with_GT/malignant/malignant (106).png: Unexpected type <class 'dict'>\n",
            "Error loading /content/drive/MyDrive/archive (14)/Dataset_BUSI_with_GT/benign/benign (326).png: Unexpected type <class 'dict'>\n"
          ]
        },
        {
          "name": "stderr",
          "output_type": "stream",
          "text": [
            "\rEpoch 1/5:  44%|████▍     | 57/130 [00:23<00:29,  2.51it/s]"
          ]
        },
        {
          "name": "stdout",
          "output_type": "stream",
          "text": [
            "Error loading /content/drive/MyDrive/archive (14)/Dataset_BUSI_with_GT/benign/benign (381).png: Unexpected type <class 'dict'>\n",
            "Error loading /content/drive/MyDrive/archive (14)/Dataset_BUSI_with_GT/benign/benign (8).png: img should be PIL Image. Got <class 'dict'>\n",
            "Error loading /content/drive/MyDrive/archive (14)/Dataset_BUSI_with_GT/malignant/malignant (16).png: Unexpected type <class 'dict'>\n",
            "Error loading /content/drive/MyDrive/archive (14)/Dataset_BUSI_with_GT/benign/benign (240).png: img should be PIL Image. Got <class 'dict'>\n"
          ]
        },
        {
          "name": "stderr",
          "output_type": "stream",
          "text": [
            "\rEpoch 1/5:  45%|████▍     | 58/130 [00:23<00:29,  2.47it/s]"
          ]
        },
        {
          "name": "stdout",
          "output_type": "stream",
          "text": [
            "Error loading /content/drive/MyDrive/archive (14)/Dataset_BUSI_with_GT/benign/benign (169).png: img should be PIL Image. Got <class 'dict'>\n",
            "Error loading /content/drive/MyDrive/archive (14)/Dataset_BUSI_with_GT/benign/benign (181).png: img should be PIL Image. Got <class 'dict'>\n",
            "Error loading /content/drive/MyDrive/archive (14)/Dataset_BUSI_with_GT/malignant/malignant (23).png: img should be PIL Image. Got <class 'dict'>\n",
            "Error loading /content/drive/MyDrive/archive (14)/Dataset_BUSI_with_GT/benign/benign (131).png: Unexpected type <class 'dict'>\n"
          ]
        },
        {
          "name": "stderr",
          "output_type": "stream",
          "text": [
            "\rEpoch 1/5:  45%|████▌     | 59/130 [00:24<00:29,  2.39it/s]"
          ]
        },
        {
          "name": "stdout",
          "output_type": "stream",
          "text": [
            "Error loading /content/drive/MyDrive/archive (14)/Dataset_BUSI_with_GT/malignant/malignant (28).png: img should be PIL Image. Got <class 'dict'>\n",
            "Error loading /content/drive/MyDrive/archive (14)/Dataset_BUSI_with_GT/benign/benign (338).png: img should be PIL Image. Got <class 'dict'>\n",
            "Error loading /content/drive/MyDrive/archive (14)/Dataset_BUSI_with_GT/malignant/malignant (33).png: Unexpected type <class 'dict'>\n"
          ]
        },
        {
          "name": "stderr",
          "output_type": "stream",
          "text": [
            "\rEpoch 1/5:  46%|████▌     | 60/130 [00:24<00:30,  2.29it/s]"
          ]
        },
        {
          "name": "stdout",
          "output_type": "stream",
          "text": [
            "Error loading /content/drive/MyDrive/archive (14)/Dataset_BUSI_with_GT/benign/benign (329).png: img should be PIL Image. Got <class 'dict'>\n",
            "Error loading /content/drive/MyDrive/archive (14)/Dataset_BUSI_with_GT/malignant/malignant (116).png: Unexpected type <class 'dict'>\n",
            "Error loading /content/drive/MyDrive/archive (14)/Dataset_BUSI_with_GT/benign/benign (159).png: Unexpected type <class 'dict'>\n",
            "Error loading /content/drive/MyDrive/archive (14)/Dataset_BUSI_with_GT/benign/benign (24).png: img should be PIL Image. Got <class 'dict'>\n"
          ]
        },
        {
          "name": "stderr",
          "output_type": "stream",
          "text": [
            "\rEpoch 1/5:  47%|████▋     | 61/130 [00:24<00:30,  2.23it/s]"
          ]
        },
        {
          "name": "stdout",
          "output_type": "stream",
          "text": [
            "Error loading /content/drive/MyDrive/archive (14)/Dataset_BUSI_with_GT/benign/benign (170).png: img should be PIL Image. Got <class 'dict'>\n",
            "Error loading /content/drive/MyDrive/archive (14)/Dataset_BUSI_with_GT/benign/benign (113).png: img should be PIL Image. Got <class 'dict'>\n",
            "Error loading /content/drive/MyDrive/archive (14)/Dataset_BUSI_with_GT/malignant/malignant (146).png: img should be PIL Image. Got <class 'dict'>\n",
            "Error loading /content/drive/MyDrive/archive (14)/Dataset_BUSI_with_GT/benign/benign (5).png: img should be PIL Image. Got <class 'dict'>\n"
          ]
        },
        {
          "name": "stderr",
          "output_type": "stream",
          "text": [
            "\rEpoch 1/5:  48%|████▊     | 62/130 [00:25<00:32,  2.08it/s]"
          ]
        },
        {
          "name": "stdout",
          "output_type": "stream",
          "text": [
            "Error loading /content/drive/MyDrive/archive (14)/Dataset_BUSI_with_GT/benign/benign (185).png: Unexpected type <class 'dict'>\n",
            "Error loading /content/drive/MyDrive/archive (14)/Dataset_BUSI_with_GT/benign/benign (32).png: img should be PIL Image. Got <class 'dict'>\n",
            "Error loading /content/drive/MyDrive/archive (14)/Dataset_BUSI_with_GT/benign/benign (44).png: Unexpected type <class 'dict'>\n",
            "Error loading /content/drive/MyDrive/archive (14)/Dataset_BUSI_with_GT/benign/benign (209).png: Unexpected type <class 'dict'>\n"
          ]
        },
        {
          "name": "stderr",
          "output_type": "stream",
          "text": [
            "\rEpoch 1/5:  48%|████▊     | 63/130 [00:26<00:33,  2.01it/s]"
          ]
        },
        {
          "name": "stdout",
          "output_type": "stream",
          "text": [
            "Error loading /content/drive/MyDrive/archive (14)/Dataset_BUSI_with_GT/benign/benign (405).png: img should be PIL Image. Got <class 'dict'>\n",
            "Error loading /content/drive/MyDrive/archive (14)/Dataset_BUSI_with_GT/benign/benign (80).png: img should be PIL Image. Got <class 'dict'>\n",
            "Error loading /content/drive/MyDrive/archive (14)/Dataset_BUSI_with_GT/benign/benign (205).png: img should be PIL Image. Got <class 'dict'>\n",
            "Error loading /content/drive/MyDrive/archive (14)/Dataset_BUSI_with_GT/benign/benign (375).png: img should be PIL Image. Got <class 'dict'>\n"
          ]
        },
        {
          "name": "stderr",
          "output_type": "stream",
          "text": [
            "\rEpoch 1/5:  49%|████▉     | 64/130 [00:26<00:33,  2.00it/s]"
          ]
        },
        {
          "name": "stdout",
          "output_type": "stream",
          "text": [
            "Error loading /content/drive/MyDrive/archive (14)/Dataset_BUSI_with_GT/malignant/malignant (126).png: img should be PIL Image. Got <class 'dict'>\n",
            "Error loading /content/drive/MyDrive/archive (14)/Dataset_BUSI_with_GT/malignant/malignant (75).png: Unexpected type <class 'dict'>\n",
            "Error loading /content/drive/MyDrive/archive (14)/Dataset_BUSI_with_GT/benign/benign (248).png: img should be PIL Image. Got <class 'dict'>\n",
            "Error loading /content/drive/MyDrive/archive (14)/Dataset_BUSI_with_GT/malignant/malignant (141).png: img should be PIL Image. Got <class 'dict'>\n",
            "Error loading /content/drive/MyDrive/archive (14)/Dataset_BUSI_with_GT/benign/benign (208).png: Unexpected type <class 'dict'>\n"
          ]
        },
        {
          "name": "stderr",
          "output_type": "stream",
          "text": [
            "\rEpoch 1/5:  50%|█████     | 65/130 [00:27<00:31,  2.09it/s]"
          ]
        },
        {
          "name": "stdout",
          "output_type": "stream",
          "text": [
            "Error loading /content/drive/MyDrive/archive (14)/Dataset_BUSI_with_GT/malignant/malignant (108).png: Unexpected type <class 'dict'>\n",
            "Error loading /content/drive/MyDrive/archive (14)/Dataset_BUSI_with_GT/benign/benign (436).png: Unexpected type <class 'dict'>\n",
            "Error loading /content/drive/MyDrive/archive (14)/Dataset_BUSI_with_GT/benign/benign (70).png: img should be PIL Image. Got <class 'dict'>\n",
            "Error loading /content/drive/MyDrive/archive (14)/Dataset_BUSI_with_GT/benign/benign (280).png: Unexpected type <class 'dict'>\n"
          ]
        },
        {
          "name": "stderr",
          "output_type": "stream",
          "text": [
            "\rEpoch 1/5:  51%|█████     | 66/130 [00:27<00:28,  2.22it/s]"
          ]
        },
        {
          "name": "stdout",
          "output_type": "stream",
          "text": [
            "Error loading /content/drive/MyDrive/archive (14)/Dataset_BUSI_with_GT/benign/benign (309).png: Unexpected type <class 'dict'>\n",
            "Error loading /content/drive/MyDrive/archive (14)/Dataset_BUSI_with_GT/malignant/malignant (197).png: Unexpected type <class 'dict'>\n",
            "Error loading /content/drive/MyDrive/archive (14)/Dataset_BUSI_with_GT/malignant/malignant (30).png: Unexpected type <class 'dict'>\n",
            "Error loading /content/drive/MyDrive/archive (14)/Dataset_BUSI_with_GT/benign/benign (297).png: Unexpected type <class 'dict'>\n"
          ]
        },
        {
          "name": "stderr",
          "output_type": "stream",
          "text": [
            "\rEpoch 1/5:  52%|█████▏    | 67/130 [00:27<00:26,  2.34it/s]"
          ]
        },
        {
          "name": "stdout",
          "output_type": "stream",
          "text": [
            "Error loading /content/drive/MyDrive/archive (14)/Dataset_BUSI_with_GT/benign/benign (150).png: img should be PIL Image. Got <class 'dict'>\n",
            "Error loading /content/drive/MyDrive/archive (14)/Dataset_BUSI_with_GT/benign/benign (282).png: img should be PIL Image. Got <class 'dict'>\n",
            "Error loading /content/drive/MyDrive/archive (14)/Dataset_BUSI_with_GT/benign/benign (16).png: Unexpected type <class 'dict'>\n",
            "Error loading /content/drive/MyDrive/archive (14)/Dataset_BUSI_with_GT/malignant/malignant (102).png: img should be PIL Image. Got <class 'dict'>\n"
          ]
        },
        {
          "name": "stderr",
          "output_type": "stream",
          "text": [
            "\rEpoch 1/5:  52%|█████▏    | 68/130 [00:28<00:26,  2.35it/s]"
          ]
        },
        {
          "name": "stdout",
          "output_type": "stream",
          "text": [
            "Error loading /content/drive/MyDrive/archive (14)/Dataset_BUSI_with_GT/malignant/malignant (129).png: img should be PIL Image. Got <class 'dict'>\n",
            "Error loading /content/drive/MyDrive/archive (14)/Dataset_BUSI_with_GT/benign/benign (366).png: img should be PIL Image. Got <class 'dict'>\n",
            "Error loading /content/drive/MyDrive/archive (14)/Dataset_BUSI_with_GT/benign/benign (83).png: Unexpected type <class 'dict'>\n",
            "Error loading /content/drive/MyDrive/archive (14)/Dataset_BUSI_with_GT/malignant/malignant (17).png: img should be PIL Image. Got <class 'dict'>\n"
          ]
        },
        {
          "name": "stderr",
          "output_type": "stream",
          "text": [
            "\rEpoch 1/5:  53%|█████▎    | 69/130 [00:28<00:25,  2.40it/s]"
          ]
        },
        {
          "name": "stdout",
          "output_type": "stream",
          "text": [
            "Error loading /content/drive/MyDrive/archive (14)/Dataset_BUSI_with_GT/benign/benign (120).png: img should be PIL Image. Got <class 'dict'>\n",
            "Error loading /content/drive/MyDrive/archive (14)/Dataset_BUSI_with_GT/benign/benign (87).png: Unexpected type <class 'dict'>\n",
            "Error loading /content/drive/MyDrive/archive (14)/Dataset_BUSI_with_GT/benign/benign (394).png: Unexpected type <class 'dict'>\n",
            "Error loading /content/drive/MyDrive/archive (14)/Dataset_BUSI_with_GT/malignant/malignant (20).png: img should be PIL Image. Got <class 'dict'>\n"
          ]
        },
        {
          "name": "stderr",
          "output_type": "stream",
          "text": [
            "\rEpoch 1/5:  54%|█████▍    | 70/130 [00:29<00:25,  2.36it/s]"
          ]
        },
        {
          "name": "stdout",
          "output_type": "stream",
          "text": [
            "Error loading /content/drive/MyDrive/archive (14)/Dataset_BUSI_with_GT/benign/benign (180).png: Unexpected type <class 'dict'>\n",
            "Error loading /content/drive/MyDrive/archive (14)/Dataset_BUSI_with_GT/benign/benign (154).png: img should be PIL Image. Got <class 'dict'>\n",
            "Error loading /content/drive/MyDrive/archive (14)/Dataset_BUSI_with_GT/benign/benign (286).png: img should be PIL Image. Got <class 'dict'>\n",
            "Error loading /content/drive/MyDrive/archive (14)/Dataset_BUSI_with_GT/benign/benign (409).png: img should be PIL Image. Got <class 'dict'>\n"
          ]
        },
        {
          "name": "stderr",
          "output_type": "stream",
          "text": [
            "\rEpoch 1/5:  55%|█████▍    | 71/130 [00:29<00:24,  2.39it/s]"
          ]
        },
        {
          "name": "stdout",
          "output_type": "stream",
          "text": [
            "Error loading /content/drive/MyDrive/archive (14)/Dataset_BUSI_with_GT/benign/benign (272).png: img should be PIL Image. Got <class 'dict'>\n",
            "Error loading /content/drive/MyDrive/archive (14)/Dataset_BUSI_with_GT/benign/benign (382).png: img should be PIL Image. Got <class 'dict'>\n",
            "Error loading /content/drive/MyDrive/archive (14)/Dataset_BUSI_with_GT/malignant/malignant (62).png: img should be PIL Image. Got <class 'dict'>\n",
            "Error loading /content/drive/MyDrive/archive (14)/Dataset_BUSI_with_GT/malignant/malignant (111).png: img should be PIL Image. Got <class 'dict'>\n"
          ]
        },
        {
          "name": "stderr",
          "output_type": "stream",
          "text": [
            "\rEpoch 1/5:  55%|█████▌    | 72/130 [00:29<00:23,  2.47it/s]"
          ]
        },
        {
          "name": "stdout",
          "output_type": "stream",
          "text": [
            "Error loading /content/drive/MyDrive/archive (14)/Dataset_BUSI_with_GT/malignant/malignant (91).png: Unexpected type <class 'dict'>\n",
            "Error loading /content/drive/MyDrive/archive (14)/Dataset_BUSI_with_GT/benign/benign (4).png: img should be PIL Image. Got <class 'dict'>\n",
            "Error loading /content/drive/MyDrive/archive (14)/Dataset_BUSI_with_GT/benign/benign (432).png: img should be PIL Image. Got <class 'dict'>\n",
            "Error loading /content/drive/MyDrive/archive (14)/Dataset_BUSI_with_GT/malignant/malignant (143).png: img should be PIL Image. Got <class 'dict'>\n"
          ]
        },
        {
          "name": "stderr",
          "output_type": "stream",
          "text": [
            "\rEpoch 1/5:  56%|█████▌    | 73/130 [00:30<00:22,  2.56it/s]"
          ]
        },
        {
          "name": "stdout",
          "output_type": "stream",
          "text": [
            "Error loading /content/drive/MyDrive/archive (14)/Dataset_BUSI_with_GT/benign/benign (1).png: Unexpected type <class 'dict'>\n",
            "Error loading /content/drive/MyDrive/archive (14)/Dataset_BUSI_with_GT/benign/benign (126).png: img should be PIL Image. Got <class 'dict'>\n",
            "Error loading /content/drive/MyDrive/archive (14)/Dataset_BUSI_with_GT/benign/benign (363).png: img should be PIL Image. Got <class 'dict'>\n",
            "Error loading /content/drive/MyDrive/archive (14)/Dataset_BUSI_with_GT/benign/benign (96).png: img should be PIL Image. Got <class 'dict'>\n"
          ]
        },
        {
          "name": "stderr",
          "output_type": "stream",
          "text": [
            "\rEpoch 1/5:  57%|█████▋    | 74/130 [00:30<00:22,  2.52it/s]"
          ]
        },
        {
          "name": "stdout",
          "output_type": "stream",
          "text": [
            "Error loading /content/drive/MyDrive/archive (14)/Dataset_BUSI_with_GT/malignant/malignant (176).png: Unexpected type <class 'dict'>\n",
            "Error loading /content/drive/MyDrive/archive (14)/Dataset_BUSI_with_GT/benign/benign (55).png: img should be PIL Image. Got <class 'dict'>\n",
            "Error loading /content/drive/MyDrive/archive (14)/Dataset_BUSI_with_GT/benign/benign (246).png: img should be PIL Image. Got <class 'dict'>\n",
            "Error loading /content/drive/MyDrive/archive (14)/Dataset_BUSI_with_GT/benign/benign (193).png: img should be PIL Image. Got <class 'dict'>\n"
          ]
        },
        {
          "name": "stderr",
          "output_type": "stream",
          "text": [
            "\rEpoch 1/5:  58%|█████▊    | 75/130 [00:31<00:22,  2.48it/s]"
          ]
        },
        {
          "name": "stdout",
          "output_type": "stream",
          "text": [
            "Error loading /content/drive/MyDrive/archive (14)/Dataset_BUSI_with_GT/benign/benign (243).png: Unexpected type <class 'dict'>\n",
            "Error loading /content/drive/MyDrive/archive (14)/Dataset_BUSI_with_GT/benign/benign (119).png: img should be PIL Image. Got <class 'dict'>\n",
            "Error loading /content/drive/MyDrive/archive (14)/Dataset_BUSI_with_GT/benign/benign (60).png: img should be PIL Image. Got <class 'dict'>\n",
            "Error loading /content/drive/MyDrive/archive (14)/Dataset_BUSI_with_GT/benign/benign (53).png: Unexpected type <class 'dict'>\n"
          ]
        },
        {
          "name": "stderr",
          "output_type": "stream",
          "text": [
            "\rEpoch 1/5:  58%|█████▊    | 76/130 [00:31<00:21,  2.46it/s]"
          ]
        },
        {
          "name": "stdout",
          "output_type": "stream",
          "text": [
            "Error loading /content/drive/MyDrive/archive (14)/Dataset_BUSI_with_GT/benign/benign (118).png: Unexpected type <class 'dict'>\n",
            "Error loading /content/drive/MyDrive/archive (14)/Dataset_BUSI_with_GT/benign/benign (197).png: Unexpected type <class 'dict'>\n",
            "Error loading /content/drive/MyDrive/archive (14)/Dataset_BUSI_with_GT/benign/benign (66).png: Unexpected type <class 'dict'>\n",
            "Error loading /content/drive/MyDrive/archive (14)/Dataset_BUSI_with_GT/malignant/malignant (5).png: img should be PIL Image. Got <class 'dict'>\n"
          ]
        },
        {
          "name": "stderr",
          "output_type": "stream",
          "text": [
            "\rEpoch 1/5:  59%|█████▉    | 77/130 [00:31<00:21,  2.48it/s]"
          ]
        },
        {
          "name": "stdout",
          "output_type": "stream",
          "text": [
            "Error loading /content/drive/MyDrive/archive (14)/Dataset_BUSI_with_GT/benign/benign (89).png: Unexpected type <class 'dict'>\n",
            "Error loading /content/drive/MyDrive/archive (14)/Dataset_BUSI_with_GT/benign/benign (152).png: Unexpected type <class 'dict'>\n",
            "Error loading /content/drive/MyDrive/archive (14)/Dataset_BUSI_with_GT/benign/benign (151).png: Unexpected type <class 'dict'>\n",
            "Error loading /content/drive/MyDrive/archive (14)/Dataset_BUSI_with_GT/benign/benign (139).png: img should be PIL Image. Got <class 'dict'>\n"
          ]
        },
        {
          "name": "stderr",
          "output_type": "stream",
          "text": [
            "\rEpoch 1/5:  60%|██████    | 78/130 [00:32<00:20,  2.49it/s]"
          ]
        },
        {
          "name": "stdout",
          "output_type": "stream",
          "text": [
            "Error loading /content/drive/MyDrive/archive (14)/Dataset_BUSI_with_GT/benign/benign (51).png: Unexpected type <class 'dict'>\n",
            "Error loading /content/drive/MyDrive/archive (14)/Dataset_BUSI_with_GT/malignant/malignant (73).png: Unexpected type <class 'dict'>\n",
            "Error loading /content/drive/MyDrive/archive (14)/Dataset_BUSI_with_GT/benign/benign (296).png: Unexpected type <class 'dict'>\n",
            "Error loading /content/drive/MyDrive/archive (14)/Dataset_BUSI_with_GT/benign/benign (283).png: Unexpected type <class 'dict'>\n"
          ]
        },
        {
          "name": "stderr",
          "output_type": "stream",
          "text": [
            "\rEpoch 1/5:  61%|██████    | 79/130 [00:32<00:19,  2.58it/s]"
          ]
        },
        {
          "name": "stdout",
          "output_type": "stream",
          "text": [
            "Error loading /content/drive/MyDrive/archive (14)/Dataset_BUSI_with_GT/benign/benign (105).png: img should be PIL Image. Got <class 'dict'>\n",
            "Error loading /content/drive/MyDrive/archive (14)/Dataset_BUSI_with_GT/benign/benign (419).png: img should be PIL Image. Got <class 'dict'>\n",
            "Error loading /content/drive/MyDrive/archive (14)/Dataset_BUSI_with_GT/benign/benign (369).png: Unexpected type <class 'dict'>\n"
          ]
        },
        {
          "name": "stderr",
          "output_type": "stream",
          "text": [
            "\rEpoch 1/5:  62%|██████▏   | 80/130 [00:33<00:20,  2.40it/s]"
          ]
        },
        {
          "name": "stdout",
          "output_type": "stream",
          "text": [
            "Error loading /content/drive/MyDrive/archive (14)/Dataset_BUSI_with_GT/benign/benign (384).png: img should be PIL Image. Got <class 'dict'>\n",
            "Error loading /content/drive/MyDrive/archive (14)/Dataset_BUSI_with_GT/malignant/malignant (130).png: Unexpected type <class 'dict'>\n",
            "Error loading /content/drive/MyDrive/archive (14)/Dataset_BUSI_with_GT/malignant/malignant (101).png: img should be PIL Image. Got <class 'dict'>\n",
            "Error loading /content/drive/MyDrive/archive (14)/Dataset_BUSI_with_GT/benign/benign (111).png: img should be PIL Image. Got <class 'dict'>\n",
            "Error loading /content/drive/MyDrive/archive (14)/Dataset_BUSI_with_GT/benign/benign (428).png: Unexpected type <class 'dict'>\n"
          ]
        },
        {
          "name": "stderr",
          "output_type": "stream",
          "text": [
            "\rEpoch 1/5:  62%|██████▏   | 81/130 [00:33<00:19,  2.46it/s]"
          ]
        },
        {
          "name": "stdout",
          "output_type": "stream",
          "text": [
            "Error loading /content/drive/MyDrive/archive (14)/Dataset_BUSI_with_GT/benign/benign (224).png: img should be PIL Image. Got <class 'dict'>\n",
            "Error loading /content/drive/MyDrive/archive (14)/Dataset_BUSI_with_GT/benign/benign (98).png: Unexpected type <class 'dict'>\n",
            "Error loading /content/drive/MyDrive/archive (14)/Dataset_BUSI_with_GT/benign/benign (406).png: Unexpected type <class 'dict'>\n",
            "Error loading /content/drive/MyDrive/archive (14)/Dataset_BUSI_with_GT/benign/benign (368).png: img should be PIL Image. Got <class 'dict'>\n"
          ]
        },
        {
          "name": "stderr",
          "output_type": "stream",
          "text": [
            "\rEpoch 1/5:  63%|██████▎   | 82/130 [00:33<00:19,  2.46it/s]"
          ]
        },
        {
          "name": "stdout",
          "output_type": "stream",
          "text": [
            "Error loading /content/drive/MyDrive/archive (14)/Dataset_BUSI_with_GT/benign/benign (219).png: img should be PIL Image. Got <class 'dict'>\n",
            "Error loading /content/drive/MyDrive/archive (14)/Dataset_BUSI_with_GT/benign/benign (245).png: img should be PIL Image. Got <class 'dict'>\n",
            "Error loading /content/drive/MyDrive/archive (14)/Dataset_BUSI_with_GT/malignant/malignant (188).png: img should be PIL Image. Got <class 'dict'>\n",
            "Error loading /content/drive/MyDrive/archive (14)/Dataset_BUSI_with_GT/benign/benign (33).png: Unexpected type <class 'dict'>\n"
          ]
        },
        {
          "name": "stderr",
          "output_type": "stream",
          "text": [
            "\rEpoch 1/5:  64%|██████▍   | 83/130 [00:34<00:18,  2.53it/s]"
          ]
        },
        {
          "name": "stdout",
          "output_type": "stream",
          "text": [
            "Error loading /content/drive/MyDrive/archive (14)/Dataset_BUSI_with_GT/benign/benign (315).png: Unexpected type <class 'dict'>\n",
            "Error loading /content/drive/MyDrive/archive (14)/Dataset_BUSI_with_GT/malignant/malignant (160).png: Unexpected type <class 'dict'>\n",
            "Error loading /content/drive/MyDrive/archive (14)/Dataset_BUSI_with_GT/benign/benign (14).png: img should be PIL Image. Got <class 'dict'>\n",
            "Error loading /content/drive/MyDrive/archive (14)/Dataset_BUSI_with_GT/malignant/malignant (157).png: img should be PIL Image. Got <class 'dict'>\n"
          ]
        },
        {
          "name": "stderr",
          "output_type": "stream",
          "text": [
            "\rEpoch 1/5:  65%|██████▍   | 84/130 [00:34<00:18,  2.52it/s]"
          ]
        },
        {
          "name": "stdout",
          "output_type": "stream",
          "text": [
            "Error loading /content/drive/MyDrive/archive (14)/Dataset_BUSI_with_GT/benign/benign (7).png: Unexpected type <class 'dict'>\n",
            "Error loading /content/drive/MyDrive/archive (14)/Dataset_BUSI_with_GT/malignant/malignant (32).png: Unexpected type <class 'dict'>\n",
            "Error loading /content/drive/MyDrive/archive (14)/Dataset_BUSI_with_GT/benign/benign (227).png: Unexpected type <class 'dict'>\n",
            "Error loading /content/drive/MyDrive/archive (14)/Dataset_BUSI_with_GT/malignant/malignant (210).png: img should be PIL Image. Got <class 'dict'>\n"
          ]
        },
        {
          "name": "stderr",
          "output_type": "stream",
          "text": [
            "\rEpoch 1/5:  65%|██████▌   | 85/130 [00:35<00:18,  2.49it/s]"
          ]
        },
        {
          "name": "stdout",
          "output_type": "stream",
          "text": [
            "Error loading /content/drive/MyDrive/archive (14)/Dataset_BUSI_with_GT/benign/benign (41).png: img should be PIL Image. Got <class 'dict'>\n",
            "Error loading /content/drive/MyDrive/archive (14)/Dataset_BUSI_with_GT/benign/benign (187).png: img should be PIL Image. Got <class 'dict'>\n",
            "Error loading /content/drive/MyDrive/archive (14)/Dataset_BUSI_with_GT/malignant/malignant (53).png: img should be PIL Image. Got <class 'dict'>\n",
            "Error loading /content/drive/MyDrive/archive (14)/Dataset_BUSI_with_GT/benign/benign (85).png: img should be PIL Image. Got <class 'dict'>\n"
          ]
        },
        {
          "name": "stderr",
          "output_type": "stream",
          "text": [
            "\rEpoch 1/5:  66%|██████▌   | 86/130 [00:35<00:17,  2.49it/s]"
          ]
        },
        {
          "name": "stdout",
          "output_type": "stream",
          "text": [
            "Error loading /content/drive/MyDrive/archive (14)/Dataset_BUSI_with_GT/malignant/malignant (169).png: img should be PIL Image. Got <class 'dict'>\n",
            "Error loading /content/drive/MyDrive/archive (14)/Dataset_BUSI_with_GT/benign/benign (418).png: Unexpected type <class 'dict'>\n",
            "Error loading /content/drive/MyDrive/archive (14)/Dataset_BUSI_with_GT/benign/benign (390).png: Unexpected type <class 'dict'>\n",
            "Error loading /content/drive/MyDrive/archive (14)/Dataset_BUSI_with_GT/benign/benign (30).png: img should be PIL Image. Got <class 'dict'>\n"
          ]
        },
        {
          "name": "stderr",
          "output_type": "stream",
          "text": [
            "\rEpoch 1/5:  67%|██████▋   | 87/130 [00:35<00:17,  2.51it/s]"
          ]
        },
        {
          "name": "stdout",
          "output_type": "stream",
          "text": [
            "Error loading /content/drive/MyDrive/archive (14)/Dataset_BUSI_with_GT/benign/benign (424).png: img should be PIL Image. Got <class 'dict'>\n",
            "Error loading /content/drive/MyDrive/archive (14)/Dataset_BUSI_with_GT/malignant/malignant (113).png: Unexpected type <class 'dict'>\n",
            "Error loading /content/drive/MyDrive/archive (14)/Dataset_BUSI_with_GT/benign/benign (21).png: img should be PIL Image. Got <class 'dict'>\n",
            "Error loading /content/drive/MyDrive/archive (14)/Dataset_BUSI_with_GT/benign/benign (207).png: img should be PIL Image. Got <class 'dict'>\n"
          ]
        },
        {
          "name": "stderr",
          "output_type": "stream",
          "text": [
            "\rEpoch 1/5:  68%|██████▊   | 88/130 [00:36<00:16,  2.54it/s]"
          ]
        },
        {
          "name": "stdout",
          "output_type": "stream",
          "text": [
            "Error loading /content/drive/MyDrive/archive (14)/Dataset_BUSI_with_GT/benign/benign (63).png: img should be PIL Image. Got <class 'dict'>\n",
            "Error loading /content/drive/MyDrive/archive (14)/Dataset_BUSI_with_GT/benign/benign (163).png: img should be PIL Image. Got <class 'dict'>\n",
            "Error loading /content/drive/MyDrive/archive (14)/Dataset_BUSI_with_GT/malignant/malignant (78).png: img should be PIL Image. Got <class 'dict'>\n"
          ]
        },
        {
          "name": "stderr",
          "output_type": "stream",
          "text": [
            "\rEpoch 1/5:  68%|██████▊   | 89/130 [00:36<00:16,  2.42it/s]"
          ]
        },
        {
          "name": "stdout",
          "output_type": "stream",
          "text": [
            "Error loading /content/drive/MyDrive/archive (14)/Dataset_BUSI_with_GT/benign/benign (140).png: img should be PIL Image. Got <class 'dict'>\n",
            "Error loading /content/drive/MyDrive/archive (14)/Dataset_BUSI_with_GT/malignant/malignant (89).png: img should be PIL Image. Got <class 'dict'>\n",
            "Error loading /content/drive/MyDrive/archive (14)/Dataset_BUSI_with_GT/malignant/malignant (118).png: Unexpected type <class 'dict'>\n",
            "Error loading /content/drive/MyDrive/archive (14)/Dataset_BUSI_with_GT/benign/benign (173).png: img should be PIL Image. Got <class 'dict'>\n"
          ]
        },
        {
          "name": "stderr",
          "output_type": "stream",
          "text": [
            "\rEpoch 1/5:  69%|██████▉   | 90/130 [00:37<00:17,  2.28it/s]"
          ]
        },
        {
          "name": "stdout",
          "output_type": "stream",
          "text": [
            "Error loading /content/drive/MyDrive/archive (14)/Dataset_BUSI_with_GT/benign/benign (353).png: Unexpected type <class 'dict'>\n",
            "Error loading /content/drive/MyDrive/archive (14)/Dataset_BUSI_with_GT/malignant/malignant (179).png: img should be PIL Image. Got <class 'dict'>\n",
            "Error loading /content/drive/MyDrive/archive (14)/Dataset_BUSI_with_GT/malignant/malignant (49).png: img should be PIL Image. Got <class 'dict'>\n",
            "Error loading /content/drive/MyDrive/archive (14)/Dataset_BUSI_with_GT/malignant/malignant (123).png: Unexpected type <class 'dict'>\n",
            "Error loading /content/drive/MyDrive/archive (14)/Dataset_BUSI_with_GT/benign/benign (264).png: img should be PIL Image. Got <class 'dict'>\n"
          ]
        },
        {
          "name": "stderr",
          "output_type": "stream",
          "text": [
            "\rEpoch 1/5:  70%|███████   | 91/130 [00:37<00:16,  2.32it/s]"
          ]
        },
        {
          "name": "stdout",
          "output_type": "stream",
          "text": [
            "Error loading /content/drive/MyDrive/archive (14)/Dataset_BUSI_with_GT/malignant/malignant (119).png: Unexpected type <class 'dict'>\n",
            "Error loading /content/drive/MyDrive/archive (14)/Dataset_BUSI_with_GT/benign/benign (39).png: Unexpected type <class 'dict'>\n",
            "Error loading /content/drive/MyDrive/archive (14)/Dataset_BUSI_with_GT/benign/benign (75).png: Unexpected type <class 'dict'>\n"
          ]
        },
        {
          "name": "stderr",
          "output_type": "stream",
          "text": [
            "\rEpoch 1/5:  71%|███████   | 92/130 [00:38<00:17,  2.17it/s]"
          ]
        },
        {
          "name": "stdout",
          "output_type": "stream",
          "text": [
            "Error loading /content/drive/MyDrive/archive (14)/Dataset_BUSI_with_GT/benign/benign (416).png: Unexpected type <class 'dict'>\n",
            "Error loading /content/drive/MyDrive/archive (14)/Dataset_BUSI_with_GT/benign/benign (95).png: img should be PIL Image. Got <class 'dict'>\n",
            "Error loading /content/drive/MyDrive/archive (14)/Dataset_BUSI_with_GT/malignant/malignant (164).png: img should be PIL Image. Got <class 'dict'>\n",
            "Error loading /content/drive/MyDrive/archive (14)/Dataset_BUSI_with_GT/benign/benign (437).png: img should be PIL Image. Got <class 'dict'>\n"
          ]
        },
        {
          "name": "stderr",
          "output_type": "stream",
          "text": [
            "\rEpoch 1/5:  72%|███████▏  | 93/130 [00:38<00:17,  2.13it/s]"
          ]
        },
        {
          "name": "stdout",
          "output_type": "stream",
          "text": [
            "Error loading /content/drive/MyDrive/archive (14)/Dataset_BUSI_with_GT/benign/benign (157).png: Unexpected type <class 'dict'>\n",
            "Error loading /content/drive/MyDrive/archive (14)/Dataset_BUSI_with_GT/malignant/malignant (177).png: img should be PIL Image. Got <class 'dict'>\n",
            "Error loading /content/drive/MyDrive/archive (14)/Dataset_BUSI_with_GT/benign/benign (11).png: Unexpected type <class 'dict'>\n",
            "Error loading /content/drive/MyDrive/archive (14)/Dataset_BUSI_with_GT/malignant/malignant (166).png: Unexpected type <class 'dict'>\n"
          ]
        },
        {
          "name": "stderr",
          "output_type": "stream",
          "text": [
            "\rEpoch 1/5:  72%|███████▏  | 94/130 [00:39<00:17,  2.00it/s]"
          ]
        },
        {
          "name": "stdout",
          "output_type": "stream",
          "text": [
            "Error loading /content/drive/MyDrive/archive (14)/Dataset_BUSI_with_GT/malignant/malignant (193).png: img should be PIL Image. Got <class 'dict'>\n",
            "Error loading /content/drive/MyDrive/archive (14)/Dataset_BUSI_with_GT/benign/benign (147).png: img should be PIL Image. Got <class 'dict'>\n",
            "Error loading /content/drive/MyDrive/archive (14)/Dataset_BUSI_with_GT/benign/benign (36).png: Unexpected type <class 'dict'>\n",
            "Error loading /content/drive/MyDrive/archive (14)/Dataset_BUSI_with_GT/malignant/malignant (103).png: img should be PIL Image. Got <class 'dict'>\n"
          ]
        },
        {
          "name": "stderr",
          "output_type": "stream",
          "text": [
            "\rEpoch 1/5:  73%|███████▎  | 95/130 [00:39<00:17,  2.01it/s]"
          ]
        },
        {
          "name": "stdout",
          "output_type": "stream",
          "text": [
            "Error loading /content/drive/MyDrive/archive (14)/Dataset_BUSI_with_GT/benign/benign (404).png: Unexpected type <class 'dict'>\n",
            "Error loading /content/drive/MyDrive/archive (14)/Dataset_BUSI_with_GT/benign/benign (67).png: Unexpected type <class 'dict'>\n",
            "Error loading /content/drive/MyDrive/archive (14)/Dataset_BUSI_with_GT/benign/benign (198).png: Unexpected type <class 'dict'>\n",
            "Error loading /content/drive/MyDrive/archive (14)/Dataset_BUSI_with_GT/benign/benign (342).png: img should be PIL Image. Got <class 'dict'>\n"
          ]
        },
        {
          "name": "stderr",
          "output_type": "stream",
          "text": [
            "\rEpoch 1/5:  74%|███████▍  | 96/130 [00:40<00:16,  2.04it/s]"
          ]
        },
        {
          "name": "stdout",
          "output_type": "stream",
          "text": [
            "Error loading /content/drive/MyDrive/archive (14)/Dataset_BUSI_with_GT/benign/benign (287).png: img should be PIL Image. Got <class 'dict'>\n",
            "Error loading /content/drive/MyDrive/archive (14)/Dataset_BUSI_with_GT/benign/benign (411).png: img should be PIL Image. Got <class 'dict'>\n",
            "Error loading /content/drive/MyDrive/archive (14)/Dataset_BUSI_with_GT/benign/benign (333).png: img should be PIL Image. Got <class 'dict'>\n",
            "Error loading /content/drive/MyDrive/archive (14)/Dataset_BUSI_with_GT/benign/benign (273).png: img should be PIL Image. Got <class 'dict'>\n",
            "Error loading /content/drive/MyDrive/archive (14)/Dataset_BUSI_with_GT/benign/benign (34).png: Unexpected type <class 'dict'>\n"
          ]
        },
        {
          "name": "stderr",
          "output_type": "stream",
          "text": [
            "\rEpoch 1/5:  75%|███████▍  | 97/130 [00:40<00:15,  2.10it/s]"
          ]
        },
        {
          "name": "stdout",
          "output_type": "stream",
          "text": [
            "Error loading /content/drive/MyDrive/archive (14)/Dataset_BUSI_with_GT/benign/benign (76).png: Unexpected type <class 'dict'>\n",
            "Error loading /content/drive/MyDrive/archive (14)/Dataset_BUSI_with_GT/benign/benign (425).png: Unexpected type <class 'dict'>\n",
            "Error loading /content/drive/MyDrive/archive (14)/Dataset_BUSI_with_GT/malignant/malignant (135).png: img should be PIL Image. Got <class 'dict'>\n",
            "Error loading /content/drive/MyDrive/archive (14)/Dataset_BUSI_with_GT/benign/benign (101).png: Unexpected type <class 'dict'>\n"
          ]
        },
        {
          "name": "stderr",
          "output_type": "stream",
          "text": [
            "\rEpoch 1/5:  75%|███████▌  | 98/130 [00:41<00:15,  2.12it/s]"
          ]
        },
        {
          "name": "stdout",
          "output_type": "stream",
          "text": [
            "Error loading /content/drive/MyDrive/archive (14)/Dataset_BUSI_with_GT/benign/benign (362).png: Unexpected type <class 'dict'>\n",
            "Error loading /content/drive/MyDrive/archive (14)/Dataset_BUSI_with_GT/benign/benign (307).png: img should be PIL Image. Got <class 'dict'>\n",
            "Error loading /content/drive/MyDrive/archive (14)/Dataset_BUSI_with_GT/malignant/malignant (74).png: img should be PIL Image. Got <class 'dict'>\n",
            "Error loading /content/drive/MyDrive/archive (14)/Dataset_BUSI_with_GT/malignant/malignant (161).png: Unexpected type <class 'dict'>\n"
          ]
        },
        {
          "name": "stderr",
          "output_type": "stream",
          "text": [
            "\rEpoch 1/5:  76%|███████▌  | 99/130 [00:41<00:14,  2.21it/s]"
          ]
        },
        {
          "name": "stdout",
          "output_type": "stream",
          "text": [
            "Error loading /content/drive/MyDrive/archive (14)/Dataset_BUSI_with_GT/benign/benign (376).png: img should be PIL Image. Got <class 'dict'>\n",
            "Error loading /content/drive/MyDrive/archive (14)/Dataset_BUSI_with_GT/malignant/malignant (99).png: img should be PIL Image. Got <class 'dict'>\n",
            "Error loading /content/drive/MyDrive/archive (14)/Dataset_BUSI_with_GT/benign/benign (195).png: img should be PIL Image. Got <class 'dict'>\n",
            "Error loading /content/drive/MyDrive/archive (14)/Dataset_BUSI_with_GT/benign/benign (355).png: Unexpected type <class 'dict'>\n"
          ]
        },
        {
          "name": "stderr",
          "output_type": "stream",
          "text": [
            "\rEpoch 1/5:  77%|███████▋  | 100/130 [00:41<00:13,  2.28it/s]"
          ]
        },
        {
          "name": "stdout",
          "output_type": "stream",
          "text": [
            "Error loading /content/drive/MyDrive/archive (14)/Dataset_BUSI_with_GT/benign/benign (275).png: img should be PIL Image. Got <class 'dict'>\n",
            "Error loading /content/drive/MyDrive/archive (14)/Dataset_BUSI_with_GT/malignant/malignant (185).png: img should be PIL Image. Got <class 'dict'>\n",
            "Error loading /content/drive/MyDrive/archive (14)/Dataset_BUSI_with_GT/benign/benign (398).png: Unexpected type <class 'dict'>\n",
            "Error loading /content/drive/MyDrive/archive (14)/Dataset_BUSI_with_GT/benign/benign (28).png: img should be PIL Image. Got <class 'dict'>\n"
          ]
        },
        {
          "name": "stderr",
          "output_type": "stream",
          "text": [
            "\rEpoch 1/5:  78%|███████▊  | 101/130 [00:42<00:12,  2.30it/s]"
          ]
        },
        {
          "name": "stdout",
          "output_type": "stream",
          "text": [
            "Error loading /content/drive/MyDrive/archive (14)/Dataset_BUSI_with_GT/benign/benign (392).png: Unexpected type <class 'dict'>\n",
            "Error loading /content/drive/MyDrive/archive (14)/Dataset_BUSI_with_GT/benign/benign (372).png: img should be PIL Image. Got <class 'dict'>\n",
            "Error loading /content/drive/MyDrive/archive (14)/Dataset_BUSI_with_GT/malignant/malignant (82).png: img should be PIL Image. Got <class 'dict'>\n",
            "Error loading /content/drive/MyDrive/archive (14)/Dataset_BUSI_with_GT/benign/benign (357).png: img should be PIL Image. Got <class 'dict'>\n"
          ]
        },
        {
          "name": "stderr",
          "output_type": "stream",
          "text": [
            "\rEpoch 1/5:  78%|███████▊  | 102/130 [00:42<00:11,  2.41it/s]"
          ]
        },
        {
          "name": "stdout",
          "output_type": "stream",
          "text": [
            "Error loading /content/drive/MyDrive/archive (14)/Dataset_BUSI_with_GT/benign/benign (241).png: img should be PIL Image. Got <class 'dict'>\n",
            "Error loading /content/drive/MyDrive/archive (14)/Dataset_BUSI_with_GT/malignant/malignant (93).png: Unexpected type <class 'dict'>\n",
            "Error loading /content/drive/MyDrive/archive (14)/Dataset_BUSI_with_GT/malignant/malignant (70).png: img should be PIL Image. Got <class 'dict'>\n",
            "Error loading /content/drive/MyDrive/archive (14)/Dataset_BUSI_with_GT/benign/benign (77).png: img should be PIL Image. Got <class 'dict'>\n"
          ]
        },
        {
          "name": "stderr",
          "output_type": "stream",
          "text": [
            "\rEpoch 1/5:  79%|███████▉  | 103/130 [00:43<00:11,  2.43it/s]"
          ]
        },
        {
          "name": "stdout",
          "output_type": "stream",
          "text": [
            "Error loading /content/drive/MyDrive/archive (14)/Dataset_BUSI_with_GT/benign/benign (92).png: Unexpected type <class 'dict'>\n",
            "Error loading /content/drive/MyDrive/archive (14)/Dataset_BUSI_with_GT/malignant/malignant (8).png: Unexpected type <class 'dict'>\n",
            "Error loading /content/drive/MyDrive/archive (14)/Dataset_BUSI_with_GT/benign/benign (274).png: img should be PIL Image. Got <class 'dict'>\n",
            "Error loading /content/drive/MyDrive/archive (14)/Dataset_BUSI_with_GT/benign/benign (64).png: Unexpected type <class 'dict'>\n"
          ]
        },
        {
          "name": "stderr",
          "output_type": "stream",
          "text": [
            "\rEpoch 1/5:  80%|████████  | 104/130 [00:43<00:10,  2.46it/s]"
          ]
        },
        {
          "name": "stdout",
          "output_type": "stream",
          "text": [
            "Error loading /content/drive/MyDrive/archive (14)/Dataset_BUSI_with_GT/malignant/malignant (22).png: Unexpected type <class 'dict'>\n",
            "Error loading /content/drive/MyDrive/archive (14)/Dataset_BUSI_with_GT/malignant/malignant (58).png: Unexpected type <class 'dict'>\n",
            "Error loading /content/drive/MyDrive/archive (14)/Dataset_BUSI_with_GT/benign/benign (27).png: Unexpected type <class 'dict'>\n",
            "Error loading /content/drive/MyDrive/archive (14)/Dataset_BUSI_with_GT/malignant/malignant (98).png: img should be PIL Image. Got <class 'dict'>\n"
          ]
        },
        {
          "name": "stderr",
          "output_type": "stream",
          "text": [
            "\rEpoch 1/5:  81%|████████  | 105/130 [00:43<00:10,  2.42it/s]"
          ]
        },
        {
          "name": "stdout",
          "output_type": "stream",
          "text": [
            "Error loading /content/drive/MyDrive/archive (14)/Dataset_BUSI_with_GT/malignant/malignant (187).png: img should be PIL Image. Got <class 'dict'>\n",
            "Error loading /content/drive/MyDrive/archive (14)/Dataset_BUSI_with_GT/malignant/malignant (205).png: Unexpected type <class 'dict'>\n",
            "Error loading /content/drive/MyDrive/archive (14)/Dataset_BUSI_with_GT/malignant/malignant (90).png: Unexpected type <class 'dict'>\n",
            "Error loading /content/drive/MyDrive/archive (14)/Dataset_BUSI_with_GT/benign/benign (322).png: Unexpected type <class 'dict'>\n"
          ]
        },
        {
          "name": "stderr",
          "output_type": "stream",
          "text": [
            "\rEpoch 1/5:  82%|████████▏ | 106/130 [00:44<00:09,  2.42it/s]"
          ]
        },
        {
          "name": "stdout",
          "output_type": "stream",
          "text": [
            "Error loading /content/drive/MyDrive/archive (14)/Dataset_BUSI_with_GT/malignant/malignant (152).png: Unexpected type <class 'dict'>\n",
            "Error loading /content/drive/MyDrive/archive (14)/Dataset_BUSI_with_GT/benign/benign (291).png: Unexpected type <class 'dict'>\n",
            "Error loading /content/drive/MyDrive/archive (14)/Dataset_BUSI_with_GT/benign/benign (162).png: img should be PIL Image. Got <class 'dict'>\n",
            "Error loading /content/drive/MyDrive/archive (14)/Dataset_BUSI_with_GT/benign/benign (331).png: Unexpected type <class 'dict'>\n"
          ]
        },
        {
          "name": "stderr",
          "output_type": "stream",
          "text": [
            "\rEpoch 1/5:  82%|████████▏ | 107/130 [00:44<00:09,  2.44it/s]"
          ]
        },
        {
          "name": "stdout",
          "output_type": "stream",
          "text": [
            "Error loading /content/drive/MyDrive/archive (14)/Dataset_BUSI_with_GT/benign/benign (238).png: Unexpected type <class 'dict'>\n",
            "Error loading /content/drive/MyDrive/archive (14)/Dataset_BUSI_with_GT/malignant/malignant (145).png: Unexpected type <class 'dict'>\n",
            "Error loading /content/drive/MyDrive/archive (14)/Dataset_BUSI_with_GT/benign/benign (285).png: img should be PIL Image. Got <class 'dict'>\n",
            "Error loading /content/drive/MyDrive/archive (14)/Dataset_BUSI_with_GT/benign/benign (254).png: img should be PIL Image. Got <class 'dict'>\n"
          ]
        },
        {
          "name": "stderr",
          "output_type": "stream",
          "text": [
            "\rEpoch 1/5:  83%|████████▎ | 108/130 [00:45<00:08,  2.51it/s]"
          ]
        },
        {
          "name": "stdout",
          "output_type": "stream",
          "text": [
            "Error loading /content/drive/MyDrive/archive (14)/Dataset_BUSI_with_GT/benign/benign (226).png: img should be PIL Image. Got <class 'dict'>\n",
            "Error loading /content/drive/MyDrive/archive (14)/Dataset_BUSI_with_GT/benign/benign (408).png: Unexpected type <class 'dict'>\n",
            "Error loading /content/drive/MyDrive/archive (14)/Dataset_BUSI_with_GT/benign/benign (164).png: Unexpected type <class 'dict'>\n",
            "Error loading /content/drive/MyDrive/archive (14)/Dataset_BUSI_with_GT/benign/benign (158).png: Unexpected type <class 'dict'>\n"
          ]
        },
        {
          "name": "stderr",
          "output_type": "stream",
          "text": [
            "\rEpoch 1/5:  84%|████████▍ | 109/130 [00:45<00:08,  2.58it/s]"
          ]
        },
        {
          "name": "stdout",
          "output_type": "stream",
          "text": [
            "Error loading /content/drive/MyDrive/archive (14)/Dataset_BUSI_with_GT/benign/benign (348).png: Unexpected type <class 'dict'>\n",
            "Error loading /content/drive/MyDrive/archive (14)/Dataset_BUSI_with_GT/malignant/malignant (110).png: Unexpected type <class 'dict'>\n",
            "Error loading /content/drive/MyDrive/archive (14)/Dataset_BUSI_with_GT/benign/benign (112).png: Unexpected type <class 'dict'>\n",
            "Error loading /content/drive/MyDrive/archive (14)/Dataset_BUSI_with_GT/benign/benign (260).png: img should be PIL Image. Got <class 'dict'>\n"
          ]
        },
        {
          "name": "stderr",
          "output_type": "stream",
          "text": [
            "\rEpoch 1/5:  85%|████████▍ | 110/130 [00:45<00:07,  2.53it/s]"
          ]
        },
        {
          "name": "stdout",
          "output_type": "stream",
          "text": [
            "Error loading /content/drive/MyDrive/archive (14)/Dataset_BUSI_with_GT/benign/benign (214).png: img should be PIL Image. Got <class 'dict'>\n",
            "Error loading /content/drive/MyDrive/archive (14)/Dataset_BUSI_with_GT/benign/benign (332).png: img should be PIL Image. Got <class 'dict'>\n",
            "Error loading /content/drive/MyDrive/archive (14)/Dataset_BUSI_with_GT/benign/benign (84).png: img should be PIL Image. Got <class 'dict'>\n"
          ]
        },
        {
          "name": "stderr",
          "output_type": "stream",
          "text": [
            "\rEpoch 1/5:  85%|████████▌ | 111/130 [00:46<00:07,  2.42it/s]"
          ]
        },
        {
          "name": "stdout",
          "output_type": "stream",
          "text": [
            "Error loading /content/drive/MyDrive/archive (14)/Dataset_BUSI_with_GT/benign/benign (61).png: img should be PIL Image. Got <class 'dict'>\n",
            "Error loading /content/drive/MyDrive/archive (14)/Dataset_BUSI_with_GT/benign/benign (278).png: Unexpected type <class 'dict'>\n",
            "Error loading /content/drive/MyDrive/archive (14)/Dataset_BUSI_with_GT/benign/benign (58).png: img should be PIL Image. Got <class 'dict'>\n",
            "Error loading /content/drive/MyDrive/archive (14)/Dataset_BUSI_with_GT/malignant/malignant (207).png: Unexpected type <class 'dict'>\n",
            "Error loading /content/drive/MyDrive/archive (14)/Dataset_BUSI_with_GT/benign/benign (117).png: img should be PIL Image. Got <class 'dict'>\n"
          ]
        },
        {
          "name": "stderr",
          "output_type": "stream",
          "text": [
            "\rEpoch 1/5:  86%|████████▌ | 112/130 [00:46<00:07,  2.39it/s]"
          ]
        },
        {
          "name": "stdout",
          "output_type": "stream",
          "text": [
            "Error loading /content/drive/MyDrive/archive (14)/Dataset_BUSI_with_GT/benign/benign (313).png: Unexpected type <class 'dict'>\n",
            "Error loading /content/drive/MyDrive/archive (14)/Dataset_BUSI_with_GT/benign/benign (265).png: img should be PIL Image. Got <class 'dict'>\n",
            "Error loading /content/drive/MyDrive/archive (14)/Dataset_BUSI_with_GT/benign/benign (407).png: img should be PIL Image. Got <class 'dict'>\n",
            "Error loading /content/drive/MyDrive/archive (14)/Dataset_BUSI_with_GT/benign/benign (434).png: Unexpected type <class 'dict'>\n"
          ]
        },
        {
          "name": "stderr",
          "output_type": "stream",
          "text": [
            "\rEpoch 1/5:  87%|████████▋ | 113/130 [00:47<00:06,  2.44it/s]"
          ]
        },
        {
          "name": "stdout",
          "output_type": "stream",
          "text": [
            "Error loading /content/drive/MyDrive/archive (14)/Dataset_BUSI_with_GT/benign/benign (50).png: Unexpected type <class 'dict'>\n",
            "Error loading /content/drive/MyDrive/archive (14)/Dataset_BUSI_with_GT/benign/benign (149).png: Unexpected type <class 'dict'>\n",
            "Error loading /content/drive/MyDrive/archive (14)/Dataset_BUSI_with_GT/benign/benign (393).png: img should be PIL Image. Got <class 'dict'>\n",
            "Error loading /content/drive/MyDrive/archive (14)/Dataset_BUSI_with_GT/benign/benign (399).png: img should be PIL Image. Got <class 'dict'>\n"
          ]
        },
        {
          "name": "stderr",
          "output_type": "stream",
          "text": [
            "\rEpoch 1/5:  88%|████████▊ | 114/130 [00:47<00:06,  2.43it/s]"
          ]
        },
        {
          "name": "stdout",
          "output_type": "stream",
          "text": [
            "Error loading /content/drive/MyDrive/archive (14)/Dataset_BUSI_with_GT/benign/benign (378).png: img should be PIL Image. Got <class 'dict'>\n",
            "Error loading /content/drive/MyDrive/archive (14)/Dataset_BUSI_with_GT/benign/benign (71).png: img should be PIL Image. Got <class 'dict'>\n",
            "Error loading /content/drive/MyDrive/archive (14)/Dataset_BUSI_with_GT/malignant/malignant (67).png: img should be PIL Image. Got <class 'dict'>\n",
            "Error loading /content/drive/MyDrive/archive (14)/Dataset_BUSI_with_GT/benign/benign (299).png: Unexpected type <class 'dict'>\n"
          ]
        },
        {
          "name": "stderr",
          "output_type": "stream",
          "text": [
            "\rEpoch 1/5:  88%|████████▊ | 115/130 [00:47<00:06,  2.45it/s]"
          ]
        },
        {
          "name": "stdout",
          "output_type": "stream",
          "text": [
            "Error loading /content/drive/MyDrive/archive (14)/Dataset_BUSI_with_GT/benign/benign (402).png: img should be PIL Image. Got <class 'dict'>\n",
            "Error loading /content/drive/MyDrive/archive (14)/Dataset_BUSI_with_GT/benign/benign (397).png: Unexpected type <class 'dict'>\n",
            "Error loading /content/drive/MyDrive/archive (14)/Dataset_BUSI_with_GT/malignant/malignant (97).png: img should be PIL Image. Got <class 'dict'>\n",
            "Error loading /content/drive/MyDrive/archive (14)/Dataset_BUSI_with_GT/benign/benign (314).png: Unexpected type <class 'dict'>\n"
          ]
        },
        {
          "name": "stderr",
          "output_type": "stream",
          "text": [
            "\rEpoch 1/5:  89%|████████▉ | 116/130 [00:48<00:05,  2.50it/s]"
          ]
        },
        {
          "name": "stdout",
          "output_type": "stream",
          "text": [
            "Error loading /content/drive/MyDrive/archive (14)/Dataset_BUSI_with_GT/malignant/malignant (77).png: Unexpected type <class 'dict'>\n",
            "Error loading /content/drive/MyDrive/archive (14)/Dataset_BUSI_with_GT/benign/benign (235).png: Unexpected type <class 'dict'>\n",
            "Error loading /content/drive/MyDrive/archive (14)/Dataset_BUSI_with_GT/benign/benign (45).png: Unexpected type <class 'dict'>\n",
            "Error loading /content/drive/MyDrive/archive (14)/Dataset_BUSI_with_GT/malignant/malignant (79).png: Unexpected type <class 'dict'>\n"
          ]
        },
        {
          "name": "stderr",
          "output_type": "stream",
          "text": [
            "\rEpoch 1/5:  90%|█████████ | 117/130 [00:48<00:05,  2.45it/s]"
          ]
        },
        {
          "name": "stdout",
          "output_type": "stream",
          "text": [
            "Error loading /content/drive/MyDrive/archive (14)/Dataset_BUSI_with_GT/malignant/malignant (150).png: img should be PIL Image. Got <class 'dict'>\n",
            "Error loading /content/drive/MyDrive/archive (14)/Dataset_BUSI_with_GT/benign/benign (267).png: Unexpected type <class 'dict'>\n",
            "Error loading /content/drive/MyDrive/archive (14)/Dataset_BUSI_with_GT/benign/benign (160).png: Unexpected type <class 'dict'>\n",
            "Error loading /content/drive/MyDrive/archive (14)/Dataset_BUSI_with_GT/malignant/malignant (54).png: img should be PIL Image. Got <class 'dict'>\n"
          ]
        },
        {
          "name": "stderr",
          "output_type": "stream",
          "text": [
            "\rEpoch 1/5:  91%|█████████ | 118/130 [00:49<00:04,  2.48it/s]"
          ]
        },
        {
          "name": "stdout",
          "output_type": "stream",
          "text": [
            "Error loading /content/drive/MyDrive/archive (14)/Dataset_BUSI_with_GT/benign/benign (97).png: img should be PIL Image. Got <class 'dict'>\n",
            "Error loading /content/drive/MyDrive/archive (14)/Dataset_BUSI_with_GT/malignant/malignant (144).png: Unexpected type <class 'dict'>\n",
            "Error loading /content/drive/MyDrive/archive (14)/Dataset_BUSI_with_GT/malignant/malignant (199).png: img should be PIL Image. Got <class 'dict'>\n",
            "Error loading /content/drive/MyDrive/archive (14)/Dataset_BUSI_with_GT/malignant/malignant (29).png: Unexpected type <class 'dict'>\n"
          ]
        },
        {
          "name": "stderr",
          "output_type": "stream",
          "text": [
            "\rEpoch 1/5:  92%|█████████▏| 119/130 [00:49<00:04,  2.54it/s]"
          ]
        },
        {
          "name": "stdout",
          "output_type": "stream",
          "text": [
            "Error loading /content/drive/MyDrive/archive (14)/Dataset_BUSI_with_GT/malignant/malignant (100).png: Unexpected type <class 'dict'>\n",
            "Error loading /content/drive/MyDrive/archive (14)/Dataset_BUSI_with_GT/benign/benign (74).png: Unexpected type <class 'dict'>\n",
            "Error loading /content/drive/MyDrive/archive (14)/Dataset_BUSI_with_GT/benign/benign (26).png: Unexpected type <class 'dict'>\n",
            "Error loading /content/drive/MyDrive/archive (14)/Dataset_BUSI_with_GT/malignant/malignant (26).png: img should be PIL Image. Got <class 'dict'>\n"
          ]
        },
        {
          "name": "stderr",
          "output_type": "stream",
          "text": [
            "\rEpoch 1/5:  92%|█████████▏| 120/130 [00:49<00:03,  2.56it/s]"
          ]
        },
        {
          "name": "stdout",
          "output_type": "stream",
          "text": [
            "Error loading /content/drive/MyDrive/archive (14)/Dataset_BUSI_with_GT/benign/benign (90).png: Unexpected type <class 'dict'>\n",
            "Error loading /content/drive/MyDrive/archive (14)/Dataset_BUSI_with_GT/malignant/malignant (174).png: img should be PIL Image. Got <class 'dict'>\n",
            "Error loading /content/drive/MyDrive/archive (14)/Dataset_BUSI_with_GT/malignant/malignant (109).png: img should be PIL Image. Got <class 'dict'>\n",
            "Error loading /content/drive/MyDrive/archive (14)/Dataset_BUSI_with_GT/benign/benign (300).png: Unexpected type <class 'dict'>\n"
          ]
        },
        {
          "name": "stderr",
          "output_type": "stream",
          "text": [
            "\rEpoch 1/5:  93%|█████████▎| 121/130 [00:50<00:03,  2.53it/s]"
          ]
        },
        {
          "name": "stdout",
          "output_type": "stream",
          "text": [
            "Error loading /content/drive/MyDrive/archive (14)/Dataset_BUSI_with_GT/malignant/malignant (88).png: img should be PIL Image. Got <class 'dict'>\n",
            "Error loading /content/drive/MyDrive/archive (14)/Dataset_BUSI_with_GT/malignant/malignant (170).png: Unexpected type <class 'dict'>\n",
            "Error loading /content/drive/MyDrive/archive (14)/Dataset_BUSI_with_GT/malignant/malignant (196).png: img should be PIL Image. Got <class 'dict'>\n"
          ]
        },
        {
          "name": "stderr",
          "output_type": "stream",
          "text": [
            "\rEpoch 1/5:  94%|█████████▍| 122/130 [00:50<00:03,  2.35it/s]"
          ]
        },
        {
          "name": "stdout",
          "output_type": "stream",
          "text": [
            "Error loading /content/drive/MyDrive/archive (14)/Dataset_BUSI_with_GT/benign/benign (431).png: img should be PIL Image. Got <class 'dict'>\n",
            "Error loading /content/drive/MyDrive/archive (14)/Dataset_BUSI_with_GT/malignant/malignant (127).png: img should be PIL Image. Got <class 'dict'>\n",
            "Error loading /content/drive/MyDrive/archive (14)/Dataset_BUSI_with_GT/malignant/malignant (121).png: Unexpected type <class 'dict'>\n",
            "Error loading /content/drive/MyDrive/archive (14)/Dataset_BUSI_with_GT/benign/benign (127).png: Unexpected type <class 'dict'>\n",
            "Error loading /content/drive/MyDrive/archive (14)/Dataset_BUSI_with_GT/benign/benign (426).png: Unexpected type <class 'dict'>\n"
          ]
        },
        {
          "name": "stderr",
          "output_type": "stream",
          "text": [
            "\rEpoch 1/5:  95%|█████████▍| 123/130 [00:51<00:03,  2.28it/s]"
          ]
        },
        {
          "name": "stdout",
          "output_type": "stream",
          "text": [
            "Error loading /content/drive/MyDrive/archive (14)/Dataset_BUSI_with_GT/malignant/malignant (124).png: img should be PIL Image. Got <class 'dict'>\n",
            "Error loading /content/drive/MyDrive/archive (14)/Dataset_BUSI_with_GT/benign/benign (223).png: Unexpected type <class 'dict'>\n",
            "Error loading /content/drive/MyDrive/archive (14)/Dataset_BUSI_with_GT/benign/benign (261).png: img should be PIL Image. Got <class 'dict'>\n",
            "Error loading /content/drive/MyDrive/archive (14)/Dataset_BUSI_with_GT/benign/benign (396).png: img should be PIL Image. Got <class 'dict'>\n"
          ]
        },
        {
          "name": "stderr",
          "output_type": "stream",
          "text": [
            "\rEpoch 1/5:  95%|█████████▌| 124/130 [00:51<00:02,  2.32it/s]"
          ]
        },
        {
          "name": "stdout",
          "output_type": "stream",
          "text": [
            "Error loading /content/drive/MyDrive/archive (14)/Dataset_BUSI_with_GT/benign/benign (54).png: img should be PIL Image. Got <class 'dict'>\n",
            "Error loading /content/drive/MyDrive/archive (14)/Dataset_BUSI_with_GT/benign/benign (129).png: Unexpected type <class 'dict'>\n",
            "Error loading /content/drive/MyDrive/archive (14)/Dataset_BUSI_with_GT/malignant/malignant (112).png: img should be PIL Image. Got <class 'dict'>\n"
          ]
        },
        {
          "name": "stderr",
          "output_type": "stream",
          "text": [
            "\rEpoch 1/5:  96%|█████████▌| 125/130 [00:52<00:02,  2.20it/s]"
          ]
        },
        {
          "name": "stdout",
          "output_type": "stream",
          "text": [
            "Error loading /content/drive/MyDrive/archive (14)/Dataset_BUSI_with_GT/malignant/malignant (24).png: img should be PIL Image. Got <class 'dict'>\n",
            "Error loading /content/drive/MyDrive/archive (14)/Dataset_BUSI_with_GT/malignant/malignant (21).png: Unexpected type <class 'dict'>\n",
            "Error loading /content/drive/MyDrive/archive (14)/Dataset_BUSI_with_GT/benign/benign (258).png: img should be PIL Image. Got <class 'dict'>\n",
            "Error loading /content/drive/MyDrive/archive (14)/Dataset_BUSI_with_GT/benign/benign (56).png: Unexpected type <class 'dict'>\n"
          ]
        },
        {
          "name": "stderr",
          "output_type": "stream",
          "text": [
            "\rEpoch 1/5:  97%|█████████▋| 126/130 [00:52<00:01,  2.13it/s]"
          ]
        },
        {
          "name": "stdout",
          "output_type": "stream",
          "text": [
            "Error loading /content/drive/MyDrive/archive (14)/Dataset_BUSI_with_GT/malignant/malignant (87).png: img should be PIL Image. Got <class 'dict'>\n",
            "Error loading /content/drive/MyDrive/archive (14)/Dataset_BUSI_with_GT/benign/benign (40).png: img should be PIL Image. Got <class 'dict'>\n",
            "Error loading /content/drive/MyDrive/archive (14)/Dataset_BUSI_with_GT/benign/benign (294).png: Unexpected type <class 'dict'>\n",
            "Error loading /content/drive/MyDrive/archive (14)/Dataset_BUSI_with_GT/malignant/malignant (60).png: img should be PIL Image. Got <class 'dict'>\n"
          ]
        },
        {
          "name": "stderr",
          "output_type": "stream",
          "text": [
            "\rEpoch 1/5:  98%|█████████▊| 127/130 [00:53<00:01,  2.04it/s]"
          ]
        },
        {
          "name": "stdout",
          "output_type": "stream",
          "text": [
            "Error loading /content/drive/MyDrive/archive (14)/Dataset_BUSI_with_GT/benign/benign (47).png: Unexpected type <class 'dict'>\n",
            "Error loading /content/drive/MyDrive/archive (14)/Dataset_BUSI_with_GT/benign/benign (137).png: Unexpected type <class 'dict'>\n",
            "Error loading /content/drive/MyDrive/archive (14)/Dataset_BUSI_with_GT/malignant/malignant (105).png: Unexpected type <class 'dict'>\n",
            "Error loading /content/drive/MyDrive/archive (14)/Dataset_BUSI_with_GT/malignant/malignant (171).png: Unexpected type <class 'dict'>\n"
          ]
        },
        {
          "name": "stderr",
          "output_type": "stream",
          "text": [
            "\rEpoch 1/5:  98%|█████████▊| 128/130 [00:53<00:01,  1.98it/s]"
          ]
        },
        {
          "name": "stdout",
          "output_type": "stream",
          "text": [
            "Error loading /content/drive/MyDrive/archive (14)/Dataset_BUSI_with_GT/benign/benign (279).png: Unexpected type <class 'dict'>\n",
            "Error loading /content/drive/MyDrive/archive (14)/Dataset_BUSI_with_GT/benign/benign (266).png: img should be PIL Image. Got <class 'dict'>\n",
            "Error loading /content/drive/MyDrive/archive (14)/Dataset_BUSI_with_GT/benign/benign (166).png: img should be PIL Image. Got <class 'dict'>\n",
            "Error loading /content/drive/MyDrive/archive (14)/Dataset_BUSI_with_GT/malignant/malignant (10).png: img should be PIL Image. Got <class 'dict'>\n",
            "Error loading /content/drive/MyDrive/archive (14)/Dataset_BUSI_with_GT/benign/benign (262).png: img should be PIL Image. Got <class 'dict'>\n"
          ]
        },
        {
          "name": "stderr",
          "output_type": "stream",
          "text": [
            "Epoch 1/5: 100%|██████████| 130/130 [00:54<00:00,  2.40it/s]\n"
          ]
        },
        {
          "name": "stdout",
          "output_type": "stream",
          "text": [
            "Error loading /content/drive/MyDrive/archive (14)/Dataset_BUSI_with_GT/benign/benign (271).png: Unexpected type <class 'dict'>\n"
          ]
        },
        {
          "name": "stderr",
          "output_type": "stream",
          "text": [
            "\rEvaluating:   0%|          | 0/33 [00:00<?, ?it/s]"
          ]
        },
        {
          "name": "stdout",
          "output_type": "stream",
          "text": [
            "Error loading /content/drive/MyDrive/archive (14)/Dataset_BUSI_with_GT/benign/benign (22).png: img should be PIL Image. Got <class 'dict'>\n",
            "Error loading /content/drive/MyDrive/archive (14)/Dataset_BUSI_with_GT/benign/benign (361).png: img should be PIL Image. Got <class 'dict'>\n",
            "Error loading /content/drive/MyDrive/archive (14)/Dataset_BUSI_with_GT/malignant/malignant (192).png: img should be PIL Image. Got <class 'dict'>\n",
            "Error loading /content/drive/MyDrive/archive (14)/Dataset_BUSI_with_GT/malignant/malignant (181).png: img should be PIL Image. Got <class 'dict'>\n"
          ]
        },
        {
          "name": "stderr",
          "output_type": "stream",
          "text": [
            "\rEvaluating:   3%|▎         | 1/33 [00:00<00:10,  3.11it/s]"
          ]
        },
        {
          "name": "stdout",
          "output_type": "stream",
          "text": [
            "Error loading /content/drive/MyDrive/archive (14)/Dataset_BUSI_with_GT/malignant/malignant (41).png: img should be PIL Image. Got <class 'dict'>\n",
            "Error loading /content/drive/MyDrive/archive (14)/Dataset_BUSI_with_GT/benign/benign (349).png: img should be PIL Image. Got <class 'dict'>\n",
            "Error loading /content/drive/MyDrive/archive (14)/Dataset_BUSI_with_GT/benign/benign (12).png: img should be PIL Image. Got <class 'dict'>\n",
            "Error loading /content/drive/MyDrive/archive (14)/Dataset_BUSI_with_GT/benign/benign (339).png: img should be PIL Image. Got <class 'dict'>\n"
          ]
        },
        {
          "name": "stderr",
          "output_type": "stream",
          "text": [
            "\rEvaluating:   6%|▌         | 2/33 [00:00<00:09,  3.14it/s]"
          ]
        },
        {
          "name": "stdout",
          "output_type": "stream",
          "text": [
            "Error loading /content/drive/MyDrive/archive (14)/Dataset_BUSI_with_GT/benign/benign (317).png: Unexpected type <class 'dict'>\n",
            "Error loading /content/drive/MyDrive/archive (14)/Dataset_BUSI_with_GT/malignant/malignant (34).png: img should be PIL Image. Got <class 'dict'>\n",
            "Error loading /content/drive/MyDrive/archive (14)/Dataset_BUSI_with_GT/malignant/malignant (9).png: img should be PIL Image. Got <class 'dict'>\n",
            "Error loading /content/drive/MyDrive/archive (14)/Dataset_BUSI_with_GT/benign/benign (6).png: Unexpected type <class 'dict'>\n"
          ]
        },
        {
          "name": "stderr",
          "output_type": "stream",
          "text": [
            "\rEvaluating:   9%|▉         | 3/33 [00:00<00:09,  3.19it/s]"
          ]
        },
        {
          "name": "stdout",
          "output_type": "stream",
          "text": [
            "Error loading /content/drive/MyDrive/archive (14)/Dataset_BUSI_with_GT/malignant/malignant (27).png: Unexpected type <class 'dict'>\n",
            "Error loading /content/drive/MyDrive/archive (14)/Dataset_BUSI_with_GT/benign/benign (216).png: img should be PIL Image. Got <class 'dict'>\n",
            "Error loading /content/drive/MyDrive/archive (14)/Dataset_BUSI_with_GT/malignant/malignant (173).png: img should be PIL Image. Got <class 'dict'>\n",
            "Error loading /content/drive/MyDrive/archive (14)/Dataset_BUSI_with_GT/benign/benign (35).png: img should be PIL Image. Got <class 'dict'>\n"
          ]
        },
        {
          "name": "stderr",
          "output_type": "stream",
          "text": [
            "\rEvaluating:  12%|█▏        | 4/33 [00:01<00:09,  3.22it/s]"
          ]
        },
        {
          "name": "stdout",
          "output_type": "stream",
          "text": [
            "Error loading /content/drive/MyDrive/archive (14)/Dataset_BUSI_with_GT/benign/benign (103).png: Unexpected type <class 'dict'>\n",
            "Error loading /content/drive/MyDrive/archive (14)/Dataset_BUSI_with_GT/malignant/malignant (47).png: img should be PIL Image. Got <class 'dict'>\n",
            "Error loading /content/drive/MyDrive/archive (14)/Dataset_BUSI_with_GT/benign/benign (186).png: Unexpected type <class 'dict'>\n",
            "Error loading /content/drive/MyDrive/archive (14)/Dataset_BUSI_with_GT/benign/benign (145).png: img should be PIL Image. Got <class 'dict'>\n"
          ]
        },
        {
          "name": "stderr",
          "output_type": "stream",
          "text": [
            "\rEvaluating:  15%|█▌        | 5/33 [00:01<00:09,  3.04it/s]"
          ]
        },
        {
          "name": "stdout",
          "output_type": "stream",
          "text": [
            "Error loading /content/drive/MyDrive/archive (14)/Dataset_BUSI_with_GT/benign/benign (380).png: img should be PIL Image. Got <class 'dict'>\n",
            "Error loading /content/drive/MyDrive/archive (14)/Dataset_BUSI_with_GT/benign/benign (130).png: img should be PIL Image. Got <class 'dict'>\n",
            "Error loading /content/drive/MyDrive/archive (14)/Dataset_BUSI_with_GT/benign/benign (73).png: img should be PIL Image. Got <class 'dict'>\n",
            "Error loading /content/drive/MyDrive/archive (14)/Dataset_BUSI_with_GT/benign/benign (201).png: img should be PIL Image. Got <class 'dict'>\n"
          ]
        },
        {
          "name": "stderr",
          "output_type": "stream",
          "text": [
            "\rEvaluating:  18%|█▊        | 6/33 [00:01<00:08,  3.05it/s]"
          ]
        },
        {
          "name": "stdout",
          "output_type": "stream",
          "text": [
            "Error loading /content/drive/MyDrive/archive (14)/Dataset_BUSI_with_GT/benign/benign (298).png: img should be PIL Image. Got <class 'dict'>\n",
            "Error loading /content/drive/MyDrive/archive (14)/Dataset_BUSI_with_GT/malignant/malignant (11).png: Unexpected type <class 'dict'>\n",
            "Error loading /content/drive/MyDrive/archive (14)/Dataset_BUSI_with_GT/benign/benign (204).png: Unexpected type <class 'dict'>\n",
            "Error loading /content/drive/MyDrive/archive (14)/Dataset_BUSI_with_GT/benign/benign (114).png: img should be PIL Image. Got <class 'dict'>\n"
          ]
        },
        {
          "name": "stderr",
          "output_type": "stream",
          "text": [
            "\rEvaluating:  21%|██        | 7/33 [00:02<00:08,  3.09it/s]"
          ]
        },
        {
          "name": "stdout",
          "output_type": "stream",
          "text": [
            "Error loading /content/drive/MyDrive/archive (14)/Dataset_BUSI_with_GT/malignant/malignant (42).png: img should be PIL Image. Got <class 'dict'>\n",
            "Error loading /content/drive/MyDrive/archive (14)/Dataset_BUSI_with_GT/malignant/malignant (72).png: img should be PIL Image. Got <class 'dict'>\n",
            "Error loading /content/drive/MyDrive/archive (14)/Dataset_BUSI_with_GT/benign/benign (422).png: img should be PIL Image. Got <class 'dict'>\n",
            "Error loading /content/drive/MyDrive/archive (14)/Dataset_BUSI_with_GT/benign/benign (288).png: Unexpected type <class 'dict'>\n"
          ]
        },
        {
          "name": "stderr",
          "output_type": "stream",
          "text": [
            "\rEvaluating:  24%|██▍       | 8/33 [00:02<00:08,  3.06it/s]"
          ]
        },
        {
          "name": "stdout",
          "output_type": "stream",
          "text": [
            "Error loading /content/drive/MyDrive/archive (14)/Dataset_BUSI_with_GT/benign/benign (335).png: Unexpected type <class 'dict'>\n",
            "Error loading /content/drive/MyDrive/archive (14)/Dataset_BUSI_with_GT/benign/benign (202).png: Unexpected type <class 'dict'>\n",
            "Error loading /content/drive/MyDrive/archive (14)/Dataset_BUSI_with_GT/benign/benign (319).png: Unexpected type <class 'dict'>\n",
            "Error loading /content/drive/MyDrive/archive (14)/Dataset_BUSI_with_GT/malignant/malignant (175).png: img should be PIL Image. Got <class 'dict'>\n"
          ]
        },
        {
          "name": "stderr",
          "output_type": "stream",
          "text": [
            "\rEvaluating:  27%|██▋       | 9/33 [00:02<00:07,  3.07it/s]"
          ]
        },
        {
          "name": "stdout",
          "output_type": "stream",
          "text": [
            "Error loading /content/drive/MyDrive/archive (14)/Dataset_BUSI_with_GT/malignant/malignant (194).png: img should be PIL Image. Got <class 'dict'>\n",
            "Error loading /content/drive/MyDrive/archive (14)/Dataset_BUSI_with_GT/benign/benign (365).png: img should be PIL Image. Got <class 'dict'>\n",
            "Error loading /content/drive/MyDrive/archive (14)/Dataset_BUSI_with_GT/benign/benign (106).png: Unexpected type <class 'dict'>\n",
            "Error loading /content/drive/MyDrive/archive (14)/Dataset_BUSI_with_GT/benign/benign (293).png: img should be PIL Image. Got <class 'dict'>\n"
          ]
        },
        {
          "name": "stderr",
          "output_type": "stream",
          "text": [
            "\rEvaluating:  30%|███       | 10/33 [00:03<00:07,  2.90it/s]"
          ]
        },
        {
          "name": "stdout",
          "output_type": "stream",
          "text": [
            "Error loading /content/drive/MyDrive/archive (14)/Dataset_BUSI_with_GT/benign/benign (421).png: img should be PIL Image. Got <class 'dict'>\n",
            "Error loading /content/drive/MyDrive/archive (14)/Dataset_BUSI_with_GT/malignant/malignant (1).png: img should be PIL Image. Got <class 'dict'>\n",
            "Error loading /content/drive/MyDrive/archive (14)/Dataset_BUSI_with_GT/benign/benign (215).png: img should be PIL Image. Got <class 'dict'>\n",
            "Error loading /content/drive/MyDrive/archive (14)/Dataset_BUSI_with_GT/malignant/malignant (35).png: img should be PIL Image. Got <class 'dict'>\n"
          ]
        },
        {
          "name": "stderr",
          "output_type": "stream",
          "text": [
            "\rEvaluating:  33%|███▎      | 11/33 [00:03<00:07,  2.98it/s]"
          ]
        },
        {
          "name": "stdout",
          "output_type": "stream",
          "text": [
            "Error loading /content/drive/MyDrive/archive (14)/Dataset_BUSI_with_GT/benign/benign (9).png: img should be PIL Image. Got <class 'dict'>\n",
            "Error loading /content/drive/MyDrive/archive (14)/Dataset_BUSI_with_GT/benign/benign (94).png: Unexpected type <class 'dict'>\n",
            "Error loading /content/drive/MyDrive/archive (14)/Dataset_BUSI_with_GT/benign/benign (49).png: Unexpected type <class 'dict'>\n",
            "Error loading /content/drive/MyDrive/archive (14)/Dataset_BUSI_with_GT/malignant/malignant (134).png: Unexpected type <class 'dict'>\n"
          ]
        },
        {
          "name": "stderr",
          "output_type": "stream",
          "text": [
            "\rEvaluating:  36%|███▋      | 12/33 [00:03<00:07,  2.86it/s]"
          ]
        },
        {
          "name": "stdout",
          "output_type": "stream",
          "text": [
            "Error loading /content/drive/MyDrive/archive (14)/Dataset_BUSI_with_GT/malignant/malignant (15).png: Unexpected type <class 'dict'>\n",
            "Error loading /content/drive/MyDrive/archive (14)/Dataset_BUSI_with_GT/benign/benign (263).png: img should be PIL Image. Got <class 'dict'>\n",
            "Error loading /content/drive/MyDrive/archive (14)/Dataset_BUSI_with_GT/benign/benign (172).png: Unexpected type <class 'dict'>\n",
            "Error loading /content/drive/MyDrive/archive (14)/Dataset_BUSI_with_GT/malignant/malignant (114).png: img should be PIL Image. Got <class 'dict'>\n"
          ]
        },
        {
          "name": "stderr",
          "output_type": "stream",
          "text": [
            "\rEvaluating:  39%|███▉      | 13/33 [00:04<00:06,  3.03it/s]"
          ]
        },
        {
          "name": "stdout",
          "output_type": "stream",
          "text": [
            "Error loading /content/drive/MyDrive/archive (14)/Dataset_BUSI_with_GT/malignant/malignant (147).png: Unexpected type <class 'dict'>\n",
            "Error loading /content/drive/MyDrive/archive (14)/Dataset_BUSI_with_GT/benign/benign (341).png: Unexpected type <class 'dict'>\n",
            "Error loading /content/drive/MyDrive/archive (14)/Dataset_BUSI_with_GT/benign/benign (176).png: img should be PIL Image. Got <class 'dict'>\n",
            "Error loading /content/drive/MyDrive/archive (14)/Dataset_BUSI_with_GT/malignant/malignant (52).png: Unexpected type <class 'dict'>\n"
          ]
        },
        {
          "name": "stderr",
          "output_type": "stream",
          "text": [
            "\rEvaluating:  42%|████▏     | 14/33 [00:04<00:06,  2.98it/s]"
          ]
        },
        {
          "name": "stdout",
          "output_type": "stream",
          "text": [
            "Error loading /content/drive/MyDrive/archive (14)/Dataset_BUSI_with_GT/benign/benign (142).png: Unexpected type <class 'dict'>\n",
            "Error loading /content/drive/MyDrive/archive (14)/Dataset_BUSI_with_GT/benign/benign (410).png: img should be PIL Image. Got <class 'dict'>\n",
            "Error loading /content/drive/MyDrive/archive (14)/Dataset_BUSI_with_GT/malignant/malignant (204).png: img should be PIL Image. Got <class 'dict'>\n"
          ]
        },
        {
          "name": "stderr",
          "output_type": "stream",
          "text": [
            "\rEvaluating:  45%|████▌     | 15/33 [00:05<00:06,  2.78it/s]"
          ]
        },
        {
          "name": "stdout",
          "output_type": "stream",
          "text": [
            "Error loading /content/drive/MyDrive/archive (14)/Dataset_BUSI_with_GT/benign/benign (389).png: Unexpected type <class 'dict'>\n",
            "Error loading /content/drive/MyDrive/archive (14)/Dataset_BUSI_with_GT/benign/benign (305).png: img should be PIL Image. Got <class 'dict'>\n",
            "Error loading /content/drive/MyDrive/archive (14)/Dataset_BUSI_with_GT/malignant/malignant (206).png: Unexpected type <class 'dict'>\n",
            "Error loading /content/drive/MyDrive/archive (14)/Dataset_BUSI_with_GT/benign/benign (311).png: img should be PIL Image. Got <class 'dict'>\n",
            "Error loading /content/drive/MyDrive/archive (14)/Dataset_BUSI_with_GT/malignant/malignant (68).png: Unexpected type <class 'dict'>\n"
          ]
        },
        {
          "name": "stderr",
          "output_type": "stream",
          "text": [
            "\rEvaluating:  48%|████▊     | 16/33 [00:05<00:06,  2.81it/s]"
          ]
        },
        {
          "name": "stdout",
          "output_type": "stream",
          "text": [
            "Error loading /content/drive/MyDrive/archive (14)/Dataset_BUSI_with_GT/benign/benign (256).png: img should be PIL Image. Got <class 'dict'>\n",
            "Error loading /content/drive/MyDrive/archive (14)/Dataset_BUSI_with_GT/malignant/malignant (59).png: img should be PIL Image. Got <class 'dict'>\n",
            "Error loading /content/drive/MyDrive/archive (14)/Dataset_BUSI_with_GT/benign/benign (364).png: Unexpected type <class 'dict'>\n",
            "Error loading /content/drive/MyDrive/archive (14)/Dataset_BUSI_with_GT/malignant/malignant (83).png: img should be PIL Image. Got <class 'dict'>\n"
          ]
        },
        {
          "name": "stderr",
          "output_type": "stream",
          "text": [
            "\rEvaluating:  52%|█████▏    | 17/33 [00:05<00:05,  2.81it/s]"
          ]
        },
        {
          "name": "stdout",
          "output_type": "stream",
          "text": [
            "Error loading /content/drive/MyDrive/archive (14)/Dataset_BUSI_with_GT/benign/benign (435).png: Unexpected type <class 'dict'>\n",
            "Error loading /content/drive/MyDrive/archive (14)/Dataset_BUSI_with_GT/benign/benign (3).png: Unexpected type <class 'dict'>\n",
            "Error loading /content/drive/MyDrive/archive (14)/Dataset_BUSI_with_GT/malignant/malignant (172).png: img should be PIL Image. Got <class 'dict'>\n",
            "Error loading /content/drive/MyDrive/archive (14)/Dataset_BUSI_with_GT/malignant/malignant (122).png: img should be PIL Image. Got <class 'dict'>\n"
          ]
        },
        {
          "name": "stderr",
          "output_type": "stream",
          "text": [
            "\rEvaluating:  55%|█████▍    | 18/33 [00:06<00:05,  2.90it/s]"
          ]
        },
        {
          "name": "stdout",
          "output_type": "stream",
          "text": [
            "Error loading /content/drive/MyDrive/archive (14)/Dataset_BUSI_with_GT/malignant/malignant (57).png: Unexpected type <class 'dict'>\n",
            "Error loading /content/drive/MyDrive/archive (14)/Dataset_BUSI_with_GT/benign/benign (175).png: Unexpected type <class 'dict'>\n",
            "Error loading /content/drive/MyDrive/archive (14)/Dataset_BUSI_with_GT/malignant/malignant (2).png: img should be PIL Image. Got <class 'dict'>\n",
            "Error loading /content/drive/MyDrive/archive (14)/Dataset_BUSI_with_GT/benign/benign (345).png: Unexpected type <class 'dict'>\n"
          ]
        },
        {
          "name": "stderr",
          "output_type": "stream",
          "text": [
            "\rEvaluating:  58%|█████▊    | 19/33 [00:06<00:04,  2.85it/s]"
          ]
        },
        {
          "name": "stdout",
          "output_type": "stream",
          "text": [
            "Error loading /content/drive/MyDrive/archive (14)/Dataset_BUSI_with_GT/benign/benign (251).png: img should be PIL Image. Got <class 'dict'>\n",
            "Error loading /content/drive/MyDrive/archive (14)/Dataset_BUSI_with_GT/benign/benign (403).png: Unexpected type <class 'dict'>\n",
            "Error loading /content/drive/MyDrive/archive (14)/Dataset_BUSI_with_GT/malignant/malignant (84).png: img should be PIL Image. Got <class 'dict'>\n",
            "Error loading /content/drive/MyDrive/archive (14)/Dataset_BUSI_with_GT/benign/benign (344).png: img should be PIL Image. Got <class 'dict'>\n"
          ]
        },
        {
          "name": "stderr",
          "output_type": "stream",
          "text": [
            "\rEvaluating:  61%|██████    | 20/33 [00:06<00:04,  2.94it/s]"
          ]
        },
        {
          "name": "stdout",
          "output_type": "stream",
          "text": [
            "Error loading /content/drive/MyDrive/archive (14)/Dataset_BUSI_with_GT/benign/benign (132).png: Unexpected type <class 'dict'>\n",
            "Error loading /content/drive/MyDrive/archive (14)/Dataset_BUSI_with_GT/benign/benign (383).png: Unexpected type <class 'dict'>\n",
            "Error loading /content/drive/MyDrive/archive (14)/Dataset_BUSI_with_GT/malignant/malignant (38).png: img should be PIL Image. Got <class 'dict'>\n",
            "Error loading /content/drive/MyDrive/archive (14)/Dataset_BUSI_with_GT/malignant/malignant (4).png: Unexpected type <class 'dict'>\n"
          ]
        },
        {
          "name": "stderr",
          "output_type": "stream",
          "text": [
            "\rEvaluating:  64%|██████▎   | 21/33 [00:07<00:04,  2.90it/s]"
          ]
        },
        {
          "name": "stdout",
          "output_type": "stream",
          "text": [
            "Error loading /content/drive/MyDrive/archive (14)/Dataset_BUSI_with_GT/benign/benign (153).png: img should be PIL Image. Got <class 'dict'>\n",
            "Error loading /content/drive/MyDrive/archive (14)/Dataset_BUSI_with_GT/benign/benign (18).png: img should be PIL Image. Got <class 'dict'>\n",
            "Error loading /content/drive/MyDrive/archive (14)/Dataset_BUSI_with_GT/benign/benign (295).png: Unexpected type <class 'dict'>\n",
            "Error loading /content/drive/MyDrive/archive (14)/Dataset_BUSI_with_GT/benign/benign (43).png: Unexpected type <class 'dict'>\n"
          ]
        },
        {
          "name": "stderr",
          "output_type": "stream",
          "text": [
            "\rEvaluating:  67%|██████▋   | 22/33 [00:07<00:03,  2.90it/s]"
          ]
        },
        {
          "name": "stdout",
          "output_type": "stream",
          "text": [
            "Error loading /content/drive/MyDrive/archive (14)/Dataset_BUSI_with_GT/benign/benign (249).png: img should be PIL Image. Got <class 'dict'>\n",
            "Error loading /content/drive/MyDrive/archive (14)/Dataset_BUSI_with_GT/benign/benign (218).png: img should be PIL Image. Got <class 'dict'>\n",
            "Error loading /content/drive/MyDrive/archive (14)/Dataset_BUSI_with_GT/benign/benign (2).png: img should be PIL Image. Got <class 'dict'>\n",
            "Error loading /content/drive/MyDrive/archive (14)/Dataset_BUSI_with_GT/malignant/malignant (180).png: Unexpected type <class 'dict'>\n"
          ]
        },
        {
          "name": "stderr",
          "output_type": "stream",
          "text": [
            "\rEvaluating:  70%|██████▉   | 23/33 [00:07<00:03,  3.02it/s]"
          ]
        },
        {
          "name": "stdout",
          "output_type": "stream",
          "text": [
            "Error loading /content/drive/MyDrive/archive (14)/Dataset_BUSI_with_GT/benign/benign (347).png: Unexpected type <class 'dict'>\n",
            "Error loading /content/drive/MyDrive/archive (14)/Dataset_BUSI_with_GT/benign/benign (304).png: Unexpected type <class 'dict'>\n",
            "Error loading /content/drive/MyDrive/archive (14)/Dataset_BUSI_with_GT/benign/benign (292).png: Unexpected type <class 'dict'>\n",
            "Error loading /content/drive/MyDrive/archive (14)/Dataset_BUSI_with_GT/benign/benign (324).png: img should be PIL Image. Got <class 'dict'>\n"
          ]
        },
        {
          "name": "stderr",
          "output_type": "stream",
          "text": [
            "\rEvaluating:  73%|███████▎  | 24/33 [00:08<00:02,  3.04it/s]"
          ]
        },
        {
          "name": "stdout",
          "output_type": "stream",
          "text": [
            "Error loading /content/drive/MyDrive/archive (14)/Dataset_BUSI_with_GT/benign/benign (276).png: img should be PIL Image. Got <class 'dict'>\n",
            "Error loading /content/drive/MyDrive/archive (14)/Dataset_BUSI_with_GT/benign/benign (136).png: Unexpected type <class 'dict'>\n",
            "Error loading /content/drive/MyDrive/archive (14)/Dataset_BUSI_with_GT/malignant/malignant (186).png: Unexpected type <class 'dict'>\n",
            "Error loading /content/drive/MyDrive/archive (14)/Dataset_BUSI_with_GT/benign/benign (312).png: Unexpected type <class 'dict'>\n"
          ]
        },
        {
          "name": "stderr",
          "output_type": "stream",
          "text": [
            "\rEvaluating:  76%|███████▌  | 25/33 [00:08<00:02,  2.94it/s]"
          ]
        },
        {
          "name": "stdout",
          "output_type": "stream",
          "text": [
            "Error loading /content/drive/MyDrive/archive (14)/Dataset_BUSI_with_GT/benign/benign (179).png: img should be PIL Image. Got <class 'dict'>\n",
            "Error loading /content/drive/MyDrive/archive (14)/Dataset_BUSI_with_GT/benign/benign (257).png: Unexpected type <class 'dict'>\n",
            "Error loading /content/drive/MyDrive/archive (14)/Dataset_BUSI_with_GT/benign/benign (334).png: img should be PIL Image. Got <class 'dict'>\n",
            "Error loading /content/drive/MyDrive/archive (14)/Dataset_BUSI_with_GT/benign/benign (177).png: img should be PIL Image. Got <class 'dict'>\n"
          ]
        },
        {
          "name": "stderr",
          "output_type": "stream",
          "text": [
            "\rEvaluating:  79%|███████▉  | 26/33 [00:08<00:02,  3.05it/s]"
          ]
        },
        {
          "name": "stdout",
          "output_type": "stream",
          "text": [
            "Error loading /content/drive/MyDrive/archive (14)/Dataset_BUSI_with_GT/benign/benign (128).png: Unexpected type <class 'dict'>\n",
            "Error loading /content/drive/MyDrive/archive (14)/Dataset_BUSI_with_GT/malignant/malignant (6).png: Unexpected type <class 'dict'>\n",
            "Error loading /content/drive/MyDrive/archive (14)/Dataset_BUSI_with_GT/malignant/malignant (190).png: Unexpected type <class 'dict'>\n",
            "Error loading /content/drive/MyDrive/archive (14)/Dataset_BUSI_with_GT/benign/benign (134).png: Unexpected type <class 'dict'>\n"
          ]
        },
        {
          "name": "stderr",
          "output_type": "stream",
          "text": [
            "\rEvaluating:  82%|████████▏ | 27/33 [00:09<00:01,  3.10it/s]"
          ]
        },
        {
          "name": "stdout",
          "output_type": "stream",
          "text": [
            "Error loading /content/drive/MyDrive/archive (14)/Dataset_BUSI_with_GT/malignant/malignant (81).png: Unexpected type <class 'dict'>\n",
            "Error loading /content/drive/MyDrive/archive (14)/Dataset_BUSI_with_GT/benign/benign (72).png: Unexpected type <class 'dict'>\n",
            "Error loading /content/drive/MyDrive/archive (14)/Dataset_BUSI_with_GT/malignant/malignant (159).png: Unexpected type <class 'dict'>\n",
            "Error loading /content/drive/MyDrive/archive (14)/Dataset_BUSI_with_GT/malignant/malignant (85).png: Unexpected type <class 'dict'>\n"
          ]
        },
        {
          "name": "stderr",
          "output_type": "stream",
          "text": [
            "\rEvaluating:  85%|████████▍ | 28/33 [00:09<00:01,  3.02it/s]"
          ]
        },
        {
          "name": "stdout",
          "output_type": "stream",
          "text": [
            "Error loading /content/drive/MyDrive/archive (14)/Dataset_BUSI_with_GT/benign/benign (171).png: img should be PIL Image. Got <class 'dict'>\n",
            "Error loading /content/drive/MyDrive/archive (14)/Dataset_BUSI_with_GT/benign/benign (228).png: img should be PIL Image. Got <class 'dict'>\n",
            "Error loading /content/drive/MyDrive/archive (14)/Dataset_BUSI_with_GT/malignant/malignant (80).png: Unexpected type <class 'dict'>\n",
            "Error loading /content/drive/MyDrive/archive (14)/Dataset_BUSI_with_GT/benign/benign (234).png: Unexpected type <class 'dict'>\n"
          ]
        },
        {
          "name": "stderr",
          "output_type": "stream",
          "text": [
            "\rEvaluating:  88%|████████▊ | 29/33 [00:09<00:01,  2.81it/s]"
          ]
        },
        {
          "name": "stdout",
          "output_type": "stream",
          "text": [
            "Error loading /content/drive/MyDrive/archive (14)/Dataset_BUSI_with_GT/benign/benign (167).png: img should be PIL Image. Got <class 'dict'>\n",
            "Error loading /content/drive/MyDrive/archive (14)/Dataset_BUSI_with_GT/malignant/malignant (182).png: img should be PIL Image. Got <class 'dict'>\n",
            "Error loading /content/drive/MyDrive/archive (14)/Dataset_BUSI_with_GT/benign/benign (59).png: Unexpected type <class 'dict'>\n"
          ]
        },
        {
          "name": "stderr",
          "output_type": "stream",
          "text": [
            "\rEvaluating:  91%|█████████ | 30/33 [00:10<00:01,  2.52it/s]"
          ]
        },
        {
          "name": "stdout",
          "output_type": "stream",
          "text": [
            "Error loading /content/drive/MyDrive/archive (14)/Dataset_BUSI_with_GT/benign/benign (38).png: Unexpected type <class 'dict'>\n",
            "Error loading /content/drive/MyDrive/archive (14)/Dataset_BUSI_with_GT/benign/benign (250).png: Unexpected type <class 'dict'>\n",
            "Error loading /content/drive/MyDrive/archive (14)/Dataset_BUSI_with_GT/benign/benign (302).png: img should be PIL Image. Got <class 'dict'>\n",
            "Error loading /content/drive/MyDrive/archive (14)/Dataset_BUSI_with_GT/malignant/malignant (154).png: Unexpected type <class 'dict'>\n",
            "Error loading /content/drive/MyDrive/archive (14)/Dataset_BUSI_with_GT/malignant/malignant (50).png: Unexpected type <class 'dict'>\n"
          ]
        },
        {
          "name": "stderr",
          "output_type": "stream",
          "text": [
            "\rEvaluating:  94%|█████████▍| 31/33 [00:10<00:00,  2.47it/s]"
          ]
        },
        {
          "name": "stdout",
          "output_type": "stream",
          "text": [
            "Error loading /content/drive/MyDrive/archive (14)/Dataset_BUSI_with_GT/benign/benign (109).png: Unexpected type <class 'dict'>\n",
            "Error loading /content/drive/MyDrive/archive (14)/Dataset_BUSI_with_GT/benign/benign (82).png: img should be PIL Image. Got <class 'dict'>\n",
            "Error loading /content/drive/MyDrive/archive (14)/Dataset_BUSI_with_GT/benign/benign (373).png: Unexpected type <class 'dict'>\n"
          ]
        },
        {
          "name": "stderr",
          "output_type": "stream",
          "text": [
            "\rEvaluating:  97%|█████████▋| 32/33 [00:11<00:00,  2.36it/s]"
          ]
        },
        {
          "name": "stdout",
          "output_type": "stream",
          "text": [
            "Error loading /content/drive/MyDrive/archive (14)/Dataset_BUSI_with_GT/malignant/malignant (39).png: img should be PIL Image. Got <class 'dict'>\n"
          ]
        },
        {
          "name": "stderr",
          "output_type": "stream",
          "text": [
            "Evaluating: 100%|██████████| 33/33 [00:11<00:00,  2.89it/s]"
          ]
        },
        {
          "name": "stdout",
          "output_type": "stream",
          "text": [
            "Error loading /content/drive/MyDrive/archive (14)/Dataset_BUSI_with_GT/benign/benign (233).png: Unexpected type <class 'dict'>\n",
            "Error loading /content/drive/MyDrive/archive (14)/Dataset_BUSI_with_GT/benign/benign (356).png: img should be PIL Image. Got <class 'dict'>\n",
            "Best Threshold: 0.3, IoU: 1.0000\n",
            "Epoch 1/5, Loss: 0.7704, Val IoU: 1.0000\n"
          ]
        },
        {
          "name": "stderr",
          "output_type": "stream",
          "text": [
            "\n"
          ]
        },
        {
          "name": "stdout",
          "output_type": "stream",
          "text": [
            "New best model saved with IoU: 1.0000\n"
          ]
        },
        {
          "name": "stderr",
          "output_type": "stream",
          "text": [
            "\rEpoch 2/5:   0%|          | 0/130 [00:00<?, ?it/s]"
          ]
        },
        {
          "name": "stdout",
          "output_type": "stream",
          "text": [
            "Error loading /content/drive/MyDrive/archive (14)/Dataset_BUSI_with_GT/benign/benign (278).png: img should be PIL Image. Got <class 'dict'>\n",
            "Error loading /content/drive/MyDrive/archive (14)/Dataset_BUSI_with_GT/benign/benign (131).png: Unexpected type <class 'dict'>\n",
            "Error loading /content/drive/MyDrive/archive (14)/Dataset_BUSI_with_GT/benign/benign (224).png: img should be PIL Image. Got <class 'dict'>\n",
            "Error loading /content/drive/MyDrive/archive (14)/Dataset_BUSI_with_GT/benign/benign (146).png: img should be PIL Image. Got <class 'dict'>\n"
          ]
        },
        {
          "name": "stderr",
          "output_type": "stream",
          "text": [
            "\rEpoch 2/5:   1%|          | 1/130 [00:00<01:07,  1.90it/s]"
          ]
        },
        {
          "name": "stdout",
          "output_type": "stream",
          "text": [
            "Error loading /content/drive/MyDrive/archive (14)/Dataset_BUSI_with_GT/malignant/malignant (32).png: img should be PIL Image. Got <class 'dict'>\n",
            "Error loading /content/drive/MyDrive/archive (14)/Dataset_BUSI_with_GT/benign/benign (71).png: img should be PIL Image. Got <class 'dict'>\n",
            "Error loading /content/drive/MyDrive/archive (14)/Dataset_BUSI_with_GT/benign/benign (68).png: Unexpected type <class 'dict'>\n"
          ]
        },
        {
          "name": "stderr",
          "output_type": "stream",
          "text": [
            "\rEpoch 2/5:   2%|▏         | 2/130 [00:01<01:04,  1.99it/s]"
          ]
        },
        {
          "name": "stdout",
          "output_type": "stream",
          "text": [
            "Error loading /content/drive/MyDrive/archive (14)/Dataset_BUSI_with_GT/malignant/malignant (104).png: Unexpected type <class 'dict'>\n",
            "Error loading /content/drive/MyDrive/archive (14)/Dataset_BUSI_with_GT/malignant/malignant (21).png: Unexpected type <class 'dict'>\n",
            "Error loading /content/drive/MyDrive/archive (14)/Dataset_BUSI_with_GT/benign/benign (307).png: img should be PIL Image. Got <class 'dict'>\n",
            "Error loading /content/drive/MyDrive/archive (14)/Dataset_BUSI_with_GT/malignant/malignant (125).png: Unexpected type <class 'dict'>\n"
          ]
        },
        {
          "name": "stderr",
          "output_type": "stream",
          "text": [
            "\rEpoch 2/5:   2%|▏         | 3/130 [00:01<01:06,  1.90it/s]"
          ]
        },
        {
          "name": "stdout",
          "output_type": "stream",
          "text": [
            "Error loading /content/drive/MyDrive/archive (14)/Dataset_BUSI_with_GT/benign/benign (89).png: Unexpected type <class 'dict'>\n",
            "Error loading /content/drive/MyDrive/archive (14)/Dataset_BUSI_with_GT/malignant/malignant (100).png: img should be PIL Image. Got <class 'dict'>\n",
            "Error loading /content/drive/MyDrive/archive (14)/Dataset_BUSI_with_GT/benign/benign (430).png: img should be PIL Image. Got <class 'dict'>\n",
            "Error loading /content/drive/MyDrive/archive (14)/Dataset_BUSI_with_GT/benign/benign (351).png: img should be PIL Image. Got <class 'dict'>\n",
            "Error loading /content/drive/MyDrive/archive (14)/Dataset_BUSI_with_GT/malignant/malignant (31).png: Unexpected type <class 'dict'>\n"
          ]
        },
        {
          "name": "stderr",
          "output_type": "stream",
          "text": [
            "\rEpoch 2/5:   3%|▎         | 4/130 [00:01<01:00,  2.08it/s]"
          ]
        },
        {
          "name": "stdout",
          "output_type": "stream",
          "text": [
            "Error loading /content/drive/MyDrive/archive (14)/Dataset_BUSI_with_GT/malignant/malignant (157).png: img should be PIL Image. Got <class 'dict'>\n",
            "Error loading /content/drive/MyDrive/archive (14)/Dataset_BUSI_with_GT/benign/benign (272).png: img should be PIL Image. Got <class 'dict'>\n",
            "Error loading /content/drive/MyDrive/archive (14)/Dataset_BUSI_with_GT/benign/benign (56).png: img should be PIL Image. Got <class 'dict'>\n"
          ]
        },
        {
          "name": "stderr",
          "output_type": "stream",
          "text": [
            "\rEpoch 2/5:   4%|▍         | 5/130 [00:02<00:58,  2.15it/s]"
          ]
        },
        {
          "name": "stdout",
          "output_type": "stream",
          "text": [
            "Error loading /content/drive/MyDrive/archive (14)/Dataset_BUSI_with_GT/benign/benign (92).png: Unexpected type <class 'dict'>\n",
            "Error loading /content/drive/MyDrive/archive (14)/Dataset_BUSI_with_GT/malignant/malignant (90).png: Unexpected type <class 'dict'>\n",
            "Error loading /content/drive/MyDrive/archive (14)/Dataset_BUSI_with_GT/benign/benign (274).png: img should be PIL Image. Got <class 'dict'>\n",
            "Error loading /content/drive/MyDrive/archive (14)/Dataset_BUSI_with_GT/benign/benign (212).png: Unexpected type <class 'dict'>\n",
            "Error loading /content/drive/MyDrive/archive (14)/Dataset_BUSI_with_GT/benign/benign (223).png: Unexpected type <class 'dict'>\n"
          ]
        },
        {
          "name": "stderr",
          "output_type": "stream",
          "text": [
            "\rEpoch 2/5:   5%|▍         | 6/130 [00:02<00:55,  2.24it/s]"
          ]
        },
        {
          "name": "stdout",
          "output_type": "stream",
          "text": [
            "Error loading /content/drive/MyDrive/archive (14)/Dataset_BUSI_with_GT/malignant/malignant (46).png: Unexpected type <class 'dict'>\n",
            "Error loading /content/drive/MyDrive/archive (14)/Dataset_BUSI_with_GT/malignant/malignant (18).png: Unexpected type <class 'dict'>\n",
            "Error loading /content/drive/MyDrive/archive (14)/Dataset_BUSI_with_GT/benign/benign (369).png: img should be PIL Image. Got <class 'dict'>\n",
            "Error loading /content/drive/MyDrive/archive (14)/Dataset_BUSI_with_GT/benign/benign (62).png: Unexpected type <class 'dict'>\n"
          ]
        },
        {
          "name": "stderr",
          "output_type": "stream",
          "text": [
            "\rEpoch 2/5:   5%|▌         | 7/130 [00:03<00:53,  2.31it/s]"
          ]
        },
        {
          "name": "stdout",
          "output_type": "stream",
          "text": [
            "Error loading /content/drive/MyDrive/archive (14)/Dataset_BUSI_with_GT/malignant/malignant (199).png: Unexpected type <class 'dict'>\n",
            "Error loading /content/drive/MyDrive/archive (14)/Dataset_BUSI_with_GT/benign/benign (267).png: Unexpected type <class 'dict'>\n",
            "Error loading /content/drive/MyDrive/archive (14)/Dataset_BUSI_with_GT/benign/benign (242).png: Unexpected type <class 'dict'>\n",
            "Error loading /content/drive/MyDrive/archive (14)/Dataset_BUSI_with_GT/malignant/malignant (86).png: Unexpected type <class 'dict'>\n"
          ]
        },
        {
          "name": "stderr",
          "output_type": "stream",
          "text": [
            "\rEpoch 2/5:   6%|▌         | 8/130 [00:03<00:50,  2.44it/s]"
          ]
        },
        {
          "name": "stdout",
          "output_type": "stream",
          "text": [
            "Error loading /content/drive/MyDrive/archive (14)/Dataset_BUSI_with_GT/malignant/malignant (65).png: Unexpected type <class 'dict'>\n",
            "Error loading /content/drive/MyDrive/archive (14)/Dataset_BUSI_with_GT/benign/benign (338).png: Unexpected type <class 'dict'>\n",
            "Error loading /content/drive/MyDrive/archive (14)/Dataset_BUSI_with_GT/malignant/malignant (63).png: Unexpected type <class 'dict'>\n",
            "Error loading /content/drive/MyDrive/archive (14)/Dataset_BUSI_with_GT/malignant/malignant (26).png: img should be PIL Image. Got <class 'dict'>\n"
          ]
        },
        {
          "name": "stderr",
          "output_type": "stream",
          "text": [
            "\rEpoch 2/5:   7%|▋         | 9/130 [00:04<00:50,  2.41it/s]"
          ]
        },
        {
          "name": "stdout",
          "output_type": "stream",
          "text": [
            "Error loading /content/drive/MyDrive/archive (14)/Dataset_BUSI_with_GT/benign/benign (390).png: Unexpected type <class 'dict'>\n",
            "Error loading /content/drive/MyDrive/archive (14)/Dataset_BUSI_with_GT/benign/benign (239).png: img should be PIL Image. Got <class 'dict'>\n",
            "Error loading /content/drive/MyDrive/archive (14)/Dataset_BUSI_with_GT/benign/benign (107).png: Unexpected type <class 'dict'>\n",
            "Error loading /content/drive/MyDrive/archive (14)/Dataset_BUSI_with_GT/benign/benign (95).png: img should be PIL Image. Got <class 'dict'>\n"
          ]
        },
        {
          "name": "stderr",
          "output_type": "stream",
          "text": [
            "\rEpoch 2/5:   8%|▊         | 10/130 [00:04<00:50,  2.37it/s]"
          ]
        },
        {
          "name": "stdout",
          "output_type": "stream",
          "text": [
            "Error loading /content/drive/MyDrive/archive (14)/Dataset_BUSI_with_GT/benign/benign (375).png: img should be PIL Image. Got <class 'dict'>\n",
            "Error loading /content/drive/MyDrive/archive (14)/Dataset_BUSI_with_GT/benign/benign (384).png: img should be PIL Image. Got <class 'dict'>\n",
            "Error loading /content/drive/MyDrive/archive (14)/Dataset_BUSI_with_GT/malignant/malignant (169).png: Unexpected type <class 'dict'>\n",
            "Error loading /content/drive/MyDrive/archive (14)/Dataset_BUSI_with_GT/malignant/malignant (144).png: img should be PIL Image. Got <class 'dict'>\n"
          ]
        },
        {
          "name": "stderr",
          "output_type": "stream",
          "text": [
            "\rEpoch 2/5:   8%|▊         | 11/130 [00:04<00:49,  2.41it/s]"
          ]
        },
        {
          "name": "stdout",
          "output_type": "stream",
          "text": [
            "Error loading /content/drive/MyDrive/archive (14)/Dataset_BUSI_with_GT/benign/benign (352).png: img should be PIL Image. Got <class 'dict'>\n",
            "Error loading /content/drive/MyDrive/archive (14)/Dataset_BUSI_with_GT/benign/benign (5).png: img should be PIL Image. Got <class 'dict'>\n",
            "Error loading /content/drive/MyDrive/archive (14)/Dataset_BUSI_with_GT/malignant/malignant (201).png: img should be PIL Image. Got <class 'dict'>\n",
            "Error loading /content/drive/MyDrive/archive (14)/Dataset_BUSI_with_GT/benign/benign (407).png: Unexpected type <class 'dict'>\n"
          ]
        },
        {
          "name": "stderr",
          "output_type": "stream",
          "text": [
            "\rEpoch 2/5:   9%|▉         | 12/130 [00:05<00:47,  2.47it/s]"
          ]
        },
        {
          "name": "stdout",
          "output_type": "stream",
          "text": [
            "Error loading /content/drive/MyDrive/archive (14)/Dataset_BUSI_with_GT/malignant/malignant (110).png: img should be PIL Image. Got <class 'dict'>\n",
            "Error loading /content/drive/MyDrive/archive (14)/Dataset_BUSI_with_GT/benign/benign (20).png: Unexpected type <class 'dict'>\n",
            "Error loading /content/drive/MyDrive/archive (14)/Dataset_BUSI_with_GT/benign/benign (211).png: Unexpected type <class 'dict'>\n",
            "Error loading /content/drive/MyDrive/archive (14)/Dataset_BUSI_with_GT/benign/benign (427).png: img should be PIL Image. Got <class 'dict'>\n"
          ]
        },
        {
          "name": "stderr",
          "output_type": "stream",
          "text": [
            "\rEpoch 2/5:  10%|█         | 13/130 [00:05<00:45,  2.55it/s]"
          ]
        },
        {
          "name": "stdout",
          "output_type": "stream",
          "text": [
            "Error loading /content/drive/MyDrive/archive (14)/Dataset_BUSI_with_GT/benign/benign (208).png: img should be PIL Image. Got <class 'dict'>\n",
            "Error loading /content/drive/MyDrive/archive (14)/Dataset_BUSI_with_GT/malignant/malignant (77).png: img should be PIL Image. Got <class 'dict'>\n",
            "Error loading /content/drive/MyDrive/archive (14)/Dataset_BUSI_with_GT/benign/benign (57).png: img should be PIL Image. Got <class 'dict'>\n",
            "Error loading /content/drive/MyDrive/archive (14)/Dataset_BUSI_with_GT/benign/benign (323).png: img should be PIL Image. Got <class 'dict'>\n"
          ]
        },
        {
          "name": "stderr",
          "output_type": "stream",
          "text": [
            "\rEpoch 2/5:  11%|█         | 14/130 [00:05<00:45,  2.54it/s]"
          ]
        },
        {
          "name": "stdout",
          "output_type": "stream",
          "text": [
            "Error loading /content/drive/MyDrive/archive (14)/Dataset_BUSI_with_GT/malignant/malignant (22).png: img should be PIL Image. Got <class 'dict'>\n",
            "Error loading /content/drive/MyDrive/archive (14)/Dataset_BUSI_with_GT/benign/benign (395).png: img should be PIL Image. Got <class 'dict'>\n",
            "Error loading /content/drive/MyDrive/archive (14)/Dataset_BUSI_with_GT/benign/benign (165).png: img should be PIL Image. Got <class 'dict'>\n",
            "Error loading /content/drive/MyDrive/archive (14)/Dataset_BUSI_with_GT/benign/benign (431).png: img should be PIL Image. Got <class 'dict'>\n"
          ]
        },
        {
          "name": "stderr",
          "output_type": "stream",
          "text": [
            "\rEpoch 2/5:  12%|█▏        | 15/130 [00:06<00:44,  2.56it/s]"
          ]
        },
        {
          "name": "stdout",
          "output_type": "stream",
          "text": [
            "Error loading /content/drive/MyDrive/archive (14)/Dataset_BUSI_with_GT/malignant/malignant (183).png: img should be PIL Image. Got <class 'dict'>\n",
            "Error loading /content/drive/MyDrive/archive (14)/Dataset_BUSI_with_GT/malignant/malignant (45).png: Unexpected type <class 'dict'>\n",
            "Error loading /content/drive/MyDrive/archive (14)/Dataset_BUSI_with_GT/benign/benign (367).png: img should be PIL Image. Got <class 'dict'>\n",
            "Error loading /content/drive/MyDrive/archive (14)/Dataset_BUSI_with_GT/benign/benign (133).png: img should be PIL Image. Got <class 'dict'>\n"
          ]
        },
        {
          "name": "stderr",
          "output_type": "stream",
          "text": [
            "\rEpoch 2/5:  12%|█▏        | 16/130 [00:06<00:43,  2.60it/s]"
          ]
        },
        {
          "name": "stdout",
          "output_type": "stream",
          "text": [
            "Error loading /content/drive/MyDrive/archive (14)/Dataset_BUSI_with_GT/benign/benign (23).png: img should be PIL Image. Got <class 'dict'>\n",
            "Error loading /content/drive/MyDrive/archive (14)/Dataset_BUSI_with_GT/benign/benign (253).png: Unexpected type <class 'dict'>\n",
            "Error loading /content/drive/MyDrive/archive (14)/Dataset_BUSI_with_GT/benign/benign (152).png: img should be PIL Image. Got <class 'dict'>\n",
            "Error loading /content/drive/MyDrive/archive (14)/Dataset_BUSI_with_GT/malignant/malignant (158).png: Unexpected type <class 'dict'>\n"
          ]
        },
        {
          "name": "stderr",
          "output_type": "stream",
          "text": [
            "\rEpoch 2/5:  13%|█▎        | 17/130 [00:07<00:42,  2.65it/s]"
          ]
        },
        {
          "name": "stdout",
          "output_type": "stream",
          "text": [
            "Error loading /content/drive/MyDrive/archive (14)/Dataset_BUSI_with_GT/benign/benign (151).png: img should be PIL Image. Got <class 'dict'>\n",
            "Error loading /content/drive/MyDrive/archive (14)/Dataset_BUSI_with_GT/malignant/malignant (115).png: Unexpected type <class 'dict'>\n",
            "Error loading /content/drive/MyDrive/archive (14)/Dataset_BUSI_with_GT/benign/benign (230).png: img should be PIL Image. Got <class 'dict'>\n",
            "Error loading /content/drive/MyDrive/archive (14)/Dataset_BUSI_with_GT/benign/benign (381).png: img should be PIL Image. Got <class 'dict'>\n"
          ]
        },
        {
          "name": "stderr",
          "output_type": "stream",
          "text": [
            "\rEpoch 2/5:  14%|█▍        | 18/130 [00:07<00:42,  2.61it/s]"
          ]
        },
        {
          "name": "stdout",
          "output_type": "stream",
          "text": [
            "Error loading /content/drive/MyDrive/archive (14)/Dataset_BUSI_with_GT/benign/benign (374).png: Unexpected type <class 'dict'>\n",
            "Error loading /content/drive/MyDrive/archive (14)/Dataset_BUSI_with_GT/malignant/malignant (14).png: Unexpected type <class 'dict'>\n",
            "Error loading /content/drive/MyDrive/archive (14)/Dataset_BUSI_with_GT/benign/benign (42).png: Unexpected type <class 'dict'>\n",
            "Error loading /content/drive/MyDrive/archive (14)/Dataset_BUSI_with_GT/benign/benign (149).png: img should be PIL Image. Got <class 'dict'>\n"
          ]
        },
        {
          "name": "stderr",
          "output_type": "stream",
          "text": [
            "\rEpoch 2/5:  15%|█▍        | 19/130 [00:07<00:41,  2.65it/s]"
          ]
        },
        {
          "name": "stdout",
          "output_type": "stream",
          "text": [
            "Error loading /content/drive/MyDrive/archive (14)/Dataset_BUSI_with_GT/benign/benign (331).png: img should be PIL Image. Got <class 'dict'>\n",
            "Error loading /content/drive/MyDrive/archive (14)/Dataset_BUSI_with_GT/benign/benign (217).png: img should be PIL Image. Got <class 'dict'>\n",
            "Error loading /content/drive/MyDrive/archive (14)/Dataset_BUSI_with_GT/malignant/malignant (108).png: Unexpected type <class 'dict'>\n",
            "Error loading /content/drive/MyDrive/archive (14)/Dataset_BUSI_with_GT/benign/benign (437).png: img should be PIL Image. Got <class 'dict'>\n"
          ]
        },
        {
          "name": "stderr",
          "output_type": "stream",
          "text": [
            "\rEpoch 2/5:  15%|█▌        | 20/130 [00:08<00:42,  2.59it/s]"
          ]
        },
        {
          "name": "stdout",
          "output_type": "stream",
          "text": [
            "Error loading /content/drive/MyDrive/archive (14)/Dataset_BUSI_with_GT/benign/benign (372).png: img should be PIL Image. Got <class 'dict'>\n",
            "Error loading /content/drive/MyDrive/archive (14)/Dataset_BUSI_with_GT/benign/benign (409).png: Unexpected type <class 'dict'>\n",
            "Error loading /content/drive/MyDrive/archive (14)/Dataset_BUSI_with_GT/benign/benign (98).png: img should be PIL Image. Got <class 'dict'>\n",
            "Error loading /content/drive/MyDrive/archive (14)/Dataset_BUSI_with_GT/benign/benign (213).png: img should be PIL Image. Got <class 'dict'>\n"
          ]
        },
        {
          "name": "stderr",
          "output_type": "stream",
          "text": [
            "\rEpoch 2/5:  16%|█▌        | 21/130 [00:08<00:42,  2.55it/s]"
          ]
        },
        {
          "name": "stdout",
          "output_type": "stream",
          "text": [
            "Error loading /content/drive/MyDrive/archive (14)/Dataset_BUSI_with_GT/malignant/malignant (146).png: img should be PIL Image. Got <class 'dict'>\n",
            "Error loading /content/drive/MyDrive/archive (14)/Dataset_BUSI_with_GT/benign/benign (399).png: img should be PIL Image. Got <class 'dict'>\n",
            "Error loading /content/drive/MyDrive/archive (14)/Dataset_BUSI_with_GT/malignant/malignant (155).png: img should be PIL Image. Got <class 'dict'>\n",
            "Error loading /content/drive/MyDrive/archive (14)/Dataset_BUSI_with_GT/benign/benign (183).png: Unexpected type <class 'dict'>\n"
          ]
        },
        {
          "name": "stderr",
          "output_type": "stream",
          "text": [
            "\rEpoch 2/5:  17%|█▋        | 22/130 [00:09<00:43,  2.51it/s]"
          ]
        },
        {
          "name": "stdout",
          "output_type": "stream",
          "text": [
            "Error loading /content/drive/MyDrive/archive (14)/Dataset_BUSI_with_GT/malignant/malignant (17).png: img should be PIL Image. Got <class 'dict'>\n",
            "Error loading /content/drive/MyDrive/archive (14)/Dataset_BUSI_with_GT/malignant/malignant (205).png: Unexpected type <class 'dict'>\n",
            "Error loading /content/drive/MyDrive/archive (14)/Dataset_BUSI_with_GT/malignant/malignant (74).png: Unexpected type <class 'dict'>\n",
            "Error loading /content/drive/MyDrive/archive (14)/Dataset_BUSI_with_GT/benign/benign (315).png: img should be PIL Image. Got <class 'dict'>\n"
          ]
        },
        {
          "name": "stderr",
          "output_type": "stream",
          "text": [
            "\rEpoch 2/5:  18%|█▊        | 23/130 [00:09<00:42,  2.54it/s]"
          ]
        },
        {
          "name": "stdout",
          "output_type": "stream",
          "text": [
            "Error loading /content/drive/MyDrive/archive (14)/Dataset_BUSI_with_GT/benign/benign (277).png: Unexpected type <class 'dict'>\n",
            "Error loading /content/drive/MyDrive/archive (14)/Dataset_BUSI_with_GT/benign/benign (343).png: img should be PIL Image. Got <class 'dict'>\n",
            "Error loading /content/drive/MyDrive/archive (14)/Dataset_BUSI_with_GT/benign/benign (55).png: img should be PIL Image. Got <class 'dict'>\n",
            "Error loading /content/drive/MyDrive/archive (14)/Dataset_BUSI_with_GT/benign/benign (25).png: Unexpected type <class 'dict'>\n"
          ]
        },
        {
          "name": "stderr",
          "output_type": "stream",
          "text": [
            "\rEpoch 2/5:  18%|█▊        | 24/130 [00:09<00:42,  2.48it/s]"
          ]
        },
        {
          "name": "stdout",
          "output_type": "stream",
          "text": [
            "Error loading /content/drive/MyDrive/archive (14)/Dataset_BUSI_with_GT/benign/benign (50).png: Unexpected type <class 'dict'>\n",
            "Error loading /content/drive/MyDrive/archive (14)/Dataset_BUSI_with_GT/benign/benign (97).png: img should be PIL Image. Got <class 'dict'>\n",
            "Error loading /content/drive/MyDrive/archive (14)/Dataset_BUSI_with_GT/benign/benign (105).png: img should be PIL Image. Got <class 'dict'>\n",
            "Error loading /content/drive/MyDrive/archive (14)/Dataset_BUSI_with_GT/malignant/malignant (10).png: Unexpected type <class 'dict'>\n"
          ]
        },
        {
          "name": "stderr",
          "output_type": "stream",
          "text": [
            "\rEpoch 2/5:  19%|█▉        | 25/130 [00:10<00:43,  2.44it/s]"
          ]
        },
        {
          "name": "stdout",
          "output_type": "stream",
          "text": [
            "Error loading /content/drive/MyDrive/archive (14)/Dataset_BUSI_with_GT/malignant/malignant (133).png: Unexpected type <class 'dict'>\n",
            "Error loading /content/drive/MyDrive/archive (14)/Dataset_BUSI_with_GT/benign/benign (158).png: img should be PIL Image. Got <class 'dict'>\n",
            "Error loading /content/drive/MyDrive/archive (14)/Dataset_BUSI_with_GT/benign/benign (140).png: Unexpected type <class 'dict'>\n",
            "Error loading /content/drive/MyDrive/archive (14)/Dataset_BUSI_with_GT/benign/benign (51).png: img should be PIL Image. Got <class 'dict'>\n"
          ]
        },
        {
          "name": "stderr",
          "output_type": "stream",
          "text": [
            "\rEpoch 2/5:  20%|██        | 26/130 [00:10<00:40,  2.54it/s]"
          ]
        },
        {
          "name": "stdout",
          "output_type": "stream",
          "text": [
            "Error loading /content/drive/MyDrive/archive (14)/Dataset_BUSI_with_GT/benign/benign (362).png: img should be PIL Image. Got <class 'dict'>\n",
            "Error loading /content/drive/MyDrive/archive (14)/Dataset_BUSI_with_GT/malignant/malignant (69).png: img should be PIL Image. Got <class 'dict'>\n",
            "Error loading /content/drive/MyDrive/archive (14)/Dataset_BUSI_with_GT/benign/benign (414).png: img should be PIL Image. Got <class 'dict'>\n",
            "Error loading /content/drive/MyDrive/archive (14)/Dataset_BUSI_with_GT/malignant/malignant (209).png: img should be PIL Image. Got <class 'dict'>\n"
          ]
        },
        {
          "name": "stderr",
          "output_type": "stream",
          "text": [
            "\rEpoch 2/5:  21%|██        | 27/130 [00:11<00:41,  2.49it/s]"
          ]
        },
        {
          "name": "stdout",
          "output_type": "stream",
          "text": [
            "Error loading /content/drive/MyDrive/archive (14)/Dataset_BUSI_with_GT/benign/benign (193).png: img should be PIL Image. Got <class 'dict'>\n",
            "Error loading /content/drive/MyDrive/archive (14)/Dataset_BUSI_with_GT/malignant/malignant (116).png: img should be PIL Image. Got <class 'dict'>\n",
            "Error loading /content/drive/MyDrive/archive (14)/Dataset_BUSI_with_GT/benign/benign (207).png: img should be PIL Image. Got <class 'dict'>\n",
            "Error loading /content/drive/MyDrive/archive (14)/Dataset_BUSI_with_GT/benign/benign (261).png: Unexpected type <class 'dict'>\n"
          ]
        },
        {
          "name": "stderr",
          "output_type": "stream",
          "text": [
            "\rEpoch 2/5:  22%|██▏       | 28/130 [00:12<00:58,  1.74it/s]"
          ]
        },
        {
          "name": "stdout",
          "output_type": "stream",
          "text": [
            "Error loading /content/drive/MyDrive/archive (14)/Dataset_BUSI_with_GT/benign/benign (393).png: img should be PIL Image. Got <class 'dict'>\n",
            "Error loading /content/drive/MyDrive/archive (14)/Dataset_BUSI_with_GT/malignant/malignant (118).png: img should be PIL Image. Got <class 'dict'>\n",
            "Error loading /content/drive/MyDrive/archive (14)/Dataset_BUSI_with_GT/benign/benign (229).png: Unexpected type <class 'dict'>\n",
            "Error loading /content/drive/MyDrive/archive (14)/Dataset_BUSI_with_GT/malignant/malignant (111).png: Unexpected type <class 'dict'>\n"
          ]
        },
        {
          "name": "stderr",
          "output_type": "stream",
          "text": [
            "\rEpoch 2/5:  22%|██▏       | 29/130 [00:12<00:54,  1.85it/s]"
          ]
        },
        {
          "name": "stdout",
          "output_type": "stream",
          "text": [
            "Error loading /content/drive/MyDrive/archive (14)/Dataset_BUSI_with_GT/benign/benign (404).png: img should be PIL Image. Got <class 'dict'>\n",
            "Error loading /content/drive/MyDrive/archive (14)/Dataset_BUSI_with_GT/benign/benign (379).png: img should be PIL Image. Got <class 'dict'>\n",
            "Error loading /content/drive/MyDrive/archive (14)/Dataset_BUSI_with_GT/malignant/malignant (164).png: img should be PIL Image. Got <class 'dict'>\n"
          ]
        },
        {
          "name": "stderr",
          "output_type": "stream",
          "text": [
            "\rEpoch 2/5:  23%|██▎       | 30/130 [00:13<00:56,  1.77it/s]"
          ]
        },
        {
          "name": "stdout",
          "output_type": "stream",
          "text": [
            "Error loading /content/drive/MyDrive/archive (14)/Dataset_BUSI_with_GT/malignant/malignant (67).png: img should be PIL Image. Got <class 'dict'>\n",
            "Error loading /content/drive/MyDrive/archive (14)/Dataset_BUSI_with_GT/benign/benign (236).png: Unexpected type <class 'dict'>\n",
            "Error loading /content/drive/MyDrive/archive (14)/Dataset_BUSI_with_GT/malignant/malignant (142).png: img should be PIL Image. Got <class 'dict'>\n",
            "Error loading /content/drive/MyDrive/archive (14)/Dataset_BUSI_with_GT/benign/benign (370).png: Unexpected type <class 'dict'>\n",
            "Error loading /content/drive/MyDrive/archive (14)/Dataset_BUSI_with_GT/benign/benign (289).png: img should be PIL Image. Got <class 'dict'>\n"
          ]
        },
        {
          "name": "stderr",
          "output_type": "stream",
          "text": [
            "\rEpoch 2/5:  24%|██▍       | 31/130 [00:13<00:52,  1.90it/s]"
          ]
        },
        {
          "name": "stdout",
          "output_type": "stream",
          "text": [
            "Error loading /content/drive/MyDrive/archive (14)/Dataset_BUSI_with_GT/benign/benign (108).png: img should be PIL Image. Got <class 'dict'>\n",
            "Error loading /content/drive/MyDrive/archive (14)/Dataset_BUSI_with_GT/benign/benign (37).png: img should be PIL Image. Got <class 'dict'>\n",
            "Error loading /content/drive/MyDrive/archive (14)/Dataset_BUSI_with_GT/benign/benign (387).png: img should be PIL Image. Got <class 'dict'>\n"
          ]
        },
        {
          "name": "stderr",
          "output_type": "stream",
          "text": [
            "\rEpoch 2/5:  25%|██▍       | 32/130 [00:14<00:51,  1.91it/s]"
          ]
        },
        {
          "name": "stdout",
          "output_type": "stream",
          "text": [
            "Error loading /content/drive/MyDrive/archive (14)/Dataset_BUSI_with_GT/malignant/malignant (60).png: Unexpected type <class 'dict'>\n",
            "Error loading /content/drive/MyDrive/archive (14)/Dataset_BUSI_with_GT/benign/benign (26).png: Unexpected type <class 'dict'>\n",
            "Error loading /content/drive/MyDrive/archive (14)/Dataset_BUSI_with_GT/benign/benign (412).png: img should be PIL Image. Got <class 'dict'>\n",
            "Error loading /content/drive/MyDrive/archive (14)/Dataset_BUSI_with_GT/benign/benign (184).png: img should be PIL Image. Got <class 'dict'>\n"
          ]
        },
        {
          "name": "stderr",
          "output_type": "stream",
          "text": [
            "\rEpoch 2/5:  25%|██▌       | 33/130 [00:14<00:49,  1.96it/s]"
          ]
        },
        {
          "name": "stdout",
          "output_type": "stream",
          "text": [
            "Error loading /content/drive/MyDrive/archive (14)/Dataset_BUSI_with_GT/benign/benign (209).png: Unexpected type <class 'dict'>\n",
            "Error loading /content/drive/MyDrive/archive (14)/Dataset_BUSI_with_GT/malignant/malignant (51).png: img should be PIL Image. Got <class 'dict'>\n",
            "Error loading /content/drive/MyDrive/archive (14)/Dataset_BUSI_with_GT/malignant/malignant (16).png: img should be PIL Image. Got <class 'dict'>\n",
            "Error loading /content/drive/MyDrive/archive (14)/Dataset_BUSI_with_GT/malignant/malignant (71).png: img should be PIL Image. Got <class 'dict'>\n"
          ]
        },
        {
          "name": "stderr",
          "output_type": "stream",
          "text": [
            "\rEpoch 2/5:  26%|██▌       | 34/130 [00:15<00:49,  1.94it/s]"
          ]
        },
        {
          "name": "stdout",
          "output_type": "stream",
          "text": [
            "Error loading /content/drive/MyDrive/archive (14)/Dataset_BUSI_with_GT/benign/benign (129).png: img should be PIL Image. Got <class 'dict'>\n",
            "Error loading /content/drive/MyDrive/archive (14)/Dataset_BUSI_with_GT/malignant/malignant (89).png: Unexpected type <class 'dict'>\n",
            "Error loading /content/drive/MyDrive/archive (14)/Dataset_BUSI_with_GT/malignant/malignant (75).png: Unexpected type <class 'dict'>\n",
            "Error loading /content/drive/MyDrive/archive (14)/Dataset_BUSI_with_GT/malignant/malignant (178).png: Unexpected type <class 'dict'>\n",
            "Error loading /content/drive/MyDrive/archive (14)/Dataset_BUSI_with_GT/malignant/malignant (143).png: img should be PIL Image. Got <class 'dict'>\n"
          ]
        },
        {
          "name": "stderr",
          "output_type": "stream",
          "text": [
            "\rEpoch 2/5:  27%|██▋       | 35/130 [00:15<00:45,  2.08it/s]"
          ]
        },
        {
          "name": "stdout",
          "output_type": "stream",
          "text": [
            "Error loading /content/drive/MyDrive/archive (14)/Dataset_BUSI_with_GT/benign/benign (294).png: Unexpected type <class 'dict'>\n",
            "Error loading /content/drive/MyDrive/archive (14)/Dataset_BUSI_with_GT/benign/benign (58).png: img should be PIL Image. Got <class 'dict'>\n",
            "Error loading /content/drive/MyDrive/archive (14)/Dataset_BUSI_with_GT/benign/benign (280).png: img should be PIL Image. Got <class 'dict'>\n",
            "Error loading /content/drive/MyDrive/archive (14)/Dataset_BUSI_with_GT/malignant/malignant (96).png: img should be PIL Image. Got <class 'dict'>\n"
          ]
        },
        {
          "name": "stderr",
          "output_type": "stream",
          "text": [
            "\rEpoch 2/5:  28%|██▊       | 36/130 [00:15<00:42,  2.19it/s]"
          ]
        },
        {
          "name": "stdout",
          "output_type": "stream",
          "text": [
            "Error loading /content/drive/MyDrive/archive (14)/Dataset_BUSI_with_GT/benign/benign (368).png: Unexpected type <class 'dict'>\n",
            "Error loading /content/drive/MyDrive/archive (14)/Dataset_BUSI_with_GT/benign/benign (111).png: img should be PIL Image. Got <class 'dict'>\n",
            "Error loading /content/drive/MyDrive/archive (14)/Dataset_BUSI_with_GT/malignant/malignant (177).png: Unexpected type <class 'dict'>\n",
            "Error loading /content/drive/MyDrive/archive (14)/Dataset_BUSI_with_GT/malignant/malignant (20).png: Unexpected type <class 'dict'>\n"
          ]
        },
        {
          "name": "stderr",
          "output_type": "stream",
          "text": [
            "\rEpoch 2/5:  28%|██▊       | 37/130 [00:16<00:40,  2.28it/s]"
          ]
        },
        {
          "name": "stdout",
          "output_type": "stream",
          "text": [
            "Error loading /content/drive/MyDrive/archive (14)/Dataset_BUSI_with_GT/benign/benign (28).png: img should be PIL Image. Got <class 'dict'>\n",
            "Error loading /content/drive/MyDrive/archive (14)/Dataset_BUSI_with_GT/malignant/malignant (126).png: Unexpected type <class 'dict'>\n",
            "Error loading /content/drive/MyDrive/archive (14)/Dataset_BUSI_with_GT/benign/benign (113).png: img should be PIL Image. Got <class 'dict'>\n",
            "Error loading /content/drive/MyDrive/archive (14)/Dataset_BUSI_with_GT/malignant/malignant (79).png: Unexpected type <class 'dict'>\n"
          ]
        },
        {
          "name": "stderr",
          "output_type": "stream",
          "text": [
            "\rEpoch 2/5:  29%|██▉       | 38/130 [00:16<00:40,  2.26it/s]"
          ]
        },
        {
          "name": "stdout",
          "output_type": "stream",
          "text": [
            "Error loading /content/drive/MyDrive/archive (14)/Dataset_BUSI_with_GT/benign/benign (67).png: img should be PIL Image. Got <class 'dict'>\n",
            "Error loading /content/drive/MyDrive/archive (14)/Dataset_BUSI_with_GT/malignant/malignant (88).png: img should be PIL Image. Got <class 'dict'>\n",
            "Error loading /content/drive/MyDrive/archive (14)/Dataset_BUSI_with_GT/benign/benign (396).png: Unexpected type <class 'dict'>\n",
            "Error loading /content/drive/MyDrive/archive (14)/Dataset_BUSI_with_GT/malignant/malignant (197).png: Unexpected type <class 'dict'>\n"
          ]
        },
        {
          "name": "stderr",
          "output_type": "stream",
          "text": [
            "\rEpoch 2/5:  30%|███       | 39/130 [00:17<00:38,  2.36it/s]"
          ]
        },
        {
          "name": "stdout",
          "output_type": "stream",
          "text": [
            "Error loading /content/drive/MyDrive/archive (14)/Dataset_BUSI_with_GT/malignant/malignant (189).png: Unexpected type <class 'dict'>\n",
            "Error loading /content/drive/MyDrive/archive (14)/Dataset_BUSI_with_GT/benign/benign (76).png: img should be PIL Image. Got <class 'dict'>\n",
            "Error loading /content/drive/MyDrive/archive (14)/Dataset_BUSI_with_GT/malignant/malignant (48).png: Unexpected type <class 'dict'>\n",
            "Error loading /content/drive/MyDrive/archive (14)/Dataset_BUSI_with_GT/benign/benign (70).png: Unexpected type <class 'dict'>\n"
          ]
        },
        {
          "name": "stderr",
          "output_type": "stream",
          "text": [
            "\rEpoch 2/5:  31%|███       | 40/130 [00:17<00:37,  2.38it/s]"
          ]
        },
        {
          "name": "stdout",
          "output_type": "stream",
          "text": [
            "Error loading /content/drive/MyDrive/archive (14)/Dataset_BUSI_with_GT/benign/benign (75).png: img should be PIL Image. Got <class 'dict'>\n",
            "Error loading /content/drive/MyDrive/archive (14)/Dataset_BUSI_with_GT/benign/benign (299).png: img should be PIL Image. Got <class 'dict'>\n",
            "Error loading /content/drive/MyDrive/archive (14)/Dataset_BUSI_with_GT/malignant/malignant (40).png: Unexpected type <class 'dict'>\n",
            "Error loading /content/drive/MyDrive/archive (14)/Dataset_BUSI_with_GT/benign/benign (47).png: Unexpected type <class 'dict'>\n"
          ]
        },
        {
          "name": "stderr",
          "output_type": "stream",
          "text": [
            "\rEpoch 2/5:  32%|███▏      | 41/130 [00:17<00:37,  2.39it/s]"
          ]
        },
        {
          "name": "stdout",
          "output_type": "stream",
          "text": [
            "Error loading /content/drive/MyDrive/archive (14)/Dataset_BUSI_with_GT/benign/benign (203).png: Unexpected type <class 'dict'>\n",
            "Error loading /content/drive/MyDrive/archive (14)/Dataset_BUSI_with_GT/benign/benign (85).png: Unexpected type <class 'dict'>\n",
            "Error loading /content/drive/MyDrive/archive (14)/Dataset_BUSI_with_GT/malignant/malignant (13).png: Unexpected type <class 'dict'>\n",
            "Error loading /content/drive/MyDrive/archive (14)/Dataset_BUSI_with_GT/benign/benign (14).png: Unexpected type <class 'dict'>\n"
          ]
        },
        {
          "name": "stderr",
          "output_type": "stream",
          "text": [
            "\rEpoch 2/5:  32%|███▏      | 42/130 [00:18<00:35,  2.46it/s]"
          ]
        },
        {
          "name": "stdout",
          "output_type": "stream",
          "text": [
            "Error loading /content/drive/MyDrive/archive (14)/Dataset_BUSI_with_GT/malignant/malignant (3).png: img should be PIL Image. Got <class 'dict'>\n",
            "Error loading /content/drive/MyDrive/archive (14)/Dataset_BUSI_with_GT/malignant/malignant (140).png: Unexpected type <class 'dict'>\n",
            "Error loading /content/drive/MyDrive/archive (14)/Dataset_BUSI_with_GT/benign/benign (359).png: Unexpected type <class 'dict'>\n",
            "Error loading /content/drive/MyDrive/archive (14)/Dataset_BUSI_with_GT/malignant/malignant (113).png: img should be PIL Image. Got <class 'dict'>\n"
          ]
        },
        {
          "name": "stderr",
          "output_type": "stream",
          "text": [
            "\rEpoch 2/5:  33%|███▎      | 43/130 [00:18<00:34,  2.53it/s]"
          ]
        },
        {
          "name": "stdout",
          "output_type": "stream",
          "text": [
            "Error loading /content/drive/MyDrive/archive (14)/Dataset_BUSI_with_GT/malignant/malignant (12).png: img should be PIL Image. Got <class 'dict'>\n",
            "Error loading /content/drive/MyDrive/archive (14)/Dataset_BUSI_with_GT/benign/benign (329).png: Unexpected type <class 'dict'>\n",
            "Error loading /content/drive/MyDrive/archive (14)/Dataset_BUSI_with_GT/benign/benign (271).png: img should be PIL Image. Got <class 'dict'>\n",
            "Error loading /content/drive/MyDrive/archive (14)/Dataset_BUSI_with_GT/malignant/malignant (198).png: Unexpected type <class 'dict'>\n"
          ]
        },
        {
          "name": "stderr",
          "output_type": "stream",
          "text": [
            "\rEpoch 2/5:  34%|███▍      | 44/130 [00:19<00:34,  2.53it/s]"
          ]
        },
        {
          "name": "stdout",
          "output_type": "stream",
          "text": [
            "Error loading /content/drive/MyDrive/archive (14)/Dataset_BUSI_with_GT/benign/benign (237).png: img should be PIL Image. Got <class 'dict'>\n",
            "Error loading /content/drive/MyDrive/archive (14)/Dataset_BUSI_with_GT/benign/benign (8).png: img should be PIL Image. Got <class 'dict'>\n",
            "Error loading /content/drive/MyDrive/archive (14)/Dataset_BUSI_with_GT/benign/benign (190).png: Unexpected type <class 'dict'>\n",
            "Error loading /content/drive/MyDrive/archive (14)/Dataset_BUSI_with_GT/benign/benign (353).png: Unexpected type <class 'dict'>\n"
          ]
        },
        {
          "name": "stderr",
          "output_type": "stream",
          "text": [
            "\rEpoch 2/5:  35%|███▍      | 45/130 [00:19<00:34,  2.49it/s]"
          ]
        },
        {
          "name": "stdout",
          "output_type": "stream",
          "text": [
            "Error loading /content/drive/MyDrive/archive (14)/Dataset_BUSI_with_GT/benign/benign (235).png: Unexpected type <class 'dict'>\n",
            "Error loading /content/drive/MyDrive/archive (14)/Dataset_BUSI_with_GT/malignant/malignant (119).png: img should be PIL Image. Got <class 'dict'>\n",
            "Error loading /content/drive/MyDrive/archive (14)/Dataset_BUSI_with_GT/benign/benign (170).png: img should be PIL Image. Got <class 'dict'>\n",
            "Error loading /content/drive/MyDrive/archive (14)/Dataset_BUSI_with_GT/malignant/malignant (168).png: img should be PIL Image. Got <class 'dict'>\n"
          ]
        },
        {
          "name": "stderr",
          "output_type": "stream",
          "text": [
            "\rEpoch 2/5:  35%|███▌      | 46/130 [00:19<00:33,  2.53it/s]"
          ]
        },
        {
          "name": "stdout",
          "output_type": "stream",
          "text": [
            "Error loading /content/drive/MyDrive/archive (14)/Dataset_BUSI_with_GT/benign/benign (155).png: img should be PIL Image. Got <class 'dict'>\n",
            "Error loading /content/drive/MyDrive/archive (14)/Dataset_BUSI_with_GT/benign/benign (156).png: Unexpected type <class 'dict'>\n",
            "Error loading /content/drive/MyDrive/archive (14)/Dataset_BUSI_with_GT/benign/benign (15).png: img should be PIL Image. Got <class 'dict'>\n"
          ]
        },
        {
          "name": "stderr",
          "output_type": "stream",
          "text": [
            "\rEpoch 2/5:  36%|███▌      | 47/130 [00:20<00:34,  2.40it/s]"
          ]
        },
        {
          "name": "stdout",
          "output_type": "stream",
          "text": [
            "Error loading /content/drive/MyDrive/archive (14)/Dataset_BUSI_with_GT/benign/benign (144).png: img should be PIL Image. Got <class 'dict'>\n",
            "Error loading /content/drive/MyDrive/archive (14)/Dataset_BUSI_with_GT/benign/benign (185).png: Unexpected type <class 'dict'>\n",
            "Error loading /content/drive/MyDrive/archive (14)/Dataset_BUSI_with_GT/malignant/malignant (202).png: Unexpected type <class 'dict'>\n",
            "Error loading /content/drive/MyDrive/archive (14)/Dataset_BUSI_with_GT/benign/benign (284).png: img should be PIL Image. Got <class 'dict'>\n",
            "Error loading /content/drive/MyDrive/archive (14)/Dataset_BUSI_with_GT/malignant/malignant (137).png: img should be PIL Image. Got <class 'dict'>\n"
          ]
        },
        {
          "name": "stderr",
          "output_type": "stream",
          "text": [
            "\rEpoch 2/5:  37%|███▋      | 48/130 [00:20<00:33,  2.48it/s]"
          ]
        },
        {
          "name": "stdout",
          "output_type": "stream",
          "text": [
            "Error loading /content/drive/MyDrive/archive (14)/Dataset_BUSI_with_GT/benign/benign (84).png: img should be PIL Image. Got <class 'dict'>\n",
            "Error loading /content/drive/MyDrive/archive (14)/Dataset_BUSI_with_GT/malignant/malignant (78).png: Unexpected type <class 'dict'>\n",
            "Error loading /content/drive/MyDrive/archive (14)/Dataset_BUSI_with_GT/malignant/malignant (145).png: img should be PIL Image. Got <class 'dict'>\n",
            "Error loading /content/drive/MyDrive/archive (14)/Dataset_BUSI_with_GT/benign/benign (21).png: Unexpected type <class 'dict'>\n"
          ]
        },
        {
          "name": "stderr",
          "output_type": "stream",
          "text": [
            "\rEpoch 2/5:  38%|███▊      | 49/130 [00:21<00:33,  2.43it/s]"
          ]
        },
        {
          "name": "stdout",
          "output_type": "stream",
          "text": [
            "Error loading /content/drive/MyDrive/archive (14)/Dataset_BUSI_with_GT/malignant/malignant (93).png: Unexpected type <class 'dict'>\n",
            "Error loading /content/drive/MyDrive/archive (14)/Dataset_BUSI_with_GT/benign/benign (357).png: Unexpected type <class 'dict'>\n",
            "Error loading /content/drive/MyDrive/archive (14)/Dataset_BUSI_with_GT/benign/benign (40).png: Unexpected type <class 'dict'>\n",
            "Error loading /content/drive/MyDrive/archive (14)/Dataset_BUSI_with_GT/benign/benign (303).png: img should be PIL Image. Got <class 'dict'>\n"
          ]
        },
        {
          "name": "stderr",
          "output_type": "stream",
          "text": [
            "\rEpoch 2/5:  38%|███▊      | 50/130 [00:21<00:32,  2.49it/s]"
          ]
        },
        {
          "name": "stdout",
          "output_type": "stream",
          "text": [
            "Error loading /content/drive/MyDrive/archive (14)/Dataset_BUSI_with_GT/benign/benign (258).png: Unexpected type <class 'dict'>\n",
            "Error loading /content/drive/MyDrive/archive (14)/Dataset_BUSI_with_GT/benign/benign (83).png: img should be PIL Image. Got <class 'dict'>\n",
            "Error loading /content/drive/MyDrive/archive (14)/Dataset_BUSI_with_GT/benign/benign (206).png: Unexpected type <class 'dict'>\n",
            "Error loading /content/drive/MyDrive/archive (14)/Dataset_BUSI_with_GT/malignant/malignant (149).png: img should be PIL Image. Got <class 'dict'>\n"
          ]
        },
        {
          "name": "stderr",
          "output_type": "stream",
          "text": [
            "\rEpoch 2/5:  39%|███▉      | 51/130 [00:21<00:31,  2.53it/s]"
          ]
        },
        {
          "name": "stdout",
          "output_type": "stream",
          "text": [
            "Error loading /content/drive/MyDrive/archive (14)/Dataset_BUSI_with_GT/benign/benign (24).png: img should be PIL Image. Got <class 'dict'>\n",
            "Error loading /content/drive/MyDrive/archive (14)/Dataset_BUSI_with_GT/malignant/malignant (62).png: img should be PIL Image. Got <class 'dict'>\n",
            "Error loading /content/drive/MyDrive/archive (14)/Dataset_BUSI_with_GT/benign/benign (316).png: Unexpected type <class 'dict'>\n",
            "Error loading /content/drive/MyDrive/archive (14)/Dataset_BUSI_with_GT/malignant/malignant (131).png: Unexpected type <class 'dict'>\n"
          ]
        },
        {
          "name": "stderr",
          "output_type": "stream",
          "text": [
            "\rEpoch 2/5:  40%|████      | 52/130 [00:22<00:30,  2.56it/s]"
          ]
        },
        {
          "name": "stdout",
          "output_type": "stream",
          "text": [
            "Error loading /content/drive/MyDrive/archive (14)/Dataset_BUSI_with_GT/benign/benign (238).png: Unexpected type <class 'dict'>\n",
            "Error loading /content/drive/MyDrive/archive (14)/Dataset_BUSI_with_GT/malignant/malignant (160).png: img should be PIL Image. Got <class 'dict'>\n",
            "Error loading /content/drive/MyDrive/archive (14)/Dataset_BUSI_with_GT/benign/benign (80).png: Unexpected type <class 'dict'>\n",
            "Error loading /content/drive/MyDrive/archive (14)/Dataset_BUSI_with_GT/malignant/malignant (174).png: Unexpected type <class 'dict'>\n"
          ]
        },
        {
          "name": "stderr",
          "output_type": "stream",
          "text": [
            "\rEpoch 2/5:  41%|████      | 53/130 [00:22<00:30,  2.54it/s]"
          ]
        },
        {
          "name": "stdout",
          "output_type": "stream",
          "text": [
            "Error loading /content/drive/MyDrive/archive (14)/Dataset_BUSI_with_GT/benign/benign (178).png: img should be PIL Image. Got <class 'dict'>\n",
            "Error loading /content/drive/MyDrive/archive (14)/Dataset_BUSI_with_GT/benign/benign (413).png: img should be PIL Image. Got <class 'dict'>\n",
            "Error loading /content/drive/MyDrive/archive (14)/Dataset_BUSI_with_GT/benign/benign (169).png: img should be PIL Image. Got <class 'dict'>\n",
            "Error loading /content/drive/MyDrive/archive (14)/Dataset_BUSI_with_GT/benign/benign (180).png: Unexpected type <class 'dict'>\n"
          ]
        },
        {
          "name": "stderr",
          "output_type": "stream",
          "text": [
            "\rEpoch 2/5:  42%|████▏     | 54/130 [00:23<00:31,  2.45it/s]"
          ]
        },
        {
          "name": "stdout",
          "output_type": "stream",
          "text": [
            "Error loading /content/drive/MyDrive/archive (14)/Dataset_BUSI_with_GT/benign/benign (326).png: img should be PIL Image. Got <class 'dict'>\n",
            "Error loading /content/drive/MyDrive/archive (14)/Dataset_BUSI_with_GT/benign/benign (386).png: Unexpected type <class 'dict'>\n",
            "Error loading /content/drive/MyDrive/archive (14)/Dataset_BUSI_with_GT/benign/benign (418).png: img should be PIL Image. Got <class 'dict'>\n",
            "Error loading /content/drive/MyDrive/archive (14)/Dataset_BUSI_with_GT/benign/benign (78).png: img should be PIL Image. Got <class 'dict'>\n"
          ]
        },
        {
          "name": "stderr",
          "output_type": "stream",
          "text": [
            "\rEpoch 2/5:  42%|████▏     | 55/130 [00:23<00:31,  2.38it/s]"
          ]
        },
        {
          "name": "stdout",
          "output_type": "stream",
          "text": [
            "Error loading /content/drive/MyDrive/archive (14)/Dataset_BUSI_with_GT/benign/benign (260).png: Unexpected type <class 'dict'>\n",
            "Error loading /content/drive/MyDrive/archive (14)/Dataset_BUSI_with_GT/benign/benign (408).png: img should be PIL Image. Got <class 'dict'>\n",
            "Error loading /content/drive/MyDrive/archive (14)/Dataset_BUSI_with_GT/malignant/malignant (165).png: Unexpected type <class 'dict'>\n",
            "Error loading /content/drive/MyDrive/archive (14)/Dataset_BUSI_with_GT/benign/benign (348).png: Unexpected type <class 'dict'>\n"
          ]
        },
        {
          "name": "stderr",
          "output_type": "stream",
          "text": [
            "\rEpoch 2/5:  43%|████▎     | 56/130 [00:24<00:30,  2.44it/s]"
          ]
        },
        {
          "name": "stdout",
          "output_type": "stream",
          "text": [
            "Error loading /content/drive/MyDrive/archive (14)/Dataset_BUSI_with_GT/benign/benign (196).png: Unexpected type <class 'dict'>\n",
            "Error loading /content/drive/MyDrive/archive (14)/Dataset_BUSI_with_GT/benign/benign (225).png: Unexpected type <class 'dict'>\n",
            "Error loading /content/drive/MyDrive/archive (14)/Dataset_BUSI_with_GT/benign/benign (189).png: img should be PIL Image. Got <class 'dict'>\n",
            "Error loading /content/drive/MyDrive/archive (14)/Dataset_BUSI_with_GT/benign/benign (100).png: img should be PIL Image. Got <class 'dict'>\n"
          ]
        },
        {
          "name": "stderr",
          "output_type": "stream",
          "text": [
            "\rEpoch 2/5:  44%|████▍     | 57/130 [00:24<00:29,  2.50it/s]"
          ]
        },
        {
          "name": "stdout",
          "output_type": "stream",
          "text": [
            "Error loading /content/drive/MyDrive/archive (14)/Dataset_BUSI_with_GT/malignant/malignant (150).png: Unexpected type <class 'dict'>\n",
            "Error loading /content/drive/MyDrive/archive (14)/Dataset_BUSI_with_GT/malignant/malignant (94).png: img should be PIL Image. Got <class 'dict'>\n",
            "Error loading /content/drive/MyDrive/archive (14)/Dataset_BUSI_with_GT/benign/benign (116).png: img should be PIL Image. Got <class 'dict'>\n",
            "Error loading /content/drive/MyDrive/archive (14)/Dataset_BUSI_with_GT/benign/benign (29).png: img should be PIL Image. Got <class 'dict'>\n"
          ]
        },
        {
          "name": "stderr",
          "output_type": "stream",
          "text": [
            "\rEpoch 2/5:  45%|████▍     | 58/130 [00:24<00:28,  2.52it/s]"
          ]
        },
        {
          "name": "stdout",
          "output_type": "stream",
          "text": [
            "Error loading /content/drive/MyDrive/archive (14)/Dataset_BUSI_with_GT/benign/benign (290).png: img should be PIL Image. Got <class 'dict'>\n",
            "Error loading /content/drive/MyDrive/archive (14)/Dataset_BUSI_with_GT/benign/benign (65).png: Unexpected type <class 'dict'>\n",
            "Error loading /content/drive/MyDrive/archive (14)/Dataset_BUSI_with_GT/benign/benign (138).png: Unexpected type <class 'dict'>\n",
            "Error loading /content/drive/MyDrive/archive (14)/Dataset_BUSI_with_GT/benign/benign (306).png: Unexpected type <class 'dict'>\n"
          ]
        },
        {
          "name": "stderr",
          "output_type": "stream",
          "text": [
            "\rEpoch 2/5:  45%|████▌     | 59/130 [00:25<00:27,  2.56it/s]"
          ]
        },
        {
          "name": "stdout",
          "output_type": "stream",
          "text": [
            "Error loading /content/drive/MyDrive/archive (14)/Dataset_BUSI_with_GT/benign/benign (127).png: img should be PIL Image. Got <class 'dict'>\n",
            "Error loading /content/drive/MyDrive/archive (14)/Dataset_BUSI_with_GT/benign/benign (262).png: img should be PIL Image. Got <class 'dict'>\n",
            "Error loading /content/drive/MyDrive/archive (14)/Dataset_BUSI_with_GT/benign/benign (432).png: Unexpected type <class 'dict'>\n"
          ]
        },
        {
          "name": "stderr",
          "output_type": "stream",
          "text": [
            "\rEpoch 2/5:  46%|████▌     | 60/130 [00:25<00:28,  2.42it/s]"
          ]
        },
        {
          "name": "stdout",
          "output_type": "stream",
          "text": [
            "Error loading /content/drive/MyDrive/archive (14)/Dataset_BUSI_with_GT/benign/benign (350).png: Unexpected type <class 'dict'>\n",
            "Error loading /content/drive/MyDrive/archive (14)/Dataset_BUSI_with_GT/malignant/malignant (30).png: Unexpected type <class 'dict'>\n",
            "Error loading /content/drive/MyDrive/archive (14)/Dataset_BUSI_with_GT/malignant/malignant (141).png: Unexpected type <class 'dict'>\n",
            "Error loading /content/drive/MyDrive/archive (14)/Dataset_BUSI_with_GT/benign/benign (13).png: Unexpected type <class 'dict'>\n"
          ]
        },
        {
          "name": "stderr",
          "output_type": "stream",
          "text": [
            "\rEpoch 2/5:  47%|████▋     | 61/130 [00:26<00:29,  2.31it/s]"
          ]
        },
        {
          "name": "stdout",
          "output_type": "stream",
          "text": [
            "Error loading /content/drive/MyDrive/archive (14)/Dataset_BUSI_with_GT/benign/benign (273).png: Unexpected type <class 'dict'>\n",
            "Error loading /content/drive/MyDrive/archive (14)/Dataset_BUSI_with_GT/malignant/malignant (171).png: img should be PIL Image. Got <class 'dict'>\n",
            "Error loading /content/drive/MyDrive/archive (14)/Dataset_BUSI_with_GT/benign/benign (19).png: Unexpected type <class 'dict'>\n",
            "Error loading /content/drive/MyDrive/archive (14)/Dataset_BUSI_with_GT/benign/benign (61).png: img should be PIL Image. Got <class 'dict'>\n"
          ]
        },
        {
          "name": "stderr",
          "output_type": "stream",
          "text": [
            "\rEpoch 2/5:  48%|████▊     | 62/130 [00:26<00:31,  2.13it/s]"
          ]
        },
        {
          "name": "stdout",
          "output_type": "stream",
          "text": [
            "Error loading /content/drive/MyDrive/archive (14)/Dataset_BUSI_with_GT/malignant/malignant (97).png: Unexpected type <class 'dict'>\n",
            "Error loading /content/drive/MyDrive/archive (14)/Dataset_BUSI_with_GT/benign/benign (214).png: Unexpected type <class 'dict'>\n",
            "Error loading /content/drive/MyDrive/archive (14)/Dataset_BUSI_with_GT/benign/benign (327).png: img should be PIL Image. Got <class 'dict'>\n",
            "Error loading /content/drive/MyDrive/archive (14)/Dataset_BUSI_with_GT/malignant/malignant (176).png: img should be PIL Image. Got <class 'dict'>\n",
            "Error loading /content/drive/MyDrive/archive (14)/Dataset_BUSI_with_GT/benign/benign (308).png: Unexpected type <class 'dict'>\n"
          ]
        },
        {
          "name": "stderr",
          "output_type": "stream",
          "text": [
            "\rEpoch 2/5:  48%|████▊     | 63/130 [00:27<00:32,  2.05it/s]"
          ]
        },
        {
          "name": "stdout",
          "output_type": "stream",
          "text": [
            "Error loading /content/drive/MyDrive/archive (14)/Dataset_BUSI_with_GT/malignant/malignant (191).png: img should be PIL Image. Got <class 'dict'>\n",
            "Error loading /content/drive/MyDrive/archive (14)/Dataset_BUSI_with_GT/benign/benign (420).png: img should be PIL Image. Got <class 'dict'>\n",
            "Error loading /content/drive/MyDrive/archive (14)/Dataset_BUSI_with_GT/malignant/malignant (193).png: img should be PIL Image. Got <class 'dict'>\n",
            "Error loading /content/drive/MyDrive/archive (14)/Dataset_BUSI_with_GT/benign/benign (63).png: Unexpected type <class 'dict'>\n"
          ]
        },
        {
          "name": "stderr",
          "output_type": "stream",
          "text": [
            "\rEpoch 2/5:  49%|████▉     | 64/130 [00:27<00:34,  1.92it/s]"
          ]
        },
        {
          "name": "stdout",
          "output_type": "stream",
          "text": [
            "Error loading /content/drive/MyDrive/archive (14)/Dataset_BUSI_with_GT/benign/benign (157).png: img should be PIL Image. Got <class 'dict'>\n",
            "Error loading /content/drive/MyDrive/archive (14)/Dataset_BUSI_with_GT/benign/benign (162).png: img should be PIL Image. Got <class 'dict'>\n",
            "Error loading /content/drive/MyDrive/archive (14)/Dataset_BUSI_with_GT/benign/benign (423).png: img should be PIL Image. Got <class 'dict'>\n",
            "Error loading /content/drive/MyDrive/archive (14)/Dataset_BUSI_with_GT/benign/benign (154).png: Unexpected type <class 'dict'>\n"
          ]
        },
        {
          "name": "stderr",
          "output_type": "stream",
          "text": [
            "\rEpoch 2/5:  50%|█████     | 65/130 [00:28<00:32,  2.00it/s]"
          ]
        },
        {
          "name": "stdout",
          "output_type": "stream",
          "text": [
            "Error loading /content/drive/MyDrive/archive (14)/Dataset_BUSI_with_GT/benign/benign (397).png: Unexpected type <class 'dict'>\n",
            "Error loading /content/drive/MyDrive/archive (14)/Dataset_BUSI_with_GT/benign/benign (245).png: img should be PIL Image. Got <class 'dict'>\n",
            "Error loading /content/drive/MyDrive/archive (14)/Dataset_BUSI_with_GT/benign/benign (79).png: Unexpected type <class 'dict'>\n"
          ]
        },
        {
          "name": "stderr",
          "output_type": "stream",
          "text": [
            "\rEpoch 2/5:  51%|█████     | 66/130 [00:28<00:31,  2.02it/s]"
          ]
        },
        {
          "name": "stdout",
          "output_type": "stream",
          "text": [
            "Error loading /content/drive/MyDrive/archive (14)/Dataset_BUSI_with_GT/malignant/malignant (203).png: Unexpected type <class 'dict'>\n",
            "Error loading /content/drive/MyDrive/archive (14)/Dataset_BUSI_with_GT/benign/benign (205).png: img should be PIL Image. Got <class 'dict'>\n",
            "Error loading /content/drive/MyDrive/archive (14)/Dataset_BUSI_with_GT/benign/benign (332).png: img should be PIL Image. Got <class 'dict'>\n",
            "Error loading /content/drive/MyDrive/archive (14)/Dataset_BUSI_with_GT/benign/benign (269).png: Unexpected type <class 'dict'>\n",
            "Error loading /content/drive/MyDrive/archive (14)/Dataset_BUSI_with_GT/benign/benign (275).png: img should be PIL Image. Got <class 'dict'>\n"
          ]
        },
        {
          "name": "stderr",
          "output_type": "stream",
          "text": [
            "\rEpoch 2/5:  52%|█████▏    | 67/130 [00:29<00:28,  2.18it/s]"
          ]
        },
        {
          "name": "stdout",
          "output_type": "stream",
          "text": [
            "Error loading /content/drive/MyDrive/archive (14)/Dataset_BUSI_with_GT/benign/benign (342).png: Unexpected type <class 'dict'>\n",
            "Error loading /content/drive/MyDrive/archive (14)/Dataset_BUSI_with_GT/benign/benign (286).png: img should be PIL Image. Got <class 'dict'>\n",
            "Error loading /content/drive/MyDrive/archive (14)/Dataset_BUSI_with_GT/benign/benign (285).png: img should be PIL Image. Got <class 'dict'>\n",
            "Error loading /content/drive/MyDrive/archive (14)/Dataset_BUSI_with_GT/benign/benign (265).png: img should be PIL Image. Got <class 'dict'>\n"
          ]
        },
        {
          "name": "stderr",
          "output_type": "stream",
          "text": [
            "\rEpoch 2/5:  52%|█████▏    | 68/130 [00:29<00:26,  2.32it/s]"
          ]
        },
        {
          "name": "stdout",
          "output_type": "stream",
          "text": [
            "Error loading /content/drive/MyDrive/archive (14)/Dataset_BUSI_with_GT/malignant/malignant (167).png: Unexpected type <class 'dict'>\n",
            "Error loading /content/drive/MyDrive/archive (14)/Dataset_BUSI_with_GT/malignant/malignant (136).png: Unexpected type <class 'dict'>\n",
            "Error loading /content/drive/MyDrive/archive (14)/Dataset_BUSI_with_GT/benign/benign (168).png: Unexpected type <class 'dict'>\n",
            "Error loading /content/drive/MyDrive/archive (14)/Dataset_BUSI_with_GT/benign/benign (358).png: Unexpected type <class 'dict'>\n"
          ]
        },
        {
          "name": "stderr",
          "output_type": "stream",
          "text": [
            "\rEpoch 2/5:  53%|█████▎    | 69/130 [00:29<00:24,  2.46it/s]"
          ]
        },
        {
          "name": "stdout",
          "output_type": "stream",
          "text": [
            "Error loading /content/drive/MyDrive/archive (14)/Dataset_BUSI_with_GT/benign/benign (150).png: img should be PIL Image. Got <class 'dict'>\n",
            "Error loading /content/drive/MyDrive/archive (14)/Dataset_BUSI_with_GT/malignant/malignant (153).png: Unexpected type <class 'dict'>\n",
            "Error loading /content/drive/MyDrive/archive (14)/Dataset_BUSI_with_GT/benign/benign (279).png: Unexpected type <class 'dict'>\n",
            "Error loading /content/drive/MyDrive/archive (14)/Dataset_BUSI_with_GT/malignant/malignant (139).png: Unexpected type <class 'dict'>\n"
          ]
        },
        {
          "name": "stderr",
          "output_type": "stream",
          "text": [
            "\rEpoch 2/5:  54%|█████▍    | 70/130 [00:30<00:24,  2.47it/s]"
          ]
        },
        {
          "name": "stdout",
          "output_type": "stream",
          "text": [
            "Error loading /content/drive/MyDrive/archive (14)/Dataset_BUSI_with_GT/benign/benign (321).png: Unexpected type <class 'dict'>\n",
            "Error loading /content/drive/MyDrive/archive (14)/Dataset_BUSI_with_GT/malignant/malignant (24).png: img should be PIL Image. Got <class 'dict'>\n",
            "Error loading /content/drive/MyDrive/archive (14)/Dataset_BUSI_with_GT/benign/benign (398).png: img should be PIL Image. Got <class 'dict'>\n",
            "Error loading /content/drive/MyDrive/archive (14)/Dataset_BUSI_with_GT/benign/benign (117).png: img should be PIL Image. Got <class 'dict'>\n"
          ]
        },
        {
          "name": "stderr",
          "output_type": "stream",
          "text": [
            "\rEpoch 2/5:  55%|█████▍    | 71/130 [00:30<00:24,  2.45it/s]"
          ]
        },
        {
          "name": "stdout",
          "output_type": "stream",
          "text": [
            "Error loading /content/drive/MyDrive/archive (14)/Dataset_BUSI_with_GT/malignant/malignant (82).png: img should be PIL Image. Got <class 'dict'>\n",
            "Error loading /content/drive/MyDrive/archive (14)/Dataset_BUSI_with_GT/benign/benign (74).png: img should be PIL Image. Got <class 'dict'>\n",
            "Error loading /content/drive/MyDrive/archive (14)/Dataset_BUSI_with_GT/benign/benign (241).png: Unexpected type <class 'dict'>\n",
            "Error loading /content/drive/MyDrive/archive (14)/Dataset_BUSI_with_GT/benign/benign (192).png: Unexpected type <class 'dict'>\n"
          ]
        },
        {
          "name": "stderr",
          "output_type": "stream",
          "text": [
            "\rEpoch 2/5:  55%|█████▌    | 72/130 [00:31<00:23,  2.46it/s]"
          ]
        },
        {
          "name": "stdout",
          "output_type": "stream",
          "text": [
            "Error loading /content/drive/MyDrive/archive (14)/Dataset_BUSI_with_GT/benign/benign (81).png: Unexpected type <class 'dict'>\n",
            "Error loading /content/drive/MyDrive/archive (14)/Dataset_BUSI_with_GT/benign/benign (287).png: Unexpected type <class 'dict'>\n",
            "Error loading /content/drive/MyDrive/archive (14)/Dataset_BUSI_with_GT/malignant/malignant (92).png: img should be PIL Image. Got <class 'dict'>\n",
            "Error loading /content/drive/MyDrive/archive (14)/Dataset_BUSI_with_GT/benign/benign (87).png: Unexpected type <class 'dict'>\n"
          ]
        },
        {
          "name": "stderr",
          "output_type": "stream",
          "text": [
            "\rEpoch 2/5:  56%|█████▌    | 73/130 [00:31<00:22,  2.48it/s]"
          ]
        },
        {
          "name": "stdout",
          "output_type": "stream",
          "text": [
            "Error loading /content/drive/MyDrive/archive (14)/Dataset_BUSI_with_GT/benign/benign (254).png: img should be PIL Image. Got <class 'dict'>\n",
            "Error loading /content/drive/MyDrive/archive (14)/Dataset_BUSI_with_GT/benign/benign (161).png: Unexpected type <class 'dict'>\n",
            "Error loading /content/drive/MyDrive/archive (14)/Dataset_BUSI_with_GT/benign/benign (391).png: Unexpected type <class 'dict'>\n",
            "Error loading /content/drive/MyDrive/archive (14)/Dataset_BUSI_with_GT/benign/benign (160).png: Unexpected type <class 'dict'>\n"
          ]
        },
        {
          "name": "stderr",
          "output_type": "stream",
          "text": [
            "\rEpoch 2/5:  57%|█████▋    | 74/130 [00:31<00:22,  2.51it/s]"
          ]
        },
        {
          "name": "stdout",
          "output_type": "stream",
          "text": [
            "Error loading /content/drive/MyDrive/archive (14)/Dataset_BUSI_with_GT/malignant/malignant (87).png: Unexpected type <class 'dict'>\n",
            "Error loading /content/drive/MyDrive/archive (14)/Dataset_BUSI_with_GT/benign/benign (45).png: Unexpected type <class 'dict'>\n",
            "Error loading /content/drive/MyDrive/archive (14)/Dataset_BUSI_with_GT/benign/benign (11).png: img should be PIL Image. Got <class 'dict'>\n",
            "Error loading /content/drive/MyDrive/archive (14)/Dataset_BUSI_with_GT/benign/benign (31).png: Unexpected type <class 'dict'>\n"
          ]
        },
        {
          "name": "stderr",
          "output_type": "stream",
          "text": [
            "\rEpoch 2/5:  58%|█████▊    | 75/130 [00:32<00:22,  2.47it/s]"
          ]
        },
        {
          "name": "stdout",
          "output_type": "stream",
          "text": [
            "Error loading /content/drive/MyDrive/archive (14)/Dataset_BUSI_with_GT/benign/benign (181).png: img should be PIL Image. Got <class 'dict'>\n",
            "Error loading /content/drive/MyDrive/archive (14)/Dataset_BUSI_with_GT/benign/benign (424).png: Unexpected type <class 'dict'>\n",
            "Error loading /content/drive/MyDrive/archive (14)/Dataset_BUSI_with_GT/malignant/malignant (162).png: Unexpected type <class 'dict'>\n",
            "Error loading /content/drive/MyDrive/archive (14)/Dataset_BUSI_with_GT/benign/benign (54).png: img should be PIL Image. Got <class 'dict'>\n"
          ]
        },
        {
          "name": "stderr",
          "output_type": "stream",
          "text": [
            "\rEpoch 2/5:  58%|█████▊    | 76/130 [00:32<00:21,  2.47it/s]"
          ]
        },
        {
          "name": "stdout",
          "output_type": "stream",
          "text": [
            "Error loading /content/drive/MyDrive/archive (14)/Dataset_BUSI_with_GT/benign/benign (425).png: Unexpected type <class 'dict'>\n",
            "Error loading /content/drive/MyDrive/archive (14)/Dataset_BUSI_with_GT/benign/benign (325).png: img should be PIL Image. Got <class 'dict'>\n",
            "Error loading /content/drive/MyDrive/archive (14)/Dataset_BUSI_with_GT/benign/benign (52).png: img should be PIL Image. Got <class 'dict'>\n",
            "Error loading /content/drive/MyDrive/archive (14)/Dataset_BUSI_with_GT/malignant/malignant (208).png: img should be PIL Image. Got <class 'dict'>\n"
          ]
        },
        {
          "name": "stderr",
          "output_type": "stream",
          "text": [
            "\rEpoch 2/5:  59%|█████▉    | 77/130 [00:33<00:21,  2.51it/s]"
          ]
        },
        {
          "name": "stdout",
          "output_type": "stream",
          "text": [
            "Error loading /content/drive/MyDrive/archive (14)/Dataset_BUSI_with_GT/malignant/malignant (56).png: img should be PIL Image. Got <class 'dict'>\n",
            "Error loading /content/drive/MyDrive/archive (14)/Dataset_BUSI_with_GT/benign/benign (354).png: Unexpected type <class 'dict'>\n",
            "Error loading /content/drive/MyDrive/archive (14)/Dataset_BUSI_with_GT/benign/benign (163).png: img should be PIL Image. Got <class 'dict'>\n",
            "Error loading /content/drive/MyDrive/archive (14)/Dataset_BUSI_with_GT/malignant/malignant (166).png: img should be PIL Image. Got <class 'dict'>\n"
          ]
        },
        {
          "name": "stderr",
          "output_type": "stream",
          "text": [
            "\rEpoch 2/5:  60%|██████    | 78/130 [00:33<00:21,  2.46it/s]"
          ]
        },
        {
          "name": "stdout",
          "output_type": "stream",
          "text": [
            "Error loading /content/drive/MyDrive/archive (14)/Dataset_BUSI_with_GT/malignant/malignant (23).png: img should be PIL Image. Got <class 'dict'>\n",
            "Error loading /content/drive/MyDrive/archive (14)/Dataset_BUSI_with_GT/benign/benign (46).png: Unexpected type <class 'dict'>\n",
            "Error loading /content/drive/MyDrive/archive (14)/Dataset_BUSI_with_GT/malignant/malignant (5).png: Unexpected type <class 'dict'>\n",
            "Error loading /content/drive/MyDrive/archive (14)/Dataset_BUSI_with_GT/malignant/malignant (103).png: Unexpected type <class 'dict'>\n"
          ]
        },
        {
          "name": "stderr",
          "output_type": "stream",
          "text": [
            "\rEpoch 2/5:  61%|██████    | 79/130 [00:33<00:20,  2.54it/s]"
          ]
        },
        {
          "name": "stdout",
          "output_type": "stream",
          "text": [
            "Error loading /content/drive/MyDrive/archive (14)/Dataset_BUSI_with_GT/malignant/malignant (195).png: Unexpected type <class 'dict'>\n",
            "Error loading /content/drive/MyDrive/archive (14)/Dataset_BUSI_with_GT/benign/benign (39).png: img should be PIL Image. Got <class 'dict'>\n",
            "Error loading /content/drive/MyDrive/archive (14)/Dataset_BUSI_with_GT/benign/benign (313).png: img should be PIL Image. Got <class 'dict'>\n",
            "Error loading /content/drive/MyDrive/archive (14)/Dataset_BUSI_with_GT/benign/benign (328).png: Unexpected type <class 'dict'>\n"
          ]
        },
        {
          "name": "stderr",
          "output_type": "stream",
          "text": [
            "\rEpoch 2/5:  62%|██████▏   | 80/130 [00:34<00:19,  2.53it/s]"
          ]
        },
        {
          "name": "stdout",
          "output_type": "stream",
          "text": [
            "Error loading /content/drive/MyDrive/archive (14)/Dataset_BUSI_with_GT/malignant/malignant (210).png: Unexpected type <class 'dict'>\n",
            "Error loading /content/drive/MyDrive/archive (14)/Dataset_BUSI_with_GT/malignant/malignant (106).png: Unexpected type <class 'dict'>\n",
            "Error loading /content/drive/MyDrive/archive (14)/Dataset_BUSI_with_GT/benign/benign (53).png: img should be PIL Image. Got <class 'dict'>\n",
            "Error loading /content/drive/MyDrive/archive (14)/Dataset_BUSI_with_GT/benign/benign (124).png: Unexpected type <class 'dict'>\n"
          ]
        },
        {
          "name": "stderr",
          "output_type": "stream",
          "text": [
            "\rEpoch 2/5:  62%|██████▏   | 81/130 [00:34<00:19,  2.46it/s]"
          ]
        },
        {
          "name": "stdout",
          "output_type": "stream",
          "text": [
            "Error loading /content/drive/MyDrive/archive (14)/Dataset_BUSI_with_GT/benign/benign (197).png: Unexpected type <class 'dict'>\n",
            "Error loading /content/drive/MyDrive/archive (14)/Dataset_BUSI_with_GT/benign/benign (118).png: img should be PIL Image. Got <class 'dict'>\n",
            "Error loading /content/drive/MyDrive/archive (14)/Dataset_BUSI_with_GT/benign/benign (300).png: img should be PIL Image. Got <class 'dict'>\n",
            "Error loading /content/drive/MyDrive/archive (14)/Dataset_BUSI_with_GT/benign/benign (255).png: Unexpected type <class 'dict'>\n"
          ]
        },
        {
          "name": "stderr",
          "output_type": "stream",
          "text": [
            "\rEpoch 2/5:  63%|██████▎   | 82/130 [00:34<00:18,  2.54it/s]"
          ]
        },
        {
          "name": "stdout",
          "output_type": "stream",
          "text": [
            "Error loading /content/drive/MyDrive/archive (14)/Dataset_BUSI_with_GT/malignant/malignant (121).png: img should be PIL Image. Got <class 'dict'>\n",
            "Error loading /content/drive/MyDrive/archive (14)/Dataset_BUSI_with_GT/benign/benign (90).png: img should be PIL Image. Got <class 'dict'>\n",
            "Error loading /content/drive/MyDrive/archive (14)/Dataset_BUSI_with_GT/benign/benign (112).png: Unexpected type <class 'dict'>\n",
            "Error loading /content/drive/MyDrive/archive (14)/Dataset_BUSI_with_GT/benign/benign (247).png: Unexpected type <class 'dict'>\n"
          ]
        },
        {
          "name": "stderr",
          "output_type": "stream",
          "text": [
            "\rEpoch 2/5:  64%|██████▍   | 83/130 [00:35<00:18,  2.52it/s]"
          ]
        },
        {
          "name": "stdout",
          "output_type": "stream",
          "text": [
            "Error loading /content/drive/MyDrive/archive (14)/Dataset_BUSI_with_GT/benign/benign (219).png: Unexpected type <class 'dict'>\n",
            "Error loading /content/drive/MyDrive/archive (14)/Dataset_BUSI_with_GT/malignant/malignant (19).png: Unexpected type <class 'dict'>\n",
            "Error loading /content/drive/MyDrive/archive (14)/Dataset_BUSI_with_GT/benign/benign (301).png: img should be PIL Image. Got <class 'dict'>\n",
            "Error loading /content/drive/MyDrive/archive (14)/Dataset_BUSI_with_GT/malignant/malignant (123).png: img should be PIL Image. Got <class 'dict'>\n"
          ]
        },
        {
          "name": "stderr",
          "output_type": "stream",
          "text": [
            "\rEpoch 2/5:  65%|██████▍   | 84/130 [00:35<00:17,  2.59it/s]"
          ]
        },
        {
          "name": "stdout",
          "output_type": "stream",
          "text": [
            "Error loading /content/drive/MyDrive/archive (14)/Dataset_BUSI_with_GT/benign/benign (428).png: Unexpected type <class 'dict'>\n",
            "Error loading /content/drive/MyDrive/archive (14)/Dataset_BUSI_with_GT/malignant/malignant (185).png: img should be PIL Image. Got <class 'dict'>\n",
            "Error loading /content/drive/MyDrive/archive (14)/Dataset_BUSI_with_GT/benign/benign (187).png: Unexpected type <class 'dict'>\n",
            "Error loading /content/drive/MyDrive/archive (14)/Dataset_BUSI_with_GT/benign/benign (159).png: img should be PIL Image. Got <class 'dict'>\n"
          ]
        },
        {
          "name": "stderr",
          "output_type": "stream",
          "text": [
            "\rEpoch 2/5:  65%|██████▌   | 85/130 [00:36<00:18,  2.49it/s]"
          ]
        },
        {
          "name": "stdout",
          "output_type": "stream",
          "text": [
            "Error loading /content/drive/MyDrive/archive (14)/Dataset_BUSI_with_GT/benign/benign (318).png: Unexpected type <class 'dict'>\n",
            "Error loading /content/drive/MyDrive/archive (14)/Dataset_BUSI_with_GT/malignant/malignant (200).png: Unexpected type <class 'dict'>\n",
            "Error loading /content/drive/MyDrive/archive (14)/Dataset_BUSI_with_GT/benign/benign (232).png: Unexpected type <class 'dict'>\n",
            "Error loading /content/drive/MyDrive/archive (14)/Dataset_BUSI_with_GT/malignant/malignant (66).png: img should be PIL Image. Got <class 'dict'>\n"
          ]
        },
        {
          "name": "stderr",
          "output_type": "stream",
          "text": [
            "\rEpoch 2/5:  66%|██████▌   | 86/130 [00:36<00:17,  2.53it/s]"
          ]
        },
        {
          "name": "stdout",
          "output_type": "stream",
          "text": [
            "Error loading /content/drive/MyDrive/archive (14)/Dataset_BUSI_with_GT/benign/benign (44).png: img should be PIL Image. Got <class 'dict'>\n",
            "Error loading /content/drive/MyDrive/archive (14)/Dataset_BUSI_with_GT/benign/benign (104).png: img should be PIL Image. Got <class 'dict'>\n",
            "Error loading /content/drive/MyDrive/archive (14)/Dataset_BUSI_with_GT/benign/benign (378).png: Unexpected type <class 'dict'>\n",
            "Error loading /content/drive/MyDrive/archive (14)/Dataset_BUSI_with_GT/benign/benign (182).png: img should be PIL Image. Got <class 'dict'>\n"
          ]
        },
        {
          "name": "stderr",
          "output_type": "stream",
          "text": [
            "\rEpoch 2/5:  67%|██████▋   | 87/130 [00:37<00:17,  2.48it/s]"
          ]
        },
        {
          "name": "stdout",
          "output_type": "stream",
          "text": [
            "Error loading /content/drive/MyDrive/archive (14)/Dataset_BUSI_with_GT/benign/benign (195).png: Unexpected type <class 'dict'>\n",
            "Error loading /content/drive/MyDrive/archive (14)/Dataset_BUSI_with_GT/malignant/malignant (73).png: Unexpected type <class 'dict'>\n",
            "Error loading /content/drive/MyDrive/archive (14)/Dataset_BUSI_with_GT/malignant/malignant (70).png: Unexpected type <class 'dict'>\n",
            "Error loading /content/drive/MyDrive/archive (14)/Dataset_BUSI_with_GT/benign/benign (1).png: Unexpected type <class 'dict'>\n"
          ]
        },
        {
          "name": "stderr",
          "output_type": "stream",
          "text": [
            "\rEpoch 2/5:  68%|██████▊   | 88/130 [00:37<00:16,  2.48it/s]"
          ]
        },
        {
          "name": "stdout",
          "output_type": "stream",
          "text": [
            "Error loading /content/drive/MyDrive/archive (14)/Dataset_BUSI_with_GT/benign/benign (123).png: img should be PIL Image. Got <class 'dict'>\n",
            "Error loading /content/drive/MyDrive/archive (14)/Dataset_BUSI_with_GT/benign/benign (355).png: Unexpected type <class 'dict'>\n",
            "Error loading /content/drive/MyDrive/archive (14)/Dataset_BUSI_with_GT/benign/benign (337).png: img should be PIL Image. Got <class 'dict'>\n",
            "Error loading /content/drive/MyDrive/archive (14)/Dataset_BUSI_with_GT/benign/benign (166).png: img should be PIL Image. Got <class 'dict'>\n"
          ]
        },
        {
          "name": "stderr",
          "output_type": "stream",
          "text": [
            "\rEpoch 2/5:  68%|██████▊   | 89/130 [00:37<00:16,  2.43it/s]"
          ]
        },
        {
          "name": "stdout",
          "output_type": "stream",
          "text": [
            "Error loading /content/drive/MyDrive/archive (14)/Dataset_BUSI_with_GT/malignant/malignant (107).png: Unexpected type <class 'dict'>\n",
            "Error loading /content/drive/MyDrive/archive (14)/Dataset_BUSI_with_GT/malignant/malignant (61).png: img should be PIL Image. Got <class 'dict'>\n",
            "Error loading /content/drive/MyDrive/archive (14)/Dataset_BUSI_with_GT/benign/benign (226).png: Unexpected type <class 'dict'>\n",
            "Error loading /content/drive/MyDrive/archive (14)/Dataset_BUSI_with_GT/malignant/malignant (128).png: img should be PIL Image. Got <class 'dict'>\n"
          ]
        },
        {
          "name": "stderr",
          "output_type": "stream",
          "text": [
            "\rEpoch 2/5:  69%|██████▉   | 90/130 [00:38<00:15,  2.50it/s]"
          ]
        },
        {
          "name": "stdout",
          "output_type": "stream",
          "text": [
            "Error loading /content/drive/MyDrive/archive (14)/Dataset_BUSI_with_GT/benign/benign (148).png: img should be PIL Image. Got <class 'dict'>\n",
            "Error loading /content/drive/MyDrive/archive (14)/Dataset_BUSI_with_GT/benign/benign (400).png: img should be PIL Image. Got <class 'dict'>\n",
            "Error loading /content/drive/MyDrive/archive (14)/Dataset_BUSI_with_GT/benign/benign (174).png: img should be PIL Image. Got <class 'dict'>\n",
            "Error loading /content/drive/MyDrive/archive (14)/Dataset_BUSI_with_GT/malignant/malignant (124).png: img should be PIL Image. Got <class 'dict'>\n"
          ]
        },
        {
          "name": "stderr",
          "output_type": "stream",
          "text": [
            "\rEpoch 2/5:  70%|███████   | 91/130 [00:38<00:15,  2.51it/s]"
          ]
        },
        {
          "name": "stdout",
          "output_type": "stream",
          "text": [
            "Error loading /content/drive/MyDrive/archive (14)/Dataset_BUSI_with_GT/malignant/malignant (99).png: Unexpected type <class 'dict'>\n",
            "Error loading /content/drive/MyDrive/archive (14)/Dataset_BUSI_with_GT/benign/benign (252).png: img should be PIL Image. Got <class 'dict'>\n",
            "Error loading /content/drive/MyDrive/archive (14)/Dataset_BUSI_with_GT/benign/benign (119).png: Unexpected type <class 'dict'>\n"
          ]
        },
        {
          "name": "stderr",
          "output_type": "stream",
          "text": [
            "\rEpoch 2/5:  71%|███████   | 92/130 [00:39<00:16,  2.34it/s]"
          ]
        },
        {
          "name": "stdout",
          "output_type": "stream",
          "text": [
            "Error loading /content/drive/MyDrive/archive (14)/Dataset_BUSI_with_GT/benign/benign (221).png: img should be PIL Image. Got <class 'dict'>\n",
            "Error loading /content/drive/MyDrive/archive (14)/Dataset_BUSI_with_GT/malignant/malignant (117).png: img should be PIL Image. Got <class 'dict'>\n",
            "Error loading /content/drive/MyDrive/archive (14)/Dataset_BUSI_with_GT/benign/benign (402).png: Unexpected type <class 'dict'>\n",
            "Error loading /content/drive/MyDrive/archive (14)/Dataset_BUSI_with_GT/benign/benign (27).png: img should be PIL Image. Got <class 'dict'>\n"
          ]
        },
        {
          "name": "stderr",
          "output_type": "stream",
          "text": [
            "\rEpoch 2/5:  72%|███████▏  | 93/130 [00:39<00:16,  2.23it/s]"
          ]
        },
        {
          "name": "stdout",
          "output_type": "stream",
          "text": [
            "Error loading /content/drive/MyDrive/archive (14)/Dataset_BUSI_with_GT/malignant/malignant (148).png: img should be PIL Image. Got <class 'dict'>\n",
            "Error loading /content/drive/MyDrive/archive (14)/Dataset_BUSI_with_GT/benign/benign (64).png: Unexpected type <class 'dict'>\n",
            "Error loading /content/drive/MyDrive/archive (14)/Dataset_BUSI_with_GT/benign/benign (394).png: Unexpected type <class 'dict'>\n",
            "Error loading /content/drive/MyDrive/archive (14)/Dataset_BUSI_with_GT/benign/benign (147).png: Unexpected type <class 'dict'>\n"
          ]
        },
        {
          "name": "stderr",
          "output_type": "stream",
          "text": [
            "\rEpoch 2/5:  72%|███████▏  | 94/130 [00:40<00:16,  2.17it/s]"
          ]
        },
        {
          "name": "stdout",
          "output_type": "stream",
          "text": [
            "Error loading /content/drive/MyDrive/archive (14)/Dataset_BUSI_with_GT/benign/benign (244).png: Unexpected type <class 'dict'>\n",
            "Error loading /content/drive/MyDrive/archive (14)/Dataset_BUSI_with_GT/benign/benign (333).png: Unexpected type <class 'dict'>\n",
            "Error loading /content/drive/MyDrive/archive (14)/Dataset_BUSI_with_GT/malignant/malignant (130).png: img should be PIL Image. Got <class 'dict'>\n",
            "Error loading /content/drive/MyDrive/archive (14)/Dataset_BUSI_with_GT/malignant/malignant (29).png: img should be PIL Image. Got <class 'dict'>\n",
            "Error loading /content/drive/MyDrive/archive (14)/Dataset_BUSI_with_GT/malignant/malignant (105).png: Unexpected type <class 'dict'>\n"
          ]
        },
        {
          "name": "stderr",
          "output_type": "stream",
          "text": [
            "\rEpoch 2/5:  73%|███████▎  | 95/130 [00:40<00:16,  2.11it/s]"
          ]
        },
        {
          "name": "stdout",
          "output_type": "stream",
          "text": [
            "Error loading /content/drive/MyDrive/archive (14)/Dataset_BUSI_with_GT/malignant/malignant (127).png: Unexpected type <class 'dict'>\n",
            "Error loading /content/drive/MyDrive/archive (14)/Dataset_BUSI_with_GT/benign/benign (164).png: Unexpected type <class 'dict'>\n",
            "Error loading /content/drive/MyDrive/archive (14)/Dataset_BUSI_with_GT/benign/benign (346).png: Unexpected type <class 'dict'>\n",
            "Error loading /content/drive/MyDrive/archive (14)/Dataset_BUSI_with_GT/benign/benign (4).png: Unexpected type <class 'dict'>\n"
          ]
        },
        {
          "name": "stderr",
          "output_type": "stream",
          "text": [
            "\rEpoch 2/5:  74%|███████▍  | 96/130 [00:41<00:15,  2.14it/s]"
          ]
        },
        {
          "name": "stdout",
          "output_type": "stream",
          "text": [
            "Error loading /content/drive/MyDrive/archive (14)/Dataset_BUSI_with_GT/benign/benign (296).png: img should be PIL Image. Got <class 'dict'>\n",
            "Error loading /content/drive/MyDrive/archive (14)/Dataset_BUSI_with_GT/malignant/malignant (138).png: Unexpected type <class 'dict'>\n",
            "Error loading /content/drive/MyDrive/archive (14)/Dataset_BUSI_with_GT/benign/benign (371).png: img should be PIL Image. Got <class 'dict'>\n"
          ]
        },
        {
          "name": "stderr",
          "output_type": "stream",
          "text": [
            "\rEpoch 2/5:  75%|███████▍  | 97/130 [00:41<00:15,  2.10it/s]"
          ]
        },
        {
          "name": "stdout",
          "output_type": "stream",
          "text": [
            "Error loading /content/drive/MyDrive/archive (14)/Dataset_BUSI_with_GT/malignant/malignant (98).png: Unexpected type <class 'dict'>\n",
            "Error loading /content/drive/MyDrive/archive (14)/Dataset_BUSI_with_GT/benign/benign (34).png: Unexpected type <class 'dict'>\n",
            "Error loading /content/drive/MyDrive/archive (14)/Dataset_BUSI_with_GT/benign/benign (125).png: img should be PIL Image. Got <class 'dict'>\n",
            "Error loading /content/drive/MyDrive/archive (14)/Dataset_BUSI_with_GT/benign/benign (376).png: img should be PIL Image. Got <class 'dict'>\n"
          ]
        },
        {
          "name": "stderr",
          "output_type": "stream",
          "text": [
            "\rEpoch 2/5:  75%|███████▌  | 98/130 [00:42<00:15,  2.02it/s]"
          ]
        },
        {
          "name": "stdout",
          "output_type": "stream",
          "text": [
            "Error loading /content/drive/MyDrive/archive (14)/Dataset_BUSI_with_GT/benign/benign (385).png: Unexpected type <class 'dict'>\n",
            "Error loading /content/drive/MyDrive/archive (14)/Dataset_BUSI_with_GT/benign/benign (91).png: Unexpected type <class 'dict'>\n",
            "Error loading /content/drive/MyDrive/archive (14)/Dataset_BUSI_with_GT/benign/benign (93).png: img should be PIL Image. Got <class 'dict'>\n",
            "Error loading /content/drive/MyDrive/archive (14)/Dataset_BUSI_with_GT/benign/benign (281).png: Unexpected type <class 'dict'>\n",
            "Error loading /content/drive/MyDrive/archive (14)/Dataset_BUSI_with_GT/benign/benign (198).png: img should be PIL Image. Got <class 'dict'>\n"
          ]
        },
        {
          "name": "stderr",
          "output_type": "stream",
          "text": [
            "\rEpoch 2/5:  76%|███████▌  | 99/130 [00:42<00:14,  2.09it/s]"
          ]
        },
        {
          "name": "stdout",
          "output_type": "stream",
          "text": [
            "Error loading /content/drive/MyDrive/archive (14)/Dataset_BUSI_with_GT/benign/benign (32).png: Unexpected type <class 'dict'>\n",
            "Error loading /content/drive/MyDrive/archive (14)/Dataset_BUSI_with_GT/malignant/malignant (8).png: Unexpected type <class 'dict'>\n",
            "Error loading /content/drive/MyDrive/archive (14)/Dataset_BUSI_with_GT/malignant/malignant (58).png: Unexpected type <class 'dict'>\n",
            "Error loading /content/drive/MyDrive/archive (14)/Dataset_BUSI_with_GT/malignant/malignant (184).png: Unexpected type <class 'dict'>\n"
          ]
        },
        {
          "name": "stderr",
          "output_type": "stream",
          "text": [
            "\rEpoch 2/5:  77%|███████▋  | 100/130 [00:42<00:13,  2.20it/s]"
          ]
        },
        {
          "name": "stdout",
          "output_type": "stream",
          "text": [
            "Error loading /content/drive/MyDrive/archive (14)/Dataset_BUSI_with_GT/benign/benign (86).png: Unexpected type <class 'dict'>\n",
            "Error loading /content/drive/MyDrive/archive (14)/Dataset_BUSI_with_GT/benign/benign (121).png: Unexpected type <class 'dict'>\n",
            "Error loading /content/drive/MyDrive/archive (14)/Dataset_BUSI_with_GT/benign/benign (137).png: Unexpected type <class 'dict'>\n",
            "Error loading /content/drive/MyDrive/archive (14)/Dataset_BUSI_with_GT/benign/benign (227).png: Unexpected type <class 'dict'>\n"
          ]
        },
        {
          "name": "stderr",
          "output_type": "stream",
          "text": [
            "\rEpoch 2/5:  78%|███████▊  | 101/130 [00:43<00:13,  2.23it/s]"
          ]
        },
        {
          "name": "stdout",
          "output_type": "stream",
          "text": [
            "Error loading /content/drive/MyDrive/archive (14)/Dataset_BUSI_with_GT/malignant/malignant (102).png: Unexpected type <class 'dict'>\n",
            "Error loading /content/drive/MyDrive/archive (14)/Dataset_BUSI_with_GT/malignant/malignant (44).png: img should be PIL Image. Got <class 'dict'>\n",
            "Error loading /content/drive/MyDrive/archive (14)/Dataset_BUSI_with_GT/benign/benign (268).png: img should be PIL Image. Got <class 'dict'>\n",
            "Error loading /content/drive/MyDrive/archive (14)/Dataset_BUSI_with_GT/benign/benign (200).png: img should be PIL Image. Got <class 'dict'>\n"
          ]
        },
        {
          "name": "stderr",
          "output_type": "stream",
          "text": [
            "\rEpoch 2/5:  78%|███████▊  | 102/130 [00:43<00:12,  2.29it/s]"
          ]
        },
        {
          "name": "stdout",
          "output_type": "stream",
          "text": [
            "Error loading /content/drive/MyDrive/archive (14)/Dataset_BUSI_with_GT/benign/benign (405).png: Unexpected type <class 'dict'>\n",
            "Error loading /content/drive/MyDrive/archive (14)/Dataset_BUSI_with_GT/malignant/malignant (151).png: img should be PIL Image. Got <class 'dict'>\n",
            "Error loading /content/drive/MyDrive/archive (14)/Dataset_BUSI_with_GT/benign/benign (135).png: img should be PIL Image. Got <class 'dict'>\n",
            "Error loading /content/drive/MyDrive/archive (14)/Dataset_BUSI_with_GT/malignant/malignant (53).png: Unexpected type <class 'dict'>\n"
          ]
        },
        {
          "name": "stderr",
          "output_type": "stream",
          "text": [
            "\rEpoch 2/5:  79%|███████▉  | 103/130 [00:44<00:11,  2.33it/s]"
          ]
        },
        {
          "name": "stdout",
          "output_type": "stream",
          "text": [
            "Error loading /content/drive/MyDrive/archive (14)/Dataset_BUSI_with_GT/benign/benign (366).png: Unexpected type <class 'dict'>\n",
            "Error loading /content/drive/MyDrive/archive (14)/Dataset_BUSI_with_GT/malignant/malignant (135).png: Unexpected type <class 'dict'>\n",
            "Error loading /content/drive/MyDrive/archive (14)/Dataset_BUSI_with_GT/benign/benign (222).png: Unexpected type <class 'dict'>\n",
            "Error loading /content/drive/MyDrive/archive (14)/Dataset_BUSI_with_GT/malignant/malignant (91).png: img should be PIL Image. Got <class 'dict'>\n"
          ]
        },
        {
          "name": "stderr",
          "output_type": "stream",
          "text": [
            "\rEpoch 2/5:  80%|████████  | 104/130 [00:44<00:10,  2.37it/s]"
          ]
        },
        {
          "name": "stdout",
          "output_type": "stream",
          "text": [
            "Error loading /content/drive/MyDrive/archive (14)/Dataset_BUSI_with_GT/benign/benign (406).png: img should be PIL Image. Got <class 'dict'>\n",
            "Error loading /content/drive/MyDrive/archive (14)/Dataset_BUSI_with_GT/benign/benign (173).png: img should be PIL Image. Got <class 'dict'>\n",
            "Error loading /content/drive/MyDrive/archive (14)/Dataset_BUSI_with_GT/malignant/malignant (33).png: Unexpected type <class 'dict'>\n",
            "Error loading /content/drive/MyDrive/archive (14)/Dataset_BUSI_with_GT/malignant/malignant (207).png: img should be PIL Image. Got <class 'dict'>\n"
          ]
        },
        {
          "name": "stderr",
          "output_type": "stream",
          "text": [
            "\rEpoch 2/5:  81%|████████  | 105/130 [00:44<00:10,  2.40it/s]"
          ]
        },
        {
          "name": "stdout",
          "output_type": "stream",
          "text": [
            "Error loading /content/drive/MyDrive/archive (14)/Dataset_BUSI_with_GT/benign/benign (417).png: img should be PIL Image. Got <class 'dict'>\n",
            "Error loading /content/drive/MyDrive/archive (14)/Dataset_BUSI_with_GT/benign/benign (401).png: Unexpected type <class 'dict'>\n",
            "Error loading /content/drive/MyDrive/archive (14)/Dataset_BUSI_with_GT/benign/benign (246).png: img should be PIL Image. Got <class 'dict'>\n",
            "Error loading /content/drive/MyDrive/archive (14)/Dataset_BUSI_with_GT/benign/benign (411).png: Unexpected type <class 'dict'>\n"
          ]
        },
        {
          "name": "stderr",
          "output_type": "stream",
          "text": [
            "\rEpoch 2/5:  82%|████████▏ | 106/130 [00:45<00:09,  2.46it/s]"
          ]
        },
        {
          "name": "stdout",
          "output_type": "stream",
          "text": [
            "Error loading /content/drive/MyDrive/archive (14)/Dataset_BUSI_with_GT/benign/benign (310).png: Unexpected type <class 'dict'>\n",
            "Error loading /content/drive/MyDrive/archive (14)/Dataset_BUSI_with_GT/benign/benign (41).png: Unexpected type <class 'dict'>\n",
            "Error loading /content/drive/MyDrive/archive (14)/Dataset_BUSI_with_GT/malignant/malignant (49).png: Unexpected type <class 'dict'>\n",
            "Error loading /content/drive/MyDrive/archive (14)/Dataset_BUSI_with_GT/benign/benign (309).png: Unexpected type <class 'dict'>\n"
          ]
        },
        {
          "name": "stderr",
          "output_type": "stream",
          "text": [
            "\rEpoch 2/5:  82%|████████▏ | 107/130 [00:45<00:09,  2.49it/s]"
          ]
        },
        {
          "name": "stdout",
          "output_type": "stream",
          "text": [
            "Error loading /content/drive/MyDrive/archive (14)/Dataset_BUSI_with_GT/benign/benign (102).png: img should be PIL Image. Got <class 'dict'>\n",
            "Error loading /content/drive/MyDrive/archive (14)/Dataset_BUSI_with_GT/benign/benign (270).png: img should be PIL Image. Got <class 'dict'>\n",
            "Error loading /content/drive/MyDrive/archive (14)/Dataset_BUSI_with_GT/benign/benign (210).png: Unexpected type <class 'dict'>\n",
            "Error loading /content/drive/MyDrive/archive (14)/Dataset_BUSI_with_GT/benign/benign (336).png: img should be PIL Image. Got <class 'dict'>\n"
          ]
        },
        {
          "name": "stderr",
          "output_type": "stream",
          "text": [
            "\rEpoch 2/5:  83%|████████▎ | 108/130 [00:46<00:08,  2.50it/s]"
          ]
        },
        {
          "name": "stdout",
          "output_type": "stream",
          "text": [
            "Error loading /content/drive/MyDrive/archive (14)/Dataset_BUSI_with_GT/benign/benign (17).png: img should be PIL Image. Got <class 'dict'>\n",
            "Error loading /content/drive/MyDrive/archive (14)/Dataset_BUSI_with_GT/benign/benign (30).png: img should be PIL Image. Got <class 'dict'>\n",
            "Error loading /content/drive/MyDrive/archive (14)/Dataset_BUSI_with_GT/malignant/malignant (120).png: Unexpected type <class 'dict'>\n",
            "Error loading /content/drive/MyDrive/archive (14)/Dataset_BUSI_with_GT/benign/benign (231).png: img should be PIL Image. Got <class 'dict'>\n"
          ]
        },
        {
          "name": "stderr",
          "output_type": "stream",
          "text": [
            "\rEpoch 2/5:  84%|████████▍ | 109/130 [00:46<00:08,  2.56it/s]"
          ]
        },
        {
          "name": "stdout",
          "output_type": "stream",
          "text": [
            "Error loading /content/drive/MyDrive/archive (14)/Dataset_BUSI_with_GT/benign/benign (122).png: img should be PIL Image. Got <class 'dict'>\n",
            "Error loading /content/drive/MyDrive/archive (14)/Dataset_BUSI_with_GT/malignant/malignant (152).png: img should be PIL Image. Got <class 'dict'>\n",
            "Error loading /content/drive/MyDrive/archive (14)/Dataset_BUSI_with_GT/benign/benign (388).png: img should be PIL Image. Got <class 'dict'>\n",
            "Error loading /content/drive/MyDrive/archive (14)/Dataset_BUSI_with_GT/malignant/malignant (132).png: img should be PIL Image. Got <class 'dict'>\n"
          ]
        },
        {
          "name": "stderr",
          "output_type": "stream",
          "text": [
            "\rEpoch 2/5:  85%|████████▍ | 110/130 [00:46<00:08,  2.45it/s]"
          ]
        },
        {
          "name": "stdout",
          "output_type": "stream",
          "text": [
            "Error loading /content/drive/MyDrive/archive (14)/Dataset_BUSI_with_GT/benign/benign (426).png: Unexpected type <class 'dict'>\n",
            "Error loading /content/drive/MyDrive/archive (14)/Dataset_BUSI_with_GT/benign/benign (143).png: Unexpected type <class 'dict'>\n",
            "Error loading /content/drive/MyDrive/archive (14)/Dataset_BUSI_with_GT/benign/benign (264).png: img should be PIL Image. Got <class 'dict'>\n",
            "Error loading /content/drive/MyDrive/archive (14)/Dataset_BUSI_with_GT/malignant/malignant (170).png: Unexpected type <class 'dict'>\n"
          ]
        },
        {
          "name": "stderr",
          "output_type": "stream",
          "text": [
            "\rEpoch 2/5:  85%|████████▌ | 111/130 [00:47<00:07,  2.51it/s]"
          ]
        },
        {
          "name": "stdout",
          "output_type": "stream",
          "text": [
            "Error loading /content/drive/MyDrive/archive (14)/Dataset_BUSI_with_GT/malignant/malignant (129).png: Unexpected type <class 'dict'>\n",
            "Error loading /content/drive/MyDrive/archive (14)/Dataset_BUSI_with_GT/malignant/malignant (28).png: img should be PIL Image. Got <class 'dict'>\n",
            "Error loading /content/drive/MyDrive/archive (14)/Dataset_BUSI_with_GT/benign/benign (188).png: Unexpected type <class 'dict'>\n",
            "Error loading /content/drive/MyDrive/archive (14)/Dataset_BUSI_with_GT/malignant/malignant (156).png: img should be PIL Image. Got <class 'dict'>\n"
          ]
        },
        {
          "name": "stderr",
          "output_type": "stream",
          "text": [
            "\rEpoch 2/5:  86%|████████▌ | 112/130 [00:47<00:07,  2.52it/s]"
          ]
        },
        {
          "name": "stdout",
          "output_type": "stream",
          "text": [
            "Error loading /content/drive/MyDrive/archive (14)/Dataset_BUSI_with_GT/benign/benign (77).png: img should be PIL Image. Got <class 'dict'>\n",
            "Error loading /content/drive/MyDrive/archive (14)/Dataset_BUSI_with_GT/benign/benign (191).png: Unexpected type <class 'dict'>\n",
            "Error loading /content/drive/MyDrive/archive (14)/Dataset_BUSI_with_GT/benign/benign (415).png: Unexpected type <class 'dict'>\n"
          ]
        },
        {
          "name": "stderr",
          "output_type": "stream",
          "text": [
            "\rEpoch 2/5:  87%|████████▋ | 113/130 [00:48<00:07,  2.38it/s]"
          ]
        },
        {
          "name": "stdout",
          "output_type": "stream",
          "text": [
            "Error loading /content/drive/MyDrive/archive (14)/Dataset_BUSI_with_GT/benign/benign (120).png: Unexpected type <class 'dict'>\n",
            "Error loading /content/drive/MyDrive/archive (14)/Dataset_BUSI_with_GT/benign/benign (419).png: Unexpected type <class 'dict'>\n",
            "Error loading /content/drive/MyDrive/archive (14)/Dataset_BUSI_with_GT/malignant/malignant (163).png: img should be PIL Image. Got <class 'dict'>\n",
            "Error loading /content/drive/MyDrive/archive (14)/Dataset_BUSI_with_GT/benign/benign (126).png: Unexpected type <class 'dict'>\n",
            "Error loading /content/drive/MyDrive/archive (14)/Dataset_BUSI_with_GT/benign/benign (243).png: Unexpected type <class 'dict'>\n"
          ]
        },
        {
          "name": "stderr",
          "output_type": "stream",
          "text": [
            "\rEpoch 2/5:  88%|████████▊ | 114/130 [00:48<00:06,  2.36it/s]"
          ]
        },
        {
          "name": "stdout",
          "output_type": "stream",
          "text": [
            "Error loading /content/drive/MyDrive/archive (14)/Dataset_BUSI_with_GT/benign/benign (320).png: Unexpected type <class 'dict'>\n",
            "Error loading /content/drive/MyDrive/archive (14)/Dataset_BUSI_with_GT/benign/benign (101).png: img should be PIL Image. Got <class 'dict'>\n",
            "Error loading /content/drive/MyDrive/archive (14)/Dataset_BUSI_with_GT/benign/benign (139).png: Unexpected type <class 'dict'>\n",
            "Error loading /content/drive/MyDrive/archive (14)/Dataset_BUSI_with_GT/benign/benign (434).png: img should be PIL Image. Got <class 'dict'>\n"
          ]
        },
        {
          "name": "stderr",
          "output_type": "stream",
          "text": [
            "\rEpoch 2/5:  88%|████████▊ | 115/130 [00:49<00:06,  2.42it/s]"
          ]
        },
        {
          "name": "stdout",
          "output_type": "stream",
          "text": [
            "Error loading /content/drive/MyDrive/archive (14)/Dataset_BUSI_with_GT/benign/benign (16).png: Unexpected type <class 'dict'>\n",
            "Error loading /content/drive/MyDrive/archive (14)/Dataset_BUSI_with_GT/malignant/malignant (112).png: img should be PIL Image. Got <class 'dict'>\n",
            "Error loading /content/drive/MyDrive/archive (14)/Dataset_BUSI_with_GT/benign/benign (283).png: img should be PIL Image. Got <class 'dict'>\n",
            "Error loading /content/drive/MyDrive/archive (14)/Dataset_BUSI_with_GT/benign/benign (96).png: Unexpected type <class 'dict'>\n"
          ]
        },
        {
          "name": "stderr",
          "output_type": "stream",
          "text": [
            "\rEpoch 2/5:  89%|████████▉ | 116/130 [00:49<00:05,  2.43it/s]"
          ]
        },
        {
          "name": "stdout",
          "output_type": "stream",
          "text": [
            "Error loading /content/drive/MyDrive/archive (14)/Dataset_BUSI_with_GT/benign/benign (433).png: img should be PIL Image. Got <class 'dict'>\n",
            "Error loading /content/drive/MyDrive/archive (14)/Dataset_BUSI_with_GT/benign/benign (314).png: img should be PIL Image. Got <class 'dict'>\n",
            "Error loading /content/drive/MyDrive/archive (14)/Dataset_BUSI_with_GT/benign/benign (48).png: Unexpected type <class 'dict'>\n",
            "Error loading /content/drive/MyDrive/archive (14)/Dataset_BUSI_with_GT/benign/benign (110).png: Unexpected type <class 'dict'>\n"
          ]
        },
        {
          "name": "stderr",
          "output_type": "stream",
          "text": [
            "\rEpoch 2/5:  90%|█████████ | 117/130 [00:49<00:05,  2.46it/s]"
          ]
        },
        {
          "name": "stdout",
          "output_type": "stream",
          "text": [
            "Error loading /content/drive/MyDrive/archive (14)/Dataset_BUSI_with_GT/benign/benign (436).png: Unexpected type <class 'dict'>\n",
            "Error loading /content/drive/MyDrive/archive (14)/Dataset_BUSI_with_GT/benign/benign (363).png: img should be PIL Image. Got <class 'dict'>\n",
            "Error loading /content/drive/MyDrive/archive (14)/Dataset_BUSI_with_GT/benign/benign (416).png: img should be PIL Image. Got <class 'dict'>\n",
            "Error loading /content/drive/MyDrive/archive (14)/Dataset_BUSI_with_GT/benign/benign (248).png: img should be PIL Image. Got <class 'dict'>\n"
          ]
        },
        {
          "name": "stderr",
          "output_type": "stream",
          "text": [
            "\rEpoch 2/5:  91%|█████████ | 118/130 [00:50<00:04,  2.49it/s]"
          ]
        },
        {
          "name": "stdout",
          "output_type": "stream",
          "text": [
            "Error loading /content/drive/MyDrive/archive (14)/Dataset_BUSI_with_GT/benign/benign (392).png: Unexpected type <class 'dict'>\n",
            "Error loading /content/drive/MyDrive/archive (14)/Dataset_BUSI_with_GT/benign/benign (33).png: Unexpected type <class 'dict'>\n",
            "Error loading /content/drive/MyDrive/archive (14)/Dataset_BUSI_with_GT/benign/benign (69).png: Unexpected type <class 'dict'>\n",
            "Error loading /content/drive/MyDrive/archive (14)/Dataset_BUSI_with_GT/benign/benign (7).png: Unexpected type <class 'dict'>\n"
          ]
        },
        {
          "name": "stderr",
          "output_type": "stream",
          "text": [
            "\rEpoch 2/5:  92%|█████████▏| 119/130 [00:50<00:04,  2.43it/s]"
          ]
        },
        {
          "name": "stdout",
          "output_type": "stream",
          "text": [
            "Error loading /content/drive/MyDrive/archive (14)/Dataset_BUSI_with_GT/benign/benign (88).png: img should be PIL Image. Got <class 'dict'>\n",
            "Error loading /content/drive/MyDrive/archive (14)/Dataset_BUSI_with_GT/malignant/malignant (188).png: img should be PIL Image. Got <class 'dict'>\n",
            "Error loading /content/drive/MyDrive/archive (14)/Dataset_BUSI_with_GT/benign/benign (282).png: Unexpected type <class 'dict'>\n",
            "Error loading /content/drive/MyDrive/archive (14)/Dataset_BUSI_with_GT/benign/benign (340).png: img should be PIL Image. Got <class 'dict'>\n"
          ]
        },
        {
          "name": "stderr",
          "output_type": "stream",
          "text": [
            "\rEpoch 2/5:  92%|█████████▏| 120/130 [00:51<00:04,  2.41it/s]"
          ]
        },
        {
          "name": "stdout",
          "output_type": "stream",
          "text": [
            "Error loading /content/drive/MyDrive/archive (14)/Dataset_BUSI_with_GT/malignant/malignant (161).png: Unexpected type <class 'dict'>\n",
            "Error loading /content/drive/MyDrive/archive (14)/Dataset_BUSI_with_GT/benign/benign (240).png: Unexpected type <class 'dict'>\n",
            "Error loading /content/drive/MyDrive/archive (14)/Dataset_BUSI_with_GT/benign/benign (360).png: Unexpected type <class 'dict'>\n",
            "Error loading /content/drive/MyDrive/archive (14)/Dataset_BUSI_with_GT/benign/benign (141).png: Unexpected type <class 'dict'>\n"
          ]
        },
        {
          "name": "stderr",
          "output_type": "stream",
          "text": [
            "\rEpoch 2/5:  93%|█████████▎| 121/130 [00:51<00:03,  2.40it/s]"
          ]
        },
        {
          "name": "stdout",
          "output_type": "stream",
          "text": [
            "Error loading /content/drive/MyDrive/archive (14)/Dataset_BUSI_with_GT/malignant/malignant (37).png: Unexpected type <class 'dict'>\n",
            "Error loading /content/drive/MyDrive/archive (14)/Dataset_BUSI_with_GT/malignant/malignant (64).png: Unexpected type <class 'dict'>\n",
            "Error loading /content/drive/MyDrive/archive (14)/Dataset_BUSI_with_GT/malignant/malignant (101).png: img should be PIL Image. Got <class 'dict'>\n",
            "Error loading /content/drive/MyDrive/archive (14)/Dataset_BUSI_with_GT/benign/benign (115).png: Unexpected type <class 'dict'>\n"
          ]
        },
        {
          "name": "stderr",
          "output_type": "stream",
          "text": [
            "\rEpoch 2/5:  94%|█████████▍| 122/130 [00:51<00:03,  2.40it/s]"
          ]
        },
        {
          "name": "stdout",
          "output_type": "stream",
          "text": [
            "Error loading /content/drive/MyDrive/archive (14)/Dataset_BUSI_with_GT/benign/benign (322).png: Unexpected type <class 'dict'>\n",
            "Error loading /content/drive/MyDrive/archive (14)/Dataset_BUSI_with_GT/benign/benign (60).png: Unexpected type <class 'dict'>\n",
            "Error loading /content/drive/MyDrive/archive (14)/Dataset_BUSI_with_GT/malignant/malignant (196).png: img should be PIL Image. Got <class 'dict'>\n"
          ]
        },
        {
          "name": "stderr",
          "output_type": "stream",
          "text": [
            "\rEpoch 2/5:  95%|█████████▍| 123/130 [00:52<00:02,  2.34it/s]"
          ]
        },
        {
          "name": "stdout",
          "output_type": "stream",
          "text": [
            "Error loading /content/drive/MyDrive/archive (14)/Dataset_BUSI_with_GT/malignant/malignant (95).png: Unexpected type <class 'dict'>\n",
            "Error loading /content/drive/MyDrive/archive (14)/Dataset_BUSI_with_GT/benign/benign (259).png: img should be PIL Image. Got <class 'dict'>\n",
            "Error loading /content/drive/MyDrive/archive (14)/Dataset_BUSI_with_GT/malignant/malignant (187).png: Unexpected type <class 'dict'>\n",
            "Error loading /content/drive/MyDrive/archive (14)/Dataset_BUSI_with_GT/benign/benign (194).png: Unexpected type <class 'dict'>\n"
          ]
        },
        {
          "name": "stderr",
          "output_type": "stream",
          "text": [
            "\rEpoch 2/5:  95%|█████████▌| 124/130 [00:52<00:02,  2.18it/s]"
          ]
        },
        {
          "name": "stdout",
          "output_type": "stream",
          "text": [
            "Error loading /content/drive/MyDrive/archive (14)/Dataset_BUSI_with_GT/benign/benign (330).png: Unexpected type <class 'dict'>\n",
            "Error loading /content/drive/MyDrive/archive (14)/Dataset_BUSI_with_GT/malignant/malignant (54).png: Unexpected type <class 'dict'>\n",
            "Error loading /content/drive/MyDrive/archive (14)/Dataset_BUSI_with_GT/malignant/malignant (55).png: img should be PIL Image. Got <class 'dict'>\n",
            "Error loading /content/drive/MyDrive/archive (14)/Dataset_BUSI_with_GT/malignant/malignant (36).png: Unexpected type <class 'dict'>\n"
          ]
        },
        {
          "name": "stderr",
          "output_type": "stream",
          "text": [
            "\rEpoch 2/5:  96%|█████████▌| 125/130 [00:53<00:02,  2.00it/s]"
          ]
        },
        {
          "name": "stdout",
          "output_type": "stream",
          "text": [
            "Error loading /content/drive/MyDrive/archive (14)/Dataset_BUSI_with_GT/benign/benign (10).png: Unexpected type <class 'dict'>\n",
            "Error loading /content/drive/MyDrive/archive (14)/Dataset_BUSI_with_GT/malignant/malignant (179).png: Unexpected type <class 'dict'>\n",
            "Error loading /content/drive/MyDrive/archive (14)/Dataset_BUSI_with_GT/benign/benign (291).png: img should be PIL Image. Got <class 'dict'>\n",
            "Error loading /content/drive/MyDrive/archive (14)/Dataset_BUSI_with_GT/benign/benign (429).png: Unexpected type <class 'dict'>\n"
          ]
        },
        {
          "name": "stderr",
          "output_type": "stream",
          "text": [
            "\rEpoch 2/5:  97%|█████████▋| 126/130 [00:53<00:01,  2.03it/s]"
          ]
        },
        {
          "name": "stdout",
          "output_type": "stream",
          "text": [
            "Error loading /content/drive/MyDrive/archive (14)/Dataset_BUSI_with_GT/benign/benign (377).png: img should be PIL Image. Got <class 'dict'>\n",
            "Error loading /content/drive/MyDrive/archive (14)/Dataset_BUSI_with_GT/malignant/malignant (43).png: Unexpected type <class 'dict'>\n",
            "Error loading /content/drive/MyDrive/archive (14)/Dataset_BUSI_with_GT/benign/benign (220).png: img should be PIL Image. Got <class 'dict'>\n",
            "Error loading /content/drive/MyDrive/archive (14)/Dataset_BUSI_with_GT/benign/benign (297).png: Unexpected type <class 'dict'>\n",
            "Error loading /content/drive/MyDrive/archive (14)/Dataset_BUSI_with_GT/benign/benign (36).png: Unexpected type <class 'dict'>\n"
          ]
        },
        {
          "name": "stderr",
          "output_type": "stream",
          "text": [
            "\rEpoch 2/5:  98%|█████████▊| 127/130 [00:54<00:01,  2.09it/s]"
          ]
        },
        {
          "name": "stdout",
          "output_type": "stream",
          "text": [
            "Error loading /content/drive/MyDrive/archive (14)/Dataset_BUSI_with_GT/malignant/malignant (7).png: img should be PIL Image. Got <class 'dict'>\n",
            "Error loading /content/drive/MyDrive/archive (14)/Dataset_BUSI_with_GT/malignant/malignant (76).png: img should be PIL Image. Got <class 'dict'>\n",
            "Error loading /content/drive/MyDrive/archive (14)/Dataset_BUSI_with_GT/malignant/malignant (109).png: Unexpected type <class 'dict'>\n"
          ]
        },
        {
          "name": "stderr",
          "output_type": "stream",
          "text": [
            "\rEpoch 2/5:  98%|█████████▊| 128/130 [00:54<00:00,  2.06it/s]"
          ]
        },
        {
          "name": "stdout",
          "output_type": "stream",
          "text": [
            "Error loading /content/drive/MyDrive/archive (14)/Dataset_BUSI_with_GT/benign/benign (382).png: Unexpected type <class 'dict'>\n",
            "Error loading /content/drive/MyDrive/archive (14)/Dataset_BUSI_with_GT/malignant/malignant (25).png: Unexpected type <class 'dict'>\n",
            "Error loading /content/drive/MyDrive/archive (14)/Dataset_BUSI_with_GT/benign/benign (266).png: Unexpected type <class 'dict'>\n",
            "Error loading /content/drive/MyDrive/archive (14)/Dataset_BUSI_with_GT/benign/benign (66).png: img should be PIL Image. Got <class 'dict'>\n",
            "Error loading /content/drive/MyDrive/archive (14)/Dataset_BUSI_with_GT/benign/benign (199).png: img should be PIL Image. Got <class 'dict'>\n"
          ]
        },
        {
          "name": "stderr",
          "output_type": "stream",
          "text": [
            "Epoch 2/5: 100%|██████████| 130/130 [00:55<00:00,  2.34it/s]\n"
          ]
        },
        {
          "name": "stdout",
          "output_type": "stream",
          "text": [
            "Error loading /content/drive/MyDrive/archive (14)/Dataset_BUSI_with_GT/benign/benign (99).png: img should be PIL Image. Got <class 'dict'>\n"
          ]
        },
        {
          "name": "stderr",
          "output_type": "stream",
          "text": [
            "\rEvaluating:   0%|          | 0/33 [00:00<?, ?it/s]"
          ]
        },
        {
          "name": "stdout",
          "output_type": "stream",
          "text": [
            "Error loading /content/drive/MyDrive/archive (14)/Dataset_BUSI_with_GT/benign/benign (22).png: img should be PIL Image. Got <class 'dict'>\n",
            "Error loading /content/drive/MyDrive/archive (14)/Dataset_BUSI_with_GT/benign/benign (361).png: img should be PIL Image. Got <class 'dict'>\n",
            "Error loading /content/drive/MyDrive/archive (14)/Dataset_BUSI_with_GT/malignant/malignant (192).png: Unexpected type <class 'dict'>\n",
            "Error loading /content/drive/MyDrive/archive (14)/Dataset_BUSI_with_GT/malignant/malignant (181).png: img should be PIL Image. Got <class 'dict'>\n"
          ]
        },
        {
          "name": "stderr",
          "output_type": "stream",
          "text": [
            "\rEvaluating:   3%|▎         | 1/33 [00:00<00:09,  3.30it/s]"
          ]
        },
        {
          "name": "stdout",
          "output_type": "stream",
          "text": [
            "Error loading /content/drive/MyDrive/archive (14)/Dataset_BUSI_with_GT/malignant/malignant (41).png: img should be PIL Image. Got <class 'dict'>\n",
            "Error loading /content/drive/MyDrive/archive (14)/Dataset_BUSI_with_GT/benign/benign (349).png: img should be PIL Image. Got <class 'dict'>\n",
            "Error loading /content/drive/MyDrive/archive (14)/Dataset_BUSI_with_GT/benign/benign (12).png: img should be PIL Image. Got <class 'dict'>\n",
            "Error loading /content/drive/MyDrive/archive (14)/Dataset_BUSI_with_GT/benign/benign (339).png: img should be PIL Image. Got <class 'dict'>\n"
          ]
        },
        {
          "name": "stderr",
          "output_type": "stream",
          "text": [
            "\rEvaluating:   6%|▌         | 2/33 [00:00<00:09,  3.18it/s]"
          ]
        },
        {
          "name": "stdout",
          "output_type": "stream",
          "text": [
            "Error loading /content/drive/MyDrive/archive (14)/Dataset_BUSI_with_GT/benign/benign (317).png: img should be PIL Image. Got <class 'dict'>\n",
            "Error loading /content/drive/MyDrive/archive (14)/Dataset_BUSI_with_GT/malignant/malignant (34).png: img should be PIL Image. Got <class 'dict'>\n",
            "Error loading /content/drive/MyDrive/archive (14)/Dataset_BUSI_with_GT/malignant/malignant (9).png: img should be PIL Image. Got <class 'dict'>\n",
            "Error loading /content/drive/MyDrive/archive (14)/Dataset_BUSI_with_GT/benign/benign (6).png: img should be PIL Image. Got <class 'dict'>\n"
          ]
        },
        {
          "name": "stderr",
          "output_type": "stream",
          "text": [
            "\rEvaluating:   9%|▉         | 3/33 [00:00<00:09,  3.09it/s]"
          ]
        },
        {
          "name": "stdout",
          "output_type": "stream",
          "text": [
            "Error loading /content/drive/MyDrive/archive (14)/Dataset_BUSI_with_GT/malignant/malignant (27).png: img should be PIL Image. Got <class 'dict'>\n",
            "Error loading /content/drive/MyDrive/archive (14)/Dataset_BUSI_with_GT/benign/benign (216).png: img should be PIL Image. Got <class 'dict'>\n",
            "Error loading /content/drive/MyDrive/archive (14)/Dataset_BUSI_with_GT/malignant/malignant (173).png: img should be PIL Image. Got <class 'dict'>\n",
            "Error loading /content/drive/MyDrive/archive (14)/Dataset_BUSI_with_GT/benign/benign (35).png: img should be PIL Image. Got <class 'dict'>\n"
          ]
        },
        {
          "name": "stderr",
          "output_type": "stream",
          "text": [
            "\rEvaluating:  12%|█▏        | 4/33 [00:01<00:09,  3.18it/s]"
          ]
        },
        {
          "name": "stdout",
          "output_type": "stream",
          "text": [
            "Error loading /content/drive/MyDrive/archive (14)/Dataset_BUSI_with_GT/benign/benign (103).png: Unexpected type <class 'dict'>\n",
            "Error loading /content/drive/MyDrive/archive (14)/Dataset_BUSI_with_GT/malignant/malignant (47).png: Unexpected type <class 'dict'>\n",
            "Error loading /content/drive/MyDrive/archive (14)/Dataset_BUSI_with_GT/benign/benign (186).png: img should be PIL Image. Got <class 'dict'>\n",
            "Error loading /content/drive/MyDrive/archive (14)/Dataset_BUSI_with_GT/benign/benign (145).png: img should be PIL Image. Got <class 'dict'>\n"
          ]
        },
        {
          "name": "stderr",
          "output_type": "stream",
          "text": [
            "\rEvaluating:  15%|█▌        | 5/33 [00:01<00:09,  2.99it/s]"
          ]
        },
        {
          "name": "stdout",
          "output_type": "stream",
          "text": [
            "Error loading /content/drive/MyDrive/archive (14)/Dataset_BUSI_with_GT/benign/benign (380).png: img should be PIL Image. Got <class 'dict'>\n",
            "Error loading /content/drive/MyDrive/archive (14)/Dataset_BUSI_with_GT/benign/benign (130).png: img should be PIL Image. Got <class 'dict'>\n",
            "Error loading /content/drive/MyDrive/archive (14)/Dataset_BUSI_with_GT/benign/benign (73).png: Unexpected type <class 'dict'>\n",
            "Error loading /content/drive/MyDrive/archive (14)/Dataset_BUSI_with_GT/benign/benign (201).png: img should be PIL Image. Got <class 'dict'>\n"
          ]
        },
        {
          "name": "stderr",
          "output_type": "stream",
          "text": [
            "\rEvaluating:  18%|█▊        | 6/33 [00:01<00:09,  2.94it/s]"
          ]
        },
        {
          "name": "stdout",
          "output_type": "stream",
          "text": [
            "Error loading /content/drive/MyDrive/archive (14)/Dataset_BUSI_with_GT/benign/benign (298).png: Unexpected type <class 'dict'>\n",
            "Error loading /content/drive/MyDrive/archive (14)/Dataset_BUSI_with_GT/malignant/malignant (11).png: img should be PIL Image. Got <class 'dict'>\n",
            "Error loading /content/drive/MyDrive/archive (14)/Dataset_BUSI_with_GT/benign/benign (204).png: img should be PIL Image. Got <class 'dict'>\n",
            "Error loading /content/drive/MyDrive/archive (14)/Dataset_BUSI_with_GT/benign/benign (114).png: img should be PIL Image. Got <class 'dict'>\n"
          ]
        },
        {
          "name": "stderr",
          "output_type": "stream",
          "text": [
            "\rEvaluating:  21%|██        | 7/33 [00:02<00:08,  2.91it/s]"
          ]
        },
        {
          "name": "stdout",
          "output_type": "stream",
          "text": [
            "Error loading /content/drive/MyDrive/archive (14)/Dataset_BUSI_with_GT/malignant/malignant (42).png: img should be PIL Image. Got <class 'dict'>\n",
            "Error loading /content/drive/MyDrive/archive (14)/Dataset_BUSI_with_GT/malignant/malignant (72).png: img should be PIL Image. Got <class 'dict'>\n",
            "Error loading /content/drive/MyDrive/archive (14)/Dataset_BUSI_with_GT/benign/benign (422).png: Unexpected type <class 'dict'>\n",
            "Error loading /content/drive/MyDrive/archive (14)/Dataset_BUSI_with_GT/benign/benign (288).png: img should be PIL Image. Got <class 'dict'>\n"
          ]
        },
        {
          "name": "stderr",
          "output_type": "stream",
          "text": [
            "\rEvaluating:  24%|██▍       | 8/33 [00:02<00:08,  2.96it/s]"
          ]
        },
        {
          "name": "stdout",
          "output_type": "stream",
          "text": [
            "Error loading /content/drive/MyDrive/archive (14)/Dataset_BUSI_with_GT/benign/benign (335).png: Unexpected type <class 'dict'>\n",
            "Error loading /content/drive/MyDrive/archive (14)/Dataset_BUSI_with_GT/benign/benign (202).png: Unexpected type <class 'dict'>\n",
            "Error loading /content/drive/MyDrive/archive (14)/Dataset_BUSI_with_GT/benign/benign (319).png: Unexpected type <class 'dict'>\n",
            "Error loading /content/drive/MyDrive/archive (14)/Dataset_BUSI_with_GT/malignant/malignant (175).png: Unexpected type <class 'dict'>\n"
          ]
        },
        {
          "name": "stderr",
          "output_type": "stream",
          "text": [
            "\rEvaluating:  27%|██▋       | 9/33 [00:03<00:08,  2.90it/s]"
          ]
        },
        {
          "name": "stdout",
          "output_type": "stream",
          "text": [
            "Error loading /content/drive/MyDrive/archive (14)/Dataset_BUSI_with_GT/malignant/malignant (194).png: Unexpected type <class 'dict'>\n",
            "Error loading /content/drive/MyDrive/archive (14)/Dataset_BUSI_with_GT/benign/benign (365).png: Unexpected type <class 'dict'>\n",
            "Error loading /content/drive/MyDrive/archive (14)/Dataset_BUSI_with_GT/benign/benign (106).png: Unexpected type <class 'dict'>\n",
            "Error loading /content/drive/MyDrive/archive (14)/Dataset_BUSI_with_GT/benign/benign (293).png: img should be PIL Image. Got <class 'dict'>\n"
          ]
        },
        {
          "name": "stderr",
          "output_type": "stream",
          "text": [
            "\rEvaluating:  30%|███       | 10/33 [00:03<00:08,  2.81it/s]"
          ]
        },
        {
          "name": "stdout",
          "output_type": "stream",
          "text": [
            "Error loading /content/drive/MyDrive/archive (14)/Dataset_BUSI_with_GT/benign/benign (421).png: Unexpected type <class 'dict'>\n",
            "Error loading /content/drive/MyDrive/archive (14)/Dataset_BUSI_with_GT/malignant/malignant (1).png: img should be PIL Image. Got <class 'dict'>\n",
            "Error loading /content/drive/MyDrive/archive (14)/Dataset_BUSI_with_GT/benign/benign (215).png: Unexpected type <class 'dict'>\n",
            "Error loading /content/drive/MyDrive/archive (14)/Dataset_BUSI_with_GT/malignant/malignant (35).png: img should be PIL Image. Got <class 'dict'>\n"
          ]
        },
        {
          "name": "stderr",
          "output_type": "stream",
          "text": [
            "\rEvaluating:  33%|███▎      | 11/33 [00:03<00:07,  2.93it/s]"
          ]
        },
        {
          "name": "stdout",
          "output_type": "stream",
          "text": [
            "Error loading /content/drive/MyDrive/archive (14)/Dataset_BUSI_with_GT/benign/benign (9).png: img should be PIL Image. Got <class 'dict'>\n",
            "Error loading /content/drive/MyDrive/archive (14)/Dataset_BUSI_with_GT/benign/benign (94).png: img should be PIL Image. Got <class 'dict'>\n",
            "Error loading /content/drive/MyDrive/archive (14)/Dataset_BUSI_with_GT/benign/benign (49).png: Unexpected type <class 'dict'>\n",
            "Error loading /content/drive/MyDrive/archive (14)/Dataset_BUSI_with_GT/malignant/malignant (134).png: Unexpected type <class 'dict'>\n"
          ]
        },
        {
          "name": "stderr",
          "output_type": "stream",
          "text": [
            "\rEvaluating:  36%|███▋      | 12/33 [00:04<00:07,  2.78it/s]"
          ]
        },
        {
          "name": "stdout",
          "output_type": "stream",
          "text": [
            "Error loading /content/drive/MyDrive/archive (14)/Dataset_BUSI_with_GT/malignant/malignant (15).png: Unexpected type <class 'dict'>\n",
            "Error loading /content/drive/MyDrive/archive (14)/Dataset_BUSI_with_GT/benign/benign (263).png: img should be PIL Image. Got <class 'dict'>\n",
            "Error loading /content/drive/MyDrive/archive (14)/Dataset_BUSI_with_GT/benign/benign (172).png: Unexpected type <class 'dict'>\n",
            "Error loading /content/drive/MyDrive/archive (14)/Dataset_BUSI_with_GT/malignant/malignant (114).png: Unexpected type <class 'dict'>\n"
          ]
        },
        {
          "name": "stderr",
          "output_type": "stream",
          "text": [
            "\rEvaluating:  39%|███▉      | 13/33 [00:04<00:06,  2.91it/s]"
          ]
        },
        {
          "name": "stdout",
          "output_type": "stream",
          "text": [
            "Error loading /content/drive/MyDrive/archive (14)/Dataset_BUSI_with_GT/malignant/malignant (147).png: Unexpected type <class 'dict'>\n",
            "Error loading /content/drive/MyDrive/archive (14)/Dataset_BUSI_with_GT/benign/benign (341).png: Unexpected type <class 'dict'>\n",
            "Error loading /content/drive/MyDrive/archive (14)/Dataset_BUSI_with_GT/benign/benign (176).png: Unexpected type <class 'dict'>\n",
            "Error loading /content/drive/MyDrive/archive (14)/Dataset_BUSI_with_GT/malignant/malignant (52).png: Unexpected type <class 'dict'>\n"
          ]
        },
        {
          "name": "stderr",
          "output_type": "stream",
          "text": [
            "\rEvaluating:  42%|████▏     | 14/33 [00:04<00:06,  2.93it/s]"
          ]
        },
        {
          "name": "stdout",
          "output_type": "stream",
          "text": [
            "Error loading /content/drive/MyDrive/archive (14)/Dataset_BUSI_with_GT/benign/benign (142).png: img should be PIL Image. Got <class 'dict'>\n",
            "Error loading /content/drive/MyDrive/archive (14)/Dataset_BUSI_with_GT/benign/benign (410).png: Unexpected type <class 'dict'>\n",
            "Error loading /content/drive/MyDrive/archive (14)/Dataset_BUSI_with_GT/malignant/malignant (204).png: img should be PIL Image. Got <class 'dict'>\n"
          ]
        },
        {
          "name": "stderr",
          "output_type": "stream",
          "text": [
            "\rEvaluating:  45%|████▌     | 15/33 [00:05<00:06,  2.72it/s]"
          ]
        },
        {
          "name": "stdout",
          "output_type": "stream",
          "text": [
            "Error loading /content/drive/MyDrive/archive (14)/Dataset_BUSI_with_GT/benign/benign (389).png: Unexpected type <class 'dict'>\n",
            "Error loading /content/drive/MyDrive/archive (14)/Dataset_BUSI_with_GT/benign/benign (305).png: Unexpected type <class 'dict'>\n",
            "Error loading /content/drive/MyDrive/archive (14)/Dataset_BUSI_with_GT/malignant/malignant (206).png: img should be PIL Image. Got <class 'dict'>\n",
            "Error loading /content/drive/MyDrive/archive (14)/Dataset_BUSI_with_GT/benign/benign (311).png: Unexpected type <class 'dict'>\n",
            "Error loading /content/drive/MyDrive/archive (14)/Dataset_BUSI_with_GT/malignant/malignant (68).png: Unexpected type <class 'dict'>\n"
          ]
        },
        {
          "name": "stderr",
          "output_type": "stream",
          "text": [
            "\rEvaluating:  48%|████▊     | 16/33 [00:05<00:06,  2.80it/s]"
          ]
        },
        {
          "name": "stdout",
          "output_type": "stream",
          "text": [
            "Error loading /content/drive/MyDrive/archive (14)/Dataset_BUSI_with_GT/benign/benign (256).png: Unexpected type <class 'dict'>\n",
            "Error loading /content/drive/MyDrive/archive (14)/Dataset_BUSI_with_GT/malignant/malignant (59).png: img should be PIL Image. Got <class 'dict'>\n",
            "Error loading /content/drive/MyDrive/archive (14)/Dataset_BUSI_with_GT/benign/benign (364).png: Unexpected type <class 'dict'>\n",
            "Error loading /content/drive/MyDrive/archive (14)/Dataset_BUSI_with_GT/malignant/malignant (83).png: Unexpected type <class 'dict'>\n"
          ]
        },
        {
          "name": "stderr",
          "output_type": "stream",
          "text": [
            "\rEvaluating:  52%|█████▏    | 17/33 [00:05<00:05,  2.84it/s]"
          ]
        },
        {
          "name": "stdout",
          "output_type": "stream",
          "text": [
            "Error loading /content/drive/MyDrive/archive (14)/Dataset_BUSI_with_GT/benign/benign (435).png: Unexpected type <class 'dict'>\n",
            "Error loading /content/drive/MyDrive/archive (14)/Dataset_BUSI_with_GT/benign/benign (3).png: img should be PIL Image. Got <class 'dict'>\n",
            "Error loading /content/drive/MyDrive/archive (14)/Dataset_BUSI_with_GT/malignant/malignant (172).png: img should be PIL Image. Got <class 'dict'>\n",
            "Error loading /content/drive/MyDrive/archive (14)/Dataset_BUSI_with_GT/malignant/malignant (122).png: Unexpected type <class 'dict'>\n"
          ]
        },
        {
          "name": "stderr",
          "output_type": "stream",
          "text": [
            "\rEvaluating:  55%|█████▍    | 18/33 [00:06<00:05,  2.90it/s]"
          ]
        },
        {
          "name": "stdout",
          "output_type": "stream",
          "text": [
            "Error loading /content/drive/MyDrive/archive (14)/Dataset_BUSI_with_GT/malignant/malignant (57).png: img should be PIL Image. Got <class 'dict'>\n",
            "Error loading /content/drive/MyDrive/archive (14)/Dataset_BUSI_with_GT/benign/benign (175).png: img should be PIL Image. Got <class 'dict'>\n",
            "Error loading /content/drive/MyDrive/archive (14)/Dataset_BUSI_with_GT/malignant/malignant (2).png: Unexpected type <class 'dict'>\n",
            "Error loading /content/drive/MyDrive/archive (14)/Dataset_BUSI_with_GT/benign/benign (345).png: img should be PIL Image. Got <class 'dict'>\n"
          ]
        },
        {
          "name": "stderr",
          "output_type": "stream",
          "text": [
            "\rEvaluating:  58%|█████▊    | 19/33 [00:06<00:04,  2.87it/s]"
          ]
        },
        {
          "name": "stdout",
          "output_type": "stream",
          "text": [
            "Error loading /content/drive/MyDrive/archive (14)/Dataset_BUSI_with_GT/benign/benign (251).png: Unexpected type <class 'dict'>\n",
            "Error loading /content/drive/MyDrive/archive (14)/Dataset_BUSI_with_GT/benign/benign (403).png: img should be PIL Image. Got <class 'dict'>\n",
            "Error loading /content/drive/MyDrive/archive (14)/Dataset_BUSI_with_GT/malignant/malignant (84).png: Unexpected type <class 'dict'>\n",
            "Error loading /content/drive/MyDrive/archive (14)/Dataset_BUSI_with_GT/benign/benign (344).png: img should be PIL Image. Got <class 'dict'>\n"
          ]
        },
        {
          "name": "stderr",
          "output_type": "stream",
          "text": [
            "\rEvaluating:  61%|██████    | 20/33 [00:06<00:04,  2.94it/s]"
          ]
        },
        {
          "name": "stdout",
          "output_type": "stream",
          "text": [
            "Error loading /content/drive/MyDrive/archive (14)/Dataset_BUSI_with_GT/benign/benign (132).png: Unexpected type <class 'dict'>\n",
            "Error loading /content/drive/MyDrive/archive (14)/Dataset_BUSI_with_GT/benign/benign (383).png: img should be PIL Image. Got <class 'dict'>\n",
            "Error loading /content/drive/MyDrive/archive (14)/Dataset_BUSI_with_GT/malignant/malignant (38).png: img should be PIL Image. Got <class 'dict'>\n",
            "Error loading /content/drive/MyDrive/archive (14)/Dataset_BUSI_with_GT/malignant/malignant (4).png: img should be PIL Image. Got <class 'dict'>\n"
          ]
        },
        {
          "name": "stderr",
          "output_type": "stream",
          "text": [
            "\rEvaluating:  64%|██████▎   | 21/33 [00:07<00:04,  2.82it/s]"
          ]
        },
        {
          "name": "stdout",
          "output_type": "stream",
          "text": [
            "Error loading /content/drive/MyDrive/archive (14)/Dataset_BUSI_with_GT/benign/benign (153).png: img should be PIL Image. Got <class 'dict'>\n",
            "Error loading /content/drive/MyDrive/archive (14)/Dataset_BUSI_with_GT/benign/benign (18).png: Unexpected type <class 'dict'>\n",
            "Error loading /content/drive/MyDrive/archive (14)/Dataset_BUSI_with_GT/benign/benign (295).png: img should be PIL Image. Got <class 'dict'>\n",
            "Error loading /content/drive/MyDrive/archive (14)/Dataset_BUSI_with_GT/benign/benign (43).png: img should be PIL Image. Got <class 'dict'>\n"
          ]
        },
        {
          "name": "stderr",
          "output_type": "stream",
          "text": [
            "\rEvaluating:  67%|██████▋   | 22/33 [00:07<00:03,  2.84it/s]"
          ]
        },
        {
          "name": "stdout",
          "output_type": "stream",
          "text": [
            "Error loading /content/drive/MyDrive/archive (14)/Dataset_BUSI_with_GT/benign/benign (249).png: Unexpected type <class 'dict'>\n",
            "Error loading /content/drive/MyDrive/archive (14)/Dataset_BUSI_with_GT/benign/benign (218).png: Unexpected type <class 'dict'>\n",
            "Error loading /content/drive/MyDrive/archive (14)/Dataset_BUSI_with_GT/benign/benign (2).png: Unexpected type <class 'dict'>\n",
            "Error loading /content/drive/MyDrive/archive (14)/Dataset_BUSI_with_GT/malignant/malignant (180).png: Unexpected type <class 'dict'>\n"
          ]
        },
        {
          "name": "stderr",
          "output_type": "stream",
          "text": [
            "\rEvaluating:  70%|██████▉   | 23/33 [00:07<00:03,  2.95it/s]"
          ]
        },
        {
          "name": "stdout",
          "output_type": "stream",
          "text": [
            "Error loading /content/drive/MyDrive/archive (14)/Dataset_BUSI_with_GT/benign/benign (347).png: img should be PIL Image. Got <class 'dict'>\n",
            "Error loading /content/drive/MyDrive/archive (14)/Dataset_BUSI_with_GT/benign/benign (304).png: Unexpected type <class 'dict'>\n",
            "Error loading /content/drive/MyDrive/archive (14)/Dataset_BUSI_with_GT/benign/benign (292).png: Unexpected type <class 'dict'>\n",
            "Error loading /content/drive/MyDrive/archive (14)/Dataset_BUSI_with_GT/benign/benign (324).png: img should be PIL Image. Got <class 'dict'>\n"
          ]
        },
        {
          "name": "stderr",
          "output_type": "stream",
          "text": [
            "\rEvaluating:  73%|███████▎  | 24/33 [00:08<00:03,  2.96it/s]"
          ]
        },
        {
          "name": "stdout",
          "output_type": "stream",
          "text": [
            "Error loading /content/drive/MyDrive/archive (14)/Dataset_BUSI_with_GT/benign/benign (276).png: Unexpected type <class 'dict'>\n",
            "Error loading /content/drive/MyDrive/archive (14)/Dataset_BUSI_with_GT/benign/benign (136).png: Unexpected type <class 'dict'>\n",
            "Error loading /content/drive/MyDrive/archive (14)/Dataset_BUSI_with_GT/malignant/malignant (186).png: Unexpected type <class 'dict'>\n",
            "Error loading /content/drive/MyDrive/archive (14)/Dataset_BUSI_with_GT/benign/benign (312).png: img should be PIL Image. Got <class 'dict'>\n"
          ]
        },
        {
          "name": "stderr",
          "output_type": "stream",
          "text": [
            "\rEvaluating:  76%|███████▌  | 25/33 [00:08<00:02,  2.93it/s]"
          ]
        },
        {
          "name": "stdout",
          "output_type": "stream",
          "text": [
            "Error loading /content/drive/MyDrive/archive (14)/Dataset_BUSI_with_GT/benign/benign (179).png: img should be PIL Image. Got <class 'dict'>\n",
            "Error loading /content/drive/MyDrive/archive (14)/Dataset_BUSI_with_GT/benign/benign (257).png: img should be PIL Image. Got <class 'dict'>\n",
            "Error loading /content/drive/MyDrive/archive (14)/Dataset_BUSI_with_GT/benign/benign (334).png: Unexpected type <class 'dict'>\n",
            "Error loading /content/drive/MyDrive/archive (14)/Dataset_BUSI_with_GT/benign/benign (177).png: Unexpected type <class 'dict'>\n"
          ]
        },
        {
          "name": "stderr",
          "output_type": "stream",
          "text": [
            "\rEvaluating:  79%|███████▉  | 26/33 [00:08<00:02,  3.05it/s]"
          ]
        },
        {
          "name": "stdout",
          "output_type": "stream",
          "text": [
            "Error loading /content/drive/MyDrive/archive (14)/Dataset_BUSI_with_GT/benign/benign (128).png: img should be PIL Image. Got <class 'dict'>\n",
            "Error loading /content/drive/MyDrive/archive (14)/Dataset_BUSI_with_GT/malignant/malignant (6).png: Unexpected type <class 'dict'>\n",
            "Error loading /content/drive/MyDrive/archive (14)/Dataset_BUSI_with_GT/malignant/malignant (190).png: img should be PIL Image. Got <class 'dict'>\n",
            "Error loading /content/drive/MyDrive/archive (14)/Dataset_BUSI_with_GT/benign/benign (134).png: img should be PIL Image. Got <class 'dict'>\n"
          ]
        },
        {
          "name": "stderr",
          "output_type": "stream",
          "text": [
            "\rEvaluating:  82%|████████▏ | 27/33 [00:09<00:01,  3.12it/s]"
          ]
        },
        {
          "name": "stdout",
          "output_type": "stream",
          "text": [
            "Error loading /content/drive/MyDrive/archive (14)/Dataset_BUSI_with_GT/malignant/malignant (81).png: img should be PIL Image. Got <class 'dict'>\n",
            "Error loading /content/drive/MyDrive/archive (14)/Dataset_BUSI_with_GT/benign/benign (72).png: img should be PIL Image. Got <class 'dict'>\n",
            "Error loading /content/drive/MyDrive/archive (14)/Dataset_BUSI_with_GT/malignant/malignant (159).png: Unexpected type <class 'dict'>\n",
            "Error loading /content/drive/MyDrive/archive (14)/Dataset_BUSI_with_GT/malignant/malignant (85).png: Unexpected type <class 'dict'>\n"
          ]
        },
        {
          "name": "stderr",
          "output_type": "stream",
          "text": [
            "\rEvaluating:  85%|████████▍ | 28/33 [00:09<00:01,  3.04it/s]"
          ]
        },
        {
          "name": "stdout",
          "output_type": "stream",
          "text": [
            "Error loading /content/drive/MyDrive/archive (14)/Dataset_BUSI_with_GT/benign/benign (171).png: img should be PIL Image. Got <class 'dict'>\n",
            "Error loading /content/drive/MyDrive/archive (14)/Dataset_BUSI_with_GT/benign/benign (228).png: img should be PIL Image. Got <class 'dict'>\n",
            "Error loading /content/drive/MyDrive/archive (14)/Dataset_BUSI_with_GT/malignant/malignant (80).png: img should be PIL Image. Got <class 'dict'>\n",
            "Error loading /content/drive/MyDrive/archive (14)/Dataset_BUSI_with_GT/benign/benign (234).png: img should be PIL Image. Got <class 'dict'>\n"
          ]
        },
        {
          "name": "stderr",
          "output_type": "stream",
          "text": [
            "\rEvaluating:  88%|████████▊ | 29/33 [00:09<00:01,  2.94it/s]"
          ]
        },
        {
          "name": "stdout",
          "output_type": "stream",
          "text": [
            "Error loading /content/drive/MyDrive/archive (14)/Dataset_BUSI_with_GT/benign/benign (167).png: Unexpected type <class 'dict'>\n",
            "Error loading /content/drive/MyDrive/archive (14)/Dataset_BUSI_with_GT/malignant/malignant (182).png: Unexpected type <class 'dict'>\n",
            "Error loading /content/drive/MyDrive/archive (14)/Dataset_BUSI_with_GT/benign/benign (59).png: Unexpected type <class 'dict'>\n"
          ]
        },
        {
          "name": "stderr",
          "output_type": "stream",
          "text": [
            "\rEvaluating:  91%|█████████ | 30/33 [00:10<00:01,  2.57it/s]"
          ]
        },
        {
          "name": "stdout",
          "output_type": "stream",
          "text": [
            "Error loading /content/drive/MyDrive/archive (14)/Dataset_BUSI_with_GT/benign/benign (38).png: Unexpected type <class 'dict'>\n",
            "Error loading /content/drive/MyDrive/archive (14)/Dataset_BUSI_with_GT/benign/benign (250).png: img should be PIL Image. Got <class 'dict'>\n",
            "Error loading /content/drive/MyDrive/archive (14)/Dataset_BUSI_with_GT/benign/benign (302).png: Unexpected type <class 'dict'>\n",
            "Error loading /content/drive/MyDrive/archive (14)/Dataset_BUSI_with_GT/malignant/malignant (154).png: img should be PIL Image. Got <class 'dict'>\n",
            "Error loading /content/drive/MyDrive/archive (14)/Dataset_BUSI_with_GT/malignant/malignant (50).png: img should be PIL Image. Got <class 'dict'>\n"
          ]
        },
        {
          "name": "stderr",
          "output_type": "stream",
          "text": [
            "\rEvaluating:  94%|█████████▍| 31/33 [00:10<00:00,  2.48it/s]"
          ]
        },
        {
          "name": "stdout",
          "output_type": "stream",
          "text": [
            "Error loading /content/drive/MyDrive/archive (14)/Dataset_BUSI_with_GT/benign/benign (109).png: img should be PIL Image. Got <class 'dict'>\n",
            "Error loading /content/drive/MyDrive/archive (14)/Dataset_BUSI_with_GT/benign/benign (82).png: Unexpected type <class 'dict'>\n",
            "Error loading /content/drive/MyDrive/archive (14)/Dataset_BUSI_with_GT/benign/benign (373).png: Unexpected type <class 'dict'>\n"
          ]
        },
        {
          "name": "stderr",
          "output_type": "stream",
          "text": [
            "\rEvaluating:  97%|█████████▋| 32/33 [00:11<00:00,  2.37it/s]"
          ]
        },
        {
          "name": "stdout",
          "output_type": "stream",
          "text": [
            "Error loading /content/drive/MyDrive/archive (14)/Dataset_BUSI_with_GT/malignant/malignant (39).png: img should be PIL Image. Got <class 'dict'>\n"
          ]
        },
        {
          "name": "stderr",
          "output_type": "stream",
          "text": [
            "Evaluating: 100%|██████████| 33/33 [00:11<00:00,  2.86it/s]\n"
          ]
        },
        {
          "name": "stdout",
          "output_type": "stream",
          "text": [
            "Error loading /content/drive/MyDrive/archive (14)/Dataset_BUSI_with_GT/benign/benign (233).png: Unexpected type <class 'dict'>\n",
            "Error loading /content/drive/MyDrive/archive (14)/Dataset_BUSI_with_GT/benign/benign (356).png: Unexpected type <class 'dict'>\n",
            "Best Threshold: 0.3, IoU: 1.0000\n"
          ]
        },
        {
          "name": "stderr",
          "output_type": "stream",
          "text": [
            "\rEpoch 3/5:   0%|          | 0/130 [00:00<?, ?it/s]"
          ]
        },
        {
          "name": "stdout",
          "output_type": "stream",
          "text": [
            "Error loading /content/drive/MyDrive/archive (14)/Dataset_BUSI_with_GT/benign/benign (307).png: Unexpected type <class 'dict'>\n",
            "Error loading /content/drive/MyDrive/archive (14)/Dataset_BUSI_with_GT/benign/benign (255).png: img should be PIL Image. Got <class 'dict'>\n",
            "Error loading /content/drive/MyDrive/archive (14)/Dataset_BUSI_with_GT/benign/benign (138).png: img should be PIL Image. Got <class 'dict'>\n",
            "Error loading /content/drive/MyDrive/archive (14)/Dataset_BUSI_with_GT/malignant/malignant (48).png: Unexpected type <class 'dict'>\n"
          ]
        },
        {
          "name": "stderr",
          "output_type": "stream",
          "text": [
            "\rEpoch 3/5:   1%|          | 1/130 [00:00<01:12,  1.77it/s]"
          ]
        },
        {
          "name": "stdout",
          "output_type": "stream",
          "text": [
            "Error loading /content/drive/MyDrive/archive (14)/Dataset_BUSI_with_GT/benign/benign (280).png: img should be PIL Image. Got <class 'dict'>\n",
            "Error loading /content/drive/MyDrive/archive (14)/Dataset_BUSI_with_GT/benign/benign (432).png: Unexpected type <class 'dict'>\n",
            "Error loading /content/drive/MyDrive/archive (14)/Dataset_BUSI_with_GT/malignant/malignant (162).png: Unexpected type <class 'dict'>\n"
          ]
        },
        {
          "name": "stderr",
          "output_type": "stream",
          "text": [
            "\rEpoch 3/5:   2%|▏         | 2/130 [00:01<01:08,  1.87it/s]"
          ]
        },
        {
          "name": "stdout",
          "output_type": "stream",
          "text": [
            "Error loading /content/drive/MyDrive/archive (14)/Dataset_BUSI_with_GT/benign/benign (40).png: img should be PIL Image. Got <class 'dict'>\n",
            "Error loading /content/drive/MyDrive/archive (14)/Dataset_BUSI_with_GT/malignant/malignant (157).png: img should be PIL Image. Got <class 'dict'>\n",
            "Error loading /content/drive/MyDrive/archive (14)/Dataset_BUSI_with_GT/benign/benign (264).png: Unexpected type <class 'dict'>\n",
            "Error loading /content/drive/MyDrive/archive (14)/Dataset_BUSI_with_GT/benign/benign (395).png: img should be PIL Image. Got <class 'dict'>\n"
          ]
        },
        {
          "name": "stderr",
          "output_type": "stream",
          "text": [
            "\rEpoch 3/5:   2%|▏         | 3/130 [00:01<01:04,  1.96it/s]"
          ]
        },
        {
          "name": "stdout",
          "output_type": "stream",
          "text": [
            "Error loading /content/drive/MyDrive/archive (14)/Dataset_BUSI_with_GT/benign/benign (41).png: Unexpected type <class 'dict'>\n",
            "Error loading /content/drive/MyDrive/archive (14)/Dataset_BUSI_with_GT/benign/benign (436).png: Unexpected type <class 'dict'>\n",
            "Error loading /content/drive/MyDrive/archive (14)/Dataset_BUSI_with_GT/benign/benign (162).png: Unexpected type <class 'dict'>\n",
            "Error loading /content/drive/MyDrive/archive (14)/Dataset_BUSI_with_GT/benign/benign (358).png: Unexpected type <class 'dict'>\n",
            "Error loading /content/drive/MyDrive/archive (14)/Dataset_BUSI_with_GT/benign/benign (366).png: Unexpected type <class 'dict'>\n"
          ]
        },
        {
          "name": "stderr",
          "output_type": "stream",
          "text": [
            "\rEpoch 3/5:   3%|▎         | 4/130 [00:01<00:58,  2.14it/s]"
          ]
        },
        {
          "name": "stdout",
          "output_type": "stream",
          "text": [
            "Error loading /content/drive/MyDrive/archive (14)/Dataset_BUSI_with_GT/malignant/malignant (40).png: Unexpected type <class 'dict'>\n",
            "Error loading /content/drive/MyDrive/archive (14)/Dataset_BUSI_with_GT/malignant/malignant (93).png: img should be PIL Image. Got <class 'dict'>\n",
            "Error loading /content/drive/MyDrive/archive (14)/Dataset_BUSI_with_GT/malignant/malignant (156).png: Unexpected type <class 'dict'>\n",
            "Error loading /content/drive/MyDrive/archive (14)/Dataset_BUSI_with_GT/malignant/malignant (146).png: Unexpected type <class 'dict'>\n"
          ]
        },
        {
          "name": "stderr",
          "output_type": "stream",
          "text": [
            "\rEpoch 3/5:   4%|▍         | 5/130 [00:02<00:53,  2.33it/s]"
          ]
        },
        {
          "name": "stdout",
          "output_type": "stream",
          "text": [
            "Error loading /content/drive/MyDrive/archive (14)/Dataset_BUSI_with_GT/benign/benign (346).png: img should be PIL Image. Got <class 'dict'>\n",
            "Error loading /content/drive/MyDrive/archive (14)/Dataset_BUSI_with_GT/malignant/malignant (158).png: img should be PIL Image. Got <class 'dict'>\n",
            "Error loading /content/drive/MyDrive/archive (14)/Dataset_BUSI_with_GT/benign/benign (86).png: Unexpected type <class 'dict'>\n",
            "Error loading /content/drive/MyDrive/archive (14)/Dataset_BUSI_with_GT/benign/benign (1).png: Unexpected type <class 'dict'>\n"
          ]
        },
        {
          "name": "stderr",
          "output_type": "stream",
          "text": [
            "\rEpoch 3/5:   5%|▍         | 6/130 [00:02<00:51,  2.40it/s]"
          ]
        },
        {
          "name": "stdout",
          "output_type": "stream",
          "text": [
            "Error loading /content/drive/MyDrive/archive (14)/Dataset_BUSI_with_GT/benign/benign (126).png: img should be PIL Image. Got <class 'dict'>\n",
            "Error loading /content/drive/MyDrive/archive (14)/Dataset_BUSI_with_GT/benign/benign (390).png: Unexpected type <class 'dict'>\n",
            "Error loading /content/drive/MyDrive/archive (14)/Dataset_BUSI_with_GT/benign/benign (289).png: Unexpected type <class 'dict'>\n",
            "Error loading /content/drive/MyDrive/archive (14)/Dataset_BUSI_with_GT/benign/benign (359).png: img should be PIL Image. Got <class 'dict'>\n"
          ]
        },
        {
          "name": "stderr",
          "output_type": "stream",
          "text": [
            "\rEpoch 3/5:   5%|▌         | 7/130 [00:03<00:51,  2.40it/s]"
          ]
        },
        {
          "name": "stdout",
          "output_type": "stream",
          "text": [
            "Error loading /content/drive/MyDrive/archive (14)/Dataset_BUSI_with_GT/benign/benign (119).png: img should be PIL Image. Got <class 'dict'>\n",
            "Error loading /content/drive/MyDrive/archive (14)/Dataset_BUSI_with_GT/benign/benign (325).png: Unexpected type <class 'dict'>\n",
            "Error loading /content/drive/MyDrive/archive (14)/Dataset_BUSI_with_GT/malignant/malignant (117).png: Unexpected type <class 'dict'>\n",
            "Error loading /content/drive/MyDrive/archive (14)/Dataset_BUSI_with_GT/malignant/malignant (141).png: img should be PIL Image. Got <class 'dict'>\n"
          ]
        },
        {
          "name": "stderr",
          "output_type": "stream",
          "text": [
            "\rEpoch 3/5:   6%|▌         | 8/130 [00:03<00:50,  2.43it/s]"
          ]
        },
        {
          "name": "stdout",
          "output_type": "stream",
          "text": [
            "Error loading /content/drive/MyDrive/archive (14)/Dataset_BUSI_with_GT/benign/benign (203).png: Unexpected type <class 'dict'>\n",
            "Error loading /content/drive/MyDrive/archive (14)/Dataset_BUSI_with_GT/benign/benign (11).png: img should be PIL Image. Got <class 'dict'>\n",
            "Error loading /content/drive/MyDrive/archive (14)/Dataset_BUSI_with_GT/benign/benign (386).png: Unexpected type <class 'dict'>\n"
          ]
        },
        {
          "name": "stderr",
          "output_type": "stream",
          "text": [
            "\rEpoch 3/5:   7%|▋         | 9/130 [00:03<00:50,  2.38it/s]"
          ]
        },
        {
          "name": "stdout",
          "output_type": "stream",
          "text": [
            "Error loading /content/drive/MyDrive/archive (14)/Dataset_BUSI_with_GT/malignant/malignant (152).png: img should be PIL Image. Got <class 'dict'>\n",
            "Error loading /content/drive/MyDrive/archive (14)/Dataset_BUSI_with_GT/benign/benign (65).png: Unexpected type <class 'dict'>\n",
            "Error loading /content/drive/MyDrive/archive (14)/Dataset_BUSI_with_GT/malignant/malignant (10).png: img should be PIL Image. Got <class 'dict'>\n",
            "Error loading /content/drive/MyDrive/archive (14)/Dataset_BUSI_with_GT/benign/benign (434).png: Unexpected type <class 'dict'>\n",
            "Error loading /content/drive/MyDrive/archive (14)/Dataset_BUSI_with_GT/benign/benign (350).png: Unexpected type <class 'dict'>\n"
          ]
        },
        {
          "name": "stderr",
          "output_type": "stream",
          "text": [
            "\rEpoch 3/5:   8%|▊         | 10/130 [00:04<00:49,  2.43it/s]"
          ]
        },
        {
          "name": "stdout",
          "output_type": "stream",
          "text": [
            "Error loading /content/drive/MyDrive/archive (14)/Dataset_BUSI_with_GT/malignant/malignant (104).png: img should be PIL Image. Got <class 'dict'>\n",
            "Error loading /content/drive/MyDrive/archive (14)/Dataset_BUSI_with_GT/malignant/malignant (28).png: Unexpected type <class 'dict'>\n",
            "Error loading /content/drive/MyDrive/archive (14)/Dataset_BUSI_with_GT/benign/benign (116).png: Unexpected type <class 'dict'>\n",
            "Error loading /content/drive/MyDrive/archive (14)/Dataset_BUSI_with_GT/benign/benign (110).png: img should be PIL Image. Got <class 'dict'>\n"
          ]
        },
        {
          "name": "stderr",
          "output_type": "stream",
          "text": [
            "\rEpoch 3/5:   8%|▊         | 11/130 [00:04<00:48,  2.47it/s]"
          ]
        },
        {
          "name": "stdout",
          "output_type": "stream",
          "text": [
            "Error loading /content/drive/MyDrive/archive (14)/Dataset_BUSI_with_GT/malignant/malignant (19).png: img should be PIL Image. Got <class 'dict'>\n",
            "Error loading /content/drive/MyDrive/archive (14)/Dataset_BUSI_with_GT/malignant/malignant (185).png: Unexpected type <class 'dict'>\n",
            "Error loading /content/drive/MyDrive/archive (14)/Dataset_BUSI_with_GT/benign/benign (184).png: Unexpected type <class 'dict'>\n",
            "Error loading /content/drive/MyDrive/archive (14)/Dataset_BUSI_with_GT/benign/benign (92).png: img should be PIL Image. Got <class 'dict'>\n"
          ]
        },
        {
          "name": "stderr",
          "output_type": "stream",
          "text": [
            "\rEpoch 3/5:   9%|▉         | 12/130 [00:05<00:47,  2.46it/s]"
          ]
        },
        {
          "name": "stdout",
          "output_type": "stream",
          "text": [
            "Error loading /content/drive/MyDrive/archive (14)/Dataset_BUSI_with_GT/malignant/malignant (136).png: Unexpected type <class 'dict'>\n",
            "Error loading /content/drive/MyDrive/archive (14)/Dataset_BUSI_with_GT/benign/benign (247).png: Unexpected type <class 'dict'>\n",
            "Error loading /content/drive/MyDrive/archive (14)/Dataset_BUSI_with_GT/benign/benign (377).png: Unexpected type <class 'dict'>\n",
            "Error loading /content/drive/MyDrive/archive (14)/Dataset_BUSI_with_GT/benign/benign (199).png: Unexpected type <class 'dict'>\n"
          ]
        },
        {
          "name": "stderr",
          "output_type": "stream",
          "text": [
            "\rEpoch 3/5:  10%|█         | 13/130 [00:05<00:45,  2.57it/s]"
          ]
        },
        {
          "name": "stdout",
          "output_type": "stream",
          "text": [
            "Error loading /content/drive/MyDrive/archive (14)/Dataset_BUSI_with_GT/benign/benign (58).png: Unexpected type <class 'dict'>\n",
            "Error loading /content/drive/MyDrive/archive (14)/Dataset_BUSI_with_GT/benign/benign (375).png: Unexpected type <class 'dict'>\n",
            "Error loading /content/drive/MyDrive/archive (14)/Dataset_BUSI_with_GT/benign/benign (214).png: Unexpected type <class 'dict'>\n",
            "Error loading /content/drive/MyDrive/archive (14)/Dataset_BUSI_with_GT/benign/benign (269).png: Unexpected type <class 'dict'>\n"
          ]
        },
        {
          "name": "stderr",
          "output_type": "stream",
          "text": [
            "\rEpoch 3/5:  11%|█         | 14/130 [00:05<00:45,  2.53it/s]"
          ]
        },
        {
          "name": "stdout",
          "output_type": "stream",
          "text": [
            "Error loading /content/drive/MyDrive/archive (14)/Dataset_BUSI_with_GT/malignant/malignant (29).png: Unexpected type <class 'dict'>\n",
            "Error loading /content/drive/MyDrive/archive (14)/Dataset_BUSI_with_GT/malignant/malignant (33).png: Unexpected type <class 'dict'>\n",
            "Error loading /content/drive/MyDrive/archive (14)/Dataset_BUSI_with_GT/benign/benign (310).png: img should be PIL Image. Got <class 'dict'>\n",
            "Error loading /content/drive/MyDrive/archive (14)/Dataset_BUSI_with_GT/benign/benign (195).png: img should be PIL Image. Got <class 'dict'>\n"
          ]
        },
        {
          "name": "stderr",
          "output_type": "stream",
          "text": [
            "\rEpoch 3/5:  12%|█▏        | 15/130 [00:06<00:46,  2.49it/s]"
          ]
        },
        {
          "name": "stdout",
          "output_type": "stream",
          "text": [
            "Error loading /content/drive/MyDrive/archive (14)/Dataset_BUSI_with_GT/benign/benign (384).png: Unexpected type <class 'dict'>\n",
            "Error loading /content/drive/MyDrive/archive (14)/Dataset_BUSI_with_GT/benign/benign (23).png: Unexpected type <class 'dict'>\n",
            "Error loading /content/drive/MyDrive/archive (14)/Dataset_BUSI_with_GT/malignant/malignant (131).png: img should be PIL Image. Got <class 'dict'>\n",
            "Error loading /content/drive/MyDrive/archive (14)/Dataset_BUSI_with_GT/benign/benign (320).png: Unexpected type <class 'dict'>\n"
          ]
        },
        {
          "name": "stderr",
          "output_type": "stream",
          "text": [
            "\rEpoch 3/5:  12%|█▏        | 16/130 [00:06<00:45,  2.48it/s]"
          ]
        },
        {
          "name": "stdout",
          "output_type": "stream",
          "text": [
            "Error loading /content/drive/MyDrive/archive (14)/Dataset_BUSI_with_GT/malignant/malignant (103).png: Unexpected type <class 'dict'>\n",
            "Error loading /content/drive/MyDrive/archive (14)/Dataset_BUSI_with_GT/benign/benign (141).png: img should be PIL Image. Got <class 'dict'>\n",
            "Error loading /content/drive/MyDrive/archive (14)/Dataset_BUSI_with_GT/benign/benign (170).png: Unexpected type <class 'dict'>\n",
            "Error loading /content/drive/MyDrive/archive (14)/Dataset_BUSI_with_GT/benign/benign (26).png: img should be PIL Image. Got <class 'dict'>\n"
          ]
        },
        {
          "name": "stderr",
          "output_type": "stream",
          "text": [
            "\rEpoch 3/5:  13%|█▎        | 17/130 [00:07<00:44,  2.55it/s]"
          ]
        },
        {
          "name": "stdout",
          "output_type": "stream",
          "text": [
            "Error loading /content/drive/MyDrive/archive (14)/Dataset_BUSI_with_GT/benign/benign (369).png: Unexpected type <class 'dict'>\n",
            "Error loading /content/drive/MyDrive/archive (14)/Dataset_BUSI_with_GT/malignant/malignant (37).png: Unexpected type <class 'dict'>\n",
            "Error loading /content/drive/MyDrive/archive (14)/Dataset_BUSI_with_GT/benign/benign (418).png: img should be PIL Image. Got <class 'dict'>\n",
            "Error loading /content/drive/MyDrive/archive (14)/Dataset_BUSI_with_GT/malignant/malignant (171).png: img should be PIL Image. Got <class 'dict'>\n"
          ]
        },
        {
          "name": "stderr",
          "output_type": "stream",
          "text": [
            "\rEpoch 3/5:  14%|█▍        | 18/130 [00:07<00:44,  2.51it/s]"
          ]
        },
        {
          "name": "stdout",
          "output_type": "stream",
          "text": [
            "Error loading /content/drive/MyDrive/archive (14)/Dataset_BUSI_with_GT/benign/benign (404).png: Unexpected type <class 'dict'>\n",
            "Error loading /content/drive/MyDrive/archive (14)/Dataset_BUSI_with_GT/benign/benign (353).png: img should be PIL Image. Got <class 'dict'>\n",
            "Error loading /content/drive/MyDrive/archive (14)/Dataset_BUSI_with_GT/malignant/malignant (25).png: img should be PIL Image. Got <class 'dict'>\n",
            "Error loading /content/drive/MyDrive/archive (14)/Dataset_BUSI_with_GT/malignant/malignant (69).png: Unexpected type <class 'dict'>\n"
          ]
        },
        {
          "name": "stderr",
          "output_type": "stream",
          "text": [
            "\rEpoch 3/5:  15%|█▍        | 19/130 [00:07<00:44,  2.48it/s]"
          ]
        },
        {
          "name": "stdout",
          "output_type": "stream",
          "text": [
            "Error loading /content/drive/MyDrive/archive (14)/Dataset_BUSI_with_GT/malignant/malignant (89).png: Unexpected type <class 'dict'>\n",
            "Error loading /content/drive/MyDrive/archive (14)/Dataset_BUSI_with_GT/benign/benign (69).png: img should be PIL Image. Got <class 'dict'>\n",
            "Error loading /content/drive/MyDrive/archive (14)/Dataset_BUSI_with_GT/benign/benign (285).png: Unexpected type <class 'dict'>\n"
          ]
        },
        {
          "name": "stderr",
          "output_type": "stream",
          "text": [
            "\rEpoch 3/5:  15%|█▌        | 20/130 [00:08<00:46,  2.37it/s]"
          ]
        },
        {
          "name": "stdout",
          "output_type": "stream",
          "text": [
            "Error loading /content/drive/MyDrive/archive (14)/Dataset_BUSI_with_GT/malignant/malignant (106).png: img should be PIL Image. Got <class 'dict'>\n",
            "Error loading /content/drive/MyDrive/archive (14)/Dataset_BUSI_with_GT/malignant/malignant (16).png: Unexpected type <class 'dict'>\n",
            "Error loading /content/drive/MyDrive/archive (14)/Dataset_BUSI_with_GT/benign/benign (206).png: Unexpected type <class 'dict'>\n",
            "Error loading /content/drive/MyDrive/archive (14)/Dataset_BUSI_with_GT/malignant/malignant (97).png: Unexpected type <class 'dict'>\n",
            "Error loading /content/drive/MyDrive/archive (14)/Dataset_BUSI_with_GT/malignant/malignant (125).png: img should be PIL Image. Got <class 'dict'>\n"
          ]
        },
        {
          "name": "stderr",
          "output_type": "stream",
          "text": [
            "\rEpoch 3/5:  16%|█▌        | 21/130 [00:08<00:44,  2.46it/s]"
          ]
        },
        {
          "name": "stdout",
          "output_type": "stream",
          "text": [
            "Error loading /content/drive/MyDrive/archive (14)/Dataset_BUSI_with_GT/benign/benign (240).png: img should be PIL Image. Got <class 'dict'>\n",
            "Error loading /content/drive/MyDrive/archive (14)/Dataset_BUSI_with_GT/benign/benign (45).png: Unexpected type <class 'dict'>\n",
            "Error loading /content/drive/MyDrive/archive (14)/Dataset_BUSI_with_GT/benign/benign (102).png: img should be PIL Image. Got <class 'dict'>\n",
            "Error loading /content/drive/MyDrive/archive (14)/Dataset_BUSI_with_GT/benign/benign (391).png: Unexpected type <class 'dict'>\n"
          ]
        },
        {
          "name": "stderr",
          "output_type": "stream",
          "text": [
            "\rEpoch 3/5:  17%|█▋        | 22/130 [00:09<00:44,  2.44it/s]"
          ]
        },
        {
          "name": "stdout",
          "output_type": "stream",
          "text": [
            "Error loading /content/drive/MyDrive/archive (14)/Dataset_BUSI_with_GT/benign/benign (407).png: img should be PIL Image. Got <class 'dict'>\n",
            "Error loading /content/drive/MyDrive/archive (14)/Dataset_BUSI_with_GT/benign/benign (424).png: Unexpected type <class 'dict'>\n",
            "Error loading /content/drive/MyDrive/archive (14)/Dataset_BUSI_with_GT/benign/benign (4).png: img should be PIL Image. Got <class 'dict'>\n",
            "Error loading /content/drive/MyDrive/archive (14)/Dataset_BUSI_with_GT/malignant/malignant (63).png: Unexpected type <class 'dict'>\n"
          ]
        },
        {
          "name": "stderr",
          "output_type": "stream",
          "text": [
            "\rEpoch 3/5:  18%|█▊        | 23/130 [00:09<00:43,  2.47it/s]"
          ]
        },
        {
          "name": "stdout",
          "output_type": "stream",
          "text": [
            "Error loading /content/drive/MyDrive/archive (14)/Dataset_BUSI_with_GT/benign/benign (150).png: img should be PIL Image. Got <class 'dict'>\n",
            "Error loading /content/drive/MyDrive/archive (14)/Dataset_BUSI_with_GT/benign/benign (189).png: img should be PIL Image. Got <class 'dict'>\n",
            "Error loading /content/drive/MyDrive/archive (14)/Dataset_BUSI_with_GT/benign/benign (397).png: Unexpected type <class 'dict'>\n",
            "Error loading /content/drive/MyDrive/archive (14)/Dataset_BUSI_with_GT/malignant/malignant (153).png: Unexpected type <class 'dict'>\n"
          ]
        },
        {
          "name": "stderr",
          "output_type": "stream",
          "text": [
            "\rEpoch 3/5:  18%|█▊        | 24/130 [00:10<00:43,  2.44it/s]"
          ]
        },
        {
          "name": "stdout",
          "output_type": "stream",
          "text": [
            "Error loading /content/drive/MyDrive/archive (14)/Dataset_BUSI_with_GT/benign/benign (68).png: Unexpected type <class 'dict'>\n",
            "Error loading /content/drive/MyDrive/archive (14)/Dataset_BUSI_with_GT/benign/benign (274).png: Unexpected type <class 'dict'>\n",
            "Error loading /content/drive/MyDrive/archive (14)/Dataset_BUSI_with_GT/benign/benign (182).png: Unexpected type <class 'dict'>\n",
            "Error loading /content/drive/MyDrive/archive (14)/Dataset_BUSI_with_GT/malignant/malignant (108).png: Unexpected type <class 'dict'>\n"
          ]
        },
        {
          "name": "stderr",
          "output_type": "stream",
          "text": [
            "\rEpoch 3/5:  19%|█▉        | 25/130 [00:10<00:42,  2.47it/s]"
          ]
        },
        {
          "name": "stdout",
          "output_type": "stream",
          "text": [
            "Error loading /content/drive/MyDrive/archive (14)/Dataset_BUSI_with_GT/benign/benign (225).png: img should be PIL Image. Got <class 'dict'>\n",
            "Error loading /content/drive/MyDrive/archive (14)/Dataset_BUSI_with_GT/benign/benign (95).png: img should be PIL Image. Got <class 'dict'>\n",
            "Error loading /content/drive/MyDrive/archive (14)/Dataset_BUSI_with_GT/benign/benign (376).png: img should be PIL Image. Got <class 'dict'>\n",
            "Error loading /content/drive/MyDrive/archive (14)/Dataset_BUSI_with_GT/benign/benign (210).png: img should be PIL Image. Got <class 'dict'>\n"
          ]
        },
        {
          "name": "stderr",
          "output_type": "stream",
          "text": [
            "\rEpoch 3/5:  20%|██        | 26/130 [00:10<00:40,  2.54it/s]"
          ]
        },
        {
          "name": "stdout",
          "output_type": "stream",
          "text": [
            "Error loading /content/drive/MyDrive/archive (14)/Dataset_BUSI_with_GT/benign/benign (71).png: Unexpected type <class 'dict'>\n",
            "Error loading /content/drive/MyDrive/archive (14)/Dataset_BUSI_with_GT/malignant/malignant (164).png: img should be PIL Image. Got <class 'dict'>\n",
            "Error loading /content/drive/MyDrive/archive (14)/Dataset_BUSI_with_GT/benign/benign (29).png: Unexpected type <class 'dict'>\n",
            "Error loading /content/drive/MyDrive/archive (14)/Dataset_BUSI_with_GT/benign/benign (413).png: Unexpected type <class 'dict'>\n"
          ]
        },
        {
          "name": "stderr",
          "output_type": "stream",
          "text": [
            "\rEpoch 3/5:  21%|██        | 27/130 [00:11<00:39,  2.62it/s]"
          ]
        },
        {
          "name": "stdout",
          "output_type": "stream",
          "text": [
            "Error loading /content/drive/MyDrive/archive (14)/Dataset_BUSI_with_GT/malignant/malignant (21).png: img should be PIL Image. Got <class 'dict'>\n",
            "Error loading /content/drive/MyDrive/archive (14)/Dataset_BUSI_with_GT/benign/benign (27).png: Unexpected type <class 'dict'>\n",
            "Error loading /content/drive/MyDrive/archive (14)/Dataset_BUSI_with_GT/benign/benign (10).png: Unexpected type <class 'dict'>\n",
            "Error loading /content/drive/MyDrive/archive (14)/Dataset_BUSI_with_GT/benign/benign (187).png: Unexpected type <class 'dict'>\n"
          ]
        },
        {
          "name": "stderr",
          "output_type": "stream",
          "text": [
            "\rEpoch 3/5:  22%|██▏       | 28/130 [00:11<00:40,  2.49it/s]"
          ]
        },
        {
          "name": "stdout",
          "output_type": "stream",
          "text": [
            "Error loading /content/drive/MyDrive/archive (14)/Dataset_BUSI_with_GT/benign/benign (315).png: Unexpected type <class 'dict'>\n",
            "Error loading /content/drive/MyDrive/archive (14)/Dataset_BUSI_with_GT/benign/benign (101).png: Unexpected type <class 'dict'>\n",
            "Error loading /content/drive/MyDrive/archive (14)/Dataset_BUSI_with_GT/benign/benign (253).png: Unexpected type <class 'dict'>\n",
            "Error loading /content/drive/MyDrive/archive (14)/Dataset_BUSI_with_GT/malignant/malignant (94).png: Unexpected type <class 'dict'>\n"
          ]
        },
        {
          "name": "stderr",
          "output_type": "stream",
          "text": [
            "\rEpoch 3/5:  22%|██▏       | 29/130 [00:11<00:40,  2.48it/s]"
          ]
        },
        {
          "name": "stdout",
          "output_type": "stream",
          "text": [
            "Error loading /content/drive/MyDrive/archive (14)/Dataset_BUSI_with_GT/benign/benign (166).png: Unexpected type <class 'dict'>\n",
            "Error loading /content/drive/MyDrive/archive (14)/Dataset_BUSI_with_GT/benign/benign (50).png: Unexpected type <class 'dict'>\n",
            "Error loading /content/drive/MyDrive/archive (14)/Dataset_BUSI_with_GT/benign/benign (190).png: img should be PIL Image. Got <class 'dict'>\n",
            "Error loading /content/drive/MyDrive/archive (14)/Dataset_BUSI_with_GT/benign/benign (416).png: img should be PIL Image. Got <class 'dict'>\n"
          ]
        },
        {
          "name": "stderr",
          "output_type": "stream",
          "text": [
            "\rEpoch 3/5:  23%|██▎       | 30/130 [00:12<00:45,  2.18it/s]"
          ]
        },
        {
          "name": "stdout",
          "output_type": "stream",
          "text": [
            "Error loading /content/drive/MyDrive/archive (14)/Dataset_BUSI_with_GT/benign/benign (239).png: img should be PIL Image. Got <class 'dict'>\n",
            "Error loading /content/drive/MyDrive/archive (14)/Dataset_BUSI_with_GT/benign/benign (169).png: img should be PIL Image. Got <class 'dict'>\n",
            "Error loading /content/drive/MyDrive/archive (14)/Dataset_BUSI_with_GT/benign/benign (104).png: Unexpected type <class 'dict'>\n"
          ]
        },
        {
          "name": "stderr",
          "output_type": "stream",
          "text": [
            "\rEpoch 3/5:  24%|██▍       | 31/130 [00:13<00:47,  2.08it/s]"
          ]
        },
        {
          "name": "stdout",
          "output_type": "stream",
          "text": [
            "Error loading /content/drive/MyDrive/archive (14)/Dataset_BUSI_with_GT/benign/benign (137).png: img should be PIL Image. Got <class 'dict'>\n",
            "Error loading /content/drive/MyDrive/archive (14)/Dataset_BUSI_with_GT/benign/benign (270).png: img should be PIL Image. Got <class 'dict'>\n",
            "Error loading /content/drive/MyDrive/archive (14)/Dataset_BUSI_with_GT/malignant/malignant (130).png: img should be PIL Image. Got <class 'dict'>\n",
            "Error loading /content/drive/MyDrive/archive (14)/Dataset_BUSI_with_GT/benign/benign (123).png: img should be PIL Image. Got <class 'dict'>\n"
          ]
        },
        {
          "name": "stderr",
          "output_type": "stream",
          "text": [
            "\rEpoch 3/5:  25%|██▍       | 32/130 [00:13<00:47,  2.08it/s]"
          ]
        },
        {
          "name": "stdout",
          "output_type": "stream",
          "text": [
            "Error loading /content/drive/MyDrive/archive (14)/Dataset_BUSI_with_GT/benign/benign (36).png: Unexpected type <class 'dict'>\n",
            "Error loading /content/drive/MyDrive/archive (14)/Dataset_BUSI_with_GT/benign/benign (219).png: img should be PIL Image. Got <class 'dict'>\n",
            "Error loading /content/drive/MyDrive/archive (14)/Dataset_BUSI_with_GT/benign/benign (303).png: Unexpected type <class 'dict'>\n",
            "Error loading /content/drive/MyDrive/archive (14)/Dataset_BUSI_with_GT/benign/benign (411).png: img should be PIL Image. Got <class 'dict'>\n",
            "Error loading /content/drive/MyDrive/archive (14)/Dataset_BUSI_with_GT/malignant/malignant (139).png: Unexpected type <class 'dict'>\n"
          ]
        },
        {
          "name": "stderr",
          "output_type": "stream",
          "text": [
            "\rEpoch 3/5:  25%|██▌       | 33/130 [00:14<00:46,  2.10it/s]"
          ]
        },
        {
          "name": "stdout",
          "output_type": "stream",
          "text": [
            "Error loading /content/drive/MyDrive/archive (14)/Dataset_BUSI_with_GT/benign/benign (286).png: img should be PIL Image. Got <class 'dict'>\n",
            "Error loading /content/drive/MyDrive/archive (14)/Dataset_BUSI_with_GT/malignant/malignant (170).png: Unexpected type <class 'dict'>\n",
            "Error loading /content/drive/MyDrive/archive (14)/Dataset_BUSI_with_GT/benign/benign (399).png: Unexpected type <class 'dict'>\n",
            "Error loading /content/drive/MyDrive/archive (14)/Dataset_BUSI_with_GT/benign/benign (296).png: Unexpected type <class 'dict'>\n"
          ]
        },
        {
          "name": "stderr",
          "output_type": "stream",
          "text": [
            "\rEpoch 3/5:  26%|██▌       | 34/130 [00:14<00:44,  2.14it/s]"
          ]
        },
        {
          "name": "stdout",
          "output_type": "stream",
          "text": [
            "Error loading /content/drive/MyDrive/archive (14)/Dataset_BUSI_with_GT/benign/benign (155).png: Unexpected type <class 'dict'>\n",
            "Error loading /content/drive/MyDrive/archive (14)/Dataset_BUSI_with_GT/benign/benign (405).png: Unexpected type <class 'dict'>\n",
            "Error loading /content/drive/MyDrive/archive (14)/Dataset_BUSI_with_GT/benign/benign (56).png: img should be PIL Image. Got <class 'dict'>\n",
            "Error loading /content/drive/MyDrive/archive (14)/Dataset_BUSI_with_GT/malignant/malignant (203).png: Unexpected type <class 'dict'>\n"
          ]
        },
        {
          "name": "stderr",
          "output_type": "stream",
          "text": [
            "\rEpoch 3/5:  27%|██▋       | 35/130 [00:15<00:47,  2.01it/s]"
          ]
        },
        {
          "name": "stdout",
          "output_type": "stream",
          "text": [
            "Error loading /content/drive/MyDrive/archive (14)/Dataset_BUSI_with_GT/benign/benign (125).png: img should be PIL Image. Got <class 'dict'>\n",
            "Error loading /content/drive/MyDrive/archive (14)/Dataset_BUSI_with_GT/benign/benign (238).png: Unexpected type <class 'dict'>\n",
            "Error loading /content/drive/MyDrive/archive (14)/Dataset_BUSI_with_GT/benign/benign (330).png: img should be PIL Image. Got <class 'dict'>\n",
            "Error loading /content/drive/MyDrive/archive (14)/Dataset_BUSI_with_GT/benign/benign (428).png: Unexpected type <class 'dict'>\n"
          ]
        },
        {
          "name": "stderr",
          "output_type": "stream",
          "text": [
            "\rEpoch 3/5:  28%|██▊       | 36/130 [00:15<00:44,  2.12it/s]"
          ]
        },
        {
          "name": "stdout",
          "output_type": "stream",
          "text": [
            "Error loading /content/drive/MyDrive/archive (14)/Dataset_BUSI_with_GT/benign/benign (261).png: Unexpected type <class 'dict'>\n",
            "Error loading /content/drive/MyDrive/archive (14)/Dataset_BUSI_with_GT/benign/benign (367).png: Unexpected type <class 'dict'>\n",
            "Error loading /content/drive/MyDrive/archive (14)/Dataset_BUSI_with_GT/malignant/malignant (61).png: img should be PIL Image. Got <class 'dict'>\n",
            "Error loading /content/drive/MyDrive/archive (14)/Dataset_BUSI_with_GT/benign/benign (231).png: img should be PIL Image. Got <class 'dict'>\n"
          ]
        },
        {
          "name": "stderr",
          "output_type": "stream",
          "text": [
            "\rEpoch 3/5:  28%|██▊       | 37/130 [00:15<00:40,  2.28it/s]"
          ]
        },
        {
          "name": "stdout",
          "output_type": "stream",
          "text": [
            "Error loading /content/drive/MyDrive/archive (14)/Dataset_BUSI_with_GT/malignant/malignant (98).png: Unexpected type <class 'dict'>\n",
            "Error loading /content/drive/MyDrive/archive (14)/Dataset_BUSI_with_GT/malignant/malignant (183).png: img should be PIL Image. Got <class 'dict'>\n",
            "Error loading /content/drive/MyDrive/archive (14)/Dataset_BUSI_with_GT/malignant/malignant (43).png: Unexpected type <class 'dict'>\n",
            "Error loading /content/drive/MyDrive/archive (14)/Dataset_BUSI_with_GT/malignant/malignant (197).png: Unexpected type <class 'dict'>\n"
          ]
        },
        {
          "name": "stderr",
          "output_type": "stream",
          "text": [
            "\rEpoch 3/5:  29%|██▉       | 38/130 [00:16<00:39,  2.35it/s]"
          ]
        },
        {
          "name": "stdout",
          "output_type": "stream",
          "text": [
            "Error loading /content/drive/MyDrive/archive (14)/Dataset_BUSI_with_GT/benign/benign (211).png: Unexpected type <class 'dict'>\n",
            "Error loading /content/drive/MyDrive/archive (14)/Dataset_BUSI_with_GT/malignant/malignant (135).png: img should be PIL Image. Got <class 'dict'>\n",
            "Error loading /content/drive/MyDrive/archive (14)/Dataset_BUSI_with_GT/malignant/malignant (8).png: img should be PIL Image. Got <class 'dict'>\n",
            "Error loading /content/drive/MyDrive/archive (14)/Dataset_BUSI_with_GT/benign/benign (191).png: Unexpected type <class 'dict'>\n"
          ]
        },
        {
          "name": "stderr",
          "output_type": "stream",
          "text": [
            "\rEpoch 3/5:  30%|███       | 39/130 [00:16<00:38,  2.39it/s]"
          ]
        },
        {
          "name": "stdout",
          "output_type": "stream",
          "text": [
            "Error loading /content/drive/MyDrive/archive (14)/Dataset_BUSI_with_GT/malignant/malignant (116).png: Unexpected type <class 'dict'>\n",
            "Error loading /content/drive/MyDrive/archive (14)/Dataset_BUSI_with_GT/benign/benign (113).png: img should be PIL Image. Got <class 'dict'>\n",
            "Error loading /content/drive/MyDrive/archive (14)/Dataset_BUSI_with_GT/benign/benign (246).png: img should be PIL Image. Got <class 'dict'>\n",
            "Error loading /content/drive/MyDrive/archive (14)/Dataset_BUSI_with_GT/malignant/malignant (198).png: img should be PIL Image. Got <class 'dict'>\n"
          ]
        },
        {
          "name": "stderr",
          "output_type": "stream",
          "text": [
            "\rEpoch 3/5:  31%|███       | 40/130 [00:17<00:37,  2.39it/s]"
          ]
        },
        {
          "name": "stdout",
          "output_type": "stream",
          "text": [
            "Error loading /content/drive/MyDrive/archive (14)/Dataset_BUSI_with_GT/benign/benign (157).png: img should be PIL Image. Got <class 'dict'>\n",
            "Error loading /content/drive/MyDrive/archive (14)/Dataset_BUSI_with_GT/malignant/malignant (118).png: img should be PIL Image. Got <class 'dict'>\n",
            "Error loading /content/drive/MyDrive/archive (14)/Dataset_BUSI_with_GT/malignant/malignant (109).png: img should be PIL Image. Got <class 'dict'>\n",
            "Error loading /content/drive/MyDrive/archive (14)/Dataset_BUSI_with_GT/benign/benign (108).png: img should be PIL Image. Got <class 'dict'>\n"
          ]
        },
        {
          "name": "stderr",
          "output_type": "stream",
          "text": [
            "\rEpoch 3/5:  32%|███▏      | 41/130 [00:17<00:36,  2.41it/s]"
          ]
        },
        {
          "name": "stdout",
          "output_type": "stream",
          "text": [
            "Error loading /content/drive/MyDrive/archive (14)/Dataset_BUSI_with_GT/benign/benign (291).png: img should be PIL Image. Got <class 'dict'>\n",
            "Error loading /content/drive/MyDrive/archive (14)/Dataset_BUSI_with_GT/benign/benign (294).png: img should be PIL Image. Got <class 'dict'>\n",
            "Error loading /content/drive/MyDrive/archive (14)/Dataset_BUSI_with_GT/malignant/malignant (45).png: Unexpected type <class 'dict'>\n",
            "Error loading /content/drive/MyDrive/archive (14)/Dataset_BUSI_with_GT/benign/benign (259).png: img should be PIL Image. Got <class 'dict'>\n"
          ]
        },
        {
          "name": "stderr",
          "output_type": "stream",
          "text": [
            "\rEpoch 3/5:  32%|███▏      | 42/130 [00:17<00:35,  2.47it/s]"
          ]
        },
        {
          "name": "stdout",
          "output_type": "stream",
          "text": [
            "Error loading /content/drive/MyDrive/archive (14)/Dataset_BUSI_with_GT/malignant/malignant (31).png: img should be PIL Image. Got <class 'dict'>\n",
            "Error loading /content/drive/MyDrive/archive (14)/Dataset_BUSI_with_GT/benign/benign (48).png: Unexpected type <class 'dict'>\n",
            "Error loading /content/drive/MyDrive/archive (14)/Dataset_BUSI_with_GT/malignant/malignant (7).png: Unexpected type <class 'dict'>\n",
            "Error loading /content/drive/MyDrive/archive (14)/Dataset_BUSI_with_GT/benign/benign (168).png: img should be PIL Image. Got <class 'dict'>\n"
          ]
        },
        {
          "name": "stderr",
          "output_type": "stream",
          "text": [
            "\rEpoch 3/5:  33%|███▎      | 43/130 [00:18<00:35,  2.48it/s]"
          ]
        },
        {
          "name": "stdout",
          "output_type": "stream",
          "text": [
            "Error loading /content/drive/MyDrive/archive (14)/Dataset_BUSI_with_GT/benign/benign (371).png: Unexpected type <class 'dict'>\n",
            "Error loading /content/drive/MyDrive/archive (14)/Dataset_BUSI_with_GT/benign/benign (299).png: img should be PIL Image. Got <class 'dict'>\n",
            "Error loading /content/drive/MyDrive/archive (14)/Dataset_BUSI_with_GT/benign/benign (393).png: img should be PIL Image. Got <class 'dict'>\n",
            "Error loading /content/drive/MyDrive/archive (14)/Dataset_BUSI_with_GT/malignant/malignant (201).png: Unexpected type <class 'dict'>\n"
          ]
        },
        {
          "name": "stderr",
          "output_type": "stream",
          "text": [
            "\rEpoch 3/5:  34%|███▍      | 44/130 [00:18<00:35,  2.45it/s]"
          ]
        },
        {
          "name": "stdout",
          "output_type": "stream",
          "text": [
            "Error loading /content/drive/MyDrive/archive (14)/Dataset_BUSI_with_GT/benign/benign (426).png: img should be PIL Image. Got <class 'dict'>\n",
            "Error loading /content/drive/MyDrive/archive (14)/Dataset_BUSI_with_GT/benign/benign (224).png: img should be PIL Image. Got <class 'dict'>\n",
            "Error loading /content/drive/MyDrive/archive (14)/Dataset_BUSI_with_GT/malignant/malignant (73).png: Unexpected type <class 'dict'>\n",
            "Error loading /content/drive/MyDrive/archive (14)/Dataset_BUSI_with_GT/malignant/malignant (110).png: Unexpected type <class 'dict'>\n"
          ]
        },
        {
          "name": "stderr",
          "output_type": "stream",
          "text": [
            "\rEpoch 3/5:  35%|███▍      | 45/130 [00:19<00:33,  2.51it/s]"
          ]
        },
        {
          "name": "stdout",
          "output_type": "stream",
          "text": [
            "Error loading /content/drive/MyDrive/archive (14)/Dataset_BUSI_with_GT/benign/benign (222).png: Unexpected type <class 'dict'>\n",
            "Error loading /content/drive/MyDrive/archive (14)/Dataset_BUSI_with_GT/benign/benign (60).png: Unexpected type <class 'dict'>\n",
            "Error loading /content/drive/MyDrive/archive (14)/Dataset_BUSI_with_GT/benign/benign (374).png: img should be PIL Image. Got <class 'dict'>\n",
            "Error loading /content/drive/MyDrive/archive (14)/Dataset_BUSI_with_GT/benign/benign (63).png: Unexpected type <class 'dict'>\n"
          ]
        },
        {
          "name": "stderr",
          "output_type": "stream",
          "text": [
            "\rEpoch 3/5:  35%|███▌      | 46/130 [00:19<00:33,  2.49it/s]"
          ]
        },
        {
          "name": "stdout",
          "output_type": "stream",
          "text": [
            "Error loading /content/drive/MyDrive/archive (14)/Dataset_BUSI_with_GT/benign/benign (275).png: Unexpected type <class 'dict'>\n",
            "Error loading /content/drive/MyDrive/archive (14)/Dataset_BUSI_with_GT/malignant/malignant (107).png: Unexpected type <class 'dict'>\n",
            "Error loading /content/drive/MyDrive/archive (14)/Dataset_BUSI_with_GT/malignant/malignant (71).png: img should be PIL Image. Got <class 'dict'>\n",
            "Error loading /content/drive/MyDrive/archive (14)/Dataset_BUSI_with_GT/benign/benign (221).png: img should be PIL Image. Got <class 'dict'>\n"
          ]
        },
        {
          "name": "stderr",
          "output_type": "stream",
          "text": [
            "\rEpoch 3/5:  36%|███▌      | 47/130 [00:19<00:32,  2.52it/s]"
          ]
        },
        {
          "name": "stdout",
          "output_type": "stream",
          "text": [
            "Error loading /content/drive/MyDrive/archive (14)/Dataset_BUSI_with_GT/benign/benign (193).png: Unexpected type <class 'dict'>\n",
            "Error loading /content/drive/MyDrive/archive (14)/Dataset_BUSI_with_GT/malignant/malignant (30).png: Unexpected type <class 'dict'>\n",
            "Error loading /content/drive/MyDrive/archive (14)/Dataset_BUSI_with_GT/malignant/malignant (90).png: img should be PIL Image. Got <class 'dict'>\n",
            "Error loading /content/drive/MyDrive/archive (14)/Dataset_BUSI_with_GT/benign/benign (313).png: img should be PIL Image. Got <class 'dict'>\n"
          ]
        },
        {
          "name": "stderr",
          "output_type": "stream",
          "text": [
            "\rEpoch 3/5:  37%|███▋      | 48/130 [00:20<00:33,  2.48it/s]"
          ]
        },
        {
          "name": "stdout",
          "output_type": "stream",
          "text": [
            "Error loading /content/drive/MyDrive/archive (14)/Dataset_BUSI_with_GT/malignant/malignant (184).png: img should be PIL Image. Got <class 'dict'>\n",
            "Error loading /content/drive/MyDrive/archive (14)/Dataset_BUSI_with_GT/benign/benign (408).png: img should be PIL Image. Got <class 'dict'>\n",
            "Error loading /content/drive/MyDrive/archive (14)/Dataset_BUSI_with_GT/malignant/malignant (49).png: Unexpected type <class 'dict'>\n",
            "Error loading /content/drive/MyDrive/archive (14)/Dataset_BUSI_with_GT/benign/benign (84).png: img should be PIL Image. Got <class 'dict'>\n"
          ]
        },
        {
          "name": "stderr",
          "output_type": "stream",
          "text": [
            "\rEpoch 3/5:  38%|███▊      | 49/130 [00:20<00:32,  2.48it/s]"
          ]
        },
        {
          "name": "stdout",
          "output_type": "stream",
          "text": [
            "Error loading /content/drive/MyDrive/archive (14)/Dataset_BUSI_with_GT/malignant/malignant (210).png: Unexpected type <class 'dict'>\n",
            "Error loading /content/drive/MyDrive/archive (14)/Dataset_BUSI_with_GT/benign/benign (97).png: Unexpected type <class 'dict'>\n",
            "Error loading /content/drive/MyDrive/archive (14)/Dataset_BUSI_with_GT/benign/benign (180).png: Unexpected type <class 'dict'>\n",
            "Error loading /content/drive/MyDrive/archive (14)/Dataset_BUSI_with_GT/malignant/malignant (100).png: img should be PIL Image. Got <class 'dict'>\n"
          ]
        },
        {
          "name": "stderr",
          "output_type": "stream",
          "text": [
            "\rEpoch 3/5:  38%|███▊      | 50/130 [00:21<00:33,  2.39it/s]"
          ]
        },
        {
          "name": "stdout",
          "output_type": "stream",
          "text": [
            "Error loading /content/drive/MyDrive/archive (14)/Dataset_BUSI_with_GT/benign/benign (328).png: Unexpected type <class 'dict'>\n",
            "Error loading /content/drive/MyDrive/archive (14)/Dataset_BUSI_with_GT/benign/benign (382).png: Unexpected type <class 'dict'>\n",
            "Error loading /content/drive/MyDrive/archive (14)/Dataset_BUSI_with_GT/malignant/malignant (22).png: img should be PIL Image. Got <class 'dict'>\n",
            "Error loading /content/drive/MyDrive/archive (14)/Dataset_BUSI_with_GT/benign/benign (402).png: img should be PIL Image. Got <class 'dict'>\n"
          ]
        },
        {
          "name": "stderr",
          "output_type": "stream",
          "text": [
            "\rEpoch 3/5:  39%|███▉      | 51/130 [00:21<00:32,  2.41it/s]"
          ]
        },
        {
          "name": "stdout",
          "output_type": "stream",
          "text": [
            "Error loading /content/drive/MyDrive/archive (14)/Dataset_BUSI_with_GT/benign/benign (67).png: Unexpected type <class 'dict'>\n",
            "Error loading /content/drive/MyDrive/archive (14)/Dataset_BUSI_with_GT/malignant/malignant (140).png: img should be PIL Image. Got <class 'dict'>\n",
            "Error loading /content/drive/MyDrive/archive (14)/Dataset_BUSI_with_GT/benign/benign (80).png: Unexpected type <class 'dict'>\n",
            "Error loading /content/drive/MyDrive/archive (14)/Dataset_BUSI_with_GT/malignant/malignant (209).png: img should be PIL Image. Got <class 'dict'>\n"
          ]
        },
        {
          "name": "stderr",
          "output_type": "stream",
          "text": [
            "\rEpoch 3/5:  40%|████      | 52/130 [00:21<00:31,  2.48it/s]"
          ]
        },
        {
          "name": "stdout",
          "output_type": "stream",
          "text": [
            "Error loading /content/drive/MyDrive/archive (14)/Dataset_BUSI_with_GT/benign/benign (370).png: img should be PIL Image. Got <class 'dict'>\n",
            "Error loading /content/drive/MyDrive/archive (14)/Dataset_BUSI_with_GT/benign/benign (62).png: Unexpected type <class 'dict'>\n",
            "Error loading /content/drive/MyDrive/archive (14)/Dataset_BUSI_with_GT/benign/benign (342).png: Unexpected type <class 'dict'>\n",
            "Error loading /content/drive/MyDrive/archive (14)/Dataset_BUSI_with_GT/benign/benign (99).png: Unexpected type <class 'dict'>\n"
          ]
        },
        {
          "name": "stderr",
          "output_type": "stream",
          "text": [
            "\rEpoch 3/5:  41%|████      | 53/130 [00:22<00:30,  2.55it/s]"
          ]
        },
        {
          "name": "stdout",
          "output_type": "stream",
          "text": [
            "Error loading /content/drive/MyDrive/archive (14)/Dataset_BUSI_with_GT/benign/benign (122).png: Unexpected type <class 'dict'>\n",
            "Error loading /content/drive/MyDrive/archive (14)/Dataset_BUSI_with_GT/benign/benign (151).png: img should be PIL Image. Got <class 'dict'>\n",
            "Error loading /content/drive/MyDrive/archive (14)/Dataset_BUSI_with_GT/benign/benign (281).png: img should be PIL Image. Got <class 'dict'>\n",
            "Error loading /content/drive/MyDrive/archive (14)/Dataset_BUSI_with_GT/benign/benign (53).png: img should be PIL Image. Got <class 'dict'>\n"
          ]
        },
        {
          "name": "stderr",
          "output_type": "stream",
          "text": [
            "\rEpoch 3/5:  42%|████▏     | 54/130 [00:22<00:29,  2.55it/s]"
          ]
        },
        {
          "name": "stdout",
          "output_type": "stream",
          "text": [
            "Error loading /content/drive/MyDrive/archive (14)/Dataset_BUSI_with_GT/benign/benign (78).png: Unexpected type <class 'dict'>\n",
            "Error loading /content/drive/MyDrive/archive (14)/Dataset_BUSI_with_GT/malignant/malignant (176).png: Unexpected type <class 'dict'>\n",
            "Error loading /content/drive/MyDrive/archive (14)/Dataset_BUSI_with_GT/malignant/malignant (32).png: img should be PIL Image. Got <class 'dict'>\n",
            "Error loading /content/drive/MyDrive/archive (14)/Dataset_BUSI_with_GT/benign/benign (420).png: img should be PIL Image. Got <class 'dict'>\n"
          ]
        },
        {
          "name": "stderr",
          "output_type": "stream",
          "text": [
            "\rEpoch 3/5:  42%|████▏     | 55/130 [00:23<00:30,  2.45it/s]"
          ]
        },
        {
          "name": "stdout",
          "output_type": "stream",
          "text": [
            "Error loading /content/drive/MyDrive/archive (14)/Dataset_BUSI_with_GT/benign/benign (385).png: img should be PIL Image. Got <class 'dict'>\n",
            "Error loading /content/drive/MyDrive/archive (14)/Dataset_BUSI_with_GT/benign/benign (144).png: Unexpected type <class 'dict'>\n",
            "Error loading /content/drive/MyDrive/archive (14)/Dataset_BUSI_with_GT/benign/benign (327).png: Unexpected type <class 'dict'>\n",
            "Error loading /content/drive/MyDrive/archive (14)/Dataset_BUSI_with_GT/benign/benign (279).png: img should be PIL Image. Got <class 'dict'>\n"
          ]
        },
        {
          "name": "stderr",
          "output_type": "stream",
          "text": [
            "\rEpoch 3/5:  43%|████▎     | 56/130 [00:23<00:30,  2.46it/s]"
          ]
        },
        {
          "name": "stdout",
          "output_type": "stream",
          "text": [
            "Error loading /content/drive/MyDrive/archive (14)/Dataset_BUSI_with_GT/benign/benign (55).png: img should be PIL Image. Got <class 'dict'>\n",
            "Error loading /content/drive/MyDrive/archive (14)/Dataset_BUSI_with_GT/benign/benign (85).png: img should be PIL Image. Got <class 'dict'>\n",
            "Error loading /content/drive/MyDrive/archive (14)/Dataset_BUSI_with_GT/malignant/malignant (208).png: Unexpected type <class 'dict'>\n",
            "Error loading /content/drive/MyDrive/archive (14)/Dataset_BUSI_with_GT/benign/benign (74).png: Unexpected type <class 'dict'>\n"
          ]
        },
        {
          "name": "stderr",
          "output_type": "stream",
          "text": [
            "\rEpoch 3/5:  44%|████▍     | 57/130 [00:23<00:30,  2.40it/s]"
          ]
        },
        {
          "name": "stdout",
          "output_type": "stream",
          "text": [
            "Error loading /content/drive/MyDrive/archive (14)/Dataset_BUSI_with_GT/benign/benign (31).png: img should be PIL Image. Got <class 'dict'>\n",
            "Error loading /content/drive/MyDrive/archive (14)/Dataset_BUSI_with_GT/benign/benign (431).png: img should be PIL Image. Got <class 'dict'>\n",
            "Error loading /content/drive/MyDrive/archive (14)/Dataset_BUSI_with_GT/benign/benign (133).png: img should be PIL Image. Got <class 'dict'>\n",
            "Error loading /content/drive/MyDrive/archive (14)/Dataset_BUSI_with_GT/benign/benign (354).png: Unexpected type <class 'dict'>\n"
          ]
        },
        {
          "name": "stderr",
          "output_type": "stream",
          "text": [
            "\rEpoch 3/5:  45%|████▍     | 58/130 [00:24<00:28,  2.49it/s]"
          ]
        },
        {
          "name": "stdout",
          "output_type": "stream",
          "text": [
            "Error loading /content/drive/MyDrive/archive (14)/Dataset_BUSI_with_GT/benign/benign (372).png: img should be PIL Image. Got <class 'dict'>\n",
            "Error loading /content/drive/MyDrive/archive (14)/Dataset_BUSI_with_GT/benign/benign (427).png: img should be PIL Image. Got <class 'dict'>\n",
            "Error loading /content/drive/MyDrive/archive (14)/Dataset_BUSI_with_GT/malignant/malignant (14).png: Unexpected type <class 'dict'>\n",
            "Error loading /content/drive/MyDrive/archive (14)/Dataset_BUSI_with_GT/benign/benign (7).png: Unexpected type <class 'dict'>\n"
          ]
        },
        {
          "name": "stderr",
          "output_type": "stream",
          "text": [
            "\rEpoch 3/5:  45%|████▌     | 59/130 [00:24<00:28,  2.52it/s]"
          ]
        },
        {
          "name": "stdout",
          "output_type": "stream",
          "text": [
            "Error loading /content/drive/MyDrive/archive (14)/Dataset_BUSI_with_GT/benign/benign (61).png: img should be PIL Image. Got <class 'dict'>\n",
            "Error loading /content/drive/MyDrive/archive (14)/Dataset_BUSI_with_GT/malignant/malignant (86).png: Unexpected type <class 'dict'>\n",
            "Error loading /content/drive/MyDrive/archive (14)/Dataset_BUSI_with_GT/malignant/malignant (17).png: Unexpected type <class 'dict'>\n",
            "Error loading /content/drive/MyDrive/archive (14)/Dataset_BUSI_with_GT/benign/benign (57).png: Unexpected type <class 'dict'>\n"
          ]
        },
        {
          "name": "stderr",
          "output_type": "stream",
          "text": [
            "\rEpoch 3/5:  46%|████▌     | 60/130 [00:25<00:28,  2.42it/s]"
          ]
        },
        {
          "name": "stdout",
          "output_type": "stream",
          "text": [
            "Error loading /content/drive/MyDrive/archive (14)/Dataset_BUSI_with_GT/benign/benign (200).png: Unexpected type <class 'dict'>\n",
            "Error loading /content/drive/MyDrive/archive (14)/Dataset_BUSI_with_GT/benign/benign (131).png: img should be PIL Image. Got <class 'dict'>\n",
            "Error loading /content/drive/MyDrive/archive (14)/Dataset_BUSI_with_GT/benign/benign (351).png: Unexpected type <class 'dict'>\n",
            "Error loading /content/drive/MyDrive/archive (14)/Dataset_BUSI_with_GT/benign/benign (46).png: Unexpected type <class 'dict'>\n"
          ]
        },
        {
          "name": "stderr",
          "output_type": "stream",
          "text": [
            "\rEpoch 3/5:  47%|████▋     | 61/130 [00:25<00:29,  2.35it/s]"
          ]
        },
        {
          "name": "stdout",
          "output_type": "stream",
          "text": [
            "Error loading /content/drive/MyDrive/archive (14)/Dataset_BUSI_with_GT/benign/benign (96).png: Unexpected type <class 'dict'>\n",
            "Error loading /content/drive/MyDrive/archive (14)/Dataset_BUSI_with_GT/malignant/malignant (5).png: Unexpected type <class 'dict'>\n",
            "Error loading /content/drive/MyDrive/archive (14)/Dataset_BUSI_with_GT/malignant/malignant (74).png: img should be PIL Image. Got <class 'dict'>\n"
          ]
        },
        {
          "name": "stderr",
          "output_type": "stream",
          "text": [
            "\rEpoch 3/5:  48%|████▊     | 62/130 [00:26<00:31,  2.18it/s]"
          ]
        },
        {
          "name": "stdout",
          "output_type": "stream",
          "text": [
            "Error loading /content/drive/MyDrive/archive (14)/Dataset_BUSI_with_GT/benign/benign (79).png: Unexpected type <class 'dict'>\n",
            "Error loading /content/drive/MyDrive/archive (14)/Dataset_BUSI_with_GT/malignant/malignant (44).png: Unexpected type <class 'dict'>\n",
            "Error loading /content/drive/MyDrive/archive (14)/Dataset_BUSI_with_GT/benign/benign (105).png: img should be PIL Image. Got <class 'dict'>\n",
            "Error loading /content/drive/MyDrive/archive (14)/Dataset_BUSI_with_GT/benign/benign (208).png: img should be PIL Image. Got <class 'dict'>\n"
          ]
        },
        {
          "name": "stderr",
          "output_type": "stream",
          "text": [
            "\rEpoch 3/5:  48%|████▊     | 63/130 [00:26<00:32,  2.05it/s]"
          ]
        },
        {
          "name": "stdout",
          "output_type": "stream",
          "text": [
            "Error loading /content/drive/MyDrive/archive (14)/Dataset_BUSI_with_GT/benign/benign (258).png: Unexpected type <class 'dict'>\n",
            "Error loading /content/drive/MyDrive/archive (14)/Dataset_BUSI_with_GT/benign/benign (117).png: img should be PIL Image. Got <class 'dict'>\n",
            "Error loading /content/drive/MyDrive/archive (14)/Dataset_BUSI_with_GT/malignant/malignant (56).png: Unexpected type <class 'dict'>\n",
            "Error loading /content/drive/MyDrive/archive (14)/Dataset_BUSI_with_GT/benign/benign (149).png: img should be PIL Image. Got <class 'dict'>\n"
          ]
        },
        {
          "name": "stderr",
          "output_type": "stream",
          "text": [
            "\rEpoch 3/5:  49%|████▉     | 64/130 [00:27<00:34,  1.94it/s]"
          ]
        },
        {
          "name": "stdout",
          "output_type": "stream",
          "text": [
            "Error loading /content/drive/MyDrive/archive (14)/Dataset_BUSI_with_GT/benign/benign (115).png: Unexpected type <class 'dict'>\n",
            "Error loading /content/drive/MyDrive/archive (14)/Dataset_BUSI_with_GT/benign/benign (44).png: Unexpected type <class 'dict'>\n",
            "Error loading /content/drive/MyDrive/archive (14)/Dataset_BUSI_with_GT/benign/benign (388).png: Unexpected type <class 'dict'>\n",
            "Error loading /content/drive/MyDrive/archive (14)/Dataset_BUSI_with_GT/malignant/malignant (132).png: img should be PIL Image. Got <class 'dict'>\n"
          ]
        },
        {
          "name": "stderr",
          "output_type": "stream",
          "text": [
            "\rEpoch 3/5:  50%|█████     | 65/130 [00:27<00:34,  1.88it/s]"
          ]
        },
        {
          "name": "stdout",
          "output_type": "stream",
          "text": [
            "Error loading /content/drive/MyDrive/archive (14)/Dataset_BUSI_with_GT/benign/benign (309).png: img should be PIL Image. Got <class 'dict'>\n",
            "Error loading /content/drive/MyDrive/archive (14)/Dataset_BUSI_with_GT/benign/benign (154).png: Unexpected type <class 'dict'>\n",
            "Error loading /content/drive/MyDrive/archive (14)/Dataset_BUSI_with_GT/malignant/malignant (121).png: img should be PIL Image. Got <class 'dict'>\n",
            "Error loading /content/drive/MyDrive/archive (14)/Dataset_BUSI_with_GT/malignant/malignant (178).png: img should be PIL Image. Got <class 'dict'>\n"
          ]
        },
        {
          "name": "stderr",
          "output_type": "stream",
          "text": [
            "\rEpoch 3/5:  51%|█████     | 66/130 [00:28<00:33,  1.90it/s]"
          ]
        },
        {
          "name": "stdout",
          "output_type": "stream",
          "text": [
            "Error loading /content/drive/MyDrive/archive (14)/Dataset_BUSI_with_GT/benign/benign (326).png: img should be PIL Image. Got <class 'dict'>\n",
            "Error loading /content/drive/MyDrive/archive (14)/Dataset_BUSI_with_GT/benign/benign (212).png: Unexpected type <class 'dict'>\n",
            "Error loading /content/drive/MyDrive/archive (14)/Dataset_BUSI_with_GT/benign/benign (321).png: img should be PIL Image. Got <class 'dict'>\n",
            "Error loading /content/drive/MyDrive/archive (14)/Dataset_BUSI_with_GT/benign/benign (152).png: Unexpected type <class 'dict'>\n",
            "Error loading /content/drive/MyDrive/archive (14)/Dataset_BUSI_with_GT/benign/benign (248).png: img should be PIL Image. Got <class 'dict'>\n"
          ]
        },
        {
          "name": "stderr",
          "output_type": "stream",
          "text": [
            "\rEpoch 3/5:  52%|█████▏    | 67/130 [00:28<00:30,  2.09it/s]"
          ]
        },
        {
          "name": "stdout",
          "output_type": "stream",
          "text": [
            "Error loading /content/drive/MyDrive/archive (14)/Dataset_BUSI_with_GT/malignant/malignant (99).png: Unexpected type <class 'dict'>\n",
            "Error loading /content/drive/MyDrive/archive (14)/Dataset_BUSI_with_GT/benign/benign (161).png: Unexpected type <class 'dict'>\n",
            "Error loading /content/drive/MyDrive/archive (14)/Dataset_BUSI_with_GT/benign/benign (338).png: img should be PIL Image. Got <class 'dict'>\n",
            "Error loading /content/drive/MyDrive/archive (14)/Dataset_BUSI_with_GT/malignant/malignant (119).png: Unexpected type <class 'dict'>\n"
          ]
        },
        {
          "name": "stderr",
          "output_type": "stream",
          "text": [
            "\rEpoch 3/5:  52%|█████▏    | 68/130 [00:29<00:27,  2.23it/s]"
          ]
        },
        {
          "name": "stdout",
          "output_type": "stream",
          "text": [
            "Error loading /content/drive/MyDrive/archive (14)/Dataset_BUSI_with_GT/benign/benign (16).png: img should be PIL Image. Got <class 'dict'>\n",
            "Error loading /content/drive/MyDrive/archive (14)/Dataset_BUSI_with_GT/benign/benign (91).png: Unexpected type <class 'dict'>\n",
            "Error loading /content/drive/MyDrive/archive (14)/Dataset_BUSI_with_GT/malignant/malignant (179).png: Unexpected type <class 'dict'>\n"
          ]
        },
        {
          "name": "stderr",
          "output_type": "stream",
          "text": [
            "\rEpoch 3/5:  53%|█████▎    | 69/130 [00:29<00:27,  2.23it/s]"
          ]
        },
        {
          "name": "stdout",
          "output_type": "stream",
          "text": [
            "Error loading /content/drive/MyDrive/archive (14)/Dataset_BUSI_with_GT/benign/benign (76).png: img should be PIL Image. Got <class 'dict'>\n",
            "Error loading /content/drive/MyDrive/archive (14)/Dataset_BUSI_with_GT/malignant/malignant (24).png: Unexpected type <class 'dict'>\n",
            "Error loading /content/drive/MyDrive/archive (14)/Dataset_BUSI_with_GT/benign/benign (381).png: img should be PIL Image. Got <class 'dict'>\n",
            "Error loading /content/drive/MyDrive/archive (14)/Dataset_BUSI_with_GT/malignant/malignant (77).png: Unexpected type <class 'dict'>\n",
            "Error loading /content/drive/MyDrive/archive (14)/Dataset_BUSI_with_GT/benign/benign (17).png: Unexpected type <class 'dict'>\n"
          ]
        },
        {
          "name": "stderr",
          "output_type": "stream",
          "text": [
            "\rEpoch 3/5:  54%|█████▍    | 70/130 [00:29<00:26,  2.26it/s]"
          ]
        },
        {
          "name": "stdout",
          "output_type": "stream",
          "text": [
            "Error loading /content/drive/MyDrive/archive (14)/Dataset_BUSI_with_GT/benign/benign (235).png: img should be PIL Image. Got <class 'dict'>\n",
            "Error loading /content/drive/MyDrive/archive (14)/Dataset_BUSI_with_GT/benign/benign (15).png: Unexpected type <class 'dict'>\n",
            "Error loading /content/drive/MyDrive/archive (14)/Dataset_BUSI_with_GT/malignant/malignant (144).png: img should be PIL Image. Got <class 'dict'>\n",
            "Error loading /content/drive/MyDrive/archive (14)/Dataset_BUSI_with_GT/malignant/malignant (92).png: img should be PIL Image. Got <class 'dict'>\n"
          ]
        },
        {
          "name": "stderr",
          "output_type": "stream",
          "text": [
            "\rEpoch 3/5:  55%|█████▍    | 71/130 [00:30<00:25,  2.32it/s]"
          ]
        },
        {
          "name": "stdout",
          "output_type": "stream",
          "text": [
            "Error loading /content/drive/MyDrive/archive (14)/Dataset_BUSI_with_GT/benign/benign (243).png: Unexpected type <class 'dict'>\n",
            "Error loading /content/drive/MyDrive/archive (14)/Dataset_BUSI_with_GT/malignant/malignant (202).png: img should be PIL Image. Got <class 'dict'>\n",
            "Error loading /content/drive/MyDrive/archive (14)/Dataset_BUSI_with_GT/malignant/malignant (160).png: img should be PIL Image. Got <class 'dict'>\n",
            "Error loading /content/drive/MyDrive/archive (14)/Dataset_BUSI_with_GT/benign/benign (278).png: Unexpected type <class 'dict'>\n"
          ]
        },
        {
          "name": "stderr",
          "output_type": "stream",
          "text": [
            "\rEpoch 3/5:  55%|█████▌    | 72/130 [00:30<00:24,  2.39it/s]"
          ]
        },
        {
          "name": "stdout",
          "output_type": "stream",
          "text": [
            "Error loading /content/drive/MyDrive/archive (14)/Dataset_BUSI_with_GT/benign/benign (112).png: Unexpected type <class 'dict'>\n",
            "Error loading /content/drive/MyDrive/archive (14)/Dataset_BUSI_with_GT/benign/benign (429).png: Unexpected type <class 'dict'>\n",
            "Error loading /content/drive/MyDrive/archive (14)/Dataset_BUSI_with_GT/benign/benign (340).png: Unexpected type <class 'dict'>\n",
            "Error loading /content/drive/MyDrive/archive (14)/Dataset_BUSI_with_GT/benign/benign (300).png: img should be PIL Image. Got <class 'dict'>\n"
          ]
        },
        {
          "name": "stderr",
          "output_type": "stream",
          "text": [
            "\rEpoch 3/5:  56%|█████▌    | 73/130 [00:31<00:23,  2.44it/s]"
          ]
        },
        {
          "name": "stdout",
          "output_type": "stream",
          "text": [
            "Error loading /content/drive/MyDrive/archive (14)/Dataset_BUSI_with_GT/malignant/malignant (53).png: img should be PIL Image. Got <class 'dict'>\n",
            "Error loading /content/drive/MyDrive/archive (14)/Dataset_BUSI_with_GT/benign/benign (197).png: Unexpected type <class 'dict'>\n",
            "Error loading /content/drive/MyDrive/archive (14)/Dataset_BUSI_with_GT/malignant/malignant (36).png: img should be PIL Image. Got <class 'dict'>\n",
            "Error loading /content/drive/MyDrive/archive (14)/Dataset_BUSI_with_GT/benign/benign (412).png: img should be PIL Image. Got <class 'dict'>\n"
          ]
        },
        {
          "name": "stderr",
          "output_type": "stream",
          "text": [
            "\rEpoch 3/5:  57%|█████▋    | 74/130 [00:31<00:22,  2.45it/s]"
          ]
        },
        {
          "name": "stdout",
          "output_type": "stream",
          "text": [
            "Error loading /content/drive/MyDrive/archive (14)/Dataset_BUSI_with_GT/benign/benign (392).png: img should be PIL Image. Got <class 'dict'>\n",
            "Error loading /content/drive/MyDrive/archive (14)/Dataset_BUSI_with_GT/benign/benign (19).png: Unexpected type <class 'dict'>\n",
            "Error loading /content/drive/MyDrive/archive (14)/Dataset_BUSI_with_GT/benign/benign (30).png: Unexpected type <class 'dict'>\n",
            "Error loading /content/drive/MyDrive/archive (14)/Dataset_BUSI_with_GT/malignant/malignant (150).png: img should be PIL Image. Got <class 'dict'>\n"
          ]
        },
        {
          "name": "stderr",
          "output_type": "stream",
          "text": [
            "\rEpoch 3/5:  58%|█████▊    | 75/130 [00:31<00:22,  2.47it/s]"
          ]
        },
        {
          "name": "stdout",
          "output_type": "stream",
          "text": [
            "Error loading /content/drive/MyDrive/archive (14)/Dataset_BUSI_with_GT/benign/benign (173).png: img should be PIL Image. Got <class 'dict'>\n",
            "Error loading /content/drive/MyDrive/archive (14)/Dataset_BUSI_with_GT/benign/benign (287).png: img should be PIL Image. Got <class 'dict'>\n",
            "Error loading /content/drive/MyDrive/archive (14)/Dataset_BUSI_with_GT/benign/benign (121).png: Unexpected type <class 'dict'>\n",
            "Error loading /content/drive/MyDrive/archive (14)/Dataset_BUSI_with_GT/benign/benign (398).png: img should be PIL Image. Got <class 'dict'>\n"
          ]
        },
        {
          "name": "stderr",
          "output_type": "stream",
          "text": [
            "\rEpoch 3/5:  58%|█████▊    | 76/130 [00:32<00:22,  2.45it/s]"
          ]
        },
        {
          "name": "stdout",
          "output_type": "stream",
          "text": [
            "Error loading /content/drive/MyDrive/archive (14)/Dataset_BUSI_with_GT/benign/benign (301).png: Unexpected type <class 'dict'>\n",
            "Error loading /content/drive/MyDrive/archive (14)/Dataset_BUSI_with_GT/benign/benign (226).png: Unexpected type <class 'dict'>\n",
            "Error loading /content/drive/MyDrive/archive (14)/Dataset_BUSI_with_GT/malignant/malignant (188).png: Unexpected type <class 'dict'>\n",
            "Error loading /content/drive/MyDrive/archive (14)/Dataset_BUSI_with_GT/malignant/malignant (196).png: Unexpected type <class 'dict'>\n"
          ]
        },
        {
          "name": "stderr",
          "output_type": "stream",
          "text": [
            "\rEpoch 3/5:  59%|█████▉    | 77/130 [00:32<00:21,  2.50it/s]"
          ]
        },
        {
          "name": "stdout",
          "output_type": "stream",
          "text": [
            "Error loading /content/drive/MyDrive/archive (14)/Dataset_BUSI_with_GT/benign/benign (217).png: img should be PIL Image. Got <class 'dict'>\n",
            "Error loading /content/drive/MyDrive/archive (14)/Dataset_BUSI_with_GT/malignant/malignant (105).png: Unexpected type <class 'dict'>\n",
            "Error loading /content/drive/MyDrive/archive (14)/Dataset_BUSI_with_GT/benign/benign (205).png: img should be PIL Image. Got <class 'dict'>\n",
            "Error loading /content/drive/MyDrive/archive (14)/Dataset_BUSI_with_GT/malignant/malignant (167).png: Unexpected type <class 'dict'>\n"
          ]
        },
        {
          "name": "stderr",
          "output_type": "stream",
          "text": [
            "\rEpoch 3/5:  60%|██████    | 78/130 [00:33<00:20,  2.57it/s]"
          ]
        },
        {
          "name": "stdout",
          "output_type": "stream",
          "text": [
            "Error loading /content/drive/MyDrive/archive (14)/Dataset_BUSI_with_GT/malignant/malignant (199).png: img should be PIL Image. Got <class 'dict'>\n",
            "Error loading /content/drive/MyDrive/archive (14)/Dataset_BUSI_with_GT/benign/benign (260).png: Unexpected type <class 'dict'>\n",
            "Error loading /content/drive/MyDrive/archive (14)/Dataset_BUSI_with_GT/malignant/malignant (123).png: img should be PIL Image. Got <class 'dict'>\n",
            "Error loading /content/drive/MyDrive/archive (14)/Dataset_BUSI_with_GT/benign/benign (329).png: Unexpected type <class 'dict'>\n"
          ]
        },
        {
          "name": "stderr",
          "output_type": "stream",
          "text": [
            "\rEpoch 3/5:  61%|██████    | 79/130 [00:33<00:19,  2.61it/s]"
          ]
        },
        {
          "name": "stdout",
          "output_type": "stream",
          "text": [
            "Error loading /content/drive/MyDrive/archive (14)/Dataset_BUSI_with_GT/benign/benign (100).png: img should be PIL Image. Got <class 'dict'>\n",
            "Error loading /content/drive/MyDrive/archive (14)/Dataset_BUSI_with_GT/benign/benign (400).png: img should be PIL Image. Got <class 'dict'>\n",
            "Error loading /content/drive/MyDrive/archive (14)/Dataset_BUSI_with_GT/benign/benign (252).png: Unexpected type <class 'dict'>\n",
            "Error loading /content/drive/MyDrive/archive (14)/Dataset_BUSI_with_GT/malignant/malignant (166).png: img should be PIL Image. Got <class 'dict'>\n"
          ]
        },
        {
          "name": "stderr",
          "output_type": "stream",
          "text": [
            "\rEpoch 3/5:  62%|██████▏   | 80/130 [00:33<00:18,  2.64it/s]"
          ]
        },
        {
          "name": "stdout",
          "output_type": "stream",
          "text": [
            "Error loading /content/drive/MyDrive/archive (14)/Dataset_BUSI_with_GT/benign/benign (348).png: Unexpected type <class 'dict'>\n",
            "Error loading /content/drive/MyDrive/archive (14)/Dataset_BUSI_with_GT/malignant/malignant (129).png: img should be PIL Image. Got <class 'dict'>\n",
            "Error loading /content/drive/MyDrive/archive (14)/Dataset_BUSI_with_GT/benign/benign (337).png: img should be PIL Image. Got <class 'dict'>\n",
            "Error loading /content/drive/MyDrive/archive (14)/Dataset_BUSI_with_GT/benign/benign (174).png: Unexpected type <class 'dict'>\n"
          ]
        },
        {
          "name": "stderr",
          "output_type": "stream",
          "text": [
            "\rEpoch 3/5:  62%|██████▏   | 81/130 [00:34<00:19,  2.57it/s]"
          ]
        },
        {
          "name": "stdout",
          "output_type": "stream",
          "text": [
            "Error loading /content/drive/MyDrive/archive (14)/Dataset_BUSI_with_GT/malignant/malignant (113).png: img should be PIL Image. Got <class 'dict'>\n",
            "Error loading /content/drive/MyDrive/archive (14)/Dataset_BUSI_with_GT/benign/benign (352).png: img should be PIL Image. Got <class 'dict'>\n",
            "Error loading /content/drive/MyDrive/archive (14)/Dataset_BUSI_with_GT/benign/benign (37).png: img should be PIL Image. Got <class 'dict'>\n",
            "Error loading /content/drive/MyDrive/archive (14)/Dataset_BUSI_with_GT/benign/benign (188).png: Unexpected type <class 'dict'>\n"
          ]
        },
        {
          "name": "stderr",
          "output_type": "stream",
          "text": [
            "\rEpoch 3/5:  63%|██████▎   | 82/130 [00:34<00:18,  2.56it/s]"
          ]
        },
        {
          "name": "stdout",
          "output_type": "stream",
          "text": [
            "Error loading /content/drive/MyDrive/archive (14)/Dataset_BUSI_with_GT/malignant/malignant (66).png: Unexpected type <class 'dict'>\n",
            "Error loading /content/drive/MyDrive/archive (14)/Dataset_BUSI_with_GT/benign/benign (14).png: Unexpected type <class 'dict'>\n",
            "Error loading /content/drive/MyDrive/archive (14)/Dataset_BUSI_with_GT/malignant/malignant (177).png: img should be PIL Image. Got <class 'dict'>\n",
            "Error loading /content/drive/MyDrive/archive (14)/Dataset_BUSI_with_GT/benign/benign (143).png: img should be PIL Image. Got <class 'dict'>\n"
          ]
        },
        {
          "name": "stderr",
          "output_type": "stream",
          "text": [
            "\rEpoch 3/5:  64%|██████▍   | 83/130 [00:35<00:18,  2.51it/s]"
          ]
        },
        {
          "name": "stdout",
          "output_type": "stream",
          "text": [
            "Error loading /content/drive/MyDrive/archive (14)/Dataset_BUSI_with_GT/malignant/malignant (155).png: img should be PIL Image. Got <class 'dict'>\n",
            "Error loading /content/drive/MyDrive/archive (14)/Dataset_BUSI_with_GT/malignant/malignant (96).png: Unexpected type <class 'dict'>\n",
            "Error loading /content/drive/MyDrive/archive (14)/Dataset_BUSI_with_GT/benign/benign (306).png: Unexpected type <class 'dict'>\n",
            "Error loading /content/drive/MyDrive/archive (14)/Dataset_BUSI_with_GT/benign/benign (236).png: Unexpected type <class 'dict'>\n"
          ]
        },
        {
          "name": "stderr",
          "output_type": "stream",
          "text": [
            "\rEpoch 3/5:  65%|██████▍   | 84/130 [00:35<00:17,  2.56it/s]"
          ]
        },
        {
          "name": "stdout",
          "output_type": "stream",
          "text": [
            "Error loading /content/drive/MyDrive/archive (14)/Dataset_BUSI_with_GT/malignant/malignant (88).png: Unexpected type <class 'dict'>\n",
            "Error loading /content/drive/MyDrive/archive (14)/Dataset_BUSI_with_GT/malignant/malignant (205).png: img should be PIL Image. Got <class 'dict'>\n",
            "Error loading /content/drive/MyDrive/archive (14)/Dataset_BUSI_with_GT/malignant/malignant (168).png: img should be PIL Image. Got <class 'dict'>\n",
            "Error loading /content/drive/MyDrive/archive (14)/Dataset_BUSI_with_GT/benign/benign (66).png: Unexpected type <class 'dict'>\n"
          ]
        },
        {
          "name": "stderr",
          "output_type": "stream",
          "text": [
            "\rEpoch 3/5:  65%|██████▌   | 85/130 [00:35<00:17,  2.52it/s]"
          ]
        },
        {
          "name": "stdout",
          "output_type": "stream",
          "text": [
            "Error loading /content/drive/MyDrive/archive (14)/Dataset_BUSI_with_GT/benign/benign (232).png: Unexpected type <class 'dict'>\n",
            "Error loading /content/drive/MyDrive/archive (14)/Dataset_BUSI_with_GT/benign/benign (357).png: Unexpected type <class 'dict'>\n",
            "Error loading /content/drive/MyDrive/archive (14)/Dataset_BUSI_with_GT/benign/benign (107).png: img should be PIL Image. Got <class 'dict'>\n",
            "Error loading /content/drive/MyDrive/archive (14)/Dataset_BUSI_with_GT/malignant/malignant (195).png: Unexpected type <class 'dict'>\n"
          ]
        },
        {
          "name": "stderr",
          "output_type": "stream",
          "text": [
            "\rEpoch 3/5:  66%|██████▌   | 86/130 [00:36<00:17,  2.52it/s]"
          ]
        },
        {
          "name": "stdout",
          "output_type": "stream",
          "text": [
            "Error loading /content/drive/MyDrive/archive (14)/Dataset_BUSI_with_GT/benign/benign (362).png: Unexpected type <class 'dict'>\n",
            "Error loading /content/drive/MyDrive/archive (14)/Dataset_BUSI_with_GT/malignant/malignant (75).png: Unexpected type <class 'dict'>\n",
            "Error loading /content/drive/MyDrive/archive (14)/Dataset_BUSI_with_GT/malignant/malignant (3).png: Unexpected type <class 'dict'>\n",
            "Error loading /content/drive/MyDrive/archive (14)/Dataset_BUSI_with_GT/benign/benign (245).png: img should be PIL Image. Got <class 'dict'>\n"
          ]
        },
        {
          "name": "stderr",
          "output_type": "stream",
          "text": [
            "\rEpoch 3/5:  67%|██████▋   | 87/130 [00:36<00:16,  2.59it/s]"
          ]
        },
        {
          "name": "stdout",
          "output_type": "stream",
          "text": [
            "Error loading /content/drive/MyDrive/archive (14)/Dataset_BUSI_with_GT/malignant/malignant (23).png: Unexpected type <class 'dict'>\n",
            "Error loading /content/drive/MyDrive/archive (14)/Dataset_BUSI_with_GT/malignant/malignant (91).png: Unexpected type <class 'dict'>\n",
            "Error loading /content/drive/MyDrive/archive (14)/Dataset_BUSI_with_GT/malignant/malignant (64).png: Unexpected type <class 'dict'>\n",
            "Error loading /content/drive/MyDrive/archive (14)/Dataset_BUSI_with_GT/benign/benign (223).png: img should be PIL Image. Got <class 'dict'>\n"
          ]
        },
        {
          "name": "stderr",
          "output_type": "stream",
          "text": [
            "\rEpoch 3/5:  68%|██████▊   | 88/130 [00:36<00:16,  2.59it/s]"
          ]
        },
        {
          "name": "stdout",
          "output_type": "stream",
          "text": [
            "Error loading /content/drive/MyDrive/archive (14)/Dataset_BUSI_with_GT/benign/benign (140).png: Unexpected type <class 'dict'>\n",
            "Error loading /content/drive/MyDrive/archive (14)/Dataset_BUSI_with_GT/malignant/malignant (148).png: Unexpected type <class 'dict'>\n",
            "Error loading /content/drive/MyDrive/archive (14)/Dataset_BUSI_with_GT/malignant/malignant (128).png: Unexpected type <class 'dict'>\n",
            "Error loading /content/drive/MyDrive/archive (14)/Dataset_BUSI_with_GT/malignant/malignant (60).png: Unexpected type <class 'dict'>\n"
          ]
        },
        {
          "name": "stderr",
          "output_type": "stream",
          "text": [
            "\rEpoch 3/5:  68%|██████▊   | 89/130 [00:37<00:15,  2.58it/s]"
          ]
        },
        {
          "name": "stdout",
          "output_type": "stream",
          "text": [
            "Error loading /content/drive/MyDrive/archive (14)/Dataset_BUSI_with_GT/benign/benign (220).png: img should be PIL Image. Got <class 'dict'>\n",
            "Error loading /content/drive/MyDrive/archive (14)/Dataset_BUSI_with_GT/malignant/malignant (200).png: img should be PIL Image. Got <class 'dict'>\n",
            "Error loading /content/drive/MyDrive/archive (14)/Dataset_BUSI_with_GT/benign/benign (242).png: Unexpected type <class 'dict'>\n",
            "Error loading /content/drive/MyDrive/archive (14)/Dataset_BUSI_with_GT/benign/benign (64).png: img should be PIL Image. Got <class 'dict'>\n"
          ]
        },
        {
          "name": "stderr",
          "output_type": "stream",
          "text": [
            "\rEpoch 3/5:  69%|██████▉   | 90/130 [00:37<00:15,  2.63it/s]"
          ]
        },
        {
          "name": "stdout",
          "output_type": "stream",
          "text": [
            "Error loading /content/drive/MyDrive/archive (14)/Dataset_BUSI_with_GT/benign/benign (271).png: img should be PIL Image. Got <class 'dict'>\n",
            "Error loading /content/drive/MyDrive/archive (14)/Dataset_BUSI_with_GT/malignant/malignant (193).png: img should be PIL Image. Got <class 'dict'>\n",
            "Error loading /content/drive/MyDrive/archive (14)/Dataset_BUSI_with_GT/benign/benign (378).png: img should be PIL Image. Got <class 'dict'>\n",
            "Error loading /content/drive/MyDrive/archive (14)/Dataset_BUSI_with_GT/malignant/malignant (111).png: Unexpected type <class 'dict'>\n"
          ]
        },
        {
          "name": "stderr",
          "output_type": "stream",
          "text": [
            "\rEpoch 3/5:  70%|███████   | 91/130 [00:38<00:14,  2.65it/s]"
          ]
        },
        {
          "name": "stdout",
          "output_type": "stream",
          "text": [
            "Error loading /content/drive/MyDrive/archive (14)/Dataset_BUSI_with_GT/benign/benign (417).png: img should be PIL Image. Got <class 'dict'>\n",
            "Error loading /content/drive/MyDrive/archive (14)/Dataset_BUSI_with_GT/malignant/malignant (138).png: img should be PIL Image. Got <class 'dict'>\n",
            "Error loading /content/drive/MyDrive/archive (14)/Dataset_BUSI_with_GT/benign/benign (28).png: img should be PIL Image. Got <class 'dict'>\n"
          ]
        },
        {
          "name": "stderr",
          "output_type": "stream",
          "text": [
            "\rEpoch 3/5:  71%|███████   | 92/130 [00:38<00:15,  2.45it/s]"
          ]
        },
        {
          "name": "stdout",
          "output_type": "stream",
          "text": [
            "Error loading /content/drive/MyDrive/archive (14)/Dataset_BUSI_with_GT/benign/benign (272).png: Unexpected type <class 'dict'>\n",
            "Error loading /content/drive/MyDrive/archive (14)/Dataset_BUSI_with_GT/malignant/malignant (174).png: img should be PIL Image. Got <class 'dict'>\n",
            "Error loading /content/drive/MyDrive/archive (14)/Dataset_BUSI_with_GT/benign/benign (88).png: Unexpected type <class 'dict'>\n",
            "Error loading /content/drive/MyDrive/archive (14)/Dataset_BUSI_with_GT/benign/benign (207).png: img should be PIL Image. Got <class 'dict'>\n",
            "Error loading /content/drive/MyDrive/archive (14)/Dataset_BUSI_with_GT/benign/benign (368).png: img should be PIL Image. Got <class 'dict'>\n"
          ]
        },
        {
          "name": "stderr",
          "output_type": "stream",
          "text": [
            "\rEpoch 3/5:  72%|███████▏  | 93/130 [00:39<00:17,  2.16it/s]"
          ]
        },
        {
          "name": "stdout",
          "output_type": "stream",
          "text": [
            "Error loading /content/drive/MyDrive/archive (14)/Dataset_BUSI_with_GT/benign/benign (183).png: img should be PIL Image. Got <class 'dict'>\n",
            "Error loading /content/drive/MyDrive/archive (14)/Dataset_BUSI_with_GT/malignant/malignant (12).png: img should be PIL Image. Got <class 'dict'>\n",
            "Error loading /content/drive/MyDrive/archive (14)/Dataset_BUSI_with_GT/benign/benign (90).png: img should be PIL Image. Got <class 'dict'>\n"
          ]
        },
        {
          "name": "stderr",
          "output_type": "stream",
          "text": [
            "\rEpoch 3/5:  72%|███████▏  | 94/130 [00:39<00:17,  2.03it/s]"
          ]
        },
        {
          "name": "stdout",
          "output_type": "stream",
          "text": [
            "Error loading /content/drive/MyDrive/archive (14)/Dataset_BUSI_with_GT/malignant/malignant (87).png: Unexpected type <class 'dict'>\n",
            "Error loading /content/drive/MyDrive/archive (14)/Dataset_BUSI_with_GT/benign/benign (164).png: img should be PIL Image. Got <class 'dict'>\n",
            "Error loading /content/drive/MyDrive/archive (14)/Dataset_BUSI_with_GT/malignant/malignant (149).png: img should be PIL Image. Got <class 'dict'>\n",
            "Error loading /content/drive/MyDrive/archive (14)/Dataset_BUSI_with_GT/malignant/malignant (102).png: img should be PIL Image. Got <class 'dict'>\n",
            "Error loading /content/drive/MyDrive/archive (14)/Dataset_BUSI_with_GT/benign/benign (192).png: Unexpected type <class 'dict'>\n"
          ]
        },
        {
          "name": "stderr",
          "output_type": "stream",
          "text": [
            "\rEpoch 3/5:  73%|███████▎  | 95/130 [00:40<00:17,  1.95it/s]"
          ]
        },
        {
          "name": "stdout",
          "output_type": "stream",
          "text": [
            "Error loading /content/drive/MyDrive/archive (14)/Dataset_BUSI_with_GT/malignant/malignant (18).png: Unexpected type <class 'dict'>\n",
            "Error loading /content/drive/MyDrive/archive (14)/Dataset_BUSI_with_GT/malignant/malignant (143).png: img should be PIL Image. Got <class 'dict'>\n",
            "Error loading /content/drive/MyDrive/archive (14)/Dataset_BUSI_with_GT/benign/benign (282).png: Unexpected type <class 'dict'>\n"
          ]
        },
        {
          "name": "stderr",
          "output_type": "stream",
          "text": [
            "\rEpoch 3/5:  74%|███████▍  | 96/130 [00:40<00:17,  1.97it/s]"
          ]
        },
        {
          "name": "stdout",
          "output_type": "stream",
          "text": [
            "Error loading /content/drive/MyDrive/archive (14)/Dataset_BUSI_with_GT/benign/benign (178).png: img should be PIL Image. Got <class 'dict'>\n",
            "Error loading /content/drive/MyDrive/archive (14)/Dataset_BUSI_with_GT/benign/benign (21).png: img should be PIL Image. Got <class 'dict'>\n",
            "Error loading /content/drive/MyDrive/archive (14)/Dataset_BUSI_with_GT/benign/benign (24).png: Unexpected type <class 'dict'>\n",
            "Error loading /content/drive/MyDrive/archive (14)/Dataset_BUSI_with_GT/malignant/malignant (20).png: img should be PIL Image. Got <class 'dict'>\n"
          ]
        },
        {
          "name": "stderr",
          "output_type": "stream",
          "text": [
            "\rEpoch 3/5:  75%|███████▍  | 97/130 [00:41<00:16,  1.98it/s]"
          ]
        },
        {
          "name": "stdout",
          "output_type": "stream",
          "text": [
            "Error loading /content/drive/MyDrive/archive (14)/Dataset_BUSI_with_GT/benign/benign (331).png: img should be PIL Image. Got <class 'dict'>\n",
            "Error loading /content/drive/MyDrive/archive (14)/Dataset_BUSI_with_GT/benign/benign (47).png: Unexpected type <class 'dict'>\n",
            "Error loading /content/drive/MyDrive/archive (14)/Dataset_BUSI_with_GT/benign/benign (89).png: img should be PIL Image. Got <class 'dict'>\n",
            "Error loading /content/drive/MyDrive/archive (14)/Dataset_BUSI_with_GT/benign/benign (415).png: img should be PIL Image. Got <class 'dict'>\n"
          ]
        },
        {
          "name": "stderr",
          "output_type": "stream",
          "text": [
            "\rEpoch 3/5:  75%|███████▌  | 98/130 [00:41<00:16,  1.95it/s]"
          ]
        },
        {
          "name": "stdout",
          "output_type": "stream",
          "text": [
            "Error loading /content/drive/MyDrive/archive (14)/Dataset_BUSI_with_GT/benign/benign (77).png: img should be PIL Image. Got <class 'dict'>\n",
            "Error loading /content/drive/MyDrive/archive (14)/Dataset_BUSI_with_GT/benign/benign (147).png: img should be PIL Image. Got <class 'dict'>\n",
            "Error loading /content/drive/MyDrive/archive (14)/Dataset_BUSI_with_GT/benign/benign (146).png: img should be PIL Image. Got <class 'dict'>\n",
            "Error loading /content/drive/MyDrive/archive (14)/Dataset_BUSI_with_GT/malignant/malignant (65).png: Unexpected type <class 'dict'>\n",
            "Error loading /content/drive/MyDrive/archive (14)/Dataset_BUSI_with_GT/benign/benign (160).png: Unexpected type <class 'dict'>\n"
          ]
        },
        {
          "name": "stderr",
          "output_type": "stream",
          "text": [
            "\rEpoch 3/5:  76%|███████▌  | 99/130 [00:42<00:15,  2.06it/s]"
          ]
        },
        {
          "name": "stdout",
          "output_type": "stream",
          "text": [
            "Error loading /content/drive/MyDrive/archive (14)/Dataset_BUSI_with_GT/malignant/malignant (70).png: Unexpected type <class 'dict'>\n",
            "Error loading /content/drive/MyDrive/archive (14)/Dataset_BUSI_with_GT/benign/benign (185).png: img should be PIL Image. Got <class 'dict'>\n",
            "Error loading /content/drive/MyDrive/archive (14)/Dataset_BUSI_with_GT/benign/benign (363).png: Unexpected type <class 'dict'>\n",
            "Error loading /content/drive/MyDrive/archive (14)/Dataset_BUSI_with_GT/benign/benign (323).png: img should be PIL Image. Got <class 'dict'>\n"
          ]
        },
        {
          "name": "stderr",
          "output_type": "stream",
          "text": [
            "\rEpoch 3/5:  77%|███████▋  | 100/130 [00:42<00:13,  2.18it/s]"
          ]
        },
        {
          "name": "stdout",
          "output_type": "stream",
          "text": [
            "Error loading /content/drive/MyDrive/archive (14)/Dataset_BUSI_with_GT/benign/benign (39).png: Unexpected type <class 'dict'>\n",
            "Error loading /content/drive/MyDrive/archive (14)/Dataset_BUSI_with_GT/benign/benign (198).png: Unexpected type <class 'dict'>\n",
            "Error loading /content/drive/MyDrive/archive (14)/Dataset_BUSI_with_GT/benign/benign (419).png: Unexpected type <class 'dict'>\n",
            "Error loading /content/drive/MyDrive/archive (14)/Dataset_BUSI_with_GT/malignant/malignant (51).png: img should be PIL Image. Got <class 'dict'>\n"
          ]
        },
        {
          "name": "stderr",
          "output_type": "stream",
          "text": [
            "\rEpoch 3/5:  78%|███████▊  | 101/130 [00:43<00:12,  2.24it/s]"
          ]
        },
        {
          "name": "stdout",
          "output_type": "stream",
          "text": [
            "Error loading /content/drive/MyDrive/archive (14)/Dataset_BUSI_with_GT/benign/benign (360).png: Unexpected type <class 'dict'>\n",
            "Error loading /content/drive/MyDrive/archive (14)/Dataset_BUSI_with_GT/malignant/malignant (55).png: Unexpected type <class 'dict'>\n",
            "Error loading /content/drive/MyDrive/archive (14)/Dataset_BUSI_with_GT/malignant/malignant (115).png: Unexpected type <class 'dict'>\n",
            "Error loading /content/drive/MyDrive/archive (14)/Dataset_BUSI_with_GT/benign/benign (316).png: img should be PIL Image. Got <class 'dict'>\n"
          ]
        },
        {
          "name": "stderr",
          "output_type": "stream",
          "text": [
            "\rEpoch 3/5:  78%|███████▊  | 102/130 [00:43<00:12,  2.28it/s]"
          ]
        },
        {
          "name": "stdout",
          "output_type": "stream",
          "text": [
            "Error loading /content/drive/MyDrive/archive (14)/Dataset_BUSI_with_GT/benign/benign (196).png: img should be PIL Image. Got <class 'dict'>\n",
            "Error loading /content/drive/MyDrive/archive (14)/Dataset_BUSI_with_GT/benign/benign (209).png: img should be PIL Image. Got <class 'dict'>\n",
            "Error loading /content/drive/MyDrive/archive (14)/Dataset_BUSI_with_GT/malignant/malignant (46).png: img should be PIL Image. Got <class 'dict'>\n",
            "Error loading /content/drive/MyDrive/archive (14)/Dataset_BUSI_with_GT/malignant/malignant (58).png: Unexpected type <class 'dict'>\n"
          ]
        },
        {
          "name": "stderr",
          "output_type": "stream",
          "text": [
            "\rEpoch 3/5:  79%|███████▉  | 103/130 [00:43<00:11,  2.25it/s]"
          ]
        },
        {
          "name": "stdout",
          "output_type": "stream",
          "text": [
            "Error loading /content/drive/MyDrive/archive (14)/Dataset_BUSI_with_GT/malignant/malignant (151).png: img should be PIL Image. Got <class 'dict'>\n",
            "Error loading /content/drive/MyDrive/archive (14)/Dataset_BUSI_with_GT/malignant/malignant (207).png: img should be PIL Image. Got <class 'dict'>\n",
            "Error loading /content/drive/MyDrive/archive (14)/Dataset_BUSI_with_GT/benign/benign (120).png: img should be PIL Image. Got <class 'dict'>\n",
            "Error loading /content/drive/MyDrive/archive (14)/Dataset_BUSI_with_GT/benign/benign (425).png: img should be PIL Image. Got <class 'dict'>\n"
          ]
        },
        {
          "name": "stderr",
          "output_type": "stream",
          "text": [
            "\rEpoch 3/5:  80%|████████  | 104/130 [00:44<00:11,  2.31it/s]"
          ]
        },
        {
          "name": "stdout",
          "output_type": "stream",
          "text": [
            "Error loading /content/drive/MyDrive/archive (14)/Dataset_BUSI_with_GT/benign/benign (318).png: Unexpected type <class 'dict'>\n",
            "Error loading /content/drive/MyDrive/archive (14)/Dataset_BUSI_with_GT/malignant/malignant (145).png: Unexpected type <class 'dict'>\n",
            "Error loading /content/drive/MyDrive/archive (14)/Dataset_BUSI_with_GT/benign/benign (213).png: img should be PIL Image. Got <class 'dict'>\n",
            "Error loading /content/drive/MyDrive/archive (14)/Dataset_BUSI_with_GT/benign/benign (343).png: img should be PIL Image. Got <class 'dict'>\n"
          ]
        },
        {
          "name": "stderr",
          "output_type": "stream",
          "text": [
            "\rEpoch 3/5:  81%|████████  | 105/130 [00:44<00:10,  2.42it/s]"
          ]
        },
        {
          "name": "stdout",
          "output_type": "stream",
          "text": [
            "Error loading /content/drive/MyDrive/archive (14)/Dataset_BUSI_with_GT/benign/benign (237).png: img should be PIL Image. Got <class 'dict'>\n",
            "Error loading /content/drive/MyDrive/archive (14)/Dataset_BUSI_with_GT/benign/benign (241).png: Unexpected type <class 'dict'>\n",
            "Error loading /content/drive/MyDrive/archive (14)/Dataset_BUSI_with_GT/malignant/malignant (124).png: Unexpected type <class 'dict'>\n",
            "Error loading /content/drive/MyDrive/archive (14)/Dataset_BUSI_with_GT/benign/benign (129).png: img should be PIL Image. Got <class 'dict'>\n"
          ]
        },
        {
          "name": "stderr",
          "output_type": "stream",
          "text": [
            "\rEpoch 3/5:  82%|████████▏ | 106/130 [00:45<00:09,  2.44it/s]"
          ]
        },
        {
          "name": "stdout",
          "output_type": "stream",
          "text": [
            "Error loading /content/drive/MyDrive/archive (14)/Dataset_BUSI_with_GT/benign/benign (70).png: img should be PIL Image. Got <class 'dict'>\n",
            "Error loading /content/drive/MyDrive/archive (14)/Dataset_BUSI_with_GT/benign/benign (83).png: Unexpected type <class 'dict'>\n",
            "Error loading /content/drive/MyDrive/archive (14)/Dataset_BUSI_with_GT/benign/benign (93).png: Unexpected type <class 'dict'>\n",
            "Error loading /content/drive/MyDrive/archive (14)/Dataset_BUSI_with_GT/benign/benign (244).png: Unexpected type <class 'dict'>\n"
          ]
        },
        {
          "name": "stderr",
          "output_type": "stream",
          "text": [
            "\rEpoch 3/5:  82%|████████▏ | 107/130 [00:45<00:09,  2.49it/s]"
          ]
        },
        {
          "name": "stdout",
          "output_type": "stream",
          "text": [
            "Error loading /content/drive/MyDrive/archive (14)/Dataset_BUSI_with_GT/malignant/malignant (191).png: img should be PIL Image. Got <class 'dict'>\n",
            "Error loading /content/drive/MyDrive/archive (14)/Dataset_BUSI_with_GT/benign/benign (165).png: Unexpected type <class 'dict'>\n",
            "Error loading /content/drive/MyDrive/archive (14)/Dataset_BUSI_with_GT/malignant/malignant (54).png: img should be PIL Image. Got <class 'dict'>\n",
            "Error loading /content/drive/MyDrive/archive (14)/Dataset_BUSI_with_GT/benign/benign (387).png: img should be PIL Image. Got <class 'dict'>\n"
          ]
        },
        {
          "name": "stderr",
          "output_type": "stream",
          "text": [
            "\rEpoch 3/5:  83%|████████▎ | 108/130 [00:45<00:08,  2.45it/s]"
          ]
        },
        {
          "name": "stdout",
          "output_type": "stream",
          "text": [
            "Error loading /content/drive/MyDrive/archive (14)/Dataset_BUSI_with_GT/malignant/malignant (101).png: img should be PIL Image. Got <class 'dict'>\n",
            "Error loading /content/drive/MyDrive/archive (14)/Dataset_BUSI_with_GT/benign/benign (87).png: img should be PIL Image. Got <class 'dict'>\n",
            "Error loading /content/drive/MyDrive/archive (14)/Dataset_BUSI_with_GT/malignant/malignant (187).png: Unexpected type <class 'dict'>\n",
            "Error loading /content/drive/MyDrive/archive (14)/Dataset_BUSI_with_GT/benign/benign (81).png: img should be PIL Image. Got <class 'dict'>\n"
          ]
        },
        {
          "name": "stderr",
          "output_type": "stream",
          "text": [
            "\rEpoch 3/5:  84%|████████▍ | 109/130 [00:46<00:08,  2.36it/s]"
          ]
        },
        {
          "name": "stdout",
          "output_type": "stream",
          "text": [
            "Error loading /content/drive/MyDrive/archive (14)/Dataset_BUSI_with_GT/malignant/malignant (26).png: img should be PIL Image. Got <class 'dict'>\n",
            "Error loading /content/drive/MyDrive/archive (14)/Dataset_BUSI_with_GT/benign/benign (401).png: Unexpected type <class 'dict'>\n",
            "Error loading /content/drive/MyDrive/archive (14)/Dataset_BUSI_with_GT/benign/benign (423).png: Unexpected type <class 'dict'>\n",
            "Error loading /content/drive/MyDrive/archive (14)/Dataset_BUSI_with_GT/malignant/malignant (13).png: Unexpected type <class 'dict'>\n"
          ]
        },
        {
          "name": "stderr",
          "output_type": "stream",
          "text": [
            "\rEpoch 3/5:  85%|████████▍ | 110/130 [00:46<00:08,  2.47it/s]"
          ]
        },
        {
          "name": "stdout",
          "output_type": "stream",
          "text": [
            "Error loading /content/drive/MyDrive/archive (14)/Dataset_BUSI_with_GT/malignant/malignant (78).png: Unexpected type <class 'dict'>\n",
            "Error loading /content/drive/MyDrive/archive (14)/Dataset_BUSI_with_GT/benign/benign (268).png: img should be PIL Image. Got <class 'dict'>\n",
            "Error loading /content/drive/MyDrive/archive (14)/Dataset_BUSI_with_GT/benign/benign (34).png: Unexpected type <class 'dict'>\n",
            "Error loading /content/drive/MyDrive/archive (14)/Dataset_BUSI_with_GT/benign/benign (283).png: img should be PIL Image. Got <class 'dict'>\n"
          ]
        },
        {
          "name": "stderr",
          "output_type": "stream",
          "text": [
            "\rEpoch 3/5:  85%|████████▌ | 111/130 [00:47<00:07,  2.49it/s]"
          ]
        },
        {
          "name": "stdout",
          "output_type": "stream",
          "text": [
            "Error loading /content/drive/MyDrive/archive (14)/Dataset_BUSI_with_GT/malignant/malignant (67).png: Unexpected type <class 'dict'>\n",
            "Error loading /content/drive/MyDrive/archive (14)/Dataset_BUSI_with_GT/malignant/malignant (95).png: Unexpected type <class 'dict'>\n",
            "Error loading /content/drive/MyDrive/archive (14)/Dataset_BUSI_with_GT/benign/benign (437).png: Unexpected type <class 'dict'>\n",
            "Error loading /content/drive/MyDrive/archive (14)/Dataset_BUSI_with_GT/benign/benign (297).png: Unexpected type <class 'dict'>\n"
          ]
        },
        {
          "name": "stderr",
          "output_type": "stream",
          "text": [
            "\rEpoch 3/5:  86%|████████▌ | 112/130 [00:47<00:07,  2.39it/s]"
          ]
        },
        {
          "name": "stdout",
          "output_type": "stream",
          "text": [
            "Error loading /content/drive/MyDrive/archive (14)/Dataset_BUSI_with_GT/benign/benign (156).png: Unexpected type <class 'dict'>\n",
            "Error loading /content/drive/MyDrive/archive (14)/Dataset_BUSI_with_GT/benign/benign (227).png: img should be PIL Image. Got <class 'dict'>\n",
            "Error loading /content/drive/MyDrive/archive (14)/Dataset_BUSI_with_GT/benign/benign (135).png: img should be PIL Image. Got <class 'dict'>\n",
            "Error loading /content/drive/MyDrive/archive (14)/Dataset_BUSI_with_GT/malignant/malignant (169).png: img should be PIL Image. Got <class 'dict'>\n"
          ]
        },
        {
          "name": "stderr",
          "output_type": "stream",
          "text": [
            "\rEpoch 3/5:  87%|████████▋ | 113/130 [00:48<00:07,  2.35it/s]"
          ]
        },
        {
          "name": "stdout",
          "output_type": "stream",
          "text": [
            "Error loading /content/drive/MyDrive/archive (14)/Dataset_BUSI_with_GT/benign/benign (379).png: img should be PIL Image. Got <class 'dict'>\n",
            "Error loading /content/drive/MyDrive/archive (14)/Dataset_BUSI_with_GT/malignant/malignant (126).png: Unexpected type <class 'dict'>\n",
            "Error loading /content/drive/MyDrive/archive (14)/Dataset_BUSI_with_GT/benign/benign (181).png: Unexpected type <class 'dict'>\n",
            "Error loading /content/drive/MyDrive/archive (14)/Dataset_BUSI_with_GT/malignant/malignant (189).png: img should be PIL Image. Got <class 'dict'>\n"
          ]
        },
        {
          "name": "stderr",
          "output_type": "stream",
          "text": [
            "\rEpoch 3/5:  88%|████████▊ | 114/130 [00:48<00:06,  2.37it/s]"
          ]
        },
        {
          "name": "stdout",
          "output_type": "stream",
          "text": [
            "Error loading /content/drive/MyDrive/archive (14)/Dataset_BUSI_with_GT/benign/benign (127).png: img should be PIL Image. Got <class 'dict'>\n",
            "Error loading /content/drive/MyDrive/archive (14)/Dataset_BUSI_with_GT/benign/benign (51).png: img should be PIL Image. Got <class 'dict'>\n",
            "Error loading /content/drive/MyDrive/archive (14)/Dataset_BUSI_with_GT/malignant/malignant (82).png: Unexpected type <class 'dict'>\n",
            "Error loading /content/drive/MyDrive/archive (14)/Dataset_BUSI_with_GT/benign/benign (75).png: Unexpected type <class 'dict'>\n"
          ]
        },
        {
          "name": "stderr",
          "output_type": "stream",
          "text": [
            "\rEpoch 3/5:  88%|████████▊ | 115/130 [00:48<00:06,  2.46it/s]"
          ]
        },
        {
          "name": "stdout",
          "output_type": "stream",
          "text": [
            "Error loading /content/drive/MyDrive/archive (14)/Dataset_BUSI_with_GT/benign/benign (139).png: img should be PIL Image. Got <class 'dict'>\n",
            "Error loading /content/drive/MyDrive/archive (14)/Dataset_BUSI_with_GT/benign/benign (158).png: img should be PIL Image. Got <class 'dict'>\n",
            "Error loading /content/drive/MyDrive/archive (14)/Dataset_BUSI_with_GT/malignant/malignant (161).png: img should be PIL Image. Got <class 'dict'>\n",
            "Error loading /content/drive/MyDrive/archive (14)/Dataset_BUSI_with_GT/benign/benign (54).png: img should be PIL Image. Got <class 'dict'>\n"
          ]
        },
        {
          "name": "stderr",
          "output_type": "stream",
          "text": [
            "\rEpoch 3/5:  89%|████████▉ | 116/130 [00:49<00:05,  2.49it/s]"
          ]
        },
        {
          "name": "stdout",
          "output_type": "stream",
          "text": [
            "Error loading /content/drive/MyDrive/archive (14)/Dataset_BUSI_with_GT/benign/benign (194).png: img should be PIL Image. Got <class 'dict'>\n",
            "Error loading /content/drive/MyDrive/archive (14)/Dataset_BUSI_with_GT/malignant/malignant (120).png: img should be PIL Image. Got <class 'dict'>\n",
            "Error loading /content/drive/MyDrive/archive (14)/Dataset_BUSI_with_GT/malignant/malignant (76).png: img should be PIL Image. Got <class 'dict'>\n",
            "Error loading /content/drive/MyDrive/archive (14)/Dataset_BUSI_with_GT/benign/benign (332).png: Unexpected type <class 'dict'>\n"
          ]
        },
        {
          "name": "stderr",
          "output_type": "stream",
          "text": [
            "\rEpoch 3/5:  90%|█████████ | 117/130 [00:49<00:05,  2.46it/s]"
          ]
        },
        {
          "name": "stdout",
          "output_type": "stream",
          "text": [
            "Error loading /content/drive/MyDrive/archive (14)/Dataset_BUSI_with_GT/benign/benign (230).png: img should be PIL Image. Got <class 'dict'>\n",
            "Error loading /content/drive/MyDrive/archive (14)/Dataset_BUSI_with_GT/malignant/malignant (62).png: Unexpected type <class 'dict'>\n",
            "Error loading /content/drive/MyDrive/archive (14)/Dataset_BUSI_with_GT/malignant/malignant (137).png: img should be PIL Image. Got <class 'dict'>\n",
            "Error loading /content/drive/MyDrive/archive (14)/Dataset_BUSI_with_GT/benign/benign (406).png: img should be PIL Image. Got <class 'dict'>\n"
          ]
        },
        {
          "name": "stderr",
          "output_type": "stream",
          "text": [
            "\rEpoch 3/5:  91%|█████████ | 118/130 [00:50<00:04,  2.51it/s]"
          ]
        },
        {
          "name": "stdout",
          "output_type": "stream",
          "text": [
            "Error loading /content/drive/MyDrive/archive (14)/Dataset_BUSI_with_GT/benign/benign (111).png: img should be PIL Image. Got <class 'dict'>\n",
            "Error loading /content/drive/MyDrive/archive (14)/Dataset_BUSI_with_GT/benign/benign (254).png: img should be PIL Image. Got <class 'dict'>\n",
            "Error loading /content/drive/MyDrive/archive (14)/Dataset_BUSI_with_GT/benign/benign (394).png: Unexpected type <class 'dict'>\n",
            "Error loading /content/drive/MyDrive/archive (14)/Dataset_BUSI_with_GT/benign/benign (290).png: Unexpected type <class 'dict'>\n"
          ]
        },
        {
          "name": "stderr",
          "output_type": "stream",
          "text": [
            "\rEpoch 3/5:  92%|█████████▏| 119/130 [00:50<00:04,  2.61it/s]"
          ]
        },
        {
          "name": "stdout",
          "output_type": "stream",
          "text": [
            "Error loading /content/drive/MyDrive/archive (14)/Dataset_BUSI_with_GT/benign/benign (118).png: Unexpected type <class 'dict'>\n",
            "Error loading /content/drive/MyDrive/archive (14)/Dataset_BUSI_with_GT/malignant/malignant (142).png: img should be PIL Image. Got <class 'dict'>\n",
            "Error loading /content/drive/MyDrive/archive (14)/Dataset_BUSI_with_GT/benign/benign (32).png: Unexpected type <class 'dict'>\n",
            "Error loading /content/drive/MyDrive/archive (14)/Dataset_BUSI_with_GT/benign/benign (333).png: img should be PIL Image. Got <class 'dict'>\n"
          ]
        },
        {
          "name": "stderr",
          "output_type": "stream",
          "text": [
            "\rEpoch 3/5:  92%|█████████▏| 120/130 [00:50<00:03,  2.51it/s]"
          ]
        },
        {
          "name": "stdout",
          "output_type": "stream",
          "text": [
            "Error loading /content/drive/MyDrive/archive (14)/Dataset_BUSI_with_GT/benign/benign (124).png: Unexpected type <class 'dict'>\n",
            "Error loading /content/drive/MyDrive/archive (14)/Dataset_BUSI_with_GT/benign/benign (148).png: Unexpected type <class 'dict'>\n",
            "Error loading /content/drive/MyDrive/archive (14)/Dataset_BUSI_with_GT/benign/benign (52).png: img should be PIL Image. Got <class 'dict'>\n",
            "Error loading /content/drive/MyDrive/archive (14)/Dataset_BUSI_with_GT/benign/benign (355).png: img should be PIL Image. Got <class 'dict'>\n"
          ]
        },
        {
          "name": "stderr",
          "output_type": "stream",
          "text": [
            "\rEpoch 3/5:  93%|█████████▎| 121/130 [00:51<00:03,  2.45it/s]"
          ]
        },
        {
          "name": "stdout",
          "output_type": "stream",
          "text": [
            "Error loading /content/drive/MyDrive/archive (14)/Dataset_BUSI_with_GT/benign/benign (265).png: Unexpected type <class 'dict'>\n",
            "Error loading /content/drive/MyDrive/archive (14)/Dataset_BUSI_with_GT/benign/benign (267).png: img should be PIL Image. Got <class 'dict'>\n",
            "Error loading /content/drive/MyDrive/archive (14)/Dataset_BUSI_with_GT/benign/benign (98).png: Unexpected type <class 'dict'>\n",
            "Error loading /content/drive/MyDrive/archive (14)/Dataset_BUSI_with_GT/benign/benign (314).png: img should be PIL Image. Got <class 'dict'>\n"
          ]
        },
        {
          "name": "stderr",
          "output_type": "stream",
          "text": [
            "\rEpoch 3/5:  94%|█████████▍| 122/130 [00:51<00:03,  2.51it/s]"
          ]
        },
        {
          "name": "stdout",
          "output_type": "stream",
          "text": [
            "Error loading /content/drive/MyDrive/archive (14)/Dataset_BUSI_with_GT/benign/benign (336).png: Unexpected type <class 'dict'>\n",
            "Error loading /content/drive/MyDrive/archive (14)/Dataset_BUSI_with_GT/benign/benign (229).png: img should be PIL Image. Got <class 'dict'>\n",
            "Error loading /content/drive/MyDrive/archive (14)/Dataset_BUSI_with_GT/benign/benign (20).png: Unexpected type <class 'dict'>\n"
          ]
        },
        {
          "name": "stderr",
          "output_type": "stream",
          "text": [
            "\rEpoch 3/5:  95%|█████████▍| 123/130 [00:52<00:03,  2.30it/s]"
          ]
        },
        {
          "name": "stdout",
          "output_type": "stream",
          "text": [
            "Error loading /content/drive/MyDrive/archive (14)/Dataset_BUSI_with_GT/benign/benign (159).png: img should be PIL Image. Got <class 'dict'>\n",
            "Error loading /content/drive/MyDrive/archive (14)/Dataset_BUSI_with_GT/benign/benign (284).png: Unexpected type <class 'dict'>\n",
            "Error loading /content/drive/MyDrive/archive (14)/Dataset_BUSI_with_GT/benign/benign (25).png: img should be PIL Image. Got <class 'dict'>\n",
            "Error loading /content/drive/MyDrive/archive (14)/Dataset_BUSI_with_GT/benign/benign (396).png: img should be PIL Image. Got <class 'dict'>\n",
            "Error loading /content/drive/MyDrive/archive (14)/Dataset_BUSI_with_GT/malignant/malignant (165).png: img should be PIL Image. Got <class 'dict'>\n"
          ]
        },
        {
          "name": "stderr",
          "output_type": "stream",
          "text": [
            "\rEpoch 3/5:  95%|█████████▌| 124/130 [00:52<00:02,  2.23it/s]"
          ]
        },
        {
          "name": "stdout",
          "output_type": "stream",
          "text": [
            "Error loading /content/drive/MyDrive/archive (14)/Dataset_BUSI_with_GT/benign/benign (308).png: Unexpected type <class 'dict'>\n",
            "Error loading /content/drive/MyDrive/archive (14)/Dataset_BUSI_with_GT/benign/benign (322).png: img should be PIL Image. Got <class 'dict'>\n",
            "Error loading /content/drive/MyDrive/archive (14)/Dataset_BUSI_with_GT/malignant/malignant (127).png: Unexpected type <class 'dict'>\n",
            "Error loading /content/drive/MyDrive/archive (14)/Dataset_BUSI_with_GT/benign/benign (273).png: img should be PIL Image. Got <class 'dict'>\n"
          ]
        },
        {
          "name": "stderr",
          "output_type": "stream",
          "text": [
            "\rEpoch 3/5:  96%|█████████▌| 125/130 [00:53<00:02,  2.22it/s]"
          ]
        },
        {
          "name": "stdout",
          "output_type": "stream",
          "text": [
            "Error loading /content/drive/MyDrive/archive (14)/Dataset_BUSI_with_GT/malignant/malignant (112).png: img should be PIL Image. Got <class 'dict'>\n",
            "Error loading /content/drive/MyDrive/archive (14)/Dataset_BUSI_with_GT/benign/benign (277).png: img should be PIL Image. Got <class 'dict'>\n",
            "Error loading /content/drive/MyDrive/archive (14)/Dataset_BUSI_with_GT/benign/benign (414).png: Unexpected type <class 'dict'>\n"
          ]
        },
        {
          "name": "stderr",
          "output_type": "stream",
          "text": [
            "\rEpoch 3/5:  97%|█████████▋| 126/130 [00:53<00:01,  2.12it/s]"
          ]
        },
        {
          "name": "stdout",
          "output_type": "stream",
          "text": [
            "Error loading /content/drive/MyDrive/archive (14)/Dataset_BUSI_with_GT/benign/benign (33).png: Unexpected type <class 'dict'>\n",
            "Error loading /content/drive/MyDrive/archive (14)/Dataset_BUSI_with_GT/malignant/malignant (163).png: img should be PIL Image. Got <class 'dict'>\n",
            "Error loading /content/drive/MyDrive/archive (14)/Dataset_BUSI_with_GT/malignant/malignant (79).png: Unexpected type <class 'dict'>\n",
            "Error loading /content/drive/MyDrive/archive (14)/Dataset_BUSI_with_GT/benign/benign (262).png: img should be PIL Image. Got <class 'dict'>\n",
            "Error loading /content/drive/MyDrive/archive (14)/Dataset_BUSI_with_GT/benign/benign (433).png: Unexpected type <class 'dict'>\n"
          ]
        },
        {
          "name": "stderr",
          "output_type": "stream",
          "text": [
            "\rEpoch 3/5:  98%|█████████▊| 127/130 [00:54<00:01,  2.14it/s]"
          ]
        },
        {
          "name": "stdout",
          "output_type": "stream",
          "text": [
            "Error loading /content/drive/MyDrive/archive (14)/Dataset_BUSI_with_GT/benign/benign (430).png: Unexpected type <class 'dict'>\n",
            "Error loading /content/drive/MyDrive/archive (14)/Dataset_BUSI_with_GT/malignant/malignant (133).png: img should be PIL Image. Got <class 'dict'>\n",
            "Error loading /content/drive/MyDrive/archive (14)/Dataset_BUSI_with_GT/benign/benign (13).png: Unexpected type <class 'dict'>\n"
          ]
        },
        {
          "name": "stderr",
          "output_type": "stream",
          "text": [
            "\rEpoch 3/5:  98%|█████████▊| 128/130 [00:54<00:00,  2.07it/s]"
          ]
        },
        {
          "name": "stdout",
          "output_type": "stream",
          "text": [
            "Error loading /content/drive/MyDrive/archive (14)/Dataset_BUSI_with_GT/benign/benign (266).png: Unexpected type <class 'dict'>\n",
            "Error loading /content/drive/MyDrive/archive (14)/Dataset_BUSI_with_GT/benign/benign (42).png: img should be PIL Image. Got <class 'dict'>\n",
            "Error loading /content/drive/MyDrive/archive (14)/Dataset_BUSI_with_GT/benign/benign (8).png: Unexpected type <class 'dict'>\n",
            "Error loading /content/drive/MyDrive/archive (14)/Dataset_BUSI_with_GT/benign/benign (163).png: Unexpected type <class 'dict'>\n"
          ]
        },
        {
          "name": "stderr",
          "output_type": "stream",
          "text": [
            "\rEpoch 3/5:  99%|█████████▉| 129/130 [00:55<00:00,  2.06it/s]"
          ]
        },
        {
          "name": "stdout",
          "output_type": "stream",
          "text": [
            "Error loading /content/drive/MyDrive/archive (14)/Dataset_BUSI_with_GT/benign/benign (409).png: img should be PIL Image. Got <class 'dict'>\n"
          ]
        },
        {
          "name": "stderr",
          "output_type": "stream",
          "text": [
            "Epoch 3/5: 100%|██████████| 130/130 [00:55<00:00,  2.36it/s]\n"
          ]
        },
        {
          "name": "stdout",
          "output_type": "stream",
          "text": [
            "Error loading /content/drive/MyDrive/archive (14)/Dataset_BUSI_with_GT/benign/benign (5).png: Unexpected type <class 'dict'>\n"
          ]
        },
        {
          "name": "stderr",
          "output_type": "stream",
          "text": [
            "\rEvaluating:   0%|          | 0/33 [00:00<?, ?it/s]"
          ]
        },
        {
          "name": "stdout",
          "output_type": "stream",
          "text": [
            "Error loading /content/drive/MyDrive/archive (14)/Dataset_BUSI_with_GT/benign/benign (22).png: img should be PIL Image. Got <class 'dict'>\n",
            "Error loading /content/drive/MyDrive/archive (14)/Dataset_BUSI_with_GT/benign/benign (361).png: Unexpected type <class 'dict'>\n",
            "Error loading /content/drive/MyDrive/archive (14)/Dataset_BUSI_with_GT/malignant/malignant (192).png: Unexpected type <class 'dict'>\n",
            "Error loading /content/drive/MyDrive/archive (14)/Dataset_BUSI_with_GT/malignant/malignant (181).png: img should be PIL Image. Got <class 'dict'>\n"
          ]
        },
        {
          "name": "stderr",
          "output_type": "stream",
          "text": [
            "\rEvaluating:   3%|▎         | 1/33 [00:00<00:10,  3.15it/s]"
          ]
        },
        {
          "name": "stdout",
          "output_type": "stream",
          "text": [
            "Error loading /content/drive/MyDrive/archive (14)/Dataset_BUSI_with_GT/malignant/malignant (41).png: img should be PIL Image. Got <class 'dict'>\n",
            "Error loading /content/drive/MyDrive/archive (14)/Dataset_BUSI_with_GT/benign/benign (349).png: img should be PIL Image. Got <class 'dict'>\n",
            "Error loading /content/drive/MyDrive/archive (14)/Dataset_BUSI_with_GT/benign/benign (12).png: img should be PIL Image. Got <class 'dict'>\n",
            "Error loading /content/drive/MyDrive/archive (14)/Dataset_BUSI_with_GT/benign/benign (339).png: img should be PIL Image. Got <class 'dict'>\n"
          ]
        },
        {
          "name": "stderr",
          "output_type": "stream",
          "text": [
            "\rEvaluating:   6%|▌         | 2/33 [00:00<00:10,  3.10it/s]"
          ]
        },
        {
          "name": "stdout",
          "output_type": "stream",
          "text": [
            "Error loading /content/drive/MyDrive/archive (14)/Dataset_BUSI_with_GT/benign/benign (317).png: Unexpected type <class 'dict'>\n",
            "Error loading /content/drive/MyDrive/archive (14)/Dataset_BUSI_with_GT/malignant/malignant (34).png: img should be PIL Image. Got <class 'dict'>\n",
            "Error loading /content/drive/MyDrive/archive (14)/Dataset_BUSI_with_GT/malignant/malignant (9).png: Unexpected type <class 'dict'>\n",
            "Error loading /content/drive/MyDrive/archive (14)/Dataset_BUSI_with_GT/benign/benign (6).png: Unexpected type <class 'dict'>\n"
          ]
        },
        {
          "name": "stderr",
          "output_type": "stream",
          "text": [
            "\rEvaluating:   9%|▉         | 3/33 [00:00<00:09,  3.15it/s]"
          ]
        },
        {
          "name": "stdout",
          "output_type": "stream",
          "text": [
            "Error loading /content/drive/MyDrive/archive (14)/Dataset_BUSI_with_GT/malignant/malignant (27).png: Unexpected type <class 'dict'>\n",
            "Error loading /content/drive/MyDrive/archive (14)/Dataset_BUSI_with_GT/benign/benign (216).png: Unexpected type <class 'dict'>\n",
            "Error loading /content/drive/MyDrive/archive (14)/Dataset_BUSI_with_GT/malignant/malignant (173).png: Unexpected type <class 'dict'>\n",
            "Error loading /content/drive/MyDrive/archive (14)/Dataset_BUSI_with_GT/benign/benign (35).png: img should be PIL Image. Got <class 'dict'>\n"
          ]
        },
        {
          "name": "stderr",
          "output_type": "stream",
          "text": [
            "\rEvaluating:  12%|█▏        | 4/33 [00:01<00:09,  3.16it/s]"
          ]
        },
        {
          "name": "stdout",
          "output_type": "stream",
          "text": [
            "Error loading /content/drive/MyDrive/archive (14)/Dataset_BUSI_with_GT/benign/benign (103).png: Unexpected type <class 'dict'>\n",
            "Error loading /content/drive/MyDrive/archive (14)/Dataset_BUSI_with_GT/malignant/malignant (47).png: Unexpected type <class 'dict'>\n",
            "Error loading /content/drive/MyDrive/archive (14)/Dataset_BUSI_with_GT/benign/benign (186).png: img should be PIL Image. Got <class 'dict'>\n",
            "Error loading /content/drive/MyDrive/archive (14)/Dataset_BUSI_with_GT/benign/benign (145).png: img should be PIL Image. Got <class 'dict'>\n"
          ]
        },
        {
          "name": "stderr",
          "output_type": "stream",
          "text": [
            "\rEvaluating:  15%|█▌        | 5/33 [00:01<00:09,  2.96it/s]"
          ]
        },
        {
          "name": "stdout",
          "output_type": "stream",
          "text": [
            "Error loading /content/drive/MyDrive/archive (14)/Dataset_BUSI_with_GT/benign/benign (380).png: Unexpected type <class 'dict'>\n",
            "Error loading /content/drive/MyDrive/archive (14)/Dataset_BUSI_with_GT/benign/benign (130).png: Unexpected type <class 'dict'>\n",
            "Error loading /content/drive/MyDrive/archive (14)/Dataset_BUSI_with_GT/benign/benign (73).png: img should be PIL Image. Got <class 'dict'>\n",
            "Error loading /content/drive/MyDrive/archive (14)/Dataset_BUSI_with_GT/benign/benign (201).png: Unexpected type <class 'dict'>\n"
          ]
        },
        {
          "name": "stderr",
          "output_type": "stream",
          "text": [
            "\rEvaluating:  18%|█▊        | 6/33 [00:01<00:09,  2.96it/s]"
          ]
        },
        {
          "name": "stdout",
          "output_type": "stream",
          "text": [
            "Error loading /content/drive/MyDrive/archive (14)/Dataset_BUSI_with_GT/benign/benign (298).png: img should be PIL Image. Got <class 'dict'>\n",
            "Error loading /content/drive/MyDrive/archive (14)/Dataset_BUSI_with_GT/malignant/malignant (11).png: img should be PIL Image. Got <class 'dict'>\n",
            "Error loading /content/drive/MyDrive/archive (14)/Dataset_BUSI_with_GT/benign/benign (204).png: img should be PIL Image. Got <class 'dict'>\n",
            "Error loading /content/drive/MyDrive/archive (14)/Dataset_BUSI_with_GT/benign/benign (114).png: Unexpected type <class 'dict'>\n"
          ]
        },
        {
          "name": "stderr",
          "output_type": "stream",
          "text": [
            "\rEvaluating:  21%|██        | 7/33 [00:02<00:08,  2.96it/s]"
          ]
        },
        {
          "name": "stdout",
          "output_type": "stream",
          "text": [
            "Error loading /content/drive/MyDrive/archive (14)/Dataset_BUSI_with_GT/malignant/malignant (42).png: Unexpected type <class 'dict'>\n",
            "Error loading /content/drive/MyDrive/archive (14)/Dataset_BUSI_with_GT/malignant/malignant (72).png: Unexpected type <class 'dict'>\n",
            "Error loading /content/drive/MyDrive/archive (14)/Dataset_BUSI_with_GT/benign/benign (422).png: Unexpected type <class 'dict'>\n",
            "Error loading /content/drive/MyDrive/archive (14)/Dataset_BUSI_with_GT/benign/benign (288).png: img should be PIL Image. Got <class 'dict'>\n"
          ]
        },
        {
          "name": "stderr",
          "output_type": "stream",
          "text": [
            "\rEvaluating:  24%|██▍       | 8/33 [00:02<00:08,  2.99it/s]"
          ]
        },
        {
          "name": "stdout",
          "output_type": "stream",
          "text": [
            "Error loading /content/drive/MyDrive/archive (14)/Dataset_BUSI_with_GT/benign/benign (335).png: Unexpected type <class 'dict'>\n",
            "Error loading /content/drive/MyDrive/archive (14)/Dataset_BUSI_with_GT/benign/benign (202).png: img should be PIL Image. Got <class 'dict'>\n",
            "Error loading /content/drive/MyDrive/archive (14)/Dataset_BUSI_with_GT/benign/benign (319).png: img should be PIL Image. Got <class 'dict'>\n",
            "Error loading /content/drive/MyDrive/archive (14)/Dataset_BUSI_with_GT/malignant/malignant (175).png: Unexpected type <class 'dict'>\n"
          ]
        },
        {
          "name": "stderr",
          "output_type": "stream",
          "text": [
            "\rEvaluating:  27%|██▋       | 9/33 [00:02<00:08,  2.99it/s]"
          ]
        },
        {
          "name": "stdout",
          "output_type": "stream",
          "text": [
            "Error loading /content/drive/MyDrive/archive (14)/Dataset_BUSI_with_GT/malignant/malignant (194).png: img should be PIL Image. Got <class 'dict'>\n",
            "Error loading /content/drive/MyDrive/archive (14)/Dataset_BUSI_with_GT/benign/benign (365).png: img should be PIL Image. Got <class 'dict'>\n",
            "Error loading /content/drive/MyDrive/archive (14)/Dataset_BUSI_with_GT/benign/benign (106).png: img should be PIL Image. Got <class 'dict'>\n",
            "Error loading /content/drive/MyDrive/archive (14)/Dataset_BUSI_with_GT/benign/benign (293).png: img should be PIL Image. Got <class 'dict'>\n"
          ]
        },
        {
          "name": "stderr",
          "output_type": "stream",
          "text": [
            "\rEvaluating:  30%|███       | 10/33 [00:03<00:08,  2.84it/s]"
          ]
        },
        {
          "name": "stdout",
          "output_type": "stream",
          "text": [
            "Error loading /content/drive/MyDrive/archive (14)/Dataset_BUSI_with_GT/benign/benign (421).png: Unexpected type <class 'dict'>\n",
            "Error loading /content/drive/MyDrive/archive (14)/Dataset_BUSI_with_GT/malignant/malignant (1).png: img should be PIL Image. Got <class 'dict'>\n",
            "Error loading /content/drive/MyDrive/archive (14)/Dataset_BUSI_with_GT/benign/benign (215).png: img should be PIL Image. Got <class 'dict'>\n",
            "Error loading /content/drive/MyDrive/archive (14)/Dataset_BUSI_with_GT/malignant/malignant (35).png: Unexpected type <class 'dict'>\n"
          ]
        },
        {
          "name": "stderr",
          "output_type": "stream",
          "text": [
            "\rEvaluating:  33%|███▎      | 11/33 [00:03<00:07,  2.92it/s]"
          ]
        },
        {
          "name": "stdout",
          "output_type": "stream",
          "text": [
            "Error loading /content/drive/MyDrive/archive (14)/Dataset_BUSI_with_GT/benign/benign (9).png: img should be PIL Image. Got <class 'dict'>\n",
            "Error loading /content/drive/MyDrive/archive (14)/Dataset_BUSI_with_GT/benign/benign (94).png: img should be PIL Image. Got <class 'dict'>\n",
            "Error loading /content/drive/MyDrive/archive (14)/Dataset_BUSI_with_GT/benign/benign (49).png: Unexpected type <class 'dict'>\n",
            "Error loading /content/drive/MyDrive/archive (14)/Dataset_BUSI_with_GT/malignant/malignant (134).png: img should be PIL Image. Got <class 'dict'>\n"
          ]
        },
        {
          "name": "stderr",
          "output_type": "stream",
          "text": [
            "\rEvaluating:  36%|███▋      | 12/33 [00:04<00:07,  2.79it/s]"
          ]
        },
        {
          "name": "stdout",
          "output_type": "stream",
          "text": [
            "Error loading /content/drive/MyDrive/archive (14)/Dataset_BUSI_with_GT/malignant/malignant (15).png: img should be PIL Image. Got <class 'dict'>\n",
            "Error loading /content/drive/MyDrive/archive (14)/Dataset_BUSI_with_GT/benign/benign (263).png: img should be PIL Image. Got <class 'dict'>\n",
            "Error loading /content/drive/MyDrive/archive (14)/Dataset_BUSI_with_GT/benign/benign (172).png: img should be PIL Image. Got <class 'dict'>\n",
            "Error loading /content/drive/MyDrive/archive (14)/Dataset_BUSI_with_GT/malignant/malignant (114).png: img should be PIL Image. Got <class 'dict'>\n"
          ]
        },
        {
          "name": "stderr",
          "output_type": "stream",
          "text": [
            "\rEvaluating:  39%|███▉      | 13/33 [00:04<00:06,  2.92it/s]"
          ]
        },
        {
          "name": "stdout",
          "output_type": "stream",
          "text": [
            "Error loading /content/drive/MyDrive/archive (14)/Dataset_BUSI_with_GT/malignant/malignant (147).png: Unexpected type <class 'dict'>\n",
            "Error loading /content/drive/MyDrive/archive (14)/Dataset_BUSI_with_GT/benign/benign (341).png: img should be PIL Image. Got <class 'dict'>\n",
            "Error loading /content/drive/MyDrive/archive (14)/Dataset_BUSI_with_GT/benign/benign (176).png: img should be PIL Image. Got <class 'dict'>\n",
            "Error loading /content/drive/MyDrive/archive (14)/Dataset_BUSI_with_GT/malignant/malignant (52).png: img should be PIL Image. Got <class 'dict'>\n"
          ]
        },
        {
          "name": "stderr",
          "output_type": "stream",
          "text": [
            "\rEvaluating:  42%|████▏     | 14/33 [00:04<00:06,  2.91it/s]"
          ]
        },
        {
          "name": "stdout",
          "output_type": "stream",
          "text": [
            "Error loading /content/drive/MyDrive/archive (14)/Dataset_BUSI_with_GT/benign/benign (142).png: img should be PIL Image. Got <class 'dict'>\n",
            "Error loading /content/drive/MyDrive/archive (14)/Dataset_BUSI_with_GT/benign/benign (410).png: img should be PIL Image. Got <class 'dict'>\n",
            "Error loading /content/drive/MyDrive/archive (14)/Dataset_BUSI_with_GT/malignant/malignant (204).png: img should be PIL Image. Got <class 'dict'>\n"
          ]
        },
        {
          "name": "stderr",
          "output_type": "stream",
          "text": [
            "\rEvaluating:  45%|████▌     | 15/33 [00:05<00:06,  2.71it/s]"
          ]
        },
        {
          "name": "stdout",
          "output_type": "stream",
          "text": [
            "Error loading /content/drive/MyDrive/archive (14)/Dataset_BUSI_with_GT/benign/benign (389).png: Unexpected type <class 'dict'>\n",
            "Error loading /content/drive/MyDrive/archive (14)/Dataset_BUSI_with_GT/benign/benign (305).png: img should be PIL Image. Got <class 'dict'>\n",
            "Error loading /content/drive/MyDrive/archive (14)/Dataset_BUSI_with_GT/malignant/malignant (206).png: Unexpected type <class 'dict'>\n",
            "Error loading /content/drive/MyDrive/archive (14)/Dataset_BUSI_with_GT/benign/benign (311).png: img should be PIL Image. Got <class 'dict'>\n",
            "Error loading /content/drive/MyDrive/archive (14)/Dataset_BUSI_with_GT/malignant/malignant (68).png: img should be PIL Image. Got <class 'dict'>\n"
          ]
        },
        {
          "name": "stderr",
          "output_type": "stream",
          "text": [
            "\rEvaluating:  48%|████▊     | 16/33 [00:05<00:06,  2.73it/s]"
          ]
        },
        {
          "name": "stdout",
          "output_type": "stream",
          "text": [
            "Error loading /content/drive/MyDrive/archive (14)/Dataset_BUSI_with_GT/benign/benign (256).png: Unexpected type <class 'dict'>\n",
            "Error loading /content/drive/MyDrive/archive (14)/Dataset_BUSI_with_GT/malignant/malignant (59).png: Unexpected type <class 'dict'>\n",
            "Error loading /content/drive/MyDrive/archive (14)/Dataset_BUSI_with_GT/benign/benign (364).png: img should be PIL Image. Got <class 'dict'>\n",
            "Error loading /content/drive/MyDrive/archive (14)/Dataset_BUSI_with_GT/malignant/malignant (83).png: Unexpected type <class 'dict'>\n"
          ]
        },
        {
          "name": "stderr",
          "output_type": "stream",
          "text": [
            "\rEvaluating:  52%|█████▏    | 17/33 [00:05<00:05,  2.79it/s]"
          ]
        },
        {
          "name": "stdout",
          "output_type": "stream",
          "text": [
            "Error loading /content/drive/MyDrive/archive (14)/Dataset_BUSI_with_GT/benign/benign (435).png: Unexpected type <class 'dict'>\n",
            "Error loading /content/drive/MyDrive/archive (14)/Dataset_BUSI_with_GT/benign/benign (3).png: img should be PIL Image. Got <class 'dict'>\n",
            "Error loading /content/drive/MyDrive/archive (14)/Dataset_BUSI_with_GT/malignant/malignant (172).png: img should be PIL Image. Got <class 'dict'>\n",
            "Error loading /content/drive/MyDrive/archive (14)/Dataset_BUSI_with_GT/malignant/malignant (122).png: img should be PIL Image. Got <class 'dict'>\n"
          ]
        },
        {
          "name": "stderr",
          "output_type": "stream",
          "text": [
            "\rEvaluating:  55%|█████▍    | 18/33 [00:06<00:05,  2.83it/s]"
          ]
        },
        {
          "name": "stdout",
          "output_type": "stream",
          "text": [
            "Error loading /content/drive/MyDrive/archive (14)/Dataset_BUSI_with_GT/malignant/malignant (57).png: Unexpected type <class 'dict'>\n",
            "Error loading /content/drive/MyDrive/archive (14)/Dataset_BUSI_with_GT/benign/benign (175).png: img should be PIL Image. Got <class 'dict'>\n",
            "Error loading /content/drive/MyDrive/archive (14)/Dataset_BUSI_with_GT/malignant/malignant (2).png: img should be PIL Image. Got <class 'dict'>\n",
            "Error loading /content/drive/MyDrive/archive (14)/Dataset_BUSI_with_GT/benign/benign (345).png: img should be PIL Image. Got <class 'dict'>\n"
          ]
        },
        {
          "name": "stderr",
          "output_type": "stream",
          "text": [
            "\rEvaluating:  58%|█████▊    | 19/33 [00:06<00:04,  2.81it/s]"
          ]
        },
        {
          "name": "stdout",
          "output_type": "stream",
          "text": [
            "Error loading /content/drive/MyDrive/archive (14)/Dataset_BUSI_with_GT/benign/benign (251).png: img should be PIL Image. Got <class 'dict'>\n",
            "Error loading /content/drive/MyDrive/archive (14)/Dataset_BUSI_with_GT/benign/benign (403).png: Unexpected type <class 'dict'>\n",
            "Error loading /content/drive/MyDrive/archive (14)/Dataset_BUSI_with_GT/malignant/malignant (84).png: Unexpected type <class 'dict'>\n",
            "Error loading /content/drive/MyDrive/archive (14)/Dataset_BUSI_with_GT/benign/benign (344).png: img should be PIL Image. Got <class 'dict'>\n"
          ]
        },
        {
          "name": "stderr",
          "output_type": "stream",
          "text": [
            "\rEvaluating:  61%|██████    | 20/33 [00:06<00:04,  2.86it/s]"
          ]
        },
        {
          "name": "stdout",
          "output_type": "stream",
          "text": [
            "Error loading /content/drive/MyDrive/archive (14)/Dataset_BUSI_with_GT/benign/benign (132).png: img should be PIL Image. Got <class 'dict'>\n",
            "Error loading /content/drive/MyDrive/archive (14)/Dataset_BUSI_with_GT/benign/benign (383).png: img should be PIL Image. Got <class 'dict'>\n",
            "Error loading /content/drive/MyDrive/archive (14)/Dataset_BUSI_with_GT/malignant/malignant (38).png: Unexpected type <class 'dict'>\n",
            "Error loading /content/drive/MyDrive/archive (14)/Dataset_BUSI_with_GT/malignant/malignant (4).png: Unexpected type <class 'dict'>\n"
          ]
        },
        {
          "name": "stderr",
          "output_type": "stream",
          "text": [
            "\rEvaluating:  64%|██████▎   | 21/33 [00:07<00:04,  2.83it/s]"
          ]
        },
        {
          "name": "stdout",
          "output_type": "stream",
          "text": [
            "Error loading /content/drive/MyDrive/archive (14)/Dataset_BUSI_with_GT/benign/benign (153).png: img should be PIL Image. Got <class 'dict'>\n",
            "Error loading /content/drive/MyDrive/archive (14)/Dataset_BUSI_with_GT/benign/benign (18).png: img should be PIL Image. Got <class 'dict'>\n",
            "Error loading /content/drive/MyDrive/archive (14)/Dataset_BUSI_with_GT/benign/benign (295).png: Unexpected type <class 'dict'>\n",
            "Error loading /content/drive/MyDrive/archive (14)/Dataset_BUSI_with_GT/benign/benign (43).png: Unexpected type <class 'dict'>\n"
          ]
        },
        {
          "name": "stderr",
          "output_type": "stream",
          "text": [
            "\rEvaluating:  67%|██████▋   | 22/33 [00:07<00:03,  2.86it/s]"
          ]
        },
        {
          "name": "stdout",
          "output_type": "stream",
          "text": [
            "Error loading /content/drive/MyDrive/archive (14)/Dataset_BUSI_with_GT/benign/benign (249).png: img should be PIL Image. Got <class 'dict'>\n",
            "Error loading /content/drive/MyDrive/archive (14)/Dataset_BUSI_with_GT/benign/benign (218).png: img should be PIL Image. Got <class 'dict'>\n",
            "Error loading /content/drive/MyDrive/archive (14)/Dataset_BUSI_with_GT/benign/benign (2).png: Unexpected type <class 'dict'>\n",
            "Error loading /content/drive/MyDrive/archive (14)/Dataset_BUSI_with_GT/malignant/malignant (180).png: img should be PIL Image. Got <class 'dict'>\n"
          ]
        },
        {
          "name": "stderr",
          "output_type": "stream",
          "text": [
            "\rEvaluating:  70%|██████▉   | 23/33 [00:07<00:03,  2.98it/s]"
          ]
        },
        {
          "name": "stdout",
          "output_type": "stream",
          "text": [
            "Error loading /content/drive/MyDrive/archive (14)/Dataset_BUSI_with_GT/benign/benign (347).png: Unexpected type <class 'dict'>\n",
            "Error loading /content/drive/MyDrive/archive (14)/Dataset_BUSI_with_GT/benign/benign (304).png: img should be PIL Image. Got <class 'dict'>\n",
            "Error loading /content/drive/MyDrive/archive (14)/Dataset_BUSI_with_GT/benign/benign (292).png: img should be PIL Image. Got <class 'dict'>\n",
            "Error loading /content/drive/MyDrive/archive (14)/Dataset_BUSI_with_GT/benign/benign (324).png: img should be PIL Image. Got <class 'dict'>\n"
          ]
        },
        {
          "name": "stderr",
          "output_type": "stream",
          "text": [
            "\rEvaluating:  73%|███████▎  | 24/33 [00:08<00:03,  2.92it/s]"
          ]
        },
        {
          "name": "stdout",
          "output_type": "stream",
          "text": [
            "Error loading /content/drive/MyDrive/archive (14)/Dataset_BUSI_with_GT/benign/benign (276).png: img should be PIL Image. Got <class 'dict'>\n",
            "Error loading /content/drive/MyDrive/archive (14)/Dataset_BUSI_with_GT/benign/benign (136).png: Unexpected type <class 'dict'>\n",
            "Error loading /content/drive/MyDrive/archive (14)/Dataset_BUSI_with_GT/malignant/malignant (186).png: img should be PIL Image. Got <class 'dict'>\n",
            "Error loading /content/drive/MyDrive/archive (14)/Dataset_BUSI_with_GT/benign/benign (312).png: Unexpected type <class 'dict'>\n"
          ]
        },
        {
          "name": "stderr",
          "output_type": "stream",
          "text": [
            "\rEvaluating:  76%|███████▌  | 25/33 [00:08<00:02,  2.87it/s]"
          ]
        },
        {
          "name": "stdout",
          "output_type": "stream",
          "text": [
            "Error loading /content/drive/MyDrive/archive (14)/Dataset_BUSI_with_GT/benign/benign (179).png: img should be PIL Image. Got <class 'dict'>\n",
            "Error loading /content/drive/MyDrive/archive (14)/Dataset_BUSI_with_GT/benign/benign (257).png: img should be PIL Image. Got <class 'dict'>\n",
            "Error loading /content/drive/MyDrive/archive (14)/Dataset_BUSI_with_GT/benign/benign (334).png: img should be PIL Image. Got <class 'dict'>\n",
            "Error loading /content/drive/MyDrive/archive (14)/Dataset_BUSI_with_GT/benign/benign (177).png: Unexpected type <class 'dict'>\n"
          ]
        },
        {
          "name": "stderr",
          "output_type": "stream",
          "text": [
            "\rEvaluating:  79%|███████▉  | 26/33 [00:08<00:02,  3.00it/s]"
          ]
        },
        {
          "name": "stdout",
          "output_type": "stream",
          "text": [
            "Error loading /content/drive/MyDrive/archive (14)/Dataset_BUSI_with_GT/benign/benign (128).png: img should be PIL Image. Got <class 'dict'>\n",
            "Error loading /content/drive/MyDrive/archive (14)/Dataset_BUSI_with_GT/malignant/malignant (6).png: Unexpected type <class 'dict'>\n",
            "Error loading /content/drive/MyDrive/archive (14)/Dataset_BUSI_with_GT/malignant/malignant (190).png: Unexpected type <class 'dict'>\n",
            "Error loading /content/drive/MyDrive/archive (14)/Dataset_BUSI_with_GT/benign/benign (134).png: img should be PIL Image. Got <class 'dict'>\n"
          ]
        },
        {
          "name": "stderr",
          "output_type": "stream",
          "text": [
            "\rEvaluating:  82%|████████▏ | 27/33 [00:09<00:01,  3.09it/s]"
          ]
        },
        {
          "name": "stdout",
          "output_type": "stream",
          "text": [
            "Error loading /content/drive/MyDrive/archive (14)/Dataset_BUSI_with_GT/malignant/malignant (81).png: img should be PIL Image. Got <class 'dict'>\n",
            "Error loading /content/drive/MyDrive/archive (14)/Dataset_BUSI_with_GT/benign/benign (72).png: Unexpected type <class 'dict'>\n",
            "Error loading /content/drive/MyDrive/archive (14)/Dataset_BUSI_with_GT/malignant/malignant (159).png: img should be PIL Image. Got <class 'dict'>\n",
            "Error loading /content/drive/MyDrive/archive (14)/Dataset_BUSI_with_GT/malignant/malignant (85).png: img should be PIL Image. Got <class 'dict'>\n"
          ]
        },
        {
          "name": "stderr",
          "output_type": "stream",
          "text": [
            "\rEvaluating:  85%|████████▍ | 28/33 [00:09<00:01,  2.98it/s]"
          ]
        },
        {
          "name": "stdout",
          "output_type": "stream",
          "text": [
            "Error loading /content/drive/MyDrive/archive (14)/Dataset_BUSI_with_GT/benign/benign (171).png: Unexpected type <class 'dict'>\n",
            "Error loading /content/drive/MyDrive/archive (14)/Dataset_BUSI_with_GT/benign/benign (228).png: img should be PIL Image. Got <class 'dict'>\n",
            "Error loading /content/drive/MyDrive/archive (14)/Dataset_BUSI_with_GT/malignant/malignant (80).png: img should be PIL Image. Got <class 'dict'>\n"
          ]
        },
        {
          "name": "stderr",
          "output_type": "stream",
          "text": [
            "\rEvaluating:  88%|████████▊ | 29/33 [00:10<00:01,  2.70it/s]"
          ]
        },
        {
          "name": "stdout",
          "output_type": "stream",
          "text": [
            "Error loading /content/drive/MyDrive/archive (14)/Dataset_BUSI_with_GT/benign/benign (234).png: Unexpected type <class 'dict'>\n",
            "Error loading /content/drive/MyDrive/archive (14)/Dataset_BUSI_with_GT/benign/benign (167).png: img should be PIL Image. Got <class 'dict'>\n",
            "Error loading /content/drive/MyDrive/archive (14)/Dataset_BUSI_with_GT/malignant/malignant (182).png: Unexpected type <class 'dict'>\n",
            "Error loading /content/drive/MyDrive/archive (14)/Dataset_BUSI_with_GT/benign/benign (59).png: img should be PIL Image. Got <class 'dict'>\n"
          ]
        },
        {
          "name": "stderr",
          "output_type": "stream",
          "text": [
            "\rEvaluating:  91%|█████████ | 30/33 [00:10<00:01,  2.48it/s]"
          ]
        },
        {
          "name": "stdout",
          "output_type": "stream",
          "text": [
            "Error loading /content/drive/MyDrive/archive (14)/Dataset_BUSI_with_GT/benign/benign (38).png: img should be PIL Image. Got <class 'dict'>\n",
            "Error loading /content/drive/MyDrive/archive (14)/Dataset_BUSI_with_GT/benign/benign (250).png: img should be PIL Image. Got <class 'dict'>\n",
            "Error loading /content/drive/MyDrive/archive (14)/Dataset_BUSI_with_GT/benign/benign (302).png: img should be PIL Image. Got <class 'dict'>\n",
            "Error loading /content/drive/MyDrive/archive (14)/Dataset_BUSI_with_GT/malignant/malignant (154).png: img should be PIL Image. Got <class 'dict'>\n",
            "Error loading /content/drive/MyDrive/archive (14)/Dataset_BUSI_with_GT/malignant/malignant (50).png: Unexpected type <class 'dict'>\n"
          ]
        },
        {
          "name": "stderr",
          "output_type": "stream",
          "text": [
            "\rEvaluating:  94%|█████████▍| 31/33 [00:10<00:00,  2.46it/s]"
          ]
        },
        {
          "name": "stdout",
          "output_type": "stream",
          "text": [
            "Error loading /content/drive/MyDrive/archive (14)/Dataset_BUSI_with_GT/benign/benign (109).png: Unexpected type <class 'dict'>\n",
            "Error loading /content/drive/MyDrive/archive (14)/Dataset_BUSI_with_GT/benign/benign (82).png: img should be PIL Image. Got <class 'dict'>\n",
            "Error loading /content/drive/MyDrive/archive (14)/Dataset_BUSI_with_GT/benign/benign (373).png: Unexpected type <class 'dict'>\n"
          ]
        },
        {
          "name": "stderr",
          "output_type": "stream",
          "text": [
            "\rEvaluating:  97%|█████████▋| 32/33 [00:11<00:00,  2.33it/s]"
          ]
        },
        {
          "name": "stdout",
          "output_type": "stream",
          "text": [
            "Error loading /content/drive/MyDrive/archive (14)/Dataset_BUSI_with_GT/malignant/malignant (39).png: img should be PIL Image. Got <class 'dict'>\n"
          ]
        },
        {
          "name": "stderr",
          "output_type": "stream",
          "text": [
            "Evaluating: 100%|██████████| 33/33 [00:11<00:00,  2.83it/s]\n"
          ]
        },
        {
          "name": "stdout",
          "output_type": "stream",
          "text": [
            "Error loading /content/drive/MyDrive/archive (14)/Dataset_BUSI_with_GT/benign/benign (233).png: img should be PIL Image. Got <class 'dict'>\n",
            "Error loading /content/drive/MyDrive/archive (14)/Dataset_BUSI_with_GT/benign/benign (356).png: Unexpected type <class 'dict'>\n",
            "Best Threshold: 0.3, IoU: 1.0000\n"
          ]
        },
        {
          "name": "stderr",
          "output_type": "stream",
          "text": [
            "\rEpoch 4/5:   0%|          | 0/130 [00:00<?, ?it/s]"
          ]
        },
        {
          "name": "stdout",
          "output_type": "stream",
          "text": [
            "Error loading /content/drive/MyDrive/archive (14)/Dataset_BUSI_with_GT/benign/benign (434).png: img should be PIL Image. Got <class 'dict'>\n",
            "Error loading /content/drive/MyDrive/archive (14)/Dataset_BUSI_with_GT/benign/benign (120).png: img should be PIL Image. Got <class 'dict'>\n",
            "Error loading /content/drive/MyDrive/archive (14)/Dataset_BUSI_with_GT/benign/benign (226).png: img should be PIL Image. Got <class 'dict'>\n",
            "Error loading /content/drive/MyDrive/archive (14)/Dataset_BUSI_with_GT/benign/benign (20).png: img should be PIL Image. Got <class 'dict'>\n"
          ]
        },
        {
          "name": "stderr",
          "output_type": "stream",
          "text": [
            "\rEpoch 4/5:   1%|          | 1/130 [00:00<01:20,  1.61it/s]"
          ]
        },
        {
          "name": "stdout",
          "output_type": "stream",
          "text": [
            "Error loading /content/drive/MyDrive/archive (14)/Dataset_BUSI_with_GT/benign/benign (29).png: Unexpected type <class 'dict'>\n",
            "Error loading /content/drive/MyDrive/archive (14)/Dataset_BUSI_with_GT/malignant/malignant (188).png: Unexpected type <class 'dict'>\n",
            "Error loading /content/drive/MyDrive/archive (14)/Dataset_BUSI_with_GT/benign/benign (398).png: Unexpected type <class 'dict'>\n"
          ]
        },
        {
          "name": "stderr",
          "output_type": "stream",
          "text": [
            "\rEpoch 4/5:   2%|▏         | 2/130 [00:01<01:09,  1.84it/s]"
          ]
        },
        {
          "name": "stdout",
          "output_type": "stream",
          "text": [
            "Error loading /content/drive/MyDrive/archive (14)/Dataset_BUSI_with_GT/benign/benign (351).png: img should be PIL Image. Got <class 'dict'>\n",
            "Error loading /content/drive/MyDrive/archive (14)/Dataset_BUSI_with_GT/benign/benign (66).png: img should be PIL Image. Got <class 'dict'>\n",
            "Error loading /content/drive/MyDrive/archive (14)/Dataset_BUSI_with_GT/malignant/malignant (183).png: img should be PIL Image. Got <class 'dict'>\n",
            "Error loading /content/drive/MyDrive/archive (14)/Dataset_BUSI_with_GT/benign/benign (338).png: Unexpected type <class 'dict'>\n",
            "Error loading /content/drive/MyDrive/archive (14)/Dataset_BUSI_with_GT/benign/benign (200).png: img should be PIL Image. Got <class 'dict'>\n"
          ]
        },
        {
          "name": "stderr",
          "output_type": "stream",
          "text": [
            "\rEpoch 4/5:   2%|▏         | 3/130 [00:01<01:01,  2.05it/s]"
          ]
        },
        {
          "name": "stdout",
          "output_type": "stream",
          "text": [
            "Error loading /content/drive/MyDrive/archive (14)/Dataset_BUSI_with_GT/malignant/malignant (74).png: img should be PIL Image. Got <class 'dict'>\n",
            "Error loading /content/drive/MyDrive/archive (14)/Dataset_BUSI_with_GT/malignant/malignant (106).png: Unexpected type <class 'dict'>\n",
            "Error loading /content/drive/MyDrive/archive (14)/Dataset_BUSI_with_GT/benign/benign (198).png: img should be PIL Image. Got <class 'dict'>\n",
            "Error loading /content/drive/MyDrive/archive (14)/Dataset_BUSI_with_GT/benign/benign (166).png: img should be PIL Image. Got <class 'dict'>\n"
          ]
        },
        {
          "name": "stderr",
          "output_type": "stream",
          "text": [
            "\rEpoch 4/5:   3%|▎         | 4/130 [00:01<00:57,  2.20it/s]"
          ]
        },
        {
          "name": "stdout",
          "output_type": "stream",
          "text": [
            "Error loading /content/drive/MyDrive/archive (14)/Dataset_BUSI_with_GT/benign/benign (273).png: img should be PIL Image. Got <class 'dict'>\n",
            "Error loading /content/drive/MyDrive/archive (14)/Dataset_BUSI_with_GT/malignant/malignant (129).png: img should be PIL Image. Got <class 'dict'>\n",
            "Error loading /content/drive/MyDrive/archive (14)/Dataset_BUSI_with_GT/malignant/malignant (8).png: Unexpected type <class 'dict'>\n",
            "Error loading /content/drive/MyDrive/archive (14)/Dataset_BUSI_with_GT/benign/benign (230).png: Unexpected type <class 'dict'>\n"
          ]
        },
        {
          "name": "stderr",
          "output_type": "stream",
          "text": [
            "\rEpoch 4/5:   4%|▍         | 5/130 [00:02<00:52,  2.38it/s]"
          ]
        },
        {
          "name": "stdout",
          "output_type": "stream",
          "text": [
            "Error loading /content/drive/MyDrive/archive (14)/Dataset_BUSI_with_GT/benign/benign (146).png: img should be PIL Image. Got <class 'dict'>\n",
            "Error loading /content/drive/MyDrive/archive (14)/Dataset_BUSI_with_GT/malignant/malignant (191).png: img should be PIL Image. Got <class 'dict'>\n",
            "Error loading /content/drive/MyDrive/archive (14)/Dataset_BUSI_with_GT/benign/benign (372).png: Unexpected type <class 'dict'>\n",
            "Error loading /content/drive/MyDrive/archive (14)/Dataset_BUSI_with_GT/benign/benign (194).png: Unexpected type <class 'dict'>\n"
          ]
        },
        {
          "name": "stderr",
          "output_type": "stream",
          "text": [
            "\rEpoch 4/5:   5%|▍         | 6/130 [00:02<00:51,  2.43it/s]"
          ]
        },
        {
          "name": "stdout",
          "output_type": "stream",
          "text": [
            "Error loading /content/drive/MyDrive/archive (14)/Dataset_BUSI_with_GT/benign/benign (199).png: Unexpected type <class 'dict'>\n",
            "Error loading /content/drive/MyDrive/archive (14)/Dataset_BUSI_with_GT/benign/benign (68).png: img should be PIL Image. Got <class 'dict'>\n",
            "Error loading /content/drive/MyDrive/archive (14)/Dataset_BUSI_with_GT/benign/benign (190).png: img should be PIL Image. Got <class 'dict'>\n"
          ]
        },
        {
          "name": "stderr",
          "output_type": "stream",
          "text": [
            "\rEpoch 4/5:   5%|▌         | 7/130 [00:03<00:51,  2.38it/s]"
          ]
        },
        {
          "name": "stdout",
          "output_type": "stream",
          "text": [
            "Error loading /content/drive/MyDrive/archive (14)/Dataset_BUSI_with_GT/benign/benign (400).png: Unexpected type <class 'dict'>\n",
            "Error loading /content/drive/MyDrive/archive (14)/Dataset_BUSI_with_GT/benign/benign (336).png: img should be PIL Image. Got <class 'dict'>\n",
            "Error loading /content/drive/MyDrive/archive (14)/Dataset_BUSI_with_GT/benign/benign (25).png: Unexpected type <class 'dict'>\n",
            "Error loading /content/drive/MyDrive/archive (14)/Dataset_BUSI_with_GT/benign/benign (76).png: img should be PIL Image. Got <class 'dict'>\n"
          ]
        },
        {
          "name": "stderr",
          "output_type": "stream",
          "text": [
            "\rEpoch 4/5:   6%|▌         | 8/130 [00:03<00:54,  2.26it/s]"
          ]
        },
        {
          "name": "stdout",
          "output_type": "stream",
          "text": [
            "Error loading /content/drive/MyDrive/archive (14)/Dataset_BUSI_with_GT/benign/benign (79).png: Unexpected type <class 'dict'>\n",
            "Error loading /content/drive/MyDrive/archive (14)/Dataset_BUSI_with_GT/benign/benign (370).png: Unexpected type <class 'dict'>\n",
            "Error loading /content/drive/MyDrive/archive (14)/Dataset_BUSI_with_GT/benign/benign (88).png: img should be PIL Image. Got <class 'dict'>\n",
            "Error loading /content/drive/MyDrive/archive (14)/Dataset_BUSI_with_GT/benign/benign (150).png: Unexpected type <class 'dict'>\n",
            "Error loading /content/drive/MyDrive/archive (14)/Dataset_BUSI_with_GT/malignant/malignant (28).png: Unexpected type <class 'dict'>\n"
          ]
        },
        {
          "name": "stderr",
          "output_type": "stream",
          "text": [
            "\rEpoch 4/5:   7%|▋         | 9/130 [00:04<00:52,  2.29it/s]"
          ]
        },
        {
          "name": "stdout",
          "output_type": "stream",
          "text": [
            "Error loading /content/drive/MyDrive/archive (14)/Dataset_BUSI_with_GT/benign/benign (371).png: img should be PIL Image. Got <class 'dict'>\n",
            "Error loading /content/drive/MyDrive/archive (14)/Dataset_BUSI_with_GT/benign/benign (381).png: img should be PIL Image. Got <class 'dict'>\n",
            "Error loading /content/drive/MyDrive/archive (14)/Dataset_BUSI_with_GT/benign/benign (314).png: img should be PIL Image. Got <class 'dict'>\n",
            "Error loading /content/drive/MyDrive/archive (14)/Dataset_BUSI_with_GT/benign/benign (253).png: Unexpected type <class 'dict'>\n"
          ]
        },
        {
          "name": "stderr",
          "output_type": "stream",
          "text": [
            "\rEpoch 4/5:   8%|▊         | 10/130 [00:04<00:51,  2.32it/s]"
          ]
        },
        {
          "name": "stdout",
          "output_type": "stream",
          "text": [
            "Error loading /content/drive/MyDrive/archive (14)/Dataset_BUSI_with_GT/malignant/malignant (115).png: Unexpected type <class 'dict'>\n",
            "Error loading /content/drive/MyDrive/archive (14)/Dataset_BUSI_with_GT/benign/benign (316).png: img should be PIL Image. Got <class 'dict'>\n",
            "Error loading /content/drive/MyDrive/archive (14)/Dataset_BUSI_with_GT/malignant/malignant (164).png: Unexpected type <class 'dict'>\n",
            "Error loading /content/drive/MyDrive/archive (14)/Dataset_BUSI_with_GT/benign/benign (399).png: img should be PIL Image. Got <class 'dict'>\n"
          ]
        },
        {
          "name": "stderr",
          "output_type": "stream",
          "text": [
            "\rEpoch 4/5:   8%|▊         | 11/130 [00:04<00:49,  2.43it/s]"
          ]
        },
        {
          "name": "stdout",
          "output_type": "stream",
          "text": [
            "Error loading /content/drive/MyDrive/archive (14)/Dataset_BUSI_with_GT/benign/benign (413).png: img should be PIL Image. Got <class 'dict'>\n",
            "Error loading /content/drive/MyDrive/archive (14)/Dataset_BUSI_with_GT/malignant/malignant (10).png: Unexpected type <class 'dict'>\n",
            "Error loading /content/drive/MyDrive/archive (14)/Dataset_BUSI_with_GT/benign/benign (279).png: Unexpected type <class 'dict'>\n",
            "Error loading /content/drive/MyDrive/archive (14)/Dataset_BUSI_with_GT/malignant/malignant (166).png: img should be PIL Image. Got <class 'dict'>\n"
          ]
        },
        {
          "name": "stderr",
          "output_type": "stream",
          "text": [
            "\rEpoch 4/5:   9%|▉         | 12/130 [00:05<00:46,  2.53it/s]"
          ]
        },
        {
          "name": "stdout",
          "output_type": "stream",
          "text": [
            "Error loading /content/drive/MyDrive/archive (14)/Dataset_BUSI_with_GT/malignant/malignant (44).png: img should be PIL Image. Got <class 'dict'>\n",
            "Error loading /content/drive/MyDrive/archive (14)/Dataset_BUSI_with_GT/malignant/malignant (79).png: Unexpected type <class 'dict'>\n",
            "Error loading /content/drive/MyDrive/archive (14)/Dataset_BUSI_with_GT/malignant/malignant (76).png: img should be PIL Image. Got <class 'dict'>\n",
            "Error loading /content/drive/MyDrive/archive (14)/Dataset_BUSI_with_GT/benign/benign (229).png: Unexpected type <class 'dict'>\n"
          ]
        },
        {
          "name": "stderr",
          "output_type": "stream",
          "text": [
            "\rEpoch 4/5:  10%|█         | 13/130 [00:05<00:46,  2.51it/s]"
          ]
        },
        {
          "name": "stdout",
          "output_type": "stream",
          "text": [
            "Error loading /content/drive/MyDrive/archive (14)/Dataset_BUSI_with_GT/benign/benign (168).png: Unexpected type <class 'dict'>\n",
            "Error loading /content/drive/MyDrive/archive (14)/Dataset_BUSI_with_GT/benign/benign (27).png: img should be PIL Image. Got <class 'dict'>\n",
            "Error loading /content/drive/MyDrive/archive (14)/Dataset_BUSI_with_GT/benign/benign (183).png: img should be PIL Image. Got <class 'dict'>\n"
          ]
        },
        {
          "name": "stderr",
          "output_type": "stream",
          "text": [
            "\rEpoch 4/5:  11%|█         | 14/130 [00:06<00:48,  2.41it/s]"
          ]
        },
        {
          "name": "stdout",
          "output_type": "stream",
          "text": [
            "Error loading /content/drive/MyDrive/archive (14)/Dataset_BUSI_with_GT/malignant/malignant (40).png: img should be PIL Image. Got <class 'dict'>\n",
            "Error loading /content/drive/MyDrive/archive (14)/Dataset_BUSI_with_GT/benign/benign (54).png: img should be PIL Image. Got <class 'dict'>\n",
            "Error loading /content/drive/MyDrive/archive (14)/Dataset_BUSI_with_GT/benign/benign (37).png: Unexpected type <class 'dict'>\n",
            "Error loading /content/drive/MyDrive/archive (14)/Dataset_BUSI_with_GT/benign/benign (151).png: Unexpected type <class 'dict'>\n",
            "Error loading /content/drive/MyDrive/archive (14)/Dataset_BUSI_with_GT/benign/benign (74).png: Unexpected type <class 'dict'>\n"
          ]
        },
        {
          "name": "stderr",
          "output_type": "stream",
          "text": [
            "\rEpoch 4/5:  12%|█▏        | 15/130 [00:06<00:46,  2.49it/s]"
          ]
        },
        {
          "name": "stdout",
          "output_type": "stream",
          "text": [
            "Error loading /content/drive/MyDrive/archive (14)/Dataset_BUSI_with_GT/malignant/malignant (135).png: img should be PIL Image. Got <class 'dict'>\n",
            "Error loading /content/drive/MyDrive/archive (14)/Dataset_BUSI_with_GT/benign/benign (325).png: Unexpected type <class 'dict'>\n",
            "Error loading /content/drive/MyDrive/archive (14)/Dataset_BUSI_with_GT/benign/benign (374).png: Unexpected type <class 'dict'>\n",
            "Error loading /content/drive/MyDrive/archive (14)/Dataset_BUSI_with_GT/malignant/malignant (126).png: img should be PIL Image. Got <class 'dict'>\n"
          ]
        },
        {
          "name": "stderr",
          "output_type": "stream",
          "text": [
            "\rEpoch 4/5:  12%|█▏        | 16/130 [00:06<00:46,  2.46it/s]"
          ]
        },
        {
          "name": "stdout",
          "output_type": "stream",
          "text": [
            "Error loading /content/drive/MyDrive/archive (14)/Dataset_BUSI_with_GT/benign/benign (209).png: img should be PIL Image. Got <class 'dict'>\n",
            "Error loading /content/drive/MyDrive/archive (14)/Dataset_BUSI_with_GT/benign/benign (416).png: img should be PIL Image. Got <class 'dict'>\n",
            "Error loading /content/drive/MyDrive/archive (14)/Dataset_BUSI_with_GT/benign/benign (412).png: img should be PIL Image. Got <class 'dict'>\n",
            "Error loading /content/drive/MyDrive/archive (14)/Dataset_BUSI_with_GT/benign/benign (289).png: Unexpected type <class 'dict'>\n"
          ]
        },
        {
          "name": "stderr",
          "output_type": "stream",
          "text": [
            "\rEpoch 4/5:  13%|█▎        | 17/130 [00:07<00:46,  2.41it/s]"
          ]
        },
        {
          "name": "stdout",
          "output_type": "stream",
          "text": [
            "Error loading /content/drive/MyDrive/archive (14)/Dataset_BUSI_with_GT/malignant/malignant (140).png: Unexpected type <class 'dict'>\n",
            "Error loading /content/drive/MyDrive/archive (14)/Dataset_BUSI_with_GT/malignant/malignant (195).png: img should be PIL Image. Got <class 'dict'>\n",
            "Error loading /content/drive/MyDrive/archive (14)/Dataset_BUSI_with_GT/benign/benign (203).png: img should be PIL Image. Got <class 'dict'>\n",
            "Error loading /content/drive/MyDrive/archive (14)/Dataset_BUSI_with_GT/benign/benign (343).png: img should be PIL Image. Got <class 'dict'>\n"
          ]
        },
        {
          "name": "stderr",
          "output_type": "stream",
          "text": [
            "\rEpoch 4/5:  14%|█▍        | 18/130 [00:07<00:44,  2.50it/s]"
          ]
        },
        {
          "name": "stdout",
          "output_type": "stream",
          "text": [
            "Error loading /content/drive/MyDrive/archive (14)/Dataset_BUSI_with_GT/malignant/malignant (3).png: Unexpected type <class 'dict'>\n",
            "Error loading /content/drive/MyDrive/archive (14)/Dataset_BUSI_with_GT/benign/benign (354).png: Unexpected type <class 'dict'>\n",
            "Error loading /content/drive/MyDrive/archive (14)/Dataset_BUSI_with_GT/malignant/malignant (141).png: Unexpected type <class 'dict'>\n",
            "Error loading /content/drive/MyDrive/archive (14)/Dataset_BUSI_with_GT/benign/benign (221).png: Unexpected type <class 'dict'>\n"
          ]
        },
        {
          "name": "stderr",
          "output_type": "stream",
          "text": [
            "\rEpoch 4/5:  15%|█▍        | 19/130 [00:08<00:43,  2.52it/s]"
          ]
        },
        {
          "name": "stdout",
          "output_type": "stream",
          "text": [
            "Error loading /content/drive/MyDrive/archive (14)/Dataset_BUSI_with_GT/benign/benign (242).png: img should be PIL Image. Got <class 'dict'>\n",
            "Error loading /content/drive/MyDrive/archive (14)/Dataset_BUSI_with_GT/malignant/malignant (111).png: Unexpected type <class 'dict'>\n",
            "Error loading /content/drive/MyDrive/archive (14)/Dataset_BUSI_with_GT/malignant/malignant (37).png: img should be PIL Image. Got <class 'dict'>\n",
            "Error loading /content/drive/MyDrive/archive (14)/Dataset_BUSI_with_GT/malignant/malignant (124).png: Unexpected type <class 'dict'>\n"
          ]
        },
        {
          "name": "stderr",
          "output_type": "stream",
          "text": [
            "\rEpoch 4/5:  15%|█▌        | 20/130 [00:08<00:42,  2.56it/s]"
          ]
        },
        {
          "name": "stdout",
          "output_type": "stream",
          "text": [
            "Error loading /content/drive/MyDrive/archive (14)/Dataset_BUSI_with_GT/malignant/malignant (103).png: Unexpected type <class 'dict'>\n",
            "Error loading /content/drive/MyDrive/archive (14)/Dataset_BUSI_with_GT/malignant/malignant (119).png: img should be PIL Image. Got <class 'dict'>\n",
            "Error loading /content/drive/MyDrive/archive (14)/Dataset_BUSI_with_GT/malignant/malignant (62).png: Unexpected type <class 'dict'>\n",
            "Error loading /content/drive/MyDrive/archive (14)/Dataset_BUSI_with_GT/malignant/malignant (149).png: img should be PIL Image. Got <class 'dict'>\n"
          ]
        },
        {
          "name": "stderr",
          "output_type": "stream",
          "text": [
            "\rEpoch 4/5:  16%|█▌        | 21/130 [00:08<00:43,  2.50it/s]"
          ]
        },
        {
          "name": "stdout",
          "output_type": "stream",
          "text": [
            "Error loading /content/drive/MyDrive/archive (14)/Dataset_BUSI_with_GT/benign/benign (350).png: Unexpected type <class 'dict'>\n",
            "Error loading /content/drive/MyDrive/archive (14)/Dataset_BUSI_with_GT/benign/benign (121).png: img should be PIL Image. Got <class 'dict'>\n",
            "Error loading /content/drive/MyDrive/archive (14)/Dataset_BUSI_with_GT/benign/benign (16).png: img should be PIL Image. Got <class 'dict'>\n",
            "Error loading /content/drive/MyDrive/archive (14)/Dataset_BUSI_with_GT/benign/benign (112).png: Unexpected type <class 'dict'>\n"
          ]
        },
        {
          "name": "stderr",
          "output_type": "stream",
          "text": [
            "\rEpoch 4/5:  17%|█▋        | 22/130 [00:09<00:44,  2.44it/s]"
          ]
        },
        {
          "name": "stdout",
          "output_type": "stream",
          "text": [
            "Error loading /content/drive/MyDrive/archive (14)/Dataset_BUSI_with_GT/malignant/malignant (200).png: Unexpected type <class 'dict'>\n",
            "Error loading /content/drive/MyDrive/archive (14)/Dataset_BUSI_with_GT/benign/benign (222).png: Unexpected type <class 'dict'>\n",
            "Error loading /content/drive/MyDrive/archive (14)/Dataset_BUSI_with_GT/malignant/malignant (21).png: img should be PIL Image. Got <class 'dict'>\n",
            "Error loading /content/drive/MyDrive/archive (14)/Dataset_BUSI_with_GT/benign/benign (127).png: Unexpected type <class 'dict'>\n"
          ]
        },
        {
          "name": "stderr",
          "output_type": "stream",
          "text": [
            "\rEpoch 4/5:  18%|█▊        | 23/130 [00:09<00:41,  2.56it/s]"
          ]
        },
        {
          "name": "stdout",
          "output_type": "stream",
          "text": [
            "Error loading /content/drive/MyDrive/archive (14)/Dataset_BUSI_with_GT/benign/benign (393).png: img should be PIL Image. Got <class 'dict'>\n",
            "Error loading /content/drive/MyDrive/archive (14)/Dataset_BUSI_with_GT/malignant/malignant (18).png: Unexpected type <class 'dict'>\n",
            "Error loading /content/drive/MyDrive/archive (14)/Dataset_BUSI_with_GT/malignant/malignant (16).png: img should be PIL Image. Got <class 'dict'>\n",
            "Error loading /content/drive/MyDrive/archive (14)/Dataset_BUSI_with_GT/benign/benign (264).png: img should be PIL Image. Got <class 'dict'>\n"
          ]
        },
        {
          "name": "stderr",
          "output_type": "stream",
          "text": [
            "\rEpoch 4/5:  18%|█▊        | 24/130 [00:10<00:42,  2.48it/s]"
          ]
        },
        {
          "name": "stdout",
          "output_type": "stream",
          "text": [
            "Error loading /content/drive/MyDrive/archive (14)/Dataset_BUSI_with_GT/benign/benign (191).png: Unexpected type <class 'dict'>\n",
            "Error loading /content/drive/MyDrive/archive (14)/Dataset_BUSI_with_GT/benign/benign (47).png: Unexpected type <class 'dict'>\n",
            "Error loading /content/drive/MyDrive/archive (14)/Dataset_BUSI_with_GT/benign/benign (44).png: img should be PIL Image. Got <class 'dict'>\n",
            "Error loading /content/drive/MyDrive/archive (14)/Dataset_BUSI_with_GT/benign/benign (113).png: Unexpected type <class 'dict'>\n"
          ]
        },
        {
          "name": "stderr",
          "output_type": "stream",
          "text": [
            "\rEpoch 4/5:  19%|█▉        | 25/130 [00:10<00:48,  2.17it/s]"
          ]
        },
        {
          "name": "stdout",
          "output_type": "stream",
          "text": [
            "Error loading /content/drive/MyDrive/archive (14)/Dataset_BUSI_with_GT/benign/benign (360).png: Unexpected type <class 'dict'>\n",
            "Error loading /content/drive/MyDrive/archive (14)/Dataset_BUSI_with_GT/malignant/malignant (66).png: img should be PIL Image. Got <class 'dict'>\n",
            "Error loading /content/drive/MyDrive/archive (14)/Dataset_BUSI_with_GT/benign/benign (96).png: img should be PIL Image. Got <class 'dict'>\n"
          ]
        },
        {
          "name": "stderr",
          "output_type": "stream",
          "text": [
            "\rEpoch 4/5:  20%|██        | 26/130 [00:11<00:50,  2.07it/s]"
          ]
        },
        {
          "name": "stdout",
          "output_type": "stream",
          "text": [
            "Error loading /content/drive/MyDrive/archive (14)/Dataset_BUSI_with_GT/benign/benign (80).png: Unexpected type <class 'dict'>\n",
            "Error loading /content/drive/MyDrive/archive (14)/Dataset_BUSI_with_GT/benign/benign (53).png: Unexpected type <class 'dict'>\n",
            "Error loading /content/drive/MyDrive/archive (14)/Dataset_BUSI_with_GT/benign/benign (297).png: img should be PIL Image. Got <class 'dict'>\n",
            "Error loading /content/drive/MyDrive/archive (14)/Dataset_BUSI_with_GT/malignant/malignant (98).png: Unexpected type <class 'dict'>\n"
          ]
        },
        {
          "name": "stderr",
          "output_type": "stream",
          "text": [
            "\rEpoch 4/5:  21%|██        | 27/130 [00:11<00:49,  2.08it/s]"
          ]
        },
        {
          "name": "stdout",
          "output_type": "stream",
          "text": [
            "Error loading /content/drive/MyDrive/archive (14)/Dataset_BUSI_with_GT/malignant/malignant (205).png: Unexpected type <class 'dict'>\n",
            "Error loading /content/drive/MyDrive/archive (14)/Dataset_BUSI_with_GT/benign/benign (105).png: Unexpected type <class 'dict'>\n",
            "Error loading /content/drive/MyDrive/archive (14)/Dataset_BUSI_with_GT/benign/benign (131).png: img should be PIL Image. Got <class 'dict'>\n",
            "Error loading /content/drive/MyDrive/archive (14)/Dataset_BUSI_with_GT/benign/benign (433).png: img should be PIL Image. Got <class 'dict'>\n"
          ]
        },
        {
          "name": "stderr",
          "output_type": "stream",
          "text": [
            "\rEpoch 4/5:  22%|██▏       | 28/130 [00:12<00:52,  1.93it/s]"
          ]
        },
        {
          "name": "stdout",
          "output_type": "stream",
          "text": [
            "Error loading /content/drive/MyDrive/archive (14)/Dataset_BUSI_with_GT/benign/benign (138).png: Unexpected type <class 'dict'>\n",
            "Error loading /content/drive/MyDrive/archive (14)/Dataset_BUSI_with_GT/benign/benign (326).png: img should be PIL Image. Got <class 'dict'>\n",
            "Error loading /content/drive/MyDrive/archive (14)/Dataset_BUSI_with_GT/benign/benign (362).png: img should be PIL Image. Got <class 'dict'>\n",
            "Error loading /content/drive/MyDrive/archive (14)/Dataset_BUSI_with_GT/malignant/malignant (163).png: img should be PIL Image. Got <class 'dict'>\n",
            "Error loading /content/drive/MyDrive/archive (14)/Dataset_BUSI_with_GT/benign/benign (157).png: img should be PIL Image. Got <class 'dict'>\n"
          ]
        },
        {
          "name": "stderr",
          "output_type": "stream",
          "text": [
            "\rEpoch 4/5:  22%|██▏       | 29/130 [00:12<00:55,  1.83it/s]"
          ]
        },
        {
          "name": "stdout",
          "output_type": "stream",
          "text": [
            "Error loading /content/drive/MyDrive/archive (14)/Dataset_BUSI_with_GT/malignant/malignant (54).png: img should be PIL Image. Got <class 'dict'>\n",
            "Error loading /content/drive/MyDrive/archive (14)/Dataset_BUSI_with_GT/benign/benign (40).png: img should be PIL Image. Got <class 'dict'>\n",
            "Error loading /content/drive/MyDrive/archive (14)/Dataset_BUSI_with_GT/benign/benign (342).png: Unexpected type <class 'dict'>\n",
            "Error loading /content/drive/MyDrive/archive (14)/Dataset_BUSI_with_GT/malignant/malignant (120).png: Unexpected type <class 'dict'>\n"
          ]
        },
        {
          "name": "stderr",
          "output_type": "stream",
          "text": [
            "\rEpoch 4/5:  23%|██▎       | 30/130 [00:13<00:56,  1.77it/s]"
          ]
        },
        {
          "name": "stdout",
          "output_type": "stream",
          "text": [
            "Error loading /content/drive/MyDrive/archive (14)/Dataset_BUSI_with_GT/malignant/malignant (63).png: Unexpected type <class 'dict'>\n",
            "Error loading /content/drive/MyDrive/archive (14)/Dataset_BUSI_with_GT/benign/benign (420).png: Unexpected type <class 'dict'>\n",
            "Error loading /content/drive/MyDrive/archive (14)/Dataset_BUSI_with_GT/benign/benign (309).png: Unexpected type <class 'dict'>\n",
            "Error loading /content/drive/MyDrive/archive (14)/Dataset_BUSI_with_GT/benign/benign (248).png: img should be PIL Image. Got <class 'dict'>\n"
          ]
        },
        {
          "name": "stderr",
          "output_type": "stream",
          "text": [
            "\rEpoch 4/5:  24%|██▍       | 31/130 [00:14<00:58,  1.70it/s]"
          ]
        },
        {
          "name": "stdout",
          "output_type": "stream",
          "text": [
            "Error loading /content/drive/MyDrive/archive (14)/Dataset_BUSI_with_GT/malignant/malignant (102).png: Unexpected type <class 'dict'>\n",
            "Error loading /content/drive/MyDrive/archive (14)/Dataset_BUSI_with_GT/benign/benign (84).png: img should be PIL Image. Got <class 'dict'>\n",
            "Error loading /content/drive/MyDrive/archive (14)/Dataset_BUSI_with_GT/benign/benign (219).png: Unexpected type <class 'dict'>\n"
          ]
        },
        {
          "name": "stderr",
          "output_type": "stream",
          "text": [
            "\rEpoch 4/5:  25%|██▍       | 32/130 [00:14<00:57,  1.72it/s]"
          ]
        },
        {
          "name": "stdout",
          "output_type": "stream",
          "text": [
            "Error loading /content/drive/MyDrive/archive (14)/Dataset_BUSI_with_GT/benign/benign (429).png: img should be PIL Image. Got <class 'dict'>\n",
            "Error loading /content/drive/MyDrive/archive (14)/Dataset_BUSI_with_GT/malignant/malignant (139).png: Unexpected type <class 'dict'>\n",
            "Error loading /content/drive/MyDrive/archive (14)/Dataset_BUSI_with_GT/benign/benign (86).png: Unexpected type <class 'dict'>\n",
            "Error loading /content/drive/MyDrive/archive (14)/Dataset_BUSI_with_GT/benign/benign (286).png: img should be PIL Image. Got <class 'dict'>\n"
          ]
        },
        {
          "name": "stderr",
          "output_type": "stream",
          "text": [
            "\rEpoch 4/5:  25%|██▌       | 33/130 [00:15<00:54,  1.78it/s]"
          ]
        },
        {
          "name": "stdout",
          "output_type": "stream",
          "text": [
            "Error loading /content/drive/MyDrive/archive (14)/Dataset_BUSI_with_GT/benign/benign (85).png: Unexpected type <class 'dict'>\n",
            "Error loading /content/drive/MyDrive/archive (14)/Dataset_BUSI_with_GT/benign/benign (430).png: Unexpected type <class 'dict'>\n",
            "Error loading /content/drive/MyDrive/archive (14)/Dataset_BUSI_with_GT/benign/benign (427).png: img should be PIL Image. Got <class 'dict'>\n",
            "Error loading /content/drive/MyDrive/archive (14)/Dataset_BUSI_with_GT/benign/benign (404).png: Unexpected type <class 'dict'>\n"
          ]
        },
        {
          "name": "stderr",
          "output_type": "stream",
          "text": [
            "\rEpoch 4/5:  26%|██▌       | 34/130 [00:15<00:53,  1.78it/s]"
          ]
        },
        {
          "name": "stdout",
          "output_type": "stream",
          "text": [
            "Error loading /content/drive/MyDrive/archive (14)/Dataset_BUSI_with_GT/malignant/malignant (157).png: Unexpected type <class 'dict'>\n",
            "Error loading /content/drive/MyDrive/archive (14)/Dataset_BUSI_with_GT/benign/benign (60).png: Unexpected type <class 'dict'>\n",
            "Error loading /content/drive/MyDrive/archive (14)/Dataset_BUSI_with_GT/benign/benign (436).png: img should be PIL Image. Got <class 'dict'>\n",
            "Error loading /content/drive/MyDrive/archive (14)/Dataset_BUSI_with_GT/malignant/malignant (61).png: Unexpected type <class 'dict'>\n",
            "Error loading /content/drive/MyDrive/archive (14)/Dataset_BUSI_with_GT/malignant/malignant (207).png: img should be PIL Image. Got <class 'dict'>\n"
          ]
        },
        {
          "name": "stderr",
          "output_type": "stream",
          "text": [
            "\rEpoch 4/5:  27%|██▋       | 35/130 [00:16<00:51,  1.84it/s]"
          ]
        },
        {
          "name": "stdout",
          "output_type": "stream",
          "text": [
            "Error loading /content/drive/MyDrive/archive (14)/Dataset_BUSI_with_GT/benign/benign (406).png: Unexpected type <class 'dict'>\n",
            "Error loading /content/drive/MyDrive/archive (14)/Dataset_BUSI_with_GT/malignant/malignant (94).png: Unexpected type <class 'dict'>\n",
            "Error loading /content/drive/MyDrive/archive (14)/Dataset_BUSI_with_GT/benign/benign (206).png: img should be PIL Image. Got <class 'dict'>\n",
            "Error loading /content/drive/MyDrive/archive (14)/Dataset_BUSI_with_GT/malignant/malignant (104).png: img should be PIL Image. Got <class 'dict'>\n"
          ]
        },
        {
          "name": "stderr",
          "output_type": "stream",
          "text": [
            "\rEpoch 4/5:  28%|██▊       | 36/130 [00:16<00:46,  2.03it/s]"
          ]
        },
        {
          "name": "stdout",
          "output_type": "stream",
          "text": [
            "Error loading /content/drive/MyDrive/archive (14)/Dataset_BUSI_with_GT/benign/benign (272).png: img should be PIL Image. Got <class 'dict'>\n",
            "Error loading /content/drive/MyDrive/archive (14)/Dataset_BUSI_with_GT/benign/benign (254).png: img should be PIL Image. Got <class 'dict'>\n",
            "Error loading /content/drive/MyDrive/archive (14)/Dataset_BUSI_with_GT/malignant/malignant (53).png: img should be PIL Image. Got <class 'dict'>\n",
            "Error loading /content/drive/MyDrive/archive (14)/Dataset_BUSI_with_GT/benign/benign (154).png: Unexpected type <class 'dict'>\n"
          ]
        },
        {
          "name": "stderr",
          "output_type": "stream",
          "text": [
            "\rEpoch 4/5:  28%|██▊       | 37/130 [00:16<00:42,  2.20it/s]"
          ]
        },
        {
          "name": "stdout",
          "output_type": "stream",
          "text": [
            "Error loading /content/drive/MyDrive/archive (14)/Dataset_BUSI_with_GT/benign/benign (275).png: img should be PIL Image. Got <class 'dict'>\n",
            "Error loading /content/drive/MyDrive/archive (14)/Dataset_BUSI_with_GT/benign/benign (331).png: img should be PIL Image. Got <class 'dict'>\n",
            "Error loading /content/drive/MyDrive/archive (14)/Dataset_BUSI_with_GT/benign/benign (346).png: img should be PIL Image. Got <class 'dict'>\n",
            "Error loading /content/drive/MyDrive/archive (14)/Dataset_BUSI_with_GT/benign/benign (117).png: img should be PIL Image. Got <class 'dict'>\n"
          ]
        },
        {
          "name": "stderr",
          "output_type": "stream",
          "text": [
            "\rEpoch 4/5:  29%|██▉       | 38/130 [00:17<00:40,  2.24it/s]"
          ]
        },
        {
          "name": "stdout",
          "output_type": "stream",
          "text": [
            "Error loading /content/drive/MyDrive/archive (14)/Dataset_BUSI_with_GT/benign/benign (83).png: Unexpected type <class 'dict'>\n",
            "Error loading /content/drive/MyDrive/archive (14)/Dataset_BUSI_with_GT/benign/benign (155).png: Unexpected type <class 'dict'>\n",
            "Error loading /content/drive/MyDrive/archive (14)/Dataset_BUSI_with_GT/benign/benign (245).png: Unexpected type <class 'dict'>\n",
            "Error loading /content/drive/MyDrive/archive (14)/Dataset_BUSI_with_GT/malignant/malignant (75).png: img should be PIL Image. Got <class 'dict'>\n"
          ]
        },
        {
          "name": "stderr",
          "output_type": "stream",
          "text": [
            "\rEpoch 4/5:  30%|███       | 39/130 [00:17<00:39,  2.33it/s]"
          ]
        },
        {
          "name": "stdout",
          "output_type": "stream",
          "text": [
            "Error loading /content/drive/MyDrive/archive (14)/Dataset_BUSI_with_GT/malignant/malignant (109).png: Unexpected type <class 'dict'>\n",
            "Error loading /content/drive/MyDrive/archive (14)/Dataset_BUSI_with_GT/benign/benign (123).png: img should be PIL Image. Got <class 'dict'>\n",
            "Error loading /content/drive/MyDrive/archive (14)/Dataset_BUSI_with_GT/benign/benign (111).png: Unexpected type <class 'dict'>\n",
            "Error loading /content/drive/MyDrive/archive (14)/Dataset_BUSI_with_GT/malignant/malignant (168).png: img should be PIL Image. Got <class 'dict'>\n"
          ]
        },
        {
          "name": "stderr",
          "output_type": "stream",
          "text": [
            "\rEpoch 4/5:  31%|███       | 40/130 [00:18<00:36,  2.43it/s]"
          ]
        },
        {
          "name": "stdout",
          "output_type": "stream",
          "text": [
            "Error loading /content/drive/MyDrive/archive (14)/Dataset_BUSI_with_GT/benign/benign (388).png: img should be PIL Image. Got <class 'dict'>\n",
            "Error loading /content/drive/MyDrive/archive (14)/Dataset_BUSI_with_GT/benign/benign (152).png: Unexpected type <class 'dict'>\n",
            "Error loading /content/drive/MyDrive/archive (14)/Dataset_BUSI_with_GT/benign/benign (135).png: img should be PIL Image. Got <class 'dict'>\n",
            "Error loading /content/drive/MyDrive/archive (14)/Dataset_BUSI_with_GT/benign/benign (10).png: img should be PIL Image. Got <class 'dict'>\n"
          ]
        },
        {
          "name": "stderr",
          "output_type": "stream",
          "text": [
            "\rEpoch 4/5:  32%|███▏      | 41/130 [00:18<00:37,  2.39it/s]"
          ]
        },
        {
          "name": "stdout",
          "output_type": "stream",
          "text": [
            "Error loading /content/drive/MyDrive/archive (14)/Dataset_BUSI_with_GT/malignant/malignant (142).png: Unexpected type <class 'dict'>\n",
            "Error loading /content/drive/MyDrive/archive (14)/Dataset_BUSI_with_GT/benign/benign (65).png: img should be PIL Image. Got <class 'dict'>\n",
            "Error loading /content/drive/MyDrive/archive (14)/Dataset_BUSI_with_GT/benign/benign (258).png: img should be PIL Image. Got <class 'dict'>\n",
            "Error loading /content/drive/MyDrive/archive (14)/Dataset_BUSI_with_GT/benign/benign (241).png: Unexpected type <class 'dict'>\n"
          ]
        },
        {
          "name": "stderr",
          "output_type": "stream",
          "text": [
            "\rEpoch 4/5:  32%|███▏      | 42/130 [00:18<00:35,  2.47it/s]"
          ]
        },
        {
          "name": "stdout",
          "output_type": "stream",
          "text": [
            "Error loading /content/drive/MyDrive/archive (14)/Dataset_BUSI_with_GT/benign/benign (93).png: Unexpected type <class 'dict'>\n",
            "Error loading /content/drive/MyDrive/archive (14)/Dataset_BUSI_with_GT/malignant/malignant (65).png: img should be PIL Image. Got <class 'dict'>\n",
            "Error loading /content/drive/MyDrive/archive (14)/Dataset_BUSI_with_GT/malignant/malignant (153).png: Unexpected type <class 'dict'>\n"
          ]
        },
        {
          "name": "stderr",
          "output_type": "stream",
          "text": [
            "\rEpoch 4/5:  33%|███▎      | 43/130 [00:19<00:36,  2.40it/s]"
          ]
        },
        {
          "name": "stdout",
          "output_type": "stream",
          "text": [
            "Error loading /content/drive/MyDrive/archive (14)/Dataset_BUSI_with_GT/malignant/malignant (210).png: Unexpected type <class 'dict'>\n",
            "Error loading /content/drive/MyDrive/archive (14)/Dataset_BUSI_with_GT/malignant/malignant (184).png: Unexpected type <class 'dict'>\n",
            "Error loading /content/drive/MyDrive/archive (14)/Dataset_BUSI_with_GT/malignant/malignant (108).png: Unexpected type <class 'dict'>\n",
            "Error loading /content/drive/MyDrive/archive (14)/Dataset_BUSI_with_GT/benign/benign (214).png: Unexpected type <class 'dict'>\n",
            "Error loading /content/drive/MyDrive/archive (14)/Dataset_BUSI_with_GT/malignant/malignant (55).png: img should be PIL Image. Got <class 'dict'>\n"
          ]
        },
        {
          "name": "stderr",
          "output_type": "stream",
          "text": [
            "\rEpoch 4/5:  34%|███▍      | 44/130 [00:19<00:35,  2.41it/s]"
          ]
        },
        {
          "name": "stdout",
          "output_type": "stream",
          "text": [
            "Error loading /content/drive/MyDrive/archive (14)/Dataset_BUSI_with_GT/benign/benign (358).png: img should be PIL Image. Got <class 'dict'>\n",
            "Error loading /content/drive/MyDrive/archive (14)/Dataset_BUSI_with_GT/benign/benign (99).png: img should be PIL Image. Got <class 'dict'>\n",
            "Error loading /content/drive/MyDrive/archive (14)/Dataset_BUSI_with_GT/benign/benign (363).png: img should be PIL Image. Got <class 'dict'>\n",
            "Error loading /content/drive/MyDrive/archive (14)/Dataset_BUSI_with_GT/benign/benign (164).png: Unexpected type <class 'dict'>\n"
          ]
        },
        {
          "name": "stderr",
          "output_type": "stream",
          "text": [
            "\rEpoch 4/5:  35%|███▍      | 45/130 [00:20<00:34,  2.48it/s]"
          ]
        },
        {
          "name": "stdout",
          "output_type": "stream",
          "text": [
            "Error loading /content/drive/MyDrive/archive (14)/Dataset_BUSI_with_GT/benign/benign (140).png: Unexpected type <class 'dict'>\n",
            "Error loading /content/drive/MyDrive/archive (14)/Dataset_BUSI_with_GT/benign/benign (126).png: img should be PIL Image. Got <class 'dict'>\n",
            "Error loading /content/drive/MyDrive/archive (14)/Dataset_BUSI_with_GT/benign/benign (1).png: Unexpected type <class 'dict'>\n",
            "Error loading /content/drive/MyDrive/archive (14)/Dataset_BUSI_with_GT/benign/benign (290).png: img should be PIL Image. Got <class 'dict'>\n"
          ]
        },
        {
          "name": "stderr",
          "output_type": "stream",
          "text": [
            "\rEpoch 4/5:  35%|███▌      | 46/130 [00:20<00:33,  2.49it/s]"
          ]
        },
        {
          "name": "stdout",
          "output_type": "stream",
          "text": [
            "Error loading /content/drive/MyDrive/archive (14)/Dataset_BUSI_with_GT/malignant/malignant (152).png: img should be PIL Image. Got <class 'dict'>\n",
            "Error loading /content/drive/MyDrive/archive (14)/Dataset_BUSI_with_GT/benign/benign (187).png: Unexpected type <class 'dict'>\n",
            "Error loading /content/drive/MyDrive/archive (14)/Dataset_BUSI_with_GT/benign/benign (432).png: img should be PIL Image. Got <class 'dict'>\n",
            "Error loading /content/drive/MyDrive/archive (14)/Dataset_BUSI_with_GT/benign/benign (267).png: Unexpected type <class 'dict'>\n"
          ]
        },
        {
          "name": "stderr",
          "output_type": "stream",
          "text": [
            "\rEpoch 4/5:  36%|███▌      | 47/130 [00:21<00:33,  2.48it/s]"
          ]
        },
        {
          "name": "stdout",
          "output_type": "stream",
          "text": [
            "Error loading /content/drive/MyDrive/archive (14)/Dataset_BUSI_with_GT/benign/benign (160).png: Unexpected type <class 'dict'>\n",
            "Error loading /content/drive/MyDrive/archive (14)/Dataset_BUSI_with_GT/benign/benign (348).png: Unexpected type <class 'dict'>\n",
            "Error loading /content/drive/MyDrive/archive (14)/Dataset_BUSI_with_GT/benign/benign (243).png: Unexpected type <class 'dict'>\n",
            "Error loading /content/drive/MyDrive/archive (14)/Dataset_BUSI_with_GT/malignant/malignant (14).png: img should be PIL Image. Got <class 'dict'>\n"
          ]
        },
        {
          "name": "stderr",
          "output_type": "stream",
          "text": [
            "\rEpoch 4/5:  37%|███▋      | 48/130 [00:21<00:33,  2.47it/s]"
          ]
        },
        {
          "name": "stdout",
          "output_type": "stream",
          "text": [
            "Error loading /content/drive/MyDrive/archive (14)/Dataset_BUSI_with_GT/benign/benign (11).png: Unexpected type <class 'dict'>\n",
            "Error loading /content/drive/MyDrive/archive (14)/Dataset_BUSI_with_GT/benign/benign (188).png: img should be PIL Image. Got <class 'dict'>\n",
            "Error loading /content/drive/MyDrive/archive (14)/Dataset_BUSI_with_GT/benign/benign (17).png: Unexpected type <class 'dict'>\n",
            "Error loading /content/drive/MyDrive/archive (14)/Dataset_BUSI_with_GT/malignant/malignant (48).png: Unexpected type <class 'dict'>\n"
          ]
        },
        {
          "name": "stderr",
          "output_type": "stream",
          "text": [
            "\rEpoch 4/5:  38%|███▊      | 49/130 [00:21<00:32,  2.46it/s]"
          ]
        },
        {
          "name": "stdout",
          "output_type": "stream",
          "text": [
            "Error loading /content/drive/MyDrive/archive (14)/Dataset_BUSI_with_GT/malignant/malignant (193).png: Unexpected type <class 'dict'>\n",
            "Error loading /content/drive/MyDrive/archive (14)/Dataset_BUSI_with_GT/malignant/malignant (136).png: img should be PIL Image. Got <class 'dict'>\n",
            "Error loading /content/drive/MyDrive/archive (14)/Dataset_BUSI_with_GT/malignant/malignant (23).png: img should be PIL Image. Got <class 'dict'>\n",
            "Error loading /content/drive/MyDrive/archive (14)/Dataset_BUSI_with_GT/benign/benign (81).png: img should be PIL Image. Got <class 'dict'>\n"
          ]
        },
        {
          "name": "stderr",
          "output_type": "stream",
          "text": [
            "\rEpoch 4/5:  38%|███▊      | 50/130 [00:22<00:31,  2.54it/s]"
          ]
        },
        {
          "name": "stdout",
          "output_type": "stream",
          "text": [
            "Error loading /content/drive/MyDrive/archive (14)/Dataset_BUSI_with_GT/benign/benign (306).png: img should be PIL Image. Got <class 'dict'>\n",
            "Error loading /content/drive/MyDrive/archive (14)/Dataset_BUSI_with_GT/benign/benign (77).png: img should be PIL Image. Got <class 'dict'>\n",
            "Error loading /content/drive/MyDrive/archive (14)/Dataset_BUSI_with_GT/benign/benign (61).png: Unexpected type <class 'dict'>\n",
            "Error loading /content/drive/MyDrive/archive (14)/Dataset_BUSI_with_GT/benign/benign (386).png: Unexpected type <class 'dict'>\n"
          ]
        },
        {
          "name": "stderr",
          "output_type": "stream",
          "text": [
            "\rEpoch 4/5:  39%|███▉      | 51/130 [00:22<00:31,  2.51it/s]"
          ]
        },
        {
          "name": "stdout",
          "output_type": "stream",
          "text": [
            "Error loading /content/drive/MyDrive/archive (14)/Dataset_BUSI_with_GT/benign/benign (285).png: Unexpected type <class 'dict'>\n",
            "Error loading /content/drive/MyDrive/archive (14)/Dataset_BUSI_with_GT/benign/benign (64).png: Unexpected type <class 'dict'>\n",
            "Error loading /content/drive/MyDrive/archive (14)/Dataset_BUSI_with_GT/benign/benign (75).png: Unexpected type <class 'dict'>\n",
            "Error loading /content/drive/MyDrive/archive (14)/Dataset_BUSI_with_GT/benign/benign (141).png: img should be PIL Image. Got <class 'dict'>\n"
          ]
        },
        {
          "name": "stderr",
          "output_type": "stream",
          "text": [
            "\rEpoch 4/5:  40%|████      | 52/130 [00:23<00:31,  2.49it/s]"
          ]
        },
        {
          "name": "stdout",
          "output_type": "stream",
          "text": [
            "Error loading /content/drive/MyDrive/archive (14)/Dataset_BUSI_with_GT/malignant/malignant (117).png: Unexpected type <class 'dict'>\n",
            "Error loading /content/drive/MyDrive/archive (14)/Dataset_BUSI_with_GT/benign/benign (328).png: img should be PIL Image. Got <class 'dict'>\n",
            "Error loading /content/drive/MyDrive/archive (14)/Dataset_BUSI_with_GT/malignant/malignant (167).png: Unexpected type <class 'dict'>\n",
            "Error loading /content/drive/MyDrive/archive (14)/Dataset_BUSI_with_GT/malignant/malignant (101).png: img should be PIL Image. Got <class 'dict'>\n"
          ]
        },
        {
          "name": "stderr",
          "output_type": "stream",
          "text": [
            "\rEpoch 4/5:  41%|████      | 53/130 [00:23<00:31,  2.46it/s]"
          ]
        },
        {
          "name": "stdout",
          "output_type": "stream",
          "text": [
            "Error loading /content/drive/MyDrive/archive (14)/Dataset_BUSI_with_GT/benign/benign (8).png: img should be PIL Image. Got <class 'dict'>\n",
            "Error loading /content/drive/MyDrive/archive (14)/Dataset_BUSI_with_GT/benign/benign (143).png: Unexpected type <class 'dict'>\n",
            "Error loading /content/drive/MyDrive/archive (14)/Dataset_BUSI_with_GT/benign/benign (268).png: Unexpected type <class 'dict'>\n",
            "Error loading /content/drive/MyDrive/archive (14)/Dataset_BUSI_with_GT/malignant/malignant (132).png: Unexpected type <class 'dict'>\n"
          ]
        },
        {
          "name": "stderr",
          "output_type": "stream",
          "text": [
            "\rEpoch 4/5:  42%|████▏     | 54/130 [00:23<00:30,  2.50it/s]"
          ]
        },
        {
          "name": "stdout",
          "output_type": "stream",
          "text": [
            "Error loading /content/drive/MyDrive/archive (14)/Dataset_BUSI_with_GT/benign/benign (417).png: img should be PIL Image. Got <class 'dict'>\n",
            "Error loading /content/drive/MyDrive/archive (14)/Dataset_BUSI_with_GT/malignant/malignant (118).png: img should be PIL Image. Got <class 'dict'>\n",
            "Error loading /content/drive/MyDrive/archive (14)/Dataset_BUSI_with_GT/benign/benign (182).png: Unexpected type <class 'dict'>\n",
            "Error loading /content/drive/MyDrive/archive (14)/Dataset_BUSI_with_GT/benign/benign (418).png: Unexpected type <class 'dict'>\n"
          ]
        },
        {
          "name": "stderr",
          "output_type": "stream",
          "text": [
            "\rEpoch 4/5:  42%|████▏     | 55/130 [00:24<00:29,  2.51it/s]"
          ]
        },
        {
          "name": "stdout",
          "output_type": "stream",
          "text": [
            "Error loading /content/drive/MyDrive/archive (14)/Dataset_BUSI_with_GT/benign/benign (91).png: img should be PIL Image. Got <class 'dict'>\n",
            "Error loading /content/drive/MyDrive/archive (14)/Dataset_BUSI_with_GT/benign/benign (397).png: Unexpected type <class 'dict'>\n",
            "Error loading /content/drive/MyDrive/archive (14)/Dataset_BUSI_with_GT/malignant/malignant (144).png: Unexpected type <class 'dict'>\n",
            "Error loading /content/drive/MyDrive/archive (14)/Dataset_BUSI_with_GT/malignant/malignant (24).png: img should be PIL Image. Got <class 'dict'>\n"
          ]
        },
        {
          "name": "stderr",
          "output_type": "stream",
          "text": [
            "\rEpoch 4/5:  43%|████▎     | 56/130 [00:24<00:29,  2.49it/s]"
          ]
        },
        {
          "name": "stdout",
          "output_type": "stream",
          "text": [
            "Error loading /content/drive/MyDrive/archive (14)/Dataset_BUSI_with_GT/benign/benign (303).png: img should be PIL Image. Got <class 'dict'>\n",
            "Error loading /content/drive/MyDrive/archive (14)/Dataset_BUSI_with_GT/benign/benign (294).png: Unexpected type <class 'dict'>\n",
            "Error loading /content/drive/MyDrive/archive (14)/Dataset_BUSI_with_GT/benign/benign (95).png: img should be PIL Image. Got <class 'dict'>\n",
            "Error loading /content/drive/MyDrive/archive (14)/Dataset_BUSI_with_GT/malignant/malignant (78).png: Unexpected type <class 'dict'>\n"
          ]
        },
        {
          "name": "stderr",
          "output_type": "stream",
          "text": [
            "\rEpoch 4/5:  44%|████▍     | 57/130 [00:25<00:29,  2.52it/s]"
          ]
        },
        {
          "name": "stdout",
          "output_type": "stream",
          "text": [
            "Error loading /content/drive/MyDrive/archive (14)/Dataset_BUSI_with_GT/malignant/malignant (12).png: img should be PIL Image. Got <class 'dict'>\n",
            "Error loading /content/drive/MyDrive/archive (14)/Dataset_BUSI_with_GT/benign/benign (419).png: img should be PIL Image. Got <class 'dict'>\n",
            "Error loading /content/drive/MyDrive/archive (14)/Dataset_BUSI_with_GT/malignant/malignant (138).png: img should be PIL Image. Got <class 'dict'>\n",
            "Error loading /content/drive/MyDrive/archive (14)/Dataset_BUSI_with_GT/malignant/malignant (33).png: img should be PIL Image. Got <class 'dict'>\n"
          ]
        },
        {
          "name": "stderr",
          "output_type": "stream",
          "text": [
            "\rEpoch 4/5:  45%|████▍     | 58/130 [00:25<00:28,  2.52it/s]"
          ]
        },
        {
          "name": "stdout",
          "output_type": "stream",
          "text": [
            "Error loading /content/drive/MyDrive/archive (14)/Dataset_BUSI_with_GT/malignant/malignant (36).png: Unexpected type <class 'dict'>\n",
            "Error loading /content/drive/MyDrive/archive (14)/Dataset_BUSI_with_GT/malignant/malignant (116).png: img should be PIL Image. Got <class 'dict'>\n",
            "Error loading /content/drive/MyDrive/archive (14)/Dataset_BUSI_with_GT/malignant/malignant (73).png: img should be PIL Image. Got <class 'dict'>\n",
            "Error loading /content/drive/MyDrive/archive (14)/Dataset_BUSI_with_GT/benign/benign (56).png: Unexpected type <class 'dict'>\n"
          ]
        },
        {
          "name": "stderr",
          "output_type": "stream",
          "text": [
            "\rEpoch 4/5:  45%|████▌     | 59/130 [00:25<00:28,  2.48it/s]"
          ]
        },
        {
          "name": "stdout",
          "output_type": "stream",
          "text": [
            "Error loading /content/drive/MyDrive/archive (14)/Dataset_BUSI_with_GT/benign/benign (21).png: Unexpected type <class 'dict'>\n",
            "Error loading /content/drive/MyDrive/archive (14)/Dataset_BUSI_with_GT/benign/benign (382).png: Unexpected type <class 'dict'>\n",
            "Error loading /content/drive/MyDrive/archive (14)/Dataset_BUSI_with_GT/malignant/malignant (20).png: img should be PIL Image. Got <class 'dict'>\n",
            "Error loading /content/drive/MyDrive/archive (14)/Dataset_BUSI_with_GT/benign/benign (148).png: Unexpected type <class 'dict'>\n"
          ]
        },
        {
          "name": "stderr",
          "output_type": "stream",
          "text": [
            "\rEpoch 4/5:  46%|████▌     | 60/130 [00:26<00:27,  2.51it/s]"
          ]
        },
        {
          "name": "stdout",
          "output_type": "stream",
          "text": [
            "Error loading /content/drive/MyDrive/archive (14)/Dataset_BUSI_with_GT/malignant/malignant (93).png: img should be PIL Image. Got <class 'dict'>\n",
            "Error loading /content/drive/MyDrive/archive (14)/Dataset_BUSI_with_GT/benign/benign (139).png: Unexpected type <class 'dict'>\n",
            "Error loading /content/drive/MyDrive/archive (14)/Dataset_BUSI_with_GT/benign/benign (260).png: img should be PIL Image. Got <class 'dict'>\n"
          ]
        },
        {
          "name": "stderr",
          "output_type": "stream",
          "text": [
            "\rEpoch 4/5:  47%|████▋     | 61/130 [00:26<00:29,  2.35it/s]"
          ]
        },
        {
          "name": "stdout",
          "output_type": "stream",
          "text": [
            "Error loading /content/drive/MyDrive/archive (14)/Dataset_BUSI_with_GT/benign/benign (19).png: Unexpected type <class 'dict'>\n",
            "Error loading /content/drive/MyDrive/archive (14)/Dataset_BUSI_with_GT/malignant/malignant (13).png: Unexpected type <class 'dict'>\n",
            "Error loading /content/drive/MyDrive/archive (14)/Dataset_BUSI_with_GT/malignant/malignant (29).png: Unexpected type <class 'dict'>\n",
            "Error loading /content/drive/MyDrive/archive (14)/Dataset_BUSI_with_GT/benign/benign (170).png: img should be PIL Image. Got <class 'dict'>\n"
          ]
        },
        {
          "name": "stderr",
          "output_type": "stream",
          "text": [
            "\rEpoch 4/5:  48%|████▊     | 62/130 [00:27<00:29,  2.30it/s]"
          ]
        },
        {
          "name": "stdout",
          "output_type": "stream",
          "text": [
            "Error loading /content/drive/MyDrive/archive (14)/Dataset_BUSI_with_GT/benign/benign (367).png: img should be PIL Image. Got <class 'dict'>\n",
            "Error loading /content/drive/MyDrive/archive (14)/Dataset_BUSI_with_GT/benign/benign (78).png: img should be PIL Image. Got <class 'dict'>\n",
            "Error loading /content/drive/MyDrive/archive (14)/Dataset_BUSI_with_GT/benign/benign (330).png: img should be PIL Image. Got <class 'dict'>\n",
            "Error loading /content/drive/MyDrive/archive (14)/Dataset_BUSI_with_GT/benign/benign (296).png: img should be PIL Image. Got <class 'dict'>\n"
          ]
        },
        {
          "name": "stderr",
          "output_type": "stream",
          "text": [
            "\rEpoch 4/5:  48%|████▊     | 63/130 [00:27<00:32,  2.06it/s]"
          ]
        },
        {
          "name": "stdout",
          "output_type": "stream",
          "text": [
            "Error loading /content/drive/MyDrive/archive (14)/Dataset_BUSI_with_GT/benign/benign (28).png: img should be PIL Image. Got <class 'dict'>\n",
            "Error loading /content/drive/MyDrive/archive (14)/Dataset_BUSI_with_GT/malignant/malignant (17).png: Unexpected type <class 'dict'>\n",
            "Error loading /content/drive/MyDrive/archive (14)/Dataset_BUSI_with_GT/malignant/malignant (70).png: img should be PIL Image. Got <class 'dict'>\n",
            "Error loading /content/drive/MyDrive/archive (14)/Dataset_BUSI_with_GT/benign/benign (396).png: Unexpected type <class 'dict'>\n",
            "Error loading /content/drive/MyDrive/archive (14)/Dataset_BUSI_with_GT/benign/benign (252).png: Unexpected type <class 'dict'>\n"
          ]
        },
        {
          "name": "stderr",
          "output_type": "stream",
          "text": [
            "\rEpoch 4/5:  49%|████▉     | 64/130 [00:28<00:32,  2.03it/s]"
          ]
        },
        {
          "name": "stdout",
          "output_type": "stream",
          "text": [
            "Error loading /content/drive/MyDrive/archive (14)/Dataset_BUSI_with_GT/benign/benign (423).png: Unexpected type <class 'dict'>\n",
            "Error loading /content/drive/MyDrive/archive (14)/Dataset_BUSI_with_GT/benign/benign (238).png: Unexpected type <class 'dict'>\n",
            "Error loading /content/drive/MyDrive/archive (14)/Dataset_BUSI_with_GT/benign/benign (212).png: img should be PIL Image. Got <class 'dict'>\n"
          ]
        },
        {
          "name": "stderr",
          "output_type": "stream",
          "text": [
            "\rEpoch 4/5:  50%|█████     | 65/130 [00:28<00:31,  2.05it/s]"
          ]
        },
        {
          "name": "stdout",
          "output_type": "stream",
          "text": [
            "Error loading /content/drive/MyDrive/archive (14)/Dataset_BUSI_with_GT/malignant/malignant (185).png: img should be PIL Image. Got <class 'dict'>\n",
            "Error loading /content/drive/MyDrive/archive (14)/Dataset_BUSI_with_GT/benign/benign (405).png: img should be PIL Image. Got <class 'dict'>\n",
            "Error loading /content/drive/MyDrive/archive (14)/Dataset_BUSI_with_GT/benign/benign (158).png: Unexpected type <class 'dict'>\n",
            "Error loading /content/drive/MyDrive/archive (14)/Dataset_BUSI_with_GT/malignant/malignant (143).png: img should be PIL Image. Got <class 'dict'>\n"
          ]
        },
        {
          "name": "stderr",
          "output_type": "stream",
          "text": [
            "\rEpoch 4/5:  51%|█████     | 66/130 [00:29<00:30,  2.08it/s]"
          ]
        },
        {
          "name": "stdout",
          "output_type": "stream",
          "text": [
            "Error loading /content/drive/MyDrive/archive (14)/Dataset_BUSI_with_GT/benign/benign (33).png: img should be PIL Image. Got <class 'dict'>\n",
            "Error loading /content/drive/MyDrive/archive (14)/Dataset_BUSI_with_GT/benign/benign (282).png: Unexpected type <class 'dict'>\n",
            "Error loading /content/drive/MyDrive/archive (14)/Dataset_BUSI_with_GT/malignant/malignant (67).png: img should be PIL Image. Got <class 'dict'>\n",
            "Error loading /content/drive/MyDrive/archive (14)/Dataset_BUSI_with_GT/benign/benign (192).png: img should be PIL Image. Got <class 'dict'>\n"
          ]
        },
        {
          "name": "stderr",
          "output_type": "stream",
          "text": [
            "\rEpoch 4/5:  52%|█████▏    | 67/130 [00:29<00:29,  2.10it/s]"
          ]
        },
        {
          "name": "stdout",
          "output_type": "stream",
          "text": [
            "Error loading /content/drive/MyDrive/archive (14)/Dataset_BUSI_with_GT/malignant/malignant (133).png: Unexpected type <class 'dict'>\n",
            "Error loading /content/drive/MyDrive/archive (14)/Dataset_BUSI_with_GT/benign/benign (261).png: Unexpected type <class 'dict'>\n",
            "Error loading /content/drive/MyDrive/archive (14)/Dataset_BUSI_with_GT/benign/benign (329).png: img should be PIL Image. Got <class 'dict'>\n",
            "Error loading /content/drive/MyDrive/archive (14)/Dataset_BUSI_with_GT/benign/benign (52).png: img should be PIL Image. Got <class 'dict'>\n",
            "Error loading /content/drive/MyDrive/archive (14)/Dataset_BUSI_with_GT/malignant/malignant (25).png: img should be PIL Image. Got <class 'dict'>\n"
          ]
        },
        {
          "name": "stderr",
          "output_type": "stream",
          "text": [
            "\rEpoch 4/5:  52%|█████▏    | 68/130 [00:30<00:27,  2.25it/s]"
          ]
        },
        {
          "name": "stdout",
          "output_type": "stream",
          "text": [
            "Error loading /content/drive/MyDrive/archive (14)/Dataset_BUSI_with_GT/benign/benign (225).png: Unexpected type <class 'dict'>\n",
            "Error loading /content/drive/MyDrive/archive (14)/Dataset_BUSI_with_GT/benign/benign (244).png: img should be PIL Image. Got <class 'dict'>\n",
            "Error loading /content/drive/MyDrive/archive (14)/Dataset_BUSI_with_GT/benign/benign (133).png: Unexpected type <class 'dict'>\n",
            "Error loading /content/drive/MyDrive/archive (14)/Dataset_BUSI_with_GT/benign/benign (4).png: img should be PIL Image. Got <class 'dict'>\n"
          ]
        },
        {
          "name": "stderr",
          "output_type": "stream",
          "text": [
            "\rEpoch 4/5:  53%|█████▎    | 69/130 [00:30<00:25,  2.39it/s]"
          ]
        },
        {
          "name": "stdout",
          "output_type": "stream",
          "text": [
            "Error loading /content/drive/MyDrive/archive (14)/Dataset_BUSI_with_GT/benign/benign (57).png: Unexpected type <class 'dict'>\n",
            "Error loading /content/drive/MyDrive/archive (14)/Dataset_BUSI_with_GT/benign/benign (320).png: Unexpected type <class 'dict'>\n",
            "Error loading /content/drive/MyDrive/archive (14)/Dataset_BUSI_with_GT/benign/benign (425).png: Unexpected type <class 'dict'>\n",
            "Error loading /content/drive/MyDrive/archive (14)/Dataset_BUSI_with_GT/malignant/malignant (31).png: Unexpected type <class 'dict'>\n"
          ]
        },
        {
          "name": "stderr",
          "output_type": "stream",
          "text": [
            "\rEpoch 4/5:  54%|█████▍    | 70/130 [00:30<00:24,  2.44it/s]"
          ]
        },
        {
          "name": "stdout",
          "output_type": "stream",
          "text": [
            "Error loading /content/drive/MyDrive/archive (14)/Dataset_BUSI_with_GT/malignant/malignant (51).png: img should be PIL Image. Got <class 'dict'>\n",
            "Error loading /content/drive/MyDrive/archive (14)/Dataset_BUSI_with_GT/benign/benign (411).png: img should be PIL Image. Got <class 'dict'>\n",
            "Error loading /content/drive/MyDrive/archive (14)/Dataset_BUSI_with_GT/malignant/malignant (178).png: Unexpected type <class 'dict'>\n",
            "Error loading /content/drive/MyDrive/archive (14)/Dataset_BUSI_with_GT/benign/benign (147).png: img should be PIL Image. Got <class 'dict'>\n"
          ]
        },
        {
          "name": "stderr",
          "output_type": "stream",
          "text": [
            "\rEpoch 4/5:  55%|█████▍    | 71/130 [00:31<00:23,  2.49it/s]"
          ]
        },
        {
          "name": "stdout",
          "output_type": "stream",
          "text": [
            "Error loading /content/drive/MyDrive/archive (14)/Dataset_BUSI_with_GT/malignant/malignant (150).png: Unexpected type <class 'dict'>\n",
            "Error loading /content/drive/MyDrive/archive (14)/Dataset_BUSI_with_GT/malignant/malignant (95).png: Unexpected type <class 'dict'>\n",
            "Error loading /content/drive/MyDrive/archive (14)/Dataset_BUSI_with_GT/malignant/malignant (123).png: img should be PIL Image. Got <class 'dict'>\n",
            "Error loading /content/drive/MyDrive/archive (14)/Dataset_BUSI_with_GT/malignant/malignant (187).png: Unexpected type <class 'dict'>\n"
          ]
        },
        {
          "name": "stderr",
          "output_type": "stream",
          "text": [
            "\rEpoch 4/5:  55%|█████▌    | 72/130 [00:31<00:23,  2.46it/s]"
          ]
        },
        {
          "name": "stdout",
          "output_type": "stream",
          "text": [
            "Error loading /content/drive/MyDrive/archive (14)/Dataset_BUSI_with_GT/benign/benign (255).png: Unexpected type <class 'dict'>\n",
            "Error loading /content/drive/MyDrive/archive (14)/Dataset_BUSI_with_GT/benign/benign (178).png: img should be PIL Image. Got <class 'dict'>\n",
            "Error loading /content/drive/MyDrive/archive (14)/Dataset_BUSI_with_GT/benign/benign (174).png: img should be PIL Image. Got <class 'dict'>\n",
            "Error loading /content/drive/MyDrive/archive (14)/Dataset_BUSI_with_GT/malignant/malignant (110).png: img should be PIL Image. Got <class 'dict'>\n"
          ]
        },
        {
          "name": "stderr",
          "output_type": "stream",
          "text": [
            "\rEpoch 4/5:  56%|█████▌    | 73/130 [00:31<00:22,  2.50it/s]"
          ]
        },
        {
          "name": "stdout",
          "output_type": "stream",
          "text": [
            "Error loading /content/drive/MyDrive/archive (14)/Dataset_BUSI_with_GT/malignant/malignant (90).png: Unexpected type <class 'dict'>\n",
            "Error loading /content/drive/MyDrive/archive (14)/Dataset_BUSI_with_GT/benign/benign (300).png: Unexpected type <class 'dict'>\n",
            "Error loading /content/drive/MyDrive/archive (14)/Dataset_BUSI_with_GT/benign/benign (51).png: Unexpected type <class 'dict'>\n",
            "Error loading /content/drive/MyDrive/archive (14)/Dataset_BUSI_with_GT/benign/benign (32).png: Unexpected type <class 'dict'>\n"
          ]
        },
        {
          "name": "stderr",
          "output_type": "stream",
          "text": [
            "\rEpoch 4/5:  57%|█████▋    | 74/130 [00:32<00:22,  2.54it/s]"
          ]
        },
        {
          "name": "stdout",
          "output_type": "stream",
          "text": [
            "Error loading /content/drive/MyDrive/archive (14)/Dataset_BUSI_with_GT/benign/benign (394).png: img should be PIL Image. Got <class 'dict'>\n",
            "Error loading /content/drive/MyDrive/archive (14)/Dataset_BUSI_with_GT/benign/benign (46).png: img should be PIL Image. Got <class 'dict'>\n",
            "Error loading /content/drive/MyDrive/archive (14)/Dataset_BUSI_with_GT/malignant/malignant (5).png: img should be PIL Image. Got <class 'dict'>\n",
            "Error loading /content/drive/MyDrive/archive (14)/Dataset_BUSI_with_GT/benign/benign (232).png: img should be PIL Image. Got <class 'dict'>\n"
          ]
        },
        {
          "name": "stderr",
          "output_type": "stream",
          "text": [
            "\rEpoch 4/5:  58%|█████▊    | 75/130 [00:32<00:21,  2.59it/s]"
          ]
        },
        {
          "name": "stdout",
          "output_type": "stream",
          "text": [
            "Error loading /content/drive/MyDrive/archive (14)/Dataset_BUSI_with_GT/benign/benign (237).png: Unexpected type <class 'dict'>\n",
            "Error loading /content/drive/MyDrive/archive (14)/Dataset_BUSI_with_GT/benign/benign (377).png: Unexpected type <class 'dict'>\n",
            "Error loading /content/drive/MyDrive/archive (14)/Dataset_BUSI_with_GT/benign/benign (239).png: Unexpected type <class 'dict'>\n",
            "Error loading /content/drive/MyDrive/archive (14)/Dataset_BUSI_with_GT/benign/benign (210).png: Unexpected type <class 'dict'>\n"
          ]
        },
        {
          "name": "stderr",
          "output_type": "stream",
          "text": [
            "\rEpoch 4/5:  58%|█████▊    | 76/130 [00:33<00:20,  2.58it/s]"
          ]
        },
        {
          "name": "stdout",
          "output_type": "stream",
          "text": [
            "Error loading /content/drive/MyDrive/archive (14)/Dataset_BUSI_with_GT/benign/benign (368).png: Unexpected type <class 'dict'>\n",
            "Error loading /content/drive/MyDrive/archive (14)/Dataset_BUSI_with_GT/malignant/malignant (32).png: Unexpected type <class 'dict'>\n",
            "Error loading /content/drive/MyDrive/archive (14)/Dataset_BUSI_with_GT/benign/benign (125).png: Unexpected type <class 'dict'>\n",
            "Error loading /content/drive/MyDrive/archive (14)/Dataset_BUSI_with_GT/malignant/malignant (208).png: Unexpected type <class 'dict'>\n"
          ]
        },
        {
          "name": "stderr",
          "output_type": "stream",
          "text": [
            "\rEpoch 4/5:  59%|█████▉    | 77/130 [00:33<00:21,  2.47it/s]"
          ]
        },
        {
          "name": "stdout",
          "output_type": "stream",
          "text": [
            "Error loading /content/drive/MyDrive/archive (14)/Dataset_BUSI_with_GT/malignant/malignant (121).png: Unexpected type <class 'dict'>\n",
            "Error loading /content/drive/MyDrive/archive (14)/Dataset_BUSI_with_GT/malignant/malignant (130).png: img should be PIL Image. Got <class 'dict'>\n",
            "Error loading /content/drive/MyDrive/archive (14)/Dataset_BUSI_with_GT/benign/benign (31).png: Unexpected type <class 'dict'>\n",
            "Error loading /content/drive/MyDrive/archive (14)/Dataset_BUSI_with_GT/malignant/malignant (19).png: img should be PIL Image. Got <class 'dict'>\n"
          ]
        },
        {
          "name": "stderr",
          "output_type": "stream",
          "text": [
            "\rEpoch 4/5:  60%|██████    | 78/130 [00:33<00:20,  2.53it/s]"
          ]
        },
        {
          "name": "stdout",
          "output_type": "stream",
          "text": [
            "Error loading /content/drive/MyDrive/archive (14)/Dataset_BUSI_with_GT/benign/benign (104).png: img should be PIL Image. Got <class 'dict'>\n",
            "Error loading /content/drive/MyDrive/archive (14)/Dataset_BUSI_with_GT/malignant/malignant (56).png: img should be PIL Image. Got <class 'dict'>\n",
            "Error loading /content/drive/MyDrive/archive (14)/Dataset_BUSI_with_GT/benign/benign (240).png: img should be PIL Image. Got <class 'dict'>\n",
            "Error loading /content/drive/MyDrive/archive (14)/Dataset_BUSI_with_GT/benign/benign (36).png: img should be PIL Image. Got <class 'dict'>\n"
          ]
        },
        {
          "name": "stderr",
          "output_type": "stream",
          "text": [
            "\rEpoch 4/5:  61%|██████    | 79/130 [00:34<00:20,  2.51it/s]"
          ]
        },
        {
          "name": "stdout",
          "output_type": "stream",
          "text": [
            "Error loading /content/drive/MyDrive/archive (14)/Dataset_BUSI_with_GT/benign/benign (409).png: Unexpected type <class 'dict'>\n",
            "Error loading /content/drive/MyDrive/archive (14)/Dataset_BUSI_with_GT/benign/benign (277).png: Unexpected type <class 'dict'>\n",
            "Error loading /content/drive/MyDrive/archive (14)/Dataset_BUSI_with_GT/benign/benign (23).png: Unexpected type <class 'dict'>\n"
          ]
        },
        {
          "name": "stderr",
          "output_type": "stream",
          "text": [
            "\rEpoch 4/5:  62%|██████▏   | 80/130 [00:34<00:20,  2.39it/s]"
          ]
        },
        {
          "name": "stdout",
          "output_type": "stream",
          "text": [
            "Error loading /content/drive/MyDrive/archive (14)/Dataset_BUSI_with_GT/benign/benign (379).png: Unexpected type <class 'dict'>\n",
            "Error loading /content/drive/MyDrive/archive (14)/Dataset_BUSI_with_GT/benign/benign (42).png: img should be PIL Image. Got <class 'dict'>\n",
            "Error loading /content/drive/MyDrive/archive (14)/Dataset_BUSI_with_GT/benign/benign (108).png: Unexpected type <class 'dict'>\n",
            "Error loading /content/drive/MyDrive/archive (14)/Dataset_BUSI_with_GT/benign/benign (118).png: img should be PIL Image. Got <class 'dict'>\n",
            "Error loading /content/drive/MyDrive/archive (14)/Dataset_BUSI_with_GT/malignant/malignant (131).png: Unexpected type <class 'dict'>\n"
          ]
        },
        {
          "name": "stderr",
          "output_type": "stream",
          "text": [
            "\rEpoch 4/5:  62%|██████▏   | 81/130 [00:35<00:20,  2.39it/s]"
          ]
        },
        {
          "name": "stdout",
          "output_type": "stream",
          "text": [
            "Error loading /content/drive/MyDrive/archive (14)/Dataset_BUSI_with_GT/benign/benign (26).png: img should be PIL Image. Got <class 'dict'>\n",
            "Error loading /content/drive/MyDrive/archive (14)/Dataset_BUSI_with_GT/benign/benign (129).png: img should be PIL Image. Got <class 'dict'>\n",
            "Error loading /content/drive/MyDrive/archive (14)/Dataset_BUSI_with_GT/benign/benign (357).png: img should be PIL Image. Got <class 'dict'>\n",
            "Error loading /content/drive/MyDrive/archive (14)/Dataset_BUSI_with_GT/malignant/malignant (160).png: img should be PIL Image. Got <class 'dict'>\n"
          ]
        },
        {
          "name": "stderr",
          "output_type": "stream",
          "text": [
            "\rEpoch 4/5:  63%|██████▎   | 82/130 [00:35<00:20,  2.38it/s]"
          ]
        },
        {
          "name": "stdout",
          "output_type": "stream",
          "text": [
            "Error loading /content/drive/MyDrive/archive (14)/Dataset_BUSI_with_GT/malignant/malignant (197).png: Unexpected type <class 'dict'>\n",
            "Error loading /content/drive/MyDrive/archive (14)/Dataset_BUSI_with_GT/malignant/malignant (64).png: img should be PIL Image. Got <class 'dict'>\n",
            "Error loading /content/drive/MyDrive/archive (14)/Dataset_BUSI_with_GT/malignant/malignant (171).png: Unexpected type <class 'dict'>\n",
            "Error loading /content/drive/MyDrive/archive (14)/Dataset_BUSI_with_GT/benign/benign (39).png: img should be PIL Image. Got <class 'dict'>\n"
          ]
        },
        {
          "name": "stderr",
          "output_type": "stream",
          "text": [
            "\rEpoch 4/5:  64%|██████▍   | 83/130 [00:36<00:19,  2.41it/s]"
          ]
        },
        {
          "name": "stdout",
          "output_type": "stream",
          "text": [
            "Error loading /content/drive/MyDrive/archive (14)/Dataset_BUSI_with_GT/benign/benign (376).png: img should be PIL Image. Got <class 'dict'>\n",
            "Error loading /content/drive/MyDrive/archive (14)/Dataset_BUSI_with_GT/malignant/malignant (112).png: Unexpected type <class 'dict'>\n",
            "Error loading /content/drive/MyDrive/archive (14)/Dataset_BUSI_with_GT/benign/benign (41).png: Unexpected type <class 'dict'>\n",
            "Error loading /content/drive/MyDrive/archive (14)/Dataset_BUSI_with_GT/benign/benign (262).png: Unexpected type <class 'dict'>\n"
          ]
        },
        {
          "name": "stderr",
          "output_type": "stream",
          "text": [
            "\rEpoch 4/5:  65%|██████▍   | 84/130 [00:36<00:18,  2.51it/s]"
          ]
        },
        {
          "name": "stdout",
          "output_type": "stream",
          "text": [
            "Error loading /content/drive/MyDrive/archive (14)/Dataset_BUSI_with_GT/benign/benign (281).png: img should be PIL Image. Got <class 'dict'>\n",
            "Error loading /content/drive/MyDrive/archive (14)/Dataset_BUSI_with_GT/benign/benign (220).png: img should be PIL Image. Got <class 'dict'>\n",
            "Error loading /content/drive/MyDrive/archive (14)/Dataset_BUSI_with_GT/malignant/malignant (170).png: img should be PIL Image. Got <class 'dict'>\n",
            "Error loading /content/drive/MyDrive/archive (14)/Dataset_BUSI_with_GT/benign/benign (378).png: img should be PIL Image. Got <class 'dict'>\n"
          ]
        },
        {
          "name": "stderr",
          "output_type": "stream",
          "text": [
            "\rEpoch 4/5:  65%|██████▌   | 85/130 [00:36<00:17,  2.57it/s]"
          ]
        },
        {
          "name": "stdout",
          "output_type": "stream",
          "text": [
            "Error loading /content/drive/MyDrive/archive (14)/Dataset_BUSI_with_GT/malignant/malignant (145).png: Unexpected type <class 'dict'>\n",
            "Error loading /content/drive/MyDrive/archive (14)/Dataset_BUSI_with_GT/benign/benign (269).png: img should be PIL Image. Got <class 'dict'>\n",
            "Error loading /content/drive/MyDrive/archive (14)/Dataset_BUSI_with_GT/benign/benign (259).png: Unexpected type <class 'dict'>\n",
            "Error loading /content/drive/MyDrive/archive (14)/Dataset_BUSI_with_GT/benign/benign (196).png: img should be PIL Image. Got <class 'dict'>\n"
          ]
        },
        {
          "name": "stderr",
          "output_type": "stream",
          "text": [
            "\rEpoch 4/5:  66%|██████▌   | 86/130 [00:37<00:16,  2.60it/s]"
          ]
        },
        {
          "name": "stdout",
          "output_type": "stream",
          "text": [
            "Error loading /content/drive/MyDrive/archive (14)/Dataset_BUSI_with_GT/benign/benign (100).png: Unexpected type <class 'dict'>\n",
            "Error loading /content/drive/MyDrive/archive (14)/Dataset_BUSI_with_GT/benign/benign (205).png: img should be PIL Image. Got <class 'dict'>\n",
            "Error loading /content/drive/MyDrive/archive (14)/Dataset_BUSI_with_GT/malignant/malignant (176).png: img should be PIL Image. Got <class 'dict'>\n",
            "Error loading /content/drive/MyDrive/archive (14)/Dataset_BUSI_with_GT/benign/benign (315).png: img should be PIL Image. Got <class 'dict'>\n"
          ]
        },
        {
          "name": "stderr",
          "output_type": "stream",
          "text": [
            "\rEpoch 4/5:  67%|██████▋   | 87/130 [00:37<00:16,  2.62it/s]"
          ]
        },
        {
          "name": "stdout",
          "output_type": "stream",
          "text": [
            "Error loading /content/drive/MyDrive/archive (14)/Dataset_BUSI_with_GT/benign/benign (247).png: Unexpected type <class 'dict'>\n",
            "Error loading /content/drive/MyDrive/archive (14)/Dataset_BUSI_with_GT/malignant/malignant (113).png: img should be PIL Image. Got <class 'dict'>\n",
            "Error loading /content/drive/MyDrive/archive (14)/Dataset_BUSI_with_GT/benign/benign (323).png: Unexpected type <class 'dict'>\n",
            "Error loading /content/drive/MyDrive/archive (14)/Dataset_BUSI_with_GT/malignant/malignant (196).png: img should be PIL Image. Got <class 'dict'>\n"
          ]
        },
        {
          "name": "stderr",
          "output_type": "stream",
          "text": [
            "\rEpoch 4/5:  68%|██████▊   | 88/130 [00:37<00:15,  2.64it/s]"
          ]
        },
        {
          "name": "stdout",
          "output_type": "stream",
          "text": [
            "Error loading /content/drive/MyDrive/archive (14)/Dataset_BUSI_with_GT/benign/benign (390).png: Unexpected type <class 'dict'>\n",
            "Error loading /content/drive/MyDrive/archive (14)/Dataset_BUSI_with_GT/malignant/malignant (151).png: img should be PIL Image. Got <class 'dict'>\n",
            "Error loading /content/drive/MyDrive/archive (14)/Dataset_BUSI_with_GT/benign/benign (30).png: Unexpected type <class 'dict'>\n",
            "Error loading /content/drive/MyDrive/archive (14)/Dataset_BUSI_with_GT/malignant/malignant (128).png: Unexpected type <class 'dict'>\n"
          ]
        },
        {
          "name": "stderr",
          "output_type": "stream",
          "text": [
            "\rEpoch 4/5:  68%|██████▊   | 89/130 [00:38<00:15,  2.57it/s]"
          ]
        },
        {
          "name": "stdout",
          "output_type": "stream",
          "text": [
            "Error loading /content/drive/MyDrive/archive (14)/Dataset_BUSI_with_GT/benign/benign (87).png: img should be PIL Image. Got <class 'dict'>\n",
            "Error loading /content/drive/MyDrive/archive (14)/Dataset_BUSI_with_GT/benign/benign (14).png: Unexpected type <class 'dict'>\n",
            "Error loading /content/drive/MyDrive/archive (14)/Dataset_BUSI_with_GT/benign/benign (110).png: Unexpected type <class 'dict'>\n",
            "Error loading /content/drive/MyDrive/archive (14)/Dataset_BUSI_with_GT/benign/benign (13).png: Unexpected type <class 'dict'>\n"
          ]
        },
        {
          "name": "stderr",
          "output_type": "stream",
          "text": [
            "\rEpoch 4/5:  69%|██████▉   | 90/130 [00:38<00:16,  2.46it/s]"
          ]
        },
        {
          "name": "stdout",
          "output_type": "stream",
          "text": [
            "Error loading /content/drive/MyDrive/archive (14)/Dataset_BUSI_with_GT/malignant/malignant (43).png: Unexpected type <class 'dict'>\n",
            "Error loading /content/drive/MyDrive/archive (14)/Dataset_BUSI_with_GT/benign/benign (428).png: img should be PIL Image. Got <class 'dict'>\n",
            "Error loading /content/drive/MyDrive/archive (14)/Dataset_BUSI_with_GT/benign/benign (278).png: Unexpected type <class 'dict'>\n",
            "Error loading /content/drive/MyDrive/archive (14)/Dataset_BUSI_with_GT/malignant/malignant (97).png: img should be PIL Image. Got <class 'dict'>\n"
          ]
        },
        {
          "name": "stderr",
          "output_type": "stream",
          "text": [
            "\rEpoch 4/5:  70%|███████   | 91/130 [00:39<00:15,  2.51it/s]"
          ]
        },
        {
          "name": "stdout",
          "output_type": "stream",
          "text": [
            "Error loading /content/drive/MyDrive/archive (14)/Dataset_BUSI_with_GT/malignant/malignant (60).png: img should be PIL Image. Got <class 'dict'>\n",
            "Error loading /content/drive/MyDrive/archive (14)/Dataset_BUSI_with_GT/benign/benign (165).png: Unexpected type <class 'dict'>\n",
            "Error loading /content/drive/MyDrive/archive (14)/Dataset_BUSI_with_GT/malignant/malignant (107).png: img should be PIL Image. Got <class 'dict'>\n",
            "Error loading /content/drive/MyDrive/archive (14)/Dataset_BUSI_with_GT/benign/benign (322).png: img should be PIL Image. Got <class 'dict'>\n"
          ]
        },
        {
          "name": "stderr",
          "output_type": "stream",
          "text": [
            "\rEpoch 4/5:  71%|███████   | 92/130 [00:39<00:15,  2.52it/s]"
          ]
        },
        {
          "name": "stdout",
          "output_type": "stream",
          "text": [
            "Error loading /content/drive/MyDrive/archive (14)/Dataset_BUSI_with_GT/malignant/malignant (96).png: Unexpected type <class 'dict'>\n",
            "Error loading /content/drive/MyDrive/archive (14)/Dataset_BUSI_with_GT/malignant/malignant (165).png: img should be PIL Image. Got <class 'dict'>\n",
            "Error loading /content/drive/MyDrive/archive (14)/Dataset_BUSI_with_GT/benign/benign (115).png: Unexpected type <class 'dict'>\n",
            "Error loading /content/drive/MyDrive/archive (14)/Dataset_BUSI_with_GT/malignant/malignant (199).png: Unexpected type <class 'dict'>\n"
          ]
        },
        {
          "name": "stderr",
          "output_type": "stream",
          "text": [
            "\rEpoch 4/5:  72%|███████▏  | 93/130 [00:39<00:15,  2.44it/s]"
          ]
        },
        {
          "name": "stdout",
          "output_type": "stream",
          "text": [
            "Error loading /content/drive/MyDrive/archive (14)/Dataset_BUSI_with_GT/malignant/malignant (7).png: Unexpected type <class 'dict'>\n",
            "Error loading /content/drive/MyDrive/archive (14)/Dataset_BUSI_with_GT/benign/benign (107).png: img should be PIL Image. Got <class 'dict'>\n",
            "Error loading /content/drive/MyDrive/archive (14)/Dataset_BUSI_with_GT/malignant/malignant (82).png: img should be PIL Image. Got <class 'dict'>\n"
          ]
        },
        {
          "name": "stderr",
          "output_type": "stream",
          "text": [
            "\rEpoch 4/5:  72%|███████▏  | 94/130 [00:40<00:16,  2.23it/s]"
          ]
        },
        {
          "name": "stdout",
          "output_type": "stream",
          "text": [
            "Error loading /content/drive/MyDrive/archive (14)/Dataset_BUSI_with_GT/malignant/malignant (89).png: img should be PIL Image. Got <class 'dict'>\n",
            "Error loading /content/drive/MyDrive/archive (14)/Dataset_BUSI_with_GT/benign/benign (274).png: Unexpected type <class 'dict'>\n",
            "Error loading /content/drive/MyDrive/archive (14)/Dataset_BUSI_with_GT/benign/benign (415).png: Unexpected type <class 'dict'>\n",
            "Error loading /content/drive/MyDrive/archive (14)/Dataset_BUSI_with_GT/benign/benign (184).png: Unexpected type <class 'dict'>\n"
          ]
        },
        {
          "name": "stderr",
          "output_type": "stream",
          "text": [
            "\rEpoch 4/5:  73%|███████▎  | 95/130 [00:41<00:16,  2.17it/s]"
          ]
        },
        {
          "name": "stdout",
          "output_type": "stream",
          "text": [
            "Error loading /content/drive/MyDrive/archive (14)/Dataset_BUSI_with_GT/benign/benign (235).png: Unexpected type <class 'dict'>\n",
            "Error loading /content/drive/MyDrive/archive (14)/Dataset_BUSI_with_GT/benign/benign (156).png: Unexpected type <class 'dict'>\n",
            "Error loading /content/drive/MyDrive/archive (14)/Dataset_BUSI_with_GT/malignant/malignant (58).png: Unexpected type <class 'dict'>\n",
            "Error loading /content/drive/MyDrive/archive (14)/Dataset_BUSI_with_GT/benign/benign (45).png: Unexpected type <class 'dict'>\n"
          ]
        },
        {
          "name": "stderr",
          "output_type": "stream",
          "text": [
            "\rEpoch 4/5:  74%|███████▍  | 96/130 [00:41<00:17,  1.95it/s]"
          ]
        },
        {
          "name": "stdout",
          "output_type": "stream",
          "text": [
            "Error loading /content/drive/MyDrive/archive (14)/Dataset_BUSI_with_GT/benign/benign (144).png: Unexpected type <class 'dict'>\n",
            "Error loading /content/drive/MyDrive/archive (14)/Dataset_BUSI_with_GT/benign/benign (137).png: Unexpected type <class 'dict'>\n",
            "Error loading /content/drive/MyDrive/archive (14)/Dataset_BUSI_with_GT/benign/benign (231).png: img should be PIL Image. Got <class 'dict'>\n",
            "Error loading /content/drive/MyDrive/archive (14)/Dataset_BUSI_with_GT/benign/benign (291).png: Unexpected type <class 'dict'>\n",
            "Error loading /content/drive/MyDrive/archive (14)/Dataset_BUSI_with_GT/malignant/malignant (26).png: Unexpected type <class 'dict'>\n"
          ]
        },
        {
          "name": "stderr",
          "output_type": "stream",
          "text": [
            "\rEpoch 4/5:  75%|███████▍  | 97/130 [00:42<00:16,  1.97it/s]"
          ]
        },
        {
          "name": "stdout",
          "output_type": "stream",
          "text": [
            "Error loading /content/drive/MyDrive/archive (14)/Dataset_BUSI_with_GT/benign/benign (71).png: img should be PIL Image. Got <class 'dict'>\n",
            "Error loading /content/drive/MyDrive/archive (14)/Dataset_BUSI_with_GT/benign/benign (63).png: img should be PIL Image. Got <class 'dict'>\n",
            "Error loading /content/drive/MyDrive/archive (14)/Dataset_BUSI_with_GT/benign/benign (401).png: Unexpected type <class 'dict'>\n"
          ]
        },
        {
          "name": "stderr",
          "output_type": "stream",
          "text": [
            "\rEpoch 4/5:  75%|███████▌  | 98/130 [00:42<00:16,  1.96it/s]"
          ]
        },
        {
          "name": "stdout",
          "output_type": "stream",
          "text": [
            "Error loading /content/drive/MyDrive/archive (14)/Dataset_BUSI_with_GT/malignant/malignant (105).png: Unexpected type <class 'dict'>\n",
            "Error loading /content/drive/MyDrive/archive (14)/Dataset_BUSI_with_GT/benign/benign (116).png: Unexpected type <class 'dict'>\n",
            "Error loading /content/drive/MyDrive/archive (14)/Dataset_BUSI_with_GT/benign/benign (402).png: Unexpected type <class 'dict'>\n",
            "Error loading /content/drive/MyDrive/archive (14)/Dataset_BUSI_with_GT/benign/benign (359).png: Unexpected type <class 'dict'>\n",
            "Error loading /content/drive/MyDrive/archive (14)/Dataset_BUSI_with_GT/benign/benign (310).png: Unexpected type <class 'dict'>\n"
          ]
        },
        {
          "name": "stderr",
          "output_type": "stream",
          "text": [
            "\rEpoch 4/5:  76%|███████▌  | 99/130 [00:43<00:14,  2.08it/s]"
          ]
        },
        {
          "name": "stdout",
          "output_type": "stream",
          "text": [
            "Error loading /content/drive/MyDrive/archive (14)/Dataset_BUSI_with_GT/malignant/malignant (87).png: img should be PIL Image. Got <class 'dict'>\n",
            "Error loading /content/drive/MyDrive/archive (14)/Dataset_BUSI_with_GT/malignant/malignant (77).png: Unexpected type <class 'dict'>\n",
            "Error loading /content/drive/MyDrive/archive (14)/Dataset_BUSI_with_GT/benign/benign (414).png: Unexpected type <class 'dict'>\n"
          ]
        },
        {
          "name": "stderr",
          "output_type": "stream",
          "text": [
            "\rEpoch 4/5:  77%|███████▋  | 100/130 [00:43<00:14,  2.12it/s]"
          ]
        },
        {
          "name": "stdout",
          "output_type": "stream",
          "text": [
            "Error loading /content/drive/MyDrive/archive (14)/Dataset_BUSI_with_GT/malignant/malignant (99).png: img should be PIL Image. Got <class 'dict'>\n",
            "Error loading /content/drive/MyDrive/archive (14)/Dataset_BUSI_with_GT/benign/benign (266).png: img should be PIL Image. Got <class 'dict'>\n",
            "Error loading /content/drive/MyDrive/archive (14)/Dataset_BUSI_with_GT/malignant/malignant (179).png: img should be PIL Image. Got <class 'dict'>\n",
            "Error loading /content/drive/MyDrive/archive (14)/Dataset_BUSI_with_GT/benign/benign (318).png: img should be PIL Image. Got <class 'dict'>\n",
            "Error loading /content/drive/MyDrive/archive (14)/Dataset_BUSI_with_GT/benign/benign (92).png: Unexpected type <class 'dict'>\n"
          ]
        },
        {
          "name": "stderr",
          "output_type": "stream",
          "text": [
            "\rEpoch 4/5:  78%|███████▊  | 101/130 [00:43<00:12,  2.25it/s]"
          ]
        },
        {
          "name": "stdout",
          "output_type": "stream",
          "text": [
            "Error loading /content/drive/MyDrive/archive (14)/Dataset_BUSI_with_GT/malignant/malignant (198).png: Unexpected type <class 'dict'>\n",
            "Error loading /content/drive/MyDrive/archive (14)/Dataset_BUSI_with_GT/benign/benign (340).png: Unexpected type <class 'dict'>\n",
            "Error loading /content/drive/MyDrive/archive (14)/Dataset_BUSI_with_GT/benign/benign (321).png: Unexpected type <class 'dict'>\n",
            "Error loading /content/drive/MyDrive/archive (14)/Dataset_BUSI_with_GT/benign/benign (70).png: Unexpected type <class 'dict'>\n"
          ]
        },
        {
          "name": "stderr",
          "output_type": "stream",
          "text": [
            "\rEpoch 4/5:  78%|███████▊  | 102/130 [00:44<00:12,  2.31it/s]"
          ]
        },
        {
          "name": "stdout",
          "output_type": "stream",
          "text": [
            "Error loading /content/drive/MyDrive/archive (14)/Dataset_BUSI_with_GT/benign/benign (395).png: Unexpected type <class 'dict'>\n",
            "Error loading /content/drive/MyDrive/archive (14)/Dataset_BUSI_with_GT/benign/benign (424).png: img should be PIL Image. Got <class 'dict'>\n",
            "Error loading /content/drive/MyDrive/archive (14)/Dataset_BUSI_with_GT/malignant/malignant (22).png: Unexpected type <class 'dict'>\n",
            "Error loading /content/drive/MyDrive/archive (14)/Dataset_BUSI_with_GT/benign/benign (62).png: img should be PIL Image. Got <class 'dict'>\n"
          ]
        },
        {
          "name": "stderr",
          "output_type": "stream",
          "text": [
            "\rEpoch 4/5:  79%|███████▉  | 103/130 [00:44<00:11,  2.38it/s]"
          ]
        },
        {
          "name": "stdout",
          "output_type": "stream",
          "text": [
            "Error loading /content/drive/MyDrive/archive (14)/Dataset_BUSI_with_GT/benign/benign (97).png: Unexpected type <class 'dict'>\n",
            "Error loading /content/drive/MyDrive/archive (14)/Dataset_BUSI_with_GT/benign/benign (180).png: Unexpected type <class 'dict'>\n",
            "Error loading /content/drive/MyDrive/archive (14)/Dataset_BUSI_with_GT/benign/benign (265).png: img should be PIL Image. Got <class 'dict'>\n",
            "Error loading /content/drive/MyDrive/archive (14)/Dataset_BUSI_with_GT/malignant/malignant (158).png: img should be PIL Image. Got <class 'dict'>\n"
          ]
        },
        {
          "name": "stderr",
          "output_type": "stream",
          "text": [
            "\rEpoch 4/5:  80%|████████  | 104/130 [00:45<00:10,  2.45it/s]"
          ]
        },
        {
          "name": "stdout",
          "output_type": "stream",
          "text": [
            "Error loading /content/drive/MyDrive/archive (14)/Dataset_BUSI_with_GT/benign/benign (159).png: Unexpected type <class 'dict'>\n",
            "Error loading /content/drive/MyDrive/archive (14)/Dataset_BUSI_with_GT/benign/benign (208).png: Unexpected type <class 'dict'>\n",
            "Error loading /content/drive/MyDrive/archive (14)/Dataset_BUSI_with_GT/benign/benign (246).png: img should be PIL Image. Got <class 'dict'>\n",
            "Error loading /content/drive/MyDrive/archive (14)/Dataset_BUSI_with_GT/benign/benign (387).png: Unexpected type <class 'dict'>\n"
          ]
        },
        {
          "name": "stderr",
          "output_type": "stream",
          "text": [
            "\rEpoch 4/5:  81%|████████  | 105/130 [00:45<00:10,  2.50it/s]"
          ]
        },
        {
          "name": "stdout",
          "output_type": "stream",
          "text": [
            "Error loading /content/drive/MyDrive/archive (14)/Dataset_BUSI_with_GT/benign/benign (408).png: Unexpected type <class 'dict'>\n",
            "Error loading /content/drive/MyDrive/archive (14)/Dataset_BUSI_with_GT/malignant/malignant (162).png: img should be PIL Image. Got <class 'dict'>\n",
            "Error loading /content/drive/MyDrive/archive (14)/Dataset_BUSI_with_GT/benign/benign (34).png: img should be PIL Image. Got <class 'dict'>\n",
            "Error loading /content/drive/MyDrive/archive (14)/Dataset_BUSI_with_GT/malignant/malignant (202).png: img should be PIL Image. Got <class 'dict'>\n"
          ]
        },
        {
          "name": "stderr",
          "output_type": "stream",
          "text": [
            "\rEpoch 4/5:  82%|████████▏ | 106/130 [00:45<00:09,  2.48it/s]"
          ]
        },
        {
          "name": "stdout",
          "output_type": "stream",
          "text": [
            "Error loading /content/drive/MyDrive/archive (14)/Dataset_BUSI_with_GT/benign/benign (437).png: Unexpected type <class 'dict'>\n",
            "Error loading /content/drive/MyDrive/archive (14)/Dataset_BUSI_with_GT/benign/benign (369).png: img should be PIL Image. Got <class 'dict'>\n",
            "Error loading /content/drive/MyDrive/archive (14)/Dataset_BUSI_with_GT/benign/benign (284).png: Unexpected type <class 'dict'>\n",
            "Error loading /content/drive/MyDrive/archive (14)/Dataset_BUSI_with_GT/malignant/malignant (71).png: img should be PIL Image. Got <class 'dict'>\n"
          ]
        },
        {
          "name": "stderr",
          "output_type": "stream",
          "text": [
            "\rEpoch 4/5:  82%|████████▏ | 107/130 [00:46<00:09,  2.41it/s]"
          ]
        },
        {
          "name": "stdout",
          "output_type": "stream",
          "text": [
            "Error loading /content/drive/MyDrive/archive (14)/Dataset_BUSI_with_GT/benign/benign (384).png: Unexpected type <class 'dict'>\n",
            "Error loading /content/drive/MyDrive/archive (14)/Dataset_BUSI_with_GT/benign/benign (89).png: Unexpected type <class 'dict'>\n",
            "Error loading /content/drive/MyDrive/archive (14)/Dataset_BUSI_with_GT/benign/benign (375).png: Unexpected type <class 'dict'>\n",
            "Error loading /content/drive/MyDrive/archive (14)/Dataset_BUSI_with_GT/benign/benign (431).png: Unexpected type <class 'dict'>\n"
          ]
        },
        {
          "name": "stderr",
          "output_type": "stream",
          "text": [
            "\rEpoch 4/5:  83%|████████▎ | 108/130 [00:46<00:09,  2.37it/s]"
          ]
        },
        {
          "name": "stdout",
          "output_type": "stream",
          "text": [
            "Error loading /content/drive/MyDrive/archive (14)/Dataset_BUSI_with_GT/malignant/malignant (46).png: Unexpected type <class 'dict'>\n",
            "Error loading /content/drive/MyDrive/archive (14)/Dataset_BUSI_with_GT/benign/benign (213).png: Unexpected type <class 'dict'>\n",
            "Error loading /content/drive/MyDrive/archive (14)/Dataset_BUSI_with_GT/benign/benign (301).png: Unexpected type <class 'dict'>\n",
            "Error loading /content/drive/MyDrive/archive (14)/Dataset_BUSI_with_GT/malignant/malignant (174).png: img should be PIL Image. Got <class 'dict'>\n"
          ]
        },
        {
          "name": "stderr",
          "output_type": "stream",
          "text": [
            "\rEpoch 4/5:  84%|████████▍ | 109/130 [00:47<00:08,  2.37it/s]"
          ]
        },
        {
          "name": "stdout",
          "output_type": "stream",
          "text": [
            "Error loading /content/drive/MyDrive/archive (14)/Dataset_BUSI_with_GT/malignant/malignant (169).png: img should be PIL Image. Got <class 'dict'>\n",
            "Error loading /content/drive/MyDrive/archive (14)/Dataset_BUSI_with_GT/benign/benign (270).png: Unexpected type <class 'dict'>\n",
            "Error loading /content/drive/MyDrive/archive (14)/Dataset_BUSI_with_GT/malignant/malignant (177).png: Unexpected type <class 'dict'>\n",
            "Error loading /content/drive/MyDrive/archive (14)/Dataset_BUSI_with_GT/benign/benign (366).png: Unexpected type <class 'dict'>\n"
          ]
        },
        {
          "name": "stderr",
          "output_type": "stream",
          "text": [
            "\rEpoch 4/5:  85%|████████▍ | 110/130 [00:47<00:08,  2.46it/s]"
          ]
        },
        {
          "name": "stdout",
          "output_type": "stream",
          "text": [
            "Error loading /content/drive/MyDrive/archive (14)/Dataset_BUSI_with_GT/benign/benign (355).png: img should be PIL Image. Got <class 'dict'>\n",
            "Error loading /content/drive/MyDrive/archive (14)/Dataset_BUSI_with_GT/benign/benign (287).png: img should be PIL Image. Got <class 'dict'>\n",
            "Error loading /content/drive/MyDrive/archive (14)/Dataset_BUSI_with_GT/benign/benign (24).png: Unexpected type <class 'dict'>\n",
            "Error loading /content/drive/MyDrive/archive (14)/Dataset_BUSI_with_GT/malignant/malignant (45).png: Unexpected type <class 'dict'>\n"
          ]
        },
        {
          "name": "stderr",
          "output_type": "stream",
          "text": [
            "\rEpoch 4/5:  85%|████████▌ | 111/130 [00:47<00:07,  2.47it/s]"
          ]
        },
        {
          "name": "stdout",
          "output_type": "stream",
          "text": [
            "Error loading /content/drive/MyDrive/archive (14)/Dataset_BUSI_with_GT/benign/benign (58).png: img should be PIL Image. Got <class 'dict'>\n",
            "Error loading /content/drive/MyDrive/archive (14)/Dataset_BUSI_with_GT/benign/benign (173).png: Unexpected type <class 'dict'>\n",
            "Error loading /content/drive/MyDrive/archive (14)/Dataset_BUSI_with_GT/benign/benign (280).png: Unexpected type <class 'dict'>\n",
            "Error loading /content/drive/MyDrive/archive (14)/Dataset_BUSI_with_GT/benign/benign (307).png: Unexpected type <class 'dict'>\n"
          ]
        },
        {
          "name": "stderr",
          "output_type": "stream",
          "text": [
            "\rEpoch 4/5:  86%|████████▌ | 112/130 [00:48<00:07,  2.40it/s]"
          ]
        },
        {
          "name": "stdout",
          "output_type": "stream",
          "text": [
            "Error loading /content/drive/MyDrive/archive (14)/Dataset_BUSI_with_GT/malignant/malignant (137).png: Unexpected type <class 'dict'>\n",
            "Error loading /content/drive/MyDrive/archive (14)/Dataset_BUSI_with_GT/benign/benign (352).png: Unexpected type <class 'dict'>\n",
            "Error loading /content/drive/MyDrive/archive (14)/Dataset_BUSI_with_GT/benign/benign (211).png: Unexpected type <class 'dict'>\n",
            "Error loading /content/drive/MyDrive/archive (14)/Dataset_BUSI_with_GT/benign/benign (149).png: Unexpected type <class 'dict'>\n"
          ]
        },
        {
          "name": "stderr",
          "output_type": "stream",
          "text": [
            "\rEpoch 4/5:  87%|████████▋ | 113/130 [00:48<00:06,  2.53it/s]"
          ]
        },
        {
          "name": "stdout",
          "output_type": "stream",
          "text": [
            "Error loading /content/drive/MyDrive/archive (14)/Dataset_BUSI_with_GT/malignant/malignant (69).png: img should be PIL Image. Got <class 'dict'>\n",
            "Error loading /content/drive/MyDrive/archive (14)/Dataset_BUSI_with_GT/malignant/malignant (127).png: Unexpected type <class 'dict'>\n",
            "Error loading /content/drive/MyDrive/archive (14)/Dataset_BUSI_with_GT/benign/benign (185).png: img should be PIL Image. Got <class 'dict'>\n"
          ]
        },
        {
          "name": "stderr",
          "output_type": "stream",
          "text": [
            "\rEpoch 4/5:  88%|████████▊ | 114/130 [00:49<00:06,  2.41it/s]"
          ]
        },
        {
          "name": "stdout",
          "output_type": "stream",
          "text": [
            "Error loading /content/drive/MyDrive/archive (14)/Dataset_BUSI_with_GT/benign/benign (391).png: Unexpected type <class 'dict'>\n",
            "Error loading /content/drive/MyDrive/archive (14)/Dataset_BUSI_with_GT/benign/benign (48).png: Unexpected type <class 'dict'>\n",
            "Error loading /content/drive/MyDrive/archive (14)/Dataset_BUSI_with_GT/benign/benign (98).png: img should be PIL Image. Got <class 'dict'>\n",
            "Error loading /content/drive/MyDrive/archive (14)/Dataset_BUSI_with_GT/benign/benign (333).png: Unexpected type <class 'dict'>\n"
          ]
        },
        {
          "name": "stderr",
          "output_type": "stream",
          "text": [
            "\rEpoch 4/5:  88%|████████▊ | 115/130 [00:49<00:06,  2.30it/s]"
          ]
        },
        {
          "name": "stdout",
          "output_type": "stream",
          "text": [
            "Error loading /content/drive/MyDrive/archive (14)/Dataset_BUSI_with_GT/benign/benign (122).png: Unexpected type <class 'dict'>\n",
            "Error loading /content/drive/MyDrive/archive (14)/Dataset_BUSI_with_GT/malignant/malignant (30).png: Unexpected type <class 'dict'>\n",
            "Error loading /content/drive/MyDrive/archive (14)/Dataset_BUSI_with_GT/benign/benign (227).png: Unexpected type <class 'dict'>\n",
            "Error loading /content/drive/MyDrive/archive (14)/Dataset_BUSI_with_GT/malignant/malignant (161).png: Unexpected type <class 'dict'>\n",
            "Error loading /content/drive/MyDrive/archive (14)/Dataset_BUSI_with_GT/benign/benign (299).png: img should be PIL Image. Got <class 'dict'>\n"
          ]
        },
        {
          "name": "stderr",
          "output_type": "stream",
          "text": [
            "\rEpoch 4/5:  89%|████████▉ | 116/130 [00:50<00:05,  2.38it/s]"
          ]
        },
        {
          "name": "stdout",
          "output_type": "stream",
          "text": [
            "Error loading /content/drive/MyDrive/archive (14)/Dataset_BUSI_with_GT/malignant/malignant (125).png: Unexpected type <class 'dict'>\n",
            "Error loading /content/drive/MyDrive/archive (14)/Dataset_BUSI_with_GT/malignant/malignant (201).png: img should be PIL Image. Got <class 'dict'>\n",
            "Error loading /content/drive/MyDrive/archive (14)/Dataset_BUSI_with_GT/benign/benign (50).png: Unexpected type <class 'dict'>\n",
            "Error loading /content/drive/MyDrive/archive (14)/Dataset_BUSI_with_GT/benign/benign (101).png: Unexpected type <class 'dict'>\n"
          ]
        },
        {
          "name": "stderr",
          "output_type": "stream",
          "text": [
            "\rEpoch 4/5:  90%|█████████ | 117/130 [00:50<00:05,  2.37it/s]"
          ]
        },
        {
          "name": "stdout",
          "output_type": "stream",
          "text": [
            "Error loading /content/drive/MyDrive/archive (14)/Dataset_BUSI_with_GT/benign/benign (15).png: img should be PIL Image. Got <class 'dict'>\n",
            "Error loading /content/drive/MyDrive/archive (14)/Dataset_BUSI_with_GT/benign/benign (55).png: Unexpected type <class 'dict'>\n",
            "Error loading /content/drive/MyDrive/archive (14)/Dataset_BUSI_with_GT/benign/benign (162).png: img should be PIL Image. Got <class 'dict'>\n",
            "Error loading /content/drive/MyDrive/archive (14)/Dataset_BUSI_with_GT/benign/benign (332).png: img should be PIL Image. Got <class 'dict'>\n"
          ]
        },
        {
          "name": "stderr",
          "output_type": "stream",
          "text": [
            "\rEpoch 4/5:  91%|█████████ | 118/130 [00:50<00:05,  2.35it/s]"
          ]
        },
        {
          "name": "stdout",
          "output_type": "stream",
          "text": [
            "Error loading /content/drive/MyDrive/archive (14)/Dataset_BUSI_with_GT/malignant/malignant (203).png: img should be PIL Image. Got <class 'dict'>\n",
            "Error loading /content/drive/MyDrive/archive (14)/Dataset_BUSI_with_GT/benign/benign (337).png: Unexpected type <class 'dict'>\n",
            "Error loading /content/drive/MyDrive/archive (14)/Dataset_BUSI_with_GT/benign/benign (102).png: Unexpected type <class 'dict'>\n",
            "Error loading /content/drive/MyDrive/archive (14)/Dataset_BUSI_with_GT/benign/benign (224).png: Unexpected type <class 'dict'>\n"
          ]
        },
        {
          "name": "stderr",
          "output_type": "stream",
          "text": [
            "\rEpoch 4/5:  92%|█████████▏| 119/130 [00:51<00:04,  2.39it/s]"
          ]
        },
        {
          "name": "stdout",
          "output_type": "stream",
          "text": [
            "Error loading /content/drive/MyDrive/archive (14)/Dataset_BUSI_with_GT/benign/benign (207).png: img should be PIL Image. Got <class 'dict'>\n",
            "Error loading /content/drive/MyDrive/archive (14)/Dataset_BUSI_with_GT/benign/benign (385).png: Unexpected type <class 'dict'>\n",
            "Error loading /content/drive/MyDrive/archive (14)/Dataset_BUSI_with_GT/malignant/malignant (88).png: Unexpected type <class 'dict'>\n",
            "Error loading /content/drive/MyDrive/archive (14)/Dataset_BUSI_with_GT/benign/benign (169).png: img should be PIL Image. Got <class 'dict'>\n"
          ]
        },
        {
          "name": "stderr",
          "output_type": "stream",
          "text": [
            "\rEpoch 4/5:  92%|█████████▏| 120/130 [00:51<00:04,  2.43it/s]"
          ]
        },
        {
          "name": "stdout",
          "output_type": "stream",
          "text": [
            "Error loading /content/drive/MyDrive/archive (14)/Dataset_BUSI_with_GT/malignant/malignant (92).png: img should be PIL Image. Got <class 'dict'>\n",
            "Error loading /content/drive/MyDrive/archive (14)/Dataset_BUSI_with_GT/benign/benign (283).png: img should be PIL Image. Got <class 'dict'>\n",
            "Error loading /content/drive/MyDrive/archive (14)/Dataset_BUSI_with_GT/benign/benign (124).png: img should be PIL Image. Got <class 'dict'>\n",
            "Error loading /content/drive/MyDrive/archive (14)/Dataset_BUSI_with_GT/benign/benign (197).png: Unexpected type <class 'dict'>\n"
          ]
        },
        {
          "name": "stderr",
          "output_type": "stream",
          "text": [
            "\rEpoch 4/5:  93%|█████████▎| 121/130 [00:52<00:03,  2.43it/s]"
          ]
        },
        {
          "name": "stdout",
          "output_type": "stream",
          "text": [
            "Error loading /content/drive/MyDrive/archive (14)/Dataset_BUSI_with_GT/benign/benign (189).png: img should be PIL Image. Got <class 'dict'>\n",
            "Error loading /content/drive/MyDrive/archive (14)/Dataset_BUSI_with_GT/benign/benign (327).png: img should be PIL Image. Got <class 'dict'>\n",
            "Error loading /content/drive/MyDrive/archive (14)/Dataset_BUSI_with_GT/benign/benign (308).png: img should be PIL Image. Got <class 'dict'>\n",
            "Error loading /content/drive/MyDrive/archive (14)/Dataset_BUSI_with_GT/benign/benign (236).png: Unexpected type <class 'dict'>\n"
          ]
        },
        {
          "name": "stderr",
          "output_type": "stream",
          "text": [
            "\rEpoch 4/5:  94%|█████████▍| 122/130 [00:52<00:03,  2.46it/s]"
          ]
        },
        {
          "name": "stdout",
          "output_type": "stream",
          "text": [
            "Error loading /content/drive/MyDrive/archive (14)/Dataset_BUSI_with_GT/malignant/malignant (155).png: img should be PIL Image. Got <class 'dict'>\n",
            "Error loading /content/drive/MyDrive/archive (14)/Dataset_BUSI_with_GT/malignant/malignant (49).png: img should be PIL Image. Got <class 'dict'>\n",
            "Error loading /content/drive/MyDrive/archive (14)/Dataset_BUSI_with_GT/benign/benign (193).png: img should be PIL Image. Got <class 'dict'>\n",
            "Error loading /content/drive/MyDrive/archive (14)/Dataset_BUSI_with_GT/benign/benign (271).png: img should be PIL Image. Got <class 'dict'>\n"
          ]
        },
        {
          "name": "stderr",
          "output_type": "stream",
          "text": [
            "\rEpoch 4/5:  95%|█████████▍| 123/130 [00:52<00:02,  2.42it/s]"
          ]
        },
        {
          "name": "stdout",
          "output_type": "stream",
          "text": [
            "Error loading /content/drive/MyDrive/archive (14)/Dataset_BUSI_with_GT/malignant/malignant (148).png: img should be PIL Image. Got <class 'dict'>\n",
            "Error loading /content/drive/MyDrive/archive (14)/Dataset_BUSI_with_GT/benign/benign (119).png: img should be PIL Image. Got <class 'dict'>\n",
            "Error loading /content/drive/MyDrive/archive (14)/Dataset_BUSI_with_GT/benign/benign (5).png: Unexpected type <class 'dict'>\n"
          ]
        },
        {
          "name": "stderr",
          "output_type": "stream",
          "text": [
            "\rEpoch 4/5:  95%|█████████▌| 124/130 [00:53<00:02,  2.22it/s]"
          ]
        },
        {
          "name": "stdout",
          "output_type": "stream",
          "text": [
            "Error loading /content/drive/MyDrive/archive (14)/Dataset_BUSI_with_GT/benign/benign (7).png: Unexpected type <class 'dict'>\n",
            "Error loading /content/drive/MyDrive/archive (14)/Dataset_BUSI_with_GT/benign/benign (161).png: Unexpected type <class 'dict'>\n",
            "Error loading /content/drive/MyDrive/archive (14)/Dataset_BUSI_with_GT/malignant/malignant (209).png: img should be PIL Image. Got <class 'dict'>\n",
            "Error loading /content/drive/MyDrive/archive (14)/Dataset_BUSI_with_GT/malignant/malignant (189).png: Unexpected type <class 'dict'>\n",
            "Error loading /content/drive/MyDrive/archive (14)/Dataset_BUSI_with_GT/benign/benign (426).png: img should be PIL Image. Got <class 'dict'>\n"
          ]
        },
        {
          "name": "stderr",
          "output_type": "stream",
          "text": [
            "\rEpoch 4/5:  96%|█████████▌| 125/130 [00:53<00:02,  2.23it/s]"
          ]
        },
        {
          "name": "stdout",
          "output_type": "stream",
          "text": [
            "Error loading /content/drive/MyDrive/archive (14)/Dataset_BUSI_with_GT/benign/benign (223).png: Unexpected type <class 'dict'>\n",
            "Error loading /content/drive/MyDrive/archive (14)/Dataset_BUSI_with_GT/benign/benign (353).png: Unexpected type <class 'dict'>\n",
            "Error loading /content/drive/MyDrive/archive (14)/Dataset_BUSI_with_GT/malignant/malignant (156).png: img should be PIL Image. Got <class 'dict'>\n"
          ]
        },
        {
          "name": "stderr",
          "output_type": "stream",
          "text": [
            "\rEpoch 4/5:  97%|█████████▋| 126/130 [00:54<00:01,  2.18it/s]"
          ]
        },
        {
          "name": "stdout",
          "output_type": "stream",
          "text": [
            "Error loading /content/drive/MyDrive/archive (14)/Dataset_BUSI_with_GT/benign/benign (217).png: Unexpected type <class 'dict'>\n",
            "Error loading /content/drive/MyDrive/archive (14)/Dataset_BUSI_with_GT/benign/benign (90).png: img should be PIL Image. Got <class 'dict'>\n",
            "Error loading /content/drive/MyDrive/archive (14)/Dataset_BUSI_with_GT/benign/benign (67).png: img should be PIL Image. Got <class 'dict'>\n",
            "Error loading /content/drive/MyDrive/archive (14)/Dataset_BUSI_with_GT/benign/benign (392).png: Unexpected type <class 'dict'>\n"
          ]
        },
        {
          "name": "stderr",
          "output_type": "stream",
          "text": [
            "\rEpoch 4/5:  98%|█████████▊| 127/130 [00:54<00:01,  2.01it/s]"
          ]
        },
        {
          "name": "stdout",
          "output_type": "stream",
          "text": [
            "Error loading /content/drive/MyDrive/archive (14)/Dataset_BUSI_with_GT/benign/benign (69).png: img should be PIL Image. Got <class 'dict'>\n",
            "Error loading /content/drive/MyDrive/archive (14)/Dataset_BUSI_with_GT/benign/benign (407).png: img should be PIL Image. Got <class 'dict'>\n",
            "Error loading /content/drive/MyDrive/archive (14)/Dataset_BUSI_with_GT/benign/benign (195).png: img should be PIL Image. Got <class 'dict'>\n",
            "Error loading /content/drive/MyDrive/archive (14)/Dataset_BUSI_with_GT/malignant/malignant (86).png: Unexpected type <class 'dict'>\n"
          ]
        },
        {
          "name": "stderr",
          "output_type": "stream",
          "text": [
            "\rEpoch 4/5:  98%|█████████▊| 128/130 [00:55<00:01,  1.96it/s]"
          ]
        },
        {
          "name": "stdout",
          "output_type": "stream",
          "text": [
            "Error loading /content/drive/MyDrive/archive (14)/Dataset_BUSI_with_GT/benign/benign (181).png: img should be PIL Image. Got <class 'dict'>\n",
            "Error loading /content/drive/MyDrive/archive (14)/Dataset_BUSI_with_GT/benign/benign (163).png: Unexpected type <class 'dict'>\n",
            "Error loading /content/drive/MyDrive/archive (14)/Dataset_BUSI_with_GT/malignant/malignant (146).png: Unexpected type <class 'dict'>\n",
            "Error loading /content/drive/MyDrive/archive (14)/Dataset_BUSI_with_GT/malignant/malignant (100).png: img should be PIL Image. Got <class 'dict'>\n",
            "Error loading /content/drive/MyDrive/archive (14)/Dataset_BUSI_with_GT/malignant/malignant (91).png: Unexpected type <class 'dict'>\n"
          ]
        },
        {
          "name": "stderr",
          "output_type": "stream",
          "text": [
            "Epoch 4/5: 100%|██████████| 130/130 [00:56<00:00,  2.32it/s]\n"
          ]
        },
        {
          "name": "stdout",
          "output_type": "stream",
          "text": [
            "Error loading /content/drive/MyDrive/archive (14)/Dataset_BUSI_with_GT/benign/benign (313).png: Unexpected type <class 'dict'>\n"
          ]
        },
        {
          "name": "stderr",
          "output_type": "stream",
          "text": [
            "\rEvaluating:   0%|          | 0/33 [00:00<?, ?it/s]"
          ]
        },
        {
          "name": "stdout",
          "output_type": "stream",
          "text": [
            "Error loading /content/drive/MyDrive/archive (14)/Dataset_BUSI_with_GT/benign/benign (22).png: Unexpected type <class 'dict'>\n",
            "Error loading /content/drive/MyDrive/archive (14)/Dataset_BUSI_with_GT/benign/benign (361).png: img should be PIL Image. Got <class 'dict'>\n",
            "Error loading /content/drive/MyDrive/archive (14)/Dataset_BUSI_with_GT/malignant/malignant (192).png: img should be PIL Image. Got <class 'dict'>\n",
            "Error loading /content/drive/MyDrive/archive (14)/Dataset_BUSI_with_GT/malignant/malignant (181).png: img should be PIL Image. Got <class 'dict'>\n"
          ]
        },
        {
          "name": "stderr",
          "output_type": "stream",
          "text": [
            "\rEvaluating:   3%|▎         | 1/33 [00:00<00:10,  3.07it/s]"
          ]
        },
        {
          "name": "stdout",
          "output_type": "stream",
          "text": [
            "Error loading /content/drive/MyDrive/archive (14)/Dataset_BUSI_with_GT/malignant/malignant (41).png: Unexpected type <class 'dict'>\n",
            "Error loading /content/drive/MyDrive/archive (14)/Dataset_BUSI_with_GT/benign/benign (349).png: img should be PIL Image. Got <class 'dict'>\n",
            "Error loading /content/drive/MyDrive/archive (14)/Dataset_BUSI_with_GT/benign/benign (12).png: img should be PIL Image. Got <class 'dict'>\n",
            "Error loading /content/drive/MyDrive/archive (14)/Dataset_BUSI_with_GT/benign/benign (339).png: Unexpected type <class 'dict'>\n"
          ]
        },
        {
          "name": "stderr",
          "output_type": "stream",
          "text": [
            "\rEvaluating:   6%|▌         | 2/33 [00:00<00:10,  3.09it/s]"
          ]
        },
        {
          "name": "stdout",
          "output_type": "stream",
          "text": [
            "Error loading /content/drive/MyDrive/archive (14)/Dataset_BUSI_with_GT/benign/benign (317).png: img should be PIL Image. Got <class 'dict'>\n",
            "Error loading /content/drive/MyDrive/archive (14)/Dataset_BUSI_with_GT/malignant/malignant (34).png: Unexpected type <class 'dict'>\n",
            "Error loading /content/drive/MyDrive/archive (14)/Dataset_BUSI_with_GT/malignant/malignant (9).png: Unexpected type <class 'dict'>\n",
            "Error loading /content/drive/MyDrive/archive (14)/Dataset_BUSI_with_GT/benign/benign (6).png: img should be PIL Image. Got <class 'dict'>\n"
          ]
        },
        {
          "name": "stderr",
          "output_type": "stream",
          "text": [
            "\rEvaluating:   9%|▉         | 3/33 [00:00<00:09,  3.13it/s]"
          ]
        },
        {
          "name": "stdout",
          "output_type": "stream",
          "text": [
            "Error loading /content/drive/MyDrive/archive (14)/Dataset_BUSI_with_GT/malignant/malignant (27).png: img should be PIL Image. Got <class 'dict'>\n",
            "Error loading /content/drive/MyDrive/archive (14)/Dataset_BUSI_with_GT/benign/benign (216).png: img should be PIL Image. Got <class 'dict'>\n",
            "Error loading /content/drive/MyDrive/archive (14)/Dataset_BUSI_with_GT/malignant/malignant (173).png: Unexpected type <class 'dict'>\n",
            "Error loading /content/drive/MyDrive/archive (14)/Dataset_BUSI_with_GT/benign/benign (35).png: img should be PIL Image. Got <class 'dict'>\n"
          ]
        },
        {
          "name": "stderr",
          "output_type": "stream",
          "text": [
            "\rEvaluating:  12%|█▏        | 4/33 [00:01<00:09,  3.14it/s]"
          ]
        },
        {
          "name": "stdout",
          "output_type": "stream",
          "text": [
            "Error loading /content/drive/MyDrive/archive (14)/Dataset_BUSI_with_GT/benign/benign (103).png: Unexpected type <class 'dict'>\n",
            "Error loading /content/drive/MyDrive/archive (14)/Dataset_BUSI_with_GT/malignant/malignant (47).png: Unexpected type <class 'dict'>\n",
            "Error loading /content/drive/MyDrive/archive (14)/Dataset_BUSI_with_GT/benign/benign (186).png: Unexpected type <class 'dict'>\n",
            "Error loading /content/drive/MyDrive/archive (14)/Dataset_BUSI_with_GT/benign/benign (145).png: Unexpected type <class 'dict'>\n"
          ]
        },
        {
          "name": "stderr",
          "output_type": "stream",
          "text": [
            "\rEvaluating:  15%|█▌        | 5/33 [00:01<00:09,  2.98it/s]"
          ]
        },
        {
          "name": "stdout",
          "output_type": "stream",
          "text": [
            "Error loading /content/drive/MyDrive/archive (14)/Dataset_BUSI_with_GT/benign/benign (380).png: img should be PIL Image. Got <class 'dict'>\n",
            "Error loading /content/drive/MyDrive/archive (14)/Dataset_BUSI_with_GT/benign/benign (130).png: Unexpected type <class 'dict'>\n",
            "Error loading /content/drive/MyDrive/archive (14)/Dataset_BUSI_with_GT/benign/benign (73).png: Unexpected type <class 'dict'>\n",
            "Error loading /content/drive/MyDrive/archive (14)/Dataset_BUSI_with_GT/benign/benign (201).png: img should be PIL Image. Got <class 'dict'>\n"
          ]
        },
        {
          "name": "stderr",
          "output_type": "stream",
          "text": [
            "\rEvaluating:  18%|█▊        | 6/33 [00:01<00:09,  2.96it/s]"
          ]
        },
        {
          "name": "stdout",
          "output_type": "stream",
          "text": [
            "Error loading /content/drive/MyDrive/archive (14)/Dataset_BUSI_with_GT/benign/benign (298).png: Unexpected type <class 'dict'>\n",
            "Error loading /content/drive/MyDrive/archive (14)/Dataset_BUSI_with_GT/malignant/malignant (11).png: img should be PIL Image. Got <class 'dict'>\n",
            "Error loading /content/drive/MyDrive/archive (14)/Dataset_BUSI_with_GT/benign/benign (204).png: Unexpected type <class 'dict'>\n",
            "Error loading /content/drive/MyDrive/archive (14)/Dataset_BUSI_with_GT/benign/benign (114).png: img should be PIL Image. Got <class 'dict'>\n"
          ]
        },
        {
          "name": "stderr",
          "output_type": "stream",
          "text": [
            "\rEvaluating:  21%|██        | 7/33 [00:02<00:08,  2.97it/s]"
          ]
        },
        {
          "name": "stdout",
          "output_type": "stream",
          "text": [
            "Error loading /content/drive/MyDrive/archive (14)/Dataset_BUSI_with_GT/malignant/malignant (42).png: img should be PIL Image. Got <class 'dict'>\n",
            "Error loading /content/drive/MyDrive/archive (14)/Dataset_BUSI_with_GT/malignant/malignant (72).png: img should be PIL Image. Got <class 'dict'>\n",
            "Error loading /content/drive/MyDrive/archive (14)/Dataset_BUSI_with_GT/benign/benign (422).png: Unexpected type <class 'dict'>\n",
            "Error loading /content/drive/MyDrive/archive (14)/Dataset_BUSI_with_GT/benign/benign (288).png: img should be PIL Image. Got <class 'dict'>\n"
          ]
        },
        {
          "name": "stderr",
          "output_type": "stream",
          "text": [
            "\rEvaluating:  24%|██▍       | 8/33 [00:02<00:08,  2.99it/s]"
          ]
        },
        {
          "name": "stdout",
          "output_type": "stream",
          "text": [
            "Error loading /content/drive/MyDrive/archive (14)/Dataset_BUSI_with_GT/benign/benign (335).png: Unexpected type <class 'dict'>\n",
            "Error loading /content/drive/MyDrive/archive (14)/Dataset_BUSI_with_GT/benign/benign (202).png: img should be PIL Image. Got <class 'dict'>\n",
            "Error loading /content/drive/MyDrive/archive (14)/Dataset_BUSI_with_GT/benign/benign (319).png: img should be PIL Image. Got <class 'dict'>\n",
            "Error loading /content/drive/MyDrive/archive (14)/Dataset_BUSI_with_GT/malignant/malignant (175).png: Unexpected type <class 'dict'>\n"
          ]
        },
        {
          "name": "stderr",
          "output_type": "stream",
          "text": [
            "\rEvaluating:  27%|██▋       | 9/33 [00:02<00:08,  2.99it/s]"
          ]
        },
        {
          "name": "stdout",
          "output_type": "stream",
          "text": [
            "Error loading /content/drive/MyDrive/archive (14)/Dataset_BUSI_with_GT/malignant/malignant (194).png: img should be PIL Image. Got <class 'dict'>\n",
            "Error loading /content/drive/MyDrive/archive (14)/Dataset_BUSI_with_GT/benign/benign (365).png: img should be PIL Image. Got <class 'dict'>\n",
            "Error loading /content/drive/MyDrive/archive (14)/Dataset_BUSI_with_GT/benign/benign (106).png: img should be PIL Image. Got <class 'dict'>\n",
            "Error loading /content/drive/MyDrive/archive (14)/Dataset_BUSI_with_GT/benign/benign (293).png: Unexpected type <class 'dict'>\n"
          ]
        },
        {
          "name": "stderr",
          "output_type": "stream",
          "text": [
            "\rEvaluating:  30%|███       | 10/33 [00:03<00:08,  2.85it/s]"
          ]
        },
        {
          "name": "stdout",
          "output_type": "stream",
          "text": [
            "Error loading /content/drive/MyDrive/archive (14)/Dataset_BUSI_with_GT/benign/benign (421).png: Unexpected type <class 'dict'>\n",
            "Error loading /content/drive/MyDrive/archive (14)/Dataset_BUSI_with_GT/malignant/malignant (1).png: img should be PIL Image. Got <class 'dict'>\n",
            "Error loading /content/drive/MyDrive/archive (14)/Dataset_BUSI_with_GT/benign/benign (215).png: Unexpected type <class 'dict'>\n",
            "Error loading /content/drive/MyDrive/archive (14)/Dataset_BUSI_with_GT/malignant/malignant (35).png: img should be PIL Image. Got <class 'dict'>\n"
          ]
        },
        {
          "name": "stderr",
          "output_type": "stream",
          "text": [
            "\rEvaluating:  33%|███▎      | 11/33 [00:03<00:07,  2.94it/s]"
          ]
        },
        {
          "name": "stdout",
          "output_type": "stream",
          "text": [
            "Error loading /content/drive/MyDrive/archive (14)/Dataset_BUSI_with_GT/benign/benign (9).png: Unexpected type <class 'dict'>\n",
            "Error loading /content/drive/MyDrive/archive (14)/Dataset_BUSI_with_GT/benign/benign (94).png: img should be PIL Image. Got <class 'dict'>\n",
            "Error loading /content/drive/MyDrive/archive (14)/Dataset_BUSI_with_GT/benign/benign (49).png: Unexpected type <class 'dict'>\n",
            "Error loading /content/drive/MyDrive/archive (14)/Dataset_BUSI_with_GT/malignant/malignant (134).png: Unexpected type <class 'dict'>\n"
          ]
        },
        {
          "name": "stderr",
          "output_type": "stream",
          "text": [
            "\rEvaluating:  36%|███▋      | 12/33 [00:04<00:07,  2.77it/s]"
          ]
        },
        {
          "name": "stdout",
          "output_type": "stream",
          "text": [
            "Error loading /content/drive/MyDrive/archive (14)/Dataset_BUSI_with_GT/malignant/malignant (15).png: img should be PIL Image. Got <class 'dict'>\n",
            "Error loading /content/drive/MyDrive/archive (14)/Dataset_BUSI_with_GT/benign/benign (263).png: img should be PIL Image. Got <class 'dict'>\n",
            "Error loading /content/drive/MyDrive/archive (14)/Dataset_BUSI_with_GT/benign/benign (172).png: img should be PIL Image. Got <class 'dict'>\n",
            "Error loading /content/drive/MyDrive/archive (14)/Dataset_BUSI_with_GT/malignant/malignant (114).png: Unexpected type <class 'dict'>\n"
          ]
        },
        {
          "name": "stderr",
          "output_type": "stream",
          "text": [
            "\rEvaluating:  39%|███▉      | 13/33 [00:04<00:06,  2.89it/s]"
          ]
        },
        {
          "name": "stdout",
          "output_type": "stream",
          "text": [
            "Error loading /content/drive/MyDrive/archive (14)/Dataset_BUSI_with_GT/malignant/malignant (147).png: Unexpected type <class 'dict'>\n",
            "Error loading /content/drive/MyDrive/archive (14)/Dataset_BUSI_with_GT/benign/benign (341).png: Unexpected type <class 'dict'>\n",
            "Error loading /content/drive/MyDrive/archive (14)/Dataset_BUSI_with_GT/benign/benign (176).png: Unexpected type <class 'dict'>\n",
            "Error loading /content/drive/MyDrive/archive (14)/Dataset_BUSI_with_GT/malignant/malignant (52).png: img should be PIL Image. Got <class 'dict'>\n"
          ]
        },
        {
          "name": "stderr",
          "output_type": "stream",
          "text": [
            "\rEvaluating:  42%|████▏     | 14/33 [00:04<00:06,  2.91it/s]"
          ]
        },
        {
          "name": "stdout",
          "output_type": "stream",
          "text": [
            "Error loading /content/drive/MyDrive/archive (14)/Dataset_BUSI_with_GT/benign/benign (142).png: img should be PIL Image. Got <class 'dict'>\n",
            "Error loading /content/drive/MyDrive/archive (14)/Dataset_BUSI_with_GT/benign/benign (410).png: img should be PIL Image. Got <class 'dict'>\n",
            "Error loading /content/drive/MyDrive/archive (14)/Dataset_BUSI_with_GT/malignant/malignant (204).png: img should be PIL Image. Got <class 'dict'>\n"
          ]
        },
        {
          "name": "stderr",
          "output_type": "stream",
          "text": [
            "\rEvaluating:  45%|████▌     | 15/33 [00:05<00:06,  2.73it/s]"
          ]
        },
        {
          "name": "stdout",
          "output_type": "stream",
          "text": [
            "Error loading /content/drive/MyDrive/archive (14)/Dataset_BUSI_with_GT/benign/benign (389).png: Unexpected type <class 'dict'>\n",
            "Error loading /content/drive/MyDrive/archive (14)/Dataset_BUSI_with_GT/benign/benign (305).png: Unexpected type <class 'dict'>\n",
            "Error loading /content/drive/MyDrive/archive (14)/Dataset_BUSI_with_GT/malignant/malignant (206).png: Unexpected type <class 'dict'>\n",
            "Error loading /content/drive/MyDrive/archive (14)/Dataset_BUSI_with_GT/benign/benign (311).png: img should be PIL Image. Got <class 'dict'>\n",
            "Error loading /content/drive/MyDrive/archive (14)/Dataset_BUSI_with_GT/malignant/malignant (68).png: Unexpected type <class 'dict'>\n"
          ]
        },
        {
          "name": "stderr",
          "output_type": "stream",
          "text": [
            "\rEvaluating:  48%|████▊     | 16/33 [00:05<00:06,  2.78it/s]"
          ]
        },
        {
          "name": "stdout",
          "output_type": "stream",
          "text": [
            "Error loading /content/drive/MyDrive/archive (14)/Dataset_BUSI_with_GT/benign/benign (256).png: Unexpected type <class 'dict'>\n",
            "Error loading /content/drive/MyDrive/archive (14)/Dataset_BUSI_with_GT/malignant/malignant (59).png: Unexpected type <class 'dict'>\n",
            "Error loading /content/drive/MyDrive/archive (14)/Dataset_BUSI_with_GT/benign/benign (364).png: img should be PIL Image. Got <class 'dict'>\n",
            "Error loading /content/drive/MyDrive/archive (14)/Dataset_BUSI_with_GT/malignant/malignant (83).png: img should be PIL Image. Got <class 'dict'>\n"
          ]
        },
        {
          "name": "stderr",
          "output_type": "stream",
          "text": [
            "\rEvaluating:  52%|█████▏    | 17/33 [00:05<00:05,  2.82it/s]"
          ]
        },
        {
          "name": "stdout",
          "output_type": "stream",
          "text": [
            "Error loading /content/drive/MyDrive/archive (14)/Dataset_BUSI_with_GT/benign/benign (435).png: Unexpected type <class 'dict'>\n",
            "Error loading /content/drive/MyDrive/archive (14)/Dataset_BUSI_with_GT/benign/benign (3).png: img should be PIL Image. Got <class 'dict'>\n",
            "Error loading /content/drive/MyDrive/archive (14)/Dataset_BUSI_with_GT/malignant/malignant (172).png: Unexpected type <class 'dict'>\n",
            "Error loading /content/drive/MyDrive/archive (14)/Dataset_BUSI_with_GT/malignant/malignant (122).png: img should be PIL Image. Got <class 'dict'>\n"
          ]
        },
        {
          "name": "stderr",
          "output_type": "stream",
          "text": [
            "\rEvaluating:  55%|█████▍    | 18/33 [00:06<00:05,  2.89it/s]"
          ]
        },
        {
          "name": "stdout",
          "output_type": "stream",
          "text": [
            "Error loading /content/drive/MyDrive/archive (14)/Dataset_BUSI_with_GT/malignant/malignant (57).png: Unexpected type <class 'dict'>\n",
            "Error loading /content/drive/MyDrive/archive (14)/Dataset_BUSI_with_GT/benign/benign (175).png: Unexpected type <class 'dict'>\n",
            "Error loading /content/drive/MyDrive/archive (14)/Dataset_BUSI_with_GT/malignant/malignant (2).png: img should be PIL Image. Got <class 'dict'>\n",
            "Error loading /content/drive/MyDrive/archive (14)/Dataset_BUSI_with_GT/benign/benign (345).png: img should be PIL Image. Got <class 'dict'>\n"
          ]
        },
        {
          "name": "stderr",
          "output_type": "stream",
          "text": [
            "\rEvaluating:  58%|█████▊    | 19/33 [00:06<00:04,  2.86it/s]"
          ]
        },
        {
          "name": "stdout",
          "output_type": "stream",
          "text": [
            "Error loading /content/drive/MyDrive/archive (14)/Dataset_BUSI_with_GT/benign/benign (251).png: Unexpected type <class 'dict'>\n",
            "Error loading /content/drive/MyDrive/archive (14)/Dataset_BUSI_with_GT/benign/benign (403).png: img should be PIL Image. Got <class 'dict'>\n",
            "Error loading /content/drive/MyDrive/archive (14)/Dataset_BUSI_with_GT/malignant/malignant (84).png: Unexpected type <class 'dict'>\n",
            "Error loading /content/drive/MyDrive/archive (14)/Dataset_BUSI_with_GT/benign/benign (344).png: Unexpected type <class 'dict'>\n"
          ]
        },
        {
          "name": "stderr",
          "output_type": "stream",
          "text": [
            "\rEvaluating:  61%|██████    | 20/33 [00:06<00:04,  2.91it/s]"
          ]
        },
        {
          "name": "stdout",
          "output_type": "stream",
          "text": [
            "Error loading /content/drive/MyDrive/archive (14)/Dataset_BUSI_with_GT/benign/benign (132).png: Unexpected type <class 'dict'>\n",
            "Error loading /content/drive/MyDrive/archive (14)/Dataset_BUSI_with_GT/benign/benign (383).png: img should be PIL Image. Got <class 'dict'>\n",
            "Error loading /content/drive/MyDrive/archive (14)/Dataset_BUSI_with_GT/malignant/malignant (38).png: img should be PIL Image. Got <class 'dict'>\n",
            "Error loading /content/drive/MyDrive/archive (14)/Dataset_BUSI_with_GT/malignant/malignant (4).png: Unexpected type <class 'dict'>\n"
          ]
        },
        {
          "name": "stderr",
          "output_type": "stream",
          "text": [
            "\rEvaluating:  64%|██████▎   | 21/33 [00:07<00:04,  2.83it/s]"
          ]
        },
        {
          "name": "stdout",
          "output_type": "stream",
          "text": [
            "Error loading /content/drive/MyDrive/archive (14)/Dataset_BUSI_with_GT/benign/benign (153).png: Unexpected type <class 'dict'>\n",
            "Error loading /content/drive/MyDrive/archive (14)/Dataset_BUSI_with_GT/benign/benign (18).png: Unexpected type <class 'dict'>\n",
            "Error loading /content/drive/MyDrive/archive (14)/Dataset_BUSI_with_GT/benign/benign (295).png: Unexpected type <class 'dict'>\n",
            "Error loading /content/drive/MyDrive/archive (14)/Dataset_BUSI_with_GT/benign/benign (43).png: Unexpected type <class 'dict'>\n"
          ]
        },
        {
          "name": "stderr",
          "output_type": "stream",
          "text": [
            "\rEvaluating:  67%|██████▋   | 22/33 [00:07<00:03,  2.87it/s]"
          ]
        },
        {
          "name": "stdout",
          "output_type": "stream",
          "text": [
            "Error loading /content/drive/MyDrive/archive (14)/Dataset_BUSI_with_GT/benign/benign (249).png: Unexpected type <class 'dict'>\n",
            "Error loading /content/drive/MyDrive/archive (14)/Dataset_BUSI_with_GT/benign/benign (218).png: Unexpected type <class 'dict'>\n",
            "Error loading /content/drive/MyDrive/archive (14)/Dataset_BUSI_with_GT/benign/benign (2).png: Unexpected type <class 'dict'>\n",
            "Error loading /content/drive/MyDrive/archive (14)/Dataset_BUSI_with_GT/malignant/malignant (180).png: img should be PIL Image. Got <class 'dict'>\n"
          ]
        },
        {
          "name": "stderr",
          "output_type": "stream",
          "text": [
            "\rEvaluating:  70%|██████▉   | 23/33 [00:07<00:03,  2.99it/s]"
          ]
        },
        {
          "name": "stdout",
          "output_type": "stream",
          "text": [
            "Error loading /content/drive/MyDrive/archive (14)/Dataset_BUSI_with_GT/benign/benign (347).png: img should be PIL Image. Got <class 'dict'>\n",
            "Error loading /content/drive/MyDrive/archive (14)/Dataset_BUSI_with_GT/benign/benign (304).png: img should be PIL Image. Got <class 'dict'>\n",
            "Error loading /content/drive/MyDrive/archive (14)/Dataset_BUSI_with_GT/benign/benign (292).png: Unexpected type <class 'dict'>\n",
            "Error loading /content/drive/MyDrive/archive (14)/Dataset_BUSI_with_GT/benign/benign (324).png: Unexpected type <class 'dict'>\n"
          ]
        },
        {
          "name": "stderr",
          "output_type": "stream",
          "text": [
            "\rEvaluating:  73%|███████▎  | 24/33 [00:08<00:03,  3.00it/s]"
          ]
        },
        {
          "name": "stdout",
          "output_type": "stream",
          "text": [
            "Error loading /content/drive/MyDrive/archive (14)/Dataset_BUSI_with_GT/benign/benign (276).png: Unexpected type <class 'dict'>\n",
            "Error loading /content/drive/MyDrive/archive (14)/Dataset_BUSI_with_GT/benign/benign (136).png: img should be PIL Image. Got <class 'dict'>\n",
            "Error loading /content/drive/MyDrive/archive (14)/Dataset_BUSI_with_GT/malignant/malignant (186).png: img should be PIL Image. Got <class 'dict'>\n",
            "Error loading /content/drive/MyDrive/archive (14)/Dataset_BUSI_with_GT/benign/benign (312).png: img should be PIL Image. Got <class 'dict'>\n"
          ]
        },
        {
          "name": "stderr",
          "output_type": "stream",
          "text": [
            "\rEvaluating:  76%|███████▌  | 25/33 [00:08<00:02,  2.94it/s]"
          ]
        },
        {
          "name": "stdout",
          "output_type": "stream",
          "text": [
            "Error loading /content/drive/MyDrive/archive (14)/Dataset_BUSI_with_GT/benign/benign (179).png: img should be PIL Image. Got <class 'dict'>\n",
            "Error loading /content/drive/MyDrive/archive (14)/Dataset_BUSI_with_GT/benign/benign (257).png: img should be PIL Image. Got <class 'dict'>\n",
            "Error loading /content/drive/MyDrive/archive (14)/Dataset_BUSI_with_GT/benign/benign (334).png: img should be PIL Image. Got <class 'dict'>\n",
            "Error loading /content/drive/MyDrive/archive (14)/Dataset_BUSI_with_GT/benign/benign (177).png: Unexpected type <class 'dict'>\n"
          ]
        },
        {
          "name": "stderr",
          "output_type": "stream",
          "text": [
            "\rEvaluating:  79%|███████▉  | 26/33 [00:08<00:02,  3.03it/s]"
          ]
        },
        {
          "name": "stdout",
          "output_type": "stream",
          "text": [
            "Error loading /content/drive/MyDrive/archive (14)/Dataset_BUSI_with_GT/benign/benign (128).png: Unexpected type <class 'dict'>\n",
            "Error loading /content/drive/MyDrive/archive (14)/Dataset_BUSI_with_GT/malignant/malignant (6).png: img should be PIL Image. Got <class 'dict'>\n",
            "Error loading /content/drive/MyDrive/archive (14)/Dataset_BUSI_with_GT/malignant/malignant (190).png: img should be PIL Image. Got <class 'dict'>\n",
            "Error loading /content/drive/MyDrive/archive (14)/Dataset_BUSI_with_GT/benign/benign (134).png: Unexpected type <class 'dict'>\n"
          ]
        },
        {
          "name": "stderr",
          "output_type": "stream",
          "text": [
            "\rEvaluating:  82%|████████▏ | 27/33 [00:09<00:01,  3.11it/s]"
          ]
        },
        {
          "name": "stdout",
          "output_type": "stream",
          "text": [
            "Error loading /content/drive/MyDrive/archive (14)/Dataset_BUSI_with_GT/malignant/malignant (81).png: Unexpected type <class 'dict'>\n",
            "Error loading /content/drive/MyDrive/archive (14)/Dataset_BUSI_with_GT/benign/benign (72).png: Unexpected type <class 'dict'>\n",
            "Error loading /content/drive/MyDrive/archive (14)/Dataset_BUSI_with_GT/malignant/malignant (159).png: img should be PIL Image. Got <class 'dict'>\n",
            "Error loading /content/drive/MyDrive/archive (14)/Dataset_BUSI_with_GT/malignant/malignant (85).png: img should be PIL Image. Got <class 'dict'>\n"
          ]
        },
        {
          "name": "stderr",
          "output_type": "stream",
          "text": [
            "\rEvaluating:  85%|████████▍ | 28/33 [00:09<00:01,  3.03it/s]"
          ]
        },
        {
          "name": "stdout",
          "output_type": "stream",
          "text": [
            "Error loading /content/drive/MyDrive/archive (14)/Dataset_BUSI_with_GT/benign/benign (171).png: Unexpected type <class 'dict'>\n",
            "Error loading /content/drive/MyDrive/archive (14)/Dataset_BUSI_with_GT/benign/benign (228).png: img should be PIL Image. Got <class 'dict'>\n",
            "Error loading /content/drive/MyDrive/archive (14)/Dataset_BUSI_with_GT/malignant/malignant (80).png: Unexpected type <class 'dict'>\n",
            "Error loading /content/drive/MyDrive/archive (14)/Dataset_BUSI_with_GT/benign/benign (234).png: Unexpected type <class 'dict'>\n"
          ]
        },
        {
          "name": "stderr",
          "output_type": "stream",
          "text": [
            "\rEvaluating:  88%|████████▊ | 29/33 [00:09<00:01,  2.90it/s]"
          ]
        },
        {
          "name": "stdout",
          "output_type": "stream",
          "text": [
            "Error loading /content/drive/MyDrive/archive (14)/Dataset_BUSI_with_GT/benign/benign (167).png: Unexpected type <class 'dict'>\n",
            "Error loading /content/drive/MyDrive/archive (14)/Dataset_BUSI_with_GT/malignant/malignant (182).png: Unexpected type <class 'dict'>\n",
            "Error loading /content/drive/MyDrive/archive (14)/Dataset_BUSI_with_GT/benign/benign (59).png: Unexpected type <class 'dict'>\n"
          ]
        },
        {
          "name": "stderr",
          "output_type": "stream",
          "text": [
            "\rEvaluating:  91%|█████████ | 30/33 [00:10<00:01,  2.56it/s]"
          ]
        },
        {
          "name": "stdout",
          "output_type": "stream",
          "text": [
            "Error loading /content/drive/MyDrive/archive (14)/Dataset_BUSI_with_GT/benign/benign (38).png: Unexpected type <class 'dict'>\n",
            "Error loading /content/drive/MyDrive/archive (14)/Dataset_BUSI_with_GT/benign/benign (250).png: Unexpected type <class 'dict'>\n",
            "Error loading /content/drive/MyDrive/archive (14)/Dataset_BUSI_with_GT/benign/benign (302).png: Unexpected type <class 'dict'>\n",
            "Error loading /content/drive/MyDrive/archive (14)/Dataset_BUSI_with_GT/malignant/malignant (154).png: img should be PIL Image. Got <class 'dict'>\n",
            "Error loading /content/drive/MyDrive/archive (14)/Dataset_BUSI_with_GT/malignant/malignant (50).png: img should be PIL Image. Got <class 'dict'>\n"
          ]
        },
        {
          "name": "stderr",
          "output_type": "stream",
          "text": [
            "\rEvaluating:  94%|█████████▍| 31/33 [00:10<00:00,  2.49it/s]"
          ]
        },
        {
          "name": "stdout",
          "output_type": "stream",
          "text": [
            "Error loading /content/drive/MyDrive/archive (14)/Dataset_BUSI_with_GT/benign/benign (109).png: Unexpected type <class 'dict'>\n",
            "Error loading /content/drive/MyDrive/archive (14)/Dataset_BUSI_with_GT/benign/benign (82).png: Unexpected type <class 'dict'>\n",
            "Error loading /content/drive/MyDrive/archive (14)/Dataset_BUSI_with_GT/benign/benign (373).png: Unexpected type <class 'dict'>\n",
            "Error loading /content/drive/MyDrive/archive (14)/Dataset_BUSI_with_GT/malignant/malignant (39).png: Unexpected type <class 'dict'>\n"
          ]
        },
        {
          "name": "stderr",
          "output_type": "stream",
          "text": [
            "Evaluating: 100%|██████████| 33/33 [00:11<00:00,  2.86it/s]\n"
          ]
        },
        {
          "name": "stdout",
          "output_type": "stream",
          "text": [
            "Error loading /content/drive/MyDrive/archive (14)/Dataset_BUSI_with_GT/benign/benign (233).png: img should be PIL Image. Got <class 'dict'>\n",
            "Error loading /content/drive/MyDrive/archive (14)/Dataset_BUSI_with_GT/benign/benign (356).png: img should be PIL Image. Got <class 'dict'>\n",
            "Best Threshold: 0.3, IoU: 1.0000\n"
          ]
        },
        {
          "name": "stderr",
          "output_type": "stream",
          "text": [
            "\rEpoch 5/5:   0%|          | 0/130 [00:00<?, ?it/s]"
          ]
        },
        {
          "name": "stdout",
          "output_type": "stream",
          "text": [
            "Error loading /content/drive/MyDrive/archive (14)/Dataset_BUSI_with_GT/malignant/malignant (149).png: Unexpected type <class 'dict'>\n",
            "Error loading /content/drive/MyDrive/archive (14)/Dataset_BUSI_with_GT/benign/benign (150).png: Unexpected type <class 'dict'>\n",
            "Error loading /content/drive/MyDrive/archive (14)/Dataset_BUSI_with_GT/malignant/malignant (58).png: img should be PIL Image. Got <class 'dict'>\n",
            "Error loading /content/drive/MyDrive/archive (14)/Dataset_BUSI_with_GT/benign/benign (99).png: Unexpected type <class 'dict'>\n"
          ]
        },
        {
          "name": "stderr",
          "output_type": "stream",
          "text": [
            "\rEpoch 5/5:   1%|          | 1/130 [00:00<01:16,  1.68it/s]"
          ]
        },
        {
          "name": "stdout",
          "output_type": "stream",
          "text": [
            "Error loading /content/drive/MyDrive/archive (14)/Dataset_BUSI_with_GT/benign/benign (5).png: Unexpected type <class 'dict'>\n",
            "Error loading /content/drive/MyDrive/archive (14)/Dataset_BUSI_with_GT/benign/benign (300).png: img should be PIL Image. Got <class 'dict'>\n",
            "Error loading /content/drive/MyDrive/archive (14)/Dataset_BUSI_with_GT/benign/benign (387).png: Unexpected type <class 'dict'>\n",
            "Error loading /content/drive/MyDrive/archive (14)/Dataset_BUSI_with_GT/malignant/malignant (156).png: img should be PIL Image. Got <class 'dict'>\n"
          ]
        },
        {
          "name": "stderr",
          "output_type": "stream",
          "text": [
            "\rEpoch 5/5:   2%|▏         | 2/130 [00:01<01:04,  1.99it/s]"
          ]
        },
        {
          "name": "stdout",
          "output_type": "stream",
          "text": [
            "Error loading /content/drive/MyDrive/archive (14)/Dataset_BUSI_with_GT/benign/benign (36).png: Unexpected type <class 'dict'>\n",
            "Error loading /content/drive/MyDrive/archive (14)/Dataset_BUSI_with_GT/malignant/malignant (203).png: Unexpected type <class 'dict'>\n",
            "Error loading /content/drive/MyDrive/archive (14)/Dataset_BUSI_with_GT/malignant/malignant (202).png: img should be PIL Image. Got <class 'dict'>\n"
          ]
        },
        {
          "name": "stderr",
          "output_type": "stream",
          "text": [
            "\rEpoch 5/5:   2%|▏         | 3/130 [00:01<01:05,  1.94it/s]"
          ]
        },
        {
          "name": "stdout",
          "output_type": "stream",
          "text": [
            "Error loading /content/drive/MyDrive/archive (14)/Dataset_BUSI_with_GT/malignant/malignant (174).png: Unexpected type <class 'dict'>\n",
            "Error loading /content/drive/MyDrive/archive (14)/Dataset_BUSI_with_GT/benign/benign (79).png: Unexpected type <class 'dict'>\n",
            "Error loading /content/drive/MyDrive/archive (14)/Dataset_BUSI_with_GT/benign/benign (45).png: Unexpected type <class 'dict'>\n",
            "Error loading /content/drive/MyDrive/archive (14)/Dataset_BUSI_with_GT/benign/benign (37).png: img should be PIL Image. Got <class 'dict'>\n",
            "Error loading /content/drive/MyDrive/archive (14)/Dataset_BUSI_with_GT/benign/benign (184).png: img should be PIL Image. Got <class 'dict'>\n"
          ]
        },
        {
          "name": "stderr",
          "output_type": "stream",
          "text": [
            "\rEpoch 5/5:   3%|▎         | 4/130 [00:01<01:00,  2.10it/s]"
          ]
        },
        {
          "name": "stdout",
          "output_type": "stream",
          "text": [
            "Error loading /content/drive/MyDrive/archive (14)/Dataset_BUSI_with_GT/malignant/malignant (69).png: Unexpected type <class 'dict'>\n",
            "Error loading /content/drive/MyDrive/archive (14)/Dataset_BUSI_with_GT/benign/benign (25).png: Unexpected type <class 'dict'>\n",
            "Error loading /content/drive/MyDrive/archive (14)/Dataset_BUSI_with_GT/benign/benign (316).png: img should be PIL Image. Got <class 'dict'>\n",
            "Error loading /content/drive/MyDrive/archive (14)/Dataset_BUSI_with_GT/benign/benign (189).png: Unexpected type <class 'dict'>\n"
          ]
        },
        {
          "name": "stderr",
          "output_type": "stream",
          "text": [
            "\rEpoch 5/5:   4%|▍         | 5/130 [00:02<00:56,  2.22it/s]"
          ]
        },
        {
          "name": "stdout",
          "output_type": "stream",
          "text": [
            "Error loading /content/drive/MyDrive/archive (14)/Dataset_BUSI_with_GT/benign/benign (255).png: img should be PIL Image. Got <class 'dict'>\n",
            "Error loading /content/drive/MyDrive/archive (14)/Dataset_BUSI_with_GT/malignant/malignant (37).png: img should be PIL Image. Got <class 'dict'>\n",
            "Error loading /content/drive/MyDrive/archive (14)/Dataset_BUSI_with_GT/malignant/malignant (62).png: img should be PIL Image. Got <class 'dict'>\n",
            "Error loading /content/drive/MyDrive/archive (14)/Dataset_BUSI_with_GT/benign/benign (165).png: Unexpected type <class 'dict'>\n"
          ]
        },
        {
          "name": "stderr",
          "output_type": "stream",
          "text": [
            "\rEpoch 5/5:   5%|▍         | 6/130 [00:02<00:53,  2.31it/s]"
          ]
        },
        {
          "name": "stdout",
          "output_type": "stream",
          "text": [
            "Error loading /content/drive/MyDrive/archive (14)/Dataset_BUSI_with_GT/benign/benign (162).png: img should be PIL Image. Got <class 'dict'>\n",
            "Error loading /content/drive/MyDrive/archive (14)/Dataset_BUSI_with_GT/malignant/malignant (183).png: Unexpected type <class 'dict'>\n",
            "Error loading /content/drive/MyDrive/archive (14)/Dataset_BUSI_with_GT/malignant/malignant (88).png: img should be PIL Image. Got <class 'dict'>\n",
            "Error loading /content/drive/MyDrive/archive (14)/Dataset_BUSI_with_GT/benign/benign (29).png: img should be PIL Image. Got <class 'dict'>\n"
          ]
        },
        {
          "name": "stderr",
          "output_type": "stream",
          "text": [
            "\rEpoch 5/5:   5%|▌         | 7/130 [00:03<00:51,  2.38it/s]"
          ]
        },
        {
          "name": "stdout",
          "output_type": "stream",
          "text": [
            "Error loading /content/drive/MyDrive/archive (14)/Dataset_BUSI_with_GT/benign/benign (371).png: img should be PIL Image. Got <class 'dict'>\n",
            "Error loading /content/drive/MyDrive/archive (14)/Dataset_BUSI_with_GT/benign/benign (19).png: Unexpected type <class 'dict'>\n",
            "Error loading /content/drive/MyDrive/archive (14)/Dataset_BUSI_with_GT/benign/benign (285).png: img should be PIL Image. Got <class 'dict'>\n",
            "Error loading /content/drive/MyDrive/archive (14)/Dataset_BUSI_with_GT/malignant/malignant (108).png: img should be PIL Image. Got <class 'dict'>\n"
          ]
        },
        {
          "name": "stderr",
          "output_type": "stream",
          "text": [
            "\rEpoch 5/5:   6%|▌         | 8/130 [00:03<00:51,  2.35it/s]"
          ]
        },
        {
          "name": "stdout",
          "output_type": "stream",
          "text": [
            "Error loading /content/drive/MyDrive/archive (14)/Dataset_BUSI_with_GT/benign/benign (61).png: img should be PIL Image. Got <class 'dict'>\n",
            "Error loading /content/drive/MyDrive/archive (14)/Dataset_BUSI_with_GT/malignant/malignant (121).png: img should be PIL Image. Got <class 'dict'>\n",
            "Error loading /content/drive/MyDrive/archive (14)/Dataset_BUSI_with_GT/benign/benign (71).png: img should be PIL Image. Got <class 'dict'>\n",
            "Error loading /content/drive/MyDrive/archive (14)/Dataset_BUSI_with_GT/malignant/malignant (201).png: img should be PIL Image. Got <class 'dict'>\n"
          ]
        },
        {
          "name": "stderr",
          "output_type": "stream",
          "text": [
            "\rEpoch 5/5:   7%|▋         | 9/130 [00:04<00:50,  2.38it/s]"
          ]
        },
        {
          "name": "stdout",
          "output_type": "stream",
          "text": [
            "Error loading /content/drive/MyDrive/archive (14)/Dataset_BUSI_with_GT/malignant/malignant (21).png: Unexpected type <class 'dict'>\n",
            "Error loading /content/drive/MyDrive/archive (14)/Dataset_BUSI_with_GT/malignant/malignant (100).png: Unexpected type <class 'dict'>\n",
            "Error loading /content/drive/MyDrive/archive (14)/Dataset_BUSI_with_GT/benign/benign (31).png: Unexpected type <class 'dict'>\n",
            "Error loading /content/drive/MyDrive/archive (14)/Dataset_BUSI_with_GT/benign/benign (325).png: img should be PIL Image. Got <class 'dict'>\n"
          ]
        },
        {
          "name": "stderr",
          "output_type": "stream",
          "text": [
            "\rEpoch 5/5:   8%|▊         | 10/130 [00:04<00:49,  2.44it/s]"
          ]
        },
        {
          "name": "stdout",
          "output_type": "stream",
          "text": [
            "Error loading /content/drive/MyDrive/archive (14)/Dataset_BUSI_with_GT/benign/benign (426).png: img should be PIL Image. Got <class 'dict'>\n",
            "Error loading /content/drive/MyDrive/archive (14)/Dataset_BUSI_with_GT/malignant/malignant (77).png: Unexpected type <class 'dict'>\n",
            "Error loading /content/drive/MyDrive/archive (14)/Dataset_BUSI_with_GT/benign/benign (155).png: img should be PIL Image. Got <class 'dict'>\n"
          ]
        },
        {
          "name": "stderr",
          "output_type": "stream",
          "text": [
            "\rEpoch 5/5:   8%|▊         | 11/130 [00:04<00:49,  2.39it/s]"
          ]
        },
        {
          "name": "stdout",
          "output_type": "stream",
          "text": [
            "Error loading /content/drive/MyDrive/archive (14)/Dataset_BUSI_with_GT/malignant/malignant (163).png: img should be PIL Image. Got <class 'dict'>\n",
            "Error loading /content/drive/MyDrive/archive (14)/Dataset_BUSI_with_GT/malignant/malignant (54).png: Unexpected type <class 'dict'>\n",
            "Error loading /content/drive/MyDrive/archive (14)/Dataset_BUSI_with_GT/benign/benign (301).png: Unexpected type <class 'dict'>\n",
            "Error loading /content/drive/MyDrive/archive (14)/Dataset_BUSI_with_GT/benign/benign (152).png: img should be PIL Image. Got <class 'dict'>\n",
            "Error loading /content/drive/MyDrive/archive (14)/Dataset_BUSI_with_GT/benign/benign (223).png: img should be PIL Image. Got <class 'dict'>\n"
          ]
        },
        {
          "name": "stderr",
          "output_type": "stream",
          "text": [
            "\rEpoch 5/5:   9%|▉         | 12/130 [00:05<00:48,  2.44it/s]"
          ]
        },
        {
          "name": "stdout",
          "output_type": "stream",
          "text": [
            "Error loading /content/drive/MyDrive/archive (14)/Dataset_BUSI_with_GT/malignant/malignant (70).png: Unexpected type <class 'dict'>\n",
            "Error loading /content/drive/MyDrive/archive (14)/Dataset_BUSI_with_GT/benign/benign (284).png: img should be PIL Image. Got <class 'dict'>\n",
            "Error loading /content/drive/MyDrive/archive (14)/Dataset_BUSI_with_GT/benign/benign (39).png: img should be PIL Image. Got <class 'dict'>\n",
            "Error loading /content/drive/MyDrive/archive (14)/Dataset_BUSI_with_GT/benign/benign (120).png: Unexpected type <class 'dict'>\n"
          ]
        },
        {
          "name": "stderr",
          "output_type": "stream",
          "text": [
            "\rEpoch 5/5:  10%|█         | 13/130 [00:05<00:48,  2.41it/s]"
          ]
        },
        {
          "name": "stdout",
          "output_type": "stream",
          "text": [
            "Error loading /content/drive/MyDrive/archive (14)/Dataset_BUSI_with_GT/malignant/malignant (205).png: img should be PIL Image. Got <class 'dict'>\n",
            "Error loading /content/drive/MyDrive/archive (14)/Dataset_BUSI_with_GT/malignant/malignant (87).png: img should be PIL Image. Got <class 'dict'>\n",
            "Error loading /content/drive/MyDrive/archive (14)/Dataset_BUSI_with_GT/benign/benign (208).png: Unexpected type <class 'dict'>\n",
            "Error loading /content/drive/MyDrive/archive (14)/Dataset_BUSI_with_GT/benign/benign (133).png: img should be PIL Image. Got <class 'dict'>\n"
          ]
        },
        {
          "name": "stderr",
          "output_type": "stream",
          "text": [
            "\rEpoch 5/5:  11%|█         | 14/130 [00:06<00:46,  2.52it/s]"
          ]
        },
        {
          "name": "stdout",
          "output_type": "stream",
          "text": [
            "Error loading /content/drive/MyDrive/archive (14)/Dataset_BUSI_with_GT/malignant/malignant (184).png: img should be PIL Image. Got <class 'dict'>\n",
            "Error loading /content/drive/MyDrive/archive (14)/Dataset_BUSI_with_GT/benign/benign (379).png: Unexpected type <class 'dict'>\n",
            "Error loading /content/drive/MyDrive/archive (14)/Dataset_BUSI_with_GT/benign/benign (237).png: Unexpected type <class 'dict'>\n",
            "Error loading /content/drive/MyDrive/archive (14)/Dataset_BUSI_with_GT/benign/benign (407).png: Unexpected type <class 'dict'>\n"
          ]
        },
        {
          "name": "stderr",
          "output_type": "stream",
          "text": [
            "\rEpoch 5/5:  12%|█▏        | 15/130 [00:06<00:47,  2.44it/s]"
          ]
        },
        {
          "name": "stdout",
          "output_type": "stream",
          "text": [
            "Error loading /content/drive/MyDrive/archive (14)/Dataset_BUSI_with_GT/benign/benign (372).png: Unexpected type <class 'dict'>\n",
            "Error loading /content/drive/MyDrive/archive (14)/Dataset_BUSI_with_GT/benign/benign (259).png: img should be PIL Image. Got <class 'dict'>\n",
            "Error loading /content/drive/MyDrive/archive (14)/Dataset_BUSI_with_GT/benign/benign (360).png: Unexpected type <class 'dict'>\n",
            "Error loading /content/drive/MyDrive/archive (14)/Dataset_BUSI_with_GT/malignant/malignant (189).png: Unexpected type <class 'dict'>\n"
          ]
        },
        {
          "name": "stderr",
          "output_type": "stream",
          "text": [
            "\rEpoch 5/5:  12%|█▏        | 16/130 [00:06<00:45,  2.53it/s]"
          ]
        },
        {
          "name": "stdout",
          "output_type": "stream",
          "text": [
            "Error loading /content/drive/MyDrive/archive (14)/Dataset_BUSI_with_GT/benign/benign (428).png: img should be PIL Image. Got <class 'dict'>\n",
            "Error loading /content/drive/MyDrive/archive (14)/Dataset_BUSI_with_GT/benign/benign (75).png: Unexpected type <class 'dict'>\n",
            "Error loading /content/drive/MyDrive/archive (14)/Dataset_BUSI_with_GT/benign/benign (168).png: img should be PIL Image. Got <class 'dict'>\n",
            "Error loading /content/drive/MyDrive/archive (14)/Dataset_BUSI_with_GT/benign/benign (264).png: Unexpected type <class 'dict'>\n"
          ]
        },
        {
          "name": "stderr",
          "output_type": "stream",
          "text": [
            "\rEpoch 5/5:  13%|█▎        | 17/130 [00:07<00:44,  2.55it/s]"
          ]
        },
        {
          "name": "stdout",
          "output_type": "stream",
          "text": [
            "Error loading /content/drive/MyDrive/archive (14)/Dataset_BUSI_with_GT/benign/benign (15).png: Unexpected type <class 'dict'>\n",
            "Error loading /content/drive/MyDrive/archive (14)/Dataset_BUSI_with_GT/malignant/malignant (91).png: img should be PIL Image. Got <class 'dict'>\n",
            "Error loading /content/drive/MyDrive/archive (14)/Dataset_BUSI_with_GT/benign/benign (235).png: img should be PIL Image. Got <class 'dict'>\n",
            "Error loading /content/drive/MyDrive/archive (14)/Dataset_BUSI_with_GT/benign/benign (123).png: img should be PIL Image. Got <class 'dict'>\n"
          ]
        },
        {
          "name": "stderr",
          "output_type": "stream",
          "text": [
            "\rEpoch 5/5:  14%|█▍        | 18/130 [00:07<00:44,  2.51it/s]"
          ]
        },
        {
          "name": "stdout",
          "output_type": "stream",
          "text": [
            "Error loading /content/drive/MyDrive/archive (14)/Dataset_BUSI_with_GT/benign/benign (148).png: Unexpected type <class 'dict'>\n",
            "Error loading /content/drive/MyDrive/archive (14)/Dataset_BUSI_with_GT/malignant/malignant (140).png: img should be PIL Image. Got <class 'dict'>\n",
            "Error loading /content/drive/MyDrive/archive (14)/Dataset_BUSI_with_GT/benign/benign (420).png: img should be PIL Image. Got <class 'dict'>\n",
            "Error loading /content/drive/MyDrive/archive (14)/Dataset_BUSI_with_GT/benign/benign (273).png: Unexpected type <class 'dict'>\n"
          ]
        },
        {
          "name": "stderr",
          "output_type": "stream",
          "text": [
            "\rEpoch 5/5:  15%|█▍        | 19/130 [00:08<00:44,  2.52it/s]"
          ]
        },
        {
          "name": "stdout",
          "output_type": "stream",
          "text": [
            "Error loading /content/drive/MyDrive/archive (14)/Dataset_BUSI_with_GT/benign/benign (213).png: Unexpected type <class 'dict'>\n",
            "Error loading /content/drive/MyDrive/archive (14)/Dataset_BUSI_with_GT/malignant/malignant (60).png: img should be PIL Image. Got <class 'dict'>\n",
            "Error loading /content/drive/MyDrive/archive (14)/Dataset_BUSI_with_GT/benign/benign (329).png: Unexpected type <class 'dict'>\n",
            "Error loading /content/drive/MyDrive/archive (14)/Dataset_BUSI_with_GT/benign/benign (390).png: Unexpected type <class 'dict'>\n"
          ]
        },
        {
          "name": "stderr",
          "output_type": "stream",
          "text": [
            "\rEpoch 5/5:  15%|█▌        | 20/130 [00:08<00:44,  2.45it/s]"
          ]
        },
        {
          "name": "stdout",
          "output_type": "stream",
          "text": [
            "Error loading /content/drive/MyDrive/archive (14)/Dataset_BUSI_with_GT/malignant/malignant (120).png: Unexpected type <class 'dict'>\n",
            "Error loading /content/drive/MyDrive/archive (14)/Dataset_BUSI_with_GT/benign/benign (338).png: Unexpected type <class 'dict'>\n",
            "Error loading /content/drive/MyDrive/archive (14)/Dataset_BUSI_with_GT/malignant/malignant (148).png: Unexpected type <class 'dict'>\n",
            "Error loading /content/drive/MyDrive/archive (14)/Dataset_BUSI_with_GT/benign/benign (245).png: img should be PIL Image. Got <class 'dict'>\n"
          ]
        },
        {
          "name": "stderr",
          "output_type": "stream",
          "text": [
            "\rEpoch 5/5:  16%|█▌        | 21/130 [00:08<00:43,  2.50it/s]"
          ]
        },
        {
          "name": "stdout",
          "output_type": "stream",
          "text": [
            "Error loading /content/drive/MyDrive/archive (14)/Dataset_BUSI_with_GT/benign/benign (429).png: img should be PIL Image. Got <class 'dict'>\n",
            "Error loading /content/drive/MyDrive/archive (14)/Dataset_BUSI_with_GT/malignant/malignant (16).png: img should be PIL Image. Got <class 'dict'>\n",
            "Error loading /content/drive/MyDrive/archive (14)/Dataset_BUSI_with_GT/benign/benign (27).png: Unexpected type <class 'dict'>\n",
            "Error loading /content/drive/MyDrive/archive (14)/Dataset_BUSI_with_GT/benign/benign (406).png: img should be PIL Image. Got <class 'dict'>\n"
          ]
        },
        {
          "name": "stderr",
          "output_type": "stream",
          "text": [
            "\rEpoch 5/5:  17%|█▋        | 22/130 [00:09<00:43,  2.51it/s]"
          ]
        },
        {
          "name": "stdout",
          "output_type": "stream",
          "text": [
            "Error loading /content/drive/MyDrive/archive (14)/Dataset_BUSI_with_GT/benign/benign (125).png: Unexpected type <class 'dict'>\n",
            "Error loading /content/drive/MyDrive/archive (14)/Dataset_BUSI_with_GT/benign/benign (190).png: img should be PIL Image. Got <class 'dict'>\n",
            "Error loading /content/drive/MyDrive/archive (14)/Dataset_BUSI_with_GT/malignant/malignant (45).png: Unexpected type <class 'dict'>\n",
            "Error loading /content/drive/MyDrive/archive (14)/Dataset_BUSI_with_GT/benign/benign (296).png: img should be PIL Image. Got <class 'dict'>\n"
          ]
        },
        {
          "name": "stderr",
          "output_type": "stream",
          "text": [
            "\rEpoch 5/5:  18%|█▊        | 23/130 [00:09<00:43,  2.47it/s]"
          ]
        },
        {
          "name": "stdout",
          "output_type": "stream",
          "text": [
            "Error loading /content/drive/MyDrive/archive (14)/Dataset_BUSI_with_GT/malignant/malignant (116).png: Unexpected type <class 'dict'>\n",
            "Error loading /content/drive/MyDrive/archive (14)/Dataset_BUSI_with_GT/benign/benign (274).png: img should be PIL Image. Got <class 'dict'>\n",
            "Error loading /content/drive/MyDrive/archive (14)/Dataset_BUSI_with_GT/benign/benign (240).png: img should be PIL Image. Got <class 'dict'>\n",
            "Error loading /content/drive/MyDrive/archive (14)/Dataset_BUSI_with_GT/benign/benign (348).png: img should be PIL Image. Got <class 'dict'>\n"
          ]
        },
        {
          "name": "stderr",
          "output_type": "stream",
          "text": [
            "\rEpoch 5/5:  18%|█▊        | 24/130 [00:10<00:43,  2.41it/s]"
          ]
        },
        {
          "name": "stdout",
          "output_type": "stream",
          "text": [
            "Error loading /content/drive/MyDrive/archive (14)/Dataset_BUSI_with_GT/malignant/malignant (71).png: img should be PIL Image. Got <class 'dict'>\n",
            "Error loading /content/drive/MyDrive/archive (14)/Dataset_BUSI_with_GT/malignant/malignant (145).png: Unexpected type <class 'dict'>\n",
            "Error loading /content/drive/MyDrive/archive (14)/Dataset_BUSI_with_GT/benign/benign (272).png: Unexpected type <class 'dict'>\n",
            "Error loading /content/drive/MyDrive/archive (14)/Dataset_BUSI_with_GT/benign/benign (205).png: img should be PIL Image. Got <class 'dict'>\n"
          ]
        },
        {
          "name": "stderr",
          "output_type": "stream",
          "text": [
            "\rEpoch 5/5:  19%|█▉        | 25/130 [00:10<00:41,  2.51it/s]"
          ]
        },
        {
          "name": "stdout",
          "output_type": "stream",
          "text": [
            "Error loading /content/drive/MyDrive/archive (14)/Dataset_BUSI_with_GT/benign/benign (425).png: img should be PIL Image. Got <class 'dict'>\n",
            "Error loading /content/drive/MyDrive/archive (14)/Dataset_BUSI_with_GT/benign/benign (138).png: img should be PIL Image. Got <class 'dict'>\n",
            "Error loading /content/drive/MyDrive/archive (14)/Dataset_BUSI_with_GT/benign/benign (211).png: img should be PIL Image. Got <class 'dict'>\n",
            "Error loading /content/drive/MyDrive/archive (14)/Dataset_BUSI_with_GT/benign/benign (70).png: img should be PIL Image. Got <class 'dict'>\n"
          ]
        },
        {
          "name": "stderr",
          "output_type": "stream",
          "text": [
            "\rEpoch 5/5:  20%|██        | 26/130 [00:10<00:42,  2.46it/s]"
          ]
        },
        {
          "name": "stdout",
          "output_type": "stream",
          "text": [
            "Error loading /content/drive/MyDrive/archive (14)/Dataset_BUSI_with_GT/malignant/malignant (101).png: Unexpected type <class 'dict'>\n",
            "Error loading /content/drive/MyDrive/archive (14)/Dataset_BUSI_with_GT/benign/benign (400).png: img should be PIL Image. Got <class 'dict'>\n",
            "Error loading /content/drive/MyDrive/archive (14)/Dataset_BUSI_with_GT/benign/benign (404).png: img should be PIL Image. Got <class 'dict'>\n",
            "Error loading /content/drive/MyDrive/archive (14)/Dataset_BUSI_with_GT/benign/benign (217).png: Unexpected type <class 'dict'>\n"
          ]
        },
        {
          "name": "stderr",
          "output_type": "stream",
          "text": [
            "\rEpoch 5/5:  21%|██        | 27/130 [00:11<00:43,  2.37it/s]"
          ]
        },
        {
          "name": "stdout",
          "output_type": "stream",
          "text": [
            "Error loading /content/drive/MyDrive/archive (14)/Dataset_BUSI_with_GT/malignant/malignant (197).png: img should be PIL Image. Got <class 'dict'>\n",
            "Error loading /content/drive/MyDrive/archive (14)/Dataset_BUSI_with_GT/malignant/malignant (44).png: Unexpected type <class 'dict'>\n",
            "Error loading /content/drive/MyDrive/archive (14)/Dataset_BUSI_with_GT/benign/benign (170).png: img should be PIL Image. Got <class 'dict'>\n",
            "Error loading /content/drive/MyDrive/archive (14)/Dataset_BUSI_with_GT/benign/benign (129).png: img should be PIL Image. Got <class 'dict'>\n"
          ]
        },
        {
          "name": "stderr",
          "output_type": "stream",
          "text": [
            "\rEpoch 5/5:  22%|██▏       | 28/130 [00:11<00:43,  2.36it/s]"
          ]
        },
        {
          "name": "stdout",
          "output_type": "stream",
          "text": [
            "Error loading /content/drive/MyDrive/archive (14)/Dataset_BUSI_with_GT/malignant/malignant (157).png: img should be PIL Image. Got <class 'dict'>\n",
            "Error loading /content/drive/MyDrive/archive (14)/Dataset_BUSI_with_GT/benign/benign (196).png: img should be PIL Image. Got <class 'dict'>\n",
            "Error loading /content/drive/MyDrive/archive (14)/Dataset_BUSI_with_GT/benign/benign (30).png: Unexpected type <class 'dict'>\n"
          ]
        },
        {
          "name": "stderr",
          "output_type": "stream",
          "text": [
            "\rEpoch 5/5:  22%|██▏       | 29/130 [00:12<00:45,  2.23it/s]"
          ]
        },
        {
          "name": "stdout",
          "output_type": "stream",
          "text": [
            "Error loading /content/drive/MyDrive/archive (14)/Dataset_BUSI_with_GT/malignant/malignant (53).png: img should be PIL Image. Got <class 'dict'>\n",
            "Error loading /content/drive/MyDrive/archive (14)/Dataset_BUSI_with_GT/benign/benign (252).png: Unexpected type <class 'dict'>\n",
            "Error loading /content/drive/MyDrive/archive (14)/Dataset_BUSI_with_GT/benign/benign (24).png: img should be PIL Image. Got <class 'dict'>\n",
            "Error loading /content/drive/MyDrive/archive (14)/Dataset_BUSI_with_GT/malignant/malignant (112).png: img should be PIL Image. Got <class 'dict'>\n"
          ]
        },
        {
          "name": "stderr",
          "output_type": "stream",
          "text": [
            "\rEpoch 5/5:  23%|██▎       | 30/130 [00:12<00:46,  2.15it/s]"
          ]
        },
        {
          "name": "stdout",
          "output_type": "stream",
          "text": [
            "Error loading /content/drive/MyDrive/archive (14)/Dataset_BUSI_with_GT/benign/benign (419).png: img should be PIL Image. Got <class 'dict'>\n",
            "Error loading /content/drive/MyDrive/archive (14)/Dataset_BUSI_with_GT/malignant/malignant (89).png: Unexpected type <class 'dict'>\n",
            "Error loading /content/drive/MyDrive/archive (14)/Dataset_BUSI_with_GT/benign/benign (409).png: img should be PIL Image. Got <class 'dict'>\n",
            "Error loading /content/drive/MyDrive/archive (14)/Dataset_BUSI_with_GT/benign/benign (65).png: img should be PIL Image. Got <class 'dict'>\n",
            "Error loading /content/drive/MyDrive/archive (14)/Dataset_BUSI_with_GT/malignant/malignant (195).png: img should be PIL Image. Got <class 'dict'>\n"
          ]
        },
        {
          "name": "stderr",
          "output_type": "stream",
          "text": [
            "\rEpoch 5/5:  24%|██▍       | 31/130 [00:13<00:46,  2.11it/s]"
          ]
        },
        {
          "name": "stdout",
          "output_type": "stream",
          "text": [
            "Error loading /content/drive/MyDrive/archive (14)/Dataset_BUSI_with_GT/benign/benign (395).png: img should be PIL Image. Got <class 'dict'>\n",
            "Error loading /content/drive/MyDrive/archive (14)/Dataset_BUSI_with_GT/malignant/malignant (191).png: img should be PIL Image. Got <class 'dict'>\n",
            "Error loading /content/drive/MyDrive/archive (14)/Dataset_BUSI_with_GT/benign/benign (83).png: img should be PIL Image. Got <class 'dict'>\n"
          ]
        },
        {
          "name": "stderr",
          "output_type": "stream",
          "text": [
            "\rEpoch 5/5:  25%|██▍       | 32/130 [00:13<00:47,  2.04it/s]"
          ]
        },
        {
          "name": "stdout",
          "output_type": "stream",
          "text": [
            "Error loading /content/drive/MyDrive/archive (14)/Dataset_BUSI_with_GT/benign/benign (194).png: img should be PIL Image. Got <class 'dict'>\n",
            "Error loading /content/drive/MyDrive/archive (14)/Dataset_BUSI_with_GT/benign/benign (63).png: img should be PIL Image. Got <class 'dict'>\n",
            "Error loading /content/drive/MyDrive/archive (14)/Dataset_BUSI_with_GT/malignant/malignant (14).png: img should be PIL Image. Got <class 'dict'>\n",
            "Error loading /content/drive/MyDrive/archive (14)/Dataset_BUSI_with_GT/benign/benign (164).png: Unexpected type <class 'dict'>\n",
            "Error loading /content/drive/MyDrive/archive (14)/Dataset_BUSI_with_GT/benign/benign (269).png: Unexpected type <class 'dict'>\n"
          ]
        },
        {
          "name": "stderr",
          "output_type": "stream",
          "text": [
            "\rEpoch 5/5:  25%|██▌       | 33/130 [00:14<00:46,  2.10it/s]"
          ]
        },
        {
          "name": "stdout",
          "output_type": "stream",
          "text": [
            "Error loading /content/drive/MyDrive/archive (14)/Dataset_BUSI_with_GT/malignant/malignant (74).png: img should be PIL Image. Got <class 'dict'>\n",
            "Error loading /content/drive/MyDrive/archive (14)/Dataset_BUSI_with_GT/benign/benign (413).png: Unexpected type <class 'dict'>\n",
            "Error loading /content/drive/MyDrive/archive (14)/Dataset_BUSI_with_GT/malignant/malignant (63).png: img should be PIL Image. Got <class 'dict'>\n"
          ]
        },
        {
          "name": "stderr",
          "output_type": "stream",
          "text": [
            "\rEpoch 5/5:  26%|██▌       | 34/130 [00:14<00:47,  2.03it/s]"
          ]
        },
        {
          "name": "stdout",
          "output_type": "stream",
          "text": [
            "Error loading /content/drive/MyDrive/archive (14)/Dataset_BUSI_with_GT/benign/benign (87).png: Unexpected type <class 'dict'>\n",
            "Error loading /content/drive/MyDrive/archive (14)/Dataset_BUSI_with_GT/benign/benign (281).png: img should be PIL Image. Got <class 'dict'>\n",
            "Error loading /content/drive/MyDrive/archive (14)/Dataset_BUSI_with_GT/benign/benign (28).png: Unexpected type <class 'dict'>\n",
            "Error loading /content/drive/MyDrive/archive (14)/Dataset_BUSI_with_GT/benign/benign (166).png: Unexpected type <class 'dict'>\n"
          ]
        },
        {
          "name": "stderr",
          "output_type": "stream",
          "text": [
            "\rEpoch 5/5:  27%|██▋       | 35/130 [00:15<00:46,  2.03it/s]"
          ]
        },
        {
          "name": "stdout",
          "output_type": "stream",
          "text": [
            "Error loading /content/drive/MyDrive/archive (14)/Dataset_BUSI_with_GT/benign/benign (92).png: img should be PIL Image. Got <class 'dict'>\n",
            "Error loading /content/drive/MyDrive/archive (14)/Dataset_BUSI_with_GT/benign/benign (368).png: img should be PIL Image. Got <class 'dict'>\n",
            "Error loading /content/drive/MyDrive/archive (14)/Dataset_BUSI_with_GT/malignant/malignant (43).png: Unexpected type <class 'dict'>\n",
            "Error loading /content/drive/MyDrive/archive (14)/Dataset_BUSI_with_GT/malignant/malignant (48).png: Unexpected type <class 'dict'>\n",
            "Error loading /content/drive/MyDrive/archive (14)/Dataset_BUSI_with_GT/malignant/malignant (137).png: Unexpected type <class 'dict'>\n"
          ]
        },
        {
          "name": "stderr",
          "output_type": "stream",
          "text": [
            "\rEpoch 5/5:  28%|██▊       | 36/130 [00:15<00:43,  2.18it/s]"
          ]
        },
        {
          "name": "stdout",
          "output_type": "stream",
          "text": [
            "Error loading /content/drive/MyDrive/archive (14)/Dataset_BUSI_with_GT/benign/benign (291).png: img should be PIL Image. Got <class 'dict'>\n",
            "Error loading /content/drive/MyDrive/archive (14)/Dataset_BUSI_with_GT/benign/benign (323).png: img should be PIL Image. Got <class 'dict'>\n",
            "Error loading /content/drive/MyDrive/archive (14)/Dataset_BUSI_with_GT/benign/benign (169).png: Unexpected type <class 'dict'>\n",
            "Error loading /content/drive/MyDrive/archive (14)/Dataset_BUSI_with_GT/benign/benign (254).png: img should be PIL Image. Got <class 'dict'>\n"
          ]
        },
        {
          "name": "stderr",
          "output_type": "stream",
          "text": [
            "\rEpoch 5/5:  28%|██▊       | 37/130 [00:15<00:39,  2.36it/s]"
          ]
        },
        {
          "name": "stdout",
          "output_type": "stream",
          "text": [
            "Error loading /content/drive/MyDrive/archive (14)/Dataset_BUSI_with_GT/malignant/malignant (139).png: Unexpected type <class 'dict'>\n",
            "Error loading /content/drive/MyDrive/archive (14)/Dataset_BUSI_with_GT/benign/benign (310).png: img should be PIL Image. Got <class 'dict'>\n",
            "Error loading /content/drive/MyDrive/archive (14)/Dataset_BUSI_with_GT/benign/benign (397).png: Unexpected type <class 'dict'>\n",
            "Error loading /content/drive/MyDrive/archive (14)/Dataset_BUSI_with_GT/benign/benign (393).png: img should be PIL Image. Got <class 'dict'>\n"
          ]
        },
        {
          "name": "stderr",
          "output_type": "stream",
          "text": [
            "\rEpoch 5/5:  29%|██▉       | 38/130 [00:16<00:38,  2.41it/s]"
          ]
        },
        {
          "name": "stdout",
          "output_type": "stream",
          "text": [
            "Error loading /content/drive/MyDrive/archive (14)/Dataset_BUSI_with_GT/malignant/malignant (5).png: Unexpected type <class 'dict'>\n",
            "Error loading /content/drive/MyDrive/archive (14)/Dataset_BUSI_with_GT/benign/benign (207).png: img should be PIL Image. Got <class 'dict'>\n",
            "Error loading /content/drive/MyDrive/archive (14)/Dataset_BUSI_with_GT/benign/benign (261).png: Unexpected type <class 'dict'>\n",
            "Error loading /content/drive/MyDrive/archive (14)/Dataset_BUSI_with_GT/benign/benign (377).png: img should be PIL Image. Got <class 'dict'>\n"
          ]
        },
        {
          "name": "stderr",
          "output_type": "stream",
          "text": [
            "\rEpoch 5/5:  30%|███       | 39/130 [00:16<00:36,  2.49it/s]"
          ]
        },
        {
          "name": "stdout",
          "output_type": "stream",
          "text": [
            "Error loading /content/drive/MyDrive/archive (14)/Dataset_BUSI_with_GT/malignant/malignant (110).png: img should be PIL Image. Got <class 'dict'>\n",
            "Error loading /content/drive/MyDrive/archive (14)/Dataset_BUSI_with_GT/benign/benign (358).png: img should be PIL Image. Got <class 'dict'>\n",
            "Error loading /content/drive/MyDrive/archive (14)/Dataset_BUSI_with_GT/benign/benign (271).png: img should be PIL Image. Got <class 'dict'>\n",
            "Error loading /content/drive/MyDrive/archive (14)/Dataset_BUSI_with_GT/malignant/malignant (99).png: img should be PIL Image. Got <class 'dict'>\n"
          ]
        },
        {
          "name": "stderr",
          "output_type": "stream",
          "text": [
            "\rEpoch 5/5:  31%|███       | 40/130 [00:17<00:35,  2.56it/s]"
          ]
        },
        {
          "name": "stdout",
          "output_type": "stream",
          "text": [
            "Error loading /content/drive/MyDrive/archive (14)/Dataset_BUSI_with_GT/malignant/malignant (36).png: img should be PIL Image. Got <class 'dict'>\n",
            "Error loading /content/drive/MyDrive/archive (14)/Dataset_BUSI_with_GT/malignant/malignant (23).png: img should be PIL Image. Got <class 'dict'>\n",
            "Error loading /content/drive/MyDrive/archive (14)/Dataset_BUSI_with_GT/malignant/malignant (111).png: Unexpected type <class 'dict'>\n",
            "Error loading /content/drive/MyDrive/archive (14)/Dataset_BUSI_with_GT/benign/benign (86).png: Unexpected type <class 'dict'>\n"
          ]
        },
        {
          "name": "stderr",
          "output_type": "stream",
          "text": [
            "\rEpoch 5/5:  32%|███▏      | 41/130 [00:17<00:34,  2.55it/s]"
          ]
        },
        {
          "name": "stdout",
          "output_type": "stream",
          "text": [
            "Error loading /content/drive/MyDrive/archive (14)/Dataset_BUSI_with_GT/malignant/malignant (167).png: Unexpected type <class 'dict'>\n",
            "Error loading /content/drive/MyDrive/archive (14)/Dataset_BUSI_with_GT/malignant/malignant (207).png: Unexpected type <class 'dict'>\n",
            "Error loading /content/drive/MyDrive/archive (14)/Dataset_BUSI_with_GT/benign/benign (352).png: img should be PIL Image. Got <class 'dict'>\n",
            "Error loading /content/drive/MyDrive/archive (14)/Dataset_BUSI_with_GT/benign/benign (108).png: img should be PIL Image. Got <class 'dict'>\n"
          ]
        },
        {
          "name": "stderr",
          "output_type": "stream",
          "text": [
            "\rEpoch 5/5:  32%|███▏      | 42/130 [00:17<00:34,  2.53it/s]"
          ]
        },
        {
          "name": "stdout",
          "output_type": "stream",
          "text": [
            "Error loading /content/drive/MyDrive/archive (14)/Dataset_BUSI_with_GT/malignant/malignant (179).png: img should be PIL Image. Got <class 'dict'>\n",
            "Error loading /content/drive/MyDrive/archive (14)/Dataset_BUSI_with_GT/benign/benign (113).png: img should be PIL Image. Got <class 'dict'>\n",
            "Error loading /content/drive/MyDrive/archive (14)/Dataset_BUSI_with_GT/benign/benign (26).png: img should be PIL Image. Got <class 'dict'>\n",
            "Error loading /content/drive/MyDrive/archive (14)/Dataset_BUSI_with_GT/malignant/malignant (33).png: Unexpected type <class 'dict'>\n"
          ]
        },
        {
          "name": "stderr",
          "output_type": "stream",
          "text": [
            "\rEpoch 5/5:  33%|███▎      | 43/130 [00:18<00:34,  2.49it/s]"
          ]
        },
        {
          "name": "stdout",
          "output_type": "stream",
          "text": [
            "Error loading /content/drive/MyDrive/archive (14)/Dataset_BUSI_with_GT/benign/benign (149).png: img should be PIL Image. Got <class 'dict'>\n",
            "Error loading /content/drive/MyDrive/archive (14)/Dataset_BUSI_with_GT/benign/benign (430).png: Unexpected type <class 'dict'>\n",
            "Error loading /content/drive/MyDrive/archive (14)/Dataset_BUSI_with_GT/malignant/malignant (26).png: Unexpected type <class 'dict'>\n",
            "Error loading /content/drive/MyDrive/archive (14)/Dataset_BUSI_with_GT/malignant/malignant (168).png: Unexpected type <class 'dict'>\n"
          ]
        },
        {
          "name": "stderr",
          "output_type": "stream",
          "text": [
            "\rEpoch 5/5:  34%|███▍      | 44/130 [00:18<00:34,  2.49it/s]"
          ]
        },
        {
          "name": "stdout",
          "output_type": "stream",
          "text": [
            "Error loading /content/drive/MyDrive/archive (14)/Dataset_BUSI_with_GT/malignant/malignant (130).png: img should be PIL Image. Got <class 'dict'>\n",
            "Error loading /content/drive/MyDrive/archive (14)/Dataset_BUSI_with_GT/benign/benign (7).png: Unexpected type <class 'dict'>\n",
            "Error loading /content/drive/MyDrive/archive (14)/Dataset_BUSI_with_GT/benign/benign (308).png: img should be PIL Image. Got <class 'dict'>\n",
            "Error loading /content/drive/MyDrive/archive (14)/Dataset_BUSI_with_GT/benign/benign (350).png: Unexpected type <class 'dict'>\n"
          ]
        },
        {
          "name": "stderr",
          "output_type": "stream",
          "text": [
            "\rEpoch 5/5:  35%|███▍      | 45/130 [00:19<00:34,  2.45it/s]"
          ]
        },
        {
          "name": "stdout",
          "output_type": "stream",
          "text": [
            "Error loading /content/drive/MyDrive/archive (14)/Dataset_BUSI_with_GT/benign/benign (275).png: img should be PIL Image. Got <class 'dict'>\n",
            "Error loading /content/drive/MyDrive/archive (14)/Dataset_BUSI_with_GT/benign/benign (52).png: Unexpected type <class 'dict'>\n",
            "Error loading /content/drive/MyDrive/archive (14)/Dataset_BUSI_with_GT/malignant/malignant (61).png: img should be PIL Image. Got <class 'dict'>\n",
            "Error loading /content/drive/MyDrive/archive (14)/Dataset_BUSI_with_GT/benign/benign (85).png: img should be PIL Image. Got <class 'dict'>\n"
          ]
        },
        {
          "name": "stderr",
          "output_type": "stream",
          "text": [
            "\rEpoch 5/5:  35%|███▌      | 46/130 [00:19<00:32,  2.55it/s]"
          ]
        },
        {
          "name": "stdout",
          "output_type": "stream",
          "text": [
            "Error loading /content/drive/MyDrive/archive (14)/Dataset_BUSI_with_GT/benign/benign (122).png: Unexpected type <class 'dict'>\n",
            "Error loading /content/drive/MyDrive/archive (14)/Dataset_BUSI_with_GT/benign/benign (351).png: img should be PIL Image. Got <class 'dict'>\n",
            "Error loading /content/drive/MyDrive/archive (14)/Dataset_BUSI_with_GT/benign/benign (124).png: Unexpected type <class 'dict'>\n",
            "Error loading /content/drive/MyDrive/archive (14)/Dataset_BUSI_with_GT/benign/benign (81).png: img should be PIL Image. Got <class 'dict'>\n"
          ]
        },
        {
          "name": "stderr",
          "output_type": "stream",
          "text": [
            "\rEpoch 5/5:  36%|███▌      | 47/130 [00:19<00:33,  2.50it/s]"
          ]
        },
        {
          "name": "stdout",
          "output_type": "stream",
          "text": [
            "Error loading /content/drive/MyDrive/archive (14)/Dataset_BUSI_with_GT/malignant/malignant (22).png: img should be PIL Image. Got <class 'dict'>\n",
            "Error loading /content/drive/MyDrive/archive (14)/Dataset_BUSI_with_GT/malignant/malignant (162).png: Unexpected type <class 'dict'>\n",
            "Error loading /content/drive/MyDrive/archive (14)/Dataset_BUSI_with_GT/benign/benign (414).png: Unexpected type <class 'dict'>\n",
            "Error loading /content/drive/MyDrive/archive (14)/Dataset_BUSI_with_GT/benign/benign (192).png: img should be PIL Image. Got <class 'dict'>\n"
          ]
        },
        {
          "name": "stderr",
          "output_type": "stream",
          "text": [
            "\rEpoch 5/5:  37%|███▋      | 48/130 [00:20<00:33,  2.43it/s]"
          ]
        },
        {
          "name": "stdout",
          "output_type": "stream",
          "text": [
            "Error loading /content/drive/MyDrive/archive (14)/Dataset_BUSI_with_GT/benign/benign (362).png: Unexpected type <class 'dict'>\n",
            "Error loading /content/drive/MyDrive/archive (14)/Dataset_BUSI_with_GT/malignant/malignant (18).png: img should be PIL Image. Got <class 'dict'>\n",
            "Error loading /content/drive/MyDrive/archive (14)/Dataset_BUSI_with_GT/benign/benign (74).png: img should be PIL Image. Got <class 'dict'>\n",
            "Error loading /content/drive/MyDrive/archive (14)/Dataset_BUSI_with_GT/malignant/malignant (104).png: Unexpected type <class 'dict'>\n"
          ]
        },
        {
          "name": "stderr",
          "output_type": "stream",
          "text": [
            "\rEpoch 5/5:  38%|███▊      | 49/130 [00:20<00:32,  2.51it/s]"
          ]
        },
        {
          "name": "stdout",
          "output_type": "stream",
          "text": [
            "Error loading /content/drive/MyDrive/archive (14)/Dataset_BUSI_with_GT/benign/benign (77).png: Unexpected type <class 'dict'>\n",
            "Error loading /content/drive/MyDrive/archive (14)/Dataset_BUSI_with_GT/malignant/malignant (196).png: Unexpected type <class 'dict'>\n",
            "Error loading /content/drive/MyDrive/archive (14)/Dataset_BUSI_with_GT/malignant/malignant (177).png: img should be PIL Image. Got <class 'dict'>\n",
            "Error loading /content/drive/MyDrive/archive (14)/Dataset_BUSI_with_GT/benign/benign (54).png: Unexpected type <class 'dict'>\n"
          ]
        },
        {
          "name": "stderr",
          "output_type": "stream",
          "text": [
            "\rEpoch 5/5:  38%|███▊      | 50/130 [00:21<00:32,  2.50it/s]"
          ]
        },
        {
          "name": "stdout",
          "output_type": "stream",
          "text": [
            "Error loading /content/drive/MyDrive/archive (14)/Dataset_BUSI_with_GT/benign/benign (232).png: Unexpected type <class 'dict'>\n",
            "Error loading /content/drive/MyDrive/archive (14)/Dataset_BUSI_with_GT/benign/benign (41).png: img should be PIL Image. Got <class 'dict'>\n",
            "Error loading /content/drive/MyDrive/archive (14)/Dataset_BUSI_with_GT/benign/benign (66).png: Unexpected type <class 'dict'>\n",
            "Error loading /content/drive/MyDrive/archive (14)/Dataset_BUSI_with_GT/benign/benign (185).png: Unexpected type <class 'dict'>\n"
          ]
        },
        {
          "name": "stderr",
          "output_type": "stream",
          "text": [
            "\rEpoch 5/5:  39%|███▉      | 51/130 [00:21<00:31,  2.50it/s]"
          ]
        },
        {
          "name": "stdout",
          "output_type": "stream",
          "text": [
            "Error loading /content/drive/MyDrive/archive (14)/Dataset_BUSI_with_GT/benign/benign (337).png: Unexpected type <class 'dict'>\n",
            "Error loading /content/drive/MyDrive/archive (14)/Dataset_BUSI_with_GT/benign/benign (93).png: Unexpected type <class 'dict'>\n",
            "Error loading /content/drive/MyDrive/archive (14)/Dataset_BUSI_with_GT/benign/benign (342).png: img should be PIL Image. Got <class 'dict'>\n",
            "Error loading /content/drive/MyDrive/archive (14)/Dataset_BUSI_with_GT/benign/benign (436).png: img should be PIL Image. Got <class 'dict'>\n"
          ]
        },
        {
          "name": "stderr",
          "output_type": "stream",
          "text": [
            "\rEpoch 5/5:  40%|████      | 52/130 [00:21<00:30,  2.58it/s]"
          ]
        },
        {
          "name": "stdout",
          "output_type": "stream",
          "text": [
            "Error loading /content/drive/MyDrive/archive (14)/Dataset_BUSI_with_GT/benign/benign (238).png: img should be PIL Image. Got <class 'dict'>\n",
            "Error loading /content/drive/MyDrive/archive (14)/Dataset_BUSI_with_GT/malignant/malignant (150).png: Unexpected type <class 'dict'>\n",
            "Error loading /content/drive/MyDrive/archive (14)/Dataset_BUSI_with_GT/malignant/malignant (3).png: Unexpected type <class 'dict'>\n",
            "Error loading /content/drive/MyDrive/archive (14)/Dataset_BUSI_with_GT/benign/benign (267).png: Unexpected type <class 'dict'>\n"
          ]
        },
        {
          "name": "stderr",
          "output_type": "stream",
          "text": [
            "\rEpoch 5/5:  41%|████      | 53/130 [00:22<00:29,  2.63it/s]"
          ]
        },
        {
          "name": "stdout",
          "output_type": "stream",
          "text": [
            "Error loading /content/drive/MyDrive/archive (14)/Dataset_BUSI_with_GT/benign/benign (110).png: img should be PIL Image. Got <class 'dict'>\n",
            "Error loading /content/drive/MyDrive/archive (14)/Dataset_BUSI_with_GT/malignant/malignant (153).png: Unexpected type <class 'dict'>\n",
            "Error loading /content/drive/MyDrive/archive (14)/Dataset_BUSI_with_GT/benign/benign (121).png: img should be PIL Image. Got <class 'dict'>\n",
            "Error loading /content/drive/MyDrive/archive (14)/Dataset_BUSI_with_GT/malignant/malignant (30).png: Unexpected type <class 'dict'>\n"
          ]
        },
        {
          "name": "stderr",
          "output_type": "stream",
          "text": [
            "\rEpoch 5/5:  42%|████▏     | 54/130 [00:22<00:29,  2.58it/s]"
          ]
        },
        {
          "name": "stdout",
          "output_type": "stream",
          "text": [
            "Error loading /content/drive/MyDrive/archive (14)/Dataset_BUSI_with_GT/benign/benign (143).png: img should be PIL Image. Got <class 'dict'>\n",
            "Error loading /content/drive/MyDrive/archive (14)/Dataset_BUSI_with_GT/benign/benign (178).png: Unexpected type <class 'dict'>\n",
            "Error loading /content/drive/MyDrive/archive (14)/Dataset_BUSI_with_GT/malignant/malignant (119).png: Unexpected type <class 'dict'>\n",
            "Error loading /content/drive/MyDrive/archive (14)/Dataset_BUSI_with_GT/benign/benign (378).png: img should be PIL Image. Got <class 'dict'>\n"
          ]
        },
        {
          "name": "stderr",
          "output_type": "stream",
          "text": [
            "\rEpoch 5/5:  42%|████▏     | 55/130 [00:23<00:29,  2.57it/s]"
          ]
        },
        {
          "name": "stdout",
          "output_type": "stream",
          "text": [
            "Error loading /content/drive/MyDrive/archive (14)/Dataset_BUSI_with_GT/benign/benign (322).png: Unexpected type <class 'dict'>\n",
            "Error loading /content/drive/MyDrive/archive (14)/Dataset_BUSI_with_GT/benign/benign (181).png: img should be PIL Image. Got <class 'dict'>\n",
            "Error loading /content/drive/MyDrive/archive (14)/Dataset_BUSI_with_GT/benign/benign (411).png: Unexpected type <class 'dict'>\n",
            "Error loading /content/drive/MyDrive/archive (14)/Dataset_BUSI_with_GT/benign/benign (369).png: img should be PIL Image. Got <class 'dict'>\n"
          ]
        },
        {
          "name": "stderr",
          "output_type": "stream",
          "text": [
            "\rEpoch 5/5:  43%|████▎     | 56/130 [00:23<00:29,  2.48it/s]"
          ]
        },
        {
          "name": "stdout",
          "output_type": "stream",
          "text": [
            "Error loading /content/drive/MyDrive/archive (14)/Dataset_BUSI_with_GT/benign/benign (104).png: Unexpected type <class 'dict'>\n",
            "Error loading /content/drive/MyDrive/archive (14)/Dataset_BUSI_with_GT/benign/benign (277).png: Unexpected type <class 'dict'>\n",
            "Error loading /content/drive/MyDrive/archive (14)/Dataset_BUSI_with_GT/benign/benign (408).png: Unexpected type <class 'dict'>\n",
            "Error loading /content/drive/MyDrive/archive (14)/Dataset_BUSI_with_GT/benign/benign (220).png: img should be PIL Image. Got <class 'dict'>\n"
          ]
        },
        {
          "name": "stderr",
          "output_type": "stream",
          "text": [
            "\rEpoch 5/5:  44%|████▍     | 57/130 [00:23<00:29,  2.49it/s]"
          ]
        },
        {
          "name": "stdout",
          "output_type": "stream",
          "text": [
            "Error loading /content/drive/MyDrive/archive (14)/Dataset_BUSI_with_GT/malignant/malignant (131).png: img should be PIL Image. Got <class 'dict'>\n",
            "Error loading /content/drive/MyDrive/archive (14)/Dataset_BUSI_with_GT/benign/benign (58).png: Unexpected type <class 'dict'>\n",
            "Error loading /content/drive/MyDrive/archive (14)/Dataset_BUSI_with_GT/benign/benign (431).png: img should be PIL Image. Got <class 'dict'>\n",
            "Error loading /content/drive/MyDrive/archive (14)/Dataset_BUSI_with_GT/benign/benign (80).png: Unexpected type <class 'dict'>\n"
          ]
        },
        {
          "name": "stderr",
          "output_type": "stream",
          "text": [
            "\rEpoch 5/5:  45%|████▍     | 58/130 [00:24<00:28,  2.49it/s]"
          ]
        },
        {
          "name": "stdout",
          "output_type": "stream",
          "text": [
            "Error loading /content/drive/MyDrive/archive (14)/Dataset_BUSI_with_GT/benign/benign (331).png: img should be PIL Image. Got <class 'dict'>\n",
            "Error loading /content/drive/MyDrive/archive (14)/Dataset_BUSI_with_GT/malignant/malignant (142).png: Unexpected type <class 'dict'>\n",
            "Error loading /content/drive/MyDrive/archive (14)/Dataset_BUSI_with_GT/benign/benign (313).png: img should be PIL Image. Got <class 'dict'>\n",
            "Error loading /content/drive/MyDrive/archive (14)/Dataset_BUSI_with_GT/benign/benign (353).png: Unexpected type <class 'dict'>\n"
          ]
        },
        {
          "name": "stderr",
          "output_type": "stream",
          "text": [
            "\rEpoch 5/5:  45%|████▌     | 59/130 [00:24<00:28,  2.45it/s]"
          ]
        },
        {
          "name": "stdout",
          "output_type": "stream",
          "text": [
            "Error loading /content/drive/MyDrive/archive (14)/Dataset_BUSI_with_GT/benign/benign (226).png: Unexpected type <class 'dict'>\n",
            "Error loading /content/drive/MyDrive/archive (14)/Dataset_BUSI_with_GT/benign/benign (62).png: Unexpected type <class 'dict'>\n",
            "Error loading /content/drive/MyDrive/archive (14)/Dataset_BUSI_with_GT/benign/benign (163).png: img should be PIL Image. Got <class 'dict'>\n",
            "Error loading /content/drive/MyDrive/archive (14)/Dataset_BUSI_with_GT/benign/benign (321).png: Unexpected type <class 'dict'>\n"
          ]
        },
        {
          "name": "stderr",
          "output_type": "stream",
          "text": [
            "\rEpoch 5/5:  46%|████▌     | 60/130 [00:25<00:28,  2.48it/s]"
          ]
        },
        {
          "name": "stdout",
          "output_type": "stream",
          "text": [
            "Error loading /content/drive/MyDrive/archive (14)/Dataset_BUSI_with_GT/benign/benign (278).png: img should be PIL Image. Got <class 'dict'>\n",
            "Error loading /content/drive/MyDrive/archive (14)/Dataset_BUSI_with_GT/benign/benign (417).png: img should be PIL Image. Got <class 'dict'>\n",
            "Error loading /content/drive/MyDrive/archive (14)/Dataset_BUSI_with_GT/benign/benign (89).png: img should be PIL Image. Got <class 'dict'>\n"
          ]
        },
        {
          "name": "stderr",
          "output_type": "stream",
          "text": [
            "\rEpoch 5/5:  47%|████▋     | 61/130 [00:25<00:30,  2.26it/s]"
          ]
        },
        {
          "name": "stdout",
          "output_type": "stream",
          "text": [
            "Error loading /content/drive/MyDrive/archive (14)/Dataset_BUSI_with_GT/malignant/malignant (138).png: Unexpected type <class 'dict'>\n",
            "Error loading /content/drive/MyDrive/archive (14)/Dataset_BUSI_with_GT/benign/benign (258).png: Unexpected type <class 'dict'>\n",
            "Error loading /content/drive/MyDrive/archive (14)/Dataset_BUSI_with_GT/benign/benign (139).png: Unexpected type <class 'dict'>\n",
            "Error loading /content/drive/MyDrive/archive (14)/Dataset_BUSI_with_GT/benign/benign (399).png: img should be PIL Image. Got <class 'dict'>\n",
            "Error loading /content/drive/MyDrive/archive (14)/Dataset_BUSI_with_GT/malignant/malignant (165).png: img should be PIL Image. Got <class 'dict'>\n"
          ]
        },
        {
          "name": "stderr",
          "output_type": "stream",
          "text": [
            "\rEpoch 5/5:  48%|████▊     | 62/130 [00:26<00:29,  2.28it/s]"
          ]
        },
        {
          "name": "stdout",
          "output_type": "stream",
          "text": [
            "Error loading /content/drive/MyDrive/archive (14)/Dataset_BUSI_with_GT/malignant/malignant (86).png: img should be PIL Image. Got <class 'dict'>\n",
            "Error loading /content/drive/MyDrive/archive (14)/Dataset_BUSI_with_GT/benign/benign (57).png: img should be PIL Image. Got <class 'dict'>\n",
            "Error loading /content/drive/MyDrive/archive (14)/Dataset_BUSI_with_GT/benign/benign (437).png: Unexpected type <class 'dict'>\n"
          ]
        },
        {
          "name": "stderr",
          "output_type": "stream",
          "text": [
            "\rEpoch 5/5:  48%|████▊     | 63/130 [00:26<00:32,  2.05it/s]"
          ]
        },
        {
          "name": "stdout",
          "output_type": "stream",
          "text": [
            "Error loading /content/drive/MyDrive/archive (14)/Dataset_BUSI_with_GT/malignant/malignant (67).png: Unexpected type <class 'dict'>\n",
            "Error loading /content/drive/MyDrive/archive (14)/Dataset_BUSI_with_GT/benign/benign (157).png: Unexpected type <class 'dict'>\n",
            "Error loading /content/drive/MyDrive/archive (14)/Dataset_BUSI_with_GT/benign/benign (32).png: Unexpected type <class 'dict'>\n",
            "Error loading /content/drive/MyDrive/archive (14)/Dataset_BUSI_with_GT/malignant/malignant (105).png: img should be PIL Image. Got <class 'dict'>\n"
          ]
        },
        {
          "name": "stderr",
          "output_type": "stream",
          "text": [
            "\rEpoch 5/5:  49%|████▉     | 64/130 [00:27<00:32,  2.02it/s]"
          ]
        },
        {
          "name": "stdout",
          "output_type": "stream",
          "text": [
            "Error loading /content/drive/MyDrive/archive (14)/Dataset_BUSI_with_GT/benign/benign (340).png: img should be PIL Image. Got <class 'dict'>\n",
            "Error loading /content/drive/MyDrive/archive (14)/Dataset_BUSI_with_GT/malignant/malignant (90).png: Unexpected type <class 'dict'>\n",
            "Error loading /content/drive/MyDrive/archive (14)/Dataset_BUSI_with_GT/malignant/malignant (113).png: img should be PIL Image. Got <class 'dict'>\n",
            "Error loading /content/drive/MyDrive/archive (14)/Dataset_BUSI_with_GT/malignant/malignant (169).png: img should be PIL Image. Got <class 'dict'>\n"
          ]
        },
        {
          "name": "stderr",
          "output_type": "stream",
          "text": [
            "\rEpoch 5/5:  50%|█████     | 65/130 [00:27<00:34,  1.91it/s]"
          ]
        },
        {
          "name": "stdout",
          "output_type": "stream",
          "text": [
            "Error loading /content/drive/MyDrive/archive (14)/Dataset_BUSI_with_GT/benign/benign (117).png: img should be PIL Image. Got <class 'dict'>\n",
            "Error loading /content/drive/MyDrive/archive (14)/Dataset_BUSI_with_GT/benign/benign (382).png: Unexpected type <class 'dict'>\n",
            "Error loading /content/drive/MyDrive/archive (14)/Dataset_BUSI_with_GT/benign/benign (294).png: Unexpected type <class 'dict'>\n",
            "Error loading /content/drive/MyDrive/archive (14)/Dataset_BUSI_with_GT/malignant/malignant (25).png: img should be PIL Image. Got <class 'dict'>\n",
            "Error loading /content/drive/MyDrive/archive (14)/Dataset_BUSI_with_GT/benign/benign (140).png: img should be PIL Image. Got <class 'dict'>\n"
          ]
        },
        {
          "name": "stderr",
          "output_type": "stream",
          "text": [
            "\rEpoch 5/5:  51%|█████     | 66/130 [00:28<00:32,  1.95it/s]"
          ]
        },
        {
          "name": "stdout",
          "output_type": "stream",
          "text": [
            "Error loading /content/drive/MyDrive/archive (14)/Dataset_BUSI_with_GT/malignant/malignant (164).png: Unexpected type <class 'dict'>\n",
            "Error loading /content/drive/MyDrive/archive (14)/Dataset_BUSI_with_GT/benign/benign (219).png: Unexpected type <class 'dict'>\n",
            "Error loading /content/drive/MyDrive/archive (14)/Dataset_BUSI_with_GT/benign/benign (230).png: Unexpected type <class 'dict'>\n",
            "Error loading /content/drive/MyDrive/archive (14)/Dataset_BUSI_with_GT/benign/benign (118).png: Unexpected type <class 'dict'>\n"
          ]
        },
        {
          "name": "stderr",
          "output_type": "stream",
          "text": [
            "\rEpoch 5/5:  52%|█████▏    | 67/130 [00:28<00:30,  2.09it/s]"
          ]
        },
        {
          "name": "stdout",
          "output_type": "stream",
          "text": [
            "Error loading /content/drive/MyDrive/archive (14)/Dataset_BUSI_with_GT/benign/benign (359).png: img should be PIL Image. Got <class 'dict'>\n",
            "Error loading /content/drive/MyDrive/archive (14)/Dataset_BUSI_with_GT/benign/benign (199).png: Unexpected type <class 'dict'>\n",
            "Error loading /content/drive/MyDrive/archive (14)/Dataset_BUSI_with_GT/malignant/malignant (210).png: Unexpected type <class 'dict'>\n",
            "Error loading /content/drive/MyDrive/archive (14)/Dataset_BUSI_with_GT/benign/benign (187).png: img should be PIL Image. Got <class 'dict'>\n"
          ]
        },
        {
          "name": "stderr",
          "output_type": "stream",
          "text": [
            "\rEpoch 5/5:  52%|█████▏    | 68/130 [00:29<00:28,  2.15it/s]"
          ]
        },
        {
          "name": "stdout",
          "output_type": "stream",
          "text": [
            "Error loading /content/drive/MyDrive/archive (14)/Dataset_BUSI_with_GT/benign/benign (96).png: img should be PIL Image. Got <class 'dict'>\n",
            "Error loading /content/drive/MyDrive/archive (14)/Dataset_BUSI_with_GT/malignant/malignant (55).png: Unexpected type <class 'dict'>\n",
            "Error loading /content/drive/MyDrive/archive (14)/Dataset_BUSI_with_GT/malignant/malignant (127).png: img should be PIL Image. Got <class 'dict'>\n",
            "Error loading /content/drive/MyDrive/archive (14)/Dataset_BUSI_with_GT/benign/benign (328).png: Unexpected type <class 'dict'>\n"
          ]
        },
        {
          "name": "stderr",
          "output_type": "stream",
          "text": [
            "\rEpoch 5/5:  53%|█████▎    | 69/130 [00:29<00:27,  2.19it/s]"
          ]
        },
        {
          "name": "stdout",
          "output_type": "stream",
          "text": [
            "Error loading /content/drive/MyDrive/archive (14)/Dataset_BUSI_with_GT/benign/benign (78).png: img should be PIL Image. Got <class 'dict'>\n",
            "Error loading /content/drive/MyDrive/archive (14)/Dataset_BUSI_with_GT/benign/benign (244).png: img should be PIL Image. Got <class 'dict'>\n",
            "Error loading /content/drive/MyDrive/archive (14)/Dataset_BUSI_with_GT/benign/benign (242).png: Unexpected type <class 'dict'>\n",
            "Error loading /content/drive/MyDrive/archive (14)/Dataset_BUSI_with_GT/malignant/malignant (185).png: Unexpected type <class 'dict'>\n"
          ]
        },
        {
          "name": "stderr",
          "output_type": "stream",
          "text": [
            "\rEpoch 5/5:  54%|█████▍    | 70/130 [00:29<00:26,  2.25it/s]"
          ]
        },
        {
          "name": "stdout",
          "output_type": "stream",
          "text": [
            "Error loading /content/drive/MyDrive/archive (14)/Dataset_BUSI_with_GT/malignant/malignant (118).png: img should be PIL Image. Got <class 'dict'>\n",
            "Error loading /content/drive/MyDrive/archive (14)/Dataset_BUSI_with_GT/benign/benign (330).png: Unexpected type <class 'dict'>\n",
            "Error loading /content/drive/MyDrive/archive (14)/Dataset_BUSI_with_GT/malignant/malignant (20).png: Unexpected type <class 'dict'>\n",
            "Error loading /content/drive/MyDrive/archive (14)/Dataset_BUSI_with_GT/benign/benign (307).png: Unexpected type <class 'dict'>\n"
          ]
        },
        {
          "name": "stderr",
          "output_type": "stream",
          "text": [
            "\rEpoch 5/5:  55%|█████▍    | 71/130 [00:30<00:25,  2.29it/s]"
          ]
        },
        {
          "name": "stdout",
          "output_type": "stream",
          "text": [
            "Error loading /content/drive/MyDrive/archive (14)/Dataset_BUSI_with_GT/benign/benign (326).png: img should be PIL Image. Got <class 'dict'>\n",
            "Error loading /content/drive/MyDrive/archive (14)/Dataset_BUSI_with_GT/malignant/malignant (141).png: Unexpected type <class 'dict'>\n",
            "Error loading /content/drive/MyDrive/archive (14)/Dataset_BUSI_with_GT/benign/benign (33).png: Unexpected type <class 'dict'>\n",
            "Error loading /content/drive/MyDrive/archive (14)/Dataset_BUSI_with_GT/benign/benign (375).png: Unexpected type <class 'dict'>\n"
          ]
        },
        {
          "name": "stderr",
          "output_type": "stream",
          "text": [
            "\rEpoch 5/5:  55%|█████▌    | 72/130 [00:30<00:25,  2.29it/s]"
          ]
        },
        {
          "name": "stdout",
          "output_type": "stream",
          "text": [
            "Error loading /content/drive/MyDrive/archive (14)/Dataset_BUSI_with_GT/malignant/malignant (126).png: Unexpected type <class 'dict'>\n",
            "Error loading /content/drive/MyDrive/archive (14)/Dataset_BUSI_with_GT/benign/benign (262).png: Unexpected type <class 'dict'>\n",
            "Error loading /content/drive/MyDrive/archive (14)/Dataset_BUSI_with_GT/benign/benign (229).png: Unexpected type <class 'dict'>\n",
            "Error loading /content/drive/MyDrive/archive (14)/Dataset_BUSI_with_GT/benign/benign (147).png: Unexpected type <class 'dict'>\n"
          ]
        },
        {
          "name": "stderr",
          "output_type": "stream",
          "text": [
            "\rEpoch 5/5:  56%|█████▌    | 73/130 [00:31<00:23,  2.42it/s]"
          ]
        },
        {
          "name": "stdout",
          "output_type": "stream",
          "text": [
            "Error loading /content/drive/MyDrive/archive (14)/Dataset_BUSI_with_GT/malignant/malignant (136).png: img should be PIL Image. Got <class 'dict'>\n",
            "Error loading /content/drive/MyDrive/archive (14)/Dataset_BUSI_with_GT/benign/benign (433).png: Unexpected type <class 'dict'>\n",
            "Error loading /content/drive/MyDrive/archive (14)/Dataset_BUSI_with_GT/benign/benign (239).png: Unexpected type <class 'dict'>\n",
            "Error loading /content/drive/MyDrive/archive (14)/Dataset_BUSI_with_GT/benign/benign (416).png: img should be PIL Image. Got <class 'dict'>\n"
          ]
        },
        {
          "name": "stderr",
          "output_type": "stream",
          "text": [
            "\rEpoch 5/5:  57%|█████▋    | 74/130 [00:31<00:22,  2.49it/s]"
          ]
        },
        {
          "name": "stdout",
          "output_type": "stream",
          "text": [
            "Error loading /content/drive/MyDrive/archive (14)/Dataset_BUSI_with_GT/benign/benign (282).png: Unexpected type <class 'dict'>\n",
            "Error loading /content/drive/MyDrive/archive (14)/Dataset_BUSI_with_GT/benign/benign (396).png: img should be PIL Image. Got <class 'dict'>\n",
            "Error loading /content/drive/MyDrive/archive (14)/Dataset_BUSI_with_GT/malignant/malignant (193).png: img should be PIL Image. Got <class 'dict'>\n",
            "Error loading /content/drive/MyDrive/archive (14)/Dataset_BUSI_with_GT/benign/benign (210).png: img should be PIL Image. Got <class 'dict'>\n"
          ]
        },
        {
          "name": "stderr",
          "output_type": "stream",
          "text": [
            "\rEpoch 5/5:  58%|█████▊    | 75/130 [00:31<00:21,  2.52it/s]"
          ]
        },
        {
          "name": "stdout",
          "output_type": "stream",
          "text": [
            "Error loading /content/drive/MyDrive/archive (14)/Dataset_BUSI_with_GT/benign/benign (116).png: img should be PIL Image. Got <class 'dict'>\n",
            "Error loading /content/drive/MyDrive/archive (14)/Dataset_BUSI_with_GT/benign/benign (174).png: Unexpected type <class 'dict'>\n",
            "Error loading /content/drive/MyDrive/archive (14)/Dataset_BUSI_with_GT/benign/benign (270).png: img should be PIL Image. Got <class 'dict'>\n",
            "Error loading /content/drive/MyDrive/archive (14)/Dataset_BUSI_with_GT/benign/benign (40).png: Unexpected type <class 'dict'>\n"
          ]
        },
        {
          "name": "stderr",
          "output_type": "stream",
          "text": [
            "\rEpoch 5/5:  58%|█████▊    | 76/130 [00:32<00:21,  2.48it/s]"
          ]
        },
        {
          "name": "stdout",
          "output_type": "stream",
          "text": [
            "Error loading /content/drive/MyDrive/archive (14)/Dataset_BUSI_with_GT/benign/benign (374).png: img should be PIL Image. Got <class 'dict'>\n",
            "Error loading /content/drive/MyDrive/archive (14)/Dataset_BUSI_with_GT/benign/benign (4).png: img should be PIL Image. Got <class 'dict'>\n",
            "Error loading /content/drive/MyDrive/archive (14)/Dataset_BUSI_with_GT/malignant/malignant (76).png: Unexpected type <class 'dict'>\n",
            "Error loading /content/drive/MyDrive/archive (14)/Dataset_BUSI_with_GT/benign/benign (398).png: Unexpected type <class 'dict'>\n"
          ]
        },
        {
          "name": "stderr",
          "output_type": "stream",
          "text": [
            "\rEpoch 5/5:  59%|█████▉    | 77/130 [00:32<00:21,  2.49it/s]"
          ]
        },
        {
          "name": "stdout",
          "output_type": "stream",
          "text": [
            "Error loading /content/drive/MyDrive/archive (14)/Dataset_BUSI_with_GT/malignant/malignant (125).png: img should be PIL Image. Got <class 'dict'>\n",
            "Error loading /content/drive/MyDrive/archive (14)/Dataset_BUSI_with_GT/malignant/malignant (82).png: Unexpected type <class 'dict'>\n",
            "Error loading /content/drive/MyDrive/archive (14)/Dataset_BUSI_with_GT/benign/benign (388).png: Unexpected type <class 'dict'>\n",
            "Error loading /content/drive/MyDrive/archive (14)/Dataset_BUSI_with_GT/malignant/malignant (96).png: Unexpected type <class 'dict'>\n"
          ]
        },
        {
          "name": "stderr",
          "output_type": "stream",
          "text": [
            "\rEpoch 5/5:  60%|██████    | 78/130 [00:33<00:20,  2.51it/s]"
          ]
        },
        {
          "name": "stdout",
          "output_type": "stream",
          "text": [
            "Error loading /content/drive/MyDrive/archive (14)/Dataset_BUSI_with_GT/benign/benign (357).png: img should be PIL Image. Got <class 'dict'>\n",
            "Error loading /content/drive/MyDrive/archive (14)/Dataset_BUSI_with_GT/benign/benign (101).png: img should be PIL Image. Got <class 'dict'>\n",
            "Error loading /content/drive/MyDrive/archive (14)/Dataset_BUSI_with_GT/malignant/malignant (155).png: img should be PIL Image. Got <class 'dict'>\n",
            "Error loading /content/drive/MyDrive/archive (14)/Dataset_BUSI_with_GT/malignant/malignant (115).png: Unexpected type <class 'dict'>\n"
          ]
        },
        {
          "name": "stderr",
          "output_type": "stream",
          "text": [
            "\rEpoch 5/5:  61%|██████    | 79/130 [00:33<00:19,  2.57it/s]"
          ]
        },
        {
          "name": "stdout",
          "output_type": "stream",
          "text": [
            "Error loading /content/drive/MyDrive/archive (14)/Dataset_BUSI_with_GT/benign/benign (50).png: Unexpected type <class 'dict'>\n",
            "Error loading /content/drive/MyDrive/archive (14)/Dataset_BUSI_with_GT/benign/benign (144).png: Unexpected type <class 'dict'>\n",
            "Error loading /content/drive/MyDrive/archive (14)/Dataset_BUSI_with_GT/benign/benign (221).png: img should be PIL Image. Got <class 'dict'>\n",
            "Error loading /content/drive/MyDrive/archive (14)/Dataset_BUSI_with_GT/malignant/malignant (209).png: Unexpected type <class 'dict'>\n"
          ]
        },
        {
          "name": "stderr",
          "output_type": "stream",
          "text": [
            "\rEpoch 5/5:  62%|██████▏   | 80/130 [00:33<00:20,  2.49it/s]"
          ]
        },
        {
          "name": "stdout",
          "output_type": "stream",
          "text": [
            "Error loading /content/drive/MyDrive/archive (14)/Dataset_BUSI_with_GT/benign/benign (195).png: img should be PIL Image. Got <class 'dict'>\n",
            "Error loading /content/drive/MyDrive/archive (14)/Dataset_BUSI_with_GT/malignant/malignant (129).png: Unexpected type <class 'dict'>\n",
            "Error loading /content/drive/MyDrive/archive (14)/Dataset_BUSI_with_GT/malignant/malignant (117).png: Unexpected type <class 'dict'>\n",
            "Error loading /content/drive/MyDrive/archive (14)/Dataset_BUSI_with_GT/benign/benign (309).png: Unexpected type <class 'dict'>\n"
          ]
        },
        {
          "name": "stderr",
          "output_type": "stream",
          "text": [
            "\rEpoch 5/5:  62%|██████▏   | 81/130 [00:34<00:19,  2.48it/s]"
          ]
        },
        {
          "name": "stdout",
          "output_type": "stream",
          "text": [
            "Error loading /content/drive/MyDrive/archive (14)/Dataset_BUSI_with_GT/benign/benign (370).png: Unexpected type <class 'dict'>\n",
            "Error loading /content/drive/MyDrive/archive (14)/Dataset_BUSI_with_GT/malignant/malignant (188).png: img should be PIL Image. Got <class 'dict'>\n",
            "Error loading /content/drive/MyDrive/archive (14)/Dataset_BUSI_with_GT/malignant/malignant (28).png: img should be PIL Image. Got <class 'dict'>\n",
            "Error loading /content/drive/MyDrive/archive (14)/Dataset_BUSI_with_GT/benign/benign (84).png: Unexpected type <class 'dict'>\n"
          ]
        },
        {
          "name": "stderr",
          "output_type": "stream",
          "text": [
            "\rEpoch 5/5:  63%|██████▎   | 82/130 [00:34<00:19,  2.48it/s]"
          ]
        },
        {
          "name": "stdout",
          "output_type": "stream",
          "text": [
            "Error loading /content/drive/MyDrive/archive (14)/Dataset_BUSI_with_GT/malignant/malignant (107).png: img should be PIL Image. Got <class 'dict'>\n",
            "Error loading /content/drive/MyDrive/archive (14)/Dataset_BUSI_with_GT/benign/benign (56).png: img should be PIL Image. Got <class 'dict'>\n",
            "Error loading /content/drive/MyDrive/archive (14)/Dataset_BUSI_with_GT/benign/benign (318).png: img should be PIL Image. Got <class 'dict'>\n",
            "Error loading /content/drive/MyDrive/archive (14)/Dataset_BUSI_with_GT/malignant/malignant (75).png: img should be PIL Image. Got <class 'dict'>\n"
          ]
        },
        {
          "name": "stderr",
          "output_type": "stream",
          "text": [
            "\rEpoch 5/5:  64%|██████▍   | 83/130 [00:35<00:18,  2.48it/s]"
          ]
        },
        {
          "name": "stdout",
          "output_type": "stream",
          "text": [
            "Error loading /content/drive/MyDrive/archive (14)/Dataset_BUSI_with_GT/benign/benign (287).png: img should be PIL Image. Got <class 'dict'>\n",
            "Error loading /content/drive/MyDrive/archive (14)/Dataset_BUSI_with_GT/benign/benign (386).png: img should be PIL Image. Got <class 'dict'>\n",
            "Error loading /content/drive/MyDrive/archive (14)/Dataset_BUSI_with_GT/benign/benign (336).png: Unexpected type <class 'dict'>\n",
            "Error loading /content/drive/MyDrive/archive (14)/Dataset_BUSI_with_GT/benign/benign (146).png: img should be PIL Image. Got <class 'dict'>\n"
          ]
        },
        {
          "name": "stderr",
          "output_type": "stream",
          "text": [
            "\rEpoch 5/5:  65%|██████▍   | 84/130 [00:35<00:18,  2.47it/s]"
          ]
        },
        {
          "name": "stdout",
          "output_type": "stream",
          "text": [
            "Error loading /content/drive/MyDrive/archive (14)/Dataset_BUSI_with_GT/malignant/malignant (95).png: Unexpected type <class 'dict'>\n",
            "Error loading /content/drive/MyDrive/archive (14)/Dataset_BUSI_with_GT/malignant/malignant (40).png: Unexpected type <class 'dict'>\n",
            "Error loading /content/drive/MyDrive/archive (14)/Dataset_BUSI_with_GT/benign/benign (376).png: Unexpected type <class 'dict'>\n",
            "Error loading /content/drive/MyDrive/archive (14)/Dataset_BUSI_with_GT/benign/benign (394).png: img should be PIL Image. Got <class 'dict'>\n"
          ]
        },
        {
          "name": "stderr",
          "output_type": "stream",
          "text": [
            "\rEpoch 5/5:  65%|██████▌   | 85/130 [00:35<00:18,  2.44it/s]"
          ]
        },
        {
          "name": "stdout",
          "output_type": "stream",
          "text": [
            "Error loading /content/drive/MyDrive/archive (14)/Dataset_BUSI_with_GT/malignant/malignant (19).png: Unexpected type <class 'dict'>\n",
            "Error loading /content/drive/MyDrive/archive (14)/Dataset_BUSI_with_GT/benign/benign (141).png: Unexpected type <class 'dict'>\n",
            "Error loading /content/drive/MyDrive/archive (14)/Dataset_BUSI_with_GT/benign/benign (241).png: Unexpected type <class 'dict'>\n",
            "Error loading /content/drive/MyDrive/archive (14)/Dataset_BUSI_with_GT/malignant/malignant (56).png: img should be PIL Image. Got <class 'dict'>\n"
          ]
        },
        {
          "name": "stderr",
          "output_type": "stream",
          "text": [
            "\rEpoch 5/5:  66%|██████▌   | 86/130 [00:36<00:17,  2.48it/s]"
          ]
        },
        {
          "name": "stdout",
          "output_type": "stream",
          "text": [
            "Error loading /content/drive/MyDrive/archive (14)/Dataset_BUSI_with_GT/benign/benign (47).png: img should be PIL Image. Got <class 'dict'>\n",
            "Error loading /content/drive/MyDrive/archive (14)/Dataset_BUSI_with_GT/benign/benign (180).png: Unexpected type <class 'dict'>\n",
            "Error loading /content/drive/MyDrive/archive (14)/Dataset_BUSI_with_GT/malignant/malignant (17).png: img should be PIL Image. Got <class 'dict'>\n"
          ]
        },
        {
          "name": "stderr",
          "output_type": "stream",
          "text": [
            "\rEpoch 5/5:  67%|██████▋   | 87/130 [00:36<00:18,  2.36it/s]"
          ]
        },
        {
          "name": "stdout",
          "output_type": "stream",
          "text": [
            "Error loading /content/drive/MyDrive/archive (14)/Dataset_BUSI_with_GT/malignant/malignant (98).png: Unexpected type <class 'dict'>\n",
            "Error loading /content/drive/MyDrive/archive (14)/Dataset_BUSI_with_GT/malignant/malignant (97).png: img should be PIL Image. Got <class 'dict'>\n",
            "Error loading /content/drive/MyDrive/archive (14)/Dataset_BUSI_with_GT/benign/benign (332).png: img should be PIL Image. Got <class 'dict'>\n",
            "Error loading /content/drive/MyDrive/archive (14)/Dataset_BUSI_with_GT/benign/benign (100).png: Unexpected type <class 'dict'>\n",
            "Error loading /content/drive/MyDrive/archive (14)/Dataset_BUSI_with_GT/benign/benign (415).png: Unexpected type <class 'dict'>\n"
          ]
        },
        {
          "name": "stderr",
          "output_type": "stream",
          "text": [
            "\rEpoch 5/5:  68%|██████▊   | 88/130 [00:37<00:17,  2.40it/s]"
          ]
        },
        {
          "name": "stdout",
          "output_type": "stream",
          "text": [
            "Error loading /content/drive/MyDrive/archive (14)/Dataset_BUSI_with_GT/malignant/malignant (13).png: img should be PIL Image. Got <class 'dict'>\n",
            "Error loading /content/drive/MyDrive/archive (14)/Dataset_BUSI_with_GT/malignant/malignant (7).png: img should be PIL Image. Got <class 'dict'>\n",
            "Error loading /content/drive/MyDrive/archive (14)/Dataset_BUSI_with_GT/benign/benign (76).png: img should be PIL Image. Got <class 'dict'>\n",
            "Error loading /content/drive/MyDrive/archive (14)/Dataset_BUSI_with_GT/benign/benign (212).png: Unexpected type <class 'dict'>\n"
          ]
        },
        {
          "name": "stderr",
          "output_type": "stream",
          "text": [
            "\rEpoch 5/5:  68%|██████▊   | 89/130 [00:37<00:17,  2.39it/s]"
          ]
        },
        {
          "name": "stdout",
          "output_type": "stream",
          "text": [
            "Error loading /content/drive/MyDrive/archive (14)/Dataset_BUSI_with_GT/benign/benign (231).png: img should be PIL Image. Got <class 'dict'>\n",
            "Error loading /content/drive/MyDrive/archive (14)/Dataset_BUSI_with_GT/malignant/malignant (166).png: Unexpected type <class 'dict'>\n",
            "Error loading /content/drive/MyDrive/archive (14)/Dataset_BUSI_with_GT/malignant/malignant (93).png: Unexpected type <class 'dict'>\n",
            "Error loading /content/drive/MyDrive/archive (14)/Dataset_BUSI_with_GT/benign/benign (183).png: Unexpected type <class 'dict'>\n"
          ]
        },
        {
          "name": "stderr",
          "output_type": "stream",
          "text": [
            "\rEpoch 5/5:  69%|██████▉   | 90/130 [00:38<00:16,  2.36it/s]"
          ]
        },
        {
          "name": "stdout",
          "output_type": "stream",
          "text": [
            "Error loading /content/drive/MyDrive/archive (14)/Dataset_BUSI_with_GT/benign/benign (127).png: Unexpected type <class 'dict'>\n",
            "Error loading /content/drive/MyDrive/archive (14)/Dataset_BUSI_with_GT/benign/benign (432).png: img should be PIL Image. Got <class 'dict'>\n",
            "Error loading /content/drive/MyDrive/archive (14)/Dataset_BUSI_with_GT/benign/benign (381).png: Unexpected type <class 'dict'>\n",
            "Error loading /content/drive/MyDrive/archive (14)/Dataset_BUSI_with_GT/benign/benign (385).png: img should be PIL Image. Got <class 'dict'>\n"
          ]
        },
        {
          "name": "stderr",
          "output_type": "stream",
          "text": [
            "\rEpoch 5/5:  70%|███████   | 91/130 [00:38<00:16,  2.40it/s]"
          ]
        },
        {
          "name": "stdout",
          "output_type": "stream",
          "text": [
            "Error loading /content/drive/MyDrive/archive (14)/Dataset_BUSI_with_GT/malignant/malignant (106).png: img should be PIL Image. Got <class 'dict'>\n",
            "Error loading /content/drive/MyDrive/archive (14)/Dataset_BUSI_with_GT/benign/benign (248).png: Unexpected type <class 'dict'>\n",
            "Error loading /content/drive/MyDrive/archive (14)/Dataset_BUSI_with_GT/benign/benign (10).png: img should be PIL Image. Got <class 'dict'>\n"
          ]
        },
        {
          "name": "stderr",
          "output_type": "stream",
          "text": [
            "\rEpoch 5/5:  71%|███████   | 92/130 [00:38<00:16,  2.25it/s]"
          ]
        },
        {
          "name": "stdout",
          "output_type": "stream",
          "text": [
            "Error loading /content/drive/MyDrive/archive (14)/Dataset_BUSI_with_GT/malignant/malignant (160).png: img should be PIL Image. Got <class 'dict'>\n",
            "Error loading /content/drive/MyDrive/archive (14)/Dataset_BUSI_with_GT/benign/benign (198).png: Unexpected type <class 'dict'>\n",
            "Error loading /content/drive/MyDrive/archive (14)/Dataset_BUSI_with_GT/malignant/malignant (158).png: img should be PIL Image. Got <class 'dict'>\n",
            "Error loading /content/drive/MyDrive/archive (14)/Dataset_BUSI_with_GT/malignant/malignant (64).png: Unexpected type <class 'dict'>\n"
          ]
        },
        {
          "name": "stderr",
          "output_type": "stream",
          "text": [
            "\rEpoch 5/5:  72%|███████▏  | 93/130 [00:39<00:17,  2.12it/s]"
          ]
        },
        {
          "name": "stdout",
          "output_type": "stream",
          "text": [
            "Error loading /content/drive/MyDrive/archive (14)/Dataset_BUSI_with_GT/benign/benign (137).png: img should be PIL Image. Got <class 'dict'>\n",
            "Error loading /content/drive/MyDrive/archive (14)/Dataset_BUSI_with_GT/benign/benign (405).png: Unexpected type <class 'dict'>\n",
            "Error loading /content/drive/MyDrive/archive (14)/Dataset_BUSI_with_GT/benign/benign (423).png: Unexpected type <class 'dict'>\n",
            "Error loading /content/drive/MyDrive/archive (14)/Dataset_BUSI_with_GT/malignant/malignant (178).png: Unexpected type <class 'dict'>\n",
            "Error loading /content/drive/MyDrive/archive (14)/Dataset_BUSI_with_GT/benign/benign (253).png: Unexpected type <class 'dict'>\n"
          ]
        },
        {
          "name": "stderr",
          "output_type": "stream",
          "text": [
            "\rEpoch 5/5:  72%|███████▏  | 94/130 [00:39<00:16,  2.13it/s]"
          ]
        },
        {
          "name": "stdout",
          "output_type": "stream",
          "text": [
            "Error loading /content/drive/MyDrive/archive (14)/Dataset_BUSI_with_GT/malignant/malignant (187).png: img should be PIL Image. Got <class 'dict'>\n",
            "Error loading /content/drive/MyDrive/archive (14)/Dataset_BUSI_with_GT/benign/benign (135).png: img should be PIL Image. Got <class 'dict'>\n",
            "Error loading /content/drive/MyDrive/archive (14)/Dataset_BUSI_with_GT/malignant/malignant (73).png: Unexpected type <class 'dict'>\n"
          ]
        },
        {
          "name": "stderr",
          "output_type": "stream",
          "text": [
            "\rEpoch 5/5:  73%|███████▎  | 95/130 [00:40<00:17,  2.04it/s]"
          ]
        },
        {
          "name": "stdout",
          "output_type": "stream",
          "text": [
            "Error loading /content/drive/MyDrive/archive (14)/Dataset_BUSI_with_GT/benign/benign (367).png: img should be PIL Image. Got <class 'dict'>\n",
            "Error loading /content/drive/MyDrive/archive (14)/Dataset_BUSI_with_GT/benign/benign (222).png: img should be PIL Image. Got <class 'dict'>\n",
            "Error loading /content/drive/MyDrive/archive (14)/Dataset_BUSI_with_GT/malignant/malignant (133).png: Unexpected type <class 'dict'>\n",
            "Error loading /content/drive/MyDrive/archive (14)/Dataset_BUSI_with_GT/benign/benign (209).png: img should be PIL Image. Got <class 'dict'>\n",
            "Error loading /content/drive/MyDrive/archive (14)/Dataset_BUSI_with_GT/benign/benign (53).png: Unexpected type <class 'dict'>\n"
          ]
        },
        {
          "name": "stderr",
          "output_type": "stream",
          "text": [
            "\rEpoch 5/5:  74%|███████▍  | 96/130 [00:40<00:16,  2.08it/s]"
          ]
        },
        {
          "name": "stdout",
          "output_type": "stream",
          "text": [
            "Error loading /content/drive/MyDrive/archive (14)/Dataset_BUSI_with_GT/benign/benign (315).png: img should be PIL Image. Got <class 'dict'>\n",
            "Error loading /content/drive/MyDrive/archive (14)/Dataset_BUSI_with_GT/malignant/malignant (8).png: img should be PIL Image. Got <class 'dict'>\n",
            "Error loading /content/drive/MyDrive/archive (14)/Dataset_BUSI_with_GT/benign/benign (355).png: img should be PIL Image. Got <class 'dict'>\n"
          ]
        },
        {
          "name": "stderr",
          "output_type": "stream",
          "text": [
            "\rEpoch 5/5:  75%|███████▍  | 97/130 [00:41<00:15,  2.09it/s]"
          ]
        },
        {
          "name": "stdout",
          "output_type": "stream",
          "text": [
            "Error loading /content/drive/MyDrive/archive (14)/Dataset_BUSI_with_GT/malignant/malignant (94).png: img should be PIL Image. Got <class 'dict'>\n",
            "Error loading /content/drive/MyDrive/archive (14)/Dataset_BUSI_with_GT/benign/benign (247).png: img should be PIL Image. Got <class 'dict'>\n",
            "Error loading /content/drive/MyDrive/archive (14)/Dataset_BUSI_with_GT/benign/benign (246).png: Unexpected type <class 'dict'>\n",
            "Error loading /content/drive/MyDrive/archive (14)/Dataset_BUSI_with_GT/malignant/malignant (109).png: Unexpected type <class 'dict'>\n",
            "Error loading /content/drive/MyDrive/archive (14)/Dataset_BUSI_with_GT/benign/benign (225).png: Unexpected type <class 'dict'>\n"
          ]
        },
        {
          "name": "stderr",
          "output_type": "stream",
          "text": [
            "\rEpoch 5/5:  75%|███████▌  | 98/130 [00:41<00:14,  2.21it/s]"
          ]
        },
        {
          "name": "stdout",
          "output_type": "stream",
          "text": [
            "Error loading /content/drive/MyDrive/archive (14)/Dataset_BUSI_with_GT/benign/benign (44).png: img should be PIL Image. Got <class 'dict'>\n",
            "Error loading /content/drive/MyDrive/archive (14)/Dataset_BUSI_with_GT/malignant/malignant (29).png: Unexpected type <class 'dict'>\n",
            "Error loading /content/drive/MyDrive/archive (14)/Dataset_BUSI_with_GT/malignant/malignant (10).png: Unexpected type <class 'dict'>\n",
            "Error loading /content/drive/MyDrive/archive (14)/Dataset_BUSI_with_GT/benign/benign (346).png: Unexpected type <class 'dict'>\n"
          ]
        },
        {
          "name": "stderr",
          "output_type": "stream",
          "text": [
            "\rEpoch 5/5:  76%|███████▌  | 99/130 [00:42<00:13,  2.30it/s]"
          ]
        },
        {
          "name": "stdout",
          "output_type": "stream",
          "text": [
            "Error loading /content/drive/MyDrive/archive (14)/Dataset_BUSI_with_GT/malignant/malignant (135).png: Unexpected type <class 'dict'>\n",
            "Error loading /content/drive/MyDrive/archive (14)/Dataset_BUSI_with_GT/benign/benign (98).png: img should be PIL Image. Got <class 'dict'>\n",
            "Error loading /content/drive/MyDrive/archive (14)/Dataset_BUSI_with_GT/benign/benign (131).png: Unexpected type <class 'dict'>\n",
            "Error loading /content/drive/MyDrive/archive (14)/Dataset_BUSI_with_GT/malignant/malignant (124).png: img should be PIL Image. Got <class 'dict'>\n"
          ]
        },
        {
          "name": "stderr",
          "output_type": "stream",
          "text": [
            "\rEpoch 5/5:  77%|███████▋  | 100/130 [00:42<00:13,  2.31it/s]"
          ]
        },
        {
          "name": "stdout",
          "output_type": "stream",
          "text": [
            "Error loading /content/drive/MyDrive/archive (14)/Dataset_BUSI_with_GT/benign/benign (182).png: Unexpected type <class 'dict'>\n",
            "Error loading /content/drive/MyDrive/archive (14)/Dataset_BUSI_with_GT/malignant/malignant (32).png: Unexpected type <class 'dict'>\n",
            "Error loading /content/drive/MyDrive/archive (14)/Dataset_BUSI_with_GT/benign/benign (384).png: Unexpected type <class 'dict'>\n",
            "Error loading /content/drive/MyDrive/archive (14)/Dataset_BUSI_with_GT/benign/benign (11).png: Unexpected type <class 'dict'>\n"
          ]
        },
        {
          "name": "stderr",
          "output_type": "stream",
          "text": [
            "\rEpoch 5/5:  78%|███████▊  | 101/130 [00:43<00:12,  2.36it/s]"
          ]
        },
        {
          "name": "stdout",
          "output_type": "stream",
          "text": [
            "Error loading /content/drive/MyDrive/archive (14)/Dataset_BUSI_with_GT/benign/benign (23).png: img should be PIL Image. Got <class 'dict'>\n",
            "Error loading /content/drive/MyDrive/archive (14)/Dataset_BUSI_with_GT/benign/benign (64).png: img should be PIL Image. Got <class 'dict'>\n",
            "Error loading /content/drive/MyDrive/archive (14)/Dataset_BUSI_with_GT/benign/benign (280).png: Unexpected type <class 'dict'>\n",
            "Error loading /content/drive/MyDrive/archive (14)/Dataset_BUSI_with_GT/malignant/malignant (24).png: Unexpected type <class 'dict'>\n"
          ]
        },
        {
          "name": "stderr",
          "output_type": "stream",
          "text": [
            "\rEpoch 5/5:  78%|███████▊  | 102/130 [00:43<00:11,  2.37it/s]"
          ]
        },
        {
          "name": "stdout",
          "output_type": "stream",
          "text": [
            "Error loading /content/drive/MyDrive/archive (14)/Dataset_BUSI_with_GT/benign/benign (402).png: Unexpected type <class 'dict'>\n",
            "Error loading /content/drive/MyDrive/archive (14)/Dataset_BUSI_with_GT/malignant/malignant (12).png: Unexpected type <class 'dict'>\n",
            "Error loading /content/drive/MyDrive/archive (14)/Dataset_BUSI_with_GT/benign/benign (279).png: img should be PIL Image. Got <class 'dict'>\n",
            "Error loading /content/drive/MyDrive/archive (14)/Dataset_BUSI_with_GT/benign/benign (111).png: img should be PIL Image. Got <class 'dict'>\n"
          ]
        },
        {
          "name": "stderr",
          "output_type": "stream",
          "text": [
            "\rEpoch 5/5:  79%|███████▉  | 103/130 [00:43<00:10,  2.49it/s]"
          ]
        },
        {
          "name": "stdout",
          "output_type": "stream",
          "text": [
            "Error loading /content/drive/MyDrive/archive (14)/Dataset_BUSI_with_GT/malignant/malignant (199).png: img should be PIL Image. Got <class 'dict'>\n",
            "Error loading /content/drive/MyDrive/archive (14)/Dataset_BUSI_with_GT/malignant/malignant (152).png: img should be PIL Image. Got <class 'dict'>\n",
            "Error loading /content/drive/MyDrive/archive (14)/Dataset_BUSI_with_GT/benign/benign (156).png: img should be PIL Image. Got <class 'dict'>\n"
          ]
        },
        {
          "name": "stderr",
          "output_type": "stream",
          "text": [
            "\rEpoch 5/5:  80%|████████  | 104/130 [00:44<00:10,  2.38it/s]"
          ]
        },
        {
          "name": "stdout",
          "output_type": "stream",
          "text": [
            "Error loading /content/drive/MyDrive/archive (14)/Dataset_BUSI_with_GT/malignant/malignant (198).png: Unexpected type <class 'dict'>\n",
            "Error loading /content/drive/MyDrive/archive (14)/Dataset_BUSI_with_GT/benign/benign (21).png: img should be PIL Image. Got <class 'dict'>\n",
            "Error loading /content/drive/MyDrive/archive (14)/Dataset_BUSI_with_GT/benign/benign (97).png: img should be PIL Image. Got <class 'dict'>\n",
            "Error loading /content/drive/MyDrive/archive (14)/Dataset_BUSI_with_GT/malignant/malignant (161).png: Unexpected type <class 'dict'>\n",
            "Error loading /content/drive/MyDrive/archive (14)/Dataset_BUSI_with_GT/benign/benign (105).png: Unexpected type <class 'dict'>\n"
          ]
        },
        {
          "name": "stderr",
          "output_type": "stream",
          "text": [
            "\rEpoch 5/5:  81%|████████  | 105/130 [00:44<00:10,  2.36it/s]"
          ]
        },
        {
          "name": "stdout",
          "output_type": "stream",
          "text": [
            "Error loading /content/drive/MyDrive/archive (14)/Dataset_BUSI_with_GT/benign/benign (193).png: img should be PIL Image. Got <class 'dict'>\n",
            "Error loading /content/drive/MyDrive/archive (14)/Dataset_BUSI_with_GT/benign/benign (173).png: Unexpected type <class 'dict'>\n",
            "Error loading /content/drive/MyDrive/archive (14)/Dataset_BUSI_with_GT/benign/benign (197).png: Unexpected type <class 'dict'>\n",
            "Error loading /content/drive/MyDrive/archive (14)/Dataset_BUSI_with_GT/benign/benign (126).png: img should be PIL Image. Got <class 'dict'>\n"
          ]
        },
        {
          "name": "stderr",
          "output_type": "stream",
          "text": [
            "\rEpoch 5/5:  82%|████████▏ | 106/130 [00:45<00:10,  2.34it/s]"
          ]
        },
        {
          "name": "stdout",
          "output_type": "stream",
          "text": [
            "Error loading /content/drive/MyDrive/archive (14)/Dataset_BUSI_with_GT/benign/benign (327).png: Unexpected type <class 'dict'>\n",
            "Error loading /content/drive/MyDrive/archive (14)/Dataset_BUSI_with_GT/benign/benign (333).png: Unexpected type <class 'dict'>\n",
            "Error loading /content/drive/MyDrive/archive (14)/Dataset_BUSI_with_GT/malignant/malignant (170).png: Unexpected type <class 'dict'>\n",
            "Error loading /content/drive/MyDrive/archive (14)/Dataset_BUSI_with_GT/benign/benign (283).png: Unexpected type <class 'dict'>\n"
          ]
        },
        {
          "name": "stderr",
          "output_type": "stream",
          "text": [
            "\rEpoch 5/5:  82%|████████▏ | 107/130 [00:45<00:09,  2.33it/s]"
          ]
        },
        {
          "name": "stdout",
          "output_type": "stream",
          "text": [
            "Error loading /content/drive/MyDrive/archive (14)/Dataset_BUSI_with_GT/malignant/malignant (66).png: Unexpected type <class 'dict'>\n",
            "Error loading /content/drive/MyDrive/archive (14)/Dataset_BUSI_with_GT/benign/benign (91).png: img should be PIL Image. Got <class 'dict'>\n",
            "Error loading /content/drive/MyDrive/archive (14)/Dataset_BUSI_with_GT/benign/benign (46).png: Unexpected type <class 'dict'>\n",
            "Error loading /content/drive/MyDrive/archive (14)/Dataset_BUSI_with_GT/malignant/malignant (92).png: img should be PIL Image. Got <class 'dict'>\n"
          ]
        },
        {
          "name": "stderr",
          "output_type": "stream",
          "text": [
            "\rEpoch 5/5:  83%|████████▎ | 108/130 [00:46<00:09,  2.32it/s]"
          ]
        },
        {
          "name": "stdout",
          "output_type": "stream",
          "text": [
            "Error loading /content/drive/MyDrive/archive (14)/Dataset_BUSI_with_GT/benign/benign (55).png: img should be PIL Image. Got <class 'dict'>\n",
            "Error loading /content/drive/MyDrive/archive (14)/Dataset_BUSI_with_GT/benign/benign (266).png: img should be PIL Image. Got <class 'dict'>\n",
            "Error loading /content/drive/MyDrive/archive (14)/Dataset_BUSI_with_GT/benign/benign (434).png: img should be PIL Image. Got <class 'dict'>\n",
            "Error loading /content/drive/MyDrive/archive (14)/Dataset_BUSI_with_GT/malignant/malignant (144).png: img should be PIL Image. Got <class 'dict'>\n"
          ]
        },
        {
          "name": "stderr",
          "output_type": "stream",
          "text": [
            "\rEpoch 5/5:  84%|████████▍ | 109/130 [00:46<00:08,  2.35it/s]"
          ]
        },
        {
          "name": "stdout",
          "output_type": "stream",
          "text": [
            "Error loading /content/drive/MyDrive/archive (14)/Dataset_BUSI_with_GT/benign/benign (51).png: Unexpected type <class 'dict'>\n",
            "Error loading /content/drive/MyDrive/archive (14)/Dataset_BUSI_with_GT/malignant/malignant (176).png: Unexpected type <class 'dict'>\n",
            "Error loading /content/drive/MyDrive/archive (14)/Dataset_BUSI_with_GT/benign/benign (151).png: Unexpected type <class 'dict'>\n",
            "Error loading /content/drive/MyDrive/archive (14)/Dataset_BUSI_with_GT/benign/benign (320).png: Unexpected type <class 'dict'>\n"
          ]
        },
        {
          "name": "stderr",
          "output_type": "stream",
          "text": [
            "\rEpoch 5/5:  85%|████████▍ | 110/130 [00:46<00:08,  2.44it/s]"
          ]
        },
        {
          "name": "stdout",
          "output_type": "stream",
          "text": [
            "Error loading /content/drive/MyDrive/archive (14)/Dataset_BUSI_with_GT/benign/benign (67).png: img should be PIL Image. Got <class 'dict'>\n",
            "Error loading /content/drive/MyDrive/archive (14)/Dataset_BUSI_with_GT/benign/benign (314).png: Unexpected type <class 'dict'>\n",
            "Error loading /content/drive/MyDrive/archive (14)/Dataset_BUSI_with_GT/benign/benign (290).png: Unexpected type <class 'dict'>\n",
            "Error loading /content/drive/MyDrive/archive (14)/Dataset_BUSI_with_GT/benign/benign (60).png: Unexpected type <class 'dict'>\n"
          ]
        },
        {
          "name": "stderr",
          "output_type": "stream",
          "text": [
            "\rEpoch 5/5:  85%|████████▌ | 111/130 [00:47<00:07,  2.45it/s]"
          ]
        },
        {
          "name": "stdout",
          "output_type": "stream",
          "text": [
            "Error loading /content/drive/MyDrive/archive (14)/Dataset_BUSI_with_GT/benign/benign (95).png: Unexpected type <class 'dict'>\n",
            "Error loading /content/drive/MyDrive/archive (14)/Dataset_BUSI_with_GT/benign/benign (161).png: img should be PIL Image. Got <class 'dict'>\n",
            "Error loading /content/drive/MyDrive/archive (14)/Dataset_BUSI_with_GT/malignant/malignant (128).png: img should be PIL Image. Got <class 'dict'>\n",
            "Error loading /content/drive/MyDrive/archive (14)/Dataset_BUSI_with_GT/benign/benign (107).png: img should be PIL Image. Got <class 'dict'>\n"
          ]
        },
        {
          "name": "stderr",
          "output_type": "stream",
          "text": [
            "\rEpoch 5/5:  86%|████████▌ | 112/130 [00:47<00:07,  2.45it/s]"
          ]
        },
        {
          "name": "stdout",
          "output_type": "stream",
          "text": [
            "Error loading /content/drive/MyDrive/archive (14)/Dataset_BUSI_with_GT/malignant/malignant (123).png: img should be PIL Image. Got <class 'dict'>\n",
            "Error loading /content/drive/MyDrive/archive (14)/Dataset_BUSI_with_GT/malignant/malignant (78).png: img should be PIL Image. Got <class 'dict'>\n",
            "Error loading /content/drive/MyDrive/archive (14)/Dataset_BUSI_with_GT/benign/benign (8).png: img should be PIL Image. Got <class 'dict'>\n",
            "Error loading /content/drive/MyDrive/archive (14)/Dataset_BUSI_with_GT/benign/benign (418).png: Unexpected type <class 'dict'>\n"
          ]
        },
        {
          "name": "stderr",
          "output_type": "stream",
          "text": [
            "\rEpoch 5/5:  87%|████████▋ | 113/130 [00:48<00:06,  2.47it/s]"
          ]
        },
        {
          "name": "stdout",
          "output_type": "stream",
          "text": [
            "Error loading /content/drive/MyDrive/archive (14)/Dataset_BUSI_with_GT/benign/benign (34).png: img should be PIL Image. Got <class 'dict'>\n",
            "Error loading /content/drive/MyDrive/archive (14)/Dataset_BUSI_with_GT/benign/benign (48).png: Unexpected type <class 'dict'>\n",
            "Error loading /content/drive/MyDrive/archive (14)/Dataset_BUSI_with_GT/benign/benign (200).png: Unexpected type <class 'dict'>\n",
            "Error loading /content/drive/MyDrive/archive (14)/Dataset_BUSI_with_GT/benign/benign (401).png: img should be PIL Image. Got <class 'dict'>\n"
          ]
        },
        {
          "name": "stderr",
          "output_type": "stream",
          "text": [
            "\rEpoch 5/5:  88%|████████▊ | 114/130 [00:48<00:06,  2.45it/s]"
          ]
        },
        {
          "name": "stdout",
          "output_type": "stream",
          "text": [
            "Error loading /content/drive/MyDrive/archive (14)/Dataset_BUSI_with_GT/malignant/malignant (65).png: img should be PIL Image. Got <class 'dict'>\n",
            "Error loading /content/drive/MyDrive/archive (14)/Dataset_BUSI_with_GT/benign/benign (115).png: Unexpected type <class 'dict'>\n",
            "Error loading /content/drive/MyDrive/archive (14)/Dataset_BUSI_with_GT/malignant/malignant (103).png: Unexpected type <class 'dict'>\n",
            "Error loading /content/drive/MyDrive/archive (14)/Dataset_BUSI_with_GT/benign/benign (366).png: img should be PIL Image. Got <class 'dict'>\n"
          ]
        },
        {
          "name": "stderr",
          "output_type": "stream",
          "text": [
            "\rEpoch 5/5:  88%|████████▊ | 115/130 [00:48<00:06,  2.45it/s]"
          ]
        },
        {
          "name": "stdout",
          "output_type": "stream",
          "text": [
            "Error loading /content/drive/MyDrive/archive (14)/Dataset_BUSI_with_GT/malignant/malignant (49).png: Unexpected type <class 'dict'>\n",
            "Error loading /content/drive/MyDrive/archive (14)/Dataset_BUSI_with_GT/malignant/malignant (51).png: Unexpected type <class 'dict'>\n",
            "Error loading /content/drive/MyDrive/archive (14)/Dataset_BUSI_with_GT/benign/benign (286).png: img should be PIL Image. Got <class 'dict'>\n",
            "Error loading /content/drive/MyDrive/archive (14)/Dataset_BUSI_with_GT/malignant/malignant (146).png: Unexpected type <class 'dict'>\n"
          ]
        },
        {
          "name": "stderr",
          "output_type": "stream",
          "text": [
            "\rEpoch 5/5:  89%|████████▉ | 116/130 [00:49<00:05,  2.50it/s]"
          ]
        },
        {
          "name": "stdout",
          "output_type": "stream",
          "text": [
            "Error loading /content/drive/MyDrive/archive (14)/Dataset_BUSI_with_GT/benign/benign (268).png: Unexpected type <class 'dict'>\n",
            "Error loading /content/drive/MyDrive/archive (14)/Dataset_BUSI_with_GT/benign/benign (191).png: Unexpected type <class 'dict'>\n",
            "Error loading /content/drive/MyDrive/archive (14)/Dataset_BUSI_with_GT/malignant/malignant (171).png: Unexpected type <class 'dict'>\n",
            "Error loading /content/drive/MyDrive/archive (14)/Dataset_BUSI_with_GT/malignant/malignant (151).png: img should be PIL Image. Got <class 'dict'>\n"
          ]
        },
        {
          "name": "stderr",
          "output_type": "stream",
          "text": [
            "\rEpoch 5/5:  90%|█████████ | 117/130 [00:49<00:05,  2.56it/s]"
          ]
        },
        {
          "name": "stdout",
          "output_type": "stream",
          "text": [
            "Error loading /content/drive/MyDrive/archive (14)/Dataset_BUSI_with_GT/benign/benign (13).png: img should be PIL Image. Got <class 'dict'>\n",
            "Error loading /content/drive/MyDrive/archive (14)/Dataset_BUSI_with_GT/benign/benign (363).png: Unexpected type <class 'dict'>\n",
            "Error loading /content/drive/MyDrive/archive (14)/Dataset_BUSI_with_GT/benign/benign (227).png: Unexpected type <class 'dict'>\n",
            "Error loading /content/drive/MyDrive/archive (14)/Dataset_BUSI_with_GT/benign/benign (102).png: img should be PIL Image. Got <class 'dict'>\n"
          ]
        },
        {
          "name": "stderr",
          "output_type": "stream",
          "text": [
            "\rEpoch 5/5:  91%|█████████ | 118/130 [00:50<00:04,  2.53it/s]"
          ]
        },
        {
          "name": "stdout",
          "output_type": "stream",
          "text": [
            "Error loading /content/drive/MyDrive/archive (14)/Dataset_BUSI_with_GT/benign/benign (16).png: img should be PIL Image. Got <class 'dict'>\n",
            "Error loading /content/drive/MyDrive/archive (14)/Dataset_BUSI_with_GT/benign/benign (159).png: img should be PIL Image. Got <class 'dict'>\n",
            "Error loading /content/drive/MyDrive/archive (14)/Dataset_BUSI_with_GT/malignant/malignant (102).png: img should be PIL Image. Got <class 'dict'>\n",
            "Error loading /content/drive/MyDrive/archive (14)/Dataset_BUSI_with_GT/benign/benign (224).png: img should be PIL Image. Got <class 'dict'>\n"
          ]
        },
        {
          "name": "stderr",
          "output_type": "stream",
          "text": [
            "\rEpoch 5/5:  92%|█████████▏| 119/130 [00:50<00:04,  2.46it/s]"
          ]
        },
        {
          "name": "stdout",
          "output_type": "stream",
          "text": [
            "Error loading /content/drive/MyDrive/archive (14)/Dataset_BUSI_with_GT/benign/benign (299).png: Unexpected type <class 'dict'>\n",
            "Error loading /content/drive/MyDrive/archive (14)/Dataset_BUSI_with_GT/malignant/malignant (46).png: img should be PIL Image. Got <class 'dict'>\n",
            "Error loading /content/drive/MyDrive/archive (14)/Dataset_BUSI_with_GT/benign/benign (68).png: img should be PIL Image. Got <class 'dict'>\n",
            "Error loading /content/drive/MyDrive/archive (14)/Dataset_BUSI_with_GT/malignant/malignant (208).png: Unexpected type <class 'dict'>\n"
          ]
        },
        {
          "name": "stderr",
          "output_type": "stream",
          "text": [
            "\rEpoch 5/5:  92%|█████████▏| 120/130 [00:50<00:04,  2.41it/s]"
          ]
        },
        {
          "name": "stdout",
          "output_type": "stream",
          "text": [
            "Error loading /content/drive/MyDrive/archive (14)/Dataset_BUSI_with_GT/benign/benign (88).png: img should be PIL Image. Got <class 'dict'>\n",
            "Error loading /content/drive/MyDrive/archive (14)/Dataset_BUSI_with_GT/benign/benign (354).png: img should be PIL Image. Got <class 'dict'>\n",
            "Error loading /content/drive/MyDrive/archive (14)/Dataset_BUSI_with_GT/benign/benign (203).png: Unexpected type <class 'dict'>\n"
          ]
        },
        {
          "name": "stderr",
          "output_type": "stream",
          "text": [
            "\rEpoch 5/5:  93%|█████████▎| 121/130 [00:51<00:03,  2.31it/s]"
          ]
        },
        {
          "name": "stdout",
          "output_type": "stream",
          "text": [
            "Error loading /content/drive/MyDrive/archive (14)/Dataset_BUSI_with_GT/benign/benign (69).png: img should be PIL Image. Got <class 'dict'>\n",
            "Error loading /content/drive/MyDrive/archive (14)/Dataset_BUSI_with_GT/benign/benign (188).png: img should be PIL Image. Got <class 'dict'>\n",
            "Error loading /content/drive/MyDrive/archive (14)/Dataset_BUSI_with_GT/malignant/malignant (31).png: Unexpected type <class 'dict'>\n",
            "Error loading /content/drive/MyDrive/archive (14)/Dataset_BUSI_with_GT/benign/benign (90).png: Unexpected type <class 'dict'>\n",
            "Error loading /content/drive/MyDrive/archive (14)/Dataset_BUSI_with_GT/benign/benign (42).png: Unexpected type <class 'dict'>\n"
          ]
        },
        {
          "name": "stderr",
          "output_type": "stream",
          "text": [
            "\rEpoch 5/5:  94%|█████████▍| 122/130 [00:51<00:03,  2.29it/s]"
          ]
        },
        {
          "name": "stdout",
          "output_type": "stream",
          "text": [
            "Error loading /content/drive/MyDrive/archive (14)/Dataset_BUSI_with_GT/malignant/malignant (143).png: Unexpected type <class 'dict'>\n",
            "Error loading /content/drive/MyDrive/archive (14)/Dataset_BUSI_with_GT/benign/benign (412).png: img should be PIL Image. Got <class 'dict'>\n",
            "Error loading /content/drive/MyDrive/archive (14)/Dataset_BUSI_with_GT/benign/benign (343).png: img should be PIL Image. Got <class 'dict'>\n"
          ]
        },
        {
          "name": "stderr",
          "output_type": "stream",
          "text": [
            "\rEpoch 5/5:  95%|█████████▍| 123/130 [00:52<00:03,  2.16it/s]"
          ]
        },
        {
          "name": "stdout",
          "output_type": "stream",
          "text": [
            "Error loading /content/drive/MyDrive/archive (14)/Dataset_BUSI_with_GT/benign/benign (427).png: Unexpected type <class 'dict'>\n",
            "Error loading /content/drive/MyDrive/archive (14)/Dataset_BUSI_with_GT/benign/benign (160).png: Unexpected type <class 'dict'>\n",
            "Error loading /content/drive/MyDrive/archive (14)/Dataset_BUSI_with_GT/benign/benign (119).png: img should be PIL Image. Got <class 'dict'>\n",
            "Error loading /content/drive/MyDrive/archive (14)/Dataset_BUSI_with_GT/benign/benign (14).png: img should be PIL Image. Got <class 'dict'>\n"
          ]
        },
        {
          "name": "stderr",
          "output_type": "stream",
          "text": [
            "\rEpoch 5/5:  95%|█████████▌| 124/130 [00:52<00:02,  2.04it/s]"
          ]
        },
        {
          "name": "stdout",
          "output_type": "stream",
          "text": [
            "Error loading /content/drive/MyDrive/archive (14)/Dataset_BUSI_with_GT/benign/benign (424).png: img should be PIL Image. Got <class 'dict'>\n",
            "Error loading /content/drive/MyDrive/archive (14)/Dataset_BUSI_with_GT/benign/benign (17).png: img should be PIL Image. Got <class 'dict'>\n",
            "Error loading /content/drive/MyDrive/archive (14)/Dataset_BUSI_with_GT/benign/benign (154).png: Unexpected type <class 'dict'>\n",
            "Error loading /content/drive/MyDrive/archive (14)/Dataset_BUSI_with_GT/benign/benign (260).png: Unexpected type <class 'dict'>\n",
            "Error loading /content/drive/MyDrive/archive (14)/Dataset_BUSI_with_GT/benign/benign (158).png: img should be PIL Image. Got <class 'dict'>\n"
          ]
        },
        {
          "name": "stderr",
          "output_type": "stream",
          "text": [
            "\rEpoch 5/5:  96%|█████████▌| 125/130 [00:53<00:02,  2.11it/s]"
          ]
        },
        {
          "name": "stdout",
          "output_type": "stream",
          "text": [
            "Error loading /content/drive/MyDrive/archive (14)/Dataset_BUSI_with_GT/benign/benign (289).png: Unexpected type <class 'dict'>\n",
            "Error loading /content/drive/MyDrive/archive (14)/Dataset_BUSI_with_GT/benign/benign (391).png: img should be PIL Image. Got <class 'dict'>\n",
            "Error loading /content/drive/MyDrive/archive (14)/Dataset_BUSI_with_GT/benign/benign (214).png: img should be PIL Image. Got <class 'dict'>\n"
          ]
        },
        {
          "name": "stderr",
          "output_type": "stream",
          "text": [
            "\rEpoch 5/5:  97%|█████████▋| 126/130 [00:53<00:01,  2.09it/s]"
          ]
        },
        {
          "name": "stdout",
          "output_type": "stream",
          "text": [
            "Error loading /content/drive/MyDrive/archive (14)/Dataset_BUSI_with_GT/benign/benign (243).png: Unexpected type <class 'dict'>\n",
            "Error loading /content/drive/MyDrive/archive (14)/Dataset_BUSI_with_GT/benign/benign (1).png: Unexpected type <class 'dict'>\n",
            "Error loading /content/drive/MyDrive/archive (14)/Dataset_BUSI_with_GT/malignant/malignant (200).png: img should be PIL Image. Got <class 'dict'>\n",
            "Error loading /content/drive/MyDrive/archive (14)/Dataset_BUSI_with_GT/benign/benign (206).png: img should be PIL Image. Got <class 'dict'>\n",
            "Error loading /content/drive/MyDrive/archive (14)/Dataset_BUSI_with_GT/malignant/malignant (79).png: Unexpected type <class 'dict'>\n"
          ]
        },
        {
          "name": "stderr",
          "output_type": "stream",
          "text": [
            "\rEpoch 5/5:  98%|█████████▊| 127/130 [00:54<00:01,  2.12it/s]"
          ]
        },
        {
          "name": "stdout",
          "output_type": "stream",
          "text": [
            "Error loading /content/drive/MyDrive/archive (14)/Dataset_BUSI_with_GT/benign/benign (236).png: img should be PIL Image. Got <class 'dict'>\n",
            "Error loading /content/drive/MyDrive/archive (14)/Dataset_BUSI_with_GT/benign/benign (297).png: img should be PIL Image. Got <class 'dict'>\n",
            "Error loading /content/drive/MyDrive/archive (14)/Dataset_BUSI_with_GT/benign/benign (20).png: Unexpected type <class 'dict'>\n",
            "Error loading /content/drive/MyDrive/archive (14)/Dataset_BUSI_with_GT/benign/benign (306).png: img should be PIL Image. Got <class 'dict'>\n"
          ]
        },
        {
          "name": "stderr",
          "output_type": "stream",
          "text": [
            "\rEpoch 5/5:  98%|█████████▊| 128/130 [00:54<00:00,  2.15it/s]"
          ]
        },
        {
          "name": "stdout",
          "output_type": "stream",
          "text": [
            "Error loading /content/drive/MyDrive/archive (14)/Dataset_BUSI_with_GT/benign/benign (303).png: img should be PIL Image. Got <class 'dict'>\n",
            "Error loading /content/drive/MyDrive/archive (14)/Dataset_BUSI_with_GT/malignant/malignant (132).png: img should be PIL Image. Got <class 'dict'>\n",
            "Error loading /content/drive/MyDrive/archive (14)/Dataset_BUSI_with_GT/benign/benign (112).png: Unexpected type <class 'dict'>\n",
            "Error loading /content/drive/MyDrive/archive (14)/Dataset_BUSI_with_GT/benign/benign (265).png: Unexpected type <class 'dict'>\n"
          ]
        },
        {
          "name": "stderr",
          "output_type": "stream",
          "text": [
            "Epoch 5/5: 100%|██████████| 130/130 [00:55<00:00,  2.35it/s]\n"
          ]
        },
        {
          "name": "stdout",
          "output_type": "stream",
          "text": [
            "Error loading /content/drive/MyDrive/archive (14)/Dataset_BUSI_with_GT/benign/benign (392).png: img should be PIL Image. Got <class 'dict'>\n"
          ]
        },
        {
          "name": "stderr",
          "output_type": "stream",
          "text": [
            "\rEvaluating:   0%|          | 0/33 [00:00<?, ?it/s]"
          ]
        },
        {
          "name": "stdout",
          "output_type": "stream",
          "text": [
            "Error loading /content/drive/MyDrive/archive (14)/Dataset_BUSI_with_GT/benign/benign (22).png: Unexpected type <class 'dict'>\n",
            "Error loading /content/drive/MyDrive/archive (14)/Dataset_BUSI_with_GT/benign/benign (361).png: Unexpected type <class 'dict'>\n",
            "Error loading /content/drive/MyDrive/archive (14)/Dataset_BUSI_with_GT/malignant/malignant (192).png: Unexpected type <class 'dict'>\n",
            "Error loading /content/drive/MyDrive/archive (14)/Dataset_BUSI_with_GT/malignant/malignant (181).png: Unexpected type <class 'dict'>\n"
          ]
        },
        {
          "name": "stderr",
          "output_type": "stream",
          "text": [
            "\rEvaluating:   3%|▎         | 1/33 [00:00<00:11,  2.81it/s]"
          ]
        },
        {
          "name": "stdout",
          "output_type": "stream",
          "text": [
            "Error loading /content/drive/MyDrive/archive (14)/Dataset_BUSI_with_GT/malignant/malignant (41).png: Unexpected type <class 'dict'>\n",
            "Error loading /content/drive/MyDrive/archive (14)/Dataset_BUSI_with_GT/benign/benign (349).png: Unexpected type <class 'dict'>\n",
            "Error loading /content/drive/MyDrive/archive (14)/Dataset_BUSI_with_GT/benign/benign (12).png: Unexpected type <class 'dict'>\n",
            "Error loading /content/drive/MyDrive/archive (14)/Dataset_BUSI_with_GT/benign/benign (339).png: Unexpected type <class 'dict'>\n"
          ]
        },
        {
          "name": "stderr",
          "output_type": "stream",
          "text": [
            "\rEvaluating:   6%|▌         | 2/33 [00:00<00:10,  2.96it/s]"
          ]
        },
        {
          "name": "stdout",
          "output_type": "stream",
          "text": [
            "Error loading /content/drive/MyDrive/archive (14)/Dataset_BUSI_with_GT/benign/benign (317).png: img should be PIL Image. Got <class 'dict'>\n",
            "Error loading /content/drive/MyDrive/archive (14)/Dataset_BUSI_with_GT/malignant/malignant (34).png: img should be PIL Image. Got <class 'dict'>\n",
            "Error loading /content/drive/MyDrive/archive (14)/Dataset_BUSI_with_GT/malignant/malignant (9).png: img should be PIL Image. Got <class 'dict'>\n",
            "Error loading /content/drive/MyDrive/archive (14)/Dataset_BUSI_with_GT/benign/benign (6).png: Unexpected type <class 'dict'>\n"
          ]
        },
        {
          "name": "stderr",
          "output_type": "stream",
          "text": [
            "\rEvaluating:   9%|▉         | 3/33 [00:00<00:09,  3.06it/s]"
          ]
        },
        {
          "name": "stdout",
          "output_type": "stream",
          "text": [
            "Error loading /content/drive/MyDrive/archive (14)/Dataset_BUSI_with_GT/malignant/malignant (27).png: img should be PIL Image. Got <class 'dict'>\n",
            "Error loading /content/drive/MyDrive/archive (14)/Dataset_BUSI_with_GT/benign/benign (216).png: img should be PIL Image. Got <class 'dict'>\n",
            "Error loading /content/drive/MyDrive/archive (14)/Dataset_BUSI_with_GT/malignant/malignant (173).png: Unexpected type <class 'dict'>\n",
            "Error loading /content/drive/MyDrive/archive (14)/Dataset_BUSI_with_GT/benign/benign (35).png: img should be PIL Image. Got <class 'dict'>\n"
          ]
        },
        {
          "name": "stderr",
          "output_type": "stream",
          "text": [
            "\rEvaluating:  12%|█▏        | 4/33 [00:01<00:09,  3.11it/s]"
          ]
        },
        {
          "name": "stdout",
          "output_type": "stream",
          "text": [
            "Error loading /content/drive/MyDrive/archive (14)/Dataset_BUSI_with_GT/benign/benign (103).png: Unexpected type <class 'dict'>\n",
            "Error loading /content/drive/MyDrive/archive (14)/Dataset_BUSI_with_GT/malignant/malignant (47).png: img should be PIL Image. Got <class 'dict'>\n",
            "Error loading /content/drive/MyDrive/archive (14)/Dataset_BUSI_with_GT/benign/benign (186).png: img should be PIL Image. Got <class 'dict'>\n",
            "Error loading /content/drive/MyDrive/archive (14)/Dataset_BUSI_with_GT/benign/benign (145).png: img should be PIL Image. Got <class 'dict'>\n"
          ]
        },
        {
          "name": "stderr",
          "output_type": "stream",
          "text": [
            "\rEvaluating:  15%|█▌        | 5/33 [00:01<00:09,  2.92it/s]"
          ]
        },
        {
          "name": "stdout",
          "output_type": "stream",
          "text": [
            "Error loading /content/drive/MyDrive/archive (14)/Dataset_BUSI_with_GT/benign/benign (380).png: Unexpected type <class 'dict'>\n",
            "Error loading /content/drive/MyDrive/archive (14)/Dataset_BUSI_with_GT/benign/benign (130).png: img should be PIL Image. Got <class 'dict'>\n",
            "Error loading /content/drive/MyDrive/archive (14)/Dataset_BUSI_with_GT/benign/benign (73).png: img should be PIL Image. Got <class 'dict'>\n",
            "Error loading /content/drive/MyDrive/archive (14)/Dataset_BUSI_with_GT/benign/benign (201).png: img should be PIL Image. Got <class 'dict'>\n"
          ]
        },
        {
          "name": "stderr",
          "output_type": "stream",
          "text": [
            "\rEvaluating:  18%|█▊        | 6/33 [00:02<00:09,  2.92it/s]"
          ]
        },
        {
          "name": "stdout",
          "output_type": "stream",
          "text": [
            "Error loading /content/drive/MyDrive/archive (14)/Dataset_BUSI_with_GT/benign/benign (298).png: img should be PIL Image. Got <class 'dict'>\n",
            "Error loading /content/drive/MyDrive/archive (14)/Dataset_BUSI_with_GT/malignant/malignant (11).png: img should be PIL Image. Got <class 'dict'>\n",
            "Error loading /content/drive/MyDrive/archive (14)/Dataset_BUSI_with_GT/benign/benign (204).png: Unexpected type <class 'dict'>\n",
            "Error loading /content/drive/MyDrive/archive (14)/Dataset_BUSI_with_GT/benign/benign (114).png: img should be PIL Image. Got <class 'dict'>\n"
          ]
        },
        {
          "name": "stderr",
          "output_type": "stream",
          "text": [
            "\rEvaluating:  21%|██        | 7/33 [00:02<00:08,  3.00it/s]"
          ]
        },
        {
          "name": "stdout",
          "output_type": "stream",
          "text": [
            "Error loading /content/drive/MyDrive/archive (14)/Dataset_BUSI_with_GT/malignant/malignant (42).png: Unexpected type <class 'dict'>\n",
            "Error loading /content/drive/MyDrive/archive (14)/Dataset_BUSI_with_GT/malignant/malignant (72).png: img should be PIL Image. Got <class 'dict'>\n",
            "Error loading /content/drive/MyDrive/archive (14)/Dataset_BUSI_with_GT/benign/benign (422).png: img should be PIL Image. Got <class 'dict'>\n",
            "Error loading /content/drive/MyDrive/archive (14)/Dataset_BUSI_with_GT/benign/benign (288).png: img should be PIL Image. Got <class 'dict'>\n"
          ]
        },
        {
          "name": "stderr",
          "output_type": "stream",
          "text": [
            "\rEvaluating:  24%|██▍       | 8/33 [00:02<00:08,  2.94it/s]"
          ]
        },
        {
          "name": "stdout",
          "output_type": "stream",
          "text": [
            "Error loading /content/drive/MyDrive/archive (14)/Dataset_BUSI_with_GT/benign/benign (335).png: Unexpected type <class 'dict'>\n",
            "Error loading /content/drive/MyDrive/archive (14)/Dataset_BUSI_with_GT/benign/benign (202).png: img should be PIL Image. Got <class 'dict'>\n",
            "Error loading /content/drive/MyDrive/archive (14)/Dataset_BUSI_with_GT/benign/benign (319).png: Unexpected type <class 'dict'>\n",
            "Error loading /content/drive/MyDrive/archive (14)/Dataset_BUSI_with_GT/malignant/malignant (175).png: img should be PIL Image. Got <class 'dict'>\n"
          ]
        },
        {
          "name": "stderr",
          "output_type": "stream",
          "text": [
            "\rEvaluating:  27%|██▋       | 9/33 [00:03<00:08,  2.94it/s]"
          ]
        },
        {
          "name": "stdout",
          "output_type": "stream",
          "text": [
            "Error loading /content/drive/MyDrive/archive (14)/Dataset_BUSI_with_GT/malignant/malignant (194).png: img should be PIL Image. Got <class 'dict'>\n",
            "Error loading /content/drive/MyDrive/archive (14)/Dataset_BUSI_with_GT/benign/benign (365).png: img should be PIL Image. Got <class 'dict'>\n",
            "Error loading /content/drive/MyDrive/archive (14)/Dataset_BUSI_with_GT/benign/benign (106).png: img should be PIL Image. Got <class 'dict'>\n",
            "Error loading /content/drive/MyDrive/archive (14)/Dataset_BUSI_with_GT/benign/benign (293).png: img should be PIL Image. Got <class 'dict'>\n"
          ]
        },
        {
          "name": "stderr",
          "output_type": "stream",
          "text": [
            "\rEvaluating:  30%|███       | 10/33 [00:03<00:08,  2.78it/s]"
          ]
        },
        {
          "name": "stdout",
          "output_type": "stream",
          "text": [
            "Error loading /content/drive/MyDrive/archive (14)/Dataset_BUSI_with_GT/benign/benign (421).png: img should be PIL Image. Got <class 'dict'>\n",
            "Error loading /content/drive/MyDrive/archive (14)/Dataset_BUSI_with_GT/malignant/malignant (1).png: img should be PIL Image. Got <class 'dict'>\n",
            "Error loading /content/drive/MyDrive/archive (14)/Dataset_BUSI_with_GT/benign/benign (215).png: img should be PIL Image. Got <class 'dict'>\n",
            "Error loading /content/drive/MyDrive/archive (14)/Dataset_BUSI_with_GT/malignant/malignant (35).png: img should be PIL Image. Got <class 'dict'>\n"
          ]
        },
        {
          "name": "stderr",
          "output_type": "stream",
          "text": [
            "\rEvaluating:  33%|███▎      | 11/33 [00:03<00:07,  2.88it/s]"
          ]
        },
        {
          "name": "stdout",
          "output_type": "stream",
          "text": [
            "Error loading /content/drive/MyDrive/archive (14)/Dataset_BUSI_with_GT/benign/benign (9).png: Unexpected type <class 'dict'>\n",
            "Error loading /content/drive/MyDrive/archive (14)/Dataset_BUSI_with_GT/benign/benign (94).png: img should be PIL Image. Got <class 'dict'>\n",
            "Error loading /content/drive/MyDrive/archive (14)/Dataset_BUSI_with_GT/benign/benign (49).png: Unexpected type <class 'dict'>\n",
            "Error loading /content/drive/MyDrive/archive (14)/Dataset_BUSI_with_GT/malignant/malignant (134).png: img should be PIL Image. Got <class 'dict'>\n"
          ]
        },
        {
          "name": "stderr",
          "output_type": "stream",
          "text": [
            "\rEvaluating:  36%|███▋      | 12/33 [00:04<00:07,  2.71it/s]"
          ]
        },
        {
          "name": "stdout",
          "output_type": "stream",
          "text": [
            "Error loading /content/drive/MyDrive/archive (14)/Dataset_BUSI_with_GT/malignant/malignant (15).png: img should be PIL Image. Got <class 'dict'>\n",
            "Error loading /content/drive/MyDrive/archive (14)/Dataset_BUSI_with_GT/benign/benign (263).png: img should be PIL Image. Got <class 'dict'>\n",
            "Error loading /content/drive/MyDrive/archive (14)/Dataset_BUSI_with_GT/benign/benign (172).png: Unexpected type <class 'dict'>\n",
            "Error loading /content/drive/MyDrive/archive (14)/Dataset_BUSI_with_GT/malignant/malignant (114).png: Unexpected type <class 'dict'>\n"
          ]
        },
        {
          "name": "stderr",
          "output_type": "stream",
          "text": [
            "\rEvaluating:  39%|███▉      | 13/33 [00:04<00:07,  2.82it/s]"
          ]
        },
        {
          "name": "stdout",
          "output_type": "stream",
          "text": [
            "Error loading /content/drive/MyDrive/archive (14)/Dataset_BUSI_with_GT/malignant/malignant (147).png: img should be PIL Image. Got <class 'dict'>\n",
            "Error loading /content/drive/MyDrive/archive (14)/Dataset_BUSI_with_GT/benign/benign (341).png: img should be PIL Image. Got <class 'dict'>\n",
            "Error loading /content/drive/MyDrive/archive (14)/Dataset_BUSI_with_GT/benign/benign (176).png: img should be PIL Image. Got <class 'dict'>\n",
            "Error loading /content/drive/MyDrive/archive (14)/Dataset_BUSI_with_GT/malignant/malignant (52).png: img should be PIL Image. Got <class 'dict'>\n"
          ]
        },
        {
          "name": "stderr",
          "output_type": "stream",
          "text": [
            "\rEvaluating:  42%|████▏     | 14/33 [00:04<00:06,  2.84it/s]"
          ]
        },
        {
          "name": "stdout",
          "output_type": "stream",
          "text": [
            "Error loading /content/drive/MyDrive/archive (14)/Dataset_BUSI_with_GT/benign/benign (142).png: img should be PIL Image. Got <class 'dict'>\n",
            "Error loading /content/drive/MyDrive/archive (14)/Dataset_BUSI_with_GT/benign/benign (410).png: Unexpected type <class 'dict'>\n",
            "Error loading /content/drive/MyDrive/archive (14)/Dataset_BUSI_with_GT/malignant/malignant (204).png: img should be PIL Image. Got <class 'dict'>\n"
          ]
        },
        {
          "name": "stderr",
          "output_type": "stream",
          "text": [
            "\rEvaluating:  45%|████▌     | 15/33 [00:05<00:06,  2.70it/s]"
          ]
        },
        {
          "name": "stdout",
          "output_type": "stream",
          "text": [
            "Error loading /content/drive/MyDrive/archive (14)/Dataset_BUSI_with_GT/benign/benign (389).png: img should be PIL Image. Got <class 'dict'>\n",
            "Error loading /content/drive/MyDrive/archive (14)/Dataset_BUSI_with_GT/benign/benign (305).png: img should be PIL Image. Got <class 'dict'>\n",
            "Error loading /content/drive/MyDrive/archive (14)/Dataset_BUSI_with_GT/malignant/malignant (206).png: Unexpected type <class 'dict'>\n",
            "Error loading /content/drive/MyDrive/archive (14)/Dataset_BUSI_with_GT/benign/benign (311).png: Unexpected type <class 'dict'>\n",
            "Error loading /content/drive/MyDrive/archive (14)/Dataset_BUSI_with_GT/malignant/malignant (68).png: Unexpected type <class 'dict'>\n"
          ]
        },
        {
          "name": "stderr",
          "output_type": "stream",
          "text": [
            "\rEvaluating:  48%|████▊     | 16/33 [00:05<00:06,  2.75it/s]"
          ]
        },
        {
          "name": "stdout",
          "output_type": "stream",
          "text": [
            "Error loading /content/drive/MyDrive/archive (14)/Dataset_BUSI_with_GT/benign/benign (256).png: img should be PIL Image. Got <class 'dict'>\n",
            "Error loading /content/drive/MyDrive/archive (14)/Dataset_BUSI_with_GT/malignant/malignant (59).png: Unexpected type <class 'dict'>\n",
            "Error loading /content/drive/MyDrive/archive (14)/Dataset_BUSI_with_GT/benign/benign (364).png: Unexpected type <class 'dict'>\n",
            "Error loading /content/drive/MyDrive/archive (14)/Dataset_BUSI_with_GT/malignant/malignant (83).png: img should be PIL Image. Got <class 'dict'>\n"
          ]
        },
        {
          "name": "stderr",
          "output_type": "stream",
          "text": [
            "\rEvaluating:  52%|█████▏    | 17/33 [00:05<00:05,  2.77it/s]"
          ]
        },
        {
          "name": "stdout",
          "output_type": "stream",
          "text": [
            "Error loading /content/drive/MyDrive/archive (14)/Dataset_BUSI_with_GT/benign/benign (435).png: Unexpected type <class 'dict'>\n",
            "Error loading /content/drive/MyDrive/archive (14)/Dataset_BUSI_with_GT/benign/benign (3).png: img should be PIL Image. Got <class 'dict'>\n",
            "Error loading /content/drive/MyDrive/archive (14)/Dataset_BUSI_with_GT/malignant/malignant (172).png: img should be PIL Image. Got <class 'dict'>\n",
            "Error loading /content/drive/MyDrive/archive (14)/Dataset_BUSI_with_GT/malignant/malignant (122).png: Unexpected type <class 'dict'>\n"
          ]
        },
        {
          "name": "stderr",
          "output_type": "stream",
          "text": [
            "\rEvaluating:  55%|█████▍    | 18/33 [00:06<00:05,  2.86it/s]"
          ]
        },
        {
          "name": "stdout",
          "output_type": "stream",
          "text": [
            "Error loading /content/drive/MyDrive/archive (14)/Dataset_BUSI_with_GT/malignant/malignant (57).png: Unexpected type <class 'dict'>\n",
            "Error loading /content/drive/MyDrive/archive (14)/Dataset_BUSI_with_GT/benign/benign (175).png: Unexpected type <class 'dict'>\n",
            "Error loading /content/drive/MyDrive/archive (14)/Dataset_BUSI_with_GT/malignant/malignant (2).png: Unexpected type <class 'dict'>\n",
            "Error loading /content/drive/MyDrive/archive (14)/Dataset_BUSI_with_GT/benign/benign (345).png: img should be PIL Image. Got <class 'dict'>\n"
          ]
        },
        {
          "name": "stderr",
          "output_type": "stream",
          "text": [
            "\rEvaluating:  58%|█████▊    | 19/33 [00:06<00:04,  2.81it/s]"
          ]
        },
        {
          "name": "stdout",
          "output_type": "stream",
          "text": [
            "Error loading /content/drive/MyDrive/archive (14)/Dataset_BUSI_with_GT/benign/benign (251).png: Unexpected type <class 'dict'>\n",
            "Error loading /content/drive/MyDrive/archive (14)/Dataset_BUSI_with_GT/benign/benign (403).png: Unexpected type <class 'dict'>\n",
            "Error loading /content/drive/MyDrive/archive (14)/Dataset_BUSI_with_GT/malignant/malignant (84).png: img should be PIL Image. Got <class 'dict'>\n",
            "Error loading /content/drive/MyDrive/archive (14)/Dataset_BUSI_with_GT/benign/benign (344).png: img should be PIL Image. Got <class 'dict'>\n"
          ]
        },
        {
          "name": "stderr",
          "output_type": "stream",
          "text": [
            "\rEvaluating:  61%|██████    | 20/33 [00:06<00:04,  2.90it/s]"
          ]
        },
        {
          "name": "stdout",
          "output_type": "stream",
          "text": [
            "Error loading /content/drive/MyDrive/archive (14)/Dataset_BUSI_with_GT/benign/benign (132).png: Unexpected type <class 'dict'>\n",
            "Error loading /content/drive/MyDrive/archive (14)/Dataset_BUSI_with_GT/benign/benign (383).png: img should be PIL Image. Got <class 'dict'>\n",
            "Error loading /content/drive/MyDrive/archive (14)/Dataset_BUSI_with_GT/malignant/malignant (38).png: Unexpected type <class 'dict'>\n",
            "Error loading /content/drive/MyDrive/archive (14)/Dataset_BUSI_with_GT/malignant/malignant (4).png: Unexpected type <class 'dict'>\n"
          ]
        },
        {
          "name": "stderr",
          "output_type": "stream",
          "text": [
            "\rEvaluating:  64%|██████▎   | 21/33 [00:07<00:04,  2.86it/s]"
          ]
        },
        {
          "name": "stdout",
          "output_type": "stream",
          "text": [
            "Error loading /content/drive/MyDrive/archive (14)/Dataset_BUSI_with_GT/benign/benign (153).png: Unexpected type <class 'dict'>\n",
            "Error loading /content/drive/MyDrive/archive (14)/Dataset_BUSI_with_GT/benign/benign (18).png: img should be PIL Image. Got <class 'dict'>\n",
            "Error loading /content/drive/MyDrive/archive (14)/Dataset_BUSI_with_GT/benign/benign (295).png: img should be PIL Image. Got <class 'dict'>\n",
            "Error loading /content/drive/MyDrive/archive (14)/Dataset_BUSI_with_GT/benign/benign (43).png: Unexpected type <class 'dict'>\n"
          ]
        },
        {
          "name": "stderr",
          "output_type": "stream",
          "text": [
            "\rEvaluating:  67%|██████▋   | 22/33 [00:07<00:03,  2.88it/s]"
          ]
        },
        {
          "name": "stdout",
          "output_type": "stream",
          "text": [
            "Error loading /content/drive/MyDrive/archive (14)/Dataset_BUSI_with_GT/benign/benign (249).png: img should be PIL Image. Got <class 'dict'>\n",
            "Error loading /content/drive/MyDrive/archive (14)/Dataset_BUSI_with_GT/benign/benign (218).png: Unexpected type <class 'dict'>\n",
            "Error loading /content/drive/MyDrive/archive (14)/Dataset_BUSI_with_GT/benign/benign (2).png: img should be PIL Image. Got <class 'dict'>\n",
            "Error loading /content/drive/MyDrive/archive (14)/Dataset_BUSI_with_GT/malignant/malignant (180).png: Unexpected type <class 'dict'>\n"
          ]
        },
        {
          "name": "stderr",
          "output_type": "stream",
          "text": [
            "\rEvaluating:  70%|██████▉   | 23/33 [00:07<00:03,  2.97it/s]"
          ]
        },
        {
          "name": "stdout",
          "output_type": "stream",
          "text": [
            "Error loading /content/drive/MyDrive/archive (14)/Dataset_BUSI_with_GT/benign/benign (347).png: Unexpected type <class 'dict'>\n",
            "Error loading /content/drive/MyDrive/archive (14)/Dataset_BUSI_with_GT/benign/benign (304).png: Unexpected type <class 'dict'>\n",
            "Error loading /content/drive/MyDrive/archive (14)/Dataset_BUSI_with_GT/benign/benign (292).png: img should be PIL Image. Got <class 'dict'>\n",
            "Error loading /content/drive/MyDrive/archive (14)/Dataset_BUSI_with_GT/benign/benign (324).png: img should be PIL Image. Got <class 'dict'>\n"
          ]
        },
        {
          "name": "stderr",
          "output_type": "stream",
          "text": [
            "\rEvaluating:  73%|███████▎  | 24/33 [00:08<00:03,  2.98it/s]"
          ]
        },
        {
          "name": "stdout",
          "output_type": "stream",
          "text": [
            "Error loading /content/drive/MyDrive/archive (14)/Dataset_BUSI_with_GT/benign/benign (276).png: img should be PIL Image. Got <class 'dict'>\n",
            "Error loading /content/drive/MyDrive/archive (14)/Dataset_BUSI_with_GT/benign/benign (136).png: img should be PIL Image. Got <class 'dict'>\n",
            "Error loading /content/drive/MyDrive/archive (14)/Dataset_BUSI_with_GT/malignant/malignant (186).png: img should be PIL Image. Got <class 'dict'>\n",
            "Error loading /content/drive/MyDrive/archive (14)/Dataset_BUSI_with_GT/benign/benign (312).png: img should be PIL Image. Got <class 'dict'>\n"
          ]
        },
        {
          "name": "stderr",
          "output_type": "stream",
          "text": [
            "\rEvaluating:  76%|███████▌  | 25/33 [00:08<00:02,  2.89it/s]"
          ]
        },
        {
          "name": "stdout",
          "output_type": "stream",
          "text": [
            "Error loading /content/drive/MyDrive/archive (14)/Dataset_BUSI_with_GT/benign/benign (179).png: Unexpected type <class 'dict'>\n",
            "Error loading /content/drive/MyDrive/archive (14)/Dataset_BUSI_with_GT/benign/benign (257).png: img should be PIL Image. Got <class 'dict'>\n",
            "Error loading /content/drive/MyDrive/archive (14)/Dataset_BUSI_with_GT/benign/benign (334).png: Unexpected type <class 'dict'>\n",
            "Error loading /content/drive/MyDrive/archive (14)/Dataset_BUSI_with_GT/benign/benign (177).png: img should be PIL Image. Got <class 'dict'>\n"
          ]
        },
        {
          "name": "stderr",
          "output_type": "stream",
          "text": [
            "\rEvaluating:  79%|███████▉  | 26/33 [00:09<00:02,  2.99it/s]"
          ]
        },
        {
          "name": "stdout",
          "output_type": "stream",
          "text": [
            "Error loading /content/drive/MyDrive/archive (14)/Dataset_BUSI_with_GT/benign/benign (128).png: Unexpected type <class 'dict'>\n",
            "Error loading /content/drive/MyDrive/archive (14)/Dataset_BUSI_with_GT/malignant/malignant (6).png: img should be PIL Image. Got <class 'dict'>\n",
            "Error loading /content/drive/MyDrive/archive (14)/Dataset_BUSI_with_GT/malignant/malignant (190).png: Unexpected type <class 'dict'>\n",
            "Error loading /content/drive/MyDrive/archive (14)/Dataset_BUSI_with_GT/benign/benign (134).png: img should be PIL Image. Got <class 'dict'>\n"
          ]
        },
        {
          "name": "stderr",
          "output_type": "stream",
          "text": [
            "\rEvaluating:  82%|████████▏ | 27/33 [00:09<00:01,  3.08it/s]"
          ]
        },
        {
          "name": "stdout",
          "output_type": "stream",
          "text": [
            "Error loading /content/drive/MyDrive/archive (14)/Dataset_BUSI_with_GT/malignant/malignant (81).png: img should be PIL Image. Got <class 'dict'>\n",
            "Error loading /content/drive/MyDrive/archive (14)/Dataset_BUSI_with_GT/benign/benign (72).png: img should be PIL Image. Got <class 'dict'>\n",
            "Error loading /content/drive/MyDrive/archive (14)/Dataset_BUSI_with_GT/malignant/malignant (159).png: img should be PIL Image. Got <class 'dict'>\n",
            "Error loading /content/drive/MyDrive/archive (14)/Dataset_BUSI_with_GT/malignant/malignant (85).png: img should be PIL Image. Got <class 'dict'>\n"
          ]
        },
        {
          "name": "stderr",
          "output_type": "stream",
          "text": [
            "\rEvaluating:  85%|████████▍ | 28/33 [00:09<00:01,  2.95it/s]"
          ]
        },
        {
          "name": "stdout",
          "output_type": "stream",
          "text": [
            "Error loading /content/drive/MyDrive/archive (14)/Dataset_BUSI_with_GT/benign/benign (171).png: img should be PIL Image. Got <class 'dict'>\n",
            "Error loading /content/drive/MyDrive/archive (14)/Dataset_BUSI_with_GT/benign/benign (228).png: Unexpected type <class 'dict'>\n",
            "Error loading /content/drive/MyDrive/archive (14)/Dataset_BUSI_with_GT/malignant/malignant (80).png: Unexpected type <class 'dict'>\n"
          ]
        },
        {
          "name": "stderr",
          "output_type": "stream",
          "text": [
            "\rEvaluating:  88%|████████▊ | 29/33 [00:10<00:01,  2.68it/s]"
          ]
        },
        {
          "name": "stdout",
          "output_type": "stream",
          "text": [
            "Error loading /content/drive/MyDrive/archive (14)/Dataset_BUSI_with_GT/benign/benign (234).png: img should be PIL Image. Got <class 'dict'>\n",
            "Error loading /content/drive/MyDrive/archive (14)/Dataset_BUSI_with_GT/benign/benign (167).png: img should be PIL Image. Got <class 'dict'>\n",
            "Error loading /content/drive/MyDrive/archive (14)/Dataset_BUSI_with_GT/malignant/malignant (182).png: img should be PIL Image. Got <class 'dict'>\n",
            "Error loading /content/drive/MyDrive/archive (14)/Dataset_BUSI_with_GT/benign/benign (59).png: img should be PIL Image. Got <class 'dict'>\n"
          ]
        },
        {
          "name": "stderr",
          "output_type": "stream",
          "text": [
            "\rEvaluating:  91%|█████████ | 30/33 [00:10<00:01,  2.46it/s]"
          ]
        },
        {
          "name": "stdout",
          "output_type": "stream",
          "text": [
            "Error loading /content/drive/MyDrive/archive (14)/Dataset_BUSI_with_GT/benign/benign (38).png: Unexpected type <class 'dict'>\n",
            "Error loading /content/drive/MyDrive/archive (14)/Dataset_BUSI_with_GT/benign/benign (250).png: Unexpected type <class 'dict'>\n",
            "Error loading /content/drive/MyDrive/archive (14)/Dataset_BUSI_with_GT/benign/benign (302).png: Unexpected type <class 'dict'>\n",
            "Error loading /content/drive/MyDrive/archive (14)/Dataset_BUSI_with_GT/malignant/malignant (154).png: Unexpected type <class 'dict'>\n",
            "Error loading /content/drive/MyDrive/archive (14)/Dataset_BUSI_with_GT/malignant/malignant (50).png: img should be PIL Image. Got <class 'dict'>\n"
          ]
        },
        {
          "name": "stderr",
          "output_type": "stream",
          "text": [
            "\rEvaluating:  94%|█████████▍| 31/33 [00:11<00:00,  2.41it/s]"
          ]
        },
        {
          "name": "stdout",
          "output_type": "stream",
          "text": [
            "Error loading /content/drive/MyDrive/archive (14)/Dataset_BUSI_with_GT/benign/benign (109).png: Unexpected type <class 'dict'>\n",
            "Error loading /content/drive/MyDrive/archive (14)/Dataset_BUSI_with_GT/benign/benign (82).png: Unexpected type <class 'dict'>\n",
            "Error loading /content/drive/MyDrive/archive (14)/Dataset_BUSI_with_GT/benign/benign (373).png: img should be PIL Image. Got <class 'dict'>\n"
          ]
        },
        {
          "name": "stderr",
          "output_type": "stream",
          "text": [
            "\rEvaluating:  97%|█████████▋| 32/33 [00:11<00:00,  2.32it/s]"
          ]
        },
        {
          "name": "stdout",
          "output_type": "stream",
          "text": [
            "Error loading /content/drive/MyDrive/archive (14)/Dataset_BUSI_with_GT/malignant/malignant (39).png: Unexpected type <class 'dict'>\n"
          ]
        },
        {
          "name": "stderr",
          "output_type": "stream",
          "text": [
            "Evaluating: 100%|██████████| 33/33 [00:11<00:00,  2.80it/s]"
          ]
        },
        {
          "name": "stdout",
          "output_type": "stream",
          "text": [
            "Error loading /content/drive/MyDrive/archive (14)/Dataset_BUSI_with_GT/benign/benign (233).png: img should be PIL Image. Got <class 'dict'>\n",
            "Error loading /content/drive/MyDrive/archive (14)/Dataset_BUSI_with_GT/benign/benign (356).png: img should be PIL Image. Got <class 'dict'>\n",
            "Best Threshold: 0.3, IoU: 1.0000\n",
            "Epoch 5/5, Loss: 0.7529, Val IoU: 1.0000\n"
          ]
        },
        {
          "name": "stderr",
          "output_type": "stream",
          "text": [
            "\n"
          ]
        },
        {
          "name": "stdout",
          "output_type": "stream",
          "text": [
            "\n",
            "Final model saved to 'breast_ultrasound_final_model.pth'\n",
            "\n",
            "\n",
            "Training and evaluation complete!\n"
          ]
        }
      ],
      "source": [
        "#iou 1 # trying attention unet\n",
        "import torch\n",
        "import torch.nn as nn\n",
        "import torch.optim as optim\n",
        "import torch.nn.functional as F\n",
        "from torch.utils.data import DataLoader, Dataset\n",
        "import os\n",
        "import numpy as np\n",
        "import matplotlib.pyplot as plt\n",
        "from google.colab import drive\n",
        "from tqdm import tqdm\n",
        "from skimage.io import imread\n",
        "from skimage import img_as_float\n",
        "from scipy import signal\n",
        "from numpy import pad\n",
        "from sklearn.metrics import precision_recall_fscore_support\n",
        "from torchvision import transforms\n",
        "from scipy.ndimage import binary_closing\n",
        "\n",
        "device = torch.device(\"cuda\" if torch.cuda.is_available() else \"cpu\")\n",
        "print(f\"Using device: {device}\")\n",
        "\n",
        "drive.mount('/content/drive')\n",
        "\n",
        "# ### Feature: Explore files - List contents of Google Drive to understand dataset location (Screenshot 1)\n",
        "print(\"\\nContents of /content/drive/MyDrive:\")\n",
        "try:\n",
        "    print(os.listdir(\"/content/drive/MyDrive\"))\n",
        "except Exception as e:\n",
        "    print(f\"Error listing drive contents: {e}\")\n",
        "\n",
        "# ### Feature: Understand the data - Prompt user for dataset path to ensure correct data is used (Screenshot 1)\n",
        "correct_path_found = False\n",
        "while not correct_path_found:\n",
        "    dataset_path = input(\"\\nPlease enter the full path to your dataset folder (or 'quit' to exit): \")\n",
        "    if dataset_path.lower() == 'quit':\n",
        "        raise FileNotFoundError(\"Please manually check your Google Drive and update the path in the code.\")\n",
        "    if os.path.exists(dataset_path):\n",
        "        print(f\"\\nFound dataset at: {dataset_path}\")\n",
        "        print(f\"Contents of dataset folder: {os.listdir(dataset_path)}\")\n",
        "        correct_path_found = True\n",
        "    else:\n",
        "        print(f\"\\nPath {dataset_path} not found. Please try again.\")\n",
        "\n",
        "image_dirs = [\n",
        "    os.path.join(dataset_path, 'benign'),\n",
        "    os.path.join(dataset_path, 'malignant'),\n",
        "    os.path.join(dataset_path, 'normal')\n",
        "]\n",
        "\n",
        "# ### Feature: Explore files - Inspect folder structure, image formats, and annotation files (Screenshot 1)\n",
        "for directory in image_dirs:\n",
        "    if os.path.exists(directory):\n",
        "        print(f\"Found directory: {directory}\")\n",
        "        img_count = len([f for f in os.listdir(directory) if f.endswith('.png') and '_mask' not in f])\n",
        "        mask_count = len([f for f in os.listdir(directory) if f.endswith('_mask.png')])\n",
        "        print(f\"  Contains {img_count} images and {mask_count} masks\")\n",
        "    else:\n",
        "        print(f\"Warning: Directory {directory} not found\")\n",
        "\n",
        "# ### Feature: Preprocess images - Noise reduction using Gaussian filter (Screenshot 1)\n",
        "def gaussian_kernel(width=1, size=5):\n",
        "    x = np.linspace(-size // 2, size // 2, size)\n",
        "    gaussian1d = np.exp(-0.5 * (x / width) ** 2)\n",
        "    gaussian1d /= np.sum(gaussian1d)\n",
        "    kernel = np.outer(gaussian1d, gaussian1d)\n",
        "    return kernel / np.sum(kernel)\n",
        "\n",
        "def apply_filter(image, kernel):\n",
        "    pad_width = ((kernel.shape[0] // 2, kernel.shape[0] // 2),\n",
        "                 (kernel.shape[1] // 2, kernel.shape[1] // 2))\n",
        "    padded_img = pad(image, pad_width, mode='reflect')\n",
        "    filtered = signal.convolve2d(padded_img, kernel, mode='valid', boundary='symm')\n",
        "    return filtered\n",
        "\n",
        "# ### Feature: Preprocess images - Resize images to 256x256 (Screenshot 1)\n",
        "def resize_image(image, target_size=(256, 256)):\n",
        "    h, w = image.shape\n",
        "    new_h, new_w = target_size\n",
        "    i_coords = np.linspace(0, h - 1, new_h, dtype=np.float32)\n",
        "    j_coords = np.linspace(0, w - 1, new_w, dtype=np.float32)\n",
        "    i_indices = np.round(i_coords).astype(np.int32)\n",
        "    j_indices = np.round(j_coords).astype(np.int32)\n",
        "    i_indices = np.clip(i_indices, 0, h - 1)\n",
        "    j_indices = np.clip(j_indices, 0, w - 1)\n",
        "    resized = image[i_indices][:, j_indices]\n",
        "    return resized\n",
        "\n",
        "# ### Feature: Preprocess images - Normalize pixel values (Screenshot 1)\n",
        "def normalize_image(image):\n",
        "    return image / image.max() if image.max() != 0 else image\n",
        "\n",
        "# ### Feature: Parse and verify lesion masks and image-level labels with augmentation (Screenshot 1)\n",
        "class BreastUltrasoundDataset(Dataset):\n",
        "    def __init__(self, image_dirs, transform=None):\n",
        "        self.transform = transform or transforms.Compose([\n",
        "            transforms.RandomHorizontalFlip(p=0.5),\n",
        "            transforms.RandomRotation(15),\n",
        "            transforms.ColorJitter(brightness=0.2, contrast=0.2),\n",
        "        ])\n",
        "        self.samples = []\n",
        "        for label_idx, label_dir in enumerate(image_dirs):\n",
        "            if not os.path.exists(label_dir):\n",
        "                print(f\"Warning: Directory {label_dir} not found\")\n",
        "                continue\n",
        "            try:\n",
        "                images = [f for f in sorted(os.listdir(label_dir))\n",
        "                         if f.endswith('.png') and '_mask' not in f]\n",
        "                for img_name in images:\n",
        "                    img_path = os.path.join(label_dir, img_name)\n",
        "                    mask_path = os.path.join(label_dir, img_name.replace('.png', '_mask.png'))\n",
        "                    if os.path.exists(mask_path):\n",
        "                        mask = img_as_float(imread(mask_path))\n",
        "                        if mask.ndim == 3:\n",
        "                            mask = img_as_float(np.mean(mask, axis=2))\n",
        "                        if np.max(mask) > 0:\n",
        "                            self.samples.append((img_path, mask_path, label_idx))\n",
        "                        else:\n",
        "                            print(f\"Skipping sample with empty mask: {mask_path}\")\n",
        "                    else:\n",
        "                        print(f\"Warning: Missing mask for {img_path}\")\n",
        "            except Exception as e:\n",
        "                print(f\"Error processing {label_dir}: {str(e)}\")\n",
        "        if not self.samples:\n",
        "            raise RuntimeError(\"No valid image-mask pairs found in dataset directories\")\n",
        "        print(f\"\\nDataset successfully initialized with {len(self.samples)} valid samples (BUSI dataset with speckle noise)\")\n",
        "\n",
        "    def __len__(self):\n",
        "        return len(self.samples)\n",
        "\n",
        "    def __getitem__(self, idx):\n",
        "        img_path, mask_path, label = self.samples[idx]\n",
        "        try:\n",
        "            img = img_as_float(imread(img_path))\n",
        "            if img.ndim == 3:\n",
        "                img = img_as_float(np.mean(img, axis=2))\n",
        "            mask = img_as_float(imread(mask_path))\n",
        "            if mask.ndim == 3:\n",
        "                mask = img_as_float(np.mean(mask, axis=2))\n",
        "            gaussian_kern = gaussian_kernel(width=1, size=5)\n",
        "            img = apply_filter(img, gaussian_kern)\n",
        "            img = resize_image(img, target_size=(256, 256))\n",
        "            mask = resize_image(mask, target_size=(256, 256))\n",
        "            img = normalize_image(img)\n",
        "            mask = (mask > 0.5).astype(np.float32)\n",
        "\n",
        "            # Apply augmentation\n",
        "            if self.transform:\n",
        "                img_tensor = torch.tensor(img[np.newaxis, :, :], dtype=torch.float32)\n",
        "                mask_tensor = torch.tensor(mask[np.newaxis, :, :], dtype=torch.float32)\n",
        "                augmented = self.transform({\"image\": img_tensor, \"mask\": mask_tensor})\n",
        "                img = augmented[\"image\"].squeeze(0).numpy()\n",
        "                mask = augmented[\"mask\"].squeeze(0).numpy()\n",
        "\n",
        "            img_rgb = np.stack([img, img, img], axis=-1)\n",
        "            mask = np.expand_dims(mask, axis=-1)\n",
        "            sample = {\n",
        "                'image': torch.tensor(img_rgb, dtype=torch.float32).permute(2, 0, 1),\n",
        "                'mask': torch.tensor(mask, dtype=torch.float32).permute(2, 0, 1),\n",
        "                'label': torch.tensor(label, dtype=torch.long)\n",
        "            }\n",
        "            return sample\n",
        "        except Exception as e:\n",
        "            print(f\"Error loading {img_path}: {str(e)}\")\n",
        "            return {\n",
        "                'image': torch.zeros((3, 256, 256), dtype=torch.float32),\n",
        "                'mask': torch.zeros((1, 256, 256), dtype=torch.float32),\n",
        "                'label': torch.tensor(label, dtype=torch.long)\n",
        "            }\n",
        "\n",
        "# ### Loss Function: Weighted Dice + BCE Loss with class weighting\n",
        "def dice_bce_loss(pred, target, smooth=1e-5, weight=0.8):\n",
        "    pred = torch.sigmoid(pred)\n",
        "    bce = F.binary_cross_entropy(pred, target)\n",
        "    intersection = (pred * target).sum()\n",
        "    union = pred.sum() + target.sum() - intersection\n",
        "    dice = 1 - (2. * intersection + smooth) / (union + smooth)\n",
        "    # Class weight for foreground (assuming mask imbalance)\n",
        "    weight_map = target * 2 + 1  # Weight 2 for foreground, 1 for background\n",
        "    weighted_bce = (weight_map * (target * torch.log(pred + smooth) + (1 - target) * torch.log(1 - pred + smooth))).mean()\n",
        "    return weight * dice + (1 - weight) * (-weighted_bce)\n",
        "\n",
        "# ### Model Design: Attention U-Net with Residual Connections\n",
        "class AttentionGate(nn.Module):\n",
        "    def __init__(self, F_g, F_l, F_int):\n",
        "        super(AttentionGate, self).__init__()\n",
        "        self.W_g = nn.Sequential(\n",
        "            nn.Conv2d(F_g, F_int, kernel_size=1, stride=1, padding=0),\n",
        "            nn.BatchNorm2d(F_int)\n",
        "        )\n",
        "        self.W_x = nn.Sequential(\n",
        "            nn.Conv2d(F_l, F_int, kernel_size=1, stride=1, padding=0),\n",
        "            nn.BatchNorm2d(F_int)\n",
        "        )\n",
        "        self.psi = nn.Sequential(\n",
        "            nn.Conv2d(F_int, 1, kernel_size=1, stride=1, padding=0),\n",
        "            nn.BatchNorm2d(1),\n",
        "            nn.Sigmoid()\n",
        "        )\n",
        "        self.relu = nn.ReLU(inplace=True)\n",
        "\n",
        "    def forward(self, g, x):\n",
        "        g1 = self.W_g(g)\n",
        "        x1 = self.W_x(x)\n",
        "        psi = self.relu(g1 + x1)\n",
        "        psi = self.psi(psi)\n",
        "        return x * psi\n",
        "\n",
        "class MultiTaskAttentionUNet(nn.Module):\n",
        "    def __init__(self, in_channels=3, out_channels_seg=1, num_classes_class=3):\n",
        "        super(MultiTaskAttentionUNet, self).__init__()\n",
        "\n",
        "        # Encoder 1\n",
        "        self.enc1_conv1 = nn.Conv2d(in_channels, 64, 3, padding=1)\n",
        "        self.enc1_conv2 = nn.Conv2d(64, 64, 3, padding=1)\n",
        "        self.enc1_bn1 = nn.BatchNorm2d(64)\n",
        "        self.enc1_bn2 = nn.BatchNorm2d(64)\n",
        "        self.pool1 = nn.MaxPool2d(2, 2)\n",
        "\n",
        "        # Encoder 2\n",
        "        self.enc2_conv1 = nn.Conv2d(64, 128, 3, padding=1)\n",
        "        self.enc2_conv2 = nn.Conv2d(128, 128, 3, padding=1)\n",
        "        self.enc2_bn1 = nn.BatchNorm2d(128)\n",
        "        self.enc2_bn2 = nn.BatchNorm2d(128)\n",
        "        self.pool2 = nn.MaxPool2d(2, 2)\n",
        "\n",
        "        # Encoder 3\n",
        "        self.enc3_conv1 = nn.Conv2d(128, 256, 3, padding=1)\n",
        "        self.enc3_conv2 = nn.Conv2d(256, 256, 3, padding=1)\n",
        "        self.enc3_bn1 = nn.BatchNorm2d(256)\n",
        "        self.enc3_bn2 = nn.BatchNorm2d(256)\n",
        "        self.pool3 = nn.MaxPool2d(2, 2)\n",
        "\n",
        "        # Bottleneck\n",
        "        self.bottleneck_conv1 = nn.Conv2d(256, 512, 3, padding=1)\n",
        "        self.bottleneck_conv2 = nn.Conv2d(512, 512, 3, padding=1)\n",
        "        self.bottleneck_bn1 = nn.BatchNorm2d(512)\n",
        "        self.bottleneck_bn2 = nn.BatchNorm2d(512)\n",
        "        self.dropout = nn.Dropout(0.3)\n",
        "\n",
        "        # Decoder 3\n",
        "        self.upconv3 = nn.ConvTranspose2d(512, 256, 2, stride=2)\n",
        "        self.dec3_conv1 = nn.Conv2d(512, 256, 3, padding=1)  # 512 because of concatenation\n",
        "        self.dec3_conv2 = nn.Conv2d(256, 256, 3, padding=1)\n",
        "        self.dec3_bn1 = nn.BatchNorm2d(256)\n",
        "        self.dec3_bn2 = nn.BatchNorm2d(256)\n",
        "        self.att3 = AttentionGate(F_g=256, F_l=256, F_int=128)\n",
        "\n",
        "        # Decoder 2\n",
        "        self.upconv2 = nn.ConvTranspose2d(256, 128, 2, stride=2)\n",
        "        self.dec2_conv1 = nn.Conv2d(256, 128, 3, padding=1)  # 256 because of concatenation\n",
        "        self.dec2_conv2 = nn.Conv2d(128, 128, 3, padding=1)\n",
        "        self.dec2_bn1 = nn.BatchNorm2d(128)\n",
        "        self.dec2_bn2 = nn.BatchNorm2d(128)\n",
        "        self.att2 = AttentionGate(F_g=128, F_l=128, F_int=64)\n",
        "\n",
        "        # Decoder 1\n",
        "        self.upconv1 = nn.ConvTranspose2d(128, 64, 2, stride=2)\n",
        "        self.dec1_conv1 = nn.Conv2d(128, 64, 3, padding=1)  # 128 because of concatenation\n",
        "        self.dec1_conv2 = nn.Conv2d(64, out_channels_seg, 3, padding=1)\n",
        "        self.dec1_bn1 = nn.BatchNorm2d(64)\n",
        "        self.att1 = AttentionGate(F_g=64, F_l=64, F_int=32)\n",
        "\n",
        "        # Classifier\n",
        "        self.classifier = nn.Sequential(\n",
        "            nn.AdaptiveAvgPool2d(1),\n",
        "            nn.Flatten(),\n",
        "            nn.Linear(512, 256),  # Changed from 2048 to match bottleneck\n",
        "            nn.ReLU(),\n",
        "            nn.Dropout(0.5),\n",
        "            nn.Linear(256, num_classes_class)\n",
        "        )\n",
        "\n",
        "    def forward(self, x):\n",
        "        # Encoder 1\n",
        "        enc1 = F.relu(self.enc1_bn1(self.enc1_conv1(x)))\n",
        "        enc1 = F.relu(self.enc1_bn2(self.enc1_conv2(enc1)) + enc1)\n",
        "        pool1 = self.pool1(enc1)\n",
        "\n",
        "        # Encoder 2\n",
        "        enc2 = F.relu(self.enc2_bn1(self.enc2_conv1(pool1)))\n",
        "        enc2 = F.relu(self.enc2_bn2(self.enc2_conv2(enc2)) + enc2)\n",
        "        pool2 = self.pool2(enc2)\n",
        "\n",
        "        # Encoder 3\n",
        "        enc3 = F.relu(self.enc3_bn1(self.enc3_conv1(pool2)))\n",
        "        enc3 = F.relu(self.enc3_bn2(self.enc3_conv2(enc3)) + enc3)\n",
        "        pool3 = self.pool3(enc3)\n",
        "\n",
        "        # Bottleneck\n",
        "        bottleneck = F.relu(self.bottleneck_bn1(self.bottleneck_conv1(pool3)))\n",
        "        bottleneck = F.relu(self.bottleneck_bn2(self.bottleneck_conv2(bottleneck)) + bottleneck)\n",
        "        bottleneck = self.dropout(bottleneck)\n",
        "\n",
        "        # Decoder 3 with attention\n",
        "        up3 = self.upconv3(bottleneck)\n",
        "        att3 = self.att3(g=up3, x=enc3)\n",
        "        dec3_input = torch.cat([up3, att3], dim=1)\n",
        "        dec3 = F.relu(self.dec3_bn1(self.dec3_conv1(dec3_input)))\n",
        "        dec3 = F.relu(self.dec3_bn2(self.dec3_conv2(dec3)) + dec3)\n",
        "\n",
        "        # Decoder 2 with attention\n",
        "        up2 = self.upconv2(dec3)\n",
        "        att2 = self.att2(g=up2, x=enc2)\n",
        "        dec2_input = torch.cat([up2, att2], dim=1)\n",
        "        dec2 = F.relu(self.dec2_bn1(self.dec2_conv1(dec2_input)))\n",
        "        dec2 = F.relu(self.dec2_bn2(self.dec2_conv2(dec2)) + dec2)\n",
        "\n",
        "        # Decoder 1 with attention\n",
        "        up1 = self.upconv1(dec2)\n",
        "        att1 = self.att1(g=up1, x=enc1)\n",
        "        dec1_input = torch.cat([up1, att1], dim=1)\n",
        "        dec1 = F.relu(self.dec1_bn1(self.dec1_conv1(dec1_input)))\n",
        "        seg_out = self.dec1_conv2(dec1)\n",
        "\n",
        "        # Classification\n",
        "        cls_out = self.classifier(bottleneck)\n",
        "\n",
        "        return seg_out, cls_out\n",
        "# ### Evaluation Metrics: IoU, Dice, Precision, Recall with post-processing\n",
        "def evaluate(model, loader, threshold=0.5, return_metrics=False):\n",
        "    model.eval()\n",
        "    total_loss = 0.0\n",
        "    total_seg_loss = 0.0\n",
        "    total_cls_loss = 0.0\n",
        "    total_dice = 0.0\n",
        "    total_iou = 0.0\n",
        "    total_pixel_acc = 0.0\n",
        "    total_correct = 0\n",
        "    total_samples = 0\n",
        "    all_preds = []\n",
        "    all_labels = []\n",
        "    smooth = 1e-5\n",
        "    structure = np.ones((3, 3))  # For morphological closing\n",
        "\n",
        "    with torch.no_grad():\n",
        "        for batch in tqdm(loader, desc=\"Evaluating\"):\n",
        "            if batch is None:\n",
        "                continue\n",
        "            images = batch['image'].to(device)\n",
        "            masks = batch['mask'].to(device)\n",
        "            labels = batch['label'].to(device)\n",
        "            seg_pred, cls_pred = model(images)\n",
        "            loss, seg_loss, cls_loss = combined_loss(seg_pred, masks, cls_pred, labels)\n",
        "            total_loss += loss.item()\n",
        "            total_seg_loss += seg_loss\n",
        "            total_cls_loss += cls_loss\n",
        "\n",
        "            # Test multiple thresholds for IoU optimization\n",
        "            best_iou = 0.0\n",
        "            best_threshold = threshold\n",
        "            for th in [0.3, 0.4, 0.5, 0.6, 0.7]:\n",
        "                seg_pred_binary = (torch.sigmoid(seg_pred) > th).float().cpu().numpy()\n",
        "                for i in range(seg_pred_binary.shape[0]):\n",
        "                    seg_pred_binary[i, 0] = binary_closing(seg_pred_binary[i, 0], structure=structure).astype(np.float32)\n",
        "                seg_pred_binary = torch.tensor(seg_pred_binary).to(device)\n",
        "\n",
        "                intersection = (seg_pred_binary * masks).sum()\n",
        "                union = seg_pred_binary.sum() + masks.sum() - intersection\n",
        "                iou = (intersection + smooth) / (union + smooth)\n",
        "                if iou.item() > best_iou:\n",
        "                    best_iou = iou.item()\n",
        "                    best_threshold = th\n",
        "            seg_pred_binary = (torch.sigmoid(seg_pred) > best_threshold).float().cpu().numpy()\n",
        "            for i in range(seg_pred_binary.shape[0]):\n",
        "                seg_pred_binary[i, 0] = binary_closing(seg_pred_binary[i, 0], structure=structure).astype(np.float32)\n",
        "            seg_pred_binary = torch.tensor(seg_pred_binary).to(device)\n",
        "\n",
        "            intersection = (seg_pred_binary * masks).sum()\n",
        "            union = seg_pred_binary.sum() + masks.sum() - intersection\n",
        "            iou = (intersection + smooth) / (union + smooth)\n",
        "            total_iou += iou.item()\n",
        "\n",
        "            dice = (2. * intersection + smooth) / (seg_pred_binary.sum() + masks.sum() + smooth)\n",
        "            total_dice += dice.item()\n",
        "\n",
        "            pixel_acc = (seg_pred_binary == masks).float().mean()\n",
        "            total_pixel_acc += pixel_acc.item()\n",
        "\n",
        "            cls_pred_labels = cls_pred.argmax(dim=1)\n",
        "            total_correct += (cls_pred_labels == labels).sum().item()\n",
        "            total_samples += labels.size(0)\n",
        "            all_preds.extend(cls_pred_labels.cpu().numpy())\n",
        "            all_labels.extend(labels.cpu().numpy())\n",
        "\n",
        "    avg_loss = total_loss / len(loader)\n",
        "    avg_seg = total_seg_loss / len(loader)\n",
        "    avg_cls = total_cls_loss / len(loader)\n",
        "    avg_dice = total_dice / len(loader)\n",
        "    avg_iou = total_iou / len(loader)\n",
        "    avg_pixel_acc = total_pixel_acc / len(loader)\n",
        "    avg_acc = total_correct / total_samples\n",
        "    precision, recall, f1, _ = precision_recall_fscore_support(all_labels, all_preds, average='weighted', zero_division=0)\n",
        "\n",
        "    if return_metrics:\n",
        "        print(f\"Best Threshold: {best_threshold}, IoU: {avg_iou:.4f}\")\n",
        "        return avg_loss, avg_seg, avg_cls, avg_dice, avg_iou, avg_pixel_acc, avg_acc, precision, recall, f1\n",
        "    return avg_loss\n",
        "\n",
        "# ### Training Strategy: Optimization, Learning Rate Scheduling\n",
        "def combined_loss(seg_pred, seg_true, cls_pred, cls_true, seg_weight=0.7, cls_weight=0.3):\n",
        "    seg_loss = dice_bce_loss(seg_pred, seg_true)\n",
        "    cls_loss = F.cross_entropy(cls_pred, cls_true)\n",
        "    return seg_weight * seg_loss + cls_weight * cls_loss, seg_loss.item(), cls_loss.item()\n",
        "\n",
        "def train_model(model, train_loader, val_loader, optimizer, scheduler, epochs=5, threshold=0.5):\n",
        "    best_iou = 0.0\n",
        "    for epoch in range(epochs):\n",
        "        model.train()\n",
        "        total_loss = 0.0\n",
        "        total_seg_loss = 0.0\n",
        "        total_cls_loss = 0.0\n",
        "        for batch in tqdm(train_loader, desc=f\"Epoch {epoch+1}/{epochs}\"):\n",
        "            if batch is None:\n",
        "                continue\n",
        "            images = batch['image'].to(device)\n",
        "            masks = batch['mask'].to(device)\n",
        "            labels = batch['label'].to(device)\n",
        "            optimizer.zero_grad()\n",
        "            seg_pred, cls_pred = model(images)\n",
        "            loss, seg_loss, cls_loss = combined_loss(seg_pred, masks, cls_pred, labels)\n",
        "            loss.backward()\n",
        "            optimizer.step()\n",
        "            total_loss += loss.item()\n",
        "            total_seg_loss += seg_loss\n",
        "            total_cls_loss += cls_loss\n",
        "\n",
        "        # Validation\n",
        "        model.eval()\n",
        "        val_loss, _, _, _, val_iou, _, _, _, _, _ = evaluate(model, val_loader, threshold=threshold, return_metrics=True)\n",
        "        scheduler.step(val_loss)\n",
        "\n",
        "        if epoch % 5 == 0 or epoch == epochs - 1:\n",
        "            print(f\"Epoch {epoch+1}/{epochs}, Loss: {total_loss/len(train_loader):.4f}, Val IoU: {val_iou:.4f}\")\n",
        "            if val_iou > best_iou:\n",
        "                best_iou = val_iou\n",
        "                torch.save(model.state_dict(), 'best_model.pth')\n",
        "                print(f\"New best model saved with IoU: {best_iou:.4f}\")\n",
        "\n",
        "dataset = BreastUltrasoundDataset(image_dirs)\n",
        "train_size = int(0.8 * len(dataset))\n",
        "val_size = len(dataset) - train_size\n",
        "train_dataset, val_dataset = torch.utils.data.random_split(dataset, [train_size, val_size])\n",
        "\n",
        "train_loader = DataLoader(train_dataset, batch_size=4, shuffle=True)\n",
        "val_loader = DataLoader(val_dataset, batch_size=4, shuffle=False)\n",
        "\n",
        "model = MultiTaskAttentionUNet().to(device)\n",
        "optimizer = optim.AdamW(model.parameters(), lr=0.001, weight_decay=1e-5)\n",
        "scheduler = optim.lr_scheduler.ReduceLROnPlateau(optimizer, 'min', patience=2, verbose=True)\n",
        "\n",
        "train_model(model, train_loader, val_loader, optimizer, scheduler, epochs=5)\n",
        "\n",
        "torch.save({\n",
        "    'model_state_dict': model.state_dict(),\n",
        "    'optimizer_state_dict': optimizer.state_dict(),\n",
        "}, 'breast_ultrasound_final_model.pth')\n",
        "\n",
        "print(\"\\nFinal model saved to 'breast_ultrasound_final_model.pth'\\n\")\n",
        "print(\"\\nTraining and evaluation complete!\")"
      ]
    },
    {
      "cell_type": "code",
      "execution_count": null,
      "metadata": {
        "id": "afv_EMgJJefg"
      },
      "outputs": [],
      "source": []
    },
    {
      "cell_type": "code",
      "execution_count": null,
      "metadata": {
        "id": "EuHtyAHOJeb4"
      },
      "outputs": [],
      "source": []
    },
    {
      "cell_type": "code",
      "execution_count": null,
      "metadata": {
        "id": "lC2RzsKLJeZS"
      },
      "outputs": [],
      "source": []
    },
    {
      "cell_type": "code",
      "execution_count": null,
      "metadata": {
        "id": "qoLinOd2JeK8"
      },
      "outputs": [],
      "source": []
    }
  ],
  "metadata": {
    "accelerator": "GPU",
    "colab": {
      "gpuType": "T4",
      "provenance": []
    },
    "kernelspec": {
      "display_name": "Python 3",
      "name": "python3"
    },
    "language_info": {
      "name": "python"
    }
  },
  "nbformat": 4,
  "nbformat_minor": 0
}